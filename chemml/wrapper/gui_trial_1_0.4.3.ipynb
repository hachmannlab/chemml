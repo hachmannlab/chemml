{
 "cells": [
  {
   "cell_type": "code",
   "execution_count": 4,
   "metadata": {},
   "outputs": [
    {
     "data": {
      "application/vnd.jupyter.widget-view+json": {
       "model_id": "df6f9afb7d24459fb97edeca5aea0be5",
       "version_major": 2,
       "version_minor": 0
      },
      "text/plain": [
       "QWNjb3JkaW9uKGNoaWxkcmVuPShWQm94KGNoaWxkcmVuPShMYWJlbCh2YWx1ZT11J0Nob29zZSBob3cgdG8gc3RhcnQ6JywgbGF5b3V0PUxheW91dCh3aWR0aD11JzUwJScpKSwgVGFiKGNoaWzigKY=\n"
      ]
     },
     "metadata": {},
     "output_type": "display_data"
    },
    {
     "name": "stdout",
     "output_type": "stream",
     "text": [
      "The computation graph will be displayed here:\n"
     ]
    },
    {
     "data": {
      "application/vnd.jupyter.widget-view+json": {
       "model_id": "00d086cd423c47f0bde9b68142c0e6f8",
       "version_major": 2,
       "version_minor": 0
      },
      "text/plain": [
       "Image(value='')"
      ]
     },
     "metadata": {},
     "output_type": "display_data"
    },
    {
     "name": "stdout",
     "output_type": "stream",
     "text": [
      "{'Represent': {'molecular descriptors': {'cheml': ['BagofBonds', 'CoulombMatrix', 'Dragon', 'RDKitFingerprint']}, 'inorganic input': {'cheml': ['CompositionEntry', 'CrystalStructureEntry']}, 'distance matrix': {'cheml': ['DistanceMatrix']}, 'inorganic descriptors': {'cheml': ['APEAttributeGenerator', 'APRDFAttributeGenerator', 'ChargeDependentAttributeGenerator', 'ChemicalOrderingAttributeGenerator', 'CoordinationNumberAttributeGenerator', 'CoulombMatrixAttributeGenerator', 'EffectiveCoordinationNumberAttributeGenerator', 'ElementFractionAttributeGenerator', 'ElementPairPropertyAttributeGenerator', 'ElementalPropertyAttributeGenerator', 'GCLPAttributeGenerator', 'IonicCompoundProximityAttributeGenerator', 'IonicityAttributeGenerator', 'LatticeSimilarityAttributeGenerator', 'LocalPropertyDifferenceAttributeGenerator', 'LocalPropertyVarianceAttributeGenerator', 'MeredigAttributeGenerator', 'PRDFAttributeGenerator', 'PackingEfficiencyAttributeGenerator', 'StoichiometricAttributeGenerator', 'StructuralHeterogeneityAttributeGenerator', 'ValenceShellAttributeGenerator', 'YangOmegaAttributeGenerator']}}, 'Search': {'evaluate': {'pandas': ['corr'], 'sklearn': ['evaluate_regression', 'scorer_regression']}, 'validate': {'sklearn': ['cross_val_predict', 'cross_val_score']}, 'grid': {'sklearn': ['GridSearchCV', 'learning_curve']}, 'genetic algorithm': {'cheml': ['GA_DEAP']}}, 'Visualize': {'plot': {'cheml': ['hist', 'scatter2D'], 'pandas': ['plot']}, 'artist': {'cheml': ['decorator']}}, 'Prepare': {'data manipulation': {'cheml': ['Split'], 'pandas': ['concat']}, 'feature transformation': {'sklearn': ['KernelPCA', 'PCA']}, 'data cleaning': {'cheml': ['ConstantColumns', 'MissingValues', 'Outliers'], 'sklearn': ['Imputer']}, 'scaling': {'sklearn': ['MaxAbsScaler', 'MinMaxScaler', 'Normalizer', 'RobustScaler', 'StandardScaler']}, 'feature representation': {'sklearn': ['Binarizer', 'OneHotEncoder', 'PolynomialFeatures']}, 'split': {'sklearn': ['KFold', 'LeaveOneOut', 'ShuffleSplit', 'StratifiedShuffleSplit', 'train_test_split']}}, 'Mix': {}, 'Enter': {'table': {'pandas': ['read_excel', 'read_table']}, 'Convert': {'cheml': ['ConvertFile']}, 'datasets': {'cheml': ['load_cep_homo', 'load_comp_energy', 'load_crystal_structures', 'load_organic_density', 'load_xyz_polarizability']}, 'xyz': {'cheml': ['XYZreader']}, 'python script': {'cheml': ['PyScript']}}, 'Model': {'regression': {'cheml': ['MLP', 'MLP_sklearn'], 'sklearn': ['ARDRegression', 'BayesianRidge', 'ElasticNet', 'KernelRidge', 'Lars', 'Lasso', 'LassoLars', 'LinearRegression', 'LinearSVR', 'LogisticRegression', 'MLPRegressor', 'MultiTaskElasticNet', 'MultiTaskLasso', 'NuSVR', 'Ridge', 'SGDRegressor', 'SVR']}}, 'Store': {'figure': {'cheml': ['SavePlot']}, 'file': {'cheml': ['SaveFile']}}}\n"
     ]
    }
   ],
   "source": [
    "from cheml.notebooks import wrapperGUI\n",
    "\n",
    "print(wrapperGUI().combinations)"
   ]
  },
  {
   "cell_type": "code",
   "execution_count": null,
   "metadata": {},
   "outputs": [],
   "source": []
  }
 ],
 "metadata": {
  "kernelspec": {
   "display_name": "Python [conda env:my_chemml_env] *",
   "language": "python",
   "name": "conda-env-my_chemml_env-py"
  },
  "language_info": {
   "codemirror_mode": {
    "name": "ipython",
    "version": 2
   },
   "file_extension": ".py",
   "mimetype": "text/x-python",
   "name": "python",
   "nbconvert_exporter": "python",
   "pygments_lexer": "ipython2",
   "version": "2.7.18"
  }
 },
 "nbformat": 4,
 "nbformat_minor": 2
}
