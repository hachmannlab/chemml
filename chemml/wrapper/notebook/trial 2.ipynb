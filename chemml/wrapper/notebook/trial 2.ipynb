{
 "cells": [
  {
   "cell_type": "code",
   "execution_count": 8,
   "metadata": {},
   "outputs": [
    {
     "data": {
      "application/vnd.jupyter.widget-view+json": {
       "model_id": "bb73bf7304034f429a7e586e9da09f66",
       "version_major": 2,
       "version_minor": 0
      },
      "text/plain": [
       "QWNjb3JkaW9uKGNoaWxkcmVuPShWQm94KGNoaWxkcmVuPShMYWJlbCh2YWx1ZT11J0Nob29zZSBob3cgdG8gc3RhcnQ6JywgbGF5b3V0PUxheW91dCh3aWR0aD11JzUwJScpKSwgVGFiKGNoaWzigKY=\n"
      ]
     },
     "metadata": {},
     "output_type": "display_data"
    },
    {
     "name": "stdout",
     "output_type": "stream",
     "text": [
      "The computation graph will be displayed here:\n"
     ]
    },
    {
     "data": {
      "application/vnd.jupyter.widget-view+json": {
       "model_id": "1a56e81eed6348298b9d40cc0d55b76c",
       "version_major": 2,
       "version_minor": 0
      },
      "text/plain": [
       "Image(value='')"
      ]
     },
     "metadata": {},
     "output_type": "display_data"
    }
   ],
   "source": [
    "from main import ChemMLNotebook\n",
    "ui = ChemMLNotebook()"
   ]
  },
  {
   "cell_type": "code",
   "execution_count": null,
   "metadata": {},
   "outputs": [],
   "source": []
  }
 ],
 "metadata": {
  "kernelspec": {
   "display_name": "Python [conda env:my_chemml_env] *",
   "language": "python",
   "name": "conda-env-my_chemml_env-py"
  },
  "language_info": {
   "codemirror_mode": {
    "name": "ipython",
    "version": 2
   },
   "file_extension": ".py",
   "mimetype": "text/x-python",
   "name": "python",
   "nbconvert_exporter": "python",
   "pygments_lexer": "ipython2",
   "version": "2.7.18"
  }
 },
 "nbformat": 4,
 "nbformat_minor": 2
}
