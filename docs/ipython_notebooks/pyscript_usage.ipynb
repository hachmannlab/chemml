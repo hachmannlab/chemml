{
 "cells": [
  {
   "cell_type": "markdown",
   "metadata": {},
   "source": [
    "## Pyscript Usage"
   ]
  },
  {
   "cell_type": "markdown",
   "metadata": {},
   "source": [
    "Pyscript is ChemML enabled technique which allows a user to perform tasks and obtain outputs similar to coding. This allows the user to perform a variety of tasks my keying snippets other than those available in the GUI. (e.g. inserting print statements, running specific python scripts on output datasets etc.)"
   ]
  },
  {
   "cell_type": "markdown",
   "metadata": {},
   "source": [
    "A guide on how to print specifics using a Pyscript are provided in this tutorial.  "
   ]
  },
  {
   "cell_type": "markdown",
   "metadata": {},
   "source": [
    "For example, we use our existing dataset of crystal structures (available in our ChemML library) and generate their inorganic descriptors. We concatenate the various dataframes generated and display the shape of the concatenated dataframe using Pyscript. "
   ]
  },
  {
   "cell_type": "markdown",
   "metadata": {},
   "source": [
    "A dedicated template for the same exists under the heading \"_Inorganic Descriptors:_\", in the _Template workflow_ tile of the GUI. For details regarding the file formats, inputs and outputs, we recommend that users view each of the click-able task blocks and their respective _Parameters_ and _Input/Output_ tiles. "
   ]
  },
  {
   "cell_type": "code",
   "execution_count": 1,
   "metadata": {},
   "outputs": [
    {
     "data": {
      "application/vnd.jupyter.widget-view+json": {
       "model_id": "3d38e8c84f8a493bad7ab8a1bce532a4",
       "version_major": 2,
       "version_minor": 0
      },
      "text/plain": [
       "Accordion(children=(VBox(children=(Label(value='Choose how to start:', layout=Layout(width='50%')), Tab(childr…"
      ]
     },
     "metadata": {},
     "output_type": "display_data"
    },
    {
     "name": "stdout",
     "output_type": "stream",
     "text": [
      "The computation graph will be displayed here:\n"
     ]
    },
    {
     "data": {
      "application/vnd.jupyter.widget-view+json": {
       "model_id": "",
       "version_major": 2,
       "version_minor": 0
      },
      "text/plain": [
       "Image(value=b'')"
      ]
     },
     "metadata": {},
     "output_type": "display_data"
    },
    {
     "data": {
      "application/vnd.jupyter.widget-view+json": {
       "model_id": "4f9123689f044d1986b749eb3c4db64b",
       "version_major": 2,
       "version_minor": 0
      },
      "text/plain": [
       "Image(value=b'\\x89PNG\\r\\n\\x1a\\n\\x00\\x00\\x00\\rIHDR\\x00\\x00\\x06\\xde\\x00\\x00\\x01\\x97\\x08\\x06\\x00\\x00\\x004\\xf2$\\xe…"
      ]
     },
     "metadata": {},
     "output_type": "display_data"
    },
    {
     "name": "stdout",
     "output_type": "stream",
     "text": [
      "\n",
      "The ChemML Wrapper's config file has been successfully saved ...\n",
      "    config file path: inorganic_crystal.txt\n",
      "    current directory: /mnt/c/Aatish/UB/Mr. Hachmann/master_chemml_wrapper_v2/chemml/docs\n",
      "    what's next? run the ChemML Wrapper using the config file with the following codes:\n",
      "        >>> from chemml.wrapper.engine import run\n",
      "        >>> run(INPUT_FILE = 'path_to_the_config_file', OUTPUT_DIRECTORY = 'CMLWrapper_out')\n",
      "... you can also create a python script of the above codes and run it on any cluster that ChemML is installed.\n"
     ]
    }
   ],
   "source": [
    "from chemml.wrapper.notebook import ChemMLNotebook\n",
    "ui = ChemMLNotebook()"
   ]
  },
  {
   "cell_type": "markdown",
   "metadata": {},
   "source": [
    "The workflow gives a precise representation of all the intermediate steps, blocks used to develop the model, the saved data and the inputs/outputs to each block. Once the workflow is finalized, we save the input script with our desired file name in _.txt_ format."
   ]
  },
  {
   "cell_type": "markdown",
   "metadata": {},
   "source": [
    "_Note:_ In this case, we specify our output directory as ‘inorganic_pyscript’"
   ]
  },
  {
   "cell_type": "code",
   "execution_count": 2,
   "metadata": {},
   "outputs": [
    {
     "name": "stdout",
     "output_type": "stream",
     "text": [
      "=================================================\n",
      "=================================================\n",
      "Fri May  7 09:38:06 2021\n",
      "\n",
      "parsing the input file: /mnt/c/Aatish/UB/Mr. Hachmann/master_chemml_wrapper_v2/chemml/docs/inorganic_crystal.txt ...\n",
      "\n",
      "=================================================\n",
      "\n",
      "======= block#1: (chemml, load_crystal_structures)\n",
      "| run ...\n",
      "\n",
      "| ... done!\n",
      "| execution time: 9.24s (0h 0m 9.24s)\n",
      "=======\n",
      "\n",
      "\n",
      "======= block#2: (chemml, CoordinationNumberAttributeGenerator)\n",
      "| run ...\n",
      "\n",
      "| ... done!\n",
      "| execution time: 36.34s (0h 0m 36.34s)\n",
      "=======\n",
      "\n",
      "\n",
      "======= block#3: (chemml, CoulombMatrixAttributeGenerator)\n",
      "| run ...\n",
      "\n",
      "| ... done!\n",
      "| execution time: 0.12s (0h 0m 0.12s)\n",
      "=======\n",
      "\n",
      "\n",
      "======= block#6: (chemml, EffectiveCoordinationNumberAttributeGenerator)\n",
      "| run ...\n",
      "\n",
      "| ... done!\n",
      "| execution time: 14.02s (0h 0m 14.02s)\n",
      "=======\n",
      "\n",
      "\n",
      "======= block#4: (pandas, concat)\n",
      "| run ...\n",
      "\n",
      "| ... done!\n",
      "| execution time: 0.01s (0h 0m 0.01s)\n",
      "=======\n",
      "\n",
      "\n",
      "======= block#5: (chemml, PyScript)\n",
      "| run ...\n",
      "\n",
      "shape of features: (18, 38)\n",
      "| ... done!\n",
      "| execution time: 0.00s (0h 0m 0.00s)\n",
      "=======\n",
      "\n",
      "\n",
      "Total execution time: 59.73s (0h 0m 59.73s)\n",
      "2021-05-07 09:39:06\n",
      "\n"
     ]
    }
   ],
   "source": [
    "from chemml.wrapper.engine import run\n",
    "run(INPUT_FILE = '/mnt/c/Aatish/UB/Mr. Hachmann/master_chemml_wrapper_v2/chemml/docs/inorganic_crystal.txt', OUTPUT_DIRECTORY = 'inorganic_pyscript')"
   ]
  },
  {
   "cell_type": "markdown",
   "metadata": {},
   "source": [
    "The tasks assigned through Pyscript is executed and the output is displayed. In this case, we chose to print the shape of the concatenated features. This can be seen in the output under the heading \"_block#5_\"."
   ]
  }
 ],
 "metadata": {
  "kernelspec": {
   "display_name": "Python [conda env:final_0.7_env]",
   "language": "python",
   "name": "conda-env-final_0.7_env-py"
  },
  "language_info": {
   "codemirror_mode": {
    "name": "ipython",
    "version": 3
   },
   "file_extension": ".py",
   "mimetype": "text/x-python",
   "name": "python",
   "nbconvert_exporter": "python",
   "pygments_lexer": "ipython3",
   "version": "3.8.8"
  },
  "widgets": {
   "application/vnd.jupyter.widget-state+json": {
    "state": {
     "000fce7864e2490188a681efbc4f56b7": {
      "model_module": "@jupyter-widgets/base",
      "model_module_version": "1.2.0",
      "model_name": "LayoutModel",
      "state": {}
     },
     "00356581593d438889d472f4c5f987ad": {
      "model_module": "@jupyter-widgets/controls",
      "model_module_version": "1.5.0",
      "model_name": "DescriptionStyleModel",
      "state": {
       "description_width": ""
      }
     },
     "0036483109844977ae408e4130fe38c6": {
      "model_module": "@jupyter-widgets/controls",
      "model_module_version": "1.5.0",
      "model_name": "DescriptionStyleModel",
      "state": {
       "description_width": ""
      }
     },
     "00bf7bf11d9e4f60a099776cccc00cef": {
      "model_module": "@jupyter-widgets/controls",
      "model_module_version": "1.5.0",
      "model_name": "DescriptionStyleModel",
      "state": {
       "description_width": ""
      }
     },
     "00c953a416374fdbbbe3f589d700628a": {
      "model_module": "@jupyter-widgets/controls",
      "model_module_version": "1.5.0",
      "model_name": "DescriptionStyleModel",
      "state": {
       "description_width": ""
      }
     },
     "00ce8e48b84e4544b2b9f6280e6d528e": {
      "model_module": "@jupyter-widgets/controls",
      "model_module_version": "1.5.0",
      "model_name": "ButtonStyleModel",
      "state": {
       "button_color": "lightblue"
      }
     },
     "00d70c2c4ca8448b98859d43dfbcd83d": {
      "model_module": "@jupyter-widgets/controls",
      "model_module_version": "1.5.0",
      "model_name": "ButtonStyleModel",
      "state": {
       "button_color": "lightblue"
      }
     },
     "00f529f844a24e189ad7aca22d2106cc": {
      "model_module": "@jupyter-widgets/base",
      "model_module_version": "1.2.0",
      "model_name": "LayoutModel",
      "state": {
       "width": "40%"
      }
     },
     "00fadee9eb0b403c9cca53bdc8da9103": {
      "model_module": "@jupyter-widgets/controls",
      "model_module_version": "1.5.0",
      "model_name": "DescriptionStyleModel",
      "state": {
       "description_width": ""
      }
     },
     "0101493dd18d416c89551f1094776190": {
      "model_module": "@jupyter-widgets/controls",
      "model_module_version": "1.5.0",
      "model_name": "ToggleButtonsModel",
      "state": {
       "_options_labels": [
        "Represent",
        "inorganic descriptors",
        "chemml",
        "EffectiveCoordinationNumberAttributeGenerator"
       ],
       "button_style": "info",
       "icons": [],
       "index": 0,
       "layout": "IPY_MODEL_e553ec2f8005476f9d0b479b5e8ed1a3",
       "style": "IPY_MODEL_b3bf9367a37041139f9427e1a2155946",
       "tooltips": []
      }
     },
     "011a41a717674ba0b5c48081bea318ab": {
      "model_module": "@jupyter-widgets/controls",
      "model_module_version": "1.5.0",
      "model_name": "BoxModel",
      "state": {
       "children": [
        "IPY_MODEL_eb3ee5d19ed44d9481f83096c7e95aac"
       ],
       "layout": "IPY_MODEL_32450638ec424ab38e6cb74e2582b461"
      }
     },
     "011c839b8de74cd2abfb420f45c49f34": {
      "model_module": "@jupyter-widgets/controls",
      "model_module_version": "1.5.0",
      "model_name": "HTMLModel",
      "state": {
       "layout": "IPY_MODEL_c9c1b6c2045c45e7836436793bbaf802",
       "style": "IPY_MODEL_cddeda96a045448190dac8bed741716e",
       "value": "<b>Documentation: </b>"
      }
     },
     "013f1f5d576c46da87fd1dce5f9a3850": {
      "model_module": "@jupyter-widgets/base",
      "model_module_version": "1.2.0",
      "model_name": "LayoutModel",
      "state": {}
     },
     "014e991b3f6a4e2e851d938772de1f70": {
      "model_module": "@jupyter-widgets/controls",
      "model_module_version": "1.5.0",
      "model_name": "HBoxModel",
      "state": {
       "children": [
        "IPY_MODEL_8f8c57b8950e431799a73ebecd6f015d"
       ],
       "layout": "IPY_MODEL_d7e38e15b77b4243bc026a0f3606f0ee"
      }
     },
     "017a04710e1f4bfdbc1346e87f54116d": {
      "model_module": "@jupyter-widgets/controls",
      "model_module_version": "1.5.0",
      "model_name": "DescriptionStyleModel",
      "state": {
       "description_width": ""
      }
     },
     "01af12d0617c45e0b0b86944386fc874": {
      "model_module": "@jupyter-widgets/controls",
      "model_module_version": "1.5.0",
      "model_name": "TextModel",
      "state": {
       "description": "Type:",
       "disabled": true,
       "layout": "IPY_MODEL_ee72a957814a4ba8bc15ea0836fc3f68",
       "style": "IPY_MODEL_889136b0b37d4289b0fed14361fa47ae"
      }
     },
     "01f89fc91e9d4b698385f23a110cb124": {
      "model_module": "@jupyter-widgets/controls",
      "model_module_version": "1.5.0",
      "model_name": "ButtonStyleModel",
      "state": {
       "button_color": "lightblue"
      }
     },
     "01fbadd222a045ac976260c9ebe63c85": {
      "model_module": "@jupyter-widgets/controls",
      "model_module_version": "1.5.0",
      "model_name": "LabelModel",
      "state": {
       "layout": "IPY_MODEL_a07f3eaf8126438e8caf7b746e41eedf",
       "style": "IPY_MODEL_a60e5970032a4805b3bda5cd57c310f9",
       "value": "Template 3: load_xyz_polarizability --> plot all 50 polarizabilities --> print first item of coordinates output"
      }
     },
     "020c27573f694aad9eed11c55277389e": {
      "model_module": "@jupyter-widgets/base",
      "model_module_version": "1.2.0",
      "model_name": "LayoutModel",
      "state": {
       "margin": "0px 10px 0px 0px",
       "width": "60px"
      }
     },
     "02254078b37f4419a642e030d4bf340c": {
      "model_module": "@jupyter-widgets/controls",
      "model_module_version": "1.5.0",
      "model_name": "DescriptionStyleModel",
      "state": {
       "description_width": "initial"
      }
     },
     "02302c3c7aae4b17a14f4ca3e9753beb": {
      "model_module": "@jupyter-widgets/controls",
      "model_module_version": "1.5.0",
      "model_name": "DescriptionStyleModel",
      "state": {
       "description_width": ""
      }
     },
     "0236217d2c674929874e279bd0589dc5": {
      "model_module": "@jupyter-widgets/controls",
      "model_module_version": "1.5.0",
      "model_name": "DescriptionStyleModel",
      "state": {
       "description_width": ""
      }
     },
     "02410dd0bfed4ef69ad02d6f104fa41c": {
      "model_module": "@jupyter-widgets/controls",
      "model_module_version": "1.5.0",
      "model_name": "HTMLModel",
      "state": {
       "layout": "IPY_MODEL_1b230d9ff9994df186579b2d810ba741",
       "style": "IPY_MODEL_bbff8dea236d454cb2351fa7ac6ec3bd",
       "value": "<b> >>> </b>"
      }
     },
     "02932bac60ad49e68d5f5a7bde8989f6": {
      "model_module": "@jupyter-widgets/controls",
      "model_module_version": "1.5.0",
      "model_name": "HBoxModel",
      "state": {
       "children": [
        "IPY_MODEL_bbe24fafe6d44b788e7b7b9beca44940",
        "IPY_MODEL_248a8d1b66c4463c8b6ebde282d2621b",
        "IPY_MODEL_2364bfb43f24400dbd8efdc2f46efb29"
       ],
       "layout": "IPY_MODEL_9310ca3b69464d578a286caced13fbac"
      }
     },
     "029a78044604498bb97526daba7f8c84": {
      "model_module": "@jupyter-widgets/base",
      "model_module_version": "1.2.0",
      "model_name": "LayoutModel",
      "state": {}
     },
     "031423217a274b8ca9c99bb33b7a3b82": {
      "model_module": "@jupyter-widgets/base",
      "model_module_version": "1.2.0",
      "model_name": "LayoutModel",
      "state": {
       "width": "40%"
      }
     },
     "03160f85ca154fafaf121f1ee08af8d6": {
      "model_module": "@jupyter-widgets/base",
      "model_module_version": "1.2.0",
      "model_name": "LayoutModel",
      "state": {}
     },
     "031d4dda5c83475ca13ad6021a5f7c49": {
      "model_module": "@jupyter-widgets/base",
      "model_module_version": "1.2.0",
      "model_name": "LayoutModel",
      "state": {}
     },
     "031d52a48d2a45a1bf5aacab2e27b6b1": {
      "model_module": "@jupyter-widgets/controls",
      "model_module_version": "1.5.0",
      "model_name": "DescriptionStyleModel",
      "state": {
       "description_width": ""
      }
     },
     "03216c2793674c669d0287bbefe2665b": {
      "model_module": "@jupyter-widgets/controls",
      "model_module_version": "1.5.0",
      "model_name": "HTMLModel",
      "state": {
       "layout": "IPY_MODEL_67d700c8e4be443497f6772597c96cd1",
       "style": "IPY_MODEL_0974abda38454d2b86ae64d0a919fc9a",
       "value": "<b>Function parameters:</b>"
      }
     },
     "034256954ee54ec18cb5f77065a53523": {
      "model_module": "@jupyter-widgets/base",
      "model_module_version": "1.2.0",
      "model_name": "LayoutModel",
      "state": {}
     },
     "034cc012b063492e9e25c29dda9370da": {
      "model_module": "@jupyter-widgets/base",
      "model_module_version": "1.2.0",
      "model_name": "LayoutModel",
      "state": {}
     },
     "03721e53d15e4e26bc3adf6747a3ca30": {
      "model_module": "@jupyter-widgets/base",
      "model_module_version": "1.2.0",
      "model_name": "LayoutModel",
      "state": {
       "margin": "0px 0px 0px 20px"
      }
     },
     "03888948425345e18464add75a3afa18": {
      "model_module": "@jupyter-widgets/controls",
      "model_module_version": "1.5.0",
      "model_name": "DescriptionStyleModel",
      "state": {
       "description_width": ""
      }
     },
     "0392e5068de84f7eafaad5fa1bd5a5a2": {
      "model_module": "@jupyter-widgets/controls",
      "model_module_version": "1.5.0",
      "model_name": "LabelModel",
      "state": {
       "layout": "IPY_MODEL_1c20ccb14f8b49b68ec3f4619bda6fd3",
       "style": "IPY_MODEL_93b8556d9a5e43fea008408123af5cb7",
       "value": "Template 4: get SMILES reperesentaion of molecules --> save them --> generate Dragon descriptors  --> save features"
      }
     },
     "0394ddb292744e458a1938baab413e24": {
      "model_module": "@jupyter-widgets/controls",
      "model_module_version": "1.5.0",
      "model_name": "ButtonStyleModel",
      "state": {
       "button_color": "lightblue"
      }
     },
     "03b3d6a6b75a41c7a9636cc4ce3c6373": {
      "model_module": "@jupyter-widgets/base",
      "model_module_version": "1.2.0",
      "model_name": "LayoutModel",
      "state": {
       "align_items": "center",
       "justify_content": "space-between",
       "margin": "10px 0px 20px 0px"
      }
     },
     "03c87c86db0347609eecffdde931ac62": {
      "model_module": "@jupyter-widgets/controls",
      "model_module_version": "1.5.0",
      "model_name": "DescriptionStyleModel",
      "state": {
       "description_width": ""
      }
     },
     "03cfe297ca60463b96ad397a2c050f0d": {
      "model_module": "@jupyter-widgets/base",
      "model_module_version": "1.2.0",
      "model_name": "LayoutModel",
      "state": {}
     },
     "03ecade1c35448eeb863dd575e701d59": {
      "model_module": "@jupyter-widgets/base",
      "model_module_version": "1.2.0",
      "model_name": "LayoutModel",
      "state": {
       "width": "40%"
      }
     },
     "03fcd71d57264da69dce61ccb10185a5": {
      "model_module": "@jupyter-widgets/controls",
      "model_module_version": "1.5.0",
      "model_name": "BoxModel",
      "state": {
       "children": [
        "IPY_MODEL_bc51203182584e6199fa759dc52a1483"
       ],
       "layout": "IPY_MODEL_3ecbdc5360aa44d4b561c56f3a48da68"
      }
     },
     "0427bf0f38e64c3cbaa88d8d19e42d54": {
      "model_module": "@jupyter-widgets/controls",
      "model_module_version": "1.5.0",
      "model_name": "DescriptionStyleModel",
      "state": {
       "description_width": ""
      }
     },
     "042ac6970623489480ae0f18f52f4b80": {
      "model_module": "@jupyter-widgets/controls",
      "model_module_version": "1.5.0",
      "model_name": "LabelModel",
      "state": {
       "layout": "IPY_MODEL_63c83ff8b4ac444e9736519b79b9fcf7",
       "style": "IPY_MODEL_2a7ea74cddac4c2d9b7107f4ccd7f01c",
       "value": "Load an existing script"
      }
     },
     "045ae6dd87664b8bac44578bb8a16935": {
      "model_module": "@jupyter-widgets/base",
      "model_module_version": "1.2.0",
      "model_name": "LayoutModel",
      "state": {}
     },
     "046a86379911482eae28074d212e9771": {
      "model_module": "@jupyter-widgets/controls",
      "model_module_version": "1.5.0",
      "model_name": "ButtonModel",
      "state": {
       "description": "Select",
       "layout": "IPY_MODEL_827d8b45f06049b5b99255cc1049e2e3",
       "style": "IPY_MODEL_5f7fa78265aa4040a78f97388565ff15"
      }
     },
     "049cca0447e2451c94263b4803ae6c77": {
      "model_module": "@jupyter-widgets/controls",
      "model_module_version": "1.5.0",
      "model_name": "DropdownModel",
      "state": {
       "_options_labels": [
        "2",
        "3",
        "4",
        "5",
        "6"
       ],
       "description": "block#:",
       "index": 0,
       "layout": "IPY_MODEL_394b7d26e099465bb7bee90e3663cbc8",
       "style": "IPY_MODEL_d023ec483841489c8f92f318e99ed171"
      }
     },
     "04a7ebbda40f4ac58eea544c4bd79346": {
      "model_module": "@jupyter-widgets/base",
      "model_module_version": "1.2.0",
      "model_name": "LayoutModel",
      "state": {
       "margin": "20px 0px 0px 10px"
      }
     },
     "04dd94366f8948248b18108f4303724b": {
      "model_module": "@jupyter-widgets/controls",
      "model_module_version": "1.5.0",
      "model_name": "DescriptionStyleModel",
      "state": {
       "description_width": ""
      }
     },
     "0503a1030ab54fc486276ed359d7d489": {
      "model_module": "@jupyter-widgets/controls",
      "model_module_version": "1.5.0",
      "model_name": "BoxModel",
      "state": {
       "children": [
        "IPY_MODEL_0ea885d5ef714f0eaa5fbf798cb003a9"
       ],
       "layout": "IPY_MODEL_aff86a31145f4c948357784c008ed2cc"
      }
     },
     "053138bbf81d4cb8ad616939a2bba53f": {
      "model_module": "@jupyter-widgets/controls",
      "model_module_version": "1.5.0",
      "model_name": "DescriptionStyleModel",
      "state": {
       "description_width": ""
      }
     },
     "05351718fa2c4c999fd77eea51358907": {
      "model_module": "@jupyter-widgets/base",
      "model_module_version": "1.2.0",
      "model_name": "LayoutModel",
      "state": {
       "width": "40%"
      }
     },
     "053e5d4fed964bacbfab9938781c78ae": {
      "model_module": "@jupyter-widgets/controls",
      "model_module_version": "1.5.0",
      "model_name": "HTMLModel",
      "state": {
       "layout": "IPY_MODEL_870dc9a7f916407db0b99a46480bb790",
       "style": "IPY_MODEL_bd17d5a3f9a849aeaa4f42ff8febc76f",
       "value": "<b> Note: </b> This page automatically avoid: (1) loops, (2) type inconsistency, and (3) more than one input per token."
      }
     },
     "0541b9d25571474abc07ee51132685d2": {
      "model_module": "@jupyter-widgets/base",
      "model_module_version": "1.2.0",
      "model_name": "LayoutModel",
      "state": {
       "width": "40%"
      }
     },
     "0559f877e34c4d9bb582f55f993a0dce": {
      "model_module": "@jupyter-widgets/controls",
      "model_module_version": "1.5.0",
      "model_name": "VBoxModel",
      "state": {
       "children": [
        "IPY_MODEL_64dc9f0d72c44c86b4d84a934b9d71f9",
        "IPY_MODEL_56f689d5e04f44f9aa03ce80f2615b46",
        "IPY_MODEL_cd2dd373579f43ad808b3bd3dfc5be7f",
        "IPY_MODEL_7a6fc546429249a6a9a259a978a25532",
        "IPY_MODEL_8fd408d6f7674907a36604ba20ffc5ff"
       ],
       "layout": "IPY_MODEL_5494be35b39849fd890796c9fc7cdc01"
      }
     },
     "056d0f08b7ba47c78879f263ecc0cb71": {
      "model_module": "@jupyter-widgets/controls",
      "model_module_version": "1.5.0",
      "model_name": "DescriptionStyleModel",
      "state": {
       "description_width": ""
      }
     },
     "0586aae8309441ffbfa5c7e710bfac40": {
      "model_module": "@jupyter-widgets/base",
      "model_module_version": "1.2.0",
      "model_name": "LayoutModel",
      "state": {
       "margin": "0px 0px 0px 10px"
      }
     },
     "05b061e8555249598e2f986f0db76f72": {
      "model_module": "@jupyter-widgets/base",
      "model_module_version": "1.2.0",
      "model_name": "LayoutModel",
      "state": {}
     },
     "05d09d569ee34ad7be9a98be6632b408": {
      "model_module": "@jupyter-widgets/controls",
      "model_module_version": "1.5.0",
      "model_name": "HBoxModel",
      "state": {
       "children": [
        "IPY_MODEL_4285a5361f424b1992701a177600dd85",
        "IPY_MODEL_a4be8aed060c493abc31ba82c137373e",
        "IPY_MODEL_bc9c1e73683e442c870689fe8b0b89f3",
        "IPY_MODEL_9d1e00e72d9c4f9fb29a524769adf0b0"
       ],
       "layout": "IPY_MODEL_48cd995bf16741c39b5596550deda29b"
      }
     },
     "05d3b3634f504e21b88ea82fdec122e8": {
      "model_module": "@jupyter-widgets/controls",
      "model_module_version": "1.5.0",
      "model_name": "ButtonModel",
      "state": {
       "description": "print Script",
       "layout": "IPY_MODEL_da13bfa7a0d04b139cbe4848697601e5",
       "style": "IPY_MODEL_08ce6e78adbb426dbc5ff6c5f63dcec9"
      }
     },
     "05e413033a0e49979ff45225bfa47f90": {
      "model_module": "@jupyter-widgets/controls",
      "model_module_version": "1.5.0",
      "model_name": "ButtonStyleModel",
      "state": {
       "button_color": "lightblue"
      }
     },
     "0602108e1e564096895e029368274aea": {
      "model_module": "@jupyter-widgets/controls",
      "model_module_version": "1.5.0",
      "model_name": "VBoxModel",
      "state": {
       "children": [
        "IPY_MODEL_51b1da9cd17543bb9c737f2d1191d51b",
        "IPY_MODEL_df41ee38cce049d3a06eca55de58cade",
        "IPY_MODEL_5faeb74ddaf543f5a33ba5a4d73db76b",
        "IPY_MODEL_c407c79b89e547f39fca40535fc8d717",
        "IPY_MODEL_abd654cab2394b9083b36d0297d5105c"
       ],
       "layout": "IPY_MODEL_64003c710b95485ab6aba51a6611faa0"
      }
     },
     "060d859160704b4384fa052055f2f4a3": {
      "model_module": "@jupyter-widgets/controls",
      "model_module_version": "1.5.0",
      "model_name": "DescriptionStyleModel",
      "state": {
       "description_width": ""
      }
     },
     "0634aaa6dce044b6aab15bf308ae4857": {
      "model_module": "@jupyter-widgets/controls",
      "model_module_version": "1.5.0",
      "model_name": "TextModel",
      "state": {
       "description": "line08",
       "layout": "IPY_MODEL_0f85e07438bf49c68eb2613771d1b2ad",
       "placeholder": "[]",
       "style": "IPY_MODEL_a85dc6692c614021acb014d603c7e259",
       "value": "type python code"
      }
     },
     "063cd5d0f0fe4246838c2cc39d94f070": {
      "model_module": "@jupyter-widgets/controls",
      "model_module_version": "1.5.0",
      "model_name": "ButtonModel",
      "state": {
       "description": "Default values",
       "layout": "IPY_MODEL_0651e62e029241459831045c9455c758",
       "style": "IPY_MODEL_a7640076a0e24b3498c847d8ce061f41"
      }
     },
     "0651e62e029241459831045c9455c758": {
      "model_module": "@jupyter-widgets/base",
      "model_module_version": "1.2.0",
      "model_name": "LayoutModel",
      "state": {
       "margin": "10px 0px 10px 180px",
       "width": "110px"
      }
     },
     "0659ce0760c04d2d89b6f414ba7b5daa": {
      "model_module": "@jupyter-widgets/controls",
      "model_module_version": "1.5.0",
      "model_name": "VBoxModel",
      "state": {
       "children": [
        "IPY_MODEL_477207e00b5448f8a191be20f53159e5"
       ],
       "layout": "IPY_MODEL_03cfe297ca60463b96ad397a2c050f0d"
      }
     },
     "065e483af86d44fcbf869821dc21b6f3": {
      "model_module": "@jupyter-widgets/base",
      "model_module_version": "1.2.0",
      "model_name": "LayoutModel",
      "state": {
       "width": "140px"
      }
     },
     "066976c2a8fc49238760fb9581fb0fb6": {
      "model_module": "@jupyter-widgets/base",
      "model_module_version": "1.2.0",
      "model_name": "LayoutModel",
      "state": {
       "width": "50%"
      }
     },
     "067fa11205e645e7850d5c54663ffb5a": {
      "model_module": "@jupyter-widgets/controls",
      "model_module_version": "1.5.0",
      "model_name": "HTMLModel",
      "state": {
       "layout": "IPY_MODEL_04a7ebbda40f4ac58eea544c4bd79346",
       "style": "IPY_MODEL_4376521ef9214e5c8e0d259037e114be",
       "value": "<b> Note: </b> This page automatically avoid: (1) loops, (2) type inconsistency, and (3) more than one input per token."
      }
     },
     "068036c27ed34f709113d991f7489664": {
      "model_module": "@jupyter-widgets/controls",
      "model_module_version": "1.5.0",
      "model_name": "BoxModel",
      "state": {
       "children": [
        "IPY_MODEL_7dfdc8489e29490c88cbbac59106aec3"
       ],
       "layout": "IPY_MODEL_fc175d2399414de4a84d60bd72ebc08d"
      }
     },
     "068ff800c77c4a34bfae4dbd1a37b225": {
      "model_module": "@jupyter-widgets/controls",
      "model_module_version": "1.5.0",
      "model_name": "DescriptionStyleModel",
      "state": {
       "description_width": "initial"
      }
     },
     "0692a0c16068449e972968deef4fff3f": {
      "model_module": "@jupyter-widgets/controls",
      "model_module_version": "1.5.0",
      "model_name": "HBoxModel",
      "state": {
       "children": [
        "IPY_MODEL_a9e0df726033480396184340f4a6eb70",
        "IPY_MODEL_1695cbd54b44441eb8e1b0dfeb847bb3",
        "IPY_MODEL_34a4144cc2ca4c58926f6942fab9314b"
       ],
       "layout": "IPY_MODEL_3d3e0bb452aa4421bc5dc15c89cd6e35"
      }
     },
     "06a05c02b3e444318b2f5618a5f20881": {
      "model_module": "@jupyter-widgets/controls",
      "model_module_version": "1.5.0",
      "model_name": "DescriptionStyleModel",
      "state": {
       "description_width": ""
      }
     },
     "06a2736ee9754caca83714b1cdfeb443": {
      "model_module": "@jupyter-widgets/base",
      "model_module_version": "1.2.0",
      "model_name": "LayoutModel",
      "state": {}
     },
     "06b04ca70da54e2bae3e0e21210fac3a": {
      "model_module": "@jupyter-widgets/controls",
      "model_module_version": "1.5.0",
      "model_name": "HTMLModel",
      "state": {
       "layout": "IPY_MODEL_8aeaafeaf7814daeabe2fa87a8b2d6ff",
       "style": "IPY_MODEL_34d54ceb84c64465a1cdf43ee6f7ebcc",
       "value": "<b> Entering Custom Dataset from Excel: </b>"
      }
     },
     "06dec78b94ad4d18a0fcb1757bcc29f2": {
      "model_module": "@jupyter-widgets/controls",
      "model_module_version": "1.5.0",
      "model_name": "DescriptionStyleModel",
      "state": {
       "description_width": ""
      }
     },
     "06f7a73e505d4cfb97d741e243f822b6": {
      "model_module": "@jupyter-widgets/base",
      "model_module_version": "1.2.0",
      "model_name": "LayoutModel",
      "state": {
       "margin": "0px 0px 0px 10px"
      }
     },
     "06fb2a234ded4c4db30700e0a5c1c648": {
      "model_module": "@jupyter-widgets/base",
      "model_module_version": "1.2.0",
      "model_name": "LayoutModel",
      "state": {}
     },
     "070c9a4acb5041cfb3fbe0c71c4c7ad2": {
      "model_module": "@jupyter-widgets/controls",
      "model_module_version": "1.5.0",
      "model_name": "HBoxModel",
      "state": {
       "children": [
        "IPY_MODEL_639e09baa7704a32ba740c39a39616a8",
        "IPY_MODEL_380341211cd94dbfb90e385c6fa075ef"
       ],
       "layout": "IPY_MODEL_fa7cd111064049469bba0209244893e5"
      }
     },
     "071d028ce86e4c8782598d42a58ddec6": {
      "model_module": "@jupyter-widgets/controls",
      "model_module_version": "1.5.0",
      "model_name": "DropdownModel",
      "state": {
       "_options_labels": [
        "df"
       ],
       "description": "output token:",
       "index": 0,
       "layout": "IPY_MODEL_fe17ca79ed6b449ebb315369a897bdec",
       "style": "IPY_MODEL_a8f48cd5c6ab457eaa6a42b9d8d588d7"
      }
     },
     "07362d1b6b4847d092aa32289550fe2f": {
      "model_module": "@jupyter-widgets/controls",
      "model_module_version": "1.5.0",
      "model_name": "TextModel",
      "state": {
       "description": "Type:",
       "disabled": true,
       "layout": "IPY_MODEL_e135364ff4214d6cac336614e2e730f4",
       "style": "IPY_MODEL_c22fad18918a47b9827067366b00d376"
      }
     },
     "07766f9bec09425da112552b9892e05d": {
      "model_module": "@jupyter-widgets/controls",
      "model_module_version": "1.5.0",
      "model_name": "HTMLModel",
      "state": {
       "layout": "IPY_MODEL_0f7104601a624783b2f1505d1270a423",
       "style": "IPY_MODEL_1c805168d1c24bc39541e8eefb80d2a4",
       "value": "<b> Receive <<< </b>"
      }
     },
     "077ca62a2a144d8988355ce9c559fc1a": {
      "model_module": "@jupyter-widgets/controls",
      "model_module_version": "1.5.0",
      "model_name": "TextModel",
      "state": {
       "description": "Type:",
       "disabled": true,
       "layout": "IPY_MODEL_34168e8ea6d44327bf035f1de7900d04",
       "style": "IPY_MODEL_50e7a62dcc014c01bcde8a8f8509e47d"
      }
     },
     "079cdcf70f814af2b959e994ad1fdab2": {
      "model_module": "@jupyter-widgets/controls",
      "model_module_version": "1.5.0",
      "model_name": "ButtonModel",
      "state": {
       "description": "Default values",
       "layout": "IPY_MODEL_71c8e29b68e440068be6790569552962",
       "style": "IPY_MODEL_328b9fb7e35149798af96202f619b73b"
      }
     },
     "07e8fb1aea7e4416b2db1267719618f6": {
      "model_module": "@jupyter-widgets/controls",
      "model_module_version": "1.5.0",
      "model_name": "ButtonModel",
      "state": {
       "description": "Add",
       "layout": "IPY_MODEL_5ee114334b2643ddba33c3b227b0a5e3",
       "style": "IPY_MODEL_09f092d0a5204220a4e65e1901cb3599"
      }
     },
     "07eeb968f3ab4b90bb7337b0728ca08e": {
      "model_module": "@jupyter-widgets/base",
      "model_module_version": "1.2.0",
      "model_name": "LayoutModel",
      "state": {
       "width": "140px"
      }
     },
     "07f7a9ca6fcb4d6d961896cace0afada": {
      "model_module": "@jupyter-widgets/base",
      "model_module_version": "1.2.0",
      "model_name": "LayoutModel",
      "state": {
       "margin": "0px 0px 0px 10px"
      }
     },
     "07f92ea25c4b41c18bab6daa822cb150": {
      "model_module": "@jupyter-widgets/controls",
      "model_module_version": "1.5.0",
      "model_name": "DescriptionStyleModel",
      "state": {
       "description_width": ""
      }
     },
     "07ff3066b9a747c48c2930176f7a26b0": {
      "model_module": "@jupyter-widgets/controls",
      "model_module_version": "1.5.0",
      "model_name": "HTMLModel",
      "state": {
       "layout": "IPY_MODEL_89a0b2e07a174b53800c8c8b9e663193",
       "style": "IPY_MODEL_094a39ed9b4f4e8fa0d9de2b822d0bf8",
       "value": "<b> Note: </b> This page automatically avoid: (1) loops, (2) type inconsistency, and (3) more than one input per token."
      }
     },
     "07ffd5bc4dc042a193f65c98809cc541": {
      "model_module": "@jupyter-widgets/controls",
      "model_module_version": "1.5.0",
      "model_name": "DescriptionStyleModel",
      "state": {
       "description_width": ""
      }
     },
     "0800b006463b417d9b8a3500dfb817d7": {
      "model_module": "@jupyter-widgets/base",
      "model_module_version": "1.2.0",
      "model_name": "LayoutModel",
      "state": {}
     },
     "080306426b144e67b57ea1cafbcc25a7": {
      "model_module": "@jupyter-widgets/controls",
      "model_module_version": "1.5.0",
      "model_name": "TabModel",
      "state": {
       "_titles": {
        "0": "Parameters",
        "1": "Input/Output"
       },
       "children": [
        "IPY_MODEL_cba416cbcd8946da83aa891d5cb477e9",
        "IPY_MODEL_14770536f8c14f599b0e977a4ccd20f8"
       ],
       "layout": "IPY_MODEL_ba6e2d06f68e452fb4942dbf9e79b60f"
      }
     },
     "0804e9e40fba41c597b619697d6dae13": {
      "model_module": "@jupyter-widgets/base",
      "model_module_version": "1.2.0",
      "model_name": "LayoutModel",
      "state": {}
     },
     "0813c4630f124f8dbbadd63f8ef24811": {
      "model_module": "@jupyter-widgets/controls",
      "model_module_version": "1.5.0",
      "model_name": "VBoxModel",
      "state": {
       "children": [
        "IPY_MODEL_5436fc9cdb4d4a4dbcb432aabd0d4be8",
        "IPY_MODEL_6717d80173314927a79c76cee5184d40",
        "IPY_MODEL_14ea4856f70442158df0e3d231292713"
       ],
       "layout": "IPY_MODEL_f5f7fb4e0a464d19b2ff8f26fd90bfc6"
      }
     },
     "082276b923e248c8b1195405d696b756": {
      "model_module": "@jupyter-widgets/controls",
      "model_module_version": "1.5.0",
      "model_name": "ButtonStyleModel",
      "state": {
       "button_color": "lightblue"
      }
     },
     "085b8a8b37d64e1193bb57aeae3f43c1": {
      "model_module": "@jupyter-widgets/base",
      "model_module_version": "1.2.0",
      "model_name": "LayoutModel",
      "state": {
       "width": "40%"
      }
     },
     "0877249290234ab585e0d7d6b06f4114": {
      "model_module": "@jupyter-widgets/controls",
      "model_module_version": "1.5.0",
      "model_name": "DescriptionStyleModel",
      "state": {
       "description_width": ""
      }
     },
     "087c77905713445ebc0550a4bccb976f": {
      "model_module": "@jupyter-widgets/controls",
      "model_module_version": "1.5.0",
      "model_name": "DescriptionStyleModel",
      "state": {
       "description_width": ""
      }
     },
     "089204c56fc74fde96dfaa96737b5e6e": {
      "model_module": "@jupyter-widgets/base",
      "model_module_version": "1.2.0",
      "model_name": "LayoutModel",
      "state": {
       "margin": "40px 0px 0px 10px",
       "width": "120px"
      }
     },
     "08a75728c1a74ff3b1cb49167371bd06": {
      "model_module": "@jupyter-widgets/controls",
      "model_module_version": "1.5.0",
      "model_name": "DescriptionStyleModel",
      "state": {
       "description_width": ""
      }
     },
     "08a8da5506564770a3bccfee9fb14eae": {
      "model_module": "@jupyter-widgets/base",
      "model_module_version": "1.2.0",
      "model_name": "LayoutModel",
      "state": {
       "margin": "0px 0px 0px 180px"
      }
     },
     "08ce6e78adbb426dbc5ff6c5f63dcec9": {
      "model_module": "@jupyter-widgets/controls",
      "model_module_version": "1.5.0",
      "model_name": "ButtonStyleModel",
      "state": {
       "button_color": "lightblue"
      }
     },
     "08d34c020a984770a1858db4edcdb198": {
      "model_module": "@jupyter-widgets/controls",
      "model_module_version": "1.5.0",
      "model_name": "HBoxModel",
      "state": {
       "children": [
        "IPY_MODEL_97aa1535fe384c47a828d5c9096d485e",
        "IPY_MODEL_7066f58d85ef4dcdacd8184050ecbe2c",
        "IPY_MODEL_ffb7357a9da6468a83fd01f57aa810e7",
        "IPY_MODEL_e2d25bc95dec4df191d626a3bdd0b240"
       ],
       "layout": "IPY_MODEL_e8295e1665354092b436b898e6be53e5"
      }
     },
     "08e64539acb54711964901764c067055": {
      "model_module": "@jupyter-widgets/controls",
      "model_module_version": "1.5.0",
      "model_name": "HBoxModel",
      "state": {
       "children": [
        "IPY_MODEL_7143940fc9ef489382439fe2b8f4c6b7",
        "IPY_MODEL_ec4a759fbd754886ba1d7273b7386a30",
        "IPY_MODEL_4f6fc96978a246f5bca7126af05a53b8",
        "IPY_MODEL_f1568678d343454b8f7a9be9af2b2ae8"
       ],
       "layout": "IPY_MODEL_9441ce28c19e41d1b0d4c0724fc32176"
      }
     },
     "0926907b076f47de824e0070277e623e": {
      "model_module": "@jupyter-widgets/controls",
      "model_module_version": "1.5.0",
      "model_name": "DescriptionStyleModel",
      "state": {
       "description_width": ""
      }
     },
     "093f22889a564c309233730e5d19dbea": {
      "model_module": "@jupyter-widgets/controls",
      "model_module_version": "1.5.0",
      "model_name": "DescriptionStyleModel",
      "state": {
       "description_width": ""
      }
     },
     "0943b5eba0d04687864025f192e1a5f8": {
      "model_module": "@jupyter-widgets/controls",
      "model_module_version": "1.5.0",
      "model_name": "HBoxModel",
      "state": {
       "children": [
        "IPY_MODEL_12c9c91073244736abefe3da29e85449",
        "IPY_MODEL_bc5f913875314621b3cff891ea6f115c"
       ],
       "layout": "IPY_MODEL_b540b8d3f4c342098de9df9b7a2634a9"
      }
     },
     "094a39ed9b4f4e8fa0d9de2b822d0bf8": {
      "model_module": "@jupyter-widgets/controls",
      "model_module_version": "1.5.0",
      "model_name": "DescriptionStyleModel",
      "state": {
       "description_width": ""
      }
     },
     "097374ccb36a4e469a6e9ad2a4156f6d": {
      "model_module": "@jupyter-widgets/controls",
      "model_module_version": "1.5.0",
      "model_name": "TextModel",
      "state": {
       "description": "line14",
       "layout": "IPY_MODEL_06a2736ee9754caca83714b1cdfeb443",
       "placeholder": "[]",
       "style": "IPY_MODEL_16f95e53fb5f4fe5b8251781fdf1d6bd",
       "value": "type python code"
      }
     },
     "0974abda38454d2b86ae64d0a919fc9a": {
      "model_module": "@jupyter-widgets/controls",
      "model_module_version": "1.5.0",
      "model_name": "DescriptionStyleModel",
      "state": {
       "description_width": ""
      }
     },
     "098fd742296d40b9baa291ab882a0913": {
      "model_module": "@jupyter-widgets/controls",
      "model_module_version": "1.5.0",
      "model_name": "DescriptionStyleModel",
      "state": {
       "description_width": ""
      }
     },
     "09bda4a8e02e4acc895ba021b20f386f": {
      "model_module": "@jupyter-widgets/controls",
      "model_module_version": "1.5.0",
      "model_name": "ButtonStyleModel",
      "state": {
       "button_color": "lightblue"
      }
     },
     "09c691ccd0f944fb9c43b354ab4ecdbb": {
      "model_module": "@jupyter-widgets/controls",
      "model_module_version": "1.5.0",
      "model_name": "DropdownModel",
      "state": {
       "_options_labels": [
        "Convert",
        "python script",
        "xyz",
        "datasets",
        "table"
       ],
       "description": "Subtask:",
       "index": 0,
       "layout": "IPY_MODEL_30be657d4be34b6ba9ce02b6037c8924",
       "style": "IPY_MODEL_f52af55b01924bf194f9afb78683d0e8"
      }
     },
     "09c76a1500614ca887ec46e472133380": {
      "model_module": "@jupyter-widgets/controls",
      "model_module_version": "1.5.0",
      "model_name": "DescriptionStyleModel",
      "state": {
       "description_width": ""
      }
     },
     "09d51a6b91a64d5d9cd0bedee218950d": {
      "model_module": "@jupyter-widgets/controls",
      "model_module_version": "1.5.0",
      "model_name": "DescriptionStyleModel",
      "state": {
       "description_width": ""
      }
     },
     "09e8808df02e4ab59475775a5d28082b": {
      "model_module": "@jupyter-widgets/controls",
      "model_module_version": "1.5.0",
      "model_name": "HBoxModel",
      "state": {
       "children": [
        "IPY_MODEL_5b0a940ea89d4dc7baa235d866a9440a",
        "IPY_MODEL_bf437f56a6ad4e1a81af2c7fd0c8fa04",
        "IPY_MODEL_eb96f19dc41746458c8a3469e2a8d7b5"
       ],
       "layout": "IPY_MODEL_8aefd6467c0741cd96f45906988706a4"
      }
     },
     "09f092d0a5204220a4e65e1901cb3599": {
      "model_module": "@jupyter-widgets/controls",
      "model_module_version": "1.5.0",
      "model_name": "ButtonStyleModel",
      "state": {
       "button_color": "lightblue"
      }
     },
     "0a07f6ec9b1a496ab686dbbfd9d60291": {
      "model_module": "@jupyter-widgets/controls",
      "model_module_version": "1.5.0",
      "model_name": "DescriptionStyleModel",
      "state": {
       "description_width": ""
      }
     },
     "0a0ee6a71a984ac19766c1fd20815113": {
      "model_module": "@jupyter-widgets/base",
      "model_module_version": "1.2.0",
      "model_name": "LayoutModel",
      "state": {}
     },
     "0a3d9195985744878f23f1453fc211a5": {
      "model_module": "@jupyter-widgets/base",
      "model_module_version": "1.2.0",
      "model_name": "LayoutModel",
      "state": {}
     },
     "0a42738d4592431186b646403e950eb3": {
      "model_module": "@jupyter-widgets/base",
      "model_module_version": "1.2.0",
      "model_name": "LayoutModel",
      "state": {
       "width": "40px"
      }
     },
     "0a66072e864a419698bb5639997005d5": {
      "model_module": "@jupyter-widgets/base",
      "model_module_version": "1.2.0",
      "model_name": "LayoutModel",
      "state": {}
     },
     "0a6948c6edd3454c8962446c370b7b82": {
      "model_module": "@jupyter-widgets/base",
      "model_module_version": "1.2.0",
      "model_name": "LayoutModel",
      "state": {
       "align_content": "center",
       "justify_content": "center"
      }
     },
     "0a6953f7386045b085dc702a0b15cada": {
      "model_module": "@jupyter-widgets/controls",
      "model_module_version": "1.5.0",
      "model_name": "TextModel",
      "state": {
       "description": "Type:",
       "disabled": true,
       "layout": "IPY_MODEL_728ee555590d4bf19ee3074bad59601f",
       "style": "IPY_MODEL_de8406ba46e84257ace249ff8c83f459"
      }
     },
     "0a9adfa8f23b40f08c978a4085943c86": {
      "model_module": "@jupyter-widgets/controls",
      "model_module_version": "1.5.0",
      "model_name": "ToggleButtonsStyleModel",
      "state": {
       "button_width": "",
       "description_width": ""
      }
     },
     "0accbf9d1f9745cc8ee635b50a8a15fe": {
      "model_module": "@jupyter-widgets/controls",
      "model_module_version": "1.5.0",
      "model_name": "ButtonModel",
      "state": {
       "description": "Select",
       "layout": "IPY_MODEL_a8fa94b3dc7040a1a37b16dfe816728e",
       "style": "IPY_MODEL_46680ea9cf08453bbba87716a949425e"
      }
     },
     "0acccb10742547b3a8ba353ba43a46ba": {
      "model_module": "@jupyter-widgets/controls",
      "model_module_version": "1.5.0",
      "model_name": "DescriptionStyleModel",
      "state": {
       "description_width": "initial"
      }
     },
     "0af0e38486e749b880e12e99518c48fe": {
      "model_module": "@jupyter-widgets/controls",
      "model_module_version": "1.5.0",
      "model_name": "DescriptionStyleModel",
      "state": {
       "description_width": ""
      }
     },
     "0b01fc3b35854f39995e3d47af8a2132": {
      "model_module": "@jupyter-widgets/base",
      "model_module_version": "1.2.0",
      "model_name": "LayoutModel",
      "state": {}
     },
     "0b0f00ef3f374228bf663cef84d57a08": {
      "model_module": "@jupyter-widgets/base",
      "model_module_version": "1.2.0",
      "model_name": "LayoutModel",
      "state": {
       "margin": "0px 0px 0px 10px"
      }
     },
     "0b39de0ce63048feb59717710857d454": {
      "model_module": "@jupyter-widgets/base",
      "model_module_version": "1.2.0",
      "model_name": "LayoutModel",
      "state": {}
     },
     "0b40fd6d0f87440281f358a1101c5f1d": {
      "model_module": "@jupyter-widgets/controls",
      "model_module_version": "1.5.0",
      "model_name": "BoxModel",
      "state": {
       "children": [
        "IPY_MODEL_48e2d20a99a14aca8bab712a37904c5f"
       ],
       "layout": "IPY_MODEL_83c5b1068a9940e493b1afc71f40c9da"
      }
     },
     "0b5261b8d5c042808f3f7bd474236330": {
      "model_module": "@jupyter-widgets/base",
      "model_module_version": "1.2.0",
      "model_name": "LayoutModel",
      "state": {
       "margin": "0px 0px 0px 10px"
      }
     },
     "0b779c8dee5249d7b835336def7c7485": {
      "model_module": "@jupyter-widgets/controls",
      "model_module_version": "1.5.0",
      "model_name": "HTMLModel",
      "state": {
       "layout": "IPY_MODEL_f6827f369d7f438da1dea263445fffd7",
       "style": "IPY_MODEL_57c8f97073a341238488512320ec0f28",
       "value": "<b>Function parameters:</b>"
      }
     },
     "0b9c908684e940508179c23ee3b40579": {
      "model_module": "@jupyter-widgets/controls",
      "model_module_version": "1.5.0",
      "model_name": "DropdownModel",
      "state": {
       "_options_labels": [
        "2",
        "3"
       ],
       "description": "block#:",
       "index": 0,
       "layout": "IPY_MODEL_53c1f141752d47289cedddab051245e0",
       "style": "IPY_MODEL_7dc5f0026785405c8e9f14cfb445dd0a"
      }
     },
     "0ba976e043034f65a0e56108a1076f4f": {
      "model_module": "@jupyter-widgets/controls",
      "model_module_version": "1.5.0",
      "model_name": "ButtonStyleModel",
      "state": {
       "button_color": "lightblue"
      }
     },
     "0bf0efea21bf47008d89bad209862a33": {
      "model_module": "@jupyter-widgets/base",
      "model_module_version": "1.2.0",
      "model_name": "LayoutModel",
      "state": {
       "margin": "10px 0px 0px 10px",
       "width": "50%"
      }
     },
     "0c004a2f521a40c9a994f6317e1c2770": {
      "model_module": "@jupyter-widgets/base",
      "model_module_version": "1.2.0",
      "model_name": "LayoutModel",
      "state": {}
     },
     "0c0b87c453c34864a3bf5b7f0842dd5f": {
      "model_module": "@jupyter-widgets/controls",
      "model_module_version": "1.5.0",
      "model_name": "BoxModel",
      "state": {
       "children": [
        "IPY_MODEL_428fd5ac1fbe4afdbbaa68fd88e82c12"
       ],
       "layout": "IPY_MODEL_3176728abea241f48c03e59f73613e0e"
      }
     },
     "0c43d7f8f9d44b9f9f205ba76761cae0": {
      "model_module": "@jupyter-widgets/base",
      "model_module_version": "1.2.0",
      "model_name": "LayoutModel",
      "state": {
       "margin": "10px 0px 10px 0px"
      }
     },
     "0c46a5e4d53a4c3e9f770629c4bb24ab": {
      "model_module": "@jupyter-widgets/controls",
      "model_module_version": "1.5.0",
      "model_name": "DropdownModel",
      "state": {
       "_options_labels": [
        "entries"
       ],
       "description": "output token:",
       "index": 0,
       "layout": "IPY_MODEL_dcad1ac44bcb489eab0df6fe7cbd37c3",
       "style": "IPY_MODEL_8e778c0aba7a4dd4ba55929a1ca7db6a"
      }
     },
     "0c658c8fd30745b9afd62493badd9bfd": {
      "model_module": "@jupyter-widgets/controls",
      "model_module_version": "1.5.0",
      "model_name": "DescriptionStyleModel",
      "state": {
       "description_width": ""
      }
     },
     "0c7d46066bca497d8fd3e3215165bc0f": {
      "model_module": "@jupyter-widgets/controls",
      "model_module_version": "1.5.0",
      "model_name": "ButtonStyleModel",
      "state": {
       "button_color": "lightblue"
      }
     },
     "0c8de264402f4872847440b8280b834c": {
      "model_module": "@jupyter-widgets/base",
      "model_module_version": "1.2.0",
      "model_name": "LayoutModel",
      "state": {
       "width": "40%"
      }
     },
     "0cdd53c416af46238dda057e9a5b8929": {
      "model_module": "@jupyter-widgets/controls",
      "model_module_version": "1.5.0",
      "model_name": "HTMLModel",
      "state": {
       "layout": "IPY_MODEL_73ddd8c5f9c94a23bd5bea5984a812b2",
       "style": "IPY_MODEL_1dc3fecd0892489ba887f7764964df86",
       "value": "<b> Receive <<< </b>"
      }
     },
     "0d084c1007af4764bbe10efc7e1629f0": {
      "model_module": "@jupyter-widgets/controls",
      "model_module_version": "1.5.0",
      "model_name": "TextModel",
      "state": {
       "description": "names",
       "layout": "IPY_MODEL_334172991cd641a78774d69f09d9a132",
       "placeholder": "[]",
       "style": "IPY_MODEL_27c769f314c242849ec6a91be1c57c2c",
       "value": "None"
      }
     },
     "0d1c192a28b1480193acf617968be9bb": {
      "model_module": "@jupyter-widgets/controls",
      "model_module_version": "1.5.0",
      "model_name": "HTMLModel",
      "state": {
       "layout": "IPY_MODEL_26a68bdb1de447c1a3d6dd0f64876fdd",
       "style": "IPY_MODEL_4d9b0b1d27484fb596ac7b53e31715f7",
       "value": "<b>Note:</b> Don't forget to print/save the ChemML Wrapper's input file (configuration script) when you are done with editing:"
      }
     },
     "0d43679ad41f4798b476e46eb7ca75f5": {
      "model_module": "@jupyter-widgets/base",
      "model_module_version": "1.2.0",
      "model_name": "LayoutModel",
      "state": {}
     },
     "0d5e206c389540f98dc6ccab79353888": {
      "model_module": "@jupyter-widgets/base",
      "model_module_version": "1.2.0",
      "model_name": "LayoutModel",
      "state": {}
     },
     "0d922e5743864b6fb4adc92da464e019": {
      "model_module": "@jupyter-widgets/base",
      "model_module_version": "1.2.0",
      "model_name": "LayoutModel",
      "state": {}
     },
     "0d9e13c66d4e44fba975a92a3a79104a": {
      "model_module": "@jupyter-widgets/base",
      "model_module_version": "1.2.0",
      "model_name": "LayoutModel",
      "state": {}
     },
     "0dc3e0b732d04c5eb79f4a1af6b5f97b": {
      "model_module": "@jupyter-widgets/controls",
      "model_module_version": "1.5.0",
      "model_name": "ButtonStyleModel",
      "state": {
       "button_color": "lightblue"
      }
     },
     "0e11298a8f98401fa55676f2c32775ff": {
      "model_module": "@jupyter-widgets/controls",
      "model_module_version": "1.5.0",
      "model_name": "HBoxModel",
      "state": {
       "children": [
        "IPY_MODEL_9dd8157f7f4349218dd9e65854b0d2e8",
        "IPY_MODEL_69e18b47cd6c4279992d0d16cd0b108f",
        "IPY_MODEL_b680310cde4c4d9388709e89cd3a202e",
        "IPY_MODEL_83f3877fc1e74ea08c93c05b8d188c2b"
       ],
       "layout": "IPY_MODEL_2288b55075e148f3845d150185ed000f"
      }
     },
     "0e133cedf0814cbb8105857557a0fce6": {
      "model_module": "@jupyter-widgets/controls",
      "model_module_version": "1.5.0",
      "model_name": "HTMLModel",
      "state": {
       "layout": "IPY_MODEL_e010b57d096243a29fe4e0707d01d25a",
       "style": "IPY_MODEL_9d3e6ed4d8064593b2c581caefe2c1db",
       "value": "<b> Receive <<< </b>"
      }
     },
     "0e5e203859c34ee6ba94374779b5fe80": {
      "model_module": "@jupyter-widgets/controls",
      "model_module_version": "1.5.0",
      "model_name": "HTMLModel",
      "state": {
       "layout": "IPY_MODEL_e16cabc8972a49fab14f417b1dba2e1c",
       "style": "IPY_MODEL_705e803a3e604273838e0c31f733f8b0",
       "value": "<b>Note:</b> Don't forget to print/save the ChemML Wrapper's input file (configuration script) when you are done with editing:"
      }
     },
     "0ea885d5ef714f0eaa5fbf798cb003a9": {
      "model_module": "@jupyter-widgets/controls",
      "model_module_version": "1.5.0",
      "model_name": "TextModel",
      "state": {
       "description": "n_eigenvalues",
       "layout": "IPY_MODEL_c7f3d4f79b464fb898695427a80563e3",
       "placeholder": "[]",
       "style": "IPY_MODEL_a4f2e73412334cc681cc30c12d5d43a7",
       "value": "30"
      }
     },
     "0eb34ff821774d83829e0e22ea3b3202": {
      "model_module": "@jupyter-widgets/controls",
      "model_module_version": "1.5.0",
      "model_name": "DescriptionStyleModel",
      "state": {
       "description_width": "initial"
      }
     },
     "0ec8ceca4f9b4eb5a9998f68eac0d878": {
      "model_module": "@jupyter-widgets/controls",
      "model_module_version": "1.5.0",
      "model_name": "DescriptionStyleModel",
      "state": {
       "description_width": ""
      }
     },
     "0efe86aeef8247fda4949ac3cf696d6e": {
      "model_module": "@jupyter-widgets/controls",
      "model_module_version": "1.5.0",
      "model_name": "DescriptionStyleModel",
      "state": {
       "description_width": ""
      }
     },
     "0f11c510f2a448c2a684986698f6ef36": {
      "model_module": "@jupyter-widgets/base",
      "model_module_version": "1.2.0",
      "model_name": "LayoutModel",
      "state": {}
     },
     "0f19ff5ffa8e4b419310ba68b3da1909": {
      "model_module": "@jupyter-widgets/controls",
      "model_module_version": "1.5.0",
      "model_name": "DropdownModel",
      "state": {
       "description": "block#:",
       "index": null,
       "layout": "IPY_MODEL_1adf96d8204e47cc88dacf11c479958e",
       "style": "IPY_MODEL_2c50ef8476d945d48f9afb35961ccf1a"
      }
     },
     "0f2e18150a3e493fbcd8fc2c17cdbcc0": {
      "model_module": "@jupyter-widgets/base",
      "model_module_version": "1.2.0",
      "model_name": "LayoutModel",
      "state": {}
     },
     "0f3fd79a48064095a9d155929ba54895": {
      "model_module": "@jupyter-widgets/base",
      "model_module_version": "1.2.0",
      "model_name": "LayoutModel",
      "state": {}
     },
     "0f514778a48f499aa5b106ca4c1c553d": {
      "model_module": "@jupyter-widgets/base",
      "model_module_version": "1.2.0",
      "model_name": "LayoutModel",
      "state": {
       "width": "100%"
      }
     },
     "0f7104601a624783b2f1505d1270a423": {
      "model_module": "@jupyter-widgets/base",
      "model_module_version": "1.2.0",
      "model_name": "LayoutModel",
      "state": {
       "margin": "10px 0px 0px 10px",
       "width": "50%"
      }
     },
     "0f752bd331b94790b0649dc4b42c429d": {
      "model_module": "@jupyter-widgets/base",
      "model_module_version": "1.2.0",
      "model_name": "LayoutModel",
      "state": {}
     },
     "0f85e07438bf49c68eb2613771d1b2ad": {
      "model_module": "@jupyter-widgets/base",
      "model_module_version": "1.2.0",
      "model_name": "LayoutModel",
      "state": {}
     },
     "0fd1b93a79ca4665a86b9438f6dca4d2": {
      "model_module": "@jupyter-widgets/controls",
      "model_module_version": "1.5.0",
      "model_name": "DescriptionStyleModel",
      "state": {
       "description_width": ""
      }
     },
     "0fe4b5a182ef4650aa504c393717fa36": {
      "model_module": "@jupyter-widgets/controls",
      "model_module_version": "1.5.0",
      "model_name": "LabelModel",
      "state": {
       "layout": "IPY_MODEL_58cfd6bc6f3d40a68c22f5c236029100",
       "style": "IPY_MODEL_d5de9ea61d494f3cb0d9137dba9c55e2",
       "value": "Template 1: load_cep_homo --> plot histogram of HOMO energies --> print 5 SMILES"
      }
     },
     "100901711fb24078b481de3789aa00be": {
      "model_module": "@jupyter-widgets/controls",
      "model_module_version": "1.5.0",
      "model_name": "LabelModel",
      "state": {
       "layout": "IPY_MODEL_b149df8017c949dab8e2f82a7644bcad",
       "style": "IPY_MODEL_d6572b656d9f451081bf0b310d424009",
       "value": "Start with a new script"
      }
     },
     "101b1ce04eb24b83a5fd216a8f9d8c30": {
      "model_module": "@jupyter-widgets/controls",
      "model_module_version": "1.5.0",
      "model_name": "DropdownModel",
      "state": {
       "_options_labels": [
        "Convert",
        "python script",
        "xyz",
        "datasets",
        "table"
       ],
       "description": "Subtask:",
       "index": 0,
       "layout": "IPY_MODEL_79ac52342a864d36b8c174bc3bf0b4db",
       "style": "IPY_MODEL_44bea024d38d49099764dbc455fb1255"
      }
     },
     "1063c4b55dca4c82b54305eee2039385": {
      "model_module": "@jupyter-widgets/controls",
      "model_module_version": "1.5.0",
      "model_name": "DescriptionStyleModel",
      "state": {
       "description_width": ""
      }
     },
     "1099fd1f419e47f4ba46f9106d48dc38": {
      "model_module": "@jupyter-widgets/controls",
      "model_module_version": "1.5.0",
      "model_name": "DescriptionStyleModel",
      "state": {
       "description_width": ""
      }
     },
     "109b41baebf144298fb56d4b5ad9a319": {
      "model_module": "@jupyter-widgets/controls",
      "model_module_version": "1.5.0",
      "model_name": "BoxModel",
      "state": {
       "children": [
        "IPY_MODEL_4702debb938347cbbf9f6ee986e3a2a3"
       ],
       "layout": "IPY_MODEL_05b061e8555249598e2f986f0db76f72"
      }
     },
     "10c601c45aee4967ae50b9a1b8014301": {
      "model_module": "@jupyter-widgets/controls",
      "model_module_version": "1.5.0",
      "model_name": "DescriptionStyleModel",
      "state": {
       "description_width": ""
      }
     },
     "10d564af7c834a0882b3ddeeb6b30c7d": {
      "model_module": "@jupyter-widgets/controls",
      "model_module_version": "1.5.0",
      "model_name": "DescriptionStyleModel",
      "state": {
       "description_width": "initial"
      }
     },
     "10eb874d8eba4cbf9ee1b9597a728808": {
      "model_module": "@jupyter-widgets/controls",
      "model_module_version": "1.5.0",
      "model_name": "ButtonStyleModel",
      "state": {
       "button_color": "lightblue"
      }
     },
     "10f6681374b64e728a3f53f39d9bf9eb": {
      "model_module": "@jupyter-widgets/controls",
      "model_module_version": "1.5.0",
      "model_name": "DropdownModel",
      "state": {
       "_options_labels": [
        "Enter",
        "Represent",
        "Prepare",
        "Model",
        "Search",
        "Visualize",
        "Store"
       ],
       "description": "Task:",
       "index": 0,
       "layout": "IPY_MODEL_0f11c510f2a448c2a684986698f6ef36",
       "style": "IPY_MODEL_fbd39e17b264408da9cd9337399e3d0b"
      }
     },
     "110124c8d20a45f489e6b2e0b6adeab3": {
      "model_module": "@jupyter-widgets/controls",
      "model_module_version": "1.5.0",
      "model_name": "DescriptionStyleModel",
      "state": {
       "description_width": ""
      }
     },
     "11033f49ee6c495093a91eb72ea27cbe": {
      "model_module": "@jupyter-widgets/controls",
      "model_module_version": "1.5.0",
      "model_name": "HBoxModel",
      "state": {
       "children": [
        "IPY_MODEL_189be4c62c204837a57bec3fb237f6e9"
       ],
       "layout": "IPY_MODEL_b0907179151e43eebb8620163ccdc67d"
      }
     },
     "111a6d987e6547dcbfd4b1c6c76b669f": {
      "model_module": "@jupyter-widgets/controls",
      "model_module_version": "1.5.0",
      "model_name": "DescriptionStyleModel",
      "state": {
       "description_width": ""
      }
     },
     "111f0174e8744697957340d6fdef851b": {
      "model_module": "@jupyter-widgets/controls",
      "model_module_version": "1.5.0",
      "model_name": "TextModel",
      "state": {
       "description": "line02",
       "layout": "IPY_MODEL_326c1cb279e844e7a42e93bf87483a7b",
       "placeholder": "[]",
       "style": "IPY_MODEL_a9023aca95eb4a9f93ae1b5a454e0b42",
       "value": "input tokens are available as ..."
      }
     },
     "1135170b4cad424ba652cc062e4f2deb": {
      "model_module": "@jupyter-widgets/controls",
      "model_module_version": "1.5.0",
      "model_name": "BoxModel",
      "state": {
       "children": [
        "IPY_MODEL_8e49503a90034ba5b4e8b9ad500c6366"
       ],
       "layout": "IPY_MODEL_84f27ff97ef344ac9a65017acb3af1ba"
      }
     },
     "115d3c16db344ead8ba84d6cd4e53638": {
      "model_module": "@jupyter-widgets/base",
      "model_module_version": "1.2.0",
      "model_name": "LayoutModel",
      "state": {
       "border": "dotted black 1px",
       "justify_content": "space-between"
      }
     },
     "115e71cc06754d2599697c2a03de8111": {
      "model_module": "@jupyter-widgets/controls",
      "model_module_version": "1.5.0",
      "model_name": "TextModel",
      "state": {
       "description": "Type:",
       "disabled": true,
       "layout": "IPY_MODEL_8b17d2ede5294fb49772ba2f4e61fa1e",
       "style": "IPY_MODEL_c426a6de835c4ba0a496e065e050c615"
      }
     },
     "11a5209921d741bcb92c9d73d57ec2de": {
      "model_module": "@jupyter-widgets/base",
      "model_module_version": "1.2.0",
      "model_name": "LayoutModel",
      "state": {}
     },
     "11d291a8a01c45b2baf553ef60970583": {
      "model_module": "@jupyter-widgets/controls",
      "model_module_version": "1.5.0",
      "model_name": "CheckboxModel",
      "state": {
       "description": "Check to set",
       "disabled": false,
       "indent": false,
       "layout": "IPY_MODEL_ca5bbfbdd09b4faeacf10361a110ada3",
       "style": "IPY_MODEL_1f3309d9e4b149bb9c6dc57dbc6b7dd6",
       "value": false
      }
     },
     "11fc2e26cc7944deafbb6d8bab078cb2": {
      "model_module": "@jupyter-widgets/controls",
      "model_module_version": "1.5.0",
      "model_name": "DropdownModel",
      "state": {
       "_options_labels": [
        "entries"
       ],
       "description": "output token:",
       "index": 0,
       "layout": "IPY_MODEL_1afe9bc7f9454e66a87cc6f124288449",
       "style": "IPY_MODEL_e9b626785e084ed59a473ed91cbcdfc9"
      }
     },
     "1277e38c88fc4b9991fc179f980f6534": {
      "model_module": "@jupyter-widgets/base",
      "model_module_version": "1.2.0",
      "model_name": "LayoutModel",
      "state": {}
     },
     "127a68c8b7fe4dbe838bd4fffe0898b3": {
      "model_module": "@jupyter-widgets/base",
      "model_module_version": "1.2.0",
      "model_name": "LayoutModel",
      "state": {
       "margin": "0px 0px 0px 10px"
      }
     },
     "1292f16f5e424d358456baf2d9ffe94f": {
      "model_module": "@jupyter-widgets/controls",
      "model_module_version": "1.5.0",
      "model_name": "ButtonStyleModel",
      "state": {
       "button_color": "lightblue"
      }
     },
     "12a0527e8c1c4775803043013cac320a": {
      "model_module": "@jupyter-widgets/controls",
      "model_module_version": "1.5.0",
      "model_name": "HBoxModel",
      "state": {
       "children": [
        "IPY_MODEL_39546546f53d424dafeda3a95e055057",
        "IPY_MODEL_a2f45e4d42eb456589ee02dd6fb9255f",
        "IPY_MODEL_177361f34b5040858bbf5bf76e70bc58",
        "IPY_MODEL_71ce95fc2f4a4951b353b7a5f4673357"
       ],
       "layout": "IPY_MODEL_b3e8dff237f04cee80b1b18153d56480"
      }
     },
     "12b81dfd3ca7439d9e2d1152aadaab69": {
      "model_module": "@jupyter-widgets/controls",
      "model_module_version": "1.5.0",
      "model_name": "HBoxModel",
      "state": {
       "children": [
        "IPY_MODEL_7fb4808fd9d044f9b01725a6c4018319",
        "IPY_MODEL_83dede08aaad4cd1984b8979b3420a0d",
        "IPY_MODEL_aa5e42d610b04175b5b51fc90a461f4e"
       ],
       "layout": "IPY_MODEL_de6cd30f7bf146e5ac9d010b3c5d73e8"
      }
     },
     "12c312f2cf90450ea34af9fe241b34a0": {
      "model_module": "@jupyter-widgets/controls",
      "model_module_version": "1.5.0",
      "model_name": "HTMLModel",
      "state": {
       "layout": "IPY_MODEL_565e24900dfe450c911a9364300ab2b5",
       "style": "IPY_MODEL_053138bbf81d4cb8ad616939a2bba53f",
       "value": "<b> Note: </b> This page automatically avoid: (1) loops, (2) type inconsistency, and (3) more than one input per token."
      }
     },
     "12c9c91073244736abefe3da29e85449": {
      "model_module": "@jupyter-widgets/controls",
      "model_module_version": "1.5.0",
      "model_name": "SelectMultipleModel",
      "state": {
       "index": [],
       "layout": "IPY_MODEL_970c7969b86c4e2f9ce1f9d5a623a0a6",
       "rows": 5,
       "style": "IPY_MODEL_e602455ef00b4097b2d5b1064d5d5068"
      }
     },
     "12d088b2d39247899a17f091150c84fc": {
      "model_module": "@jupyter-widgets/base",
      "model_module_version": "1.2.0",
      "model_name": "LayoutModel",
      "state": {
       "margin": "40px 0px 0px 10px",
       "width": "120px"
      }
     },
     "12d2f4d6e31f437eaba2d6e684e76177": {
      "model_module": "@jupyter-widgets/controls",
      "model_module_version": "1.5.0",
      "model_name": "TextModel",
      "state": {
       "description": "line07",
       "layout": "IPY_MODEL_9f5b9dc5303c4ba983772f73266ea292",
       "placeholder": "[]",
       "style": "IPY_MODEL_c6401909760e4f158bf40d209b6cd564",
       "value": "type python code"
      }
     },
     "1341571987bd4b838482ce11321b8fc4": {
      "model_module": "@jupyter-widgets/controls",
      "model_module_version": "1.5.0",
      "model_name": "DropdownModel",
      "state": {
       "_options_labels": [
        "entries"
       ],
       "description": "input token:",
       "index": 0,
       "layout": "IPY_MODEL_440060fd6b0345b991f685445a7c45fe",
       "style": "IPY_MODEL_ca0a7565657f46f2919fd1043e953ca5"
      }
     },
     "1353c1bb491e4028afeb5526e3adac06": {
      "model_module": "@jupyter-widgets/base",
      "model_module_version": "1.2.0",
      "model_name": "LayoutModel",
      "state": {
       "width": "40%"
      }
     },
     "138e09f1988544f8b3b2ca90679869ec": {
      "model_module": "@jupyter-widgets/controls",
      "model_module_version": "1.5.0",
      "model_name": "DropdownModel",
      "state": {
       "_options_labels": [
        "df"
       ],
       "description": "output token:",
       "index": 0,
       "layout": "IPY_MODEL_1277e38c88fc4b9991fc179f980f6534",
       "style": "IPY_MODEL_18c2aa6967ac405bb222c50c189e9ea4"
      }
     },
     "13aae971fe774af1976238734dcbf41c": {
      "model_module": "@jupyter-widgets/controls",
      "model_module_version": "1.5.0",
      "model_name": "ToggleButtonsModel",
      "state": {
       "_options_labels": [
        "Prepare",
        "data manipulation",
        "pandas",
        "concat"
       ],
       "button_style": "info",
       "icons": [],
       "index": 0,
       "layout": "IPY_MODEL_a402629b56f34c839f613b51856590db",
       "style": "IPY_MODEL_6635758b45a4468ca85659098dfb7408",
       "tooltips": []
      }
     },
     "13f4c10d05af4f3e90dd0d48ca244e36": {
      "model_module": "@jupyter-widgets/base",
      "model_module_version": "1.2.0",
      "model_name": "LayoutModel",
      "state": {
       "margin": "20px 0px 20px 250px"
      }
     },
     "13fa1b055cdc4b97a5163a05802c41f7": {
      "model_module": "@jupyter-widgets/controls",
      "model_module_version": "1.5.0",
      "model_name": "DescriptionStyleModel",
      "state": {
       "description_width": ""
      }
     },
     "1440b52ad8434a2f9ae1880596be1218": {
      "model_module": "@jupyter-widgets/controls",
      "model_module_version": "1.5.0",
      "model_name": "DescriptionStyleModel",
      "state": {
       "description_width": ""
      }
     },
     "14770536f8c14f599b0e977a4ccd20f8": {
      "model_module": "@jupyter-widgets/controls",
      "model_module_version": "1.5.0",
      "model_name": "VBoxModel",
      "state": {
       "children": [
        "IPY_MODEL_067fa11205e645e7850d5c54663ffb5a",
        "IPY_MODEL_b48d049b4cdb4c5a9449f49a56935bd2",
        "IPY_MODEL_14f19e1830174cdd9ffeb055e8f37216",
        "IPY_MODEL_0cdd53c416af46238dda057e9a5b8929",
        "IPY_MODEL_2a35331abd874a2c8c4801a8243bafdc",
        "IPY_MODEL_2974af41d75b460bbcf115cbff17ef9b",
        "IPY_MODEL_878c213a056f46199d3e1bce1efd6845"
       ],
       "layout": "IPY_MODEL_e52721e4fb724acdb10a055764ddde2c"
      }
     },
     "1488771fcd5b4056845f7f3ebd5d5a2c": {
      "model_module": "@jupyter-widgets/controls",
      "model_module_version": "1.5.0",
      "model_name": "ToggleButtonsModel",
      "state": {
       "_options_labels": [
        "Enter",
        "python script",
        "chemml",
        "PyScript"
       ],
       "button_style": "info",
       "icons": [],
       "index": 0,
       "layout": "IPY_MODEL_9bdaef3422a0450aa8130b3f30a51d1a",
       "style": "IPY_MODEL_7587fa53586d4b8ca4f39b428e664128",
       "tooltips": []
      }
     },
     "148b690db2444bc8b5a2375c1d6e0055": {
      "model_module": "@jupyter-widgets/base",
      "model_module_version": "1.2.0",
      "model_name": "LayoutModel",
      "state": {
       "align_items": "center",
       "border": "dotted black 1px",
       "height": "40px",
       "margin": "0px 0px 0px 10px"
      }
     },
     "14a1a4d533b543c899ccb616709c75a0": {
      "model_module": "@jupyter-widgets/base",
      "model_module_version": "1.2.0",
      "model_name": "LayoutModel",
      "state": {
       "width": "140px"
      }
     },
     "14c6f84485f643f29b1f1862eecb684c": {
      "model_module": "@jupyter-widgets/controls",
      "model_module_version": "1.5.0",
      "model_name": "DescriptionStyleModel",
      "state": {
       "description_width": ""
      }
     },
     "14ea4856f70442158df0e3d231292713": {
      "model_module": "@jupyter-widgets/controls",
      "model_module_version": "1.5.0",
      "model_name": "ButtonModel",
      "state": {
       "description": "Default values",
       "layout": "IPY_MODEL_613d9f62ad5b47e7b53be7601fb02a16",
       "style": "IPY_MODEL_4b528a9c0faa4b2b906548ab6a0f7761"
      }
     },
     "14f19e1830174cdd9ffeb055e8f37216": {
      "model_module": "@jupyter-widgets/controls",
      "model_module_version": "1.5.0",
      "model_name": "HBoxModel",
      "state": {
       "children": [
        "IPY_MODEL_014e991b3f6a4e2e851d938772de1f70",
        "IPY_MODEL_cb29e3b9054f4fb0804093ea24de1525",
        "IPY_MODEL_3d6919efb5d44d2ba414451912de4047",
        "IPY_MODEL_b4b47d91536a46fdbfc55c4b30495cd6"
       ],
       "layout": "IPY_MODEL_f0bfed326221440e96d241b816d0fd32"
      }
     },
     "14f4dbaacadf467fbc65814da852248f": {
      "model_module": "@jupyter-widgets/base",
      "model_module_version": "1.2.0",
      "model_name": "LayoutModel",
      "state": {
       "width": "140px"
      }
     },
     "150ac82512e04ac3a0c0c57756ab179f": {
      "model_module": "@jupyter-widgets/controls",
      "model_module_version": "1.5.0",
      "model_name": "HTMLModel",
      "state": {
       "layout": "IPY_MODEL_b7e13c74e7a340fb951df86b7e0e78ad",
       "style": "IPY_MODEL_093f22889a564c309233730e5d19dbea",
       "value": "<b>Wrapper parameters:</b>"
      }
     },
     "151b6bccfe2f44f0ad89fbeaf49a3ceb": {
      "model_module": "@jupyter-widgets/controls",
      "model_module_version": "1.5.0",
      "model_name": "ButtonStyleModel",
      "state": {
       "button_color": "lightblue"
      }
     },
     "1537668371324a85aeb8971b1de15263": {
      "model_module": "@jupyter-widgets/controls",
      "model_module_version": "1.5.0",
      "model_name": "HTMLModel",
      "state": {
       "layout": "IPY_MODEL_a735d2972c6e45df88c8faac4841828b",
       "style": "IPY_MODEL_d4f7bc9e337343239e76c0903c94ecf4",
       "value": "<b> <<< </b>"
      }
     },
     "15446420555d4ff3991d70cdd382b8b7": {
      "model_module": "@jupyter-widgets/base",
      "model_module_version": "1.2.0",
      "model_name": "LayoutModel",
      "state": {}
     },
     "15811001b3a0492dbf2b9b776713f049": {
      "model_module": "@jupyter-widgets/controls",
      "model_module_version": "1.5.0",
      "model_name": "DescriptionStyleModel",
      "state": {
       "description_width": ""
      }
     },
     "15afaf60f0b3423c89c44f77936d0277": {
      "model_module": "@jupyter-widgets/controls",
      "model_module_version": "1.5.0",
      "model_name": "DescriptionStyleModel",
      "state": {
       "description_width": ""
      }
     },
     "15c8911a1d7b4e98baf1c1cf5f55e36b": {
      "model_module": "@jupyter-widgets/controls",
      "model_module_version": "1.5.0",
      "model_name": "TextModel",
      "state": {
       "description": "Type:",
       "disabled": true,
       "layout": "IPY_MODEL_bd6ecc66c4e341848f1ec2889155b589",
       "style": "IPY_MODEL_6d396ec26cbb46009836c514516dcda5"
      }
     },
     "15fe7bc991b14447a36054b28201cf6b": {
      "model_module": "@jupyter-widgets/base",
      "model_module_version": "1.2.0",
      "model_name": "LayoutModel",
      "state": {
       "width": "40%"
      }
     },
     "16358ebe67374b139560901f035946c8": {
      "model_module": "@jupyter-widgets/controls",
      "model_module_version": "1.5.0",
      "model_name": "ButtonStyleModel",
      "state": {
       "button_color": "lightblue"
      }
     },
     "1695cbd54b44441eb8e1b0dfeb847bb3": {
      "model_module": "@jupyter-widgets/controls",
      "model_module_version": "1.5.0",
      "model_name": "CheckboxModel",
      "state": {
       "description": "Check to set",
       "disabled": false,
       "indent": false,
       "layout": "IPY_MODEL_c3b623017c84451dad69dc510e69fb56",
       "style": "IPY_MODEL_946ff3a5a74d438180f5deb84866414e",
       "value": false
      }
     },
     "169932a6e17a4beab502630192f90a11": {
      "model_module": "@jupyter-widgets/controls",
      "model_module_version": "1.5.0",
      "model_name": "HTMLModel",
      "state": {
       "layout": "IPY_MODEL_cb5ce975fe814877bac23c873deda5a6",
       "style": "IPY_MODEL_9b0b18a65127483a9d03370ef8e5d516",
       "value": "<b>Function parameters:</b>"
      }
     },
     "16a847a045bf4f75bbb88857d712f2fd": {
      "model_module": "@jupyter-widgets/base",
      "model_module_version": "1.2.0",
      "model_name": "LayoutModel",
      "state": {
       "margin": "20px 0px 0px 0px",
       "width": "120px"
      }
     },
     "16c3c574904447ac8f4e3b78efc59268": {
      "model_module": "@jupyter-widgets/controls",
      "model_module_version": "1.5.0",
      "model_name": "BoxModel",
      "state": {
       "children": [
        "IPY_MODEL_da78d4e459c44b828547547526d10188"
       ],
       "layout": "IPY_MODEL_36b7e3e504634645a2e4a0e0d748e501"
      }
     },
     "16ed70ff47f34d44b7aea3e1c060a5d3": {
      "model_module": "@jupyter-widgets/controls",
      "model_module_version": "1.5.0",
      "model_name": "VBoxModel",
      "state": {
       "children": [
        "IPY_MODEL_569cad9f7e0641dc92cc6a0dce611cc2"
       ],
       "layout": "IPY_MODEL_266f867257f44e91a88afe4ca97ebc3f"
      }
     },
     "16f854f3e89a41d59bb222ec2160ef70": {
      "model_module": "@jupyter-widgets/base",
      "model_module_version": "1.2.0",
      "model_name": "LayoutModel",
      "state": {}
     },
     "16f95e53fb5f4fe5b8251781fdf1d6bd": {
      "model_module": "@jupyter-widgets/controls",
      "model_module_version": "1.5.0",
      "model_name": "DescriptionStyleModel",
      "state": {
       "description_width": "initial"
      }
     },
     "170ae3d9ef3348229ace69dfd1647f99": {
      "model_module": "@jupyter-widgets/base",
      "model_module_version": "1.2.0",
      "model_name": "LayoutModel",
      "state": {
       "margin": "0px 0px 0px 10px"
      }
     },
     "175db156f57845b2b1031522ec9ce97c": {
      "model_module": "@jupyter-widgets/controls",
      "model_module_version": "1.5.0",
      "model_name": "ButtonModel",
      "state": {
       "description": "Default values",
       "layout": "IPY_MODEL_acf5acc7c8514cab9dd4e7d9f659c9a0",
       "style": "IPY_MODEL_a17f834ea00b4d5ca04e91ea73006842"
      }
     },
     "177361f34b5040858bbf5bf76e70bc58": {
      "model_module": "@jupyter-widgets/controls",
      "model_module_version": "1.5.0",
      "model_name": "HBoxModel",
      "state": {
       "children": [
        "IPY_MODEL_7e7edbe1e5d34b6aaa500dea8450e510",
        "IPY_MODEL_f6682f133b57465f9f396e0b204fc21d",
        "IPY_MODEL_0c46a5e4d53a4c3e9f770629c4bb24ab"
       ],
       "layout": "IPY_MODEL_1df46679332643fb860f84ed2982cf30"
      }
     },
     "17e6902dd9874156ae9581bb3f27c598": {
      "model_module": "@jupyter-widgets/controls",
      "model_module_version": "1.5.0",
      "model_name": "HBoxModel",
      "state": {
       "children": [
        "IPY_MODEL_5e653e2b078b404f8b4188916eeb2961",
        "IPY_MODEL_b3044b5de8fb49ce8178b16091464931",
        "IPY_MODEL_e5adfaef0d204d91a4d3c1c9ec6b487a"
       ],
       "layout": "IPY_MODEL_955b81fbd405406184aeaa1b1442b0c3"
      }
     },
     "180e5c878bb8493fb230ad1309c9697e": {
      "model_module": "@jupyter-widgets/controls",
      "model_module_version": "1.5.0",
      "model_name": "DescriptionStyleModel",
      "state": {
       "description_width": ""
      }
     },
     "18104729dab044da9ea35adee8f361e2": {
      "model_module": "@jupyter-widgets/base",
      "model_module_version": "1.2.0",
      "model_name": "LayoutModel",
      "state": {
       "margin": "10px 0px 10px 0px",
       "width": "50%"
      }
     },
     "18195b819b594f27849c249727fd4703": {
      "model_module": "@jupyter-widgets/base",
      "model_module_version": "1.2.0",
      "model_name": "LayoutModel",
      "state": {
       "width": "40px"
      }
     },
     "182cb87c18cd4c68a4f4e6fef39adede": {
      "model_module": "@jupyter-widgets/controls",
      "model_module_version": "1.5.0",
      "model_name": "DescriptionStyleModel",
      "state": {
       "description_width": ""
      }
     },
     "182cb88c04d84f09869b165b7adc7a51": {
      "model_module": "@jupyter-widgets/controls",
      "model_module_version": "1.5.0",
      "model_name": "HTMLModel",
      "state": {
       "layout": "IPY_MODEL_78865b11cb4b48878b12a24e9d27b900",
       "style": "IPY_MODEL_c3200c5c30214fc883da30aeb31e10f9",
       "value": "<b> Entering Custom Dataset from Excel: </b>"
      }
     },
     "18497a67fa6f4d2d9013ef3626d6e4b2": {
      "model_module": "@jupyter-widgets/controls",
      "model_module_version": "1.5.0",
      "model_name": "HBoxModel",
      "state": {
       "children": [
        "IPY_MODEL_8bfe858ae8ba4bde96012168aa1572fe",
        "IPY_MODEL_02410dd0bfed4ef69ad02d6f104fa41c",
        "IPY_MODEL_82643df66d6d43e2913e1e76e25b2829",
        "IPY_MODEL_6dbba09e94244be0a9ce84c1fb662823"
       ],
       "layout": "IPY_MODEL_fc5c0f6616ad455da9adf9db453e07f9"
      }
     },
     "184a101156de43aa9678026ff72d6fa4": {
      "model_module": "@jupyter-widgets/base",
      "model_module_version": "1.2.0",
      "model_name": "LayoutModel",
      "state": {
       "margin": "0px 0px 0px 10px"
      }
     },
     "184e62cd06e247ab88a8f2145f4b0371": {
      "model_module": "@jupyter-widgets/controls",
      "model_module_version": "1.5.0",
      "model_name": "DescriptionStyleModel",
      "state": {
       "description_width": ""
      }
     },
     "1886f30fc9234f83a85172ecd609d27a": {
      "model_module": "@jupyter-widgets/base",
      "model_module_version": "1.2.0",
      "model_name": "LayoutModel",
      "state": {}
     },
     "18878302d1e545d2a30570cc2f846201": {
      "model_module": "@jupyter-widgets/controls",
      "model_module_version": "1.5.0",
      "model_name": "HBoxModel",
      "state": {
       "children": [
        "IPY_MODEL_9486adac37b14fa1a9efef0c0de5f953",
        "IPY_MODEL_c83adc8042d943ca83e4d51c1051ecec",
        "IPY_MODEL_2b9ee8e0b8e1419fb4659bd4cc382039"
       ],
       "layout": "IPY_MODEL_6fba49975a2a435e83d621e33c1c3360"
      }
     },
     "189be4c62c204837a57bec3fb237f6e9": {
      "model_module": "@jupyter-widgets/controls",
      "model_module_version": "1.5.0",
      "model_name": "DropdownModel",
      "state": {
       "_options_labels": [
        "entries"
       ],
       "description": "input token:",
       "index": 0,
       "layout": "IPY_MODEL_b13d6c64ff344ac2b23307e6c7f18f15",
       "style": "IPY_MODEL_f7aaa29772344b78b5e5f9141aeeb607"
      }
     },
     "18a9790460f843a2bed9ad584d9369fa": {
      "model_module": "@jupyter-widgets/base",
      "model_module_version": "1.2.0",
      "model_name": "LayoutModel",
      "state": {}
     },
     "18b0aab9ce08463284ea49bb6d57975d": {
      "model_module": "@jupyter-widgets/controls",
      "model_module_version": "1.5.0",
      "model_name": "DescriptionStyleModel",
      "state": {
       "description_width": "initial"
      }
     },
     "18c2aa6967ac405bb222c50c189e9ea4": {
      "model_module": "@jupyter-widgets/controls",
      "model_module_version": "1.5.0",
      "model_name": "DescriptionStyleModel",
      "state": {
       "description_width": ""
      }
     },
     "18cbbcd7b6414ab3a772ccfe1b14752f": {
      "model_module": "@jupyter-widgets/controls",
      "model_module_version": "1.5.0",
      "model_name": "ButtonModel",
      "state": {
       "description": "Remove block",
       "layout": "IPY_MODEL_dd6299798b8a48d89966f8b365904dd8",
       "style": "IPY_MODEL_79901c5f29f242b3b35529739cb08f75"
      }
     },
     "18e6174f36b742a1b1e19fae8ab081ad": {
      "model_module": "@jupyter-widgets/base",
      "model_module_version": "1.2.0",
      "model_name": "LayoutModel",
      "state": {
       "margin": "0px 0px 0px 10px"
      }
     },
     "18f1cfe032064c31b0684402bbc10d36": {
      "model_module": "@jupyter-widgets/controls",
      "model_module_version": "1.5.0",
      "model_name": "HTMLModel",
      "state": {
       "layout": "IPY_MODEL_20cfed5d3fc34ceabb05249704fb7362",
       "style": "IPY_MODEL_bb711945e55747f9ae4b79b8945db753",
       "value": "<b> >>> </b>"
      }
     },
     "1949bed943a24122a24caa3c0415b4e9": {
      "model_module": "@jupyter-widgets/base",
      "model_module_version": "1.2.0",
      "model_name": "LayoutModel",
      "state": {}
     },
     "195562d154e64a42854717b65a3dd907": {
      "model_module": "@jupyter-widgets/controls",
      "model_module_version": "1.5.0",
      "model_name": "HTMLModel",
      "state": {
       "layout": "IPY_MODEL_dbd1a5d1403b43c584a90e6debebf1bb",
       "style": "IPY_MODEL_8dfa49b0379a4fb6a612bfa472720f5b",
       "value": "<b>Documentation: </b>"
      }
     },
     "1965ee6aba4046ca970913b095b74dce": {
      "model_module": "@jupyter-widgets/base",
      "model_module_version": "1.2.0",
      "model_name": "LayoutModel",
      "state": {
       "align_items": "center",
       "border": "dotted black 1px",
       "height": "40px",
       "justify_content": "center"
      }
     },
     "1999e860b53946d88f78806bbefa2ed6": {
      "model_module": "@jupyter-widgets/controls",
      "model_module_version": "1.5.0",
      "model_name": "DescriptionStyleModel",
      "state": {
       "description_width": ""
      }
     },
     "19f470e90b634b368dc57c52b93ecb38": {
      "model_module": "@jupyter-widgets/base",
      "model_module_version": "1.2.0",
      "model_name": "LayoutModel",
      "state": {
       "align_content": "center",
       "justify_content": "center"
      }
     },
     "1a4b7b1e7e4e4d62af590b1708209023": {
      "model_module": "@jupyter-widgets/base",
      "model_module_version": "1.2.0",
      "model_name": "LayoutModel",
      "state": {}
     },
     "1a6927c45cb04b419230a0c15e5d1ac6": {
      "model_module": "@jupyter-widgets/controls",
      "model_module_version": "1.5.0",
      "model_name": "ButtonStyleModel",
      "state": {}
     },
     "1a7283a0161e4789b7b733cf8a6375e7": {
      "model_module": "@jupyter-widgets/controls",
      "model_module_version": "1.5.0",
      "model_name": "CheckboxModel",
      "state": {
       "description": "Check to set",
       "disabled": false,
       "indent": false,
       "layout": "IPY_MODEL_6f8513c0d45e4abd9a0e616460277ee3",
       "style": "IPY_MODEL_dd5ba2f330694d6ba4eb08967cdaeb20",
       "value": false
      }
     },
     "1adcf90d5cb340e6a319a37821e6c8d8": {
      "model_module": "@jupyter-widgets/controls",
      "model_module_version": "1.5.0",
      "model_name": "HTMLModel",
      "state": {
       "layout": "IPY_MODEL_93e30949bed34165a660ad46c6be9f1e",
       "style": "IPY_MODEL_4caf961c30fe463c96eae4c3730aab3a",
       "value": "<b>Wrapper parameters:</b>"
      }
     },
     "1adf96d8204e47cc88dacf11c479958e": {
      "model_module": "@jupyter-widgets/base",
      "model_module_version": "1.2.0",
      "model_name": "LayoutModel",
      "state": {
       "width": "140px"
      }
     },
     "1ae89900008a40ec91e46855a8a8ce87": {
      "model_module": "@jupyter-widgets/base",
      "model_module_version": "1.2.0",
      "model_name": "LayoutModel",
      "state": {
       "margin": "0px 10px 0px 0px",
       "width": "60px"
      }
     },
     "1afe9bc7f9454e66a87cc6f124288449": {
      "model_module": "@jupyter-widgets/base",
      "model_module_version": "1.2.0",
      "model_name": "LayoutModel",
      "state": {}
     },
     "1b230d9ff9994df186579b2d810ba741": {
      "model_module": "@jupyter-widgets/base",
      "model_module_version": "1.2.0",
      "model_name": "LayoutModel",
      "state": {}
     },
     "1b8bb6c493964b79b00e400fbddc1577": {
      "model_module": "@jupyter-widgets/base",
      "model_module_version": "1.2.0",
      "model_name": "LayoutModel",
      "state": {}
     },
     "1b92a22f515f4d3d96fc7f00813ea50f": {
      "model_module": "@jupyter-widgets/controls",
      "model_module_version": "1.5.0",
      "model_name": "HBoxModel",
      "state": {
       "children": [
        "IPY_MODEL_f68369a5be314e5cb4b4357bf9f9ab98",
        "IPY_MODEL_6670e53555a141d98e28c52f20f27eaa"
       ],
       "layout": "IPY_MODEL_c31d1416036b405e8fd2094db6769df5"
      }
     },
     "1bd5f5bc2182472db43459edd5494305": {
      "model_module": "@jupyter-widgets/controls",
      "model_module_version": "1.5.0",
      "model_name": "HTMLModel",
      "state": {
       "layout": "IPY_MODEL_825d3c4fc35d48ccb359732edbcc982c",
       "style": "IPY_MODEL_49e1668528a848c284028155c8d76e14",
       "value": "<b>Function parameters:</b>"
      }
     },
     "1bfd7d7db3c447829a47f5445bc606f9": {
      "model_module": "@jupyter-widgets/controls",
      "model_module_version": "1.5.0",
      "model_name": "HTMLModel",
      "state": {
       "layout": "IPY_MODEL_e0c3ae5a7b1f4a0f94d9c23a089430ce",
       "style": "IPY_MODEL_344fe3787c7848f7a8c6f728792ba16a",
       "value": "<b>Wrapper parameters:</b>"
      }
     },
     "1c20ccb14f8b49b68ec3f4619bda6fd3": {
      "model_module": "@jupyter-widgets/base",
      "model_module_version": "1.2.0",
      "model_name": "LayoutModel",
      "state": {}
     },
     "1c2683c8da574e1eb3cb2dfe65ee7ac7": {
      "model_module": "@jupyter-widgets/controls",
      "model_module_version": "1.5.0",
      "model_name": "DescriptionStyleModel",
      "state": {
       "description_width": ""
      }
     },
     "1c28f3f73c94438b96da9d627dbd6476": {
      "model_module": "@jupyter-widgets/controls",
      "model_module_version": "1.5.0",
      "model_name": "DescriptionStyleModel",
      "state": {
       "description_width": ""
      }
     },
     "1c35ad96c87545e38e240b8fc1880d9b": {
      "model_module": "@jupyter-widgets/base",
      "model_module_version": "1.2.0",
      "model_name": "LayoutModel",
      "state": {}
     },
     "1c52b3b3caf946fca35104dba82e3e24": {
      "model_module": "@jupyter-widgets/controls",
      "model_module_version": "1.5.0",
      "model_name": "DropdownModel",
      "state": {
       "_options_labels": [
        "iv2",
        "iv3",
        "iv4",
        "iv5",
        "iv6"
       ],
       "description": "input token:",
       "index": 0,
       "layout": "IPY_MODEL_2e99ca160bdd497ab4efd68117c0f9fc",
       "style": "IPY_MODEL_559837b45d0847cb8755e61897600e4e"
      }
     },
     "1c6e2b8b6dee4cb38aaaf93acec4ca5f": {
      "model_module": "@jupyter-widgets/base",
      "model_module_version": "1.2.0",
      "model_name": "LayoutModel",
      "state": {}
     },
     "1c805168d1c24bc39541e8eefb80d2a4": {
      "model_module": "@jupyter-widgets/controls",
      "model_module_version": "1.5.0",
      "model_name": "DescriptionStyleModel",
      "state": {
       "description_width": ""
      }
     },
     "1cc247b9f8344912923dcac6dcb316f0": {
      "model_module": "@jupyter-widgets/controls",
      "model_module_version": "1.5.0",
      "model_name": "TextModel",
      "state": {
       "description": "Type:",
       "disabled": true,
       "layout": "IPY_MODEL_961648cb80464934b9f7b70595972e28",
       "style": "IPY_MODEL_85fb0a64823443f8a9c637736f93a9c3"
      }
     },
     "1cd9ba3f744e4ab7a51bd4b205758e88": {
      "model_module": "@jupyter-widgets/controls",
      "model_module_version": "1.5.0",
      "model_name": "ButtonModel",
      "state": {
       "icon": "refresh",
       "layout": "IPY_MODEL_43ad882c070b43fbafeaa36442032685",
       "style": "IPY_MODEL_d77ba4950a4f4310af19b49e73dd9042"
      }
     },
     "1ce6f81ffbe3465686de768c7c121170": {
      "model_module": "@jupyter-widgets/controls",
      "model_module_version": "1.5.0",
      "model_name": "ButtonStyleModel",
      "state": {}
     },
     "1d2db88a80b74b9a978bdd75e90ac951": {
      "model_module": "@jupyter-widgets/base",
      "model_module_version": "1.2.0",
      "model_name": "LayoutModel",
      "state": {}
     },
     "1d388858b2bc4bdcab6d27d23e6121b0": {
      "model_module": "@jupyter-widgets/controls",
      "model_module_version": "1.5.0",
      "model_name": "DescriptionStyleModel",
      "state": {
       "description_width": ""
      }
     },
     "1d5e128e663b4007aa0b955e815a5031": {
      "model_module": "@jupyter-widgets/controls",
      "model_module_version": "1.5.0",
      "model_name": "ButtonModel",
      "state": {
       "description": "Default values",
       "layout": "IPY_MODEL_5a3e1978dc174f8dbdfc240f6bef6d78",
       "style": "IPY_MODEL_cbe7402877b94a579fda3edee7cec1bc"
      }
     },
     "1d6eff02517541a4877b1ac1a44ff680": {
      "model_module": "@jupyter-widgets/base",
      "model_module_version": "1.2.0",
      "model_name": "LayoutModel",
      "state": {
       "width": "40%"
      }
     },
     "1d9bab57723b45e681d690b9e9080cd5": {
      "model_module": "@jupyter-widgets/controls",
      "model_module_version": "1.5.0",
      "model_name": "VBoxModel",
      "state": {
       "children": [
        "IPY_MODEL_6e1b15dacd3f407f9766e1a98c401e1b",
        "IPY_MODEL_eb685ea44fa04566b7e96ed4b37ddb44",
        "IPY_MODEL_2cdeb808695f40ff9ab88f48d573bace",
        "IPY_MODEL_0d1c192a28b1480193acf617968be9bb",
        "IPY_MODEL_d99a327e41aa4cbca8f0064788cf3a5e",
        "IPY_MODEL_560365e7fdca4388b6ab9bd762c117ef"
       ],
       "layout": "IPY_MODEL_38d521df23a74d7ca2b247c2b97804f2"
      }
     },
     "1da45633f4704445b0966fce9b1b9e13": {
      "model_module": "@jupyter-widgets/base",
      "model_module_version": "1.2.0",
      "model_name": "LayoutModel",
      "state": {
       "align_items": "center",
       "border": "dotted black 1px",
       "height": "40px",
       "margin": "0px 0px 0px 10px"
      }
     },
     "1dc3fecd0892489ba887f7764964df86": {
      "model_module": "@jupyter-widgets/controls",
      "model_module_version": "1.5.0",
      "model_name": "DescriptionStyleModel",
      "state": {
       "description_width": ""
      }
     },
     "1dcba6e1444e4ec9b717eee7603df8c2": {
      "model_module": "@jupyter-widgets/base",
      "model_module_version": "1.2.0",
      "model_name": "LayoutModel",
      "state": {
       "width": "40%"
      }
     },
     "1df11efa15ce481b9e8e10c95e2478d1": {
      "model_module": "@jupyter-widgets/controls",
      "model_module_version": "1.5.0",
      "model_name": "DropdownModel",
      "state": {
       "description": "input token:",
       "index": null,
       "layout": "IPY_MODEL_8b28ab103794490f9269651f19b79baa",
       "style": "IPY_MODEL_ebcd6b5ea2b04a239633a22cfe025754"
      }
     },
     "1df46679332643fb860f84ed2982cf30": {
      "model_module": "@jupyter-widgets/base",
      "model_module_version": "1.2.0",
      "model_name": "LayoutModel",
      "state": {
       "align_items": "center",
       "border": "dotted black 1px",
       "height": "40px",
       "justify_content": "center"
      }
     },
     "1e2b1fef606c4af1af5d980283b28087": {
      "model_module": "@jupyter-widgets/controls",
      "model_module_version": "1.5.0",
      "model_name": "ToggleButtonsStyleModel",
      "state": {
       "button_width": "",
       "description_width": ""
      }
     },
     "1e2cbf54ecf84154a2c6b0a3fde91d30": {
      "model_module": "@jupyter-widgets/controls",
      "model_module_version": "1.5.0",
      "model_name": "BoxModel",
      "state": {
       "children": [
        "IPY_MODEL_c5a9a22a7fb24d018192768436c166df"
       ],
       "layout": "IPY_MODEL_9e285471b4c64c7ab911104124a8b624"
      }
     },
     "1e42cecdc8ee48f08ca4bb32e0a398ec": {
      "model_module": "@jupyter-widgets/controls",
      "model_module_version": "1.5.0",
      "model_name": "DescriptionStyleModel",
      "state": {
       "description_width": "initial"
      }
     },
     "1e434c4ed41b4a6aaca288ff0b4616f2": {
      "model_module": "@jupyter-widgets/controls",
      "model_module_version": "1.5.0",
      "model_name": "ButtonStyleModel",
      "state": {}
     },
     "1e5c6f91e8e34971b1a9740b64918c44": {
      "model_module": "@jupyter-widgets/controls",
      "model_module_version": "1.5.0",
      "model_name": "DescriptionStyleModel",
      "state": {
       "description_width": ""
      }
     },
     "1ea26e11a44c46e884b319a967de5e4e": {
      "model_module": "@jupyter-widgets/base",
      "model_module_version": "1.2.0",
      "model_name": "LayoutModel",
      "state": {}
     },
     "1ebc8e761a6446df80a3bcd638f79da3": {
      "model_module": "@jupyter-widgets/base",
      "model_module_version": "1.2.0",
      "model_name": "LayoutModel",
      "state": {}
     },
     "1ecb595a62a842f689d06e8b79851561": {
      "model_module": "@jupyter-widgets/controls",
      "model_module_version": "1.5.0",
      "model_name": "CheckboxModel",
      "state": {
       "description": "Check to set",
       "disabled": false,
       "indent": false,
       "layout": "IPY_MODEL_9cbe43bacad948eb9067e16384838e1c",
       "style": "IPY_MODEL_72ad1fed1aed4591abf834e95fa05b77",
       "value": false
      }
     },
     "1ed0c260183f456f9737f0efa87483fb": {
      "model_module": "@jupyter-widgets/base",
      "model_module_version": "1.2.0",
      "model_name": "LayoutModel",
      "state": {
       "align_content": "center",
       "justify_content": "center"
      }
     },
     "1ef2fc096396483d93050d8a149ad322": {
      "model_module": "@jupyter-widgets/controls",
      "model_module_version": "1.5.0",
      "model_name": "ButtonStyleModel",
      "state": {
       "button_color": "lightblue"
      }
     },
     "1f0fbca2c0d84e4cbf944bb7f13dff51": {
      "model_module": "@jupyter-widgets/base",
      "model_module_version": "1.2.0",
      "model_name": "LayoutModel",
      "state": {}
     },
     "1f3309d9e4b149bb9c6dc57dbc6b7dd6": {
      "model_module": "@jupyter-widgets/controls",
      "model_module_version": "1.5.0",
      "model_name": "DescriptionStyleModel",
      "state": {
       "description_width": ""
      }
     },
     "1f7bad8a9eaf4db3afad3809071215ca": {
      "model_module": "@jupyter-widgets/controls",
      "model_module_version": "1.5.0",
      "model_name": "ButtonModel",
      "state": {
       "description": "Remove block",
       "layout": "IPY_MODEL_b5fc8c3cf8a340f2a44245a23cdeae74",
       "style": "IPY_MODEL_16358ebe67374b139560901f035946c8"
      }
     },
     "1f8d368e85d64d4898b98e63cae54fc0": {
      "model_module": "@jupyter-widgets/controls",
      "model_module_version": "1.5.0",
      "model_name": "BoxModel",
      "state": {
       "children": [
        "IPY_MODEL_edc235431ea74499b62d146f4148c092"
       ],
       "layout": "IPY_MODEL_fa264780582040c58985d682fef542f9"
      }
     },
     "1f9cd7454ae64936bd5d8e39048d8701": {
      "model_module": "@jupyter-widgets/controls",
      "model_module_version": "1.5.0",
      "model_name": "TextModel",
      "state": {
       "description": "Type:",
       "disabled": true,
       "layout": "IPY_MODEL_8c8fd36d093f402d8f32c8e843ed26fe",
       "style": "IPY_MODEL_78a73accf8414dd7ab6742638ffbd03d"
      }
     },
     "1fafc6e0f70f45b3b5aa1e98984766b2": {
      "model_module": "@jupyter-widgets/base",
      "model_module_version": "1.2.0",
      "model_name": "LayoutModel",
      "state": {
       "align_items": "center",
       "justify_content": "center",
       "margin": "10px 0px 0px 0px"
      }
     },
     "20181cec050445de95a0122f29944169": {
      "model_module": "@jupyter-widgets/controls",
      "model_module_version": "1.5.0",
      "model_name": "DescriptionStyleModel",
      "state": {
       "description_width": ""
      }
     },
     "204e1d6c31a549d9bc67adddf767b034": {
      "model_module": "@jupyter-widgets/base",
      "model_module_version": "1.2.0",
      "model_name": "LayoutModel",
      "state": {}
     },
     "204e2303fed649afa190cb73bb08c762": {
      "model_module": "@jupyter-widgets/base",
      "model_module_version": "1.2.0",
      "model_name": "LayoutModel",
      "state": {
       "margin": "10px 0px 0px 10px",
       "width": "50%"
      }
     },
     "2050152a8ae24ba68532584faa734233": {
      "model_module": "@jupyter-widgets/base",
      "model_module_version": "1.2.0",
      "model_name": "LayoutModel",
      "state": {}
     },
     "2084cb945ef84130b57717b86ac7cf88": {
      "model_module": "@jupyter-widgets/base",
      "model_module_version": "1.2.0",
      "model_name": "LayoutModel",
      "state": {}
     },
     "2085b68eff9c4ac98a04ab195c134c36": {
      "model_module": "@jupyter-widgets/base",
      "model_module_version": "1.2.0",
      "model_name": "LayoutModel",
      "state": {
       "align_items": "center",
       "border": "dotted black 1px",
       "height": "40px",
       "margin": "0px 0px 0px 10px"
      }
     },
     "208ab75f01d541e4a21746eee45cec05": {
      "model_module": "@jupyter-widgets/base",
      "model_module_version": "1.2.0",
      "model_name": "LayoutModel",
      "state": {}
     },
     "20afdc379f8b45a7b99860ec2ee522f0": {
      "model_module": "@jupyter-widgets/controls",
      "model_module_version": "1.5.0",
      "model_name": "DropdownModel",
      "state": {
       "description": "block#:",
       "index": null,
       "layout": "IPY_MODEL_e3346a029d904f719ee978638c825cd4",
       "style": "IPY_MODEL_c5ef1b59b32b4d9a8bbad280adb3e967"
      }
     },
     "20b2c414aeea4d1cb5e94b84c6fafcbb": {
      "model_module": "@jupyter-widgets/controls",
      "model_module_version": "1.5.0",
      "model_name": "DescriptionStyleModel",
      "state": {
       "description_width": ""
      }
     },
     "20b7083c5ff146e0beb3f0652c9a56ba": {
      "model_module": "@jupyter-widgets/controls",
      "model_module_version": "1.5.0",
      "model_name": "DescriptionStyleModel",
      "state": {
       "description_width": ""
      }
     },
     "20cfed5d3fc34ceabb05249704fb7362": {
      "model_module": "@jupyter-widgets/base",
      "model_module_version": "1.2.0",
      "model_name": "LayoutModel",
      "state": {}
     },
     "20def03cc9554e5aa65a20d4cd8bbc6b": {
      "model_module": "@jupyter-widgets/controls",
      "model_module_version": "1.5.0",
      "model_name": "DescriptionStyleModel",
      "state": {
       "description_width": ""
      }
     },
     "20f1ed59703944fc887adf6ffbda79c1": {
      "model_module": "@jupyter-widgets/controls",
      "model_module_version": "1.5.0",
      "model_name": "ButtonStyleModel",
      "state": {
       "button_color": "lightblue"
      }
     },
     "213080532291469ca5c5da8d5360e2b5": {
      "model_module": "@jupyter-widgets/controls",
      "model_module_version": "1.5.0",
      "model_name": "DescriptionStyleModel",
      "state": {
       "description_width": ""
      }
     },
     "21acd3d3a0264fe2bc7da6a1dff18e5d": {
      "model_module": "@jupyter-widgets/controls",
      "model_module_version": "1.5.0",
      "model_name": "TextModel",
      "state": {
       "description": "Type:",
       "disabled": true,
       "layout": "IPY_MODEL_7b8c1679f3c94f68b3ab605e8c4664e4",
       "style": "IPY_MODEL_9bac2afdcdab46c68059aa1c11619d43"
      }
     },
     "21b3caf5d20c4e79ba3a6b333bbf4728": {
      "model_module": "@jupyter-widgets/base",
      "model_module_version": "1.2.0",
      "model_name": "LayoutModel",
      "state": {
       "width": "100%"
      }
     },
     "21c93a34434d4f9eb20604897bcf0795": {
      "model_module": "@jupyter-widgets/controls",
      "model_module_version": "1.5.0",
      "model_name": "DescriptionStyleModel",
      "state": {
       "description_width": ""
      }
     },
     "21e45a8808b84526b2bd3918daef2375": {
      "model_module": "@jupyter-widgets/controls",
      "model_module_version": "1.5.0",
      "model_name": "DescriptionStyleModel",
      "state": {
       "description_width": "initial"
      }
     },
     "21f94e7c531348b195bb37ab75fb5db7": {
      "model_module": "@jupyter-widgets/controls",
      "model_module_version": "1.5.0",
      "model_name": "DropdownModel",
      "state": {
       "_options_labels": [
        "entries"
       ],
       "description": "output token:",
       "index": 0,
       "layout": "IPY_MODEL_a37017c85d614a4c89cd75543549ad23",
       "style": "IPY_MODEL_9ae8d27c652440c5b0521534de9dbfc1"
      }
     },
     "22105508bf434a62be7521a9b4b8efa6": {
      "model_module": "@jupyter-widgets/base",
      "model_module_version": "1.2.0",
      "model_name": "LayoutModel",
      "state": {}
     },
     "221fd29559ab46e697cbb71f7ba37349": {
      "model_module": "@jupyter-widgets/base",
      "model_module_version": "1.2.0",
      "model_name": "LayoutModel",
      "state": {}
     },
     "222ff93da99c4fc9b50d2ce3e072d94a": {
      "model_module": "@jupyter-widgets/controls",
      "model_module_version": "1.5.0",
      "model_name": "HBoxModel",
      "state": {
       "children": [
        "IPY_MODEL_4ac92b35f59f4acda701ab966dfbe5b6"
       ],
       "layout": "IPY_MODEL_d8416af679f74f82afa400695b4f7acb"
      }
     },
     "225ddd259dcc49a4a8953910539b0f4b": {
      "model_module": "@jupyter-widgets/controls",
      "model_module_version": "1.5.0",
      "model_name": "LabelModel",
      "state": {
       "layout": "IPY_MODEL_accd145c2ee34a9f833534b8277add8c",
       "style": "IPY_MODEL_8aa71c5cb42940a6931454e2ffdfc698",
       "value": "Template 3: load_xyz_polarizability --> plot all 50 polarizabilities --> print first item of coordinates output"
      }
     },
     "226884438f5a4909b3bcb62791e4fdc9": {
      "model_module": "@jupyter-widgets/controls",
      "model_module_version": "1.5.0",
      "model_name": "DescriptionStyleModel",
      "state": {
       "description_width": "initial"
      }
     },
     "2288b55075e148f3845d150185ed000f": {
      "model_module": "@jupyter-widgets/base",
      "model_module_version": "1.2.0",
      "model_name": "LayoutModel",
      "state": {
       "align_items": "center",
       "justify_content": "space-between",
       "margin": "10px 0px 20px 0px"
      }
     },
     "22ba8bf0feeb42559b1b781193dab6f9": {
      "model_module": "@jupyter-widgets/controls",
      "model_module_version": "1.5.0",
      "model_name": "ButtonModel",
      "state": {
       "description": "Default values",
       "layout": "IPY_MODEL_403891e282684800800664fce56695e8",
       "style": "IPY_MODEL_af3871f2312d4072b1253d68a0ed03c2"
      }
     },
     "22bf070efe2f47ad8274f49bf37fc38a": {
      "model_module": "@jupyter-widgets/base",
      "model_module_version": "1.2.0",
      "model_name": "LayoutModel",
      "state": {
       "margin": "20px 0px 0px 0px",
       "width": "50%"
      }
     },
     "22f5136f0fca475aba251a7dbac30032": {
      "model_module": "@jupyter-widgets/base",
      "model_module_version": "1.2.0",
      "model_name": "LayoutModel",
      "state": {
       "border": "dotted black 1px",
       "justify_content": "space-between"
      }
     },
     "23099b31415745ed8207ade4fee7cf23": {
      "model_module": "@jupyter-widgets/base",
      "model_module_version": "1.2.0",
      "model_name": "LayoutModel",
      "state": {
       "width": "40%"
      }
     },
     "2321e1fa14154afa9c375093459af359": {
      "model_module": "@jupyter-widgets/controls",
      "model_module_version": "1.5.0",
      "model_name": "DescriptionStyleModel",
      "state": {
       "description_width": "initial"
      }
     },
     "234e166c75a546eda27ad02d69908c0c": {
      "model_module": "@jupyter-widgets/base",
      "model_module_version": "1.2.0",
      "model_name": "LayoutModel",
      "state": {
       "margin": "10px 0px 10px 180px",
       "width": "110px"
      }
     },
     "2364bfb43f24400dbd8efdc2f46efb29": {
      "model_module": "@jupyter-widgets/controls",
      "model_module_version": "1.5.0",
      "model_name": "TextModel",
      "state": {
       "description": "Type:",
       "disabled": true,
       "layout": "IPY_MODEL_0541b9d25571474abc07ee51132685d2",
       "style": "IPY_MODEL_09c76a1500614ca887ec46e472133380"
      }
     },
     "2369c35d9c234e619eb81e47509663e1": {
      "model_module": "@jupyter-widgets/controls",
      "model_module_version": "1.5.0",
      "model_name": "BoxModel",
      "state": {
       "children": [
        "IPY_MODEL_6397eb55bb6f4f95878988837e8bb8b7"
       ],
       "layout": "IPY_MODEL_d91df97b612c4831b3d9c9024171e814"
      }
     },
     "239c2a1f177246c4ab52d0164f73744a": {
      "model_module": "@jupyter-widgets/base",
      "model_module_version": "1.2.0",
      "model_name": "LayoutModel",
      "state": {}
     },
     "23a1a0949567460ea38fbf1ef891a960": {
      "model_module": "@jupyter-widgets/controls",
      "model_module_version": "1.5.0",
      "model_name": "DescriptionStyleModel",
      "state": {
       "description_width": ""
      }
     },
     "23fa6372d8314e7495b2abed2df43a1f": {
      "model_module": "@jupyter-widgets/controls",
      "model_module_version": "1.5.0",
      "model_name": "HBoxModel",
      "state": {
       "children": [
        "IPY_MODEL_b230867fc2e24ce2999343c1397d645e",
        "IPY_MODEL_fa1305ef37f5425c9acd2486aa058ae8",
        "IPY_MODEL_3e1439f548224755ad7faadba8e780de"
       ],
       "layout": "IPY_MODEL_cc1ed1b2f6b2442b8d13c8a543fa06a1"
      }
     },
     "24055874c54b49399c3a72f09f2d6109": {
      "model_module": "@jupyter-widgets/base",
      "model_module_version": "1.2.0",
      "model_name": "LayoutModel",
      "state": {
       "border": "dotted black 1px",
       "justify_content": "space-between"
      }
     },
     "24245f97bc884cc29008d74eb9a1235f": {
      "model_module": "@jupyter-widgets/controls",
      "model_module_version": "1.5.0",
      "model_name": "DropdownModel",
      "state": {
       "_options_labels": [
        "2",
        "3",
        "4",
        "5"
       ],
       "description": "block#:",
       "index": 0,
       "layout": "IPY_MODEL_d6e9e62ddf4a4547ae6c7c79177ae2aa",
       "style": "IPY_MODEL_91a1a2e849b54ea88e1a537c24fbb8d9"
      }
     },
     "243c64554d484355a2338dad8baf4f73": {
      "model_module": "@jupyter-widgets/controls",
      "model_module_version": "1.5.0",
      "model_name": "HBoxModel",
      "state": {
       "children": [
        "IPY_MODEL_364865acc5f74f16a70603c5995e719e",
        "IPY_MODEL_d167b0be11c34852ac0c313bfb1e9c7c",
        "IPY_MODEL_2e96a4919bac4bdc94cbe7521164baf8"
       ],
       "layout": "IPY_MODEL_bf74970496d149d084aa1c2dd0035497"
      }
     },
     "2444c22c156c48f18944519ddbcb677a": {
      "model_module": "@jupyter-widgets/base",
      "model_module_version": "1.2.0",
      "model_name": "LayoutModel",
      "state": {
       "align_items": "center",
       "border": "dotted black 1px",
       "height": "40px",
       "justify_content": "center"
      }
     },
     "2452714c0b484947873dbdadc8db08e1": {
      "model_module": "@jupyter-widgets/base",
      "model_module_version": "1.2.0",
      "model_name": "LayoutModel",
      "state": {
       "border": "dotted black 1px",
       "justify_content": "space-between"
      }
     },
     "248a8d1b66c4463c8b6ebde282d2621b": {
      "model_module": "@jupyter-widgets/controls",
      "model_module_version": "1.5.0",
      "model_name": "CheckboxModel",
      "state": {
       "description": "Check to set",
       "disabled": false,
       "indent": false,
       "layout": "IPY_MODEL_2c91e845ef234217a041d3d90582ad9c",
       "style": "IPY_MODEL_8dc07ba663b04a0988c0ea8d2274da03",
       "value": false
      }
     },
     "248d936871cf406ba6499da3e54341e1": {
      "model_module": "@jupyter-widgets/controls",
      "model_module_version": "1.5.0",
      "model_name": "HBoxModel",
      "state": {
       "children": [
        "IPY_MODEL_4b69bbb0e9ad4557ae1fa524c75713a5",
        "IPY_MODEL_8132d6b43c1d4275a4748ea1101e0445"
       ],
       "layout": "IPY_MODEL_dcbdedc9f6da4ca1a912c2ad6427233b"
      }
     },
     "24ac4009001243058e20fe2fc611587c": {
      "model_module": "@jupyter-widgets/controls",
      "model_module_version": "1.5.0",
      "model_name": "VBoxModel",
      "state": {
       "children": [
        "IPY_MODEL_79436e458a3c4f2bab3a9e63fdff6f59",
        "IPY_MODEL_b19a673233424b38b85c2796690c0bd9",
        "IPY_MODEL_8c601e6b59db4981b58f1c46c6fdc240",
        "IPY_MODEL_87c80601e3e741c0bc886b9f1ab9b1cc",
        "IPY_MODEL_af819fdd725b4c24a97676a92c7a28e6",
        "IPY_MODEL_9181e853d90941f79896726c36abdeef",
        "IPY_MODEL_5699765048234ee89dfcbf34ec31e41e"
       ],
       "layout": "IPY_MODEL_98170892887f4c698ed30ef39e26feac"
      }
     },
     "24bd87513c3a4be7b706e9fb2ed51734": {
      "model_module": "@jupyter-widgets/controls",
      "model_module_version": "1.5.0",
      "model_name": "VBoxModel",
      "state": {
       "children": [
        "IPY_MODEL_042ac6970623489480ae0f18f52f4b80",
        "IPY_MODEL_83fa7c7ee90648a19ea4e7e5ce91daa1",
        "IPY_MODEL_8582507e063b485e9c3782db72e8f73d"
       ],
       "layout": "IPY_MODEL_febd2fb1a5b44d088493dc606c9441cf"
      }
     },
     "24fd73f8d8fd410b8db397a7d410091c": {
      "model_module": "@jupyter-widgets/base",
      "model_module_version": "1.2.0",
      "model_name": "LayoutModel",
      "state": {
       "align_items": "center",
       "justify_content": "space-between",
       "margin": "10px 0px 20px 0px"
      }
     },
     "250fd1e40de141da96674e6e645fe9bc": {
      "model_module": "@jupyter-widgets/controls",
      "model_module_version": "1.5.0",
      "model_name": "LabelModel",
      "state": {
       "layout": "IPY_MODEL_3f8778976d614a13a2407ae24da3a595",
       "style": "IPY_MODEL_be9f9a6a91e4446c9a60f193baccc5ea",
       "value": "Template 2: load_xyz_polarizability --> generate BagofBonds features --> save features"
      }
     },
     "253eec362d8046be9a15f8c18be3fd14": {
      "model_module": "@jupyter-widgets/controls",
      "model_module_version": "1.5.0",
      "model_name": "DescriptionStyleModel",
      "state": {
       "description_width": ""
      }
     },
     "255fa28e3c2c41cc89bf2f794a348f9a": {
      "model_module": "@jupyter-widgets/base",
      "model_module_version": "1.2.0",
      "model_name": "LayoutModel",
      "state": {
       "margin": "20px 0px 0px 0px",
       "width": "50%"
      }
     },
     "2579e965d2ad4077bc982047ea733a4b": {
      "model_module": "@jupyter-widgets/base",
      "model_module_version": "1.2.0",
      "model_name": "LayoutModel",
      "state": {}
     },
     "25bf321b68f349ce81f4866d95d8ced9": {
      "model_module": "@jupyter-widgets/controls",
      "model_module_version": "1.5.0",
      "model_name": "ButtonModel",
      "state": {
       "description": "Remove block",
       "layout": "IPY_MODEL_2e675c4670c6402dbab1c82a7b21e3b1",
       "style": "IPY_MODEL_9c291c9db96a49cfab076e5cd52cfe5c"
      }
     },
     "25ed2fd8cf2f4ccaa065f36c69a15ccc": {
      "model_module": "@jupyter-widgets/base",
      "model_module_version": "1.2.0",
      "model_name": "LayoutModel",
      "state": {}
     },
     "25f654335781432783124aaa3f98b7de": {
      "model_module": "@jupyter-widgets/base",
      "model_module_version": "1.2.0",
      "model_name": "LayoutModel",
      "state": {
       "width": "40px"
      }
     },
     "25fd671ef1c3452992e1c7651c5468a1": {
      "model_module": "@jupyter-widgets/base",
      "model_module_version": "1.2.0",
      "model_name": "LayoutModel",
      "state": {}
     },
     "2645b982a9544e369e6d8e3459322c25": {
      "model_module": "@jupyter-widgets/controls",
      "model_module_version": "1.5.0",
      "model_name": "BoxModel",
      "state": {
       "children": [
        "IPY_MODEL_e24ad235d4b846e9b3a5b121e7826234"
       ],
       "layout": "IPY_MODEL_7c27f2240a0c44469f23bc5aba8bfe42"
      }
     },
     "2652d818c3634395aeb7f68b74db1163": {
      "model_module": "@jupyter-widgets/base",
      "model_module_version": "1.2.0",
      "model_name": "LayoutModel",
      "state": {
       "margin": "0px 0px 0px 10px"
      }
     },
     "2666add74ac6486384d15077954de6a8": {
      "model_module": "@jupyter-widgets/base",
      "model_module_version": "1.2.0",
      "model_name": "LayoutModel",
      "state": {
       "align_items": "center",
       "justify_content": "space-between",
       "margin": "10px 0px 20px 0px"
      }
     },
     "266f867257f44e91a88afe4ca97ebc3f": {
      "model_module": "@jupyter-widgets/base",
      "model_module_version": "1.2.0",
      "model_name": "LayoutModel",
      "state": {}
     },
     "2671265df1a1466a9191317b56b079ce": {
      "model_module": "@jupyter-widgets/controls",
      "model_module_version": "1.5.0",
      "model_name": "DescriptionStyleModel",
      "state": {
       "description_width": ""
      }
     },
     "267f8db537fa49aea97d55b2fe56524c": {
      "model_module": "@jupyter-widgets/controls",
      "model_module_version": "1.5.0",
      "model_name": "DescriptionStyleModel",
      "state": {
       "description_width": ""
      }
     },
     "26932bde26e949439d1a447d5d5e0473": {
      "model_module": "@jupyter-widgets/controls",
      "model_module_version": "1.5.0",
      "model_name": "DescriptionStyleModel",
      "state": {
       "description_width": "initial"
      }
     },
     "26a68bdb1de447c1a3d6dd0f64876fdd": {
      "model_module": "@jupyter-widgets/base",
      "model_module_version": "1.2.0",
      "model_name": "LayoutModel",
      "state": {
       "margin": "10px 0px 0px 0px"
      }
     },
     "26b923054691429ebe8e74c40b855d12": {
      "model_module": "@jupyter-widgets/base",
      "model_module_version": "1.2.0",
      "model_name": "LayoutModel",
      "state": {
       "width": "40px"
      }
     },
     "26cc3bc57c4a4b9083263e80b8b289df": {
      "model_module": "@jupyter-widgets/controls",
      "model_module_version": "1.5.0",
      "model_name": "HBoxModel",
      "state": {
       "children": [
        "IPY_MODEL_1135170b4cad424ba652cc062e4f2deb",
        "IPY_MODEL_704319e7442144f59e2c580feadb0252",
        "IPY_MODEL_21acd3d3a0264fe2bc7da6a1dff18e5d"
       ],
       "layout": "IPY_MODEL_52046686d0e549ac9910c905a2420b57"
      }
     },
     "26dd00469d5041b2aabff673dedbbc7f": {
      "model_module": "@jupyter-widgets/base",
      "model_module_version": "1.2.0",
      "model_name": "LayoutModel",
      "state": {
       "margin": "0px 0px 0px 10px"
      }
     },
     "273f059d915c4dc8ab6aff1ef8c4ee7e": {
      "model_module": "@jupyter-widgets/controls",
      "model_module_version": "1.5.0",
      "model_name": "DescriptionStyleModel",
      "state": {
       "description_width": ""
      }
     },
     "2745e5a7f8d04531a62485c56c42d993": {
      "model_module": "@jupyter-widgets/controls",
      "model_module_version": "1.5.0",
      "model_name": "DescriptionStyleModel",
      "state": {
       "description_width": "initial"
      }
     },
     "27462332d71d44268d51a08898f188f7": {
      "model_module": "@jupyter-widgets/base",
      "model_module_version": "1.2.0",
      "model_name": "LayoutModel",
      "state": {}
     },
     "275b40fc78784a9c86c9aef505ebee51": {
      "model_module": "@jupyter-widgets/controls",
      "model_module_version": "1.5.0",
      "model_name": "DescriptionStyleModel",
      "state": {
       "description_width": ""
      }
     },
     "276aa0e2e0dc42b6a4e25b763b980c92": {
      "model_module": "@jupyter-widgets/base",
      "model_module_version": "1.2.0",
      "model_name": "LayoutModel",
      "state": {}
     },
     "278b0a281a554152ae4a0963250d7346": {
      "model_module": "@jupyter-widgets/controls",
      "model_module_version": "1.5.0",
      "model_name": "DescriptionStyleModel",
      "state": {
       "description_width": ""
      }
     },
     "278d81f8864c4d5d8319bf26534eeae2": {
      "model_module": "@jupyter-widgets/base",
      "model_module_version": "1.2.0",
      "model_name": "LayoutModel",
      "state": {
       "width": "100%"
      }
     },
     "27919b6e134048d19200c9364e391d8b": {
      "model_module": "@jupyter-widgets/base",
      "model_module_version": "1.2.0",
      "model_name": "LayoutModel",
      "state": {
       "margin": "10px 0px 0px 10px",
       "width": "50%"
      }
     },
     "27c769f314c242849ec6a91be1c57c2c": {
      "model_module": "@jupyter-widgets/controls",
      "model_module_version": "1.5.0",
      "model_name": "DescriptionStyleModel",
      "state": {
       "description_width": "initial"
      }
     },
     "27e3a14b7aa64adcb3d35b95f942313e": {
      "model_module": "@jupyter-widgets/controls",
      "model_module_version": "1.5.0",
      "model_name": "ButtonStyleModel",
      "state": {
       "button_color": "lightblue"
      }
     },
     "27e6c21d38534bbd937bb6cab5df8ef0": {
      "model_module": "@jupyter-widgets/controls",
      "model_module_version": "1.5.0",
      "model_name": "LabelModel",
      "state": {
       "layout": "IPY_MODEL_35caa4530b08439f8a93c6b6d0683d03",
       "style": "IPY_MODEL_3c6286e64f0d401caf5c5547726bde70",
       "value": "Template 2: model selection with grid search and cross validation"
      }
     },
     "2807d9fbbf13447b8e209cc87258449b": {
      "model_module": "@jupyter-widgets/controls",
      "model_module_version": "1.5.0",
      "model_name": "ButtonStyleModel",
      "state": {}
     },
     "28219988590043f9b292a03859ed6025": {
      "model_module": "@jupyter-widgets/controls",
      "model_module_version": "1.5.0",
      "model_name": "BoxModel",
      "state": {
       "children": [
        "IPY_MODEL_12d2f4d6e31f437eaba2d6e684e76177"
       ],
       "layout": "IPY_MODEL_ad6bf06d26994e609d97c58c6fc8c2fe"
      }
     },
     "28314d3bac52469481cb1fbbc9041f1f": {
      "model_module": "@jupyter-widgets/controls",
      "model_module_version": "1.5.0",
      "model_name": "DropdownModel",
      "state": {
       "_options_labels": [
        "entries"
       ],
       "description": "output token:",
       "index": 0,
       "layout": "IPY_MODEL_88f7b7f3d588479086f275e057eff5cd",
       "style": "IPY_MODEL_3c8fab248b244428b16c5855b257355f"
      }
     },
     "2873b8b29fbf44ca933ca0fd301ce45c": {
      "model_module": "@jupyter-widgets/controls",
      "model_module_version": "1.5.0",
      "model_name": "TextModel",
      "state": {
       "description": "line01",
       "layout": "IPY_MODEL_045ae6dd87664b8bac44578bb8a16935",
       "placeholder": "[]",
       "style": "IPY_MODEL_bece12ae1fce4996a6013c9c952edb12",
       "value": "print ('shape of features:', iv1.shape)"
      }
     },
     "288fffb0773446cca5117b6abd69e9bb": {
      "model_module": "@jupyter-widgets/controls",
      "model_module_version": "1.5.0",
      "model_name": "DescriptionStyleModel",
      "state": {
       "description_width": "initial"
      }
     },
     "289ea9882956431b9f6c73d09d9a7d03": {
      "model_module": "@jupyter-widgets/controls",
      "model_module_version": "1.5.0",
      "model_name": "BoxModel",
      "state": {
       "children": [
        "IPY_MODEL_a8972a18cf0d40328a4b3438d830ff89"
       ],
       "layout": "IPY_MODEL_bc4ecc1c074d40b3b6699ddcb220184d"
      }
     },
     "28a660dc7e3d42a3886dc52f6f0e5306": {
      "model_module": "@jupyter-widgets/controls",
      "model_module_version": "1.5.0",
      "model_name": "TextModel",
      "state": {
       "description": "Type:",
       "disabled": true,
       "layout": "IPY_MODEL_1dcba6e1444e4ec9b717eee7603df8c2",
       "style": "IPY_MODEL_b0033dbf89b14f7f9095a1be6a947337"
      }
     },
     "28e175dbb8de430794e88cc266a925a4": {
      "model_module": "@jupyter-widgets/base",
      "model_module_version": "1.2.0",
      "model_name": "LayoutModel",
      "state": {}
     },
     "294b25d7de4447b4850ca8fd4c65c7f2": {
      "model_module": "@jupyter-widgets/base",
      "model_module_version": "1.2.0",
      "model_name": "LayoutModel",
      "state": {
       "margin": "10px 0px 10px 0px"
      }
     },
     "294bbd7275224d0c9bdafad2cf57b139": {
      "model_module": "@jupyter-widgets/base",
      "model_module_version": "1.2.0",
      "model_name": "LayoutModel",
      "state": {}
     },
     "2974af41d75b460bbcf115cbff17ef9b": {
      "model_module": "@jupyter-widgets/controls",
      "model_module_version": "1.5.0",
      "model_name": "HBoxModel",
      "state": {
       "children": [
        "IPY_MODEL_85a19e4314db43479889037159ef9fe0",
        "IPY_MODEL_9050334b4fd74cfebe0ad7f6a22e88a5",
        "IPY_MODEL_8c8387382fc345fa9275380a42934941",
        "IPY_MODEL_ee0a9dfd11b944d3b9be95a564117c38"
       ],
       "layout": "IPY_MODEL_2666add74ac6486384d15077954de6a8"
      }
     },
     "29780db836594fb7962249b98f4984a6": {
      "model_module": "@jupyter-widgets/base",
      "model_module_version": "1.2.0",
      "model_name": "LayoutModel",
      "state": {}
     },
     "2994b9e1cbce470dab4545625350c2ac": {
      "model_module": "@jupyter-widgets/controls",
      "model_module_version": "1.5.0",
      "model_name": "HTMLModel",
      "state": {
       "layout": "IPY_MODEL_cba6c6b89fc34f9da40981cb86678174",
       "style": "IPY_MODEL_6a8160298bf048b788e26834f499e9ea",
       "value": "<b>Documentation: </b>"
      }
     },
     "299af0092d9341449eef44eab05f3c7e": {
      "model_module": "@jupyter-widgets/base",
      "model_module_version": "1.2.0",
      "model_name": "LayoutModel",
      "state": {}
     },
     "2a221322d08a4a929729d7f6a9d87bf2": {
      "model_module": "@jupyter-widgets/base",
      "model_module_version": "1.2.0",
      "model_name": "LayoutModel",
      "state": {
       "margin": "20px 0px 0px 0px",
       "width": "50%"
      }
     },
     "2a35331abd874a2c8c4801a8243bafdc": {
      "model_module": "@jupyter-widgets/controls",
      "model_module_version": "1.5.0",
      "model_name": "HTMLModel",
      "state": {
       "layout": "IPY_MODEL_eca519ad5c094c39ac314d14d834d2f7",
       "style": "IPY_MODEL_9765444e7d234b309ab4218ce15cd01b",
       "value": "all input tokens: entries"
      }
     },
     "2a470facb29449b2b2046f15c6c00b2b": {
      "model_module": "@jupyter-widgets/controls",
      "model_module_version": "1.5.0",
      "model_name": "DescriptionStyleModel",
      "state": {
       "description_width": ""
      }
     },
     "2a5e25fe666b493ba7cddbc3ec4cfc95": {
      "model_module": "@jupyter-widgets/controls",
      "model_module_version": "1.5.0",
      "model_name": "HTMLModel",
      "state": {
       "layout": "IPY_MODEL_a669ce6433b4463f9288dcf7dc9a3434",
       "style": "IPY_MODEL_a2f93d77f03e442f8285d6e300ef1310",
       "value": "<b> >>> </b>"
      }
     },
     "2a6c5e7992b1451b9616c8795bb4cae5": {
      "model_module": "@jupyter-widgets/base",
      "model_module_version": "1.2.0",
      "model_name": "LayoutModel",
      "state": {
       "margin": "20px 0px 0px 10px"
      }
     },
     "2a73aaf0497f4cf1ac95c257c836b58f": {
      "model_module": "@jupyter-widgets/controls",
      "model_module_version": "1.5.0",
      "model_name": "DescriptionStyleModel",
      "state": {
       "description_width": ""
      }
     },
     "2a7ea74cddac4c2d9b7107f4ccd7f01c": {
      "model_module": "@jupyter-widgets/controls",
      "model_module_version": "1.5.0",
      "model_name": "DescriptionStyleModel",
      "state": {
       "description_width": ""
      }
     },
     "2a81884ccd6f4ce19efceec0a76fabd5": {
      "model_module": "@jupyter-widgets/controls",
      "model_module_version": "1.5.0",
      "model_name": "DropdownModel",
      "state": {
       "_options_labels": [
        "2",
        "3",
        "4"
       ],
       "description": "block#:",
       "index": 0,
       "layout": "IPY_MODEL_8b836ffab5c146dba3b248852f286819",
       "style": "IPY_MODEL_c966c5de4f314ebeb114060787461fab"
      }
     },
     "2a9b884239bf4bcea79f192900ca9546": {
      "model_module": "@jupyter-widgets/controls",
      "model_module_version": "1.5.0",
      "model_name": "TextModel",
      "state": {
       "description": "Type:",
       "disabled": true,
       "layout": "IPY_MODEL_7ae501c6085a4859a839046777fcc292",
       "style": "IPY_MODEL_bd4c43e7160e4d22ad9167dd298bd70c"
      }
     },
     "2aa24540007849f4bc452a51383eb5d7": {
      "model_module": "@jupyter-widgets/base",
      "model_module_version": "1.2.0",
      "model_name": "LayoutModel",
      "state": {}
     },
     "2ab2db0b12384f6c8f53e2793c5627b5": {
      "model_module": "@jupyter-widgets/controls",
      "model_module_version": "1.5.0",
      "model_name": "ButtonStyleModel",
      "state": {
       "button_color": "lightblue"
      }
     },
     "2ab328c394574d22969fb0d7dcbbacbe": {
      "model_module": "@jupyter-widgets/controls",
      "model_module_version": "1.5.0",
      "model_name": "TextModel",
      "state": {
       "description": "Output directory:",
       "layout": "IPY_MODEL_7c5a55fac5cf4acab0b2773bb64bb02b",
       "placeholder": "Type something",
       "style": "IPY_MODEL_66a68bd91f1d4c0eb38462fc2a20b6d4",
       "value": "CMLWrapper_out"
      }
     },
     "2ab566e1af14480e879045afdc081be9": {
      "model_module": "@jupyter-widgets/controls",
      "model_module_version": "1.5.0",
      "model_name": "DescriptionStyleModel",
      "state": {
       "description_width": "initial"
      }
     },
     "2b3fd361e9994147b445a5694748db6f": {
      "model_module": "@jupyter-widgets/controls",
      "model_module_version": "1.5.0",
      "model_name": "DescriptionStyleModel",
      "state": {
       "description_width": ""
      }
     },
     "2b40998d9e014f048e75d9a94d892f4e": {
      "model_module": "@jupyter-widgets/base",
      "model_module_version": "1.2.0",
      "model_name": "LayoutModel",
      "state": {
       "margin": "10px 0px 10px 0px"
      }
     },
     "2b5073b9a9b04ef393c53e485c9c7fdf": {
      "model_module": "@jupyter-widgets/controls",
      "model_module_version": "1.5.0",
      "model_name": "HBoxModel",
      "state": {
       "children": [
        "IPY_MODEL_58e410baf44c4ed582ee6ab088a4acc7",
        "IPY_MODEL_a8db4eecfe0f439d8511d5c20d63387c",
        "IPY_MODEL_d4f1614ebc624c0a873504dcf71d9735"
       ],
       "layout": "IPY_MODEL_955708a013354b0eaf2f56725583774c"
      }
     },
     "2b5535d606e843568f49c8c22f2c7b8b": {
      "model_module": "@jupyter-widgets/controls",
      "model_module_version": "1.5.0",
      "model_name": "DescriptionStyleModel",
      "state": {
       "description_width": "initial"
      }
     },
     "2b6332eb93bd4c71b97e7ee5b230ab3c": {
      "model_module": "@jupyter-widgets/base",
      "model_module_version": "1.2.0",
      "model_name": "LayoutModel",
      "state": {}
     },
     "2b9ee8e0b8e1419fb4659bd4cc382039": {
      "model_module": "@jupyter-widgets/controls",
      "model_module_version": "1.5.0",
      "model_name": "TextModel",
      "state": {
       "description": "Type:",
       "disabled": true,
       "layout": "IPY_MODEL_cea03292377c4256a69b5c448cf07df2",
       "style": "IPY_MODEL_459750fd0c2c473e94122b6b718c01a9"
      }
     },
     "2bb47998bc8c421cbb044d10de208258": {
      "model_module": "@jupyter-widgets/base",
      "model_module_version": "1.2.0",
      "model_name": "LayoutModel",
      "state": {
       "align_items": "center",
       "justify_content": "space-between",
       "margin": "10px 0px 20px 0px"
      }
     },
     "2bf44dcfd1f84ba3b6dd8e3dcc54d7da": {
      "model_module": "@jupyter-widgets/controls",
      "model_module_version": "1.5.0",
      "model_name": "ButtonModel",
      "state": {
       "description": "Add",
       "layout": "IPY_MODEL_3ba5f8f027974df2ae9b15f328c41312",
       "style": "IPY_MODEL_dc098378007e4be2baadf78f88787090"
      }
     },
     "2bf600f8ead144469ba3f29652b19ab1": {
      "model_module": "@jupyter-widgets/base",
      "model_module_version": "1.2.0",
      "model_name": "LayoutModel",
      "state": {
       "width": "50%"
      }
     },
     "2c0f9d5c3c9147698939bc1fff46d479": {
      "model_module": "@jupyter-widgets/base",
      "model_module_version": "1.2.0",
      "model_name": "LayoutModel",
      "state": {}
     },
     "2c1ebdf6c12d4b5f8303275a302ae269": {
      "model_module": "@jupyter-widgets/controls",
      "model_module_version": "1.5.0",
      "model_name": "ButtonModel",
      "state": {
       "description": "Default values",
       "layout": "IPY_MODEL_9625e3f396674d7eb1519a48e8b15c46",
       "style": "IPY_MODEL_4dec7b0b89c74628ab4dc514abee8fac"
      }
     },
     "2c34ee2f19aa4fc99c71cf9b05a9b644": {
      "model_module": "@jupyter-widgets/controls",
      "model_module_version": "1.5.0",
      "model_name": "ButtonModel",
      "state": {
       "description": "Add",
       "layout": "IPY_MODEL_1ae89900008a40ec91e46855a8a8ce87",
       "style": "IPY_MODEL_b4f077c9e00e4524b9cdccc06db5d6b4"
      }
     },
     "2c3d279b80a8478cace0cc002b0c319b": {
      "model_module": "@jupyter-widgets/base",
      "model_module_version": "1.2.0",
      "model_name": "LayoutModel",
      "state": {
       "width": "40px"
      }
     },
     "2c50ef8476d945d48f9afb35961ccf1a": {
      "model_module": "@jupyter-widgets/controls",
      "model_module_version": "1.5.0",
      "model_name": "DescriptionStyleModel",
      "state": {
       "description_width": ""
      }
     },
     "2c7692b4b8044a8fa4ebf1a560d42503": {
      "model_module": "@jupyter-widgets/controls",
      "model_module_version": "1.5.0",
      "model_name": "HTMLModel",
      "state": {
       "layout": "IPY_MODEL_6320fb6ec3f2407995da63971f2251a9",
       "style": "IPY_MODEL_97c446d8dd5243268855e875b5844d8f",
       "value": "<b>Requirements:  </b>(('ChemML', '0.6'), ('pandas', '1.1.3'))"
      }
     },
     "2c91e845ef234217a041d3d90582ad9c": {
      "model_module": "@jupyter-widgets/base",
      "model_module_version": "1.2.0",
      "model_name": "LayoutModel",
      "state": {
       "margin": "0px 0px 0px 10px"
      }
     },
     "2ca3e74c6aa04528b4a22e33948ad712": {
      "model_module": "@jupyter-widgets/base",
      "model_module_version": "1.2.0",
      "model_name": "LayoutModel",
      "state": {
       "width": "40px"
      }
     },
     "2cdeb808695f40ff9ab88f48d573bace": {
      "model_module": "@jupyter-widgets/controls",
      "model_module_version": "1.5.0",
      "model_name": "HBoxModel",
      "state": {
       "layout": "IPY_MODEL_59ab1cd630b44234a430c3a2012fbfdd"
      }
     },
     "2d1be9d245c0486e9075db5bbaba9400": {
      "model_module": "@jupyter-widgets/controls",
      "model_module_version": "1.5.0",
      "model_name": "ButtonModel",
      "state": {
       "description": "Select",
       "layout": "IPY_MODEL_979a96f7a7d147f19faf57462eb97547",
       "style": "IPY_MODEL_cdfe93f3bc2d42be9358022dcf2db359"
      }
     },
     "2d23bf86fc1a433b99ff3845fd0aaa1f": {
      "model_module": "@jupyter-widgets/base",
      "model_module_version": "1.2.0",
      "model_name": "LayoutModel",
      "state": {
       "width": "40px"
      }
     },
     "2d3d9a8f6dde417d9ab59a93033fc846": {
      "model_module": "@jupyter-widgets/base",
      "model_module_version": "1.2.0",
      "model_name": "LayoutModel",
      "state": {}
     },
     "2d4c969597d04fe1ae9fc23c6d58df66": {
      "model_module": "@jupyter-widgets/controls",
      "model_module_version": "1.5.0",
      "model_name": "BoxModel",
      "state": {
       "children": [
        "IPY_MODEL_c22f3b5df6244349a321a934ec253b61"
       ],
       "layout": "IPY_MODEL_effe7dce636f40fc978505f99a466520"
      }
     },
     "2d5678fab1fc43aa934c59be95ef592a": {
      "model_module": "@jupyter-widgets/controls",
      "model_module_version": "1.5.0",
      "model_name": "DescriptionStyleModel",
      "state": {
       "description_width": ""
      }
     },
     "2d5d55eca46e4459b8e55b7bd67ded6f": {
      "model_module": "@jupyter-widgets/base",
      "model_module_version": "1.2.0",
      "model_name": "LayoutModel",
      "state": {
       "width": "40%"
      }
     },
     "2d821e84860b4cb0aa78f93d71247a74": {
      "model_module": "@jupyter-widgets/base",
      "model_module_version": "1.2.0",
      "model_name": "LayoutModel",
      "state": {
       "width": "40px"
      }
     },
     "2d834bb715684462a3dbcec63364dc4a": {
      "model_module": "@jupyter-widgets/base",
      "model_module_version": "1.2.0",
      "model_name": "LayoutModel",
      "state": {
       "margin": "10px 0px 0px 10px",
       "width": "50%"
      }
     },
     "2d9aea333cc34cb3895b0823bc06a97b": {
      "model_module": "@jupyter-widgets/controls",
      "model_module_version": "1.5.0",
      "model_name": "HBoxModel",
      "state": {
       "children": [
        "IPY_MODEL_7b8b6d32354f48419427cadef3f284cb",
        "IPY_MODEL_ceeeac646acc4d08b5aac199f532bc95"
       ],
       "layout": "IPY_MODEL_4d4fd7b8c4ce4f2597b5c5d7ec6f4aae"
      }
     },
     "2db18ccd31f74d8c87ad7545e516baaa": {
      "model_module": "@jupyter-widgets/controls",
      "model_module_version": "1.5.0",
      "model_name": "HTMLModel",
      "state": {
       "layout": "IPY_MODEL_b533ccab963442d8a0ca5cfaada16100",
       "style": "IPY_MODEL_94d9aeff635647b399ebf0ff5fe87f88",
       "value": "<b> Receive <<< </b>"
      }
     },
     "2db4812a700e492dbbe8a245269245d4": {
      "model_module": "@jupyter-widgets/controls",
      "model_module_version": "1.5.0",
      "model_name": "HBoxModel",
      "state": {
       "children": [
        "IPY_MODEL_e544610f740f4f22a10c000ce3aad781",
        "IPY_MODEL_b4dce49d9dc34cb1adeabe6c0829e29e",
        "IPY_MODEL_b46ff0e38d9644c9bf9497aa1f0d0ca0"
       ],
       "layout": "IPY_MODEL_36bf4970e4b54b12b27f160b52aaaad4"
      }
     },
     "2dc9a1a7badd4b11b314206d559e0a86": {
      "model_module": "@jupyter-widgets/base",
      "model_module_version": "1.2.0",
      "model_name": "LayoutModel",
      "state": {
       "margin": "0px 0px 0px 10px"
      }
     },
     "2dd2eace704f4e2fa36ccc47fc5b0c1c": {
      "model_module": "@jupyter-widgets/controls",
      "model_module_version": "1.5.0",
      "model_name": "ButtonModel",
      "state": {
       "description": "Default values",
       "layout": "IPY_MODEL_d27ef4f7cf83497c88ec60362531a9cd",
       "style": "IPY_MODEL_e9addf190c1642c6a789acec452e40b0"
      }
     },
     "2dea6f7415754bb9b719c84f9a846353": {
      "model_module": "@jupyter-widgets/base",
      "model_module_version": "1.2.0",
      "model_name": "LayoutModel",
      "state": {}
     },
     "2e0bc03c21b44839bed23a03b135d385": {
      "model_module": "@jupyter-widgets/controls",
      "model_module_version": "1.5.0",
      "model_name": "ToggleButtonsModel",
      "state": {
       "_options_labels": [
        "Represent",
        "inorganic descriptors",
        "chemml",
        "CoordinationNumberAttributeGenerator"
       ],
       "button_style": "info",
       "icons": [],
       "index": 0,
       "layout": "IPY_MODEL_56cad6fb877f499682de57eabb590f5c",
       "style": "IPY_MODEL_9ec8536a066c41caa55764d3d3b2a769",
       "tooltips": []
      }
     },
     "2e2ae16dee164d5e99d5cefb5deb6125": {
      "model_module": "@jupyter-widgets/base",
      "model_module_version": "1.2.0",
      "model_name": "LayoutModel",
      "state": {}
     },
     "2e429ddd596942a0a0dbb3286f8e3f6d": {
      "model_module": "@jupyter-widgets/controls",
      "model_module_version": "1.5.0",
      "model_name": "TextModel",
      "state": {
       "description": "Type:",
       "disabled": true,
       "layout": "IPY_MODEL_3578aa15f5a94b379848b95046fc2e26",
       "style": "IPY_MODEL_d11e97a6fc18414cabcc1cb1f33ca466"
      }
     },
     "2e44a3aab1a64134a9aa2a3bc2383f4d": {
      "model_module": "@jupyter-widgets/base",
      "model_module_version": "1.2.0",
      "model_name": "LayoutModel",
      "state": {
       "border": "dotted black 1px",
       "justify_content": "space-between"
      }
     },
     "2e4fda0faed3451fa7fe2fc73ccf0983": {
      "model_module": "@jupyter-widgets/controls",
      "model_module_version": "1.5.0",
      "model_name": "DescriptionStyleModel",
      "state": {
       "description_width": ""
      }
     },
     "2e675c4670c6402dbab1c82a7b21e3b1": {
      "model_module": "@jupyter-widgets/base",
      "model_module_version": "1.2.0",
      "model_name": "LayoutModel",
      "state": {
       "margin": "10px 0px 10px 400px"
      }
     },
     "2e96a4919bac4bdc94cbe7521164baf8": {
      "model_module": "@jupyter-widgets/controls",
      "model_module_version": "1.5.0",
      "model_name": "DropdownModel",
      "state": {
       "description": "input token:",
       "index": null,
       "layout": "IPY_MODEL_df40db34c776470abc54766d5bf642dd",
       "style": "IPY_MODEL_0ec8ceca4f9b4eb5a9998f68eac0d878"
      }
     },
     "2e99ca160bdd497ab4efd68117c0f9fc": {
      "model_module": "@jupyter-widgets/base",
      "model_module_version": "1.2.0",
      "model_name": "LayoutModel",
      "state": {}
     },
     "2efa4aeda4e54c3d8b41b1cd59aaffe2": {
      "model_module": "@jupyter-widgets/base",
      "model_module_version": "1.2.0",
      "model_name": "LayoutModel",
      "state": {
       "align_content": "center",
       "justify_content": "center"
      }
     },
     "2f3290ab66dd443f9351acd065f219f6": {
      "model_module": "@jupyter-widgets/controls",
      "model_module_version": "1.5.0",
      "model_name": "DescriptionStyleModel",
      "state": {
       "description_width": ""
      }
     },
     "2f54bd9026274406addefdca665e354f": {
      "model_module": "@jupyter-widgets/base",
      "model_module_version": "1.2.0",
      "model_name": "LayoutModel",
      "state": {
       "border": "solid gray 2px"
      }
     },
     "2f7bdea6370e48a699338f39499dc2a5": {
      "model_module": "@jupyter-widgets/base",
      "model_module_version": "1.2.0",
      "model_name": "LayoutModel",
      "state": {}
     },
     "2f981a46c8c94b2b8e816155fe25216a": {
      "model_module": "@jupyter-widgets/controls",
      "model_module_version": "1.5.0",
      "model_name": "VBoxModel",
      "state": {
       "children": [
        "IPY_MODEL_e775d01e60ea40719dbf01fb1fe1efbf",
        "IPY_MODEL_0659ce0760c04d2d89b6f414ba7b5daa",
        "IPY_MODEL_2c1ebdf6c12d4b5f8303275a302ae269"
       ],
       "layout": "IPY_MODEL_72956314175b438abf2355f513f125f1"
      }
     },
     "2fc43b95ed49471ab59ab47d0294d47c": {
      "model_module": "@jupyter-widgets/base",
      "model_module_version": "1.2.0",
      "model_name": "LayoutModel",
      "state": {}
     },
     "2fc49ba35f3f4e54ac1564980ce921eb": {
      "model_module": "@jupyter-widgets/controls",
      "model_module_version": "1.5.0",
      "model_name": "HBoxModel",
      "state": {
       "children": [
        "IPY_MODEL_05d3b3634f504e21b88ea82fdec122e8",
        "IPY_MODEL_714e9b5bb3da4b49bbb5d788039234a7"
       ],
       "layout": "IPY_MODEL_1fafc6e0f70f45b3b5aa1e98984766b2"
      }
     },
     "2fd38273d1884851950fe689bfbe2b4d": {
      "model_module": "@jupyter-widgets/base",
      "model_module_version": "1.2.0",
      "model_name": "LayoutModel",
      "state": {}
     },
     "2fe33c337bb34b68ab173335fdb562ad": {
      "model_module": "@jupyter-widgets/base",
      "model_module_version": "1.2.0",
      "model_name": "LayoutModel",
      "state": {}
     },
     "2ff13ff761dc4154a3b7441575274794": {
      "model_module": "@jupyter-widgets/controls",
      "model_module_version": "1.5.0",
      "model_name": "LabelModel",
      "state": {
       "layout": "IPY_MODEL_2f7bdea6370e48a699338f39499dc2a5",
       "style": "IPY_MODEL_ad8d084f9d044f35aab29eca33e596ab",
       "value": "Template 1: load excel sheet with SMILES codes in first column --> save them --> generate Morgan Fingerprints \n --> save features"
      }
     },
     "301d786de0f043598a18b17c2f661bbe": {
      "model_module": "@jupyter-widgets/controls",
      "model_module_version": "1.5.0",
      "model_name": "VBoxModel",
      "state": {
       "children": [
        "IPY_MODEL_68f5e8617bec49a9819c5e86e41347da",
        "IPY_MODEL_7801dadc1f8f491485c94fb73bea3603",
        "IPY_MODEL_b5047261bf38458aa84b2a5ad0d6116f",
        "IPY_MODEL_f5fbed5d750643cebdc8a56f155655d0",
        "IPY_MODEL_7c44f360a92d442a9486f326ef455cef",
        "IPY_MODEL_af6313f5b4894dc6a412f0f2e29dd472",
        "IPY_MODEL_cc38377b35f247bd9c74132ecb9653e6",
        "IPY_MODEL_ede7f8067fba4fdd904e7092e8958b1d",
        "IPY_MODEL_c06ddec091674fb6a5281c0f96ca56c9",
        "IPY_MODEL_ce7a41f629be459fa5883d502ef28f0e"
       ],
       "layout": "IPY_MODEL_7f8eb88c45b842b09f086ee0f248367d"
      }
     },
     "30652a25ea6f4783b9270d6f530514cc": {
      "model_module": "@jupyter-widgets/controls",
      "model_module_version": "1.5.0",
      "model_name": "CheckboxModel",
      "state": {
       "description": "Check to set",
       "disabled": false,
       "indent": false,
       "layout": "IPY_MODEL_92b74f948e4446a88ef14bab319377da",
       "style": "IPY_MODEL_b46dbe82d3424dcbba186d9ffb903694",
       "value": false
      }
     },
     "30be657d4be34b6ba9ce02b6037c8924": {
      "model_module": "@jupyter-widgets/base",
      "model_module_version": "1.2.0",
      "model_name": "LayoutModel",
      "state": {}
     },
     "30e202e046a0460db7fd603d07b13630": {
      "model_module": "@jupyter-widgets/base",
      "model_module_version": "1.2.0",
      "model_name": "LayoutModel",
      "state": {
       "width": "40%"
      }
     },
     "30fbcba4ec4c49738fc8677a012e415d": {
      "model_module": "@jupyter-widgets/base",
      "model_module_version": "1.2.0",
      "model_name": "LayoutModel",
      "state": {
       "border": "dotted black 1px",
       "justify_content": "space-between"
      }
     },
     "310377625989403682f90dfb62e42875": {
      "model_module": "@jupyter-widgets/controls",
      "model_module_version": "1.5.0",
      "model_name": "DescriptionStyleModel",
      "state": {
       "description_width": ""
      }
     },
     "3128d3e53436455889365148a42dd81a": {
      "model_module": "@jupyter-widgets/base",
      "model_module_version": "1.2.0",
      "model_name": "LayoutModel",
      "state": {}
     },
     "314f0a78e1cb4531a6307932fe9711a2": {
      "model_module": "@jupyter-widgets/controls",
      "model_module_version": "1.5.0",
      "model_name": "ButtonStyleModel",
      "state": {
       "button_color": "lightblue"
      }
     },
     "3176728abea241f48c03e59f73613e0e": {
      "model_module": "@jupyter-widgets/base",
      "model_module_version": "1.2.0",
      "model_name": "LayoutModel",
      "state": {}
     },
     "31fe949fad2941e897dc9919ea6ec279": {
      "model_module": "@jupyter-widgets/base",
      "model_module_version": "1.2.0",
      "model_name": "LayoutModel",
      "state": {
       "margin": "10px 0px 0px 10px",
       "width": "50%"
      }
     },
     "32057387ac704198bb7c39cf11b0c2b6": {
      "model_module": "@jupyter-widgets/controls",
      "model_module_version": "1.5.0",
      "model_name": "DescriptionStyleModel",
      "state": {
       "description_width": ""
      }
     },
     "3213589c70614da4b13742944a639c6f": {
      "model_module": "@jupyter-widgets/controls",
      "model_module_version": "1.5.0",
      "model_name": "BoxModel",
      "state": {
       "children": [
        "IPY_MODEL_bbbc2f3faea1466b8b15614cf5d92452"
       ],
       "layout": "IPY_MODEL_38395aaa44c94e1d8e87313c321be671"
      }
     },
     "32450638ec424ab38e6cb74e2582b461": {
      "model_module": "@jupyter-widgets/base",
      "model_module_version": "1.2.0",
      "model_name": "LayoutModel",
      "state": {}
     },
     "326c1cb279e844e7a42e93bf87483a7b": {
      "model_module": "@jupyter-widgets/base",
      "model_module_version": "1.2.0",
      "model_name": "LayoutModel",
      "state": {}
     },
     "328a15bdd02f4d899e5899549c42912d": {
      "model_module": "@jupyter-widgets/controls",
      "model_module_version": "1.5.0",
      "model_name": "DescriptionStyleModel",
      "state": {
       "description_width": ""
      }
     },
     "328b9fb7e35149798af96202f619b73b": {
      "model_module": "@jupyter-widgets/controls",
      "model_module_version": "1.5.0",
      "model_name": "ButtonStyleModel",
      "state": {
       "button_color": "lightblue"
      }
     },
     "32a973746e87491f98957fe6c662c809": {
      "model_module": "@jupyter-widgets/base",
      "model_module_version": "1.2.0",
      "model_name": "LayoutModel",
      "state": {
       "width": "40%"
      }
     },
     "32b287d74a5b413a80370c0fafbc18cc": {
      "model_module": "@jupyter-widgets/controls",
      "model_module_version": "1.5.0",
      "model_name": "HTMLModel",
      "state": {
       "layout": "IPY_MODEL_a3855363c81f43c980e35f585d1e804b",
       "style": "IPY_MODEL_d50ae9da40764daca4eea84477717987",
       "value": "<b> <<< </b>"
      }
     },
     "32cbbf040c534bbfbb3bcd2db33be552": {
      "model_module": "@jupyter-widgets/controls",
      "model_module_version": "1.5.0",
      "model_name": "ButtonStyleModel",
      "state": {
       "button_color": "lightblue"
      }
     },
     "32cbc34f12d249ff939dae989329e69b": {
      "model_module": "@jupyter-widgets/base",
      "model_module_version": "1.2.0",
      "model_name": "LayoutModel",
      "state": {
       "width": "140px"
      }
     },
     "32fc8ee106e6413d9b7bf3fe46489991": {
      "model_module": "@jupyter-widgets/controls",
      "model_module_version": "1.5.0",
      "model_name": "DescriptionStyleModel",
      "state": {
       "description_width": ""
      }
     },
     "32fe7b7e5a1041b2b7806d9bb474b238": {
      "model_module": "@jupyter-widgets/base",
      "model_module_version": "1.2.0",
      "model_name": "LayoutModel",
      "state": {}
     },
     "3303a5fb15694d289c32233af1f7ce98": {
      "model_module": "@jupyter-widgets/controls",
      "model_module_version": "1.5.0",
      "model_name": "ButtonStyleModel",
      "state": {
       "button_color": "lightblue"
      }
     },
     "3314ffe8d961435181c9a6cf0b78bbee": {
      "model_module": "@jupyter-widgets/controls",
      "model_module_version": "1.5.0",
      "model_name": "DescriptionStyleModel",
      "state": {
       "description_width": ""
      }
     },
     "334172991cd641a78774d69f09d9a132": {
      "model_module": "@jupyter-widgets/base",
      "model_module_version": "1.2.0",
      "model_name": "LayoutModel",
      "state": {}
     },
     "3356905d638c4108b1dc60585c9bbe38": {
      "model_module": "@jupyter-widgets/controls",
      "model_module_version": "1.5.0",
      "model_name": "ButtonModel",
      "state": {
       "description": "Select",
       "icon": "check",
       "layout": "IPY_MODEL_16f854f3e89a41d59bb222ec2160ef70",
       "style": "IPY_MODEL_aa9b75072fe5445ea88d2ce86e47938a"
      }
     },
     "3382f6ec1c114fcabdcba480424be87e": {
      "model_module": "@jupyter-widgets/base",
      "model_module_version": "1.2.0",
      "model_name": "LayoutModel",
      "state": {
       "margin": "0px 0px 0px 10px"
      }
     },
     "33a18f3992fd468db226c2b7eb6972c2": {
      "model_module": "@jupyter-widgets/controls",
      "model_module_version": "1.5.0",
      "model_name": "DescriptionStyleModel",
      "state": {
       "description_width": "initial"
      }
     },
     "33b672ee8a994580a61c908dcce56f9b": {
      "model_module": "@jupyter-widgets/controls",
      "model_module_version": "1.5.0",
      "model_name": "VBoxModel",
      "state": {
       "children": [
        "IPY_MODEL_1488771fcd5b4056845f7f3ebd5d5a2c",
        "IPY_MODEL_78c2820005db4e35b087cad9b59b9027",
        "IPY_MODEL_b1825ead899948488837f18ecc5b3702",
        "IPY_MODEL_e996343511b64e3aa5290f4bcd2baad1",
        "IPY_MODEL_4e7a7e71975f4581bcd72dbe17c4d234"
       ],
       "layout": "IPY_MODEL_b32c9a08d54b49b39c11da5308fc4ddf"
      }
     },
     "33bf923b58f44973b45c8f9216ceb6e8": {
      "model_module": "@jupyter-widgets/controls",
      "model_module_version": "1.5.0",
      "model_name": "ButtonStyleModel",
      "state": {
       "button_color": "lightblue"
      }
     },
     "340c7d289e6744ee91818e2bb884c148": {
      "model_module": "@jupyter-widgets/controls",
      "model_module_version": "1.5.0",
      "model_name": "ToggleButtonsModel",
      "state": {
       "_options_labels": [
        "Enter",
        "python script",
        "chemml",
        "PyScript"
       ],
       "button_style": "info",
       "icons": [],
       "index": 0,
       "layout": "IPY_MODEL_a6e51e0cfcb44850973c5e5de91db92c",
       "style": "IPY_MODEL_0a9adfa8f23b40f08c978a4085943c86",
       "tooltips": []
      }
     },
     "34168e8ea6d44327bf035f1de7900d04": {
      "model_module": "@jupyter-widgets/base",
      "model_module_version": "1.2.0",
      "model_name": "LayoutModel",
      "state": {
       "width": "40%"
      }
     },
     "34260c2ff2e34df3873bcca090c65114": {
      "model_module": "@jupyter-widgets/controls",
      "model_module_version": "1.5.0",
      "model_name": "DescriptionStyleModel",
      "state": {
       "description_width": ""
      }
     },
     "343d9685af264c36b8807118ca232323": {
      "model_module": "@jupyter-widgets/controls",
      "model_module_version": "1.5.0",
      "model_name": "DescriptionStyleModel",
      "state": {
       "description_width": ""
      }
     },
     "344fe3787c7848f7a8c6f728792ba16a": {
      "model_module": "@jupyter-widgets/controls",
      "model_module_version": "1.5.0",
      "model_name": "DescriptionStyleModel",
      "state": {
       "description_width": ""
      }
     },
     "345fb71a830d4778b304aa84c601498b": {
      "model_module": "@jupyter-widgets/controls",
      "model_module_version": "1.5.0",
      "model_name": "CheckboxModel",
      "state": {
       "description": "Check to set",
       "disabled": false,
       "indent": false,
       "layout": "IPY_MODEL_69575986f27d46ad983373957270b254",
       "style": "IPY_MODEL_90fa6d1b46b14890a63058283f2f4e82",
       "value": false
      }
     },
     "34715620bab3492b91387de9a445b5ce": {
      "model_module": "@jupyter-widgets/controls",
      "model_module_version": "1.5.0",
      "model_name": "DescriptionStyleModel",
      "state": {
       "description_width": ""
      }
     },
     "347863e6f80f47c2b78c5bd2bdfe6138": {
      "model_module": "@jupyter-widgets/controls",
      "model_module_version": "1.5.0",
      "model_name": "DescriptionStyleModel",
      "state": {
       "description_width": ""
      }
     },
     "3485362b68d04d9298849b85463917db": {
      "model_module": "@jupyter-widgets/controls",
      "model_module_version": "1.5.0",
      "model_name": "HBoxModel",
      "state": {
       "children": [
        "IPY_MODEL_ff74ea3f3a274f4a88d0688d36f852a7",
        "IPY_MODEL_18f1cfe032064c31b0684402bbc10d36",
        "IPY_MODEL_af64afdace114b55b23a63683eb5447d",
        "IPY_MODEL_3eb77161de5545f3b42171dfe20a8e28"
       ],
       "layout": "IPY_MODEL_9c9831a383ed4535998047c2154bdd10"
      }
     },
     "34a4144cc2ca4c58926f6942fab9314b": {
      "model_module": "@jupyter-widgets/controls",
      "model_module_version": "1.5.0",
      "model_name": "TextModel",
      "state": {
       "description": "Type:",
       "disabled": true,
       "layout": "IPY_MODEL_085b8a8b37d64e1193bb57aeae3f43c1",
       "style": "IPY_MODEL_61cc8a72151640c1b1d2ab9320d84319"
      }
     },
     "34bbdf32527e43a9b906e763796582d5": {
      "model_module": "@jupyter-widgets/controls",
      "model_module_version": "1.5.0",
      "model_name": "CheckboxModel",
      "state": {
       "description": "Check to set",
       "disabled": false,
       "indent": false,
       "layout": "IPY_MODEL_9f59181ec7dd4767903ecda5e65d5292",
       "style": "IPY_MODEL_ca2efcc6cc434815892127e952d91419",
       "value": false
      }
     },
     "34bdbebdd0ff4add9f6055a24b95254f": {
      "model_module": "@jupyter-widgets/controls",
      "model_module_version": "1.5.0",
      "model_name": "DescriptionStyleModel",
      "state": {
       "description_width": "initial"
      }
     },
     "34c4bb64802f454b8e5d839a81a59035": {
      "model_module": "@jupyter-widgets/controls",
      "model_module_version": "1.5.0",
      "model_name": "DescriptionStyleModel",
      "state": {
       "description_width": ""
      }
     },
     "34c5dbc399df4c4f8703550899d3ded8": {
      "model_module": "@jupyter-widgets/controls",
      "model_module_version": "1.5.0",
      "model_name": "LabelModel",
      "state": {
       "layout": "IPY_MODEL_3ee415ff36864b9fbda2878210eb7fef",
       "style": "IPY_MODEL_278b0a281a554152ae4a0963250d7346",
       "value": "Template 1: load_cep_homo --> plot histogram of HOMO energies --> print 5 SMILES"
      }
     },
     "34c749e003f6473b94aa1d22c276f3e1": {
      "model_module": "@jupyter-widgets/base",
      "model_module_version": "1.2.0",
      "model_name": "LayoutModel",
      "state": {
       "margin": "0px 0px 0px 10px"
      }
     },
     "34d54ceb84c64465a1cdf43ee6f7ebcc": {
      "model_module": "@jupyter-widgets/controls",
      "model_module_version": "1.5.0",
      "model_name": "DescriptionStyleModel",
      "state": {
       "description_width": ""
      }
     },
     "34eb2e4221954f73b603cd91273d9bb9": {
      "model_module": "@jupyter-widgets/controls",
      "model_module_version": "1.5.0",
      "model_name": "DescriptionStyleModel",
      "state": {
       "description_width": ""
      }
     },
     "34efbcda488e4dc88f745a11c986f09a": {
      "model_module": "@jupyter-widgets/base",
      "model_module_version": "1.2.0",
      "model_name": "LayoutModel",
      "state": {
       "width": "50%"
      }
     },
     "35138705e8e94546beb1c43d153c0be5": {
      "model_module": "@jupyter-widgets/base",
      "model_module_version": "1.2.0",
      "model_name": "LayoutModel",
      "state": {}
     },
     "353fd4e88db94a7eb28b15e13343ed94": {
      "model_module": "@jupyter-widgets/controls",
      "model_module_version": "1.5.0",
      "model_name": "DescriptionStyleModel",
      "state": {
       "description_width": ""
      }
     },
     "35541792957b42bdbe56e6410a17ddfa": {
      "model_module": "@jupyter-widgets/controls",
      "model_module_version": "1.5.0",
      "model_name": "DescriptionStyleModel",
      "state": {
       "description_width": ""
      }
     },
     "35661652e325478187d6877c781edf5a": {
      "model_module": "@jupyter-widgets/controls",
      "model_module_version": "1.5.0",
      "model_name": "HBoxModel",
      "state": {
       "children": [
        "IPY_MODEL_222ff93da99c4fc9b50d2ce3e072d94a",
        "IPY_MODEL_8746c387dcf6401c93e6050c7c6fbb56",
        "IPY_MODEL_12b81dfd3ca7439d9e2d1152aadaab69",
        "IPY_MODEL_71491f49ab1d4d8e9d4d4f618a33e063"
       ],
       "layout": "IPY_MODEL_2bb47998bc8c421cbb044d10de208258"
      }
     },
     "3578aa15f5a94b379848b95046fc2e26": {
      "model_module": "@jupyter-widgets/base",
      "model_module_version": "1.2.0",
      "model_name": "LayoutModel",
      "state": {
       "width": "40%"
      }
     },
     "358a2161601b471aaa8c5c35ef294a0b": {
      "model_module": "@jupyter-widgets/base",
      "model_module_version": "1.2.0",
      "model_name": "LayoutModel",
      "state": {
       "margin": "0px 0px 0px 20px"
      }
     },
     "35b6f7eadaaf42759b898ef84ac15f30": {
      "model_module": "@jupyter-widgets/controls",
      "model_module_version": "1.5.0",
      "model_name": "DescriptionStyleModel",
      "state": {
       "description_width": ""
      }
     },
     "35bf01148c1e48e6accb0b3895648ff4": {
      "model_module": "@jupyter-widgets/base",
      "model_module_version": "1.2.0",
      "model_name": "LayoutModel",
      "state": {}
     },
     "35c82aa296794b0c99318be9fc05239f": {
      "model_module": "@jupyter-widgets/controls",
      "model_module_version": "1.5.0",
      "model_name": "CheckboxModel",
      "state": {
       "description": "Check to set",
       "disabled": false,
       "indent": false,
       "layout": "IPY_MODEL_a0473159b88a4bc68fbdab812c488991",
       "style": "IPY_MODEL_fe55d771bcff4659909184a9267f2042",
       "value": false
      }
     },
     "35caa4530b08439f8a93c6b6d0683d03": {
      "model_module": "@jupyter-widgets/base",
      "model_module_version": "1.2.0",
      "model_name": "LayoutModel",
      "state": {}
     },
     "35f8d4584ed64800b344b7839f7836c7": {
      "model_module": "@jupyter-widgets/controls",
      "model_module_version": "1.5.0",
      "model_name": "DropdownModel",
      "state": {
       "_options_labels": [
        "2",
        "3",
        "4",
        "5",
        "6"
       ],
       "description": "block#:",
       "index": 0,
       "layout": "IPY_MODEL_14f4dbaacadf467fbc65814da852248f",
       "style": "IPY_MODEL_7a5581aeac1c4a40b1b4408dc7b36dd1"
      }
     },
     "36397e81375741d298932b2900a4542c": {
      "model_module": "@jupyter-widgets/controls",
      "model_module_version": "1.5.0",
      "model_name": "LabelModel",
      "state": {
       "layout": "IPY_MODEL_f0921faa9786450ba6e62f984cd255f0",
       "style": "IPY_MODEL_e4067d3f01674e5dacf3a83764078594",
       "value": "Template 3: get SMILES reperesentaion of molecules --> save them --> generate Morgan Fingerprints  --> save features"
      }
     },
     "364865acc5f74f16a70603c5995e719e": {
      "model_module": "@jupyter-widgets/controls",
      "model_module_version": "1.5.0",
      "model_name": "DropdownModel",
      "state": {
       "_options_labels": [
        "2",
        "3",
        "4",
        "5",
        "6"
       ],
       "description": "block#:",
       "index": 0,
       "layout": "IPY_MODEL_ac92f76a679d49a39553f25846f7bbbe",
       "style": "IPY_MODEL_38888612015c448bb36271bcdec30114"
      }
     },
     "365b5574426a45859e0807da29a13820": {
      "model_module": "@jupyter-widgets/controls",
      "model_module_version": "1.5.0",
      "model_name": "DropdownModel",
      "state": {
       "_options_labels": [
        "Enter",
        "Represent",
        "Prepare",
        "Model",
        "Search",
        "Visualize",
        "Store"
       ],
       "description": "Task:",
       "index": 0,
       "layout": "IPY_MODEL_c98e91c166544272b23170e253709385",
       "style": "IPY_MODEL_f46b9ca2b7bf457ba6c38d2e6d688334"
      }
     },
     "368fe83b892745e9a332c1b4cc8593d4": {
      "model_module": "@jupyter-widgets/base",
      "model_module_version": "1.2.0",
      "model_name": "LayoutModel",
      "state": {}
     },
     "36b44a5fc6824ec4b7cf7f6757ece78a": {
      "model_module": "@jupyter-widgets/controls",
      "model_module_version": "1.5.0",
      "model_name": "VBoxModel",
      "state": {
       "children": [
        "IPY_MODEL_7789ad2ba8ab46f2bd37277523fe7e33",
        "IPY_MODEL_68050259d96241ea975caaca79c3d8b1",
        "IPY_MODEL_ffdb3d7bf3cd456b9ab3ef9b82c49bb8",
        "IPY_MODEL_0e5e203859c34ee6ba94374779b5fe80",
        "IPY_MODEL_2fc49ba35f3f4e54ac1564980ce921eb",
        "IPY_MODEL_94152d9574784e4393651998e803a8fd"
       ],
       "layout": "IPY_MODEL_6f7af01c1201424c8e6c4f1501f2e414"
      }
     },
     "36b7e3e504634645a2e4a0e0d748e501": {
      "model_module": "@jupyter-widgets/base",
      "model_module_version": "1.2.0",
      "model_name": "LayoutModel",
      "state": {}
     },
     "36bf4970e4b54b12b27f160b52aaaad4": {
      "model_module": "@jupyter-widgets/base",
      "model_module_version": "1.2.0",
      "model_name": "LayoutModel",
      "state": {}
     },
     "36cdfe076b834b7ab889675a8d35933d": {
      "model_module": "@jupyter-widgets/base",
      "model_module_version": "1.2.0",
      "model_name": "LayoutModel",
      "state": {
       "border": "dotted black 1px",
       "justify_content": "space-between"
      }
     },
     "36e6eda900aa4e6da33a75c82b3afaec": {
      "model_module": "@jupyter-widgets/controls",
      "model_module_version": "1.5.0",
      "model_name": "DescriptionStyleModel",
      "state": {
       "description_width": ""
      }
     },
     "370056da7b3043d8b7a6a624435fa270": {
      "model_module": "@jupyter-widgets/controls",
      "model_module_version": "1.5.0",
      "model_name": "TextModel",
      "state": {
       "description": "line03",
       "layout": "IPY_MODEL_9b644fa121cb4126bd7f1fe0cc86c058",
       "placeholder": "[]",
       "style": "IPY_MODEL_83c373b2a0b14af193de197f4298cf27",
       "value": "... python variables"
      }
     },
     "3774242ce17a4cab850473d2caf7b22f": {
      "model_module": "@jupyter-widgets/controls",
      "model_module_version": "1.5.0",
      "model_name": "TextModel",
      "state": {
       "description": "line20",
       "layout": "IPY_MODEL_a10bdc5b5a664f068d0417d263096425",
       "placeholder": "[]",
       "style": "IPY_MODEL_9f608892ea2b476fa9812e8be836ac8a",
       "value": "type python code"
      }
     },
     "378040a34fc84c7089d2b3b2a128f725": {
      "model_module": "@jupyter-widgets/controls",
      "model_module_version": "1.5.0",
      "model_name": "TextModel",
      "state": {
       "description": "line11",
       "layout": "IPY_MODEL_680c8918bcfc48bd8e1913cd986a556e",
       "placeholder": "[]",
       "style": "IPY_MODEL_34bdbebdd0ff4add9f6055a24b95254f",
       "value": "type python code"
      }
     },
     "3797ba294582468c8f9b439be17e850a": {
      "model_module": "@jupyter-widgets/base",
      "model_module_version": "1.2.0",
      "model_name": "LayoutModel",
      "state": {
       "align_items": "center",
       "justify_content": "space-between",
       "margin": "10px 0px 20px 0px"
      }
     },
     "37c09584c0a7483ba411c811ea9211a8": {
      "model_module": "@jupyter-widgets/controls",
      "model_module_version": "1.5.0",
      "model_name": "HBoxModel",
      "state": {
       "children": [
        "IPY_MODEL_225ddd259dcc49a4a8953910539b0f4b",
        "IPY_MODEL_2d1be9d245c0486e9075db5bbaba9400"
       ],
       "layout": "IPY_MODEL_2e44a3aab1a64134a9aa2a3bc2383f4d"
      }
     },
     "380341211cd94dbfb90e385c6fa075ef": {
      "model_module": "@jupyter-widgets/controls",
      "model_module_version": "1.5.0",
      "model_name": "ButtonModel",
      "state": {
       "description": "Remove pipe",
       "icon": "remove",
       "layout": "IPY_MODEL_de00f51b848c48c993c05c333fb7087c",
       "style": "IPY_MODEL_10eb874d8eba4cbf9ee1b9597a728808"
      }
     },
     "38395aaa44c94e1d8e87313c321be671": {
      "model_module": "@jupyter-widgets/base",
      "model_module_version": "1.2.0",
      "model_name": "LayoutModel",
      "state": {}
     },
     "3849644a75644d8ca0678472593032c8": {
      "model_module": "@jupyter-widgets/base",
      "model_module_version": "1.2.0",
      "model_name": "LayoutModel",
      "state": {}
     },
     "384dd10f54ea457e93c4ec548012fecf": {
      "model_module": "@jupyter-widgets/controls",
      "model_module_version": "1.5.0",
      "model_name": "DescriptionStyleModel",
      "state": {
       "description_width": "initial"
      }
     },
     "38569481833e4e63a2a7ef4b1da9ef02": {
      "model_module": "@jupyter-widgets/controls",
      "model_module_version": "1.5.0",
      "model_name": "VBoxModel",
      "state": {
       "children": [
        "IPY_MODEL_07ff3066b9a747c48c2930176f7a26b0",
        "IPY_MODEL_e559492f36b14edc8bb46b50a3cd3342",
        "IPY_MODEL_3485362b68d04d9298849b85463917db",
        "IPY_MODEL_7c911a0954414bc9a57746a36810c466",
        "IPY_MODEL_bcefae5a424449eabade72064b761351",
        "IPY_MODEL_12a0527e8c1c4775803043013cac320a",
        "IPY_MODEL_611a91d847ed45dfb59184d3eb185a42"
       ],
       "layout": "IPY_MODEL_f39b247851fd4f3096c7280e904082f3"
      }
     },
     "38570c47fa094ea5a1d62862bce28439": {
      "model_module": "@jupyter-widgets/controls",
      "model_module_version": "1.5.0",
      "model_name": "ButtonStyleModel",
      "state": {}
     },
     "38888612015c448bb36271bcdec30114": {
      "model_module": "@jupyter-widgets/controls",
      "model_module_version": "1.5.0",
      "model_name": "DescriptionStyleModel",
      "state": {
       "description_width": ""
      }
     },
     "388eccf954b140e0a792d24057cfcfbd": {
      "model_module": "@jupyter-widgets/base",
      "model_module_version": "1.2.0",
      "model_name": "LayoutModel",
      "state": {}
     },
     "38c454408e1e454caa87dfbc3b737b34": {
      "model_module": "@jupyter-widgets/controls",
      "model_module_version": "1.5.0",
      "model_name": "DropdownModel",
      "state": {
       "_options_labels": [
        "df"
       ],
       "description": "output token:",
       "index": 0,
       "layout": "IPY_MODEL_53346fc5d9174c4ebc7f3c24f4934d6c",
       "style": "IPY_MODEL_2671265df1a1466a9191317b56b079ce"
      }
     },
     "38d521df23a74d7ca2b247c2b97804f2": {
      "model_module": "@jupyter-widgets/base",
      "model_module_version": "1.2.0",
      "model_name": "LayoutModel",
      "state": {}
     },
     "39345a419fdb491683f8725f463d392c": {
      "model_module": "@jupyter-widgets/controls",
      "model_module_version": "1.5.0",
      "model_name": "HTMLModel",
      "state": {
       "layout": "IPY_MODEL_90768629ba964acf81c5cbdecd15926a",
       "style": "IPY_MODEL_9220b2946ce04facb00b60ec2199a833",
       "value": "all input tokens: entries"
      }
     },
     "3945aa2d544c427698a04c7805e61b4f": {
      "model_module": "@jupyter-widgets/base",
      "model_module_version": "1.2.0",
      "model_name": "LayoutModel",
      "state": {
       "border": "dotted black 1px",
       "justify_content": "space-between"
      }
     },
     "394b7d26e099465bb7bee90e3663cbc8": {
      "model_module": "@jupyter-widgets/base",
      "model_module_version": "1.2.0",
      "model_name": "LayoutModel",
      "state": {
       "width": "140px"
      }
     },
     "39546546f53d424dafeda3a95e055057": {
      "model_module": "@jupyter-widgets/controls",
      "model_module_version": "1.5.0",
      "model_name": "HBoxModel",
      "state": {
       "children": [
        "IPY_MODEL_7d75ad6349854368bf04c73972cfa2ab"
       ],
       "layout": "IPY_MODEL_484031f7979e4485a4355e385df599dd"
      }
     },
     "395b09ccc6954781b104a6b38a1ed980": {
      "model_module": "@jupyter-widgets/controls",
      "model_module_version": "1.5.0",
      "model_name": "DescriptionStyleModel",
      "state": {
       "description_width": ""
      }
     },
     "39995fb252654d2ea4cfc4bb2c189c29": {
      "model_module": "@jupyter-widgets/base",
      "model_module_version": "1.2.0",
      "model_name": "LayoutModel",
      "state": {}
     },
     "39aed6c4ad8149bf942bce440754ce39": {
      "model_module": "@jupyter-widgets/controls",
      "model_module_version": "1.5.0",
      "model_name": "HBoxModel",
      "state": {
       "children": [
        "IPY_MODEL_e1db55bf3fb340388f8e3fe413b1cb87"
       ],
       "layout": "IPY_MODEL_d4464dd09ade4aa29ab4474fa180d89b"
      }
     },
     "39cc7c62c4cc49f2a527948ebc0de023": {
      "model_module": "@jupyter-widgets/controls",
      "model_module_version": "1.5.0",
      "model_name": "DescriptionStyleModel",
      "state": {
       "description_width": ""
      }
     },
     "39e3d50c930147ce8c84d5b283c04729": {
      "model_module": "@jupyter-widgets/base",
      "model_module_version": "1.2.0",
      "model_name": "LayoutModel",
      "state": {
       "align_items": "center",
       "justify_content": "center",
       "margin": "10px 0px 0px 0px"
      }
     },
     "3a2cdac6e8cc415eb4eefca38aa06f13": {
      "model_module": "@jupyter-widgets/base",
      "model_module_version": "1.2.0",
      "model_name": "LayoutModel",
      "state": {
       "margin": "20px 0px 20px 250px"
      }
     },
     "3a433b41c38c44ee92c5ed902bf2c5af": {
      "model_module": "@jupyter-widgets/controls",
      "model_module_version": "1.5.0",
      "model_name": "ButtonStyleModel",
      "state": {
       "button_color": "lightblue"
      }
     },
     "3a5310c6518e45d8ac03d93ca49e6a04": {
      "model_module": "@jupyter-widgets/controls",
      "model_module_version": "1.5.0",
      "model_name": "DescriptionStyleModel",
      "state": {
       "description_width": ""
      }
     },
     "3a5633b9b01a448a866cd7c824a69dc1": {
      "model_module": "@jupyter-widgets/base",
      "model_module_version": "1.2.0",
      "model_name": "LayoutModel",
      "state": {
       "margin": "0px 0px 0px 10px"
      }
     },
     "3a84fdaa1ef443dc9afd45f8a5b39858": {
      "model_module": "@jupyter-widgets/base",
      "model_module_version": "1.2.0",
      "model_name": "LayoutModel",
      "state": {
       "margin": "10px 0px 0px 10px",
       "width": "50%"
      }
     },
     "3aa8c90e068a4221a3f708f1aba8e824": {
      "model_module": "@jupyter-widgets/controls",
      "model_module_version": "1.5.0",
      "model_name": "BoxModel",
      "state": {
       "children": [
        "IPY_MODEL_097374ccb36a4e469a6e9ad2a4156f6d"
       ],
       "layout": "IPY_MODEL_79c475aa287e4889af3d8cedc9355936"
      }
     },
     "3ac65dc2cee24771bb2088fa332082e2": {
      "model_module": "@jupyter-widgets/base",
      "model_module_version": "1.2.0",
      "model_name": "LayoutModel",
      "state": {
       "margin": "0px 0px 0px 10px",
       "width": "100%"
      }
     },
     "3ac68885f3894b079a108d4638749c6b": {
      "model_module": "@jupyter-widgets/controls",
      "model_module_version": "1.5.0",
      "model_name": "CheckboxModel",
      "state": {
       "description": "Check to set",
       "disabled": false,
       "indent": false,
       "layout": "IPY_MODEL_fe6b07400f22418db9adc39f26b6fc56",
       "style": "IPY_MODEL_20def03cc9554e5aa65a20d4cd8bbc6b",
       "value": false
      }
     },
     "3ae37c1802494284b2abb7c13df4f761": {
      "model_module": "@jupyter-widgets/controls",
      "model_module_version": "1.5.0",
      "model_name": "DescriptionStyleModel",
      "state": {
       "description_width": ""
      }
     },
     "3b143eff6c1540fca8381775b1ec26ec": {
      "model_module": "@jupyter-widgets/controls",
      "model_module_version": "1.5.0",
      "model_name": "TextModel",
      "state": {
       "description": "Type:",
       "disabled": true,
       "layout": "IPY_MODEL_23099b31415745ed8207ade4fee7cf23",
       "style": "IPY_MODEL_b9e2776ca00c4d4eb0cc01dfef1b45c9"
      }
     },
     "3b35a15c10054958ac70e736b230f9f3": {
      "model_module": "@jupyter-widgets/controls",
      "model_module_version": "1.5.0",
      "model_name": "DescriptionStyleModel",
      "state": {
       "description_width": ""
      }
     },
     "3b3fa916ec2540ea99b39adbb02243db": {
      "model_module": "@jupyter-widgets/controls",
      "model_module_version": "1.5.0",
      "model_name": "HBoxModel",
      "state": {
       "children": [
        "IPY_MODEL_b71c0f13f5e24992bf7a920aff567d9c",
        "IPY_MODEL_b33dcc982abf468e97ca85be4d8cacc8",
        "IPY_MODEL_4690457b3f0441ebb140ffff05fdb45a",
        "IPY_MODEL_716f5259af3c44f5b6b5925302a82ac0"
       ],
       "layout": "IPY_MODEL_fff9c42b8d9b4208bb615c8035b17309"
      }
     },
     "3b59203ddb394e9a96171157fa9c68b0": {
      "model_module": "@jupyter-widgets/base",
      "model_module_version": "1.2.0",
      "model_name": "LayoutModel",
      "state": {}
     },
     "3b81cfeb2b894e769758b8c5fc70fe3d": {
      "model_module": "@jupyter-widgets/controls",
      "model_module_version": "1.5.0",
      "model_name": "HBoxModel",
      "state": {
       "children": [
        "IPY_MODEL_5d8f409dc84b435ea5a6af896627c06d",
        "IPY_MODEL_c821f7b01265499aa3bc17762510e8ab"
       ],
       "layout": "IPY_MODEL_d740431b4314496b9a2898ad001e4216"
      }
     },
     "3b9155d11b664eb996316c5306258aba": {
      "model_module": "@jupyter-widgets/controls",
      "model_module_version": "1.5.0",
      "model_name": "TabModel",
      "state": {
       "_titles": {
        "0": "Parameters",
        "1": "Input/Output"
       },
       "children": [
        "IPY_MODEL_d9d6a15ca15d465b97d8a780e83f7633",
        "IPY_MODEL_50edaf1e13134f6bb37f389fbbfae7c3"
       ],
       "layout": "IPY_MODEL_8fdf56aa59d94e98a413717e897c504e"
      }
     },
     "3ba5f8f027974df2ae9b15f328c41312": {
      "model_module": "@jupyter-widgets/base",
      "model_module_version": "1.2.0",
      "model_name": "LayoutModel",
      "state": {
       "margin": "0px 10px 0px 0px",
       "width": "60px"
      }
     },
     "3bc14307772b460385ed31580661a2bc": {
      "model_module": "@jupyter-widgets/controls",
      "model_module_version": "1.5.0",
      "model_name": "LabelModel",
      "state": {
       "layout": "IPY_MODEL_0d43679ad41f4798b476e46eb7ca75f5",
       "style": "IPY_MODEL_878c5598c1f74a95b2500d0c32fcb197",
       "value": "Template 1: load_xyz_polarizability --> generate CoulombMatrix features --> save features"
      }
     },
     "3bc241838f694809b655f4098680e457": {
      "model_module": "@jupyter-widgets/base",
      "model_module_version": "1.2.0",
      "model_name": "LayoutModel",
      "state": {}
     },
     "3bcda2e702bc4ab0ad508ddff265a6fe": {
      "model_module": "@jupyter-widgets/base",
      "model_module_version": "1.2.0",
      "model_name": "LayoutModel",
      "state": {}
     },
     "3becc0d86481428eaa47f1f4f27da668": {
      "model_module": "@jupyter-widgets/controls",
      "model_module_version": "1.5.0",
      "model_name": "DescriptionStyleModel",
      "state": {
       "description_width": ""
      }
     },
     "3c5252bc75d1414c95f0f9e8449534dd": {
      "model_module": "@jupyter-widgets/controls",
      "model_module_version": "1.5.0",
      "model_name": "DescriptionStyleModel",
      "state": {
       "description_width": "initial"
      }
     },
     "3c6286e64f0d401caf5c5547726bde70": {
      "model_module": "@jupyter-widgets/controls",
      "model_module_version": "1.5.0",
      "model_name": "DescriptionStyleModel",
      "state": {
       "description_width": ""
      }
     },
     "3c686a7d00ff410c8f6414518ddffe54": {
      "model_module": "@jupyter-widgets/base",
      "model_module_version": "1.2.0",
      "model_name": "LayoutModel",
      "state": {}
     },
     "3c8ec4967203489ca279c5e2d07ca0a5": {
      "model_module": "@jupyter-widgets/controls",
      "model_module_version": "1.5.0",
      "model_name": "SelectMultipleModel",
      "state": {
       "index": [],
       "layout": "IPY_MODEL_c6865d01989947ecad5b36fa892fb3bd",
       "rows": 5,
       "style": "IPY_MODEL_4e46d9b28941491ebea1c67eec80e23a"
      }
     },
     "3c8fab248b244428b16c5855b257355f": {
      "model_module": "@jupyter-widgets/controls",
      "model_module_version": "1.5.0",
      "model_name": "DescriptionStyleModel",
      "state": {
       "description_width": ""
      }
     },
     "3ca47a357d26479abd9a06cfa9736590": {
      "model_module": "@jupyter-widgets/controls",
      "model_module_version": "1.5.0",
      "model_name": "DescriptionStyleModel",
      "state": {
       "description_width": ""
      }
     },
     "3cc98f897550477eaf86e240f83c5e48": {
      "model_module": "@jupyter-widgets/base",
      "model_module_version": "1.2.0",
      "model_name": "LayoutModel",
      "state": {}
     },
     "3cd63c959888485b97166154c3a869e8": {
      "model_module": "@jupyter-widgets/controls",
      "model_module_version": "1.5.0",
      "model_name": "CheckboxModel",
      "state": {
       "description": "Check to set",
       "disabled": false,
       "indent": false,
       "layout": "IPY_MODEL_9a9aa60b293b4d8aa507557ac2bcebc1",
       "style": "IPY_MODEL_c5871f9b67af40f190712ec3f1aea169",
       "value": false
      }
     },
     "3cd6d0796e464ba5b7d1b4ec3f685a89": {
      "model_module": "@jupyter-widgets/base",
      "model_module_version": "1.2.0",
      "model_name": "LayoutModel",
      "state": {}
     },
     "3cf6aed278f740f2be3b940fda81fd82": {
      "model_module": "@jupyter-widgets/base",
      "model_module_version": "1.2.0",
      "model_name": "LayoutModel",
      "state": {}
     },
     "3d37d4ccf87c4e0e875f281556d2e5e4": {
      "model_module": "@jupyter-widgets/controls",
      "model_module_version": "1.5.0",
      "model_name": "DropdownModel",
      "state": {
       "_options_labels": [
        "entries"
       ],
       "description": "input token:",
       "index": 0,
       "layout": "IPY_MODEL_ecb1691009084c2195ed17ebc0435051",
       "style": "IPY_MODEL_d9f78ade007b4384b5d2c9c434e25d8b"
      }
     },
     "3d38e8c84f8a493bad7ab8a1bce532a4": {
      "model_module": "@jupyter-widgets/controls",
      "model_module_version": "1.5.0",
      "model_name": "AccordionModel",
      "state": {
       "_titles": {
        "0": "Home page",
        "1": "Add a block",
        "2": "block# 2: load_crystal_structures",
        "3": "block# 3: CoordinationNumberAttributeGenerator",
        "4": "block# 4: CoulombMatrixAttributeGenerator",
        "5": "block# 5: concat",
        "6": "block# 6: PyScript",
        "7": "block# 7: EffectiveCoordinationNumberAttributeGenerator"
       },
       "children": [
        "IPY_MODEL_36b44a5fc6824ec4b7cf7f6757ece78a",
        "IPY_MODEL_525d87dee2a44c919691075b11907d39",
        "IPY_MODEL_0559f877e34c4d9bb582f55f993a0dce",
        "IPY_MODEL_95656c46fcea4e3bac87e072ae624d30",
        "IPY_MODEL_53da0e3f7ac34e2d9079dd92d46eb0ef",
        "IPY_MODEL_8b681686131b41718e3f64a55e3ffd8a",
        "IPY_MODEL_83519e1a8bf744e3862647094cebc288",
        "IPY_MODEL_4b1c435a82db46cbae8866b93e254a25"
       ],
       "layout": "IPY_MODEL_2f54bd9026274406addefdca665e354f"
      }
     },
     "3d3e0bb452aa4421bc5dc15c89cd6e35": {
      "model_module": "@jupyter-widgets/base",
      "model_module_version": "1.2.0",
      "model_name": "LayoutModel",
      "state": {}
     },
     "3d44dc2d2eb643f8a4ec1a688a0cfbd6": {
      "model_module": "@jupyter-widgets/base",
      "model_module_version": "1.2.0",
      "model_name": "LayoutModel",
      "state": {
       "margin": "0px 0px 0px 10px"
      }
     },
     "3d6919efb5d44d2ba414451912de4047": {
      "model_module": "@jupyter-widgets/controls",
      "model_module_version": "1.5.0",
      "model_name": "HBoxModel",
      "state": {
       "children": [
        "IPY_MODEL_c33807bb210b49e2ba2359a06753cfe1",
        "IPY_MODEL_63b20d7de6d447039dee46e82cabd1e5",
        "IPY_MODEL_9ec5a0c0213b49ebaeb0c2bb7c6f3ac2"
       ],
       "layout": "IPY_MODEL_902a3f48b31740278d8d7f4ed10ac5d1"
      }
     },
     "3d73f94404254e3ead724e3f55abe4aa": {
      "model_module": "@jupyter-widgets/controls",
      "model_module_version": "1.5.0",
      "model_name": "ButtonModel",
      "state": {
       "description": "Start",
       "layout": "IPY_MODEL_94f83c65dcff406e99852d42faed28db",
       "style": "IPY_MODEL_7b7671870162487785966c847c158c49"
      }
     },
     "3d7a1291f12a4d368be1cb6adfc84800": {
      "model_module": "@jupyter-widgets/controls",
      "model_module_version": "1.5.0",
      "model_name": "DropdownModel",
      "state": {
       "_options_labels": [
        "entries"
       ],
       "description": "output token:",
       "index": 0,
       "layout": "IPY_MODEL_6fd91b71d5474b3580c5fc94f31e4b94",
       "style": "IPY_MODEL_bc22b9e39ad248cc9dd5721604512d45"
      }
     },
     "3db4f340d1334d0bad60301ccf37b60a": {
      "model_module": "@jupyter-widgets/base",
      "model_module_version": "1.2.0",
      "model_name": "LayoutModel",
      "state": {
       "align_items": "center",
       "border": "dotted black 1px",
       "height": "40px",
       "justify_content": "center"
      }
     },
     "3de2de05a8884bc6be412364a1cfc700": {
      "model_module": "@jupyter-widgets/base",
      "model_module_version": "1.2.0",
      "model_name": "LayoutModel",
      "state": {
       "width": "140px"
      }
     },
     "3de901362d354aa3ac11e3cd94ac1250": {
      "model_module": "@jupyter-widgets/controls",
      "model_module_version": "1.5.0",
      "model_name": "DescriptionStyleModel",
      "state": {
       "description_width": ""
      }
     },
     "3e1439f548224755ad7faadba8e780de": {
      "model_module": "@jupyter-widgets/controls",
      "model_module_version": "1.5.0",
      "model_name": "DropdownModel",
      "state": {
       "description": "input token:",
       "index": null,
       "layout": "IPY_MODEL_fa60f37bb13c4defaed21352617ee7f1",
       "style": "IPY_MODEL_b4e69edd2ae14e10a0f35a35024eda58"
      }
     },
     "3eab27133b75489ea947cc1ab505ef69": {
      "model_module": "@jupyter-widgets/base",
      "model_module_version": "1.2.0",
      "model_name": "LayoutModel",
      "state": {
       "width": "40%"
      }
     },
     "3eb77161de5545f3b42171dfe20a8e28": {
      "model_module": "@jupyter-widgets/controls",
      "model_module_version": "1.5.0",
      "model_name": "ButtonModel",
      "state": {
       "description": "Add",
       "layout": "IPY_MODEL_80e41b97573d4651984867a8d5269577",
       "style": "IPY_MODEL_596823b3f4d24126be9ace52c5d91375"
      }
     },
     "3ebda88e7076434594224613394e1ca7": {
      "model_module": "@jupyter-widgets/base",
      "model_module_version": "1.2.0",
      "model_name": "LayoutModel",
      "state": {}
     },
     "3ecbdc5360aa44d4b561c56f3a48da68": {
      "model_module": "@jupyter-widgets/base",
      "model_module_version": "1.2.0",
      "model_name": "LayoutModel",
      "state": {}
     },
     "3ed5cc2fc3d64282a537986f2c76e3f5": {
      "model_module": "@jupyter-widgets/base",
      "model_module_version": "1.2.0",
      "model_name": "LayoutModel",
      "state": {
       "width": "40%"
      }
     },
     "3ee415ff36864b9fbda2878210eb7fef": {
      "model_module": "@jupyter-widgets/base",
      "model_module_version": "1.2.0",
      "model_name": "LayoutModel",
      "state": {}
     },
     "3ee7a8befbda4cb38d6e902e4eba7db5": {
      "model_module": "@jupyter-widgets/controls",
      "model_module_version": "1.5.0",
      "model_name": "HBoxModel",
      "state": {
       "children": [
        "IPY_MODEL_36397e81375741d298932b2900a4542c",
        "IPY_MODEL_d236e199bcd94a549454382be1e7925d"
       ],
       "layout": "IPY_MODEL_93301542cab84840ae40771835da9fa8"
      }
     },
     "3f26e6a66f334767ae8e27795cead224": {
      "model_module": "@jupyter-widgets/controls",
      "model_module_version": "1.5.0",
      "model_name": "ButtonModel",
      "state": {
       "icon": "refresh",
       "layout": "IPY_MODEL_8b8a624677ea49948949ed91e9dbc530",
       "style": "IPY_MODEL_d14b9da91e33470d853fba74ba8aaba5"
      }
     },
     "3f52f1477f574618a427778a0ceebad2": {
      "model_module": "@jupyter-widgets/controls",
      "model_module_version": "1.5.0",
      "model_name": "DropdownModel",
      "state": {
       "_options_labels": [
        "entries"
       ],
       "description": "input token:",
       "index": 0,
       "layout": "IPY_MODEL_4843acd208be40d8baabfc70b0031297",
       "style": "IPY_MODEL_8b86cf1aef1a4afbb4377bba05fcb61f"
      }
     },
     "3f64be2a224f45548f02e227a3b887f4": {
      "model_module": "@jupyter-widgets/base",
      "model_module_version": "1.2.0",
      "model_name": "LayoutModel",
      "state": {}
     },
     "3f71822ef87e4986bc18fc67dfd3c9c4": {
      "model_module": "@jupyter-widgets/controls",
      "model_module_version": "1.5.0",
      "model_name": "ButtonModel",
      "state": {
       "icon": "refresh",
       "layout": "IPY_MODEL_53622f8e4071433cab22798bce5bef51",
       "style": "IPY_MODEL_74ed5459838d4b22bee9c1381268c58e"
      }
     },
     "3f82a26ab70645b3b36fa6bf200314cb": {
      "model_module": "@jupyter-widgets/base",
      "model_module_version": "1.2.0",
      "model_name": "LayoutModel",
      "state": {
       "margin": "10px 0px 0px 10px",
       "width": "50%"
      }
     },
     "3f8778976d614a13a2407ae24da3a595": {
      "model_module": "@jupyter-widgets/base",
      "model_module_version": "1.2.0",
      "model_name": "LayoutModel",
      "state": {}
     },
     "3f8beaf44fb74fc39fe6298d00b94072": {
      "model_module": "@jupyter-widgets/base",
      "model_module_version": "1.2.0",
      "model_name": "LayoutModel",
      "state": {}
     },
     "3f8fc57a3ecb479a957725934e8dee3b": {
      "model_module": "@jupyter-widgets/base",
      "model_module_version": "1.2.0",
      "model_name": "LayoutModel",
      "state": {
       "margin": "0px 10px 0px 0px",
       "width": "60px"
      }
     },
     "3f9a1cb82ce8411a8db55ef0e27a48ba": {
      "model_module": "@jupyter-widgets/base",
      "model_module_version": "1.2.0",
      "model_name": "LayoutModel",
      "state": {
       "margin": "0px 0px 0px 10px"
      }
     },
     "3fa19f97696342909bbfe834cb729ba4": {
      "model_module": "@jupyter-widgets/controls",
      "model_module_version": "1.5.0",
      "model_name": "BoxModel",
      "state": {
       "children": [
        "IPY_MODEL_111f0174e8744697957340d6fdef851b"
       ],
       "layout": "IPY_MODEL_be4206e53c1641d89116035fc215c217"
      }
     },
     "3fb23c845d2d462f915913c0c6efbfd3": {
      "model_module": "@jupyter-widgets/controls",
      "model_module_version": "1.5.0",
      "model_name": "BoxModel",
      "state": {
       "children": [
        "IPY_MODEL_ae4c43a7e6cd4869b6e996811bf56132"
       ],
       "layout": "IPY_MODEL_b41fe682a0904e0e80610ef0fdeced21"
      }
     },
     "3fc96d1364104553be6ab9acce4c5e80": {
      "model_module": "@jupyter-widgets/controls",
      "model_module_version": "1.5.0",
      "model_name": "HBoxModel",
      "state": {
       "children": [
        "IPY_MODEL_03fcd71d57264da69dce61ccb10185a5",
        "IPY_MODEL_5e680405e47740559fe0ff7b0d4d634f",
        "IPY_MODEL_fa0ce98ede0943ea894fb6f3223ea26c"
       ],
       "layout": "IPY_MODEL_a60180a2367d4d59aa1bdee9a052d0df"
      }
     },
     "3fe7d3d7c8d844d8ac357122cfb0e5f4": {
      "model_module": "@jupyter-widgets/base",
      "model_module_version": "1.2.0",
      "model_name": "LayoutModel",
      "state": {}
     },
     "3ff5bc782dd04da28b2a84db652dd293": {
      "model_module": "@jupyter-widgets/base",
      "model_module_version": "1.2.0",
      "model_name": "LayoutModel",
      "state": {}
     },
     "403891e282684800800664fce56695e8": {
      "model_module": "@jupyter-widgets/base",
      "model_module_version": "1.2.0",
      "model_name": "LayoutModel",
      "state": {
       "margin": "10px 0px 10px 180px",
       "width": "110px"
      }
     },
     "406b15823e6f4452a8f766bf012dfa71": {
      "model_module": "@jupyter-widgets/controls",
      "model_module_version": "1.5.0",
      "model_name": "HBoxModel",
      "state": {
       "children": [
        "IPY_MODEL_84387af92dc44b1bb3451dd4a69d5480",
        "IPY_MODEL_78217cb9fcfe48fa98c6cd75a0dbba0f",
        "IPY_MODEL_bcaa8fb678314bfaa024fd9946b518f3"
       ],
       "layout": "IPY_MODEL_eed17386c2254db88d3cfd87ba66782a"
      }
     },
     "407112b583ab4d389580942c35cdba4c": {
      "model_module": "@jupyter-widgets/controls",
      "model_module_version": "1.5.0",
      "model_name": "HBoxModel",
      "state": {
       "children": [
        "IPY_MODEL_34c5dbc399df4c4f8703550899d3ded8",
        "IPY_MODEL_58d036bc33bc4b41aab6207df0ebfb5f"
       ],
       "layout": "IPY_MODEL_52c0618b30094196a548c2b32fd29aeb"
      }
     },
     "408239c33db0470e9726114804ede17a": {
      "model_module": "@jupyter-widgets/controls",
      "model_module_version": "1.5.0",
      "model_name": "TextModel",
      "state": {
       "description": "line04",
       "layout": "IPY_MODEL_aa446b2bfe964661aefad94aebcbfdb4",
       "placeholder": "[]",
       "style": "IPY_MODEL_def693d2fc274028bf8fe03ee3fe4d59",
       "value": "type python code"
      }
     },
     "40c6dd6b0b9544e7ad970ec99e9c34e6": {
      "model_module": "@jupyter-widgets/base",
      "model_module_version": "1.2.0",
      "model_name": "LayoutModel",
      "state": {}
     },
     "40d4dce5f0a740f48e3293a47fa074c2": {
      "model_module": "@jupyter-widgets/base",
      "model_module_version": "1.2.0",
      "model_name": "LayoutModel",
      "state": {
       "border": "dotted black 1px",
       "justify_content": "space-between"
      }
     },
     "40f6128ab38a4c0b891355f322b6a713": {
      "model_module": "@jupyter-widgets/base",
      "model_module_version": "1.2.0",
      "model_name": "LayoutModel",
      "state": {
       "width": "40%"
      }
     },
     "41081d63e4b04c1c96e6cf73d239581f": {
      "model_module": "@jupyter-widgets/controls",
      "model_module_version": "1.5.0",
      "model_name": "ButtonStyleModel",
      "state": {
       "button_color": "lightblue"
      }
     },
     "410fee099b95481c8eadf7ae2eabb2be": {
      "model_module": "@jupyter-widgets/controls",
      "model_module_version": "1.5.0",
      "model_name": "DescriptionStyleModel",
      "state": {
       "description_width": ""
      }
     },
     "4116fbdfa144455e974f4d028251b5b9": {
      "model_module": "@jupyter-widgets/base",
      "model_module_version": "1.2.0",
      "model_name": "LayoutModel",
      "state": {
       "border": "solid gray 2px"
      }
     },
     "41265503364548abb70771ca6a76ff3a": {
      "model_module": "@jupyter-widgets/controls",
      "model_module_version": "1.5.0",
      "model_name": "HTMLModel",
      "state": {
       "layout": "IPY_MODEL_18104729dab044da9ea35adee8f361e2",
       "style": "IPY_MODEL_741346b53bb44559ad376e850e437f93",
       "value": "<b> Molecular Descriptors: </b>"
      }
     },
     "413e84d4af4c4db586d60673852eda3d": {
      "model_module": "@jupyter-widgets/base",
      "model_module_version": "1.2.0",
      "model_name": "LayoutModel",
      "state": {
       "width": "40%"
      }
     },
     "414394d356a64bc6b1d6de8dbbf08b87": {
      "model_module": "@jupyter-widgets/controls",
      "model_module_version": "1.5.0",
      "model_name": "HBoxModel",
      "state": {
       "children": [
        "IPY_MODEL_6803de0cc8e74988a62a36c8571b4cb1",
        "IPY_MODEL_cc26f4f11d2b4012826ba3bac190ee3d"
       ],
       "layout": "IPY_MODEL_40d4dce5f0a740f48e3293a47fa074c2"
      }
     },
     "416c985e4952493c891b3a8031d8010f": {
      "model_module": "@jupyter-widgets/base",
      "model_module_version": "1.2.0",
      "model_name": "LayoutModel",
      "state": {
       "margin": "0px 0px 0px 20px"
      }
     },
     "417b6fdd03744b9db2d0bbe7ccdbd4a1": {
      "model_module": "@jupyter-widgets/base",
      "model_module_version": "1.2.0",
      "model_name": "LayoutModel",
      "state": {
       "align_content": "center",
       "justify_content": "center"
      }
     },
     "4281058357b34787b4839144812b3960": {
      "model_module": "@jupyter-widgets/base",
      "model_module_version": "1.2.0",
      "model_name": "LayoutModel",
      "state": {
       "align_items": "center",
       "justify_content": "space-between",
       "margin": "10px 0px 20px 0px"
      }
     },
     "4285a5361f424b1992701a177600dd85": {
      "model_module": "@jupyter-widgets/controls",
      "model_module_version": "1.5.0",
      "model_name": "HBoxModel",
      "state": {
       "children": [
        "IPY_MODEL_6725574816ef4744b1062b8c95383128"
       ],
       "layout": "IPY_MODEL_50b6dca5bbaa42eb9b20d2ec329c3c7f"
      }
     },
     "428fd5ac1fbe4afdbbaa68fd88e82c12": {
      "model_module": "@jupyter-widgets/controls",
      "model_module_version": "1.5.0",
      "model_name": "TextModel",
      "state": {
       "description": "join_axes",
       "layout": "IPY_MODEL_61eb4174b6474597800f736f2b50e245",
       "placeholder": "[]",
       "style": "IPY_MODEL_5d73be8ca3aa45a4b2c913514b9effc6",
       "value": "None"
      }
     },
     "42ae6aa62df84caa8b00c7ada5f16416": {
      "model_module": "@jupyter-widgets/base",
      "model_module_version": "1.2.0",
      "model_name": "LayoutModel",
      "state": {}
     },
     "42afa315a97445c58ede21c5d934cfd7": {
      "model_module": "@jupyter-widgets/controls",
      "model_module_version": "1.5.0",
      "model_name": "ButtonModel",
      "state": {
       "description": "Select",
       "layout": "IPY_MODEL_ed5cb47c315245f685e04e448a74b70a",
       "style": "IPY_MODEL_c79dd3d5e54e43058791f0ce12d61ab6"
      }
     },
     "42b8ff81db3649018fa099733df7c858": {
      "model_module": "@jupyter-widgets/controls",
      "model_module_version": "1.5.0",
      "model_name": "DescriptionStyleModel",
      "state": {
       "description_width": ""
      }
     },
     "42bc4418c8484d5fb5a56d09dd32492e": {
      "model_module": "@jupyter-widgets/base",
      "model_module_version": "1.2.0",
      "model_name": "LayoutModel",
      "state": {}
     },
     "42bfa5bfb44547bb991b6f68e798790f": {
      "model_module": "@jupyter-widgets/base",
      "model_module_version": "1.2.0",
      "model_name": "LayoutModel",
      "state": {}
     },
     "42c96ecab75b465489a14490d5da98e5": {
      "model_module": "@jupyter-widgets/controls",
      "model_module_version": "1.5.0",
      "model_name": "CheckboxModel",
      "state": {
       "description": "Check to set",
       "disabled": false,
       "indent": false,
       "layout": "IPY_MODEL_6ef37b903be24e138c0e63bc604c86fe",
       "style": "IPY_MODEL_971cf4cd2f644d68a80d1f23d02ccd8f",
       "value": false
      }
     },
     "42e25b180a384159a751fc91b3f8df67": {
      "model_module": "@jupyter-widgets/base",
      "model_module_version": "1.2.0",
      "model_name": "LayoutModel",
      "state": {}
     },
     "42e2bcbfc9cf4bb79d606fadeb607ee9": {
      "model_module": "@jupyter-widgets/controls",
      "model_module_version": "1.5.0",
      "model_name": "BoxModel",
      "state": {
       "children": [
        "IPY_MODEL_4f775c4af77442a3a8663c2d6738680c"
       ],
       "layout": "IPY_MODEL_3c686a7d00ff410c8f6414518ddffe54"
      }
     },
     "42e3d7e2500546f194011387b4aa36d5": {
      "model_module": "@jupyter-widgets/controls",
      "model_module_version": "1.5.0",
      "model_name": "BoxModel",
      "state": {
       "children": [
        "IPY_MODEL_408239c33db0470e9726114804ede17a"
       ],
       "layout": "IPY_MODEL_75251b5c5d9049c5998a2ddb7ab181ab"
      }
     },
     "4319eb2df19f4f07affaad358b09edd0": {
      "model_module": "@jupyter-widgets/base",
      "model_module_version": "1.2.0",
      "model_name": "LayoutModel",
      "state": {
       "width": "140px"
      }
     },
     "432bf3e7add749abbebba4b2c06ba537": {
      "model_module": "@jupyter-widgets/controls",
      "model_module_version": "1.5.0",
      "model_name": "HBoxModel",
      "state": {
       "children": [
        "IPY_MODEL_54ee9796d9e74b94b79327c134da4fee",
        "IPY_MODEL_5c6544ac73db42b0accfc48da285033b",
        "IPY_MODEL_fdd8c2c8f63b4ac99458686ad93d5b97"
       ],
       "layout": "IPY_MODEL_a1e55b0ca03b471f9c46db302037dff0"
      }
     },
     "43417e3bc9974dcb8ee034f89b7205cf": {
      "model_module": "@jupyter-widgets/controls",
      "model_module_version": "1.5.0",
      "model_name": "DescriptionStyleModel",
      "state": {
       "description_width": "initial"
      }
     },
     "434f3b75ae5c41bdbe9451723ab0c034": {
      "model_module": "@jupyter-widgets/controls",
      "model_module_version": "1.5.0",
      "model_name": "ButtonStyleModel",
      "state": {
       "button_color": "lightblue"
      }
     },
     "4350db5e999f4d93930d5f5d261a2792": {
      "model_module": "@jupyter-widgets/controls",
      "model_module_version": "1.5.0",
      "model_name": "DescriptionStyleModel",
      "state": {
       "description_width": ""
      }
     },
     "4376521ef9214e5c8e0d259037e114be": {
      "model_module": "@jupyter-widgets/controls",
      "model_module_version": "1.5.0",
      "model_name": "DescriptionStyleModel",
      "state": {
       "description_width": ""
      }
     },
     "4384631841804d70a00e2ba5c0e594b6": {
      "model_module": "@jupyter-widgets/controls",
      "model_module_version": "1.5.0",
      "model_name": "TabModel",
      "state": {
       "_titles": {
        "0": "Parameters",
        "1": "Input/Output"
       },
       "children": [
        "IPY_MODEL_0813c4630f124f8dbbadd63f8ef24811",
        "IPY_MODEL_24ac4009001243058e20fe2fc611587c"
       ],
       "layout": "IPY_MODEL_294b25d7de4447b4850ca8fd4c65c7f2"
      }
     },
     "43a699110f604600a5d640612456ca7e": {
      "model_module": "@jupyter-widgets/controls",
      "model_module_version": "1.5.0",
      "model_name": "BoxModel",
      "state": {
       "children": [
        "IPY_MODEL_45384fcd52fc42cbb780d113839ffaee"
       ],
       "layout": "IPY_MODEL_bb2934703ff34ed4a61ea368af3b8da0"
      }
     },
     "43ad882c070b43fbafeaa36442032685": {
      "model_module": "@jupyter-widgets/base",
      "model_module_version": "1.2.0",
      "model_name": "LayoutModel",
      "state": {
       "width": "40px"
      }
     },
     "43bf245b609a40b08faa4b75abc93821": {
      "model_module": "@jupyter-widgets/base",
      "model_module_version": "1.2.0",
      "model_name": "LayoutModel",
      "state": {
       "width": "40%"
      }
     },
     "43ce7b8956dc47159e724f5049f327b3": {
      "model_module": "@jupyter-widgets/controls",
      "model_module_version": "1.5.0",
      "model_name": "ButtonModel",
      "state": {
       "description": "Select",
       "layout": "IPY_MODEL_5abceeef27eb4680be0e56cce624c97a",
       "style": "IPY_MODEL_0c7d46066bca497d8fd3e3215165bc0f"
      }
     },
     "43d56998ea53488aaf035b10606a860a": {
      "model_module": "@jupyter-widgets/controls",
      "model_module_version": "1.5.0",
      "model_name": "VBoxModel",
      "state": {
       "children": [
        "IPY_MODEL_456621dbc25b4282b743621859be7184",
        "IPY_MODEL_608d26f4cf534f5b9c4983d80578f3fb",
        "IPY_MODEL_35661652e325478187d6877c781edf5a",
        "IPY_MODEL_c30137e99f1441f39d59f4f702c3f744",
        "IPY_MODEL_44256733c9fa4113873e08f214e1d60e",
        "IPY_MODEL_aa9de11d712441909621c3fe723a6aac",
        "IPY_MODEL_e3d456ec74f44c63aa061231d144ac09"
       ],
       "layout": "IPY_MODEL_4b1279127c1c4480a5758347d81b73d5"
      }
     },
     "43fea7fd37864def8e0c0a5d97f4277c": {
      "model_module": "@jupyter-widgets/controls",
      "model_module_version": "1.5.0",
      "model_name": "DescriptionStyleModel",
      "state": {
       "description_width": ""
      }
     },
     "440060fd6b0345b991f685445a7c45fe": {
      "model_module": "@jupyter-widgets/base",
      "model_module_version": "1.2.0",
      "model_name": "LayoutModel",
      "state": {}
     },
     "44256733c9fa4113873e08f214e1d60e": {
      "model_module": "@jupyter-widgets/controls",
      "model_module_version": "1.5.0",
      "model_name": "HTMLModel",
      "state": {
       "layout": "IPY_MODEL_358a2161601b471aaa8c5c35ef294a0b",
       "style": "IPY_MODEL_1c28f3f73c94438b96da9d627dbd6476",
       "value": "all input tokens: "
      }
     },
     "442b6ea065e549b097efd3b08b73bb58": {
      "model_module": "@jupyter-widgets/controls",
      "model_module_version": "1.5.0",
      "model_name": "DescriptionStyleModel",
      "state": {
       "description_width": ""
      }
     },
     "443346d96daa4b7c99b1510c7f6412da": {
      "model_module": "@jupyter-widgets/base",
      "model_module_version": "1.2.0",
      "model_name": "LayoutModel",
      "state": {}
     },
     "443ab143a0ae4bbb83032fcac1f655c5": {
      "model_module": "@jupyter-widgets/controls",
      "model_module_version": "1.5.0",
      "model_name": "ToggleButtonsModel",
      "state": {
       "_options_labels": [
        "Represent",
        "inorganic descriptors",
        "chemml",
        "EffectiveCoordinationNumberAttributeGenerator"
       ],
       "button_style": "info",
       "icons": [],
       "index": 0,
       "layout": "IPY_MODEL_6f7bfee1a9744af4ab924584b4e82f9a",
       "style": "IPY_MODEL_9b4521e663154c6588d6275390c08b55",
       "tooltips": []
      }
     },
     "446e977da3154d63bf7d1b334db0d643": {
      "model_module": "@jupyter-widgets/controls",
      "model_module_version": "1.5.0",
      "model_name": "DescriptionStyleModel",
      "state": {
       "description_width": ""
      }
     },
     "449eb504a1484add9fa56ca916375937": {
      "model_module": "@jupyter-widgets/base",
      "model_module_version": "1.2.0",
      "model_name": "LayoutModel",
      "state": {
       "margin": "40px 0px 0px 10px",
       "width": "120px"
      }
     },
     "44a678b6959247feb23644434df4d700": {
      "model_module": "@jupyter-widgets/controls",
      "model_module_version": "1.5.0",
      "model_name": "SelectMultipleModel",
      "state": {
       "index": [],
       "layout": "IPY_MODEL_b983f6319d0a4307af62ba77440fe3cb",
       "rows": 5,
       "style": "IPY_MODEL_442b6ea065e549b097efd3b08b73bb58"
      }
     },
     "44aa5457192f4e7385d6a10e97d993d0": {
      "model_module": "@jupyter-widgets/controls",
      "model_module_version": "1.5.0",
      "model_name": "HBoxModel",
      "state": {
       "children": [
        "IPY_MODEL_20afdc379f8b45a7b99860ec2ee522f0",
        "IPY_MODEL_620cd7d336084e1896c0b12d7e3d19ce",
        "IPY_MODEL_bc82508bb61544179ad014db8ef32ab9"
       ],
       "layout": "IPY_MODEL_f59c70f396cb41c19c1c03591786fc74"
      }
     },
     "44bea024d38d49099764dbc455fb1255": {
      "model_module": "@jupyter-widgets/controls",
      "model_module_version": "1.5.0",
      "model_name": "DescriptionStyleModel",
      "state": {
       "description_width": ""
      }
     },
     "44c0a3ec38284a61b10c73e255419754": {
      "model_module": "@jupyter-widgets/base",
      "model_module_version": "1.2.0",
      "model_name": "LayoutModel",
      "state": {
       "align_items": "center",
       "justify_content": "center",
       "margin": "10px 0px 0px 0px"
      }
     },
     "44df75755625406dae15c17c3d512f9f": {
      "model_module": "@jupyter-widgets/base",
      "model_module_version": "1.2.0",
      "model_name": "LayoutModel",
      "state": {}
     },
     "450ebbb36848458ab8e6675f590893bb": {
      "model_module": "@jupyter-widgets/base",
      "model_module_version": "1.2.0",
      "model_name": "LayoutModel",
      "state": {
       "width": "40px"
      }
     },
     "452b4c1636684c9d8e9d0d0056d2cd4e": {
      "model_module": "@jupyter-widgets/base",
      "model_module_version": "1.2.0",
      "model_name": "LayoutModel",
      "state": {
       "margin": "0px 10px 0px 0px",
       "width": "60px"
      }
     },
     "45384fcd52fc42cbb780d113839ffaee": {
      "model_module": "@jupyter-widgets/controls",
      "model_module_version": "1.5.0",
      "model_name": "TextModel",
      "state": {
       "description": "line02",
       "layout": "IPY_MODEL_0c004a2f521a40c9a994f6317e1c2770",
       "placeholder": "[]",
       "style": "IPY_MODEL_384dd10f54ea457e93c4ec548012fecf",
       "value": "input tokens are available as ..."
      }
     },
     "456621dbc25b4282b743621859be7184": {
      "model_module": "@jupyter-widgets/controls",
      "model_module_version": "1.5.0",
      "model_name": "HTMLModel",
      "state": {
       "layout": "IPY_MODEL_eb9071b6890144fda3bf889a25079242",
       "style": "IPY_MODEL_f7c71678d1de4012b9286818494b21bc",
       "value": "<b> Note: </b> This page automatically avoid: (1) loops, (2) type inconsistency, and (3) more than one input per token."
      }
     },
     "457015389f844cc39dfe5c314cb99ffc": {
      "model_module": "@jupyter-widgets/controls",
      "model_module_version": "1.5.0",
      "model_name": "SelectMultipleModel",
      "state": {
       "index": [],
       "layout": "IPY_MODEL_dd7484125ab44abda08b64387898c026",
       "rows": 5,
       "style": "IPY_MODEL_b30c3aaa80aa49e0a06d6759580af4e6"
      }
     },
     "45972270576c4f7487d09887d8c85b24": {
      "model_module": "@jupyter-widgets/base",
      "model_module_version": "1.2.0",
      "model_name": "LayoutModel",
      "state": {
       "margin": "0px 10px 0px 0px",
       "width": "60px"
      }
     },
     "459750fd0c2c473e94122b6b718c01a9": {
      "model_module": "@jupyter-widgets/controls",
      "model_module_version": "1.5.0",
      "model_name": "DescriptionStyleModel",
      "state": {
       "description_width": ""
      }
     },
     "45cc93112b8e4482b136e61b7765142d": {
      "model_module": "@jupyter-widgets/controls",
      "model_module_version": "1.5.0",
      "model_name": "VBoxModel",
      "state": {
       "children": [
        "IPY_MODEL_753934a42913476f894141cadd67ceaf"
       ],
       "layout": "IPY_MODEL_deaf04a7f4d74d2abfbebf523a137690"
      }
     },
     "45f1137549fc48749046ef90e956a3b3": {
      "model_module": "@jupyter-widgets/controls",
      "model_module_version": "1.5.0",
      "model_name": "HBoxModel",
      "state": {
       "children": [
        "IPY_MODEL_28219988590043f9b292a03859ed6025",
        "IPY_MODEL_bdd62acc23144f79a28feb01ff0b0067",
        "IPY_MODEL_84a6145b3a7843129aa0676301dd0d51"
       ],
       "layout": "IPY_MODEL_6875291df9074641aecf48fda0f5cb54"
      }
     },
     "45f4000ef69942cd97d9324b5d558b18": {
      "model_module": "@jupyter-widgets/base",
      "model_module_version": "1.2.0",
      "model_name": "LayoutModel",
      "state": {
       "margin": "10px 0px 10px 400px"
      }
     },
     "46142e2587224fa0ad9dd5908cf8d371": {
      "model_module": "@jupyter-widgets/controls",
      "model_module_version": "1.5.0",
      "model_name": "DescriptionStyleModel",
      "state": {
       "description_width": "initial"
      }
     },
     "4636bd746cb94f099def5a52d8f379fa": {
      "model_module": "@jupyter-widgets/base",
      "model_module_version": "1.2.0",
      "model_name": "LayoutModel",
      "state": {
       "margin": "20px 0px 20px 250px"
      }
     },
     "4637c349e1dd4f90a943ec1558e45db8": {
      "model_module": "@jupyter-widgets/base",
      "model_module_version": "1.2.0",
      "model_name": "LayoutModel",
      "state": {
       "margin": "10px 0px 10px 400px"
      }
     },
     "46680ea9cf08453bbba87716a949425e": {
      "model_module": "@jupyter-widgets/controls",
      "model_module_version": "1.5.0",
      "model_name": "ButtonStyleModel",
      "state": {
       "button_color": "lightblue"
      }
     },
     "467bf735633548da88174ab57a5b8d06": {
      "model_module": "@jupyter-widgets/controls",
      "model_module_version": "1.5.0",
      "model_name": "DropdownModel",
      "state": {
       "description": "input token:",
       "index": null,
       "layout": "IPY_MODEL_6d8ac0009e204e27883b38401a2abf64",
       "style": "IPY_MODEL_55e2b4559d864c4ebdd8ffbbc3a8fd3c"
      }
     },
     "4690457b3f0441ebb140ffff05fdb45a": {
      "model_module": "@jupyter-widgets/controls",
      "model_module_version": "1.5.0",
      "model_name": "HBoxModel",
      "state": {
       "children": [
        "IPY_MODEL_b6962b5fb3bf4d93a7b3c5ebd3078d1f",
        "IPY_MODEL_6333df667dfb4c56894f5d6054a4af57",
        "IPY_MODEL_6db3d0f67ea542c2abf7c38eca61821b"
       ],
       "layout": "IPY_MODEL_550cb24722324fe28475e331a07f45ca"
      }
     },
     "46942e63e59d47b1bcbae6b76cedc4bb": {
      "model_module": "@jupyter-widgets/base",
      "model_module_version": "1.2.0",
      "model_name": "LayoutModel",
      "state": {}
     },
     "46c8948301284c23ba6ed95a5bd5c27c": {
      "model_module": "@jupyter-widgets/base",
      "model_module_version": "1.2.0",
      "model_name": "LayoutModel",
      "state": {}
     },
     "4702debb938347cbbf9f6ee986e3a2a3": {
      "model_module": "@jupyter-widgets/controls",
      "model_module_version": "1.5.0",
      "model_name": "TextModel",
      "state": {
       "description": "line20",
       "layout": "IPY_MODEL_22105508bf434a62be7521a9b4b8efa6",
       "placeholder": "[]",
       "style": "IPY_MODEL_3c5252bc75d1414c95f0f9e8449534dd",
       "value": "type python code"
      }
     },
     "4725fce03dac453cbe53aa7cf1d3e533": {
      "model_module": "@jupyter-widgets/controls",
      "model_module_version": "1.5.0",
      "model_name": "HBoxModel",
      "state": {
       "children": [
        "IPY_MODEL_81662c2a03d04822bcc8b0061bca6aa0",
        "IPY_MODEL_6cd436b4d601441d846b1d08810e98e2"
       ],
       "layout": "IPY_MODEL_bd4b9202a54a428e857b4293efe0b64f"
      }
     },
     "477207e00b5448f8a191be20f53159e5": {
      "model_module": "@jupyter-widgets/controls",
      "model_module_version": "1.5.0",
      "model_name": "HTMLModel",
      "state": {
       "layout": "IPY_MODEL_50acaaf8188c4cd9958f21d257db0f7b",
       "style": "IPY_MODEL_34c4bb64802f454b8e5d839a81a59035",
       "value": "<b>Function parameters:</b>"
      }
     },
     "477fe2bad4384822bc980ee306346031": {
      "model_module": "@jupyter-widgets/controls",
      "model_module_version": "1.5.0",
      "model_name": "DescriptionStyleModel",
      "state": {
       "description_width": ""
      }
     },
     "47f404f75728495592618091d8b6207a": {
      "model_module": "@jupyter-widgets/controls",
      "model_module_version": "1.5.0",
      "model_name": "DescriptionStyleModel",
      "state": {
       "description_width": ""
      }
     },
     "481072b8cb8842b4b6a8b4c5b47d27c8": {
      "model_module": "@jupyter-widgets/base",
      "model_module_version": "1.2.0",
      "model_name": "LayoutModel",
      "state": {
       "margin": "0px 10px 0px 0px",
       "width": "60px"
      }
     },
     "484031f7979e4485a4355e385df599dd": {
      "model_module": "@jupyter-widgets/base",
      "model_module_version": "1.2.0",
      "model_name": "LayoutModel",
      "state": {
       "align_items": "center",
       "border": "dotted black 1px",
       "height": "40px",
       "margin": "0px 0px 0px 10px"
      }
     },
     "4843acd208be40d8baabfc70b0031297": {
      "model_module": "@jupyter-widgets/base",
      "model_module_version": "1.2.0",
      "model_name": "LayoutModel",
      "state": {}
     },
     "48c516d3d84746a7a2cade9b078b3146": {
      "model_module": "@jupyter-widgets/base",
      "model_module_version": "1.2.0",
      "model_name": "LayoutModel",
      "state": {}
     },
     "48cd995bf16741c39b5596550deda29b": {
      "model_module": "@jupyter-widgets/base",
      "model_module_version": "1.2.0",
      "model_name": "LayoutModel",
      "state": {
       "align_items": "center",
       "justify_content": "space-between",
       "margin": "10px 0px 20px 0px"
      }
     },
     "48d3214a6a1d4cc6b266c7b90dc33d4e": {
      "model_module": "@jupyter-widgets/base",
      "model_module_version": "1.2.0",
      "model_name": "LayoutModel",
      "state": {}
     },
     "48e2d20a99a14aca8bab712a37904c5f": {
      "model_module": "@jupyter-widgets/controls",
      "model_module_version": "1.5.0",
      "model_name": "TextModel",
      "state": {
       "description": "line04",
       "layout": "IPY_MODEL_742eede5c53c4917b335c752e3f6bf78",
       "placeholder": "[]",
       "style": "IPY_MODEL_226884438f5a4909b3bcb62791e4fdc9",
       "value": "type python code"
      }
     },
     "48fe04baf845494eb337e56fae80790b": {
      "model_module": "@jupyter-widgets/controls",
      "model_module_version": "1.5.0",
      "model_name": "DescriptionStyleModel",
      "state": {
       "description_width": ""
      }
     },
     "4907e23367b5497681d739101df36011": {
      "model_module": "@jupyter-widgets/controls",
      "model_module_version": "1.5.0",
      "model_name": "DescriptionStyleModel",
      "state": {
       "description_width": ""
      }
     },
     "490fdcd2a98b41b3a6f0ae75e2e15b8b": {
      "model_module": "@jupyter-widgets/base",
      "model_module_version": "1.2.0",
      "model_name": "LayoutModel",
      "state": {
       "align_items": "center",
       "border": "dotted black 1px",
       "height": "40px",
       "justify_content": "center"
      }
     },
     "495564cbe01e43a8b3e2c8d6668361ed": {
      "model_module": "@jupyter-widgets/controls",
      "model_module_version": "1.5.0",
      "model_name": "HTMLModel",
      "state": {
       "layout": "IPY_MODEL_b56fbb62fdd1476eb4db543c1c032ba5",
       "style": "IPY_MODEL_e5862e266cf44ecbbdcfcf5627648178",
       "value": "<b>Wrapper parameters:</b>"
      }
     },
     "496b87ef67b04fb6a8fa9ce2d3ecc68b": {
      "model_module": "@jupyter-widgets/base",
      "model_module_version": "1.2.0",
      "model_name": "LayoutModel",
      "state": {
       "width": "140px"
      }
     },
     "498935d28b2f46ffa23bab49cfd29bce": {
      "model_module": "@jupyter-widgets/controls",
      "model_module_version": "1.5.0",
      "model_name": "TextareaModel",
      "state": {
       "layout": "IPY_MODEL_2bf600f8ead144469ba3f29652b19ab1",
       "placeholder": "copy a ChemML script (config file) here",
       "style": "IPY_MODEL_c7aa0f5140874eed83ef51dd900f4efd"
      }
     },
     "49bb9ce5708043c8a2b2534b9ab65f55": {
      "model_module": "@jupyter-widgets/controls",
      "model_module_version": "1.5.0",
      "model_name": "BoxModel",
      "state": {
       "children": [
        "IPY_MODEL_378040a34fc84c7089d2b3b2a128f725"
       ],
       "layout": "IPY_MODEL_c98587c693cc49f4a8a1744f236e1b21"
      }
     },
     "49e1668528a848c284028155c8d76e14": {
      "model_module": "@jupyter-widgets/controls",
      "model_module_version": "1.5.0",
      "model_name": "DescriptionStyleModel",
      "state": {
       "description_width": ""
      }
     },
     "49fd6445aaf6408e8d598f57f8fb200d": {
      "model_module": "@jupyter-widgets/controls",
      "model_module_version": "1.5.0",
      "model_name": "CheckboxModel",
      "state": {
       "description": "Check to set",
       "disabled": false,
       "indent": false,
       "layout": "IPY_MODEL_72cad28201ba4d418d737ddcb663c710",
       "style": "IPY_MODEL_774c06d8ee0e43799d0e7966ab668247",
       "value": false
      }
     },
     "4a09bbb159ed4f70b56ab7612b7f9793": {
      "model_module": "@jupyter-widgets/controls",
      "model_module_version": "1.5.0",
      "model_name": "HTMLModel",
      "state": {
       "layout": "IPY_MODEL_7bfb19ef917542f09276aa25d5c90ade",
       "style": "IPY_MODEL_d79c65ad39074c0cafa14e52e95ef5eb",
       "value": "<b> Send >>> </b>"
      }
     },
     "4a14ffb0d1b84d3da68d39d92abdb6b2": {
      "model_module": "@jupyter-widgets/base",
      "model_module_version": "1.2.0",
      "model_name": "LayoutModel",
      "state": {
       "margin": "0px 0px 0px 10px"
      }
     },
     "4a492ec8be68433e972701c5cce61b31": {
      "model_module": "@jupyter-widgets/controls",
      "model_module_version": "1.5.0",
      "model_name": "VBoxModel",
      "state": {
       "children": [
        "IPY_MODEL_053e5d4fed964bacbfab9938781c78ae",
        "IPY_MODEL_c7c24a84dde540548b2a60a330f376b6",
        "IPY_MODEL_71eda947f8c5446a98270424a261f421",
        "IPY_MODEL_f21f21c415ad49a6a2d24c84ffed3fa3",
        "IPY_MODEL_837f34570b6043e38216dd2f2345db35",
        "IPY_MODEL_6bfb57d99e8f440db12ad1d3df952aaa",
        "IPY_MODEL_971ee3e8dc7d4db7b1457d995415f493"
       ],
       "layout": "IPY_MODEL_2fd38273d1884851950fe689bfbe2b4d"
      }
     },
     "4ac766fe5b054a9794cb98f36083f5ed": {
      "model_module": "@jupyter-widgets/controls",
      "model_module_version": "1.5.0",
      "model_name": "DescriptionStyleModel",
      "state": {
       "description_width": ""
      }
     },
     "4ac92b35f59f4acda701ab966dfbe5b6": {
      "model_module": "@jupyter-widgets/controls",
      "model_module_version": "1.5.0",
      "model_name": "DropdownModel",
      "state": {
       "_options_labels": [
        "entries"
       ],
       "description": "output token:",
       "index": 0,
       "layout": "IPY_MODEL_936c59fba12e4670aeb4411fc518a924",
       "style": "IPY_MODEL_e3be78c6c8c242549f9651c9cf4a7049"
      }
     },
     "4acb2e4e5aa94972a4c8680abbdb79c1": {
      "model_module": "@jupyter-widgets/controls",
      "model_module_version": "1.5.0",
      "model_name": "DescriptionStyleModel",
      "state": {
       "description_width": ""
      }
     },
     "4af5e4b257d047fc9f46a3a984877ecd": {
      "model_module": "@jupyter-widgets/controls",
      "model_module_version": "1.5.0",
      "model_name": "DescriptionStyleModel",
      "state": {
       "description_width": ""
      }
     },
     "4b1279127c1c4480a5758347d81b73d5": {
      "model_module": "@jupyter-widgets/base",
      "model_module_version": "1.2.0",
      "model_name": "LayoutModel",
      "state": {}
     },
     "4b1c435a82db46cbae8866b93e254a25": {
      "model_module": "@jupyter-widgets/controls",
      "model_module_version": "1.5.0",
      "model_name": "VBoxModel",
      "state": {
       "children": [
        "IPY_MODEL_0101493dd18d416c89551f1094776190",
        "IPY_MODEL_7219b316074b476989b9e59b4beba276",
        "IPY_MODEL_80ff226383604493bf0d46ae260898ed",
        "IPY_MODEL_650cfa7622ca4a0ca7d8306c58215da9",
        "IPY_MODEL_64e26a1e949943858f229a49607a1d55"
       ],
       "layout": "IPY_MODEL_8b7c249e2b414a7cb024986d38cbae44"
      }
     },
     "4b420813483a472c91cd1b818b165876": {
      "model_module": "@jupyter-widgets/base",
      "model_module_version": "1.2.0",
      "model_name": "LayoutModel",
      "state": {}
     },
     "4b485bb89f63413d92c19fa6de1b136b": {
      "model_module": "@jupyter-widgets/controls",
      "model_module_version": "1.5.0",
      "model_name": "HBoxModel",
      "state": {
       "children": [
        "IPY_MODEL_9da4debdabbf43c093de3c39f283a4e5",
        "IPY_MODEL_624d709895be471d967bc3bc4b57e124"
       ],
       "layout": "IPY_MODEL_24055874c54b49399c3a72f09f2d6109"
      }
     },
     "4b4aad001b9a468492d0053c573b839c": {
      "model_module": "@jupyter-widgets/controls",
      "model_module_version": "1.5.0",
      "model_name": "HTMLModel",
      "state": {
       "layout": "IPY_MODEL_674f4afd71e84a5ba0e67c67774f3d0b",
       "style": "IPY_MODEL_6257cab17a0e44afbc92186e51c6470d",
       "value": "<b> Data Mining: </b>"
      }
     },
     "4b528a9c0faa4b2b906548ab6a0f7761": {
      "model_module": "@jupyter-widgets/controls",
      "model_module_version": "1.5.0",
      "model_name": "ButtonStyleModel",
      "state": {
       "button_color": "lightblue"
      }
     },
     "4b69bbb0e9ad4557ae1fa524c75713a5": {
      "model_module": "@jupyter-widgets/controls",
      "model_module_version": "1.5.0",
      "model_name": "LabelModel",
      "state": {
       "layout": "IPY_MODEL_6a9a304a0d344602993ea4a6b8472df3",
       "style": "IPY_MODEL_fd12a0c80c6e431f982c0650ef9add14",
       "value": "Template 3: a complete machine learning workflow"
      }
     },
     "4b77802fa61946c98a55f759f72fc71d": {
      "model_module": "@jupyter-widgets/controls",
      "model_module_version": "1.5.0",
      "model_name": "HTMLModel",
      "state": {
       "layout": "IPY_MODEL_b951ccb9390c48498ea4875515b29442",
       "style": "IPY_MODEL_cc3e351742d64edda5f7cefafa9c7e07",
       "value": "all input tokens: df1, df2, df3"
      }
     },
     "4bdddcba6d9243d99d928bce672e0b17": {
      "model_module": "@jupyter-widgets/controls",
      "model_module_version": "1.5.0",
      "model_name": "VBoxModel",
      "state": {
       "children": [
        "IPY_MODEL_b50bb515cac542808ada611f1059f9fd",
        "IPY_MODEL_bc49c6ea4588431382a17d9f3c94203f",
        "IPY_MODEL_d30b6615f9cd461fb5545f7c200e6f88"
       ],
       "layout": "IPY_MODEL_fe06a71f6f314d3cb43fbcefcb50d266"
      }
     },
     "4c11169535894cd496ce731fad674575": {
      "model_module": "@jupyter-widgets/controls",
      "model_module_version": "1.5.0",
      "model_name": "VBoxModel",
      "state": {
       "children": [
        "IPY_MODEL_495564cbe01e43a8b3e2c8d6668361ed"
       ],
       "layout": "IPY_MODEL_d1b32c473f154847adb9e9b47b4948d7"
      }
     },
     "4c132e3b6b6a4fdf81d382b1cf8b9ab2": {
      "model_module": "@jupyter-widgets/controls",
      "model_module_version": "1.5.0",
      "model_name": "VBoxModel",
      "state": {
       "children": [
        "IPY_MODEL_45cc93112b8e4482b136e61b7765142d",
        "IPY_MODEL_301d786de0f043598a18b17c2f661bbe",
        "IPY_MODEL_d905901feb3745ddbc591a1b3829ebe8"
       ],
       "layout": "IPY_MODEL_86622a7af91740729569a215d68d8490"
      }
     },
     "4c504ffaef4041aab8adf728b2248d3d": {
      "model_module": "@jupyter-widgets/base",
      "model_module_version": "1.2.0",
      "model_name": "LayoutModel",
      "state": {
       "margin": "20px 0px 0px 10px"
      }
     },
     "4c510669390e4424ab68b1f5531843b5": {
      "model_module": "@jupyter-widgets/controls",
      "model_module_version": "1.5.0",
      "model_name": "ButtonModel",
      "state": {
       "description": "Remove pipe",
       "icon": "remove",
       "layout": "IPY_MODEL_f9ab840735ba48c4944508a030c2b0be",
       "style": "IPY_MODEL_fdc9399ca53c4b4da77b5e87862b6bdd"
      }
     },
     "4c59eaf7b9684ba298e5140e08ccff36": {
      "model_module": "@jupyter-widgets/controls",
      "model_module_version": "1.5.0",
      "model_name": "HBoxModel",
      "state": {
       "children": [
        "IPY_MODEL_f32b0455de534b728d604482dce541f8",
        "IPY_MODEL_fe80f45189d4498e93811402cc2860d7",
        "IPY_MODEL_077ca62a2a144d8988355ce9c559fc1a"
       ],
       "layout": "IPY_MODEL_e2be3f763a1f44aa9503f3fed67463b1"
      }
     },
     "4c807771458f40f18020777211cca44b": {
      "model_module": "@jupyter-widgets/controls",
      "model_module_version": "1.5.0",
      "model_name": "ButtonStyleModel",
      "state": {
       "button_color": "lightblue"
      }
     },
     "4caf961c30fe463c96eae4c3730aab3a": {
      "model_module": "@jupyter-widgets/controls",
      "model_module_version": "1.5.0",
      "model_name": "DescriptionStyleModel",
      "state": {
       "description_width": ""
      }
     },
     "4cb2b3727a584be29070bd2ba4f26b94": {
      "model_module": "@jupyter-widgets/base",
      "model_module_version": "1.2.0",
      "model_name": "LayoutModel",
      "state": {
       "margin": "0px 0px 0px 10px"
      }
     },
     "4cbfabcf8e444eb196af6ddbfe4d0699": {
      "model_module": "@jupyter-widgets/controls",
      "model_module_version": "1.5.0",
      "model_name": "ButtonModel",
      "state": {
       "description": "Add",
       "layout": "IPY_MODEL_b267f06219394e7e89e59acf181b6896",
       "style": "IPY_MODEL_314f0a78e1cb4531a6307932fe9711a2"
      }
     },
     "4cd968cde74446378bd7344d606d0e7e": {
      "model_module": "@jupyter-widgets/controls",
      "model_module_version": "1.5.0",
      "model_name": "DescriptionStyleModel",
      "state": {
       "description_width": "initial"
      }
     },
     "4cf4b45b429049e8b8a362b4d84b5253": {
      "model_module": "@jupyter-widgets/base",
      "model_module_version": "1.2.0",
      "model_name": "LayoutModel",
      "state": {
       "width": "140px"
      }
     },
     "4d10710a895d45bda7e744dbed43142e": {
      "model_module": "@jupyter-widgets/controls",
      "model_module_version": "1.5.0",
      "model_name": "ButtonStyleModel",
      "state": {
       "button_color": "lightblue"
      }
     },
     "4d363e9b9b604939b2f7b76597d3549a": {
      "model_module": "@jupyter-widgets/controls",
      "model_module_version": "1.5.0",
      "model_name": "HTMLModel",
      "state": {
       "layout": "IPY_MODEL_5423876beb6a4878b70da8bf73bd14cd",
       "style": "IPY_MODEL_1999e860b53946d88f78806bbefa2ed6",
       "value": "<b> Inorganic Descriptors: </b>"
      }
     },
     "4d4fd7b8c4ce4f2597b5c5d7ec6f4aae": {
      "model_module": "@jupyter-widgets/base",
      "model_module_version": "1.2.0",
      "model_name": "LayoutModel",
      "state": {}
     },
     "4d9b0b1d27484fb596ac7b53e31715f7": {
      "model_module": "@jupyter-widgets/controls",
      "model_module_version": "1.5.0",
      "model_name": "DescriptionStyleModel",
      "state": {
       "description_width": ""
      }
     },
     "4d9d004931fc42d290d824195aa7731c": {
      "model_module": "@jupyter-widgets/base",
      "model_module_version": "1.2.0",
      "model_name": "LayoutModel",
      "state": {
       "margin": "10px 0px 10px 0px"
      }
     },
     "4db02616b6494e5f97c799901dbfd1fb": {
      "model_module": "@jupyter-widgets/controls",
      "model_module_version": "1.5.0",
      "model_name": "CheckboxModel",
      "state": {
       "description": "Check to set",
       "disabled": false,
       "indent": false,
       "layout": "IPY_MODEL_2dc9a1a7badd4b11b314206d559e0a86",
       "style": "IPY_MODEL_df91b7d1b0fb4825998de01b2aec06ff",
       "value": false
      }
     },
     "4dc7fdc60cda4afe82b832c49dc61a18": {
      "model_module": "@jupyter-widgets/base",
      "model_module_version": "1.2.0",
      "model_name": "LayoutModel",
      "state": {
       "margin": "20px 0px 10px 115px"
      }
     },
     "4ddba0612672400a9b32496def62e3e9": {
      "model_module": "@jupyter-widgets/base",
      "model_module_version": "1.2.0",
      "model_name": "LayoutModel",
      "state": {}
     },
     "4de8918802274a449626fbf656837c7d": {
      "model_module": "@jupyter-widgets/controls",
      "model_module_version": "1.5.0",
      "model_name": "HBoxModel",
      "state": {
       "children": [
        "IPY_MODEL_5d2de7efdbab4cf780e734c69c336ac1",
        "IPY_MODEL_fee7ba2a46464d31be5b46172dc9596f",
        "IPY_MODEL_55fdd76dd1af45668486484b7c1a3554"
       ],
       "layout": "IPY_MODEL_3f8beaf44fb74fc39fe6298d00b94072"
      }
     },
     "4dec7b0b89c74628ab4dc514abee8fac": {
      "model_module": "@jupyter-widgets/controls",
      "model_module_version": "1.5.0",
      "model_name": "ButtonStyleModel",
      "state": {
       "button_color": "lightblue"
      }
     },
     "4e1697470bff4201933b79f522c85517": {
      "model_module": "@jupyter-widgets/controls",
      "model_module_version": "1.5.0",
      "model_name": "LabelModel",
      "state": {
       "layout": "IPY_MODEL_c7c68f139f244a2693a245d7e1efd17f",
       "style": "IPY_MODEL_35b6f7eadaaf42759b898ef84ac15f30",
       "value": "Choose a method:"
      }
     },
     "4e18ac560f0b42d0a61244422254c316": {
      "model_module": "@jupyter-widgets/controls",
      "model_module_version": "1.5.0",
      "model_name": "HTMLModel",
      "state": {
       "layout": "IPY_MODEL_c2de28a03e544f38a20ecf6d31b10e27",
       "style": "IPY_MODEL_6d41c4724dc74da2b4c6b6bd6e9dd1dc",
       "value": "all input tokens: iv1, iv2, iv3, iv4, iv5, iv6"
      }
     },
     "4e23625182294f90bcf375b6a7d69029": {
      "model_module": "@jupyter-widgets/base",
      "model_module_version": "1.2.0",
      "model_name": "LayoutModel",
      "state": {}
     },
     "4e46d9b28941491ebea1c67eec80e23a": {
      "model_module": "@jupyter-widgets/controls",
      "model_module_version": "1.5.0",
      "model_name": "DescriptionStyleModel",
      "state": {
       "description_width": ""
      }
     },
     "4e7684c8c6b74c0098d929c6fd3be30e": {
      "model_module": "@jupyter-widgets/controls",
      "model_module_version": "1.5.0",
      "model_name": "TextModel",
      "state": {
       "description": "line12",
       "layout": "IPY_MODEL_77f83e7ab3e14dafac7c5bfc0795587a",
       "placeholder": "[]",
       "style": "IPY_MODEL_2b5535d606e843568f49c8c22f2c7b8b",
       "value": "type python code"
      }
     },
     "4e7a7e71975f4581bcd72dbe17c4d234": {
      "model_module": "@jupyter-widgets/controls",
      "model_module_version": "1.5.0",
      "model_name": "ButtonModel",
      "state": {
       "description": "Remove block",
       "layout": "IPY_MODEL_4637c349e1dd4f90a943ec1558e45db8",
       "style": "IPY_MODEL_d498e3bea2c746398eb54c72c250482d"
      }
     },
     "4e958eb1eaed4e3c8051dcf1e18d663b": {
      "model_module": "@jupyter-widgets/base",
      "model_module_version": "1.2.0",
      "model_name": "LayoutModel",
      "state": {}
     },
     "4eaefe87ed254276802592219706d3f4": {
      "model_module": "@jupyter-widgets/controls",
      "model_module_version": "1.5.0",
      "model_name": "DescriptionStyleModel",
      "state": {
       "description_width": ""
      }
     },
     "4f6fc96978a246f5bca7126af05a53b8": {
      "model_module": "@jupyter-widgets/controls",
      "model_module_version": "1.5.0",
      "model_name": "HBoxModel",
      "state": {
       "children": [
        "IPY_MODEL_35f8d4584ed64800b344b7839f7836c7",
        "IPY_MODEL_e429bec0e1ce40ec812c7e8ad472663a",
        "IPY_MODEL_8f66483da0be457a9d04b7152c7f9797"
       ],
       "layout": "IPY_MODEL_e771e0f82ab14421a322af3c244e73d7"
      }
     },
     "4f775c4af77442a3a8663c2d6738680c": {
      "model_module": "@jupyter-widgets/controls",
      "model_module_version": "1.5.0",
      "model_name": "TextModel",
      "state": {
       "description": "levels",
       "layout": "IPY_MODEL_39995fb252654d2ea4cfc4bb2c189c29",
       "placeholder": "[]",
       "style": "IPY_MODEL_21e45a8808b84526b2bd3918daef2375",
       "value": "None"
      }
     },
     "4f8161e1274b4e2ab5fae6187fcc8764": {
      "model_module": "@jupyter-widgets/base",
      "model_module_version": "1.2.0",
      "model_name": "LayoutModel",
      "state": {}
     },
     "4f9123689f044d1986b749eb3c4db64b": {
      "buffers": [
       {
        "data": "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",
        "encoding": "base64",
        "path": [
         "value"
        ]
       }
      ],
      "model_module": "@jupyter-widgets/controls",
      "model_module_version": "1.5.0",
      "model_name": "ImageModel",
      "state": {
       "layout": "IPY_MODEL_9036998e2aea4a9b9556dd619be034de"
      }
     },
     "4fabf17114c54b3b891bba08876944ea": {
      "model_module": "@jupyter-widgets/base",
      "model_module_version": "1.2.0",
      "model_name": "LayoutModel",
      "state": {}
     },
     "4fc4598a40d34c988bcc3da3ad50408a": {
      "model_module": "@jupyter-widgets/controls",
      "model_module_version": "1.5.0",
      "model_name": "ButtonStyleModel",
      "state": {}
     },
     "4fc66c974b724bf08234df9909ce3fb4": {
      "model_module": "@jupyter-widgets/base",
      "model_module_version": "1.2.0",
      "model_name": "LayoutModel",
      "state": {}
     },
     "4fc7d18d0b134ab5b9e1f023fb2017f5": {
      "model_module": "@jupyter-widgets/controls",
      "model_module_version": "1.5.0",
      "model_name": "BoxModel",
      "state": {
       "children": [
        "IPY_MODEL_aa26cf5fe1f448568c2906df119b4035"
       ],
       "layout": "IPY_MODEL_b29a1ba5d1654831a79ef21b82ac3351"
      }
     },
     "50156c91f6044f72a9de5f037c75e756": {
      "model_module": "@jupyter-widgets/controls",
      "model_module_version": "1.5.0",
      "model_name": "HBoxModel",
      "state": {
       "children": [
        "IPY_MODEL_7ccc36cdb472486193fa0d2b014a92af"
       ],
       "layout": "IPY_MODEL_bbbb89c62fcc4035bc7a001d3d696a15"
      }
     },
     "5020bdd156fc4e04a2578d85489e8377": {
      "model_module": "@jupyter-widgets/controls",
      "model_module_version": "1.5.0",
      "model_name": "DescriptionStyleModel",
      "state": {
       "description_width": ""
      }
     },
     "5022f6bc33ca498f8591fb8af1e84d2d": {
      "model_module": "@jupyter-widgets/controls",
      "model_module_version": "1.5.0",
      "model_name": "ButtonStyleModel",
      "state": {
       "button_color": "lightblue"
      }
     },
     "5024f9df451f4ee88de3fb68c8b5179b": {
      "model_module": "@jupyter-widgets/base",
      "model_module_version": "1.2.0",
      "model_name": "LayoutModel",
      "state": {}
     },
     "503e8d913b6647f89e7d3657cd72fdf8": {
      "model_module": "@jupyter-widgets/controls",
      "model_module_version": "1.5.0",
      "model_name": "DescriptionStyleModel",
      "state": {
       "description_width": ""
      }
     },
     "5062ab344b1f40878e46326eb10b90d8": {
      "model_module": "@jupyter-widgets/base",
      "model_module_version": "1.2.0",
      "model_name": "LayoutModel",
      "state": {
       "width": "140px"
      }
     },
     "5097dcaa823840c9994e4ad84bdfcb5c": {
      "model_module": "@jupyter-widgets/controls",
      "model_module_version": "1.5.0",
      "model_name": "ButtonStyleModel",
      "state": {}
     },
     "50acaaf8188c4cd9958f21d257db0f7b": {
      "model_module": "@jupyter-widgets/base",
      "model_module_version": "1.2.0",
      "model_name": "LayoutModel",
      "state": {
       "margin": "20px 0px 0px 0px",
       "width": "50%"
      }
     },
     "50b6dca5bbaa42eb9b20d2ec329c3c7f": {
      "model_module": "@jupyter-widgets/base",
      "model_module_version": "1.2.0",
      "model_name": "LayoutModel",
      "state": {
       "align_items": "center",
       "border": "dotted black 1px",
       "height": "40px",
       "margin": "0px 0px 0px 10px"
      }
     },
     "50c30b5058d8416896d4b87f33ffc901": {
      "model_module": "@jupyter-widgets/base",
      "model_module_version": "1.2.0",
      "model_name": "LayoutModel",
      "state": {}
     },
     "50ce323f9e184deabe2a222e1902b268": {
      "model_module": "@jupyter-widgets/controls",
      "model_module_version": "1.5.0",
      "model_name": "DescriptionStyleModel",
      "state": {
       "description_width": ""
      }
     },
     "50e7a62dcc014c01bcde8a8f8509e47d": {
      "model_module": "@jupyter-widgets/controls",
      "model_module_version": "1.5.0",
      "model_name": "DescriptionStyleModel",
      "state": {
       "description_width": ""
      }
     },
     "50ec5eebf0924afb9f21ec957619661a": {
      "model_module": "@jupyter-widgets/base",
      "model_module_version": "1.2.0",
      "model_name": "LayoutModel",
      "state": {}
     },
     "50edaf1e13134f6bb37f389fbbfae7c3": {
      "model_module": "@jupyter-widgets/controls",
      "model_module_version": "1.5.0",
      "model_name": "VBoxModel",
      "state": {
       "children": [
        "IPY_MODEL_12c312f2cf90450ea34af9fe241b34a0",
        "IPY_MODEL_b7a553e9ee8b445bad140b4a9ef7909a",
        "IPY_MODEL_d487aaed217c4ff8b8198e621a30ee4e",
        "IPY_MODEL_79cfbf02843e471d941127b663ee0607",
        "IPY_MODEL_4b77802fa61946c98a55f759f72fc71d",
        "IPY_MODEL_65d680981b964153998c67069387bc89",
        "IPY_MODEL_070c9a4acb5041cfb3fbe0c71c4c7ad2"
       ],
       "layout": "IPY_MODEL_eabf97fc4b82483ba9266a5a1720d1ff"
      }
     },
     "510087c7a3e64cb79a739a2e47364629": {
      "model_module": "@jupyter-widgets/base",
      "model_module_version": "1.2.0",
      "model_name": "LayoutModel",
      "state": {
       "margin": "20px 0px 10px 115px"
      }
     },
     "510376ac8215477aace4194f83674113": {
      "model_module": "@jupyter-widgets/controls",
      "model_module_version": "1.5.0",
      "model_name": "DescriptionStyleModel",
      "state": {
       "description_width": ""
      }
     },
     "510a512731d5486bbd99bdf7bccd85cd": {
      "model_module": "@jupyter-widgets/base",
      "model_module_version": "1.2.0",
      "model_name": "LayoutModel",
      "state": {}
     },
     "510ea179f39b41378b167804fa340e09": {
      "model_module": "@jupyter-widgets/controls",
      "model_module_version": "1.5.0",
      "model_name": "DescriptionStyleModel",
      "state": {
       "description_width": ""
      }
     },
     "513703c851e14236b75ed407e6b0fba8": {
      "model_module": "@jupyter-widgets/base",
      "model_module_version": "1.2.0",
      "model_name": "LayoutModel",
      "state": {}
     },
     "5150b9f2596c403c804c65b8f39f863a": {
      "model_module": "@jupyter-widgets/base",
      "model_module_version": "1.2.0",
      "model_name": "LayoutModel",
      "state": {}
     },
     "51510e0fea01403c9c7df3f298bab970": {
      "model_module": "@jupyter-widgets/base",
      "model_module_version": "1.2.0",
      "model_name": "LayoutModel",
      "state": {
       "margin": "20px 0px 20px 250px"
      }
     },
     "5158e5b042364c8e92469bbf102df240": {
      "model_module": "@jupyter-widgets/base",
      "model_module_version": "1.2.0",
      "model_name": "LayoutModel",
      "state": {}
     },
     "5175c581035c486093ef8a31aca88a6b": {
      "model_module": "@jupyter-widgets/controls",
      "model_module_version": "1.5.0",
      "model_name": "ButtonModel",
      "state": {
       "icon": "refresh",
       "layout": "IPY_MODEL_ec43d25d9cf14c57b4ffdb396c4cad8a",
       "style": "IPY_MODEL_2807d9fbbf13447b8e209cc87258449b"
      }
     },
     "51ace5be178648158f3ab3b56dba1494": {
      "model_module": "@jupyter-widgets/controls",
      "model_module_version": "1.5.0",
      "model_name": "TextModel",
      "state": {
       "description": "levels",
       "layout": "IPY_MODEL_c25e4206995a4d53ac20a5c620f0d6d6",
       "placeholder": "[]",
       "style": "IPY_MODEL_966b4496580748cc98d52415a717236d",
       "value": "None"
      }
     },
     "51b1da9cd17543bb9c737f2d1191d51b": {
      "model_module": "@jupyter-widgets/controls",
      "model_module_version": "1.5.0",
      "model_name": "ToggleButtonsModel",
      "state": {
       "_options_labels": [
        "Prepare",
        "data manipulation",
        "pandas",
        "concat"
       ],
       "button_style": "info",
       "icons": [],
       "index": 0,
       "layout": "IPY_MODEL_dc93266a75d549a2ace5a553c3481d98",
       "style": "IPY_MODEL_1e2b1fef606c4af1af5d980283b28087",
       "tooltips": []
      }
     },
     "51c0d13e490e46d990a1125f25e16f3b": {
      "model_module": "@jupyter-widgets/base",
      "model_module_version": "1.2.0",
      "model_name": "LayoutModel",
      "state": {
       "margin": "0px 0px 0px 10px"
      }
     },
     "51f1df0eb29448c083b7810c9be0746e": {
      "model_module": "@jupyter-widgets/controls",
      "model_module_version": "1.5.0",
      "model_name": "BoxModel",
      "state": {
       "children": [
        "IPY_MODEL_95fa8d80700749f7a85871005dad5325"
       ],
       "layout": "IPY_MODEL_7746fdf18d494577b71a346172a5bc86"
      }
     },
     "52046686d0e549ac9910c905a2420b57": {
      "model_module": "@jupyter-widgets/base",
      "model_module_version": "1.2.0",
      "model_name": "LayoutModel",
      "state": {}
     },
     "521d2ec911c544f1ad6ecea10f7a73d1": {
      "model_module": "@jupyter-widgets/controls",
      "model_module_version": "1.5.0",
      "model_name": "ButtonModel",
      "state": {
       "description": "Remove pipe",
       "icon": "remove",
       "layout": "IPY_MODEL_edf0aaea143a44548172939b68e2618b",
       "style": "IPY_MODEL_73c2ee8e036b4b599e6e80d287d381bd"
      }
     },
     "522f68e4d04a4d0cb671113bb2af4adb": {
      "model_module": "@jupyter-widgets/base",
      "model_module_version": "1.2.0",
      "model_name": "LayoutModel",
      "state": {
       "margin": "20px 0px 10px 115px"
      }
     },
     "525d87dee2a44c919691075b11907d39": {
      "model_module": "@jupyter-widgets/controls",
      "model_module_version": "1.5.0",
      "model_name": "VBoxModel",
      "state": {
       "children": [
        "IPY_MODEL_4e1697470bff4201933b79f522c85517",
        "IPY_MODEL_365b5574426a45859e0807da29a13820",
        "IPY_MODEL_101b1ce04eb24b83a5fd216a8f9d8c30",
        "IPY_MODEL_d14b3e62e48f409cbcfe193d7d5e8a69",
        "IPY_MODEL_745aa3fbe3ae46e4aaafc2040548ee31",
        "IPY_MODEL_ba9edf16d1834babbfc50e398a97f4d5"
       ],
       "layout": "IPY_MODEL_3bcda2e702bc4ab0ad508ddff265a6fe"
      }
     },
     "5283540b78e24125b5a94e8b50555fb9": {
      "model_module": "@jupyter-widgets/controls",
      "model_module_version": "1.5.0",
      "model_name": "CheckboxModel",
      "state": {
       "description": "Check to set",
       "disabled": false,
       "indent": false,
       "layout": "IPY_MODEL_07f7a9ca6fcb4d6d961896cace0afada",
       "style": "IPY_MODEL_1c2683c8da574e1eb3cb2dfe65ee7ac7",
       "value": false
      }
     },
     "52c0618b30094196a548c2b32fd29aeb": {
      "model_module": "@jupyter-widgets/base",
      "model_module_version": "1.2.0",
      "model_name": "LayoutModel",
      "state": {
       "border": "dotted black 1px",
       "justify_content": "space-between"
      }
     },
     "52f241ae93744ad68069b988ddfcb3ff": {
      "model_module": "@jupyter-widgets/base",
      "model_module_version": "1.2.0",
      "model_name": "LayoutModel",
      "state": {
       "margin": "0px 0px 0px 10px"
      }
     },
     "5316ea466fe84a9fb35f7e4381f2cf26": {
      "model_module": "@jupyter-widgets/controls",
      "model_module_version": "1.5.0",
      "model_name": "HBoxModel",
      "state": {
       "children": [
        "IPY_MODEL_dba2e36bcca7425cb0a820f2a96cf17a",
        "IPY_MODEL_b02172e0b99642de90233bf02dccb9dd",
        "IPY_MODEL_786a42f9a5f242939449aa33ef976159"
       ],
       "layout": "IPY_MODEL_fdf8cfe5f7aa428488702139cda12308"
      }
     },
     "53346fc5d9174c4ebc7f3c24f4934d6c": {
      "model_module": "@jupyter-widgets/base",
      "model_module_version": "1.2.0",
      "model_name": "LayoutModel",
      "state": {}
     },
     "53622f8e4071433cab22798bce5bef51": {
      "model_module": "@jupyter-widgets/base",
      "model_module_version": "1.2.0",
      "model_name": "LayoutModel",
      "state": {
       "width": "40px"
      }
     },
     "537cc9fde8e84eb08275c40dc4bc01ed": {
      "model_module": "@jupyter-widgets/base",
      "model_module_version": "1.2.0",
      "model_name": "LayoutModel",
      "state": {
       "width": "50%"
      }
     },
     "53b81eebd77247309a82b61cddf94139": {
      "model_module": "@jupyter-widgets/base",
      "model_module_version": "1.2.0",
      "model_name": "LayoutModel",
      "state": {
       "margin": "10px 0px 10px 400px"
      }
     },
     "53c1f141752d47289cedddab051245e0": {
      "model_module": "@jupyter-widgets/base",
      "model_module_version": "1.2.0",
      "model_name": "LayoutModel",
      "state": {
       "width": "140px"
      }
     },
     "53da0e3f7ac34e2d9079dd92d46eb0ef": {
      "model_module": "@jupyter-widgets/controls",
      "model_module_version": "1.5.0",
      "model_name": "VBoxModel",
      "state": {
       "children": [
        "IPY_MODEL_7d83f2ad0d5640018bf851d7aa9b9815",
        "IPY_MODEL_2c7692b4b8044a8fa4ebf1a560d42503",
        "IPY_MODEL_639745edce1d47d498cf11f1e90983da",
        "IPY_MODEL_89c7b08e79f04440a5af8a9606e1db7c",
        "IPY_MODEL_d10c1fc971294dc5be823a60889fd628"
       ],
       "layout": "IPY_MODEL_0a6948c6edd3454c8962446c370b7b82"
      }
     },
     "53e4288978aa4e3ab4caa44483a0da68": {
      "model_module": "@jupyter-widgets/base",
      "model_module_version": "1.2.0",
      "model_name": "LayoutModel",
      "state": {
       "align_content": "center",
       "justify_content": "center"
      }
     },
     "54142bd1d49648c4b1df6a1c315c5415": {
      "model_module": "@jupyter-widgets/base",
      "model_module_version": "1.2.0",
      "model_name": "LayoutModel",
      "state": {
       "align_items": "center",
       "justify_content": "space-between",
       "margin": "10px 0px 20px 0px"
      }
     },
     "5423876beb6a4878b70da8bf73bd14cd": {
      "model_module": "@jupyter-widgets/base",
      "model_module_version": "1.2.0",
      "model_name": "LayoutModel",
      "state": {
       "margin": "10px 0px 10px 0px",
       "width": "50%"
      }
     },
     "542bef397e7f4832a4245fb8aaa353f2": {
      "model_module": "@jupyter-widgets/base",
      "model_module_version": "1.2.0",
      "model_name": "LayoutModel",
      "state": {}
     },
     "5436607ffab34990b54707308b066af7": {
      "model_module": "@jupyter-widgets/controls",
      "model_module_version": "1.5.0",
      "model_name": "DescriptionStyleModel",
      "state": {
       "description_width": ""
      }
     },
     "5436fc9cdb4d4a4dbcb432aabd0d4be8": {
      "model_module": "@jupyter-widgets/controls",
      "model_module_version": "1.5.0",
      "model_name": "VBoxModel",
      "state": {
       "children": [
        "IPY_MODEL_ddb5b30d18884516a5e9f1f30327de9b"
       ],
       "layout": "IPY_MODEL_e944e288654c4a459f3351d2412de145"
      }
     },
     "544527a03314447ab4bf41e1a2d5d25d": {
      "model_module": "@jupyter-widgets/controls",
      "model_module_version": "1.5.0",
      "model_name": "HBoxModel",
      "state": {
       "children": [
        "IPY_MODEL_011a41a717674ba0b5c48081bea318ab",
        "IPY_MODEL_cc46882bd0094265800d3efec85895c1",
        "IPY_MODEL_3b143eff6c1540fca8381775b1ec26ec"
       ],
       "layout": "IPY_MODEL_11a5209921d741bcb92c9d73d57ec2de"
      }
     },
     "546be6bbfba44468852ddd2bfac4f978": {
      "model_module": "@jupyter-widgets/controls",
      "model_module_version": "1.5.0",
      "model_name": "TextModel",
      "state": {
       "description": "Type:",
       "disabled": true,
       "layout": "IPY_MODEL_90b4d10d74a14ba5b242ab0952797468",
       "style": "IPY_MODEL_965d31079ce54b939bea888122255b84"
      }
     },
     "5494be35b39849fd890796c9fc7cdc01": {
      "model_module": "@jupyter-widgets/base",
      "model_module_version": "1.2.0",
      "model_name": "LayoutModel",
      "state": {
       "align_content": "center",
       "justify_content": "center"
      }
     },
     "5498e02e2b2345119c5670df7e3b7f07": {
      "model_module": "@jupyter-widgets/base",
      "model_module_version": "1.2.0",
      "model_name": "LayoutModel",
      "state": {}
     },
     "54cdda9243f344c7b4f628c8482dcd81": {
      "model_module": "@jupyter-widgets/base",
      "model_module_version": "1.2.0",
      "model_name": "LayoutModel",
      "state": {
       "margin": "10px 0px 10px 180px",
       "width": "110px"
      }
     },
     "54ee9796d9e74b94b79327c134da4fee": {
      "model_module": "@jupyter-widgets/controls",
      "model_module_version": "1.5.0",
      "model_name": "BoxModel",
      "state": {
       "children": [
        "IPY_MODEL_5b34be8159034e119d260ff2da694566"
       ],
       "layout": "IPY_MODEL_2d3d9a8f6dde417d9ab59a93033fc846"
      }
     },
     "550cb24722324fe28475e331a07f45ca": {
      "model_module": "@jupyter-widgets/base",
      "model_module_version": "1.2.0",
      "model_name": "LayoutModel",
      "state": {
       "align_items": "center",
       "border": "dotted black 1px",
       "height": "40px",
       "justify_content": "center"
      }
     },
     "55100b1b3548499d895cc6f0df03fce4": {
      "model_module": "@jupyter-widgets/controls",
      "model_module_version": "1.5.0",
      "model_name": "DropdownModel",
      "state": {
       "description": "input token:",
       "index": null,
       "layout": "IPY_MODEL_8fc7f7cb1c174b33a044f107fc5ffae9",
       "style": "IPY_MODEL_00356581593d438889d472f4c5f987ad"
      }
     },
     "554d8fb1a5124ee281ca5b9715fe4b8c": {
      "model_module": "@jupyter-widgets/controls",
      "model_module_version": "1.5.0",
      "model_name": "CheckboxModel",
      "state": {
       "description": "Check to set",
       "disabled": false,
       "indent": false,
       "layout": "IPY_MODEL_eb2f1d65582846fcabba8686538860e3",
       "style": "IPY_MODEL_6b6c344cabc742fcb3158899809dd966",
       "value": false
      }
     },
     "555a12c9b38742a49a53ff37484da964": {
      "model_module": "@jupyter-widgets/base",
      "model_module_version": "1.2.0",
      "model_name": "LayoutModel",
      "state": {
       "align_items": "center",
       "border": "dotted black 1px",
       "height": "40px",
       "margin": "0px 0px 0px 10px"
      }
     },
     "5563432a32d6455e995322ab0e58b46a": {
      "model_module": "@jupyter-widgets/controls",
      "model_module_version": "1.5.0",
      "model_name": "DescriptionStyleModel",
      "state": {
       "description_width": ""
      }
     },
     "55785f0a70474380b935e31665fc1ca2": {
      "model_module": "@jupyter-widgets/controls",
      "model_module_version": "1.5.0",
      "model_name": "ButtonModel",
      "state": {
       "description": "Select",
       "layout": "IPY_MODEL_882334fd01ce4984bbde467438165c66",
       "style": "IPY_MODEL_01f89fc91e9d4b698385f23a110cb124"
      }
     },
     "559837b45d0847cb8755e61897600e4e": {
      "model_module": "@jupyter-widgets/controls",
      "model_module_version": "1.5.0",
      "model_name": "DescriptionStyleModel",
      "state": {
       "description_width": ""
      }
     },
     "55a68efebde94f8da86e306b8290c261": {
      "model_module": "@jupyter-widgets/controls",
      "model_module_version": "1.5.0",
      "model_name": "HTMLModel",
      "state": {
       "layout": "IPY_MODEL_b2a2dfd8f9d74dba8a6d57a9b1f66cc8",
       "style": "IPY_MODEL_42b8ff81db3649018fa099733df7c858",
       "value": "<b>Requirements:  </b>(('ChemML', '0.6'), ('pandas', '1.1.3'))"
      }
     },
     "55e2b4559d864c4ebdd8ffbbc3a8fd3c": {
      "model_module": "@jupyter-widgets/controls",
      "model_module_version": "1.5.0",
      "model_name": "DescriptionStyleModel",
      "state": {
       "description_width": ""
      }
     },
     "55e7456c1a7644df8e7409691071af17": {
      "model_module": "@jupyter-widgets/controls",
      "model_module_version": "1.5.0",
      "model_name": "ButtonModel",
      "state": {
       "description": "Remove pipe",
       "icon": "remove",
       "layout": "IPY_MODEL_f54e8d729fc44d198bd8865c0333fc36",
       "style": "IPY_MODEL_cb8cbe392d4d4c3cacdfa175d4a51b84"
      }
     },
     "55ee8f9d55ac4dc6b3dce0c0432c410d": {
      "model_module": "@jupyter-widgets/controls",
      "model_module_version": "1.5.0",
      "model_name": "HTMLModel",
      "state": {
       "layout": "IPY_MODEL_8065a3cf35b04c3cbe97a8a46e31fa53",
       "style": "IPY_MODEL_1099fd1f419e47f4ba46f9106d48dc38",
       "value": "<b> Note: </b> This page automatically avoid: (1) loops, (2) type inconsistency, and (3) more than one input per token."
      }
     },
     "55fdd76dd1af45668486484b7c1a3554": {
      "model_module": "@jupyter-widgets/controls",
      "model_module_version": "1.5.0",
      "model_name": "TextModel",
      "state": {
       "description": "Type:",
       "disabled": true,
       "layout": "IPY_MODEL_7b0032d4fdde4d87b04fde0084d5fea7",
       "style": "IPY_MODEL_8336194995e54e869236b8d67e5292f3"
      }
     },
     "560365e7fdca4388b6ab9bd762c117ef": {
      "model_module": "@jupyter-widgets/controls",
      "model_module_version": "1.5.0",
      "model_name": "HBoxModel",
      "state": {
       "children": [
        "IPY_MODEL_de01657e082b4e469ebc35a1d3cea8a3",
        "IPY_MODEL_9a1aac88ac9447a19737c5bd31739815"
       ],
       "layout": "IPY_MODEL_39e3d50c930147ce8c84d5b283c04729"
      }
     },
     "56247ca37c7c43f6b377f1a73581bf2a": {
      "buffers": [
       {
        "data": "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",
        "encoding": "base64",
        "path": [
         "value"
        ]
       }
      ],
      "model_module": "@jupyter-widgets/controls",
      "model_module_version": "1.5.0",
      "model_name": "ImageModel",
      "state": {
       "layout": "IPY_MODEL_9d155af8f63d4f40b8705dbdf7d1895a"
      }
     },
     "5653e3c961c04ed1aaeb48083863a71a": {
      "model_module": "@jupyter-widgets/controls",
      "model_module_version": "1.5.0",
      "model_name": "DescriptionStyleModel",
      "state": {
       "description_width": "initial"
      }
     },
     "565e24900dfe450c911a9364300ab2b5": {
      "model_module": "@jupyter-widgets/base",
      "model_module_version": "1.2.0",
      "model_name": "LayoutModel",
      "state": {
       "margin": "20px 0px 0px 10px"
      }
     },
     "5660c6d966504b768be954fb95bb2f1e": {
      "model_module": "@jupyter-widgets/base",
      "model_module_version": "1.2.0",
      "model_name": "LayoutModel",
      "state": {
       "width": "40px"
      }
     },
     "5671cd7d157b4b5faf699f6a0453d8fd": {
      "model_module": "@jupyter-widgets/controls",
      "model_module_version": "1.5.0",
      "model_name": "HBoxModel",
      "state": {
       "children": [
        "IPY_MODEL_e9fbbaa7e981430eb3726fa7211e28ba",
        "IPY_MODEL_e26465dbf9694ac0ae5ddf2267ad9279",
        "IPY_MODEL_b50d2453f4d1447e94fc2d23064b6d36"
       ],
       "layout": "IPY_MODEL_a40913aa5ae1441f878c241af2a6b04d"
      }
     },
     "567c3a2189294f24a05f1f5be7a282e2": {
      "model_module": "@jupyter-widgets/controls",
      "model_module_version": "1.5.0",
      "model_name": "BoxModel",
      "state": {
       "children": [
        "IPY_MODEL_cd0f6302409b43129a855c4a8b99f144"
       ],
       "layout": "IPY_MODEL_a4a6ad652eec4f9f92d29b0c06a73cfe"
      }
     },
     "56880022055e41d28b707ce4ad369f5e": {
      "model_module": "@jupyter-widgets/controls",
      "model_module_version": "1.5.0",
      "model_name": "LabelModel",
      "state": {
       "layout": "IPY_MODEL_9c171db18efd492fb77d9eb9bb0fd837",
       "style": "IPY_MODEL_bf046f152d73420bb601ffad975b346e",
       "value": "Template 1: load_xyz_polarizability --> generate CoulombMatrix features --> save features"
      }
     },
     "568825a998f149ada3e0ebe2e1b66415": {
      "model_module": "@jupyter-widgets/controls",
      "model_module_version": "1.5.0",
      "model_name": "TabModel",
      "state": {
       "_titles": {
        "0": "Parameters",
        "1": "Input/Output"
       },
       "children": [
        "IPY_MODEL_4bdddcba6d9243d99d928bce672e0b17",
        "IPY_MODEL_ab56569cd99f49d0bb60b38c2c9f44dd"
       ],
       "layout": "IPY_MODEL_7731b9392ad8451eb7539cc88fe104c3"
      }
     },
     "5699765048234ee89dfcbf34ec31e41e": {
      "model_module": "@jupyter-widgets/controls",
      "model_module_version": "1.5.0",
      "model_name": "HBoxModel",
      "state": {
       "children": [
        "IPY_MODEL_6714db8cd6b744eba19dbec3dd51e0ec",
        "IPY_MODEL_68abedda4d7740b69f102eb137c75c61"
       ],
       "layout": "IPY_MODEL_d419595c9f394a75940d9a0d713405f8"
      }
     },
     "569cad9f7e0641dc92cc6a0dce611cc2": {
      "model_module": "@jupyter-widgets/controls",
      "model_module_version": "1.5.0",
      "model_name": "HTMLModel",
      "state": {
       "layout": "IPY_MODEL_2a221322d08a4a929729d7f6a9d87bf2",
       "style": "IPY_MODEL_80ffc26d09774b99a3f66ed75d52376f",
       "value": "<b>Function parameters:</b>"
      }
     },
     "56b9776ae6ef4f21ba46b8eb865b59e7": {
      "model_module": "@jupyter-widgets/controls",
      "model_module_version": "1.5.0",
      "model_name": "DescriptionStyleModel",
      "state": {
       "description_width": ""
      }
     },
     "56cad6fb877f499682de57eabb590f5c": {
      "model_module": "@jupyter-widgets/base",
      "model_module_version": "1.2.0",
      "model_name": "LayoutModel",
      "state": {
       "margin": "0px 0px 0px 180px"
      }
     },
     "56db7d5fa246499ab8e12e76dfc3effc": {
      "model_module": "@jupyter-widgets/controls",
      "model_module_version": "1.5.0",
      "model_name": "ButtonModel",
      "state": {
       "icon": "refresh",
       "layout": "IPY_MODEL_5660c6d966504b768be954fb95bb2f1e",
       "style": "IPY_MODEL_8af5ff891ff94651830aa528417029cb"
      }
     },
     "56f689d5e04f44f9aa03ce80f2615b46": {
      "model_module": "@jupyter-widgets/controls",
      "model_module_version": "1.5.0",
      "model_name": "HTMLModel",
      "state": {
       "layout": "IPY_MODEL_bdf6fe55105841dbbe1d126185837b12",
       "style": "IPY_MODEL_df53b577c0c543519a0663dfc0c47be0",
       "value": "<b>Requirements:  </b>(('ChemML', '0.6'), ('pandas', '1.1.3'))"
      }
     },
     "571d694dd9c349948a14b41e9adddc00": {
      "model_module": "@jupyter-widgets/base",
      "model_module_version": "1.2.0",
      "model_name": "LayoutModel",
      "state": {
       "margin": "0px 0px 0px 10px"
      }
     },
     "57324160e244496ca4e0a252461bd493": {
      "model_module": "@jupyter-widgets/base",
      "model_module_version": "1.2.0",
      "model_name": "LayoutModel",
      "state": {
       "border": "dotted black 1px",
       "height": "0px",
       "margin": "20px 0px 0px 0px"
      }
     },
     "5780ca108cf246ea904d7c02e644ceb7": {
      "model_module": "@jupyter-widgets/base",
      "model_module_version": "1.2.0",
      "model_name": "LayoutModel",
      "state": {
       "margin": "10px 0px 10px 400px"
      }
     },
     "57b7445d121e4cc0963bda2cede00e93": {
      "model_module": "@jupyter-widgets/base",
      "model_module_version": "1.2.0",
      "model_name": "LayoutModel",
      "state": {
       "margin": "20px 0px 0px 10px"
      }
     },
     "57c8f97073a341238488512320ec0f28": {
      "model_module": "@jupyter-widgets/controls",
      "model_module_version": "1.5.0",
      "model_name": "DescriptionStyleModel",
      "state": {
       "description_width": ""
      }
     },
     "57dce2c0e8bf4866986c9a58e31e3f0c": {
      "model_module": "@jupyter-widgets/controls",
      "model_module_version": "1.5.0",
      "model_name": "HTMLModel",
      "state": {
       "layout": "IPY_MODEL_f045597011de4619a7d923da4ed08bff",
       "style": "IPY_MODEL_32fc8ee106e6413d9b7bf3fe46489991",
       "value": "<b> Send >>> </b>"
      }
     },
     "57ec2b6420d04c2880246d745daa6645": {
      "model_module": "@jupyter-widgets/controls",
      "model_module_version": "1.5.0",
      "model_name": "HBoxModel",
      "state": {
       "children": [
        "IPY_MODEL_0fe4b5a182ef4650aa504c393717fa36",
        "IPY_MODEL_6b6ac82ad1ed41fa86834bb5aa8740b8"
       ],
       "layout": "IPY_MODEL_b9057880661040919946f8994bd1c5c2"
      }
     },
     "57f15a4019a5497485fdc928cb0c45d1": {
      "model_module": "@jupyter-widgets/controls",
      "model_module_version": "1.5.0",
      "model_name": "VBoxModel",
      "state": {
       "children": [
        "IPY_MODEL_c1733380559d4b9c962124c212c13eb5",
        "IPY_MODEL_973cfd398c5d41e387cf26430c841f14",
        "IPY_MODEL_22ba8bf0feeb42559b1b781193dab6f9"
       ],
       "layout": "IPY_MODEL_d32c2bc9760640d4953e5f1190be86d5"
      }
     },
     "580a15bf93b446c5903a5bfe65539dba": {
      "model_module": "@jupyter-widgets/controls",
      "model_module_version": "1.5.0",
      "model_name": "DescriptionStyleModel",
      "state": {
       "description_width": "initial"
      }
     },
     "580da18c00be4d21898701c14ac8a27a": {
      "model_module": "@jupyter-widgets/base",
      "model_module_version": "1.2.0",
      "model_name": "LayoutModel",
      "state": {
       "border": "dotted black 1px",
       "justify_content": "space-between"
      }
     },
     "581daa02c06b4a8ba3e81461ae4d535b": {
      "model_module": "@jupyter-widgets/controls",
      "model_module_version": "1.5.0",
      "model_name": "DescriptionStyleModel",
      "state": {
       "description_width": ""
      }
     },
     "5830abd4f39943e098e920fc857455b4": {
      "model_module": "@jupyter-widgets/base",
      "model_module_version": "1.2.0",
      "model_name": "LayoutModel",
      "state": {
       "align_content": "center",
       "justify_content": "center"
      }
     },
     "585e9ff5a7024ea6a8ba66681851b2f6": {
      "model_module": "@jupyter-widgets/controls",
      "model_module_version": "1.5.0",
      "model_name": "DescriptionStyleModel",
      "state": {
       "description_width": ""
      }
     },
     "5889b070581b41c78f668110580f785d": {
      "model_module": "@jupyter-widgets/controls",
      "model_module_version": "1.5.0",
      "model_name": "HTMLModel",
      "state": {
       "layout": "IPY_MODEL_7e336104fcc64682842692616e76caa7",
       "style": "IPY_MODEL_8ebf2253232b4309bb11ae6e28ae123b",
       "value": "<b>Documentation: </b>"
      }
     },
     "58abe5bdaa56431b82ab8089f2c3a8e3": {
      "model_module": "@jupyter-widgets/controls",
      "model_module_version": "1.5.0",
      "model_name": "TextModel",
      "state": {
       "description": "config file name:",
       "layout": "IPY_MODEL_afcbfe12178e425ea9b967ad4793dba0",
       "placeholder": "chemML_config.txt",
       "style": "IPY_MODEL_d50b3d3adb1d47ac9bd13d4cf5d7d870",
       "value": "inorganic_crystal.txt"
      }
     },
     "58cc7ee91061475c977ad971eb212e6f": {
      "model_module": "@jupyter-widgets/controls",
      "model_module_version": "1.5.0",
      "model_name": "HBoxModel",
      "state": {
       "children": [
        "IPY_MODEL_1c52b3b3caf946fca35104dba82e3e24"
       ],
       "layout": "IPY_MODEL_d848af90e4204d25892cbfd97e3b026a"
      }
     },
     "58cfd6bc6f3d40a68c22f5c236029100": {
      "model_module": "@jupyter-widgets/base",
      "model_module_version": "1.2.0",
      "model_name": "LayoutModel",
      "state": {}
     },
     "58d036bc33bc4b41aab6207df0ebfb5f": {
      "model_module": "@jupyter-widgets/controls",
      "model_module_version": "1.5.0",
      "model_name": "ButtonModel",
      "state": {
       "description": "Select",
       "layout": "IPY_MODEL_f1617316bb5a4576a319b7339563a71f",
       "style": "IPY_MODEL_2ab2db0b12384f6c8f53e2793c5627b5"
      }
     },
     "58e410baf44c4ed582ee6ab088a4acc7": {
      "model_module": "@jupyter-widgets/controls",
      "model_module_version": "1.5.0",
      "model_name": "BoxModel",
      "state": {
       "children": [
        "IPY_MODEL_370056da7b3043d8b7a6a624435fa270"
       ],
       "layout": "IPY_MODEL_dd44fb9f9b7740ccabafe3dd938ae651"
      }
     },
     "59188a0ebd4141a28fa034aff249c8d7": {
      "model_module": "@jupyter-widgets/controls",
      "model_module_version": "1.5.0",
      "model_name": "CheckboxModel",
      "state": {
       "description": "Check to set",
       "disabled": false,
       "indent": false,
       "layout": "IPY_MODEL_4cb2b3727a584be29070bd2ba4f26b94",
       "style": "IPY_MODEL_7d1b59b6b8aa43abb59e613c3a50783c",
       "value": false
      }
     },
     "5933642a0a13420fa2af24c4b5223724": {
      "model_module": "@jupyter-widgets/base",
      "model_module_version": "1.2.0",
      "model_name": "LayoutModel",
      "state": {
       "margin": "10px 0px 10px 0px",
       "width": "50%"
      }
     },
     "596823b3f4d24126be9ace52c5d91375": {
      "model_module": "@jupyter-widgets/controls",
      "model_module_version": "1.5.0",
      "model_name": "ButtonStyleModel",
      "state": {
       "button_color": "lightblue"
      }
     },
     "59776d35d5454c1a9a891f3384244258": {
      "model_module": "@jupyter-widgets/controls",
      "model_module_version": "1.5.0",
      "model_name": "DescriptionStyleModel",
      "state": {
       "description_width": ""
      }
     },
     "598ee196ca8e4a2bbc1f0bbb5ee8d1ae": {
      "model_module": "@jupyter-widgets/controls",
      "model_module_version": "1.5.0",
      "model_name": "BoxModel",
      "state": {
       "children": [
        "IPY_MODEL_d401a30b945a4fa7841bbe77f7e44ba6"
       ],
       "layout": "IPY_MODEL_d0462fc1bd1a49f48ad3777d670f94f0"
      }
     },
     "59ab1cd630b44234a430c3a2012fbfdd": {
      "model_module": "@jupyter-widgets/base",
      "model_module_version": "1.2.0",
      "model_name": "LayoutModel",
      "state": {
       "border": "dotted black 1px",
       "height": "0px",
       "margin": "20px 0px 0px 0px"
      }
     },
     "5a0f1bd84d3944b2abe7056a06bc3044": {
      "model_module": "@jupyter-widgets/controls",
      "model_module_version": "1.5.0",
      "model_name": "TextModel",
      "state": {
       "description": "line16",
       "layout": "IPY_MODEL_9946d26a52e549dca400744f331126c8",
       "placeholder": "[]",
       "style": "IPY_MODEL_5653e3c961c04ed1aaeb48083863a71a",
       "value": "type python code"
      }
     },
     "5a3e1978dc174f8dbdfc240f6bef6d78": {
      "model_module": "@jupyter-widgets/base",
      "model_module_version": "1.2.0",
      "model_name": "LayoutModel",
      "state": {
       "margin": "10px 0px 10px 180px",
       "width": "110px"
      }
     },
     "5a7a743285b3460dbf0581c8f089c657": {
      "model_module": "@jupyter-widgets/controls",
      "model_module_version": "1.5.0",
      "model_name": "ButtonStyleModel",
      "state": {}
     },
     "5a887dc1256748769996364425d6f7fc": {
      "model_module": "@jupyter-widgets/controls",
      "model_module_version": "1.5.0",
      "model_name": "TextModel",
      "state": {
       "description": "Type:",
       "disabled": true,
       "layout": "IPY_MODEL_f66ddccd3a48459ca54f33bcb381b690",
       "style": "IPY_MODEL_88d51787fae54c6ea2108a7b6b850586"
      }
     },
     "5abc5f17c50c47feab9db56999b7b8e3": {
      "model_module": "@jupyter-widgets/controls",
      "model_module_version": "1.5.0",
      "model_name": "BoxModel",
      "state": {
       "children": [
        "IPY_MODEL_e888c96c0a6742f99daab4ce4692bb6b"
       ],
       "layout": "IPY_MODEL_f66d49d958dd48c3ac77677da7147bd6"
      }
     },
     "5abceeef27eb4680be0e56cce624c97a": {
      "model_module": "@jupyter-widgets/base",
      "model_module_version": "1.2.0",
      "model_name": "LayoutModel",
      "state": {}
     },
     "5ad1332dca69416f9fc7fadd4d9412d4": {
      "model_module": "@jupyter-widgets/controls",
      "model_module_version": "1.5.0",
      "model_name": "VBoxModel",
      "state": {
       "children": [
        "IPY_MODEL_55ee8f9d55ac4dc6b3dce0c0432c410d",
        "IPY_MODEL_a0af904dd35648f683e337df6b51fc31",
        "IPY_MODEL_18497a67fa6f4d2d9013ef3626d6e4b2",
        "IPY_MODEL_0e133cedf0814cbb8105857557a0fce6",
        "IPY_MODEL_39345a419fdb491683f8725f463d392c",
        "IPY_MODEL_08d34c020a984770a1858db4edcdb198",
        "IPY_MODEL_ac9848100fdf4722b19d975e98d9ae77"
       ],
       "layout": "IPY_MODEL_e6a8495e6afc4ef699e38ffa1970cab3"
      }
     },
     "5b0a940ea89d4dc7baa235d866a9440a": {
      "model_module": "@jupyter-widgets/controls",
      "model_module_version": "1.5.0",
      "model_name": "BoxModel",
      "state": {
       "children": [
        "IPY_MODEL_b677bc9868bc4f2cbd327115987a758b"
       ],
       "layout": "IPY_MODEL_d9d8b83374c1443da4fbe3f13f6f4a7d"
      }
     },
     "5b1376b66d6b4a49bb45c4d3de44427e": {
      "model_module": "@jupyter-widgets/base",
      "model_module_version": "1.2.0",
      "model_name": "LayoutModel",
      "state": {
       "margin": "20px 0px 10px 115px"
      }
     },
     "5b29f9d654c845029e60a0bad1c1553d": {
      "model_module": "@jupyter-widgets/controls",
      "model_module_version": "1.5.0",
      "model_name": "TextModel",
      "state": {
       "description": "Type:",
       "disabled": true,
       "layout": "IPY_MODEL_676507de1444489ca9c75ce2b8f60471",
       "style": "IPY_MODEL_b2b3a8ceaca74fc29af39ae54f45283b"
      }
     },
     "5b34be8159034e119d260ff2da694566": {
      "model_module": "@jupyter-widgets/controls",
      "model_module_version": "1.5.0",
      "model_name": "TextModel",
      "state": {
       "description": "line11",
       "layout": "IPY_MODEL_1d2db88a80b74b9a978bdd75e90ac951",
       "placeholder": "[]",
       "style": "IPY_MODEL_efdcc0ffabdc472d92ef8ac453790b42",
       "value": "type python code"
      }
     },
     "5b6b21158c124b13bfc6c9276b66caa7": {
      "model_module": "@jupyter-widgets/base",
      "model_module_version": "1.2.0",
      "model_name": "LayoutModel",
      "state": {
       "width": "140px"
      }
     },
     "5bcd93d4cd0645829a53ce22a918abf4": {
      "model_module": "@jupyter-widgets/controls",
      "model_module_version": "1.5.0",
      "model_name": "ButtonStyleModel",
      "state": {
       "button_color": "lightblue"
      }
     },
     "5bf4ea9500f94f93b2937e6855841d09": {
      "model_module": "@jupyter-widgets/base",
      "model_module_version": "1.2.0",
      "model_name": "LayoutModel",
      "state": {
       "width": "40px"
      }
     },
     "5c043dd1269742f08c6251556ed0530e": {
      "model_module": "@jupyter-widgets/base",
      "model_module_version": "1.2.0",
      "model_name": "LayoutModel",
      "state": {}
     },
     "5c0d50a48d1c46b287b0000c09ea36e8": {
      "model_module": "@jupyter-widgets/base",
      "model_module_version": "1.2.0",
      "model_name": "LayoutModel",
      "state": {
       "margin": "0px 0px 0px 10px"
      }
     },
     "5c1c85b58d764612b39bcc802cb9abaa": {
      "model_module": "@jupyter-widgets/controls",
      "model_module_version": "1.5.0",
      "model_name": "DropdownModel",
      "state": {
       "_options_labels": [
        "2",
        "3",
        "4"
       ],
       "description": "block#:",
       "index": 0,
       "layout": "IPY_MODEL_14a1a4d533b543c899ccb616709c75a0",
       "style": "IPY_MODEL_5563432a32d6455e995322ab0e58b46a"
      }
     },
     "5c1dbdddc70d429083fc4dec0fe68e77": {
      "model_module": "@jupyter-widgets/base",
      "model_module_version": "1.2.0",
      "model_name": "LayoutModel",
      "state": {}
     },
     "5c6544ac73db42b0accfc48da285033b": {
      "model_module": "@jupyter-widgets/controls",
      "model_module_version": "1.5.0",
      "model_name": "CheckboxModel",
      "state": {
       "description": "Check to set",
       "disabled": false,
       "indent": false,
       "layout": "IPY_MODEL_6838c7b1df9c4052800ce80184ef9f89",
       "style": "IPY_MODEL_4acb2e4e5aa94972a4c8680abbdb79c1",
       "value": false
      }
     },
     "5ce7c1d041c545af86b46bc46b7ef1dc": {
      "model_module": "@jupyter-widgets/controls",
      "model_module_version": "1.5.0",
      "model_name": "HBoxModel",
      "state": {
       "children": [
        "IPY_MODEL_5c1c85b58d764612b39bcc802cb9abaa",
        "IPY_MODEL_f559804c46a84c16bd06b665b2534efa",
        "IPY_MODEL_92832ee9fa9d41639721bc528ad895aa"
       ],
       "layout": "IPY_MODEL_9dcad45f989e48cd815768b190cc9b5a"
      }
     },
     "5d10241f82a04e339a3a95663a0d65c6": {
      "model_module": "@jupyter-widgets/controls",
      "model_module_version": "1.5.0",
      "model_name": "VBoxModel",
      "state": {
       "children": [
        "IPY_MODEL_6c46e7b5c7e14c8682628546aa6b5694",
        "IPY_MODEL_10f6681374b64e728a3f53f39d9bf9eb",
        "IPY_MODEL_09c691ccd0f944fb9c43b354ab4ecdbb",
        "IPY_MODEL_a303a056fa594ef6bc1ce5070487b2bb",
        "IPY_MODEL_5fbfbbf867f846f283e54395b7b06bbe",
        "IPY_MODEL_e0ac2e4556fe476ebd6827bfac9aca3f"
       ],
       "layout": "IPY_MODEL_239c2a1f177246c4ab52d0164f73744a"
      }
     },
     "5d2de7efdbab4cf780e734c69c336ac1": {
      "model_module": "@jupyter-widgets/controls",
      "model_module_version": "1.5.0",
      "model_name": "BoxModel",
      "state": {
       "children": [
        "IPY_MODEL_8f1d7f5cbfe844b2a73bca74f8514a20"
       ],
       "layout": "IPY_MODEL_1886f30fc9234f83a85172ecd609d27a"
      }
     },
     "5d585738f7a542a8922de89eeec8a54d": {
      "model_module": "@jupyter-widgets/base",
      "model_module_version": "1.2.0",
      "model_name": "LayoutModel",
      "state": {}
     },
     "5d71646d9b2d4394afcfacf87d068c92": {
      "model_module": "@jupyter-widgets/controls",
      "model_module_version": "1.5.0",
      "model_name": "ButtonModel",
      "state": {
       "description": "Select",
       "layout": "IPY_MODEL_a579ef3af2fe44d886f637d18cc68c03",
       "style": "IPY_MODEL_00d70c2c4ca8448b98859d43dfbcd83d"
      }
     },
     "5d73be8ca3aa45a4b2c913514b9effc6": {
      "model_module": "@jupyter-widgets/controls",
      "model_module_version": "1.5.0",
      "model_name": "DescriptionStyleModel",
      "state": {
       "description_width": "initial"
      }
     },
     "5d8f409dc84b435ea5a6af896627c06d": {
      "model_module": "@jupyter-widgets/controls",
      "model_module_version": "1.5.0",
      "model_name": "LabelModel",
      "state": {
       "layout": "IPY_MODEL_dc1d859f80414b249559a8f92d23d3e6",
       "style": "IPY_MODEL_e3b642d21d7a46c8aad87e84f6659f51",
       "value": "Template 2: load_organic_density --> plot feature AMW vs. density --> print 5 SMILES"
      }
     },
     "5de9d5a7f8244c6ca21a49bde481f104": {
      "model_module": "@jupyter-widgets/controls",
      "model_module_version": "1.5.0",
      "model_name": "BoxModel",
      "state": {
       "children": [
        "IPY_MODEL_a193ad673eea49d9acf0747734c8b6d7"
       ],
       "layout": "IPY_MODEL_798686c610d54da787abae77811e8641"
      }
     },
     "5e26d9ad22e94ee1b99ceeed7f186a07": {
      "model_module": "@jupyter-widgets/controls",
      "model_module_version": "1.5.0",
      "model_name": "ButtonModel",
      "state": {
       "description": "Select",
       "layout": "IPY_MODEL_632a54e684f4473eb9af6d561cf3d839",
       "style": "IPY_MODEL_678b512e56a042bc9da974f2ade6ceb5"
      }
     },
     "5e277acebf0d4f5b839b4e22c16cd826": {
      "model_module": "@jupyter-widgets/base",
      "model_module_version": "1.2.0",
      "model_name": "LayoutModel",
      "state": {
       "width": "50%"
      }
     },
     "5e653e2b078b404f8b4188916eeb2961": {
      "model_module": "@jupyter-widgets/controls",
      "model_module_version": "1.5.0",
      "model_name": "BoxModel",
      "state": {
       "children": [
        "IPY_MODEL_eccc3e4a855f48458b0749cdf11a6856"
       ],
       "layout": "IPY_MODEL_06fb2a234ded4c4db30700e0a5c1c648"
      }
     },
     "5e680405e47740559fe0ff7b0d4d634f": {
      "model_module": "@jupyter-widgets/controls",
      "model_module_version": "1.5.0",
      "model_name": "CheckboxModel",
      "state": {
       "description": "Check to set",
       "disabled": false,
       "indent": false,
       "layout": "IPY_MODEL_f26cbc932c7c475da5e3a40ea2644a2f",
       "style": "IPY_MODEL_dd8465216c04443dae143a8df88e0c67",
       "value": false
      }
     },
     "5e89bf7c8778478289ca4f2df40e03a0": {
      "model_module": "@jupyter-widgets/base",
      "model_module_version": "1.2.0",
      "model_name": "LayoutModel",
      "state": {}
     },
     "5e9c2cd3837343cd8e922d08fcd68d54": {
      "model_module": "@jupyter-widgets/base",
      "model_module_version": "1.2.0",
      "model_name": "LayoutModel",
      "state": {
       "width": "40px"
      }
     },
     "5eafff0281e14d6dbbdfe32db4ddb7b8": {
      "model_module": "@jupyter-widgets/controls",
      "model_module_version": "1.5.0",
      "model_name": "DescriptionStyleModel",
      "state": {
       "description_width": ""
      }
     },
     "5ee114334b2643ddba33c3b227b0a5e3": {
      "model_module": "@jupyter-widgets/base",
      "model_module_version": "1.2.0",
      "model_name": "LayoutModel",
      "state": {
       "margin": "0px 10px 0px 0px",
       "width": "60px"
      }
     },
     "5f029ccb35704e79a1c9abc72fda9a95": {
      "model_module": "@jupyter-widgets/controls",
      "model_module_version": "1.5.0",
      "model_name": "DescriptionStyleModel",
      "state": {
       "description_width": ""
      }
     },
     "5f5ad320b1ff417c9851438431188cc9": {
      "model_module": "@jupyter-widgets/base",
      "model_module_version": "1.2.0",
      "model_name": "LayoutModel",
      "state": {
       "margin": "10px 0px 10px 180px",
       "width": "110px"
      }
     },
     "5f7fa78265aa4040a78f97388565ff15": {
      "model_module": "@jupyter-widgets/controls",
      "model_module_version": "1.5.0",
      "model_name": "ButtonStyleModel",
      "state": {
       "button_color": "lightblue"
      }
     },
     "5fa85f0b4d7a4ea48872c48e04f51eef": {
      "model_module": "@jupyter-widgets/controls",
      "model_module_version": "1.5.0",
      "model_name": "ButtonStyleModel",
      "state": {
       "button_color": "lightblue"
      }
     },
     "5faeb74ddaf543f5a33ba5a4d73db76b": {
      "model_module": "@jupyter-widgets/controls",
      "model_module_version": "1.5.0",
      "model_name": "HTMLModel",
      "state": {
       "layout": "IPY_MODEL_ab1ad38676914bc2ae28885fa670292d",
       "style": "IPY_MODEL_00c953a416374fdbbbe3f589d700628a",
       "value": "<b>Documentation: </b>http://pandas.pydata.org/pandas-docs/stable/generated/pandas.concat.html"
      }
     },
     "5fbfbbf867f846f283e54395b7b06bbe": {
      "model_module": "@jupyter-widgets/controls",
      "model_module_version": "1.5.0",
      "model_name": "DropdownModel",
      "state": {
       "_options_labels": [
        "ConvertFile"
       ],
       "description": "Function:",
       "index": 0,
       "layout": "IPY_MODEL_221fd29559ab46e697cbb71f7ba37349",
       "style": "IPY_MODEL_3a5310c6518e45d8ac03d93ca49e6a04"
      }
     },
     "6026267690ae4bfb94ad3e2b66be21eb": {
      "model_module": "@jupyter-widgets/base",
      "model_module_version": "1.2.0",
      "model_name": "LayoutModel",
      "state": {}
     },
     "60512cae7cb846b6a8aa83cd85478d4d": {
      "model_module": "@jupyter-widgets/base",
      "model_module_version": "1.2.0",
      "model_name": "LayoutModel",
      "state": {}
     },
     "606d558413774a2eabeee08a4d82c768": {
      "model_module": "@jupyter-widgets/base",
      "model_module_version": "1.2.0",
      "model_name": "LayoutModel",
      "state": {}
     },
     "607313fba49245ddbc773c1614c1b749": {
      "model_module": "@jupyter-widgets/base",
      "model_module_version": "1.2.0",
      "model_name": "LayoutModel",
      "state": {}
     },
     "607bb0ad9bb04d80b6e06d29f0d19911": {
      "model_module": "@jupyter-widgets/controls",
      "model_module_version": "1.5.0",
      "model_name": "HBoxModel",
      "state": {
       "children": [
        "IPY_MODEL_90462d0d2fa44602bc3a94903b1f9f0a",
        "IPY_MODEL_7f4462c22328432a97e2c59d5a9e3eb8",
        "IPY_MODEL_ff35325298364dde88a70bf10bbd8087"
       ],
       "layout": "IPY_MODEL_3cd6d0796e464ba5b7d1b4ec3f685a89"
      }
     },
     "608d26f4cf534f5b9c4983d80578f3fb": {
      "model_module": "@jupyter-widgets/controls",
      "model_module_version": "1.5.0",
      "model_name": "HTMLModel",
      "state": {
       "layout": "IPY_MODEL_3a84fdaa1ef443dc9afd45f8a5b39858",
       "style": "IPY_MODEL_cbca6b2d50ce4a33938b142b9904e25c",
       "value": "<b> Send >>> </b>"
      }
     },
     "60a0e77827654b668c447ed345274368": {
      "model_module": "@jupyter-widgets/controls",
      "model_module_version": "1.5.0",
      "model_name": "ButtonStyleModel",
      "state": {
       "button_color": "lightblue"
      }
     },
     "60cf6a9897f84515a59157740c653983": {
      "model_module": "@jupyter-widgets/controls",
      "model_module_version": "1.5.0",
      "model_name": "HTMLModel",
      "state": {
       "layout": "IPY_MODEL_2a6c5e7992b1451b9616c8795bb4cae5",
       "style": "IPY_MODEL_db39a5326ec9402287c630230dfdcb7a",
       "value": "<b> Note: </b> This page automatically avoid: (1) loops, (2) type inconsistency, and (3) more than one input per token."
      }
     },
     "60e82e6503874b0381e6320e5e178fa1": {
      "model_module": "@jupyter-widgets/controls",
      "model_module_version": "1.5.0",
      "model_name": "ButtonStyleModel",
      "state": {
       "button_color": "lightblue"
      }
     },
     "61104aad3ae3484e975a3ef78f42e2d5": {
      "model_module": "@jupyter-widgets/controls",
      "model_module_version": "1.5.0",
      "model_name": "HBoxModel",
      "state": {
       "children": [
        "IPY_MODEL_af166ec1ffe44d17b8b7b7b449404250",
        "IPY_MODEL_88b4601662e640ed998c9e7ea59863db"
       ],
       "layout": "IPY_MODEL_36cdfe076b834b7ab889675a8d35933d"
      }
     },
     "611a91d847ed45dfb59184d3eb185a42": {
      "model_module": "@jupyter-widgets/controls",
      "model_module_version": "1.5.0",
      "model_name": "HBoxModel",
      "state": {
       "children": [
        "IPY_MODEL_457015389f844cc39dfe5c314cb99ffc",
        "IPY_MODEL_f5e7c044038d46039915a57428247331"
       ],
       "layout": "IPY_MODEL_0d5e206c389540f98dc6ccab79353888"
      }
     },
     "6121807c3ea54bd695cb5aad79904857": {
      "model_module": "@jupyter-widgets/base",
      "model_module_version": "1.2.0",
      "model_name": "LayoutModel",
      "state": {
       "width": "140px"
      }
     },
     "613d9f62ad5b47e7b53be7601fb02a16": {
      "model_module": "@jupyter-widgets/base",
      "model_module_version": "1.2.0",
      "model_name": "LayoutModel",
      "state": {
       "margin": "10px 0px 10px 180px",
       "width": "110px"
      }
     },
     "6157d72f159245f49bb15c9cbc75759d": {
      "model_module": "@jupyter-widgets/controls",
      "model_module_version": "1.5.0",
      "model_name": "ButtonStyleModel",
      "state": {
       "button_color": "lightblue"
      }
     },
     "619e188f38db4b938d38ceb6503aa039": {
      "model_module": "@jupyter-widgets/base",
      "model_module_version": "1.2.0",
      "model_name": "LayoutModel",
      "state": {}
     },
     "61cc8a72151640c1b1d2ab9320d84319": {
      "model_module": "@jupyter-widgets/controls",
      "model_module_version": "1.5.0",
      "model_name": "DescriptionStyleModel",
      "state": {
       "description_width": ""
      }
     },
     "61eb4174b6474597800f736f2b50e245": {
      "model_module": "@jupyter-widgets/base",
      "model_module_version": "1.2.0",
      "model_name": "LayoutModel",
      "state": {}
     },
     "61fa8f68e3c549a39a879dc3095bfa81": {
      "model_module": "@jupyter-widgets/controls",
      "model_module_version": "1.5.0",
      "model_name": "TextModel",
      "state": {
       "description": "ignore_index",
       "layout": "IPY_MODEL_98b0d9d486bb4ed8a010ab42c841493e",
       "placeholder": "[]",
       "style": "IPY_MODEL_df089f5a0f6949799a8cb44e439cfca7",
       "value": "False"
      }
     },
     "620cd7d336084e1896c0b12d7e3d19ce": {
      "model_module": "@jupyter-widgets/controls",
      "model_module_version": "1.5.0",
      "model_name": "ButtonModel",
      "state": {
       "icon": "refresh",
       "layout": "IPY_MODEL_26b923054691429ebe8e74c40b855d12",
       "style": "IPY_MODEL_e2f99905ec23477c8f5b2a7df707d308"
      }
     },
     "622c20fcbf6f4f8092c8568522283856": {
      "model_module": "@jupyter-widgets/controls",
      "model_module_version": "1.5.0",
      "model_name": "HBoxModel",
      "state": {
       "children": [
        "IPY_MODEL_ef88bf7b4db64a6fbb69f361f1f96904",
        "IPY_MODEL_944ca1b7d3984fd0bd3ce8595476449e",
        "IPY_MODEL_910791f54d30449f93091689aaa5c68f",
        "IPY_MODEL_7159cca599c34fc58507b487c6c6219a"
       ],
       "layout": "IPY_MODEL_d69915468cbb4ab9b0cfca3cb6ca66a6"
      }
     },
     "6240743bcf094ff785f3fec75604ab21": {
      "model_module": "@jupyter-widgets/base",
      "model_module_version": "1.2.0",
      "model_name": "LayoutModel",
      "state": {
       "margin": "10px 0px 10px 0px",
       "width": "50%"
      }
     },
     "624d709895be471d967bc3bc4b57e124": {
      "model_module": "@jupyter-widgets/controls",
      "model_module_version": "1.5.0",
      "model_name": "ButtonModel",
      "state": {
       "description": "Select",
       "layout": "IPY_MODEL_feed426db5a240529a6a34426ed3c16e",
       "style": "IPY_MODEL_3a433b41c38c44ee92c5ed902bf2c5af"
      }
     },
     "6257cab17a0e44afbc92186e51c6470d": {
      "model_module": "@jupyter-widgets/controls",
      "model_module_version": "1.5.0",
      "model_name": "DescriptionStyleModel",
      "state": {
       "description_width": ""
      }
     },
     "6265dac9f47b4673a04142e51bdd8706": {
      "model_module": "@jupyter-widgets/controls",
      "model_module_version": "1.5.0",
      "model_name": "ButtonModel",
      "state": {
       "description": "Add",
       "layout": "IPY_MODEL_45972270576c4f7487d09887d8c85b24",
       "style": "IPY_MODEL_8f3ac40720804a34bf37b7a9003177c2"
      }
     },
     "6314113a68eb4000a1526446811dfe91": {
      "model_module": "@jupyter-widgets/base",
      "model_module_version": "1.2.0",
      "model_name": "LayoutModel",
      "state": {}
     },
     "6320fb6ec3f2407995da63971f2251a9": {
      "model_module": "@jupyter-widgets/base",
      "model_module_version": "1.2.0",
      "model_name": "LayoutModel",
      "state": {
       "width": "100%"
      }
     },
     "632a54e684f4473eb9af6d561cf3d839": {
      "model_module": "@jupyter-widgets/base",
      "model_module_version": "1.2.0",
      "model_name": "LayoutModel",
      "state": {}
     },
     "6333df667dfb4c56894f5d6054a4af57": {
      "model_module": "@jupyter-widgets/controls",
      "model_module_version": "1.5.0",
      "model_name": "ButtonModel",
      "state": {
       "icon": "refresh",
       "layout": "IPY_MODEL_a8c81c71c3924efc9d72da09458d6bf3",
       "style": "IPY_MODEL_d2dbddaa5a004dd98f095856c9f7f414"
      }
     },
     "633674f79f7442d588b72e11384af045": {
      "model_module": "@jupyter-widgets/controls",
      "model_module_version": "1.5.0",
      "model_name": "HTMLModel",
      "state": {
       "layout": "IPY_MODEL_86783a4b8c254ef398144428ca00ff18",
       "style": "IPY_MODEL_13fa1b055cdc4b97a5163a05802c41f7",
       "value": "<b> Datasets Overview: </b>"
      }
     },
     "63444e18be3b41d3bdbf8b4d6b3fdb03": {
      "model_module": "@jupyter-widgets/base",
      "model_module_version": "1.2.0",
      "model_name": "LayoutModel",
      "state": {}
     },
     "6347bb1f45054c39912c47f75786b3d8": {
      "model_module": "@jupyter-widgets/base",
      "model_module_version": "1.2.0",
      "model_name": "LayoutModel",
      "state": {
       "align_items": "center",
       "border": "dotted black 1px",
       "height": "40px",
       "margin": "0px 0px 0px 10px"
      }
     },
     "637263f699de4ac7a91ec1d76da2460b": {
      "model_module": "@jupyter-widgets/controls",
      "model_module_version": "1.5.0",
      "model_name": "HBoxModel",
      "state": {
       "children": [
        "IPY_MODEL_3fb23c845d2d462f915913c0c6efbfd3",
        "IPY_MODEL_fdc774faad6047bda4680ccde1e17399",
        "IPY_MODEL_0a6953f7386045b085dc702a0b15cada"
       ],
       "layout": "IPY_MODEL_368fe83b892745e9a332c1b4cc8593d4"
      }
     },
     "637bfac063954004b7ed1002dd158d1b": {
      "model_module": "@jupyter-widgets/controls",
      "model_module_version": "1.5.0",
      "model_name": "TextModel",
      "state": {
       "description": "line10",
       "layout": "IPY_MODEL_bf48f3f34720415fae9c6c6d1af0c920",
       "placeholder": "[]",
       "style": "IPY_MODEL_d7ec06771ad24723b56b41ee19c05984",
       "value": "type python code"
      }
     },
     "639009e5fab748fe8a568b42a5785b19": {
      "model_module": "@jupyter-widgets/controls",
      "model_module_version": "1.5.0",
      "model_name": "BoxModel",
      "state": {
       "children": [
        "IPY_MODEL_3774242ce17a4cab850473d2caf7b22f"
       ],
       "layout": "IPY_MODEL_42e25b180a384159a751fc91b3f8df67"
      }
     },
     "639745edce1d47d498cf11f1e90983da": {
      "model_module": "@jupyter-widgets/controls",
      "model_module_version": "1.5.0",
      "model_name": "HTMLModel",
      "state": {
       "layout": "IPY_MODEL_75db024e37cf402997bdc3b3033b006a",
       "style": "IPY_MODEL_66a0e8e77184486ba130f4fc593737ce",
       "value": "<b>Documentation: </b>"
      }
     },
     "6397eb55bb6f4f95878988837e8bb8b7": {
      "model_module": "@jupyter-widgets/controls",
      "model_module_version": "1.5.0",
      "model_name": "TextModel",
      "state": {
       "description": "join_axes",
       "layout": "IPY_MODEL_b949f3e7bb764d7c9c5ecb79613d4988",
       "placeholder": "[]",
       "style": "IPY_MODEL_db04c751e4bf4550827d676ecf8745a0",
       "value": "None"
      }
     },
     "639e09baa7704a32ba740c39a39616a8": {
      "model_module": "@jupyter-widgets/controls",
      "model_module_version": "1.5.0",
      "model_name": "SelectMultipleModel",
      "state": {
       "index": [],
       "layout": "IPY_MODEL_b1b9e8030a73491d9c03dcef7f68fd7a",
       "rows": 5,
       "style": "IPY_MODEL_fbbe4bbf4fd64267b63d50ed04b67c20"
      }
     },
     "63b20d7de6d447039dee46e82cabd1e5": {
      "model_module": "@jupyter-widgets/controls",
      "model_module_version": "1.5.0",
      "model_name": "ButtonModel",
      "state": {
       "icon": "refresh",
       "layout": "IPY_MODEL_77e2c34fa32343e28def4429f0bfe5c8",
       "style": "IPY_MODEL_8887c72fe33b4f52824d1bd19845b848"
      }
     },
     "63c83ff8b4ac444e9736519b79b9fcf7": {
      "model_module": "@jupyter-widgets/base",
      "model_module_version": "1.2.0",
      "model_name": "LayoutModel",
      "state": {
       "width": "50%"
      }
     },
     "63ee21d3919e4b659f60b0e8dbeb4350": {
      "model_module": "@jupyter-widgets/controls",
      "model_module_version": "1.5.0",
      "model_name": "ButtonModel",
      "state": {
       "description": "Default values",
       "layout": "IPY_MODEL_5f5ad320b1ff417c9851438431188cc9",
       "style": "IPY_MODEL_af724c3ff4af40108779503a3e8b3ebe"
      }
     },
     "64003c710b95485ab6aba51a6611faa0": {
      "model_module": "@jupyter-widgets/base",
      "model_module_version": "1.2.0",
      "model_name": "LayoutModel",
      "state": {
       "align_content": "center",
       "justify_content": "center"
      }
     },
     "64d7cc16cddd423c9429b9dc08076706": {
      "model_module": "@jupyter-widgets/controls",
      "model_module_version": "1.5.0",
      "model_name": "DescriptionStyleModel",
      "state": {
       "description_width": "initial"
      }
     },
     "64dc9f0d72c44c86b4d84a934b9d71f9": {
      "model_module": "@jupyter-widgets/controls",
      "model_module_version": "1.5.0",
      "model_name": "ToggleButtonsModel",
      "state": {
       "_options_labels": [
        "Enter",
        "datasets",
        "chemml",
        "load_crystal_structures"
       ],
       "button_style": "info",
       "icons": [],
       "index": 0,
       "layout": "IPY_MODEL_08a8da5506564770a3bccfee9fb14eae",
       "style": "IPY_MODEL_ff66959b8aba4fc495b5185ea603c3ae",
       "tooltips": []
      }
     },
     "64e26a1e949943858f229a49607a1d55": {
      "model_module": "@jupyter-widgets/controls",
      "model_module_version": "1.5.0",
      "model_name": "ButtonModel",
      "state": {
       "description": "Remove block",
       "layout": "IPY_MODEL_e40137d7a9db42c983a8c4ae96c5fe81",
       "style": "IPY_MODEL_7a9ac551b7e44a879776a9c044521d00"
      }
     },
     "64ec816883d040de8161fc4888bf4658": {
      "model_module": "@jupyter-widgets/base",
      "model_module_version": "1.2.0",
      "model_name": "LayoutModel",
      "state": {
       "margin": "10px 0px 0px 0px",
       "width": "120px"
      }
     },
     "64ed734f9ae64e708f2f48d2e9f36a6e": {
      "model_module": "@jupyter-widgets/base",
      "model_module_version": "1.2.0",
      "model_name": "LayoutModel",
      "state": {
       "align_content": "center",
       "justify_content": "center"
      }
     },
     "650cfa7622ca4a0ca7d8306c58215da9": {
      "model_module": "@jupyter-widgets/controls",
      "model_module_version": "1.5.0",
      "model_name": "TabModel",
      "state": {
       "_titles": {
        "0": "Parameters",
        "1": "Input/Output"
       },
       "children": [
        "IPY_MODEL_2f981a46c8c94b2b8e816155fe25216a",
        "IPY_MODEL_daf258547edf484d96c53c29e4f33354"
       ],
       "layout": "IPY_MODEL_df03d4616e3b4a7f80ae19b49e0d576e"
      }
     },
     "65150d322101499d999fa6efbb7e0ac6": {
      "model_module": "@jupyter-widgets/controls",
      "model_module_version": "1.5.0",
      "model_name": "HTMLModel",
      "state": {
       "layout": "IPY_MODEL_42bc4418c8484d5fb5a56d09dd32492e",
       "style": "IPY_MODEL_9f7ed06132f042d0a774b15b7d984ad5",
       "value": "<b> >>> </b>"
      }
     },
     "6560f47837a449e4a5eed00fc8dab26f": {
      "model_module": "@jupyter-widgets/controls",
      "model_module_version": "1.5.0",
      "model_name": "HBoxModel",
      "state": {
       "children": [
        "IPY_MODEL_a0ecc383a51241b793b7f8fd1f43b473"
       ],
       "layout": "IPY_MODEL_da96641344dc442a9288ab6da524fd32"
      }
     },
     "6593e4c3c94b430ca07e3c1d6a1a931a": {
      "model_module": "@jupyter-widgets/controls",
      "model_module_version": "1.5.0",
      "model_name": "ToggleButtonsModel",
      "state": {
       "_options_labels": [
        "Represent",
        "inorganic descriptors",
        "chemml",
        "CoordinationNumberAttributeGenerator"
       ],
       "button_style": "info",
       "icons": [],
       "index": 0,
       "layout": "IPY_MODEL_853a2aeabd0e4ae7862592462e20d41b",
       "style": "IPY_MODEL_97a25681a71143c1a9b212c6c64aeeec",
       "tooltips": []
      }
     },
     "659e2ec928f84e82a47bd5fc193e995b": {
      "model_module": "@jupyter-widgets/controls",
      "model_module_version": "1.5.0",
      "model_name": "TextModel",
      "state": {
       "description": "Output directory:",
       "layout": "IPY_MODEL_a762ec26354f467cbc8d94f10fc5f50f",
       "placeholder": "Type something",
       "style": "IPY_MODEL_c03a5affbfb644f890437b5692d735eb",
       "value": "CMLWrapper_out"
      }
     },
     "65b1635e65f140549c84ab4f58ee0721": {
      "model_module": "@jupyter-widgets/controls",
      "model_module_version": "1.5.0",
      "model_name": "DescriptionStyleModel",
      "state": {
       "description_width": ""
      }
     },
     "65d680981b964153998c67069387bc89": {
      "model_module": "@jupyter-widgets/controls",
      "model_module_version": "1.5.0",
      "model_name": "HBoxModel",
      "state": {
       "children": [
        "IPY_MODEL_6560f47837a449e4a5eed00fc8dab26f",
        "IPY_MODEL_a9ed7e058e954e2799b745611aadaac6",
        "IPY_MODEL_e59419ff62bc4e54adbb084c85a5f2b7",
        "IPY_MODEL_f2fc5ced742d469d9396086e6cfbce41"
       ],
       "layout": "IPY_MODEL_89408a011fc44c75ac0cff1473d7dfba"
      }
     },
     "6635758b45a4468ca85659098dfb7408": {
      "model_module": "@jupyter-widgets/controls",
      "model_module_version": "1.5.0",
      "model_name": "ToggleButtonsStyleModel",
      "state": {
       "button_width": "",
       "description_width": ""
      }
     },
     "664d64b06e31440f9205288e98827114": {
      "model_module": "@jupyter-widgets/base",
      "model_module_version": "1.2.0",
      "model_name": "LayoutModel",
      "state": {
       "align_content": "center",
       "justify_content": "center"
      }
     },
     "66706741326444b48f3ba35f51e32053": {
      "model_module": "@jupyter-widgets/controls",
      "model_module_version": "1.5.0",
      "model_name": "TextModel",
      "state": {
       "description": "Type:",
       "disabled": true,
       "layout": "IPY_MODEL_30e202e046a0460db7fd603d07b13630",
       "style": "IPY_MODEL_310377625989403682f90dfb62e42875"
      }
     },
     "6670e53555a141d98e28c52f20f27eaa": {
      "model_module": "@jupyter-widgets/controls",
      "model_module_version": "1.5.0",
      "model_name": "ButtonModel",
      "state": {
       "description": "Select",
       "layout": "IPY_MODEL_031d4dda5c83475ca13ad6021a5f7c49",
       "style": "IPY_MODEL_082276b923e248c8b1195405d696b756"
      }
     },
     "66771b7fb41d48fe862d1e20b84067d0": {
      "model_module": "@jupyter-widgets/controls",
      "model_module_version": "1.5.0",
      "model_name": "HBoxModel",
      "state": {
       "children": [
        "IPY_MODEL_977ae31445084a3091a36014546805c4",
        "IPY_MODEL_fc54a8a2d6e34cfa849354f2f0083a4b",
        "IPY_MODEL_fa4c4528efb147c0a0e3794f2aae1f7d"
       ],
       "layout": "IPY_MODEL_68794ff344514410b88dcd4734452cde"
      }
     },
     "66a0e8e77184486ba130f4fc593737ce": {
      "model_module": "@jupyter-widgets/controls",
      "model_module_version": "1.5.0",
      "model_name": "DescriptionStyleModel",
      "state": {
       "description_width": ""
      }
     },
     "66a68bd91f1d4c0eb38462fc2a20b6d4": {
      "model_module": "@jupyter-widgets/controls",
      "model_module_version": "1.5.0",
      "model_name": "DescriptionStyleModel",
      "state": {
       "description_width": "initial"
      }
     },
     "6714db8cd6b744eba19dbec3dd51e0ec": {
      "model_module": "@jupyter-widgets/controls",
      "model_module_version": "1.5.0",
      "model_name": "SelectMultipleModel",
      "state": {
       "index": [],
       "layout": "IPY_MODEL_3a2cdac6e8cc415eb4eefca38aa06f13",
       "rows": 5,
       "style": "IPY_MODEL_b2da9439c059480588ab20399341af1d"
      }
     },
     "6717d80173314927a79c76cee5184d40": {
      "model_module": "@jupyter-widgets/controls",
      "model_module_version": "1.5.0",
      "model_name": "VBoxModel",
      "state": {
       "children": [
        "IPY_MODEL_1bd5f5bc2182472db43459edd5494305"
       ],
       "layout": "IPY_MODEL_2579e965d2ad4077bc982047ea733a4b"
      }
     },
     "6725574816ef4744b1062b8c95383128": {
      "model_module": "@jupyter-widgets/controls",
      "model_module_version": "1.5.0",
      "model_name": "DropdownModel",
      "state": {
       "_options_labels": [
        "entries"
       ],
       "description": "output token:",
       "index": 0,
       "layout": "IPY_MODEL_7dfcee4bc0df4898ab26367dba559f76",
       "style": "IPY_MODEL_abb42997fe154f21806c1db8acf5a8e7"
      }
     },
     "67311463ad244de78fdb3b69539c7f07": {
      "model_module": "@jupyter-widgets/controls",
      "model_module_version": "1.5.0",
      "model_name": "HTMLModel",
      "state": {
       "layout": "IPY_MODEL_9ca3cd1b917844618699e4d1a8244923",
       "style": "IPY_MODEL_267f8db537fa49aea97d55b2fe56524c",
       "value": "<b>Requirements:  </b>(('ChemML', '0.6'), ('pandas', '1.1.3'))"
      }
     },
     "674f4afd71e84a5ba0e67c67774f3d0b": {
      "model_module": "@jupyter-widgets/base",
      "model_module_version": "1.2.0",
      "model_name": "LayoutModel",
      "state": {
       "margin": "10px 0px 10px 0px",
       "width": "50%"
      }
     },
     "676507de1444489ca9c75ce2b8f60471": {
      "model_module": "@jupyter-widgets/base",
      "model_module_version": "1.2.0",
      "model_name": "LayoutModel",
      "state": {
       "width": "40%"
      }
     },
     "676826bb09ec4c5e95c67b147ead472e": {
      "model_module": "@jupyter-widgets/base",
      "model_module_version": "1.2.0",
      "model_name": "LayoutModel",
      "state": {}
     },
     "6783c2aa7572494d857b9772b6373ba9": {
      "model_module": "@jupyter-widgets/controls",
      "model_module_version": "1.5.0",
      "model_name": "HBoxModel",
      "state": {
       "children": [
        "IPY_MODEL_6827b75e277e4391bfd10da433b59b9a",
        "IPY_MODEL_dc0dcd8aa95e4680b0322b898738f6de"
       ],
       "layout": "IPY_MODEL_9879dccdee9842ff990fc9d122909bcd"
      }
     },
     "678b512e56a042bc9da974f2ade6ceb5": {
      "model_module": "@jupyter-widgets/controls",
      "model_module_version": "1.5.0",
      "model_name": "ButtonStyleModel",
      "state": {
       "button_color": "lightblue"
      }
     },
     "67d700c8e4be443497f6772597c96cd1": {
      "model_module": "@jupyter-widgets/base",
      "model_module_version": "1.2.0",
      "model_name": "LayoutModel",
      "state": {
       "margin": "20px 0px 0px 0px",
       "width": "50%"
      }
     },
     "6803de0cc8e74988a62a36c8571b4cb1": {
      "model_module": "@jupyter-widgets/controls",
      "model_module_version": "1.5.0",
      "model_name": "LabelModel",
      "state": {
       "layout": "IPY_MODEL_d36570ffd14e4634adff52c8034f9a34",
       "style": "IPY_MODEL_94f3f013f7434467967b4fd160ed6262",
       "value": "Template 1: A simple machine learning model workflow"
      }
     },
     "68050259d96241ea975caaca79c3d8b1": {
      "model_module": "@jupyter-widgets/controls",
      "model_module_version": "1.5.0",
      "model_name": "TabModel",
      "state": {
       "_titles": {
        "0": "New script",
        "1": "Existing script",
        "2": "Template workflow"
       },
       "children": [
        "IPY_MODEL_da6066eefa9b46999118398130f3646d",
        "IPY_MODEL_c8c34187c9fa4e2aa7bad989841a45bc",
        "IPY_MODEL_6b2cbe8226ed435e9dc98d04fbe992d1"
       ],
       "layout": "IPY_MODEL_42ae6aa62df84caa8b00c7ada5f16416",
       "selected_index": 2
      }
     },
     "680c8918bcfc48bd8e1913cd986a556e": {
      "model_module": "@jupyter-widgets/base",
      "model_module_version": "1.2.0",
      "model_name": "LayoutModel",
      "state": {}
     },
     "68192d4b55184627969abdcbdd4fec6b": {
      "model_module": "@jupyter-widgets/controls",
      "model_module_version": "1.5.0",
      "model_name": "VBoxModel",
      "state": {
       "children": [
        "IPY_MODEL_6c738817a71243f59e98a25bc7cd22f0",
        "IPY_MODEL_9980424639ed4be490f7001805f25f5e",
        "IPY_MODEL_cf3645b27dbc436982709444c16296dd",
        "IPY_MODEL_d7d4c8bc50b44737a6fa6875f2bd9c60",
        "IPY_MODEL_7bf0555fa3c34d209d13e577fae04546"
       ],
       "layout": "IPY_MODEL_2efa4aeda4e54c3d8b41b1cd59aaffe2"
      }
     },
     "6827b75e277e4391bfd10da433b59b9a": {
      "model_module": "@jupyter-widgets/controls",
      "model_module_version": "1.5.0",
      "model_name": "LabelModel",
      "state": {
       "layout": "IPY_MODEL_3128d3e53436455889365148a42dd81a",
       "style": "IPY_MODEL_8890d690898c4384973f9531d94b3edc",
       "value": "Template 1: load excel sheet with SMILES codes in first column --> save them --> generate Morgan Fingerprints \n --> save features"
      }
     },
     "6838c7b1df9c4052800ce80184ef9f89": {
      "model_module": "@jupyter-widgets/base",
      "model_module_version": "1.2.0",
      "model_name": "LayoutModel",
      "state": {
       "margin": "0px 0px 0px 10px"
      }
     },
     "684f62ffb188450597ee11bceecf5c1d": {
      "model_module": "@jupyter-widgets/controls",
      "model_module_version": "1.5.0",
      "model_name": "DescriptionStyleModel",
      "state": {
       "description_width": ""
      }
     },
     "68614d5340a043f1b825fd8633f0b8b3": {
      "model_module": "@jupyter-widgets/base",
      "model_module_version": "1.2.0",
      "model_name": "LayoutModel",
      "state": {}
     },
     "6875291df9074641aecf48fda0f5cb54": {
      "model_module": "@jupyter-widgets/base",
      "model_module_version": "1.2.0",
      "model_name": "LayoutModel",
      "state": {}
     },
     "68794ff344514410b88dcd4734452cde": {
      "model_module": "@jupyter-widgets/base",
      "model_module_version": "1.2.0",
      "model_name": "LayoutModel",
      "state": {}
     },
     "68a7d070a76446668af6a2395edffeb2": {
      "model_module": "@jupyter-widgets/base",
      "model_module_version": "1.2.0",
      "model_name": "LayoutModel",
      "state": {
       "margin": "0px 0px 0px 180px"
      }
     },
     "68abedda4d7740b69f102eb137c75c61": {
      "model_module": "@jupyter-widgets/controls",
      "model_module_version": "1.5.0",
      "model_name": "ButtonModel",
      "state": {
       "description": "Remove pipe",
       "icon": "remove",
       "layout": "IPY_MODEL_7c496e53f720445baac11fbdb3e8b53a",
       "style": "IPY_MODEL_b053786f8ab447de9eb21f48543e311a"
      }
     },
     "68ae28bd1e8c4e14a0c61f15a6cbcc3c": {
      "model_module": "@jupyter-widgets/controls",
      "model_module_version": "1.5.0",
      "model_name": "ButtonModel",
      "state": {
       "description": "Remove pipe",
       "icon": "remove",
       "layout": "IPY_MODEL_089204c56fc74fde96dfaa96737b5e6e",
       "style": "IPY_MODEL_cef15ee331d04007927aeef95b1795a1"
      }
     },
     "68b495dd2bc5483ab3f96e7902776dc8": {
      "model_module": "@jupyter-widgets/controls",
      "model_module_version": "1.5.0",
      "model_name": "HTMLModel",
      "state": {
       "layout": "IPY_MODEL_4c504ffaef4041aab8adf728b2248d3d",
       "style": "IPY_MODEL_353fd4e88db94a7eb28b15e13343ed94",
       "value": "<b> Note: </b> This page automatically avoid: (1) loops, (2) type inconsistency, and (3) more than one input per token."
      }
     },
     "68da055567ca4942832e61475fa74a4c": {
      "model_module": "@jupyter-widgets/controls",
      "model_module_version": "1.5.0",
      "model_name": "DescriptionStyleModel",
      "state": {
       "description_width": "initial"
      }
     },
     "68f5e8617bec49a9819c5e86e41347da": {
      "model_module": "@jupyter-widgets/controls",
      "model_module_version": "1.5.0",
      "model_name": "HTMLModel",
      "state": {
       "layout": "IPY_MODEL_255fa28e3c2c41cc89bf2f794a348f9a",
       "style": "IPY_MODEL_15811001b3a0492dbf2b9b776713f049",
       "value": "<b>Function parameters:</b>"
      }
     },
     "69306e6cce944608a5cea1b1a3d6e729": {
      "model_module": "@jupyter-widgets/base",
      "model_module_version": "1.2.0",
      "model_name": "LayoutModel",
      "state": {
       "width": "50%"
      }
     },
     "6935db443e844b01a548abfd7a1fd418": {
      "model_module": "@jupyter-widgets/controls",
      "model_module_version": "1.5.0",
      "model_name": "TextModel",
      "state": {
       "description": "line17",
       "layout": "IPY_MODEL_4fabf17114c54b3b891bba08876944ea",
       "placeholder": "[]",
       "style": "IPY_MODEL_a83d57d774e34340a38bab15380d1ff0",
       "value": "type python code"
      }
     },
     "69575986f27d46ad983373957270b254": {
      "model_module": "@jupyter-widgets/base",
      "model_module_version": "1.2.0",
      "model_name": "LayoutModel",
      "state": {
       "margin": "0px 0px 0px 10px"
      }
     },
     "6957d1af8f714a8f9935a8126236af47": {
      "model_module": "@jupyter-widgets/base",
      "model_module_version": "1.2.0",
      "model_name": "LayoutModel",
      "state": {
       "width": "40%"
      }
     },
     "69c8b64ae78a442e9378c771df4bd5d0": {
      "model_module": "@jupyter-widgets/controls",
      "model_module_version": "1.5.0",
      "model_name": "ButtonStyleModel",
      "state": {
       "button_color": "lightblue"
      }
     },
     "69e18b47cd6c4279992d0d16cd0b108f": {
      "model_module": "@jupyter-widgets/controls",
      "model_module_version": "1.5.0",
      "model_name": "HTMLModel",
      "state": {
       "layout": "IPY_MODEL_299af0092d9341449eef44eab05f3c7e",
       "style": "IPY_MODEL_b98e7413119945bd8b2705b5ed2b0917",
       "value": "<b> <<< </b>"
      }
     },
     "6a3c33c15de64ca490439f577e0e3c96": {
      "model_module": "@jupyter-widgets/controls",
      "model_module_version": "1.5.0",
      "model_name": "DescriptionStyleModel",
      "state": {
       "description_width": ""
      }
     },
     "6a4b6f305d9f40329222f43e88923e15": {
      "model_module": "@jupyter-widgets/controls",
      "model_module_version": "1.5.0",
      "model_name": "HBoxModel",
      "state": {
       "children": [
        "IPY_MODEL_250fd1e40de141da96674e6e645fe9bc",
        "IPY_MODEL_db0d5db5e7fa48c7a4b4d58df6dfeede"
       ],
       "layout": "IPY_MODEL_580da18c00be4d21898701c14ac8a27a"
      }
     },
     "6a68fa39bf7842d8b89b273a7590eb57": {
      "model_module": "@jupyter-widgets/controls",
      "model_module_version": "1.5.0",
      "model_name": "ButtonStyleModel",
      "state": {
       "button_color": "lightblue"
      }
     },
     "6a8160298bf048b788e26834f499e9ea": {
      "model_module": "@jupyter-widgets/controls",
      "model_module_version": "1.5.0",
      "model_name": "DescriptionStyleModel",
      "state": {
       "description_width": ""
      }
     },
     "6a89d98ea94540a9a0b70e4d7d055d70": {
      "model_module": "@jupyter-widgets/base",
      "model_module_version": "1.2.0",
      "model_name": "LayoutModel",
      "state": {
       "width": "140px"
      }
     },
     "6a9a304a0d344602993ea4a6b8472df3": {
      "model_module": "@jupyter-widgets/base",
      "model_module_version": "1.2.0",
      "model_name": "LayoutModel",
      "state": {}
     },
     "6aab76dd32ad46819bb38fb300380e0d": {
      "model_module": "@jupyter-widgets/controls",
      "model_module_version": "1.5.0",
      "model_name": "CheckboxModel",
      "state": {
       "description": "Check to set",
       "disabled": false,
       "indent": false,
       "layout": "IPY_MODEL_3d44dc2d2eb643f8a4ec1a688a0cfbd6",
       "style": "IPY_MODEL_056d0f08b7ba47c78879f263ecc0cb71",
       "value": false
      }
     },
     "6ab661147e574a24a3729557780c9266": {
      "model_module": "@jupyter-widgets/controls",
      "model_module_version": "1.5.0",
      "model_name": "DescriptionStyleModel",
      "state": {
       "description_width": ""
      }
     },
     "6b00f8c366e54a338a5965c5286380d2": {
      "model_module": "@jupyter-widgets/controls",
      "model_module_version": "1.5.0",
      "model_name": "ButtonStyleModel",
      "state": {
       "button_color": "lightblue"
      }
     },
     "6b1070eb500a40a688a9f424c1de1330": {
      "model_module": "@jupyter-widgets/controls",
      "model_module_version": "1.5.0",
      "model_name": "BoxModel",
      "state": {
       "children": [
        "IPY_MODEL_ce77ec04e4d9496b86a33112371112d1"
       ],
       "layout": "IPY_MODEL_805d0cc5413d4b1dae324adc6acc1784"
      }
     },
     "6b2cbe8226ed435e9dc98d04fbe992d1": {
      "model_module": "@jupyter-widgets/controls",
      "model_module_version": "1.5.0",
      "model_name": "VBoxModel",
      "state": {
       "children": [
        "IPY_MODEL_a3a8f4d93d954bec9906031e16d1f3b6",
        "IPY_MODEL_633674f79f7442d588b72e11384af045",
        "IPY_MODEL_57ec2b6420d04c2880246d745daa6645",
        "IPY_MODEL_f126e8bd6123484fa5bc553bee8a615c",
        "IPY_MODEL_37c09584c0a7483ba411c811ea9211a8",
        "IPY_MODEL_41265503364548abb70771ca6a76ff3a",
        "IPY_MODEL_8e1c96285f1144849ab27764959c1763",
        "IPY_MODEL_6a4b6f305d9f40329222f43e88923e15",
        "IPY_MODEL_d172da2ed3a1484f8e4da6ab35e01313",
        "IPY_MODEL_e0bb45402f2443fea41c5e19407946c0",
        "IPY_MODEL_7b60ecada9ba4a359142e9ce2f03fe2f",
        "IPY_MODEL_f8d6c4d6c82546b9b42a7b23acba70bc",
        "IPY_MODEL_8678aa9d39a04628adbe07cc864f51d2",
        "IPY_MODEL_182cb88c04d84f09869b165b7adc7a51",
        "IPY_MODEL_6783c2aa7572494d857b9772b6373ba9",
        "IPY_MODEL_4b4aad001b9a468492d0053c573b839c",
        "IPY_MODEL_414394d356a64bc6b1d6de8dbbf08b87",
        "IPY_MODEL_c8ef27b33f3c459aaa73aa1198a4bb68",
        "IPY_MODEL_1b92a22f515f4d3d96fc7f00813ea50f"
       ],
       "layout": "IPY_MODEL_03160f85ca154fafaf121f1ee08af8d6"
      }
     },
     "6b59f46f9b6b46dfb27615d8cde91df2": {
      "model_module": "@jupyter-widgets/base",
      "model_module_version": "1.2.0",
      "model_name": "LayoutModel",
      "state": {
       "margin": "0px 0px 0px 10px"
      }
     },
     "6b6ac82ad1ed41fa86834bb5aa8740b8": {
      "model_module": "@jupyter-widgets/controls",
      "model_module_version": "1.5.0",
      "model_name": "ButtonModel",
      "state": {
       "description": "Select",
       "layout": "IPY_MODEL_510a512731d5486bbd99bdf7bccd85cd",
       "style": "IPY_MODEL_1ef2fc096396483d93050d8a149ad322"
      }
     },
     "6b6c344cabc742fcb3158899809dd966": {
      "model_module": "@jupyter-widgets/controls",
      "model_module_version": "1.5.0",
      "model_name": "DescriptionStyleModel",
      "state": {
       "description_width": ""
      }
     },
     "6b950500cb2d4fca82d47b0be15b045b": {
      "model_module": "@jupyter-widgets/controls",
      "model_module_version": "1.5.0",
      "model_name": "HBoxModel",
      "state": {
       "children": [
        "IPY_MODEL_c522d00e20d74290b2c32808e310dd11",
        "IPY_MODEL_7a56228634d5482caf1a4ea70bcc39b1",
        "IPY_MODEL_c2d8dc201eaf4477871528143462e437"
       ],
       "layout": "IPY_MODEL_ef752d0797f941a09ac9054405e4e1bb"
      }
     },
     "6bfb57d99e8f440db12ad1d3df952aaa": {
      "model_module": "@jupyter-widgets/controls",
      "model_module_version": "1.5.0",
      "model_name": "HBoxModel",
      "state": {
       "children": [
        "IPY_MODEL_d53d69f422bc44adb7c80054e7bb2d70",
        "IPY_MODEL_32b287d74a5b413a80370c0fafbc18cc",
        "IPY_MODEL_b35010bad6b946a3a987690e4b154892",
        "IPY_MODEL_2bf44dcfd1f84ba3b6dd8e3dcc54d7da"
       ],
       "layout": "IPY_MODEL_4281058357b34787b4839144812b3960"
      }
     },
     "6c025df8082f456b90e92beac710cbc1": {
      "model_module": "@jupyter-widgets/controls",
      "model_module_version": "1.5.0",
      "model_name": "HTMLModel",
      "state": {
       "layout": "IPY_MODEL_22bf070efe2f47ad8274f49bf37fc38a",
       "style": "IPY_MODEL_ae78b75a0dbf42a8865698a226cfe6d1",
       "value": "<b>Function parameters:</b>"
      }
     },
     "6c46e7b5c7e14c8682628546aa6b5694": {
      "model_module": "@jupyter-widgets/controls",
      "model_module_version": "1.5.0",
      "model_name": "LabelModel",
      "state": {
       "layout": "IPY_MODEL_84372b4e0ecf42a9a9d799e9a9273cb9",
       "style": "IPY_MODEL_764622a19027426faa5b4eef9249504f",
       "value": "Choose a method:"
      }
     },
     "6c62c52ae6c241a08ba1f4ab2f5fd2a1": {
      "model_module": "@jupyter-widgets/base",
      "model_module_version": "1.2.0",
      "model_name": "LayoutModel",
      "state": {
       "width": "50%"
      }
     },
     "6c738817a71243f59e98a25bc7cd22f0": {
      "model_module": "@jupyter-widgets/controls",
      "model_module_version": "1.5.0",
      "model_name": "ToggleButtonsModel",
      "state": {
       "_options_labels": [
        "Represent",
        "inorganic descriptors",
        "chemml",
        "CoulombMatrixAttributeGenerator"
       ],
       "button_style": "info",
       "icons": [],
       "index": 0,
       "layout": "IPY_MODEL_78ec5fdfa1724530b1a3e9ebfe8cf088",
       "style": "IPY_MODEL_83201baa51804e24b5786586d97665d5",
       "tooltips": []
      }
     },
     "6cba7948cfc141fab6e582101135bff1": {
      "model_module": "@jupyter-widgets/base",
      "model_module_version": "1.2.0",
      "model_name": "LayoutModel",
      "state": {}
     },
     "6cd436b4d601441d846b1d08810e98e2": {
      "model_module": "@jupyter-widgets/controls",
      "model_module_version": "1.5.0",
      "model_name": "ButtonModel",
      "state": {
       "description": "Select",
       "layout": "IPY_MODEL_812050cb8c714b9d9092b28fa00d260a",
       "style": "IPY_MODEL_27e3a14b7aa64adcb3d35b95f942313e"
      }
     },
     "6d396ec26cbb46009836c514516dcda5": {
      "model_module": "@jupyter-widgets/controls",
      "model_module_version": "1.5.0",
      "model_name": "DescriptionStyleModel",
      "state": {
       "description_width": ""
      }
     },
     "6d3ef8677a594e1e9c85eab922cea603": {
      "model_module": "@jupyter-widgets/controls",
      "model_module_version": "1.5.0",
      "model_name": "DescriptionStyleModel",
      "state": {
       "description_width": ""
      }
     },
     "6d41c4724dc74da2b4c6b6bd6e9dd1dc": {
      "model_module": "@jupyter-widgets/controls",
      "model_module_version": "1.5.0",
      "model_name": "DescriptionStyleModel",
      "state": {
       "description_width": ""
      }
     },
     "6d6d06445872427a99de4fbd557ffa16": {
      "model_module": "@jupyter-widgets/base",
      "model_module_version": "1.2.0",
      "model_name": "LayoutModel",
      "state": {
       "align_items": "center",
       "justify_content": "space-between",
       "margin": "10px 0px 20px 0px"
      }
     },
     "6d8ac0009e204e27883b38401a2abf64": {
      "model_module": "@jupyter-widgets/base",
      "model_module_version": "1.2.0",
      "model_name": "LayoutModel",
      "state": {}
     },
     "6db3d0f67ea542c2abf7c38eca61821b": {
      "model_module": "@jupyter-widgets/controls",
      "model_module_version": "1.5.0",
      "model_name": "DropdownModel",
      "state": {
       "description": "output token:",
       "index": null,
       "layout": "IPY_MODEL_6026267690ae4bfb94ad3e2b66be21eb",
       "style": "IPY_MODEL_7ee8214bc76b446a812fd1cace2a8027"
      }
     },
     "6db50191cad043aba7f3d9eea19b8986": {
      "model_module": "@jupyter-widgets/base",
      "model_module_version": "1.2.0",
      "model_name": "LayoutModel",
      "state": {}
     },
     "6dbba09e94244be0a9ce84c1fb662823": {
      "model_module": "@jupyter-widgets/controls",
      "model_module_version": "1.5.0",
      "model_name": "ButtonModel",
      "state": {
       "description": "Add",
       "layout": "IPY_MODEL_d3a43203c7dd4beb93050700879548be",
       "style": "IPY_MODEL_5fa85f0b4d7a4ea48872c48e04f51eef"
      }
     },
     "6dc63b0544c14974b7d41dbe387114b7": {
      "model_module": "@jupyter-widgets/controls",
      "model_module_version": "1.5.0",
      "model_name": "DescriptionStyleModel",
      "state": {
       "description_width": ""
      }
     },
     "6e1b15dacd3f407f9766e1a98c401e1b": {
      "model_module": "@jupyter-widgets/controls",
      "model_module_version": "1.5.0",
      "model_name": "LabelModel",
      "state": {
       "layout": "IPY_MODEL_69306e6cce944608a5cea1b1a3d6e729",
       "style": "IPY_MODEL_275b40fc78784a9c86c9aef505ebee51",
       "value": "Choose how to start:"
      }
     },
     "6e490d5841ae464887156434997d6e11": {
      "model_module": "@jupyter-widgets/controls",
      "model_module_version": "1.5.0",
      "model_name": "DescriptionStyleModel",
      "state": {
       "description_width": ""
      }
     },
     "6ebeacfcb8004ef3b453fd1378310802": {
      "model_module": "@jupyter-widgets/base",
      "model_module_version": "1.2.0",
      "model_name": "LayoutModel",
      "state": {
       "margin": "0px 10px 0px 0px",
       "width": "60px"
      }
     },
     "6ef37b903be24e138c0e63bc604c86fe": {
      "model_module": "@jupyter-widgets/base",
      "model_module_version": "1.2.0",
      "model_name": "LayoutModel",
      "state": {
       "margin": "0px 0px 0px 10px"
      }
     },
     "6f7af01c1201424c8e6c4f1501f2e414": {
      "model_module": "@jupyter-widgets/base",
      "model_module_version": "1.2.0",
      "model_name": "LayoutModel",
      "state": {}
     },
     "6f7bfee1a9744af4ab924584b4e82f9a": {
      "model_module": "@jupyter-widgets/base",
      "model_module_version": "1.2.0",
      "model_name": "LayoutModel",
      "state": {
       "margin": "0px 0px 0px 180px"
      }
     },
     "6f8513c0d45e4abd9a0e616460277ee3": {
      "model_module": "@jupyter-widgets/base",
      "model_module_version": "1.2.0",
      "model_name": "LayoutModel",
      "state": {
       "margin": "0px 0px 0px 10px"
      }
     },
     "6fba49975a2a435e83d621e33c1c3360": {
      "model_module": "@jupyter-widgets/base",
      "model_module_version": "1.2.0",
      "model_name": "LayoutModel",
      "state": {}
     },
     "6fd91b71d5474b3580c5fc94f31e4b94": {
      "model_module": "@jupyter-widgets/base",
      "model_module_version": "1.2.0",
      "model_name": "LayoutModel",
      "state": {}
     },
     "7012535333e44bb2b0f082606625ce68": {
      "model_module": "@jupyter-widgets/controls",
      "model_module_version": "1.5.0",
      "model_name": "DropdownModel",
      "state": {
       "_options_labels": [
        "2",
        "3",
        "4"
       ],
       "description": "block#:",
       "index": 0,
       "layout": "IPY_MODEL_6121807c3ea54bd695cb5aad79904857",
       "style": "IPY_MODEL_34eb2e4221954f73b603cd91273d9bb9"
      }
     },
     "704319e7442144f59e2c580feadb0252": {
      "model_module": "@jupyter-widgets/controls",
      "model_module_version": "1.5.0",
      "model_name": "CheckboxModel",
      "state": {
       "description": "Check to set",
       "disabled": false,
       "indent": false,
       "layout": "IPY_MODEL_170ae3d9ef3348229ace69dfd1647f99",
       "style": "IPY_MODEL_ba97ed0022cc47f5a2fcaeb2bf88e79a",
       "value": false
      }
     },
     "705e803a3e604273838e0c31f733f8b0": {
      "model_module": "@jupyter-widgets/controls",
      "model_module_version": "1.5.0",
      "model_name": "DescriptionStyleModel",
      "state": {
       "description_width": ""
      }
     },
     "7066f58d85ef4dcdacd8184050ecbe2c": {
      "model_module": "@jupyter-widgets/controls",
      "model_module_version": "1.5.0",
      "model_name": "HTMLModel",
      "state": {
       "layout": "IPY_MODEL_d402ca81f616496b86b84d9ee1218fff",
       "style": "IPY_MODEL_4907e23367b5497681d739101df36011",
       "value": "<b> <<< </b>"
      }
     },
     "70972e5c4ec14d40b2cd21f763c895a6": {
      "model_module": "@jupyter-widgets/base",
      "model_module_version": "1.2.0",
      "model_name": "LayoutModel",
      "state": {
       "width": "40%"
      }
     },
     "70e4c44a8ce84d3b974f773aabbe2cf8": {
      "model_module": "@jupyter-widgets/controls",
      "model_module_version": "1.5.0",
      "model_name": "CheckboxModel",
      "state": {
       "description": "Check to set",
       "disabled": false,
       "indent": false,
       "layout": "IPY_MODEL_fe2e0069018949c48ead923d3b617e13",
       "style": "IPY_MODEL_59776d35d5454c1a9a891f3384244258",
       "value": false
      }
     },
     "70e7d52e22cd4fdab725aba8338775b1": {
      "model_module": "@jupyter-widgets/controls",
      "model_module_version": "1.5.0",
      "model_name": "LabelModel",
      "state": {
       "layout": "IPY_MODEL_208ab75f01d541e4a21746eee45cec05",
       "style": "IPY_MODEL_1e5c6f91e8e34971b1a9740b64918c44",
       "value": "Template 3: get SMILES reperesentaion of molecules --> save them --> generate Morgan Fingerprints  --> save features"
      }
     },
     "712ed5a4d85c431b8a8c3d4a327c5419": {
      "model_module": "@jupyter-widgets/controls",
      "model_module_version": "1.5.0",
      "model_name": "DescriptionStyleModel",
      "state": {
       "description_width": ""
      }
     },
     "7143940fc9ef489382439fe2b8f4c6b7": {
      "model_module": "@jupyter-widgets/controls",
      "model_module_version": "1.5.0",
      "model_name": "HBoxModel",
      "state": {
       "children": [
        "IPY_MODEL_a10a38f5cecd4d439e972afc9fb1c192"
       ],
       "layout": "IPY_MODEL_b1953a43ffef492ab2328b808636b70f"
      }
     },
     "71462bee723f466884b2e1ac31404994": {
      "model_module": "@jupyter-widgets/base",
      "model_module_version": "1.2.0",
      "model_name": "LayoutModel",
      "state": {
       "border": "dotted black 1px",
       "justify_content": "space-between"
      }
     },
     "71491f49ab1d4d8e9d4d4f618a33e063": {
      "model_module": "@jupyter-widgets/controls",
      "model_module_version": "1.5.0",
      "model_name": "ButtonModel",
      "state": {
       "description": "Add",
       "layout": "IPY_MODEL_452b4c1636684c9d8e9d0d0056d2cd4e",
       "style": "IPY_MODEL_970a8b178df5489b915854589d97fd63"
      }
     },
     "714e9b5bb3da4b49bbb5d788039234a7": {
      "model_module": "@jupyter-widgets/controls",
      "model_module_version": "1.5.0",
      "model_name": "TextareaModel",
      "state": {
       "layout": "IPY_MODEL_3ac65dc2cee24771bb2088fa332082e2",
       "placeholder": "Press the 'print Script' button to print the ChemML Wrapper's configuration script here. Copy and save it for the future use.",
       "style": "IPY_MODEL_3b35a15c10054958ac70e736b230f9f3"
      }
     },
     "7159cca599c34fc58507b487c6c6219a": {
      "model_module": "@jupyter-widgets/controls",
      "model_module_version": "1.5.0",
      "model_name": "ButtonModel",
      "state": {
       "description": "Add",
       "layout": "IPY_MODEL_e58ab0817ead4f1cb4f86a8d746d69d8",
       "style": "IPY_MODEL_e296ff74b1c14d02a45bfc4e5d5fe286"
      }
     },
     "716f5259af3c44f5b6b5925302a82ac0": {
      "model_module": "@jupyter-widgets/controls",
      "model_module_version": "1.5.0",
      "model_name": "ButtonModel",
      "state": {
       "description": "Add",
       "layout": "IPY_MODEL_7f450e74347e4ade90f7d112cdec32e9",
       "style": "IPY_MODEL_1292f16f5e424d358456baf2d9ffe94f"
      }
     },
     "71a08dee9828473492531b39ed3e8328": {
      "model_module": "@jupyter-widgets/base",
      "model_module_version": "1.2.0",
      "model_name": "LayoutModel",
      "state": {
       "margin": "20px 0px 20px 250px"
      }
     },
     "71afc79a57004618a35eb1ab886821d3": {
      "model_module": "@jupyter-widgets/controls",
      "model_module_version": "1.5.0",
      "model_name": "DescriptionStyleModel",
      "state": {
       "description_width": ""
      }
     },
     "71c8e29b68e440068be6790569552962": {
      "model_module": "@jupyter-widgets/base",
      "model_module_version": "1.2.0",
      "model_name": "LayoutModel",
      "state": {
       "margin": "10px 0px 10px 180px",
       "width": "110px"
      }
     },
     "71ce95fc2f4a4951b353b7a5f4673357": {
      "model_module": "@jupyter-widgets/controls",
      "model_module_version": "1.5.0",
      "model_name": "ButtonModel",
      "state": {
       "description": "Add",
       "layout": "IPY_MODEL_cb132cdbebc24bfe815cf4bf77f6033f",
       "style": "IPY_MODEL_d264eb20400448a0988df8646f0577b8"
      }
     },
     "71eda947f8c5446a98270424a261f421": {
      "model_module": "@jupyter-widgets/controls",
      "model_module_version": "1.5.0",
      "model_name": "HBoxModel",
      "state": {
       "children": [
        "IPY_MODEL_7b6c26b76e1d46d1b28811390023b458",
        "IPY_MODEL_cf3ed3403d194f30a70a104e34a322fe",
        "IPY_MODEL_23fa6372d8314e7495b2abed2df43a1f",
        "IPY_MODEL_07e8fb1aea7e4416b2db1267719618f6"
       ],
       "layout": "IPY_MODEL_3797ba294582468c8f9b439be17e850a"
      }
     },
     "72169cef69d644e8b6efde2275caddf6": {
      "model_module": "@jupyter-widgets/controls",
      "model_module_version": "1.5.0",
      "model_name": "DropdownModel",
      "state": {
       "_options_labels": [
        "2"
       ],
       "description": "block#:",
       "index": 0,
       "layout": "IPY_MODEL_fc3937324174461fb6f77d1590e1b941",
       "style": "IPY_MODEL_395b09ccc6954781b104a6b38a1ed980"
      }
     },
     "7219b316074b476989b9e59b4beba276": {
      "model_module": "@jupyter-widgets/controls",
      "model_module_version": "1.5.0",
      "model_name": "HTMLModel",
      "state": {
       "layout": "IPY_MODEL_d5c68632f44e42cb944a68cf312b41f1",
       "style": "IPY_MODEL_93aaffca0cfc43d29e8b7410f3d46f02",
       "value": "<b>Requirements:  </b>(('ChemML', '0.6'), ('pandas', '1.1.3'))"
      }
     },
     "7235112a8be44964a0f1e9e7eb4ef898": {
      "model_module": "@jupyter-widgets/base",
      "model_module_version": "1.2.0",
      "model_name": "LayoutModel",
      "state": {
       "width": "100%"
      }
     },
     "72402ca04d00439398e31f16fd584a3a": {
      "model_module": "@jupyter-widgets/controls",
      "model_module_version": "1.5.0",
      "model_name": "DescriptionStyleModel",
      "state": {
       "description_width": ""
      }
     },
     "724cdd8a414541cb84fcd199b19b605b": {
      "model_module": "@jupyter-widgets/base",
      "model_module_version": "1.2.0",
      "model_name": "LayoutModel",
      "state": {
       "margin": "0px 0px 0px 10px"
      }
     },
     "728ee555590d4bf19ee3074bad59601f": {
      "model_module": "@jupyter-widgets/base",
      "model_module_version": "1.2.0",
      "model_name": "LayoutModel",
      "state": {
       "width": "40%"
      }
     },
     "72956314175b438abf2355f513f125f1": {
      "model_module": "@jupyter-widgets/base",
      "model_module_version": "1.2.0",
      "model_name": "LayoutModel",
      "state": {
       "align_content": "center",
       "justify_content": "center"
      }
     },
     "72987d175708404e86cf15781c505da2": {
      "model_module": "@jupyter-widgets/base",
      "model_module_version": "1.2.0",
      "model_name": "LayoutModel",
      "state": {}
     },
     "72ad1fed1aed4591abf834e95fa05b77": {
      "model_module": "@jupyter-widgets/controls",
      "model_module_version": "1.5.0",
      "model_name": "DescriptionStyleModel",
      "state": {
       "description_width": ""
      }
     },
     "72b321647a444756b125d143019a81ea": {
      "model_module": "@jupyter-widgets/controls",
      "model_module_version": "1.5.0",
      "model_name": "HTMLModel",
      "state": {
       "layout": "IPY_MODEL_8ac366b3d8744191b5864f156e1e2c23",
       "style": "IPY_MODEL_fa6c523ecaf24f3786ddb0d1262d588b",
       "value": "<b> >>> </b>"
      }
     },
     "72be07cf90864346b3945ab768a4e049": {
      "model_module": "@jupyter-widgets/base",
      "model_module_version": "1.2.0",
      "model_name": "LayoutModel",
      "state": {
       "width": "100%"
      }
     },
     "72cad28201ba4d418d737ddcb663c710": {
      "model_module": "@jupyter-widgets/base",
      "model_module_version": "1.2.0",
      "model_name": "LayoutModel",
      "state": {
       "margin": "0px 0px 0px 10px"
      }
     },
     "7333032333c746239aab12f521c47064": {
      "model_module": "@jupyter-widgets/controls",
      "model_module_version": "1.5.0",
      "model_name": "DescriptionStyleModel",
      "state": {
       "description_width": ""
      }
     },
     "7339132b19a04506bc4b9586dae0f6f7": {
      "model_module": "@jupyter-widgets/controls",
      "model_module_version": "1.5.0",
      "model_name": "HTMLModel",
      "state": {
       "layout": "IPY_MODEL_b22a6fddee304523afb03dfe741dda18",
       "style": "IPY_MODEL_0926907b076f47de824e0070277e623e",
       "value": "<b>Wrapper parameters:</b>"
      }
     },
     "739415f89ce8416b8d65b6f84347b1d0": {
      "model_module": "@jupyter-widgets/controls",
      "model_module_version": "1.5.0",
      "model_name": "DescriptionStyleModel",
      "state": {
       "description_width": ""
      }
     },
     "73b4eff5c4c84f3f8a6621b56454ca67": {
      "model_module": "@jupyter-widgets/controls",
      "model_module_version": "1.5.0",
      "model_name": "ButtonStyleModel",
      "state": {
       "button_color": "lightblue"
      }
     },
     "73bb2345bc7a44bf94d9c5ccad4d1a46": {
      "model_module": "@jupyter-widgets/base",
      "model_module_version": "1.2.0",
      "model_name": "LayoutModel",
      "state": {}
     },
     "73c2ee8e036b4b599e6e80d287d381bd": {
      "model_module": "@jupyter-widgets/controls",
      "model_module_version": "1.5.0",
      "model_name": "ButtonStyleModel",
      "state": {
       "button_color": "lightblue"
      }
     },
     "73ddd8c5f9c94a23bd5bea5984a812b2": {
      "model_module": "@jupyter-widgets/base",
      "model_module_version": "1.2.0",
      "model_name": "LayoutModel",
      "state": {
       "margin": "10px 0px 0px 10px",
       "width": "50%"
      }
     },
     "73f60774b35d478b99fcd1bbd1d12970": {
      "model_module": "@jupyter-widgets/controls",
      "model_module_version": "1.5.0",
      "model_name": "BoxModel",
      "state": {
       "children": [
        "IPY_MODEL_95e1c5a5fe164696a243e427c721a835"
       ],
       "layout": "IPY_MODEL_fa70efdc02634937b0882360871b034f"
      }
     },
     "741346b53bb44559ad376e850e437f93": {
      "model_module": "@jupyter-widgets/controls",
      "model_module_version": "1.5.0",
      "model_name": "DescriptionStyleModel",
      "state": {
       "description_width": ""
      }
     },
     "742eede5c53c4917b335c752e3f6bf78": {
      "model_module": "@jupyter-widgets/base",
      "model_module_version": "1.2.0",
      "model_name": "LayoutModel",
      "state": {}
     },
     "745aa3fbe3ae46e4aaafc2040548ee31": {
      "model_module": "@jupyter-widgets/controls",
      "model_module_version": "1.5.0",
      "model_name": "DropdownModel",
      "state": {
       "_options_labels": [
        "ConvertFile"
       ],
       "description": "Function:",
       "index": 0,
       "layout": "IPY_MODEL_3849644a75644d8ca0678472593032c8",
       "style": "IPY_MODEL_8c90cc71caab44ccb17269df0487dac9"
      }
     },
     "748f1932e71c483498ec909e74d2fc85": {
      "model_module": "@jupyter-widgets/base",
      "model_module_version": "1.2.0",
      "model_name": "LayoutModel",
      "state": {}
     },
     "749e61094d4d425ca40ad042b4dc9253": {
      "model_module": "@jupyter-widgets/controls",
      "model_module_version": "1.5.0",
      "model_name": "TabModel",
      "state": {
       "_titles": {
        "0": "Parameters",
        "1": "Input/Output"
       },
       "children": [
        "IPY_MODEL_d09e04b477454ee9845a9246faf0353c",
        "IPY_MODEL_a3775b0d16994c8badab92297f819bdc"
       ],
       "layout": "IPY_MODEL_4d9d004931fc42d290d824195aa7731c"
      }
     },
     "74a0e2327df34fd4abe113df2b30e29e": {
      "model_module": "@jupyter-widgets/controls",
      "model_module_version": "1.5.0",
      "model_name": "DescriptionStyleModel",
      "state": {
       "description_width": ""
      }
     },
     "74d7a0625e7d4c3882ab135f7c4ae152": {
      "model_module": "@jupyter-widgets/controls",
      "model_module_version": "1.5.0",
      "model_name": "DescriptionStyleModel",
      "state": {
       "description_width": ""
      }
     },
     "74ed5459838d4b22bee9c1381268c58e": {
      "model_module": "@jupyter-widgets/controls",
      "model_module_version": "1.5.0",
      "model_name": "ButtonStyleModel",
      "state": {}
     },
     "75251b5c5d9049c5998a2ddb7ab181ab": {
      "model_module": "@jupyter-widgets/base",
      "model_module_version": "1.2.0",
      "model_name": "LayoutModel",
      "state": {}
     },
     "7525791a15804375b4ca40b16ba881fa": {
      "model_module": "@jupyter-widgets/controls",
      "model_module_version": "1.5.0",
      "model_name": "HBoxModel",
      "state": {
       "children": [
        "IPY_MODEL_0b40fd6d0f87440281f358a1101c5f1d",
        "IPY_MODEL_70e4c44a8ce84d3b974f773aabbe2cf8",
        "IPY_MODEL_5a887dc1256748769996364425d6f7fc"
       ],
       "layout": "IPY_MODEL_46c8948301284c23ba6ed95a5bd5c27c"
      }
     },
     "752d130e73fe446096c3b786b144d2f5": {
      "model_module": "@jupyter-widgets/controls",
      "model_module_version": "1.5.0",
      "model_name": "SelectMultipleModel",
      "state": {
       "index": [],
       "layout": "IPY_MODEL_13f4c10d05af4f3e90dd0d48ca244e36",
       "rows": 5,
       "style": "IPY_MODEL_2a73aaf0497f4cf1ac95c257c836b58f"
      }
     },
     "75313edee1eb48138bb8eb317a81409b": {
      "model_module": "@jupyter-widgets/controls",
      "model_module_version": "1.5.0",
      "model_name": "VBoxModel",
      "state": {
       "children": [
        "IPY_MODEL_100901711fb24078b481de3789aa00be",
        "IPY_MODEL_659e2ec928f84e82a47bd5fc193e995b",
        "IPY_MODEL_ba35eb00df0d47e780e54bb01e2a8379"
       ],
       "layout": "IPY_MODEL_0804e9e40fba41c597b619697d6dae13"
      }
     },
     "7533daf874fc4af89f8acbed87a6c027": {
      "model_module": "@jupyter-widgets/controls",
      "model_module_version": "1.5.0",
      "model_name": "ButtonStyleModel",
      "state": {}
     },
     "753934a42913476f894141cadd67ceaf": {
      "model_module": "@jupyter-widgets/controls",
      "model_module_version": "1.5.0",
      "model_name": "HTMLModel",
      "state": {
       "layout": "IPY_MODEL_d3987515563043ec8c677455169b3b14",
       "style": "IPY_MODEL_07f92ea25c4b41c18bab6daa822cb150",
       "value": "<b>Wrapper parameters:</b>"
      }
     },
     "753f43756b2d4f60bead79d9b1089c88": {
      "model_module": "@jupyter-widgets/controls",
      "model_module_version": "1.5.0",
      "model_name": "DescriptionStyleModel",
      "state": {
       "description_width": ""
      }
     },
     "754e20a923684c48b1684d8cbe7b772e": {
      "model_module": "@jupyter-widgets/controls",
      "model_module_version": "1.5.0",
      "model_name": "DescriptionStyleModel",
      "state": {
       "description_width": "initial"
      }
     },
     "7554c14953f64478a0508ee9d1c61c93": {
      "model_module": "@jupyter-widgets/controls",
      "model_module_version": "1.5.0",
      "model_name": "DescriptionStyleModel",
      "state": {
       "description_width": ""
      }
     },
     "75855148a1124eb48c47cecabad63bb4": {
      "model_module": "@jupyter-widgets/controls",
      "model_module_version": "1.5.0",
      "model_name": "HTMLModel",
      "state": {
       "layout": "IPY_MODEL_d81c961638ed40e28673f8d9ef08f224",
       "style": "IPY_MODEL_acf30822f13046218bd05a55f791003f",
       "value": "<b>Function parameters:</b>"
      }
     },
     "7587fa53586d4b8ca4f39b428e664128": {
      "model_module": "@jupyter-widgets/controls",
      "model_module_version": "1.5.0",
      "model_name": "ToggleButtonsStyleModel",
      "state": {
       "button_width": "",
       "description_width": ""
      }
     },
     "7590f94d87ba4977b83b8a6bd7045df1": {
      "model_module": "@jupyter-widgets/controls",
      "model_module_version": "1.5.0",
      "model_name": "DropdownModel",
      "state": {
       "description": "input token:",
       "index": null,
       "layout": "IPY_MODEL_42bfa5bfb44547bb991b6f68e798790f",
       "style": "IPY_MODEL_031d52a48d2a45a1bf5aacab2e27b6b1"
      }
     },
     "75998275979a4911afc7905cf6371a28": {
      "model_module": "@jupyter-widgets/controls",
      "model_module_version": "1.5.0",
      "model_name": "LabelModel",
      "state": {
       "layout": "IPY_MODEL_fede8797af8b4ec08c30a68c223fd11d",
       "style": "IPY_MODEL_95f0ecc1106f46409c0680d3df1cdbf3",
       "value": "Template 2: model selection with grid search and cross validation"
      }
     },
     "75da18a9d6b8488d9050145b8cebb607": {
      "model_module": "@jupyter-widgets/controls",
      "model_module_version": "1.5.0",
      "model_name": "ButtonModel",
      "state": {
       "description": "Select",
       "layout": "IPY_MODEL_7b7d9b328e6849bab6aeaa7d62796a8c",
       "style": "IPY_MODEL_fe2191cccad3409a8075526d97d7b990"
      }
     },
     "75db024e37cf402997bdc3b3033b006a": {
      "model_module": "@jupyter-widgets/base",
      "model_module_version": "1.2.0",
      "model_name": "LayoutModel",
      "state": {
       "width": "100%"
      }
     },
     "7605ac601b4643f6aca78eb54a7ecf5f": {
      "model_module": "@jupyter-widgets/base",
      "model_module_version": "1.2.0",
      "model_name": "LayoutModel",
      "state": {
       "align_items": "center",
       "border": "dotted black 1px",
       "height": "40px",
       "justify_content": "center"
      }
     },
     "7624bfaa247e42578b3e6e8a57acda1d": {
      "model_module": "@jupyter-widgets/base",
      "model_module_version": "1.2.0",
      "model_name": "LayoutModel",
      "state": {
       "align_items": "center",
       "border": "dotted black 1px",
       "height": "40px",
       "margin": "0px 0px 0px 10px"
      }
     },
     "762827726fc4458984f8150db1ef7ac5": {
      "model_module": "@jupyter-widgets/base",
      "model_module_version": "1.2.0",
      "model_name": "LayoutModel",
      "state": {
       "align_items": "center",
       "justify_content": "space-between",
       "margin": "10px 0px 20px 0px"
      }
     },
     "764622a19027426faa5b4eef9249504f": {
      "model_module": "@jupyter-widgets/controls",
      "model_module_version": "1.5.0",
      "model_name": "DescriptionStyleModel",
      "state": {
       "description_width": ""
      }
     },
     "76e18fc067ec4e2592dca32bac3f7007": {
      "model_module": "@jupyter-widgets/base",
      "model_module_version": "1.2.0",
      "model_name": "LayoutModel",
      "state": {
       "align_items": "center",
       "justify_content": "space-between",
       "margin": "10px 0px 20px 0px"
      }
     },
     "772cd223df724024a83852329021d9bf": {
      "model_module": "@jupyter-widgets/base",
      "model_module_version": "1.2.0",
      "model_name": "LayoutModel",
      "state": {
       "width": "40%"
      }
     },
     "7731b9392ad8451eb7539cc88fe104c3": {
      "model_module": "@jupyter-widgets/base",
      "model_module_version": "1.2.0",
      "model_name": "LayoutModel",
      "state": {
       "margin": "10px 0px 10px 0px"
      }
     },
     "7746fdf18d494577b71a346172a5bc86": {
      "model_module": "@jupyter-widgets/base",
      "model_module_version": "1.2.0",
      "model_name": "LayoutModel",
      "state": {}
     },
     "774c06d8ee0e43799d0e7966ab668247": {
      "model_module": "@jupyter-widgets/controls",
      "model_module_version": "1.5.0",
      "model_name": "DescriptionStyleModel",
      "state": {
       "description_width": ""
      }
     },
     "775391462c064541b5e2e194478226d7": {
      "model_module": "@jupyter-widgets/controls",
      "model_module_version": "1.5.0",
      "model_name": "CheckboxModel",
      "state": {
       "description": "Check to set",
       "disabled": false,
       "indent": false,
       "layout": "IPY_MODEL_7ccf3cf3bc0e45b28058d16ab87d2d33",
       "style": "IPY_MODEL_4eaefe87ed254276802592219706d3f4",
       "value": false
      }
     },
     "777114850351495e9cd69ef8a4e9065e": {
      "model_module": "@jupyter-widgets/base",
      "model_module_version": "1.2.0",
      "model_name": "LayoutModel",
      "state": {}
     },
     "7771eda71fdd48dd89fd3c8b6054bdee": {
      "model_module": "@jupyter-widgets/controls",
      "model_module_version": "1.5.0",
      "model_name": "DescriptionStyleModel",
      "state": {
       "description_width": "initial"
      }
     },
     "7778d7eb52604ee7b95a72c436787b10": {
      "model_module": "@jupyter-widgets/controls",
      "model_module_version": "1.5.0",
      "model_name": "DescriptionStyleModel",
      "state": {
       "description_width": ""
      }
     },
     "7789ad2ba8ab46f2bd37277523fe7e33": {
      "model_module": "@jupyter-widgets/controls",
      "model_module_version": "1.5.0",
      "model_name": "LabelModel",
      "state": {
       "layout": "IPY_MODEL_f73d9d9d1ce7424ea62eb845697ef67d",
       "style": "IPY_MODEL_5020bdd156fc4e04a2578d85489e8377",
       "value": "Choose how to start:"
      }
     },
     "77a2dd4ae1704028bf7fdd345bf8ed0d": {
      "model_module": "@jupyter-widgets/controls",
      "model_module_version": "1.5.0",
      "model_name": "DescriptionStyleModel",
      "state": {
       "description_width": ""
      }
     },
     "77cb44dedf9f456c8008c4a4bbc9cfc1": {
      "model_module": "@jupyter-widgets/controls",
      "model_module_version": "1.5.0",
      "model_name": "HBoxModel",
      "state": {
       "children": [
        "IPY_MODEL_af232a21dcbd47d59a682dbe0f1cb86b",
        "IPY_MODEL_de00b3d5f6cc45b39d3e48de50a214e1"
       ],
       "layout": "IPY_MODEL_80069832cc524d9db1bf168c5c5c0511"
      }
     },
     "77e2c34fa32343e28def4429f0bfe5c8": {
      "model_module": "@jupyter-widgets/base",
      "model_module_version": "1.2.0",
      "model_name": "LayoutModel",
      "state": {
       "width": "40px"
      }
     },
     "77f83e7ab3e14dafac7c5bfc0795587a": {
      "model_module": "@jupyter-widgets/base",
      "model_module_version": "1.2.0",
      "model_name": "LayoutModel",
      "state": {}
     },
     "7801dadc1f8f491485c94fb73bea3603": {
      "model_module": "@jupyter-widgets/controls",
      "model_module_version": "1.5.0",
      "model_name": "HBoxModel",
      "state": {
       "children": [
        "IPY_MODEL_3213589c70614da4b13742944a639c6f",
        "IPY_MODEL_7bc53b13fdc44fc7bb0818ff584bd531",
        "IPY_MODEL_546be6bbfba44468852ddd2bfac4f978"
       ],
       "layout": "IPY_MODEL_60512cae7cb846b6a8aa83cd85478d4d"
      }
     },
     "7802c016c9fa46ea99b8858650b30798": {
      "model_module": "@jupyter-widgets/controls",
      "model_module_version": "1.5.0",
      "model_name": "DropdownModel",
      "state": {
       "description": "input token:",
       "index": null,
       "layout": "IPY_MODEL_2fc43b95ed49471ab59ab47d0294d47c",
       "style": "IPY_MODEL_74d7a0625e7d4c3882ab135f7c4ae152"
      }
     },
     "78217cb9fcfe48fa98c6cd75a0dbba0f": {
      "model_module": "@jupyter-widgets/controls",
      "model_module_version": "1.5.0",
      "model_name": "ButtonModel",
      "state": {
       "icon": "refresh",
       "layout": "IPY_MODEL_ee1f7a316c0841a292fd471a44703383",
       "style": "IPY_MODEL_1ce6f81ffbe3465686de768c7c121170"
      }
     },
     "78434528e233464b8823448ee5ddca95": {
      "model_module": "@jupyter-widgets/base",
      "model_module_version": "1.2.0",
      "model_name": "LayoutModel",
      "state": {
       "align_items": "center",
       "border": "dotted black 1px",
       "height": "40px",
       "margin": "0px 0px 0px 10px"
      }
     },
     "786a42f9a5f242939449aa33ef976159": {
      "model_module": "@jupyter-widgets/controls",
      "model_module_version": "1.5.0",
      "model_name": "TextModel",
      "state": {
       "description": "Type:",
       "disabled": true,
       "layout": "IPY_MODEL_40f6128ab38a4c0b891355f322b6a713",
       "style": "IPY_MODEL_f72210ab2258467ab8683a52eec32a7f"
      }
     },
     "78865b11cb4b48878b12a24e9d27b900": {
      "model_module": "@jupyter-widgets/base",
      "model_module_version": "1.2.0",
      "model_name": "LayoutModel",
      "state": {
       "margin": "10px 0px 10px 0px",
       "width": "50%"
      }
     },
     "78a73accf8414dd7ab6742638ffbd03d": {
      "model_module": "@jupyter-widgets/controls",
      "model_module_version": "1.5.0",
      "model_name": "DescriptionStyleModel",
      "state": {
       "description_width": ""
      }
     },
     "78c2820005db4e35b087cad9b59b9027": {
      "model_module": "@jupyter-widgets/controls",
      "model_module_version": "1.5.0",
      "model_name": "HTMLModel",
      "state": {
       "layout": "IPY_MODEL_278d81f8864c4d5d8319bf26534eeae2",
       "style": "IPY_MODEL_86afabf8c0e94c979a0f21056d0a2b23",
       "value": "<b>Requirements:  </b>(('ChemML', '0.6'), ('pandas', '1.1.3'))"
      }
     },
     "78c42a545768467ea38d06aee2bcd230": {
      "model_module": "@jupyter-widgets/controls",
      "model_module_version": "1.5.0",
      "model_name": "CheckboxModel",
      "state": {
       "description": "Check to set",
       "disabled": false,
       "indent": false,
       "layout": "IPY_MODEL_3f9a1cb82ce8411a8db55ef0e27a48ba",
       "style": "IPY_MODEL_7d57f1e7291f4e13995611d8dbac4311",
       "value": false
      }
     },
     "78ec5fdfa1724530b1a3e9ebfe8cf088": {
      "model_module": "@jupyter-widgets/base",
      "model_module_version": "1.2.0",
      "model_name": "LayoutModel",
      "state": {
       "margin": "0px 0px 0px 180px"
      }
     },
     "79292d0fe28e4c62948e334cc404bd65": {
      "model_module": "@jupyter-widgets/controls",
      "model_module_version": "1.5.0",
      "model_name": "HTMLModel",
      "state": {
       "layout": "IPY_MODEL_1ebc8e761a6446df80a3bcd638f79da3",
       "style": "IPY_MODEL_111a6d987e6547dcbfd4b1c6c76b669f",
       "value": "<b> <<< </b>"
      }
     },
     "79436e458a3c4f2bab3a9e63fdff6f59": {
      "model_module": "@jupyter-widgets/controls",
      "model_module_version": "1.5.0",
      "model_name": "HTMLModel",
      "state": {
       "layout": "IPY_MODEL_c47509ed99d74d438b64dbb5ccfa4274",
       "style": "IPY_MODEL_a49b1535e40346b79d7d8d20a5aa2408",
       "value": "<b> Note: </b> This page automatically avoid: (1) loops, (2) type inconsistency, and (3) more than one input per token."
      }
     },
     "794e792dbe084d15a94b74a281dfeead": {
      "model_module": "@jupyter-widgets/controls",
      "model_module_version": "1.5.0",
      "model_name": "TextModel",
      "state": {
       "description": "line10",
       "layout": "IPY_MODEL_5024f9df451f4ee88de3fb68c8b5179b",
       "placeholder": "[]",
       "style": "IPY_MODEL_ac328f29b8fd42739752eaf92ff65474",
       "value": "type python code"
      }
     },
     "798686c610d54da787abae77811e8641": {
      "model_module": "@jupyter-widgets/base",
      "model_module_version": "1.2.0",
      "model_name": "LayoutModel",
      "state": {}
     },
     "79901c5f29f242b3b35529739cb08f75": {
      "model_module": "@jupyter-widgets/controls",
      "model_module_version": "1.5.0",
      "model_name": "ButtonStyleModel",
      "state": {
       "button_color": "lightblue"
      }
     },
     "79ac52342a864d36b8c174bc3bf0b4db": {
      "model_module": "@jupyter-widgets/base",
      "model_module_version": "1.2.0",
      "model_name": "LayoutModel",
      "state": {}
     },
     "79c475aa287e4889af3d8cedc9355936": {
      "model_module": "@jupyter-widgets/base",
      "model_module_version": "1.2.0",
      "model_name": "LayoutModel",
      "state": {}
     },
     "79cfbf02843e471d941127b663ee0607": {
      "model_module": "@jupyter-widgets/controls",
      "model_module_version": "1.5.0",
      "model_name": "HTMLModel",
      "state": {
       "layout": "IPY_MODEL_e836467898ff4c4aa383262012267911",
       "style": "IPY_MODEL_32057387ac704198bb7c39cf11b0c2b6",
       "value": "<b> Receive <<< </b>"
      }
     },
     "7a5581aeac1c4a40b1b4408dc7b36dd1": {
      "model_module": "@jupyter-widgets/controls",
      "model_module_version": "1.5.0",
      "model_name": "DescriptionStyleModel",
      "state": {
       "description_width": ""
      }
     },
     "7a56228634d5482caf1a4ea70bcc39b1": {
      "model_module": "@jupyter-widgets/controls",
      "model_module_version": "1.5.0",
      "model_name": "CheckboxModel",
      "state": {
       "description": "Check to set",
       "disabled": false,
       "indent": false,
       "layout": "IPY_MODEL_51c0d13e490e46d990a1125f25e16f3b",
       "style": "IPY_MODEL_eef68e1dac5d400386100ee60dd8b541",
       "value": false
      }
     },
     "7a6fc546429249a6a9a259a978a25532": {
      "model_module": "@jupyter-widgets/controls",
      "model_module_version": "1.5.0",
      "model_name": "TabModel",
      "state": {
       "_titles": {
        "0": "Parameters",
        "1": "Input/Output"
       },
       "children": [
        "IPY_MODEL_d27a69f2724042b88ef25aca34ef0cf7",
        "IPY_MODEL_43d56998ea53488aaf035b10606a860a"
       ],
       "layout": "IPY_MODEL_b75c21bdc50c4b4f955f01f0a4ccc989"
      }
     },
     "7a8264abd78249a594bbd83ca8cd0dbd": {
      "model_module": "@jupyter-widgets/controls",
      "model_module_version": "1.5.0",
      "model_name": "DescriptionStyleModel",
      "state": {
       "description_width": "initial"
      }
     },
     "7a9ac551b7e44a879776a9c044521d00": {
      "model_module": "@jupyter-widgets/controls",
      "model_module_version": "1.5.0",
      "model_name": "ButtonStyleModel",
      "state": {
       "button_color": "lightblue"
      }
     },
     "7aab2e797aa54ce494e45bdfa1fcd22a": {
      "model_module": "@jupyter-widgets/base",
      "model_module_version": "1.2.0",
      "model_name": "LayoutModel",
      "state": {
       "margin": "10px 0px 10px 0px"
      }
     },
     "7ae501c6085a4859a839046777fcc292": {
      "model_module": "@jupyter-widgets/base",
      "model_module_version": "1.2.0",
      "model_name": "LayoutModel",
      "state": {
       "width": "40%"
      }
     },
     "7b0032d4fdde4d87b04fde0084d5fea7": {
      "model_module": "@jupyter-widgets/base",
      "model_module_version": "1.2.0",
      "model_name": "LayoutModel",
      "state": {
       "width": "40%"
      }
     },
     "7b21fd583fc24a72a0da45ae640869ba": {
      "model_module": "@jupyter-widgets/base",
      "model_module_version": "1.2.0",
      "model_name": "LayoutModel",
      "state": {}
     },
     "7b566637fd4c477d94a36a6b58c382ed": {
      "model_module": "@jupyter-widgets/base",
      "model_module_version": "1.2.0",
      "model_name": "LayoutModel",
      "state": {
       "width": "40%"
      }
     },
     "7b60ecada9ba4a359142e9ce2f03fe2f": {
      "model_module": "@jupyter-widgets/controls",
      "model_module_version": "1.5.0",
      "model_name": "HTMLModel",
      "state": {
       "layout": "IPY_MODEL_d1079b230b174ff6a54377433d4d779f",
       "style": "IPY_MODEL_c2a70ed27773413f85da052979217f10",
       "value": "<b> Inorganic Descriptors: </b>"
      }
     },
     "7b6c26b76e1d46d1b28811390023b458": {
      "model_module": "@jupyter-widgets/controls",
      "model_module_version": "1.5.0",
      "model_name": "HBoxModel",
      "state": {
       "children": [
        "IPY_MODEL_138e09f1988544f8b3b2ca90679869ec"
       ],
       "layout": "IPY_MODEL_c82057ce68b149f3bfca3dffba1b2707"
      }
     },
     "7b7671870162487785966c847c158c49": {
      "model_module": "@jupyter-widgets/controls",
      "model_module_version": "1.5.0",
      "model_name": "ButtonStyleModel",
      "state": {
       "button_color": "lightblue"
      }
     },
     "7b7d9b328e6849bab6aeaa7d62796a8c": {
      "model_module": "@jupyter-widgets/base",
      "model_module_version": "1.2.0",
      "model_name": "LayoutModel",
      "state": {}
     },
     "7b8b6d32354f48419427cadef3f284cb": {
      "model_module": "@jupyter-widgets/controls",
      "model_module_version": "1.5.0",
      "model_name": "SelectMultipleModel",
      "state": {
       "index": [],
       "layout": "IPY_MODEL_51510e0fea01403c9c7df3f298bab970",
       "rows": 5,
       "style": "IPY_MODEL_7f959d1900ec43c5801ca897d124c44e"
      }
     },
     "7b8c1679f3c94f68b3ab605e8c4664e4": {
      "model_module": "@jupyter-widgets/base",
      "model_module_version": "1.2.0",
      "model_name": "LayoutModel",
      "state": {
       "width": "40%"
      }
     },
     "7b9b82d1835e4fb9ab000228f7fda49b": {
      "model_module": "@jupyter-widgets/controls",
      "model_module_version": "1.5.0",
      "model_name": "DescriptionStyleModel",
      "state": {
       "description_width": ""
      }
     },
     "7bc53b13fdc44fc7bb0818ff584bd531": {
      "model_module": "@jupyter-widgets/controls",
      "model_module_version": "1.5.0",
      "model_name": "CheckboxModel",
      "state": {
       "description": "Check to set",
       "disabled": false,
       "indent": false,
       "layout": "IPY_MODEL_4a14ffb0d1b84d3da68d39d92abdb6b2",
       "style": "IPY_MODEL_684f62ffb188450597ee11bceecf5c1d",
       "value": true
      }
     },
     "7bdb403431ec4a8499a15337464ce05d": {
      "model_module": "@jupyter-widgets/base",
      "model_module_version": "1.2.0",
      "model_name": "LayoutModel",
      "state": {}
     },
     "7bf0555fa3c34d209d13e577fae04546": {
      "model_module": "@jupyter-widgets/controls",
      "model_module_version": "1.5.0",
      "model_name": "ButtonModel",
      "state": {
       "description": "Remove block",
       "layout": "IPY_MODEL_7f2f859bc1d14c99a085e82ac52251e3",
       "style": "IPY_MODEL_0ba976e043034f65a0e56108a1076f4f"
      }
     },
     "7bf3daed303c46218846c013e7105272": {
      "model_module": "@jupyter-widgets/controls",
      "model_module_version": "1.5.0",
      "model_name": "ButtonModel",
      "state": {
       "description": "Save Script",
       "icon": "check",
       "layout": "IPY_MODEL_ce2599ae963c47068fb85cbe456530ab",
       "style": "IPY_MODEL_c6831d21344f4e41909a29551235229a"
      }
     },
     "7bfb19ef917542f09276aa25d5c90ade": {
      "model_module": "@jupyter-widgets/base",
      "model_module_version": "1.2.0",
      "model_name": "LayoutModel",
      "state": {
       "margin": "10px 0px 0px 10px",
       "width": "50%"
      }
     },
     "7c02d6a5a13043d596cad4098e2c8923": {
      "model_module": "@jupyter-widgets/controls",
      "model_module_version": "1.5.0",
      "model_name": "DescriptionStyleModel",
      "state": {
       "description_width": ""
      }
     },
     "7c27f2240a0c44469f23bc5aba8bfe42": {
      "model_module": "@jupyter-widgets/base",
      "model_module_version": "1.2.0",
      "model_name": "LayoutModel",
      "state": {}
     },
     "7c32a0764f254713be04aeea3f32a630": {
      "model_module": "@jupyter-widgets/base",
      "model_module_version": "1.2.0",
      "model_name": "LayoutModel",
      "state": {}
     },
     "7c44f360a92d442a9486f326ef455cef": {
      "model_module": "@jupyter-widgets/controls",
      "model_module_version": "1.5.0",
      "model_name": "HBoxModel",
      "state": {
       "children": [
        "IPY_MODEL_2d4c969597d04fe1ae9fc23c6d58df66",
        "IPY_MODEL_59188a0ebd4141a28fa034aff249c8d7",
        "IPY_MODEL_914a74ecbb0a4b9aa369920de0a9b071"
       ],
       "layout": "IPY_MODEL_d53783a7e2f64335bf4d7df882fc7ed9"
      }
     },
     "7c496e53f720445baac11fbdb3e8b53a": {
      "model_module": "@jupyter-widgets/base",
      "model_module_version": "1.2.0",
      "model_name": "LayoutModel",
      "state": {
       "margin": "40px 0px 0px 10px",
       "width": "120px"
      }
     },
     "7c5a55fac5cf4acab0b2773bb64bb02b": {
      "model_module": "@jupyter-widgets/base",
      "model_module_version": "1.2.0",
      "model_name": "LayoutModel",
      "state": {
       "margin": "30px 0px 10px 0px"
      }
     },
     "7c72795364e046c4af8dbb1298b65532": {
      "model_module": "@jupyter-widgets/base",
      "model_module_version": "1.2.0",
      "model_name": "LayoutModel",
      "state": {
       "margin": "0px 10px 0px 0px",
       "width": "60px"
      }
     },
     "7c868ddccb804d3dba08726b47993ad2": {
      "model_module": "@jupyter-widgets/controls",
      "model_module_version": "1.5.0",
      "model_name": "DescriptionStyleModel",
      "state": {
       "description_width": ""
      }
     },
     "7c911a0954414bc9a57746a36810c466": {
      "model_module": "@jupyter-widgets/controls",
      "model_module_version": "1.5.0",
      "model_name": "HTMLModel",
      "state": {
       "layout": "IPY_MODEL_27919b6e134048d19200c9364e391d8b",
       "style": "IPY_MODEL_bd7c044f2a794c53b054cc80116f413b",
       "value": "<b> Receive <<< </b>"
      }
     },
     "7c93fd0ab89b4d37b68adbca7e88e905": {
      "model_module": "@jupyter-widgets/controls",
      "model_module_version": "1.5.0",
      "model_name": "HBoxModel",
      "state": {
       "children": [
        "IPY_MODEL_ef6330e6ed914479b30de38c202d7475",
        "IPY_MODEL_554d8fb1a5124ee281ca5b9715fe4b8c",
        "IPY_MODEL_868fec40aa7b428285fc8e1f562553bd"
       ],
       "layout": "IPY_MODEL_bc29bd90f59e4d49ba0dfe7e016fcb89"
      }
     },
     "7c95911405384f24ac9d1d76da039aa3": {
      "model_module": "@jupyter-widgets/controls",
      "model_module_version": "1.5.0",
      "model_name": "ButtonStyleModel",
      "state": {}
     },
     "7ccc36cdb472486193fa0d2b014a92af": {
      "model_module": "@jupyter-widgets/controls",
      "model_module_version": "1.5.0",
      "model_name": "DropdownModel",
      "state": {
       "_options_labels": [
        "df"
       ],
       "description": "output token:",
       "index": 0,
       "layout": "IPY_MODEL_c13b6c5ef25a4f919a86df734c473abf",
       "style": "IPY_MODEL_6d3ef8677a594e1e9c85eab922cea603"
      }
     },
     "7ccf3cf3bc0e45b28058d16ab87d2d33": {
      "model_module": "@jupyter-widgets/base",
      "model_module_version": "1.2.0",
      "model_name": "LayoutModel",
      "state": {
       "margin": "0px 0px 0px 10px"
      }
     },
     "7d1b59b6b8aa43abb59e613c3a50783c": {
      "model_module": "@jupyter-widgets/controls",
      "model_module_version": "1.5.0",
      "model_name": "DescriptionStyleModel",
      "state": {
       "description_width": ""
      }
     },
     "7d57f1e7291f4e13995611d8dbac4311": {
      "model_module": "@jupyter-widgets/controls",
      "model_module_version": "1.5.0",
      "model_name": "DescriptionStyleModel",
      "state": {
       "description_width": ""
      }
     },
     "7d75ad6349854368bf04c73972cfa2ab": {
      "model_module": "@jupyter-widgets/controls",
      "model_module_version": "1.5.0",
      "model_name": "DropdownModel",
      "state": {
       "_options_labels": [
        "iv1",
        "iv2",
        "iv3",
        "iv4",
        "iv5",
        "iv6"
       ],
       "description": "input token:",
       "index": 0,
       "layout": "IPY_MODEL_50ec5eebf0924afb9f21ec957619661a",
       "style": "IPY_MODEL_34715620bab3492b91387de9a445b5ce"
      }
     },
     "7d83f2ad0d5640018bf851d7aa9b9815": {
      "model_module": "@jupyter-widgets/controls",
      "model_module_version": "1.5.0",
      "model_name": "ToggleButtonsModel",
      "state": {
       "_options_labels": [
        "Represent",
        "inorganic descriptors",
        "chemml",
        "CoulombMatrixAttributeGenerator"
       ],
       "button_style": "info",
       "icons": [],
       "index": 0,
       "layout": "IPY_MODEL_68a7d070a76446668af6a2395edffeb2",
       "style": "IPY_MODEL_82fc034d5b544ca6986f9be02620eeb3",
       "tooltips": []
      }
     },
     "7dab0707498940648bea1c27cc5f5dbf": {
      "model_module": "@jupyter-widgets/controls",
      "model_module_version": "1.5.0",
      "model_name": "DescriptionStyleModel",
      "state": {
       "description_width": "initial"
      }
     },
     "7dc41127afaa4aa39b0e58addfc43a87": {
      "model_module": "@jupyter-widgets/controls",
      "model_module_version": "1.5.0",
      "model_name": "DescriptionStyleModel",
      "state": {
       "description_width": ""
      }
     },
     "7dc5f0026785405c8e9f14cfb445dd0a": {
      "model_module": "@jupyter-widgets/controls",
      "model_module_version": "1.5.0",
      "model_name": "DescriptionStyleModel",
      "state": {
       "description_width": ""
      }
     },
     "7dfcee4bc0df4898ab26367dba559f76": {
      "model_module": "@jupyter-widgets/base",
      "model_module_version": "1.2.0",
      "model_name": "LayoutModel",
      "state": {}
     },
     "7dfdc8489e29490c88cbbac59106aec3": {
      "model_module": "@jupyter-widgets/controls",
      "model_module_version": "1.5.0",
      "model_name": "TextModel",
      "state": {
       "description": "line09",
       "layout": "IPY_MODEL_a60d6cb654c34a31949e1deb81320649",
       "placeholder": "[]",
       "style": "IPY_MODEL_33a18f3992fd468db226c2b7eb6972c2",
       "value": "type python code"
      }
     },
     "7e336104fcc64682842692616e76caa7": {
      "model_module": "@jupyter-widgets/base",
      "model_module_version": "1.2.0",
      "model_name": "LayoutModel",
      "state": {
       "width": "100%"
      }
     },
     "7e54dc010e044b08b14414f947a928d8": {
      "model_module": "@jupyter-widgets/controls",
      "model_module_version": "1.5.0",
      "model_name": "LabelModel",
      "state": {
       "layout": "IPY_MODEL_34efbcda488e4dc88f745a11c986f09a",
       "style": "IPY_MODEL_0af0e38486e749b880e12e99518c48fe",
       "value": "Start with a new script"
      }
     },
     "7e553ce370ec4dddbcd99311b0c01a77": {
      "model_module": "@jupyter-widgets/controls",
      "model_module_version": "1.5.0",
      "model_name": "ButtonModel",
      "state": {
       "description": "Remove pipe",
       "icon": "remove",
       "layout": "IPY_MODEL_8920c99aa5504aec97e0f5e092dc4a7f",
       "style": "IPY_MODEL_5bcd93d4cd0645829a53ce22a918abf4"
      }
     },
     "7e5cd2cd52db41c6a7ab40ad80bf45a4": {
      "model_module": "@jupyter-widgets/base",
      "model_module_version": "1.2.0",
      "model_name": "LayoutModel",
      "state": {
       "margin": "20px 0px 20px 250px"
      }
     },
     "7e6035cda79343598abf437b158d1e55": {
      "model_module": "@jupyter-widgets/base",
      "model_module_version": "1.2.0",
      "model_name": "LayoutModel",
      "state": {
       "align_items": "center",
       "border": "dotted black 1px",
       "height": "40px",
       "justify_content": "center"
      }
     },
     "7e7edbe1e5d34b6aaa500dea8450e510": {
      "model_module": "@jupyter-widgets/controls",
      "model_module_version": "1.5.0",
      "model_name": "DropdownModel",
      "state": {
       "_options_labels": [
        "2",
        "3",
        "4",
        "5"
       ],
       "description": "block#:",
       "index": 0,
       "layout": "IPY_MODEL_5b6b21158c124b13bfc6c9276b66caa7",
       "style": "IPY_MODEL_8ece52986865421a91210ec3ebd7176d"
      }
     },
     "7eba47592c4748d5b7ab4b785ab24e32": {
      "model_module": "@jupyter-widgets/controls",
      "model_module_version": "1.5.0",
      "model_name": "DescriptionStyleModel",
      "state": {
       "description_width": ""
      }
     },
     "7ec0a93ecd954c109956cdfca06720b3": {
      "model_module": "@jupyter-widgets/controls",
      "model_module_version": "1.5.0",
      "model_name": "DescriptionStyleModel",
      "state": {
       "description_width": ""
      }
     },
     "7ee396a5f10848adbf10fbfc92927881": {
      "model_module": "@jupyter-widgets/controls",
      "model_module_version": "1.5.0",
      "model_name": "DropdownModel",
      "state": {
       "_options_labels": [
        "2",
        "3"
       ],
       "description": "block#:",
       "index": 0,
       "layout": "IPY_MODEL_b7d3936d258c40ed8c7ae74c677dc32f",
       "style": "IPY_MODEL_253eec362d8046be9a15f8c18be3fd14"
      }
     },
     "7ee8214bc76b446a812fd1cace2a8027": {
      "model_module": "@jupyter-widgets/controls",
      "model_module_version": "1.5.0",
      "model_name": "DescriptionStyleModel",
      "state": {
       "description_width": ""
      }
     },
     "7f085ecf7e4b4f21aa258de866870c87": {
      "model_module": "@jupyter-widgets/controls",
      "model_module_version": "1.5.0",
      "model_name": "CheckboxModel",
      "state": {
       "description": "Check to set",
       "disabled": false,
       "indent": false,
       "layout": "IPY_MODEL_a4ceec27f6d04d50ba6b050f6421d7ad",
       "style": "IPY_MODEL_96bf992e530543e8bf81822b57ac34bd",
       "value": false
      }
     },
     "7f2f859bc1d14c99a085e82ac52251e3": {
      "model_module": "@jupyter-widgets/base",
      "model_module_version": "1.2.0",
      "model_name": "LayoutModel",
      "state": {
       "margin": "10px 0px 10px 400px"
      }
     },
     "7f4462c22328432a97e2c59d5a9e3eb8": {
      "model_module": "@jupyter-widgets/controls",
      "model_module_version": "1.5.0",
      "model_name": "CheckboxModel",
      "state": {
       "description": "Check to set",
       "disabled": false,
       "indent": false,
       "layout": "IPY_MODEL_0b0f00ef3f374228bf663cef84d57a08",
       "style": "IPY_MODEL_08a75728c1a74ff3b1cb49167371bd06",
       "value": false
      }
     },
     "7f450e74347e4ade90f7d112cdec32e9": {
      "model_module": "@jupyter-widgets/base",
      "model_module_version": "1.2.0",
      "model_name": "LayoutModel",
      "state": {
       "margin": "0px 10px 0px 0px",
       "width": "60px"
      }
     },
     "7f8eb88c45b842b09f086ee0f248367d": {
      "model_module": "@jupyter-widgets/base",
      "model_module_version": "1.2.0",
      "model_name": "LayoutModel",
      "state": {}
     },
     "7f959d1900ec43c5801ca897d124c44e": {
      "model_module": "@jupyter-widgets/controls",
      "model_module_version": "1.5.0",
      "model_name": "DescriptionStyleModel",
      "state": {
       "description_width": ""
      }
     },
     "7fb4808fd9d044f9b01725a6c4018319": {
      "model_module": "@jupyter-widgets/controls",
      "model_module_version": "1.5.0",
      "model_name": "DropdownModel",
      "state": {
       "description": "block#:",
       "index": null,
       "layout": "IPY_MODEL_496b87ef67b04fb6a8fa9ce2d3ecc68b",
       "style": "IPY_MODEL_7554c14953f64478a0508ee9d1c61c93"
      }
     },
     "7fb950f296534394b4fdc868742fe73d": {
      "model_module": "@jupyter-widgets/base",
      "model_module_version": "1.2.0",
      "model_name": "LayoutModel",
      "state": {
       "margin": "20px 0px 0px 10px"
      }
     },
     "7fd2e003b34243a58246b4201281ae36": {
      "model_module": "@jupyter-widgets/controls",
      "model_module_version": "1.5.0",
      "model_name": "DescriptionStyleModel",
      "state": {
       "description_width": ""
      }
     },
     "7fdb4de23fea43088841b5b983b942a7": {
      "model_module": "@jupyter-widgets/base",
      "model_module_version": "1.2.0",
      "model_name": "LayoutModel",
      "state": {
       "align_items": "center",
       "border": "dotted black 1px",
       "height": "40px",
       "justify_content": "center"
      }
     },
     "7fe7855881804a51a3dc31319f6c9696": {
      "model_module": "@jupyter-widgets/controls",
      "model_module_version": "1.5.0",
      "model_name": "DescriptionStyleModel",
      "state": {
       "description_width": ""
      }
     },
     "80069832cc524d9db1bf168c5c5c0511": {
      "model_module": "@jupyter-widgets/base",
      "model_module_version": "1.2.0",
      "model_name": "LayoutModel",
      "state": {}
     },
     "8011d765667b47f59fae11207da5e97e": {
      "model_module": "@jupyter-widgets/base",
      "model_module_version": "1.2.0",
      "model_name": "LayoutModel",
      "state": {}
     },
     "8022fa82bd484f9cb6b3f7d16713f9e4": {
      "model_module": "@jupyter-widgets/base",
      "model_module_version": "1.2.0",
      "model_name": "LayoutModel",
      "state": {
       "margin": "10px 0px 0px 10px",
       "width": "50%"
      }
     },
     "805d0cc5413d4b1dae324adc6acc1784": {
      "model_module": "@jupyter-widgets/base",
      "model_module_version": "1.2.0",
      "model_name": "LayoutModel",
      "state": {}
     },
     "8065a3cf35b04c3cbe97a8a46e31fa53": {
      "model_module": "@jupyter-widgets/base",
      "model_module_version": "1.2.0",
      "model_name": "LayoutModel",
      "state": {
       "margin": "20px 0px 0px 10px"
      }
     },
     "80c9d399af704842a98c54b805d570bc": {
      "model_module": "@jupyter-widgets/controls",
      "model_module_version": "1.5.0",
      "model_name": "HBoxModel",
      "state": {
       "children": [
        "IPY_MODEL_071d028ce86e4c8782598d42a58ddec6"
       ],
       "layout": "IPY_MODEL_bc8b8efc79ec47de91d38df1c2ff5c6f"
      }
     },
     "80d1359d6431402fb186f619bddd2864": {
      "model_module": "@jupyter-widgets/controls",
      "model_module_version": "1.5.0",
      "model_name": "ButtonStyleModel",
      "state": {
       "button_color": "lightblue"
      }
     },
     "80e41b97573d4651984867a8d5269577": {
      "model_module": "@jupyter-widgets/base",
      "model_module_version": "1.2.0",
      "model_name": "LayoutModel",
      "state": {
       "margin": "0px 10px 0px 0px",
       "width": "60px"
      }
     },
     "80e641d9aa0446f3bfcf3a28f671cbd4": {
      "model_module": "@jupyter-widgets/base",
      "model_module_version": "1.2.0",
      "model_name": "LayoutModel",
      "state": {}
     },
     "80ff226383604493bf0d46ae260898ed": {
      "model_module": "@jupyter-widgets/controls",
      "model_module_version": "1.5.0",
      "model_name": "HTMLModel",
      "state": {
       "layout": "IPY_MODEL_dab1f0ce6579459382849b9f5484dcf1",
       "style": "IPY_MODEL_d99e84ebaf9a4baf9bf2bde98f101c71",
       "value": "<b>Documentation: </b>"
      }
     },
     "80ffc26d09774b99a3f66ed75d52376f": {
      "model_module": "@jupyter-widgets/controls",
      "model_module_version": "1.5.0",
      "model_name": "DescriptionStyleModel",
      "state": {
       "description_width": ""
      }
     },
     "812050cb8c714b9d9092b28fa00d260a": {
      "model_module": "@jupyter-widgets/base",
      "model_module_version": "1.2.0",
      "model_name": "LayoutModel",
      "state": {}
     },
     "81326ffce59b4daf8a2c56f5042a9305": {
      "model_module": "@jupyter-widgets/base",
      "model_module_version": "1.2.0",
      "model_name": "LayoutModel",
      "state": {
       "width": "40%"
      }
     },
     "8132d6b43c1d4275a4748ea1101e0445": {
      "model_module": "@jupyter-widgets/controls",
      "model_module_version": "1.5.0",
      "model_name": "ButtonModel",
      "state": {
       "description": "Select",
       "layout": "IPY_MODEL_f486b9f0c4f24cbaad0940bb7236c22d",
       "style": "IPY_MODEL_20f1ed59703944fc887adf6ffbda79c1"
      }
     },
     "8143b4dfdb2d4bb4b3ea6bb99e5f2134": {
      "model_module": "@jupyter-widgets/controls",
      "model_module_version": "1.5.0",
      "model_name": "CheckboxModel",
      "state": {
       "description": "Check to set",
       "disabled": false,
       "indent": false,
       "layout": "IPY_MODEL_18e6174f36b742a1b1e19fae8ab081ad",
       "style": "IPY_MODEL_bb7df06df3d64439a49d62b14228cdbf",
       "value": false
      }
     },
     "81521f2ea1604e569eada1f6dc5f539f": {
      "model_module": "@jupyter-widgets/controls",
      "model_module_version": "1.5.0",
      "model_name": "DescriptionStyleModel",
      "state": {
       "description_width": ""
      }
     },
     "81662c2a03d04822bcc8b0061bca6aa0": {
      "model_module": "@jupyter-widgets/controls",
      "model_module_version": "1.5.0",
      "model_name": "LabelModel",
      "state": {
       "layout": "IPY_MODEL_3cc98f897550477eaf86e240f83c5e48",
       "style": "IPY_MODEL_07ffd5bc4dc042a193f65c98809cc541",
       "value": "Template 1: load_comp_energy --> inorganic descriptors for composition entries --> concatenate and print shape"
      }
     },
     "816cdb2896b740b78577fc62924ec3c1": {
      "model_module": "@jupyter-widgets/controls",
      "model_module_version": "1.5.0",
      "model_name": "DescriptionStyleModel",
      "state": {
       "description_width": ""
      }
     },
     "81775b3331404fbb95d54c325cab0389": {
      "model_module": "@jupyter-widgets/controls",
      "model_module_version": "1.5.0",
      "model_name": "DescriptionStyleModel",
      "state": {
       "description_width": ""
      }
     },
     "81c88e9d6c51474897f8bf555076cd98": {
      "model_module": "@jupyter-widgets/base",
      "model_module_version": "1.2.0",
      "model_name": "LayoutModel",
      "state": {}
     },
     "81d1610ee21146ee8b003e87a16f9582": {
      "model_module": "@jupyter-widgets/controls",
      "model_module_version": "1.5.0",
      "model_name": "DescriptionStyleModel",
      "state": {
       "description_width": ""
      }
     },
     "8223e29f9df7441eadcea45902906e79": {
      "model_module": "@jupyter-widgets/base",
      "model_module_version": "1.2.0",
      "model_name": "LayoutModel",
      "state": {
       "margin": "20px 0px 0px 20px"
      }
     },
     "822d0095c23b4ad19008b46931122b6a": {
      "model_module": "@jupyter-widgets/controls",
      "model_module_version": "1.5.0",
      "model_name": "ButtonModel",
      "state": {
       "description": "Load",
       "layout": "IPY_MODEL_522f68e4d04a4d0cb671113bb2af4adb",
       "style": "IPY_MODEL_9f6b39b0dad845f9a6b3d14c35bb9617"
      }
     },
     "825621b4f75341e8b0ec25d9780959fd": {
      "model_module": "@jupyter-widgets/controls",
      "model_module_version": "1.5.0",
      "model_name": "LabelModel",
      "state": {
       "layout": "IPY_MODEL_c1b3b5c42e8a4b129a143a4e8b622c09",
       "style": "IPY_MODEL_d7b15a3fb4a847109d87cb6a89c5fbba",
       "value": "Start with a template workflow"
      }
     },
     "825d3c4fc35d48ccb359732edbcc982c": {
      "model_module": "@jupyter-widgets/base",
      "model_module_version": "1.2.0",
      "model_name": "LayoutModel",
      "state": {
       "margin": "20px 0px 0px 0px",
       "width": "50%"
      }
     },
     "8261c1e538d943eda299a4d1735961ae": {
      "model_module": "@jupyter-widgets/controls",
      "model_module_version": "1.5.0",
      "model_name": "DropdownModel",
      "state": {
       "_options_labels": [
        "entries"
       ],
       "description": "output token:",
       "index": 0,
       "layout": "IPY_MODEL_2c0f9d5c3c9147698939bc1fff46d479",
       "style": "IPY_MODEL_20181cec050445de95a0122f29944169"
      }
     },
     "82643df66d6d43e2913e1e76e25b2829": {
      "model_module": "@jupyter-widgets/controls",
      "model_module_version": "1.5.0",
      "model_name": "HBoxModel",
      "state": {
       "children": [
        "IPY_MODEL_0b9c908684e940508179c23ee3b40579",
        "IPY_MODEL_56db7d5fa246499ab8e12e76dfc3effc",
        "IPY_MODEL_55100b1b3548499d895cc6f0df03fce4"
       ],
       "layout": "IPY_MODEL_df6f377769044db5a20c510bc75aa450"
      }
     },
     "8272bd2b2bd74602b119a6299aa8f86c": {
      "model_module": "@jupyter-widgets/controls",
      "model_module_version": "1.5.0",
      "model_name": "ButtonModel",
      "state": {
       "icon": "refresh",
       "layout": "IPY_MODEL_25f654335781432783124aaa3f98b7de",
       "style": "IPY_MODEL_b9ba5eaad86843a89fc9731d6e5a3160"
      }
     },
     "827d8b45f06049b5b99255cc1049e2e3": {
      "model_module": "@jupyter-widgets/base",
      "model_module_version": "1.2.0",
      "model_name": "LayoutModel",
      "state": {}
     },
     "8297e344f38d457e80d75fdfc0bd29df": {
      "model_module": "@jupyter-widgets/controls",
      "model_module_version": "1.5.0",
      "model_name": "VBoxModel",
      "state": {
       "children": [
        "IPY_MODEL_f3f3854993e44c80aa92a14dafc9ee3c"
       ],
       "layout": "IPY_MODEL_0b01fc3b35854f39995e3d47af8a2132"
      }
     },
     "82cd00c0b63f4040bf442d838b18265a": {
      "model_module": "@jupyter-widgets/base",
      "model_module_version": "1.2.0",
      "model_name": "LayoutModel",
      "state": {}
     },
     "82fc034d5b544ca6986f9be02620eeb3": {
      "model_module": "@jupyter-widgets/controls",
      "model_module_version": "1.5.0",
      "model_name": "ToggleButtonsStyleModel",
      "state": {
       "button_width": "",
       "description_width": ""
      }
     },
     "830af51a00a54340b9747504f8e031f4": {
      "model_module": "@jupyter-widgets/base",
      "model_module_version": "1.2.0",
      "model_name": "LayoutModel",
      "state": {
       "margin": "0px 0px 0px 10px"
      }
     },
     "830e39315ebf49d3961db86f196c77d6": {
      "model_module": "@jupyter-widgets/base",
      "model_module_version": "1.2.0",
      "model_name": "LayoutModel",
      "state": {}
     },
     "83201baa51804e24b5786586d97665d5": {
      "model_module": "@jupyter-widgets/controls",
      "model_module_version": "1.5.0",
      "model_name": "ToggleButtonsStyleModel",
      "state": {
       "button_width": "",
       "description_width": ""
      }
     },
     "833235540ee94d0d83de0ef856f4a5b6": {
      "model_module": "@jupyter-widgets/controls",
      "model_module_version": "1.5.0",
      "model_name": "DropdownModel",
      "state": {
       "_options_labels": [
        "2",
        "3",
        "4",
        "5",
        "6"
       ],
       "description": "block#:",
       "index": 0,
       "layout": "IPY_MODEL_6a89d98ea94540a9a0b70e4d7d055d70",
       "style": "IPY_MODEL_81d1610ee21146ee8b003e87a16f9582"
      }
     },
     "8336194995e54e869236b8d67e5292f3": {
      "model_module": "@jupyter-widgets/controls",
      "model_module_version": "1.5.0",
      "model_name": "DescriptionStyleModel",
      "state": {
       "description_width": ""
      }
     },
     "83519e1a8bf744e3862647094cebc288": {
      "model_module": "@jupyter-widgets/controls",
      "model_module_version": "1.5.0",
      "model_name": "VBoxModel",
      "state": {
       "children": [
        "IPY_MODEL_340c7d289e6744ee91818e2bb884c148",
        "IPY_MODEL_55a68efebde94f8da86e306b8290c261",
        "IPY_MODEL_5889b070581b41c78f668110580f785d",
        "IPY_MODEL_84996cae72fd4b34ae83c03251466c8f",
        "IPY_MODEL_b02d5c06f43b46a8b10bfa246874b226"
       ],
       "layout": "IPY_MODEL_64ed734f9ae64e708f2f48d2e9f36a6e"
      }
     },
     "8359fd7f9ba8460eb57e760f498f882a": {
      "model_module": "@jupyter-widgets/base",
      "model_module_version": "1.2.0",
      "model_name": "LayoutModel",
      "state": {}
     },
     "836761cfea624354a12c1301234eb52d": {
      "model_module": "@jupyter-widgets/base",
      "model_module_version": "1.2.0",
      "model_name": "LayoutModel",
      "state": {}
     },
     "837f34570b6043e38216dd2f2345db35": {
      "model_module": "@jupyter-widgets/controls",
      "model_module_version": "1.5.0",
      "model_name": "HTMLModel",
      "state": {
       "layout": "IPY_MODEL_ffcc8c9b16484d8bbce29b68e468528c",
       "style": "IPY_MODEL_510376ac8215477aace4194f83674113",
       "value": "all input tokens: entries"
      }
     },
     "83c373b2a0b14af193de197f4298cf27": {
      "model_module": "@jupyter-widgets/controls",
      "model_module_version": "1.5.0",
      "model_name": "DescriptionStyleModel",
      "state": {
       "description_width": "initial"
      }
     },
     "83c5b1068a9940e493b1afc71f40c9da": {
      "model_module": "@jupyter-widgets/base",
      "model_module_version": "1.2.0",
      "model_name": "LayoutModel",
      "state": {}
     },
     "83dede08aaad4cd1984b8979b3420a0d": {
      "model_module": "@jupyter-widgets/controls",
      "model_module_version": "1.5.0",
      "model_name": "ButtonModel",
      "state": {
       "icon": "refresh",
       "layout": "IPY_MODEL_f9be5b9542a54b60b285567c2773763b",
       "style": "IPY_MODEL_7c95911405384f24ac9d1d76da039aa3"
      }
     },
     "83df440328924bee8d8fd38304d97be6": {
      "model_module": "@jupyter-widgets/controls",
      "model_module_version": "1.5.0",
      "model_name": "HTMLModel",
      "state": {
       "layout": "IPY_MODEL_0800b006463b417d9b8a3500dfb817d7",
       "style": "IPY_MODEL_23a1a0949567460ea38fbf1ef891a960",
       "value": "<b> <<< </b>"
      }
     },
     "83e0a7a497ee415f9ad9d450d456d66e": {
      "model_module": "@jupyter-widgets/base",
      "model_module_version": "1.2.0",
      "model_name": "LayoutModel",
      "state": {}
     },
     "83f3877fc1e74ea08c93c05b8d188c2b": {
      "model_module": "@jupyter-widgets/controls",
      "model_module_version": "1.5.0",
      "model_name": "ButtonModel",
      "state": {
       "description": "Add",
       "layout": "IPY_MODEL_88727dcbacdd4778877abd76f5b89625",
       "style": "IPY_MODEL_ac5e6f5d9ac146bf9c087ff7d9a15d35"
      }
     },
     "83fa7c7ee90648a19ea4e7e5ce91daa1": {
      "model_module": "@jupyter-widgets/controls",
      "model_module_version": "1.5.0",
      "model_name": "TextareaModel",
      "state": {
       "layout": "IPY_MODEL_ea9c5d2f11d5475ba6c57440e3a6d6d9",
       "placeholder": "copy a ChemML script (config file) here",
       "style": "IPY_MODEL_ab22b41640c94816a1dd8545c9d6978b"
      }
     },
     "84354dfabb584083ac127e6515c9a500": {
      "model_module": "@jupyter-widgets/base",
      "model_module_version": "1.2.0",
      "model_name": "LayoutModel",
      "state": {}
     },
     "84372b4e0ecf42a9a9d799e9a9273cb9": {
      "model_module": "@jupyter-widgets/base",
      "model_module_version": "1.2.0",
      "model_name": "LayoutModel",
      "state": {
       "width": "50%"
      }
     },
     "84387af92dc44b1bb3451dd4a69d5480": {
      "model_module": "@jupyter-widgets/controls",
      "model_module_version": "1.5.0",
      "model_name": "DropdownModel",
      "state": {
       "_options_labels": [
        "2"
       ],
       "description": "block#:",
       "index": 0,
       "layout": "IPY_MODEL_065e483af86d44fcbf869821dc21b6f3",
       "style": "IPY_MODEL_e09d231a4e854bbb86f1185b9d5e7b1c"
      }
     },
     "843d1f163a454acc81ff7d90f5595a0c": {
      "model_module": "@jupyter-widgets/base",
      "model_module_version": "1.2.0",
      "model_name": "LayoutModel",
      "state": {
       "margin": "0px 0px 0px 10px"
      }
     },
     "845cc3f1eb4741c1b8e4d5e9c5b86426": {
      "model_module": "@jupyter-widgets/controls",
      "model_module_version": "1.5.0",
      "model_name": "DescriptionStyleModel",
      "state": {
       "description_width": ""
      }
     },
     "84996cae72fd4b34ae83c03251466c8f": {
      "model_module": "@jupyter-widgets/controls",
      "model_module_version": "1.5.0",
      "model_name": "TabModel",
      "state": {
       "_titles": {
        "0": "Parameters",
        "1": "Input/Output"
       },
       "children": [
        "IPY_MODEL_a444d2a6371d4f08a4ca6ea39be0e255",
        "IPY_MODEL_38569481833e4e63a2a7ef4b1da9ef02"
       ],
       "layout": "IPY_MODEL_7aab2e797aa54ce494e45bdfa1fcd22a"
      }
     },
     "849d8a6aca304ecf856cf21b549e5739": {
      "model_module": "@jupyter-widgets/controls",
      "model_module_version": "1.5.0",
      "model_name": "ButtonModel",
      "state": {
       "icon": "refresh",
       "layout": "IPY_MODEL_5e9c2cd3837343cd8e922d08fcd68d54",
       "style": "IPY_MODEL_1a6927c45cb04b419230a0c15e5d1ac6"
      }
     },
     "84a6145b3a7843129aa0676301dd0d51": {
      "model_module": "@jupyter-widgets/controls",
      "model_module_version": "1.5.0",
      "model_name": "TextModel",
      "state": {
       "description": "Type:",
       "disabled": true,
       "layout": "IPY_MODEL_413e84d4af4c4db586d60673852eda3d",
       "style": "IPY_MODEL_7dc41127afaa4aa39b0e58addfc43a87"
      }
     },
     "84f178fa27674c9684d039a3c18bfbe2": {
      "model_module": "@jupyter-widgets/controls",
      "model_module_version": "1.5.0",
      "model_name": "HBoxModel",
      "state": {
       "children": [
        "IPY_MODEL_6b1070eb500a40a688a9f424c1de1330",
        "IPY_MODEL_f3e8e3558fed45c8b8a8d17361b4ce6e",
        "IPY_MODEL_a23d8f22197a4dd9b72f98a037a97bcf"
       ],
       "layout": "IPY_MODEL_b6c1fccc36b04ab79780680ca6771aef"
      }
     },
     "84f27ff97ef344ac9a65017acb3af1ba": {
      "model_module": "@jupyter-widgets/base",
      "model_module_version": "1.2.0",
      "model_name": "LayoutModel",
      "state": {}
     },
     "853a2aeabd0e4ae7862592462e20d41b": {
      "model_module": "@jupyter-widgets/base",
      "model_module_version": "1.2.0",
      "model_name": "LayoutModel",
      "state": {
       "margin": "0px 0px 0px 180px"
      }
     },
     "8582507e063b485e9c3782db72e8f73d": {
      "model_module": "@jupyter-widgets/controls",
      "model_module_version": "1.5.0",
      "model_name": "ButtonModel",
      "state": {
       "description": "Load",
       "layout": "IPY_MODEL_510087c7a3e64cb79a739a2e47364629",
       "style": "IPY_MODEL_60e82e6503874b0381e6320e5e178fa1"
      }
     },
     "85907e46d8334634a749da6a295166c7": {
      "model_module": "@jupyter-widgets/base",
      "model_module_version": "1.2.0",
      "model_name": "LayoutModel",
      "state": {
       "width": "40%"
      }
     },
     "85946269352c4392a03d4309cf4e7adf": {
      "model_module": "@jupyter-widgets/controls",
      "model_module_version": "1.5.0",
      "model_name": "DropdownModel",
      "state": {
       "description": "input token:",
       "index": null,
       "layout": "IPY_MODEL_3ebda88e7076434594224613394e1ca7",
       "style": "IPY_MODEL_0427bf0f38e64c3cbaa88d8d19e42d54"
      }
     },
     "85a19e4314db43479889037159ef9fe0": {
      "model_module": "@jupyter-widgets/controls",
      "model_module_version": "1.5.0",
      "model_name": "HBoxModel",
      "state": {
       "children": [
        "IPY_MODEL_88af8a368bba4023be54533bd8df5509"
       ],
       "layout": "IPY_MODEL_555a12c9b38742a49a53ff37484da964"
      }
     },
     "85cbe1da44394dd9b0bf823ce1721d42": {
      "model_module": "@jupyter-widgets/base",
      "model_module_version": "1.2.0",
      "model_name": "LayoutModel",
      "state": {
       "margin": "0px 10px 0px 0px",
       "width": "60px"
      }
     },
     "85fb0a64823443f8a9c637736f93a9c3": {
      "model_module": "@jupyter-widgets/controls",
      "model_module_version": "1.5.0",
      "model_name": "DescriptionStyleModel",
      "state": {
       "description_width": ""
      }
     },
     "8610549a506742d9b71ce1d442ed6c3a": {
      "model_module": "@jupyter-widgets/controls",
      "model_module_version": "1.5.0",
      "model_name": "ButtonStyleModel",
      "state": {}
     },
     "862ec81d7381446bb7b6b9dc1250ca40": {
      "model_module": "@jupyter-widgets/base",
      "model_module_version": "1.2.0",
      "model_name": "LayoutModel",
      "state": {}
     },
     "8649cf23d76a474b815be4b302719901": {
      "model_module": "@jupyter-widgets/controls",
      "model_module_version": "1.5.0",
      "model_name": "TextModel",
      "state": {
       "description": "line14",
       "layout": "IPY_MODEL_c0b6b332fc1849058941473909da15e3",
       "placeholder": "[]",
       "style": "IPY_MODEL_580a15bf93b446c5903a5bfe65539dba",
       "value": "type python code"
      }
     },
     "86622a7af91740729569a215d68d8490": {
      "model_module": "@jupyter-widgets/base",
      "model_module_version": "1.2.0",
      "model_name": "LayoutModel",
      "state": {
       "align_content": "center",
       "justify_content": "center"
      }
     },
     "86783a4b8c254ef398144428ca00ff18": {
      "model_module": "@jupyter-widgets/base",
      "model_module_version": "1.2.0",
      "model_name": "LayoutModel",
      "state": {
       "margin": "10px 0px 10px 0px",
       "width": "50%"
      }
     },
     "8678aa9d39a04628adbe07cc864f51d2": {
      "model_module": "@jupyter-widgets/controls",
      "model_module_version": "1.5.0",
      "model_name": "HBoxModel",
      "state": {
       "children": [
        "IPY_MODEL_e6430ea364704c968d340bd14693e45a",
        "IPY_MODEL_3356905d638c4108b1dc60585c9bbe38"
       ],
       "layout": "IPY_MODEL_22f5136f0fca475aba251a7dbac30032"
      }
     },
     "868fec40aa7b428285fc8e1f562553bd": {
      "model_module": "@jupyter-widgets/controls",
      "model_module_version": "1.5.0",
      "model_name": "TextModel",
      "state": {
       "description": "Type:",
       "disabled": true,
       "layout": "IPY_MODEL_c03f540ddd024d258c194a6537f8bde5",
       "style": "IPY_MODEL_0036483109844977ae408e4130fe38c6"
      }
     },
     "8693e087ffbc463a845887a72d27a854": {
      "model_module": "@jupyter-widgets/controls",
      "model_module_version": "1.5.0",
      "model_name": "HBoxModel",
      "state": {
       "children": [
        "IPY_MODEL_f6bece4cade64696b83e2b21bc703131",
        "IPY_MODEL_bf4ef2c7d6ff4b09bbeed1e41e3524ee",
        "IPY_MODEL_e249b8954adb48c58cb87d57438e32f5"
       ],
       "layout": "IPY_MODEL_82cd00c0b63f4040bf442d838b18265a"
      }
     },
     "86afabf8c0e94c979a0f21056d0a2b23": {
      "model_module": "@jupyter-widgets/controls",
      "model_module_version": "1.5.0",
      "model_name": "DescriptionStyleModel",
      "state": {
       "description_width": ""
      }
     },
     "86b3e80e21434e6ab7fe6b4b72a100ad": {
      "model_module": "@jupyter-widgets/controls",
      "model_module_version": "1.5.0",
      "model_name": "ButtonStyleModel",
      "state": {
       "button_color": "lightblue"
      }
     },
     "86cf7f28c92f41abbeef2401ca040aba": {
      "model_module": "@jupyter-widgets/controls",
      "model_module_version": "1.5.0",
      "model_name": "HTMLModel",
      "state": {
       "layout": "IPY_MODEL_0f514778a48f499aa5b106ca4c1c553d",
       "style": "IPY_MODEL_abb446d600944561a84797df0227b8e9",
       "value": "<b>Documentation: </b>"
      }
     },
     "87041d06ef7543639302b045fd13bc66": {
      "model_module": "@jupyter-widgets/base",
      "model_module_version": "1.2.0",
      "model_name": "LayoutModel",
      "state": {
       "margin": "0px 0px 0px 20px"
      }
     },
     "870dc9a7f916407db0b99a46480bb790": {
      "model_module": "@jupyter-widgets/base",
      "model_module_version": "1.2.0",
      "model_name": "LayoutModel",
      "state": {
       "margin": "20px 0px 0px 10px"
      }
     },
     "871c594a27aa4d998be6ce3b35d3d2fb": {
      "model_module": "@jupyter-widgets/controls",
      "model_module_version": "1.5.0",
      "model_name": "ButtonModel",
      "state": {
       "description": "Select",
       "layout": "IPY_MODEL_88e44dfa9427426b8b3344c33ee07145",
       "style": "IPY_MODEL_cd9ee47dc6c74f2aa0f691d0ed8532d5"
      }
     },
     "87257cb1bc2745a39881f564fb271948": {
      "model_module": "@jupyter-widgets/base",
      "model_module_version": "1.2.0",
      "model_name": "LayoutModel",
      "state": {}
     },
     "8746c387dcf6401c93e6050c7c6fbb56": {
      "model_module": "@jupyter-widgets/controls",
      "model_module_version": "1.5.0",
      "model_name": "HTMLModel",
      "state": {
       "layout": "IPY_MODEL_8359fd7f9ba8460eb57e760f498f882a",
       "style": "IPY_MODEL_7fe7855881804a51a3dc31319f6c9696",
       "value": "<b> >>> </b>"
      }
     },
     "878c213a056f46199d3e1bce1efd6845": {
      "model_module": "@jupyter-widgets/controls",
      "model_module_version": "1.5.0",
      "model_name": "HBoxModel",
      "state": {
       "children": [
        "IPY_MODEL_752d130e73fe446096c3b786b144d2f5",
        "IPY_MODEL_e841063b497340e8a4b16eb74f2cf96a"
       ],
       "layout": "IPY_MODEL_1f0fbca2c0d84e4cbf944bb7f13dff51"
      }
     },
     "878c5598c1f74a95b2500d0c32fcb197": {
      "model_module": "@jupyter-widgets/controls",
      "model_module_version": "1.5.0",
      "model_name": "DescriptionStyleModel",
      "state": {
       "description_width": ""
      }
     },
     "87c80601e3e741c0bc886b9f1ab9b1cc": {
      "model_module": "@jupyter-widgets/controls",
      "model_module_version": "1.5.0",
      "model_name": "HTMLModel",
      "state": {
       "layout": "IPY_MODEL_3f82a26ab70645b3b36fa6bf200314cb",
       "style": "IPY_MODEL_b9e5406d77e144048409537d1ed2f7b4",
       "value": "<b> Receive <<< </b>"
      }
     },
     "882334fd01ce4984bbde467438165c66": {
      "model_module": "@jupyter-widgets/base",
      "model_module_version": "1.2.0",
      "model_name": "LayoutModel",
      "state": {}
     },
     "88703257175a432280a346400b8d6d02": {
      "model_module": "@jupyter-widgets/controls",
      "model_module_version": "1.5.0",
      "model_name": "DescriptionStyleModel",
      "state": {
       "description_width": ""
      }
     },
     "88727dcbacdd4778877abd76f5b89625": {
      "model_module": "@jupyter-widgets/base",
      "model_module_version": "1.2.0",
      "model_name": "LayoutModel",
      "state": {
       "margin": "0px 10px 0px 0px",
       "width": "60px"
      }
     },
     "8887c72fe33b4f52824d1bd19845b848": {
      "model_module": "@jupyter-widgets/controls",
      "model_module_version": "1.5.0",
      "model_name": "ButtonStyleModel",
      "state": {}
     },
     "8890d690898c4384973f9531d94b3edc": {
      "model_module": "@jupyter-widgets/controls",
      "model_module_version": "1.5.0",
      "model_name": "DescriptionStyleModel",
      "state": {
       "description_width": ""
      }
     },
     "889136b0b37d4289b0fed14361fa47ae": {
      "model_module": "@jupyter-widgets/controls",
      "model_module_version": "1.5.0",
      "model_name": "DescriptionStyleModel",
      "state": {
       "description_width": ""
      }
     },
     "88af8a368bba4023be54533bd8df5509": {
      "model_module": "@jupyter-widgets/controls",
      "model_module_version": "1.5.0",
      "model_name": "DropdownModel",
      "state": {
       "_options_labels": [
        "entries"
       ],
       "description": "input token:",
       "index": 0,
       "layout": "IPY_MODEL_2b6332eb93bd4c71b97e7ee5b230ab3c",
       "style": "IPY_MODEL_af89dd22d59b4ed5ac822367ba0e3a25"
      }
     },
     "88b4601662e640ed998c9e7ea59863db": {
      "model_module": "@jupyter-widgets/controls",
      "model_module_version": "1.5.0",
      "model_name": "ButtonModel",
      "state": {
       "description": "Select",
       "icon": "check",
       "layout": "IPY_MODEL_607313fba49245ddbc773c1614c1b749",
       "style": "IPY_MODEL_cfdaacda75db4984912d68a0eb7c63c8"
      }
     },
     "88d51787fae54c6ea2108a7b6b850586": {
      "model_module": "@jupyter-widgets/controls",
      "model_module_version": "1.5.0",
      "model_name": "DescriptionStyleModel",
      "state": {
       "description_width": ""
      }
     },
     "88e44dfa9427426b8b3344c33ee07145": {
      "model_module": "@jupyter-widgets/base",
      "model_module_version": "1.2.0",
      "model_name": "LayoutModel",
      "state": {}
     },
     "88e8fd15061e4f05a1c7dd0e0ebb6c60": {
      "model_module": "@jupyter-widgets/controls",
      "model_module_version": "1.5.0",
      "model_name": "DescriptionStyleModel",
      "state": {
       "description_width": ""
      }
     },
     "88f7b7f3d588479086f275e057eff5cd": {
      "model_module": "@jupyter-widgets/base",
      "model_module_version": "1.2.0",
      "model_name": "LayoutModel",
      "state": {}
     },
     "8920c99aa5504aec97e0f5e092dc4a7f": {
      "model_module": "@jupyter-widgets/base",
      "model_module_version": "1.2.0",
      "model_name": "LayoutModel",
      "state": {
       "margin": "40px 0px 0px 10px",
       "width": "120px"
      }
     },
     "89408a011fc44c75ac0cff1473d7dfba": {
      "model_module": "@jupyter-widgets/base",
      "model_module_version": "1.2.0",
      "model_name": "LayoutModel",
      "state": {
       "align_items": "center",
       "justify_content": "space-between",
       "margin": "10px 0px 20px 0px"
      }
     },
     "897965940f9545c5ba666af09779e84a": {
      "model_module": "@jupyter-widgets/controls",
      "model_module_version": "1.5.0",
      "model_name": "DescriptionStyleModel",
      "state": {
       "description_width": ""
      }
     },
     "89a0b2e07a174b53800c8c8b9e663193": {
      "model_module": "@jupyter-widgets/base",
      "model_module_version": "1.2.0",
      "model_name": "LayoutModel",
      "state": {
       "margin": "20px 0px 0px 10px"
      }
     },
     "89c7b08e79f04440a5af8a9606e1db7c": {
      "model_module": "@jupyter-widgets/controls",
      "model_module_version": "1.5.0",
      "model_name": "TabModel",
      "state": {
       "_titles": {
        "0": "Parameters",
        "1": "Input/Output"
       },
       "children": [
        "IPY_MODEL_daa6efde5da445c6a9525dcb83acb8fe",
        "IPY_MODEL_4a492ec8be68433e972701c5cce61b31"
       ],
       "layout": "IPY_MODEL_cc3f8be4de764761be8ab12f2126e234"
      }
     },
     "89d3fc5c9b2c4911ab80dc9705b68dc1": {
      "model_module": "@jupyter-widgets/controls",
      "model_module_version": "1.5.0",
      "model_name": "TextModel",
      "state": {
       "description": "Type:",
       "disabled": true,
       "layout": "IPY_MODEL_70972e5c4ec14d40b2cd21f763c895a6",
       "style": "IPY_MODEL_48fe04baf845494eb337e56fae80790b"
      }
     },
     "89d57d4059424318a60d52391ebf5d3d": {
      "model_module": "@jupyter-widgets/controls",
      "model_module_version": "1.5.0",
      "model_name": "CheckboxModel",
      "state": {
       "description": "Check to set",
       "disabled": false,
       "indent": false,
       "layout": "IPY_MODEL_830af51a00a54340b9747504f8e031f4",
       "style": "IPY_MODEL_4ac766fe5b054a9794cb98f36083f5ed",
       "value": false
      }
     },
     "8a18a23e6c0b4036ac2f7bf400eb139b": {
      "model_module": "@jupyter-widgets/base",
      "model_module_version": "1.2.0",
      "model_name": "LayoutModel",
      "state": {}
     },
     "8a2505e70b724db59919b6e41e8a72d5": {
      "model_module": "@jupyter-widgets/base",
      "model_module_version": "1.2.0",
      "model_name": "LayoutModel",
      "state": {
       "margin": "40px 0px 0px 10px",
       "width": "120px"
      }
     },
     "8a7fbb13eba042b0bd669e862ef162cf": {
      "model_module": "@jupyter-widgets/base",
      "model_module_version": "1.2.0",
      "model_name": "LayoutModel",
      "state": {
       "width": "40%"
      }
     },
     "8aa71c5cb42940a6931454e2ffdfc698": {
      "model_module": "@jupyter-widgets/controls",
      "model_module_version": "1.5.0",
      "model_name": "DescriptionStyleModel",
      "state": {
       "description_width": ""
      }
     },
     "8ac366b3d8744191b5864f156e1e2c23": {
      "model_module": "@jupyter-widgets/base",
      "model_module_version": "1.2.0",
      "model_name": "LayoutModel",
      "state": {}
     },
     "8ac6f8c03287459b9b703760755199a4": {
      "model_module": "@jupyter-widgets/base",
      "model_module_version": "1.2.0",
      "model_name": "LayoutModel",
      "state": {
       "width": "40%"
      }
     },
     "8aeaafeaf7814daeabe2fa87a8b2d6ff": {
      "model_module": "@jupyter-widgets/base",
      "model_module_version": "1.2.0",
      "model_name": "LayoutModel",
      "state": {
       "margin": "10px 0px 10px 0px",
       "width": "50%"
      }
     },
     "8aefd6467c0741cd96f45906988706a4": {
      "model_module": "@jupyter-widgets/base",
      "model_module_version": "1.2.0",
      "model_name": "LayoutModel",
      "state": {}
     },
     "8af5ff891ff94651830aa528417029cb": {
      "model_module": "@jupyter-widgets/controls",
      "model_module_version": "1.5.0",
      "model_name": "ButtonStyleModel",
      "state": {}
     },
     "8b074a7d60df46e4bb721dce361ac87c": {
      "model_module": "@jupyter-widgets/controls",
      "model_module_version": "1.5.0",
      "model_name": "TextModel",
      "state": {
       "description": "copy",
       "layout": "IPY_MODEL_25ed2fd8cf2f4ccaa065f36c69a15ccc",
       "placeholder": "[]",
       "style": "IPY_MODEL_0eb34ff821774d83829e0e22ea3b3202",
       "value": "True"
      }
     },
     "8b17d2ede5294fb49772ba2f4e61fa1e": {
      "model_module": "@jupyter-widgets/base",
      "model_module_version": "1.2.0",
      "model_name": "LayoutModel",
      "state": {
       "width": "40%"
      }
     },
     "8b28ab103794490f9269651f19b79baa": {
      "model_module": "@jupyter-widgets/base",
      "model_module_version": "1.2.0",
      "model_name": "LayoutModel",
      "state": {}
     },
     "8b53c3ab445b441094caf837f3ccfd59": {
      "model_module": "@jupyter-widgets/controls",
      "model_module_version": "1.5.0",
      "model_name": "HBoxModel",
      "state": {
       "children": [
        "IPY_MODEL_1f8d368e85d64d4898b98e63cae54fc0",
        "IPY_MODEL_dbd189db89454f5d91a6691eefd24db0",
        "IPY_MODEL_cc1f0123afba40d495e7f2f7f5789c39"
       ],
       "layout": "IPY_MODEL_6314113a68eb4000a1526446811dfe91"
      }
     },
     "8b681686131b41718e3f64a55e3ffd8a": {
      "model_module": "@jupyter-widgets/controls",
      "model_module_version": "1.5.0",
      "model_name": "VBoxModel",
      "state": {
       "children": [
        "IPY_MODEL_13aae971fe774af1976238734dcbf41c",
        "IPY_MODEL_b30187c0ee464e4998b87882bc001e37",
        "IPY_MODEL_b7ed7918b61d4419ab906babbacb7596",
        "IPY_MODEL_3b9155d11b664eb996316c5306258aba",
        "IPY_MODEL_25bf321b68f349ce81f4866d95d8ced9"
       ],
       "layout": "IPY_MODEL_cd709de53ffc4775817e3acfbfd6fc68"
      }
     },
     "8b7c249e2b414a7cb024986d38cbae44": {
      "model_module": "@jupyter-widgets/base",
      "model_module_version": "1.2.0",
      "model_name": "LayoutModel",
      "state": {
       "align_content": "center",
       "justify_content": "center"
      }
     },
     "8b836ffab5c146dba3b248852f286819": {
      "model_module": "@jupyter-widgets/base",
      "model_module_version": "1.2.0",
      "model_name": "LayoutModel",
      "state": {
       "width": "140px"
      }
     },
     "8b86cf1aef1a4afbb4377bba05fcb61f": {
      "model_module": "@jupyter-widgets/controls",
      "model_module_version": "1.5.0",
      "model_name": "DescriptionStyleModel",
      "state": {
       "description_width": ""
      }
     },
     "8b8a624677ea49948949ed91e9dbc530": {
      "model_module": "@jupyter-widgets/base",
      "model_module_version": "1.2.0",
      "model_name": "LayoutModel",
      "state": {
       "width": "40px"
      }
     },
     "8ba98be626a64e7c8061c77953fd9de1": {
      "model_module": "@jupyter-widgets/base",
      "model_module_version": "1.2.0",
      "model_name": "LayoutModel",
      "state": {
       "margin": "0px 10px 0px 0px",
       "width": "60px"
      }
     },
     "8badedef3bf345e1b1fe00db35071bcd": {
      "model_module": "@jupyter-widgets/controls",
      "model_module_version": "1.5.0",
      "model_name": "BoxModel",
      "state": {
       "children": [
        "IPY_MODEL_fa15b7b4a06e4a4db586165982add4dd"
       ],
       "layout": "IPY_MODEL_adf34fad913846599bd9cea82a17cdbd"
      }
     },
     "8bfe858ae8ba4bde96012168aa1572fe": {
      "model_module": "@jupyter-widgets/controls",
      "model_module_version": "1.5.0",
      "model_name": "HBoxModel",
      "state": {
       "children": [
        "IPY_MODEL_a4b4319422d94e7ab3561791b7b85176"
       ],
       "layout": "IPY_MODEL_6347bb1f45054c39912c47f75786b3d8"
      }
     },
     "8c023dbe4a12489588b2646e211d3d46": {
      "model_module": "@jupyter-widgets/controls",
      "model_module_version": "1.5.0",
      "model_name": "HTMLModel",
      "state": {
       "layout": "IPY_MODEL_836761cfea624354a12c1301234eb52d",
       "style": "IPY_MODEL_4af5e4b257d047fc9f46a3a984877ecd",
       "value": "<b> >>> </b>"
      }
     },
     "8c2570a925064df5990cdbb01c56f861": {
      "model_module": "@jupyter-widgets/base",
      "model_module_version": "1.2.0",
      "model_name": "LayoutModel",
      "state": {
       "margin": "10px 0px 0px 10px",
       "width": "50%"
      }
     },
     "8c601e6b59db4981b58f1c46c6fdc240": {
      "model_module": "@jupyter-widgets/controls",
      "model_module_version": "1.5.0",
      "model_name": "HBoxModel",
      "state": {
       "children": [
        "IPY_MODEL_39aed6c4ad8149bf942bce440754ce39",
        "IPY_MODEL_65150d322101499d999fa6efbb7e0ac6",
        "IPY_MODEL_e1bd83e294e44da1bd330d4148c94e88",
        "IPY_MODEL_faa7de3d5c45496cae8ea3e9ab918384"
       ],
       "layout": "IPY_MODEL_762827726fc4458984f8150db1ef7ac5"
      }
     },
     "8c6094e93e4045eaa376ca50d2cc41c2": {
      "model_module": "@jupyter-widgets/controls",
      "model_module_version": "1.5.0",
      "model_name": "HBoxModel",
      "state": {
       "children": [
        "IPY_MODEL_58cc7ee91061475c977ad971eb212e6f",
        "IPY_MODEL_79292d0fe28e4c62948e334cc404bd65",
        "IPY_MODEL_9a6b228204e1454392858ec5e1037013",
        "IPY_MODEL_6265dac9f47b4673a04142e51bdd8706"
       ],
       "layout": "IPY_MODEL_54142bd1d49648c4b1df6a1c315c5415"
      }
     },
     "8c8387382fc345fa9275380a42934941": {
      "model_module": "@jupyter-widgets/controls",
      "model_module_version": "1.5.0",
      "model_name": "HBoxModel",
      "state": {
       "children": [
        "IPY_MODEL_ddcc2eaca7ee4bc59b999969a7861acf",
        "IPY_MODEL_e9f539198196436482fdb81a845006e2",
        "IPY_MODEL_3d7a1291f12a4d368be1cb6adfc84800"
       ],
       "layout": "IPY_MODEL_dd3ceb8a1b34405aa002d8e93789e738"
      }
     },
     "8c8fd36d093f402d8f32c8e843ed26fe": {
      "model_module": "@jupyter-widgets/base",
      "model_module_version": "1.2.0",
      "model_name": "LayoutModel",
      "state": {
       "width": "40%"
      }
     },
     "8c90cc71caab44ccb17269df0487dac9": {
      "model_module": "@jupyter-widgets/controls",
      "model_module_version": "1.5.0",
      "model_name": "DescriptionStyleModel",
      "state": {
       "description_width": ""
      }
     },
     "8cac0c6a3531494db7229f376a964d26": {
      "model_module": "@jupyter-widgets/controls",
      "model_module_version": "1.5.0",
      "model_name": "HTMLModel",
      "state": {
       "layout": "IPY_MODEL_d25641a7fb0a47e2bed41710e296bbfd",
       "style": "IPY_MODEL_cf857d12aea24c3f8cdfe5ca2f7b1ea0",
       "value": "<b>Function parameters:</b>"
      }
     },
     "8cc7d3850a054e599fa3a86a70b1214e": {
      "model_module": "@jupyter-widgets/controls",
      "model_module_version": "1.5.0",
      "model_name": "DropdownModel",
      "state": {
       "description": "block#:",
       "index": null,
       "layout": "IPY_MODEL_4cf4b45b429049e8b8a362b4d84b5253",
       "style": "IPY_MODEL_5eafff0281e14d6dbbdfe32db4ddb7b8"
      }
     },
     "8cc9e1964ce6410385296d22d2b8bfce": {
      "model_module": "@jupyter-widgets/controls",
      "model_module_version": "1.5.0",
      "model_name": "HTMLModel",
      "state": {
       "layout": "IPY_MODEL_f84011d988844e258a6e6579187639ed",
       "style": "IPY_MODEL_14c6f84485f643f29b1f1862eecb684c",
       "value": "<b>Requirements:  </b>(('ChemML', '0.6'), ('pandas', '1.1.3'))"
      }
     },
     "8d2e4736b5a04d3593590cf1db7c0130": {
      "model_module": "@jupyter-widgets/base",
      "model_module_version": "1.2.0",
      "model_name": "LayoutModel",
      "state": {}
     },
     "8d322a08ff6f4b0c97e66810c7e58573": {
      "model_module": "@jupyter-widgets/base",
      "model_module_version": "1.2.0",
      "model_name": "LayoutModel",
      "state": {
       "border": "dotted black 1px",
       "justify_content": "space-between"
      }
     },
     "8dc07ba663b04a0988c0ea8d2274da03": {
      "model_module": "@jupyter-widgets/controls",
      "model_module_version": "1.5.0",
      "model_name": "DescriptionStyleModel",
      "state": {
       "description_width": ""
      }
     },
     "8dfa49b0379a4fb6a612bfa472720f5b": {
      "model_module": "@jupyter-widgets/controls",
      "model_module_version": "1.5.0",
      "model_name": "DescriptionStyleModel",
      "state": {
       "description_width": ""
      }
     },
     "8e1c96285f1144849ab27764959c1763": {
      "model_module": "@jupyter-widgets/controls",
      "model_module_version": "1.5.0",
      "model_name": "HBoxModel",
      "state": {
       "children": [
        "IPY_MODEL_56880022055e41d28b707ce4ad369f5e",
        "IPY_MODEL_a0163aa4553e48f0a5d3fad31cda4b14"
       ],
       "layout": "IPY_MODEL_30fbcba4ec4c49738fc8677a012e415d"
      }
     },
     "8e49503a90034ba5b4e8b9ad500c6366": {
      "model_module": "@jupyter-widgets/controls",
      "model_module_version": "1.5.0",
      "model_name": "TextModel",
      "state": {
       "description": "line06",
       "layout": "IPY_MODEL_a59eb39a63934a32aaf206543bba9336",
       "placeholder": "[]",
       "style": "IPY_MODEL_7dab0707498940648bea1c27cc5f5dbf",
       "value": "type python code"
      }
     },
     "8e778c0aba7a4dd4ba55929a1ca7db6a": {
      "model_module": "@jupyter-widgets/controls",
      "model_module_version": "1.5.0",
      "model_name": "DescriptionStyleModel",
      "state": {
       "description_width": ""
      }
     },
     "8e7921fa99b04f6a8246d4b4b11d1ea2": {
      "model_module": "@jupyter-widgets/controls",
      "model_module_version": "1.5.0",
      "model_name": "HBoxModel",
      "state": {
       "children": [
        "IPY_MODEL_068036c27ed34f709113d991f7489664",
        "IPY_MODEL_97ed11137ad74114851a5ef05cf1e246",
        "IPY_MODEL_89d3fc5c9b2c4911ab80dc9705b68dc1"
       ],
       "layout": "IPY_MODEL_b8300c3a73784951aeaa8e2fcdf2794f"
      }
     },
     "8ebf2253232b4309bb11ae6e28ae123b": {
      "model_module": "@jupyter-widgets/controls",
      "model_module_version": "1.5.0",
      "model_name": "DescriptionStyleModel",
      "state": {
       "description_width": ""
      }
     },
     "8ece52986865421a91210ec3ebd7176d": {
      "model_module": "@jupyter-widgets/controls",
      "model_module_version": "1.5.0",
      "model_name": "DescriptionStyleModel",
      "state": {
       "description_width": ""
      }
     },
     "8ef474b4e9f0449b88a1691da764d06d": {
      "model_module": "@jupyter-widgets/controls",
      "model_module_version": "1.5.0",
      "model_name": "BoxModel",
      "state": {
       "children": [
        "IPY_MODEL_a248996d23034e19bdcc5134fa29019f"
       ],
       "layout": "IPY_MODEL_5e89bf7c8778478289ca4f2df40e03a0"
      }
     },
     "8f1d7f5cbfe844b2a73bca74f8514a20": {
      "model_module": "@jupyter-widgets/controls",
      "model_module_version": "1.5.0",
      "model_name": "TextModel",
      "state": {
       "description": "line05",
       "layout": "IPY_MODEL_48c516d3d84746a7a2cade9b078b3146",
       "placeholder": "[]",
       "style": "IPY_MODEL_02254078b37f4419a642e030d4bf340c",
       "value": "type python code"
      }
     },
     "8f2b4999eeb04e9091078c83e124feba": {
      "model_module": "@jupyter-widgets/controls",
      "model_module_version": "1.5.0",
      "model_name": "DescriptionStyleModel",
      "state": {
       "description_width": ""
      }
     },
     "8f3ac40720804a34bf37b7a9003177c2": {
      "model_module": "@jupyter-widgets/controls",
      "model_module_version": "1.5.0",
      "model_name": "ButtonStyleModel",
      "state": {
       "button_color": "lightblue"
      }
     },
     "8f644b2149b64c229438383e2365e774": {
      "model_module": "@jupyter-widgets/controls",
      "model_module_version": "1.5.0",
      "model_name": "DescriptionStyleModel",
      "state": {
       "description_width": ""
      }
     },
     "8f66483da0be457a9d04b7152c7f9797": {
      "model_module": "@jupyter-widgets/controls",
      "model_module_version": "1.5.0",
      "model_name": "DropdownModel",
      "state": {
       "description": "input token:",
       "index": null,
       "layout": "IPY_MODEL_f4c90bfabefb44c6945f729a3127b243",
       "style": "IPY_MODEL_087c77905713445ebc0550a4bccb976f"
      }
     },
     "8f8c57b8950e431799a73ebecd6f015d": {
      "model_module": "@jupyter-widgets/controls",
      "model_module_version": "1.5.0",
      "model_name": "DropdownModel",
      "state": {
       "_options_labels": [
        "df"
       ],
       "description": "output token:",
       "index": 0,
       "layout": "IPY_MODEL_8a18a23e6c0b4036ac2f7bf400eb139b",
       "style": "IPY_MODEL_0c658c8fd30745b9afd62493badd9bfd"
      }
     },
     "8fb37d72d9ed4a359daa2f24e77031ec": {
      "model_module": "@jupyter-widgets/controls",
      "model_module_version": "1.5.0",
      "model_name": "TextModel",
      "state": {
       "description": "Type:",
       "disabled": true,
       "layout": "IPY_MODEL_772cd223df724024a83852329021d9bf",
       "style": "IPY_MODEL_6a3c33c15de64ca490439f577e0e3c96"
      }
     },
     "8fc7f7cb1c174b33a044f107fc5ffae9": {
      "model_module": "@jupyter-widgets/base",
      "model_module_version": "1.2.0",
      "model_name": "LayoutModel",
      "state": {}
     },
     "8fd408d6f7674907a36604ba20ffc5ff": {
      "model_module": "@jupyter-widgets/controls",
      "model_module_version": "1.5.0",
      "model_name": "ButtonModel",
      "state": {
       "description": "Remove block",
       "layout": "IPY_MODEL_53b81eebd77247309a82b61cddf94139",
       "style": "IPY_MODEL_4c807771458f40f18020777211cca44b"
      }
     },
     "8fdf56aa59d94e98a413717e897c504e": {
      "model_module": "@jupyter-widgets/base",
      "model_module_version": "1.2.0",
      "model_name": "LayoutModel",
      "state": {
       "margin": "10px 0px 10px 0px"
      }
     },
     "9002960a80104603992ded53bd1d0971": {
      "model_module": "@jupyter-widgets/base",
      "model_module_version": "1.2.0",
      "model_name": "LayoutModel",
      "state": {}
     },
     "902a3f48b31740278d8d7f4ed10ac5d1": {
      "model_module": "@jupyter-widgets/base",
      "model_module_version": "1.2.0",
      "model_name": "LayoutModel",
      "state": {
       "align_items": "center",
       "border": "dotted black 1px",
       "height": "40px",
       "justify_content": "center"
      }
     },
     "9036998e2aea4a9b9556dd619be034de": {
      "model_module": "@jupyter-widgets/base",
      "model_module_version": "1.2.0",
      "model_name": "LayoutModel",
      "state": {}
     },
     "90462d0d2fa44602bc3a94903b1f9f0a": {
      "model_module": "@jupyter-widgets/controls",
      "model_module_version": "1.5.0",
      "model_name": "BoxModel",
      "state": {
       "children": [
        "IPY_MODEL_ee4cf745fe3a424b9668019ca1372867"
       ],
       "layout": "IPY_MODEL_0f752bd331b94790b0649dc4b42c429d"
      }
     },
     "9050334b4fd74cfebe0ad7f6a22e88a5": {
      "model_module": "@jupyter-widgets/controls",
      "model_module_version": "1.5.0",
      "model_name": "HTMLModel",
      "state": {
       "layout": "IPY_MODEL_e2157876321644b9ba7da8d9da2e3c1a",
       "style": "IPY_MODEL_36e6eda900aa4e6da33a75c82b3afaec",
       "value": "<b> <<< </b>"
      }
     },
     "90768629ba964acf81c5cbdecd15926a": {
      "model_module": "@jupyter-widgets/base",
      "model_module_version": "1.2.0",
      "model_name": "LayoutModel",
      "state": {
       "margin": "0px 0px 0px 20px"
      }
     },
     "90a8709b1f2e4a79bffc819a22b14f63": {
      "model_module": "@jupyter-widgets/controls",
      "model_module_version": "1.5.0",
      "model_name": "HBoxModel",
      "state": {
       "children": [
        "IPY_MODEL_598ee196ca8e4a2bbc1f0bbb5ee8d1ae",
        "IPY_MODEL_affeca93cce64828a18f58dd56fa7983",
        "IPY_MODEL_c1d8847e17264577b7543dcb6e692631"
       ],
       "layout": "IPY_MODEL_676826bb09ec4c5e95c67b147ead472e"
      }
     },
     "90b4d10d74a14ba5b242ab0952797468": {
      "model_module": "@jupyter-widgets/base",
      "model_module_version": "1.2.0",
      "model_name": "LayoutModel",
      "state": {
       "width": "40%"
      }
     },
     "90fa6d1b46b14890a63058283f2f4e82": {
      "model_module": "@jupyter-widgets/controls",
      "model_module_version": "1.5.0",
      "model_name": "DescriptionStyleModel",
      "state": {
       "description_width": ""
      }
     },
     "910791f54d30449f93091689aaa5c68f": {
      "model_module": "@jupyter-widgets/controls",
      "model_module_version": "1.5.0",
      "model_name": "HBoxModel",
      "state": {
       "children": [
        "IPY_MODEL_833235540ee94d0d83de0ef856f4a5b6",
        "IPY_MODEL_8272bd2b2bd74602b119a6299aa8f86c",
        "IPY_MODEL_8261c1e538d943eda299a4d1735961ae"
       ],
       "layout": "IPY_MODEL_cc3687ca5d3c47dba13aa446ce1d2c17"
      }
     },
     "913bc4e3328042cc9f409ef117f9df58": {
      "model_module": "@jupyter-widgets/controls",
      "model_module_version": "1.5.0",
      "model_name": "DescriptionStyleModel",
      "state": {
       "description_width": ""
      }
     },
     "914a74ecbb0a4b9aa369920de0a9b071": {
      "model_module": "@jupyter-widgets/controls",
      "model_module_version": "1.5.0",
      "model_name": "TextModel",
      "state": {
       "description": "Type:",
       "disabled": true,
       "layout": "IPY_MODEL_d0fbffd9eda14a32a01437643da4e926",
       "style": "IPY_MODEL_81521f2ea1604e569eada1f6dc5f539f"
      }
     },
     "9181e853d90941f79896726c36abdeef": {
      "model_module": "@jupyter-widgets/controls",
      "model_module_version": "1.5.0",
      "model_name": "HBoxModel",
      "state": {
       "children": [
        "IPY_MODEL_11033f49ee6c495093a91eb72ea27cbe",
        "IPY_MODEL_1537668371324a85aeb8971b1de15263",
        "IPY_MODEL_406b15823e6f4452a8f766bf012dfa71",
        "IPY_MODEL_2c34ee2f19aa4fc99c71cf9b05a9b644"
       ],
       "layout": "IPY_MODEL_76e18fc067ec4e2592dca32bac3f7007"
      }
     },
     "91a1a2e849b54ea88e1a537c24fbb8d9": {
      "model_module": "@jupyter-widgets/controls",
      "model_module_version": "1.5.0",
      "model_name": "DescriptionStyleModel",
      "state": {
       "description_width": ""
      }
     },
     "91beb6873e8a44dd99612c877933f2eb": {
      "model_module": "@jupyter-widgets/base",
      "model_module_version": "1.2.0",
      "model_name": "LayoutModel",
      "state": {
       "width": "40%"
      }
     },
     "92167b0b759140abbbc49e93e79fb932": {
      "model_module": "@jupyter-widgets/controls",
      "model_module_version": "1.5.0",
      "model_name": "VBoxModel",
      "state": {
       "children": [
        "IPY_MODEL_99d90768fc7e45aaadaed6cfe6bb1e77"
       ],
       "layout": "IPY_MODEL_000fce7864e2490188a681efbc4f56b7"
      }
     },
     "921cb6c61dda4cb6a3cb70ae105b0b67": {
      "model_module": "@jupyter-widgets/base",
      "model_module_version": "1.2.0",
      "model_name": "LayoutModel",
      "state": {
       "margin": "0px 0px 0px 10px"
      }
     },
     "9220b2946ce04facb00b60ec2199a833": {
      "model_module": "@jupyter-widgets/controls",
      "model_module_version": "1.5.0",
      "model_name": "DescriptionStyleModel",
      "state": {
       "description_width": ""
      }
     },
     "92832ee9fa9d41639721bc528ad895aa": {
      "model_module": "@jupyter-widgets/controls",
      "model_module_version": "1.5.0",
      "model_name": "DropdownModel",
      "state": {
       "description": "input token:",
       "index": null,
       "layout": "IPY_MODEL_87257cb1bc2745a39881f564fb271948",
       "style": "IPY_MODEL_d17276852b0b47a286d38a84166561e3"
      }
     },
     "92b74f948e4446a88ef14bab319377da": {
      "model_module": "@jupyter-widgets/base",
      "model_module_version": "1.2.0",
      "model_name": "LayoutModel",
      "state": {
       "margin": "0px 0px 0px 10px"
      }
     },
     "92c18787fc6f4e22b3a4560184eba807": {
      "model_module": "@jupyter-widgets/controls",
      "model_module_version": "1.5.0",
      "model_name": "DescriptionStyleModel",
      "state": {
       "description_width": ""
      }
     },
     "930b83c85faa4b2695a190a63d4f33ae": {
      "model_module": "@jupyter-widgets/controls",
      "model_module_version": "1.5.0",
      "model_name": "DescriptionStyleModel",
      "state": {
       "description_width": ""
      }
     },
     "9310ca3b69464d578a286caced13fbac": {
      "model_module": "@jupyter-widgets/base",
      "model_module_version": "1.2.0",
      "model_name": "LayoutModel",
      "state": {}
     },
     "93301542cab84840ae40771835da9fa8": {
      "model_module": "@jupyter-widgets/base",
      "model_module_version": "1.2.0",
      "model_name": "LayoutModel",
      "state": {
       "border": "dotted black 1px",
       "justify_content": "space-between"
      }
     },
     "9333104fa44849bb9458e01588d86e9f": {
      "model_module": "@jupyter-widgets/base",
      "model_module_version": "1.2.0",
      "model_name": "LayoutModel",
      "state": {}
     },
     "936c59fba12e4670aeb4411fc518a924": {
      "model_module": "@jupyter-widgets/base",
      "model_module_version": "1.2.0",
      "model_name": "LayoutModel",
      "state": {}
     },
     "93aaffca0cfc43d29e8b7410f3d46f02": {
      "model_module": "@jupyter-widgets/controls",
      "model_module_version": "1.5.0",
      "model_name": "DescriptionStyleModel",
      "state": {
       "description_width": ""
      }
     },
     "93b8556d9a5e43fea008408123af5cb7": {
      "model_module": "@jupyter-widgets/controls",
      "model_module_version": "1.5.0",
      "model_name": "DescriptionStyleModel",
      "state": {
       "description_width": ""
      }
     },
     "93e30949bed34165a660ad46c6be9f1e": {
      "model_module": "@jupyter-widgets/base",
      "model_module_version": "1.2.0",
      "model_name": "LayoutModel",
      "state": {
       "width": "50%"
      }
     },
     "94085cd69c9b47ac92dd189acb320a07": {
      "model_module": "@jupyter-widgets/controls",
      "model_module_version": "1.5.0",
      "model_name": "DescriptionStyleModel",
      "state": {
       "description_width": ""
      }
     },
     "94152d9574784e4393651998e803a8fd": {
      "model_module": "@jupyter-widgets/controls",
      "model_module_version": "1.5.0",
      "model_name": "HBoxModel",
      "state": {
       "children": [
        "IPY_MODEL_7bf3daed303c46218846c013e7105272",
        "IPY_MODEL_58abe5bdaa56431b82ab8089f2c3a8e3"
       ],
       "layout": "IPY_MODEL_d794f2adb8804987ba66917b1d65006d"
      }
     },
     "942f92570aa6481faade80604b2900db": {
      "model_module": "@jupyter-widgets/controls",
      "model_module_version": "1.5.0",
      "model_name": "ButtonStyleModel",
      "state": {
       "button_color": "lightblue"
      }
     },
     "9441ce28c19e41d1b0d4c0724fc32176": {
      "model_module": "@jupyter-widgets/base",
      "model_module_version": "1.2.0",
      "model_name": "LayoutModel",
      "state": {
       "align_items": "center",
       "justify_content": "space-between",
       "margin": "10px 0px 20px 0px"
      }
     },
     "944ca1b7d3984fd0bd3ce8595476449e": {
      "model_module": "@jupyter-widgets/controls",
      "model_module_version": "1.5.0",
      "model_name": "HTMLModel",
      "state": {
       "layout": "IPY_MODEL_276aa0e2e0dc42b6a4e25b763b980c92",
       "style": "IPY_MODEL_fcb4dd1cb327448aa0a5e8d8053028e5",
       "value": "<b> <<< </b>"
      }
     },
     "946ff3a5a74d438180f5deb84866414e": {
      "model_module": "@jupyter-widgets/controls",
      "model_module_version": "1.5.0",
      "model_name": "DescriptionStyleModel",
      "state": {
       "description_width": ""
      }
     },
     "9474965312e54b359c78f9a136ba2580": {
      "model_module": "@jupyter-widgets/controls",
      "model_module_version": "1.5.0",
      "model_name": "DescriptionStyleModel",
      "state": {
       "description_width": ""
      }
     },
     "947ea1e5affd43aabfc0271eddb577a6": {
      "model_module": "@jupyter-widgets/controls",
      "model_module_version": "1.5.0",
      "model_name": "BoxModel",
      "state": {
       "children": [
        "IPY_MODEL_6935db443e844b01a548abfd7a1fd418"
       ],
       "layout": "IPY_MODEL_388eccf954b140e0a792d24057cfcfbd"
      }
     },
     "9486adac37b14fa1a9efef0c0de5f953": {
      "model_module": "@jupyter-widgets/controls",
      "model_module_version": "1.5.0",
      "model_name": "BoxModel",
      "state": {
       "children": [
        "IPY_MODEL_4e7684c8c6b74c0098d929c6fd3be30e"
       ],
       "layout": "IPY_MODEL_1b8bb6c493964b79b00e400fbddc1577"
      }
     },
     "949e48b2c9ce4b4a8151bc4042934097": {
      "model_module": "@jupyter-widgets/controls",
      "model_module_version": "1.5.0",
      "model_name": "HTMLModel",
      "state": {
       "layout": "IPY_MODEL_d01bd7a9609445deb50c8f59743f0d41",
       "style": "IPY_MODEL_a00b82fcf34c4b84a71a32b2c37cf393",
       "value": "<b>Function parameters:</b>"
      }
     },
     "94d9aeff635647b399ebf0ff5fe87f88": {
      "model_module": "@jupyter-widgets/controls",
      "model_module_version": "1.5.0",
      "model_name": "DescriptionStyleModel",
      "state": {
       "description_width": ""
      }
     },
     "94f3f013f7434467967b4fd160ed6262": {
      "model_module": "@jupyter-widgets/controls",
      "model_module_version": "1.5.0",
      "model_name": "DescriptionStyleModel",
      "state": {
       "description_width": ""
      }
     },
     "94f83c65dcff406e99852d42faed28db": {
      "model_module": "@jupyter-widgets/base",
      "model_module_version": "1.2.0",
      "model_name": "LayoutModel",
      "state": {
       "margin": "20px 0px 10px 115px"
      }
     },
     "955708a013354b0eaf2f56725583774c": {
      "model_module": "@jupyter-widgets/base",
      "model_module_version": "1.2.0",
      "model_name": "LayoutModel",
      "state": {}
     },
     "955b81fbd405406184aeaa1b1442b0c3": {
      "model_module": "@jupyter-widgets/base",
      "model_module_version": "1.2.0",
      "model_name": "LayoutModel",
      "state": {}
     },
     "95656c46fcea4e3bac87e072ae624d30": {
      "model_module": "@jupyter-widgets/controls",
      "model_module_version": "1.5.0",
      "model_name": "VBoxModel",
      "state": {
       "children": [
        "IPY_MODEL_6593e4c3c94b430ca07e3c1d6a1a931a",
        "IPY_MODEL_d865113ab1b94cfd80776cf16fa6fde4",
        "IPY_MODEL_195562d154e64a42854717b65a3dd907",
        "IPY_MODEL_4384631841804d70a00e2ba5c0e594b6",
        "IPY_MODEL_18cbbcd7b6414ab3a772ccfe1b14752f"
       ],
       "layout": "IPY_MODEL_5830abd4f39943e098e920fc857455b4"
      }
     },
     "95e1c5a5fe164696a243e427c721a835": {
      "model_module": "@jupyter-widgets/controls",
      "model_module_version": "1.5.0",
      "model_name": "TextModel",
      "state": {
       "description": "join",
       "layout": "IPY_MODEL_2084cb945ef84130b57717b86ac7cf88",
       "placeholder": "[]",
       "style": "IPY_MODEL_7771eda71fdd48dd89fd3c8b6054bdee",
       "value": "outer"
      }
     },
     "95f0ecc1106f46409c0680d3df1cdbf3": {
      "model_module": "@jupyter-widgets/controls",
      "model_module_version": "1.5.0",
      "model_name": "DescriptionStyleModel",
      "state": {
       "description_width": ""
      }
     },
     "95fa8d80700749f7a85871005dad5325": {
      "model_module": "@jupyter-widgets/controls",
      "model_module_version": "1.5.0",
      "model_name": "TextModel",
      "state": {
       "description": "line19",
       "layout": "IPY_MODEL_83e0a7a497ee415f9ad9d450d456d66e",
       "placeholder": "[]",
       "style": "IPY_MODEL_995c4d87623c4ac2baee260a0032fa70",
       "value": "type python code"
      }
     },
     "960936a0982f42b0a61bde8f21913537": {
      "model_module": "@jupyter-widgets/base",
      "model_module_version": "1.2.0",
      "model_name": "LayoutModel",
      "state": {
       "border": "dotted black 1px",
       "justify_content": "space-between"
      }
     },
     "961648cb80464934b9f7b70595972e28": {
      "model_module": "@jupyter-widgets/base",
      "model_module_version": "1.2.0",
      "model_name": "LayoutModel",
      "state": {
       "width": "40%"
      }
     },
     "9625e3f396674d7eb1519a48e8b15c46": {
      "model_module": "@jupyter-widgets/base",
      "model_module_version": "1.2.0",
      "model_name": "LayoutModel",
      "state": {
       "margin": "10px 0px 10px 180px",
       "width": "110px"
      }
     },
     "9635f27b4ca44b36a807a7dc4fcb0da6": {
      "model_module": "@jupyter-widgets/controls",
      "model_module_version": "1.5.0",
      "model_name": "HTMLModel",
      "state": {
       "layout": "IPY_MODEL_57b7445d121e4cc0963bda2cede00e93",
       "style": "IPY_MODEL_739415f89ce8416b8d65b6f84347b1d0",
       "value": "<b> Note: </b> This page automatically avoid: (1) loops, (2) type inconsistency, and (3) more than one input per token."
      }
     },
     "965d31079ce54b939bea888122255b84": {
      "model_module": "@jupyter-widgets/controls",
      "model_module_version": "1.5.0",
      "model_name": "DescriptionStyleModel",
      "state": {
       "description_width": ""
      }
     },
     "966b4496580748cc98d52415a717236d": {
      "model_module": "@jupyter-widgets/controls",
      "model_module_version": "1.5.0",
      "model_name": "DescriptionStyleModel",
      "state": {
       "description_width": "initial"
      }
     },
     "967e210bf2ec4093a993b737d182372a": {
      "model_module": "@jupyter-widgets/base",
      "model_module_version": "1.2.0",
      "model_name": "LayoutModel",
      "state": {
       "margin": "0px 0px 0px 10px"
      }
     },
     "96bf992e530543e8bf81822b57ac34bd": {
      "model_module": "@jupyter-widgets/controls",
      "model_module_version": "1.5.0",
      "model_name": "DescriptionStyleModel",
      "state": {
       "description_width": ""
      }
     },
     "96f8447cc67347b8963111e9e69afb7a": {
      "model_module": "@jupyter-widgets/controls",
      "model_module_version": "1.5.0",
      "model_name": "TextModel",
      "state": {
       "description": "Type:",
       "disabled": true,
       "layout": "IPY_MODEL_fd6aed9babf940b19286c8dc4595bfa6",
       "style": "IPY_MODEL_0efe86aeef8247fda4949ac3cf696d6e"
      }
     },
     "970a8b178df5489b915854589d97fd63": {
      "model_module": "@jupyter-widgets/controls",
      "model_module_version": "1.5.0",
      "model_name": "ButtonStyleModel",
      "state": {
       "button_color": "lightblue"
      }
     },
     "970c7969b86c4e2f9ce1f9d5a623a0a6": {
      "model_module": "@jupyter-widgets/base",
      "model_module_version": "1.2.0",
      "model_name": "LayoutModel",
      "state": {
       "margin": "20px 0px 20px 250px"
      }
     },
     "97119e8082f04b52b4af09b9a349addd": {
      "model_module": "@jupyter-widgets/controls",
      "model_module_version": "1.5.0",
      "model_name": "SelectMultipleModel",
      "state": {
       "_options_labels": [
        "5, df      >>>      6, iv1"
       ],
       "index": [],
       "layout": "IPY_MODEL_4636bd746cb94f099def5a52d8f379fa",
       "rows": 5,
       "style": "IPY_MODEL_328a15bdd02f4d899e5899549c42912d"
      }
     },
     "971cf4cd2f644d68a80d1f23d02ccd8f": {
      "model_module": "@jupyter-widgets/controls",
      "model_module_version": "1.5.0",
      "model_name": "DescriptionStyleModel",
      "state": {
       "description_width": ""
      }
     },
     "971ee3e8dc7d4db7b1457d995415f493": {
      "model_module": "@jupyter-widgets/controls",
      "model_module_version": "1.5.0",
      "model_name": "HBoxModel",
      "state": {
       "children": [
        "IPY_MODEL_ae2b394408aa45258f755530178c1fc9",
        "IPY_MODEL_68ae28bd1e8c4e14a0c61f15a6cbcc3c"
       ],
       "layout": "IPY_MODEL_619e188f38db4b938d38ceb6503aa039"
      }
     },
     "972c93fc332543d8bd6e4131a93c6d3d": {
      "model_module": "@jupyter-widgets/controls",
      "model_module_version": "1.5.0",
      "model_name": "DescriptionStyleModel",
      "state": {
       "description_width": ""
      }
     },
     "9735732c47f0493888ed1375d94795b5": {
      "model_module": "@jupyter-widgets/controls",
      "model_module_version": "1.5.0",
      "model_name": "BoxModel",
      "state": {
       "children": [
        "IPY_MODEL_e922da7d9757499d954e818eadb0dabc"
       ],
       "layout": "IPY_MODEL_72987d175708404e86cf15781c505da2"
      }
     },
     "973cfd398c5d41e387cf26430c841f14": {
      "model_module": "@jupyter-widgets/controls",
      "model_module_version": "1.5.0",
      "model_name": "VBoxModel",
      "state": {
       "children": [
        "IPY_MODEL_0b779c8dee5249d7b835336def7c7485",
        "IPY_MODEL_a628221cba30493e97726fc447b5207e"
       ],
       "layout": "IPY_MODEL_b9abe4c9fa6042c3b384945d0c941620"
      }
     },
     "9755e78f09474860a47a4c06d213d05d": {
      "model_module": "@jupyter-widgets/base",
      "model_module_version": "1.2.0",
      "model_name": "LayoutModel",
      "state": {}
     },
     "9765444e7d234b309ab4218ce15cd01b": {
      "model_module": "@jupyter-widgets/controls",
      "model_module_version": "1.5.0",
      "model_name": "DescriptionStyleModel",
      "state": {
       "description_width": ""
      }
     },
     "977ae31445084a3091a36014546805c4": {
      "model_module": "@jupyter-widgets/controls",
      "model_module_version": "1.5.0",
      "model_name": "BoxModel",
      "state": {
       "children": [
        "IPY_MODEL_fb24790503bd4f6f86a79443089cb763"
       ],
       "layout": "IPY_MODEL_7b21fd583fc24a72a0da45ae640869ba"
      }
     },
     "979a96f7a7d147f19faf57462eb97547": {
      "model_module": "@jupyter-widgets/base",
      "model_module_version": "1.2.0",
      "model_name": "LayoutModel",
      "state": {}
     },
     "97a25681a71143c1a9b212c6c64aeeec": {
      "model_module": "@jupyter-widgets/controls",
      "model_module_version": "1.5.0",
      "model_name": "ToggleButtonsStyleModel",
      "state": {
       "button_width": "",
       "description_width": ""
      }
     },
     "97aa1535fe384c47a828d5c9096d485e": {
      "model_module": "@jupyter-widgets/controls",
      "model_module_version": "1.5.0",
      "model_name": "HBoxModel",
      "state": {
       "children": [
        "IPY_MODEL_1341571987bd4b838482ce11321b8fc4"
       ],
       "layout": "IPY_MODEL_e97cfae4908644e1bce8ca8c714dc157"
      }
     },
     "97b63643c7514092b677126ebc511360": {
      "model_module": "@jupyter-widgets/base",
      "model_module_version": "1.2.0",
      "model_name": "LayoutModel",
      "state": {}
     },
     "97c446d8dd5243268855e875b5844d8f": {
      "model_module": "@jupyter-widgets/controls",
      "model_module_version": "1.5.0",
      "model_name": "DescriptionStyleModel",
      "state": {
       "description_width": ""
      }
     },
     "97dfd3b91f7b46bbbf2a460ca829d132": {
      "model_module": "@jupyter-widgets/base",
      "model_module_version": "1.2.0",
      "model_name": "LayoutModel",
      "state": {}
     },
     "97e6cd32e41843d8bc0611f13452e67b": {
      "model_module": "@jupyter-widgets/base",
      "model_module_version": "1.2.0",
      "model_name": "LayoutModel",
      "state": {}
     },
     "97ed11137ad74114851a5ef05cf1e246": {
      "model_module": "@jupyter-widgets/controls",
      "model_module_version": "1.5.0",
      "model_name": "CheckboxModel",
      "state": {
       "description": "Check to set",
       "disabled": false,
       "indent": false,
       "layout": "IPY_MODEL_2652d818c3634395aeb7f68b74db1163",
       "style": "IPY_MODEL_6e490d5841ae464887156434997d6e11",
       "value": false
      }
     },
     "9807f5a4c9d646bb8db91491f65a1b95": {
      "model_module": "@jupyter-widgets/controls",
      "model_module_version": "1.5.0",
      "model_name": "DescriptionStyleModel",
      "state": {
       "description_width": ""
      }
     },
     "98170892887f4c698ed30ef39e26feac": {
      "model_module": "@jupyter-widgets/base",
      "model_module_version": "1.2.0",
      "model_name": "LayoutModel",
      "state": {}
     },
     "986886ac19504e6ca9a9de8d3fc3616b": {
      "model_module": "@jupyter-widgets/controls",
      "model_module_version": "1.5.0",
      "model_name": "DescriptionStyleModel",
      "state": {
       "description_width": ""
      }
     },
     "9879dccdee9842ff990fc9d122909bcd": {
      "model_module": "@jupyter-widgets/base",
      "model_module_version": "1.2.0",
      "model_name": "LayoutModel",
      "state": {
       "border": "dotted black 1px",
       "justify_content": "space-between"
      }
     },
     "98b0d9d486bb4ed8a010ab42c841493e": {
      "model_module": "@jupyter-widgets/base",
      "model_module_version": "1.2.0",
      "model_name": "LayoutModel",
      "state": {}
     },
     "98cb0430ac654bf0a7f01aac28f530ff": {
      "model_module": "@jupyter-widgets/controls",
      "model_module_version": "1.5.0",
      "model_name": "HTMLModel",
      "state": {
       "layout": "IPY_MODEL_7fb950f296534394b4fdc868742fe73d",
       "style": "IPY_MODEL_4350db5e999f4d93930d5f5d261a2792",
       "value": "<b> Note: </b> This page automatically avoid: (1) loops, (2) type inconsistency, and (3) more than one input per token."
      }
     },
     "992547b285b64d6ca3c9aa1fddbb7a18": {
      "model_module": "@jupyter-widgets/controls",
      "model_module_version": "1.5.0",
      "model_name": "BoxModel",
      "state": {
       "children": [
        "IPY_MODEL_0d084c1007af4764bbe10efc7e1629f0"
       ],
       "layout": "IPY_MODEL_9755e78f09474860a47a4c06d213d05d"
      }
     },
     "9946d26a52e549dca400744f331126c8": {
      "model_module": "@jupyter-widgets/base",
      "model_module_version": "1.2.0",
      "model_name": "LayoutModel",
      "state": {}
     },
     "995c4d87623c4ac2baee260a0032fa70": {
      "model_module": "@jupyter-widgets/controls",
      "model_module_version": "1.5.0",
      "model_name": "DescriptionStyleModel",
      "state": {
       "description_width": "initial"
      }
     },
     "995ff56cdb5f4d5f8186000d9ce14983": {
      "model_module": "@jupyter-widgets/controls",
      "model_module_version": "1.5.0",
      "model_name": "DescriptionStyleModel",
      "state": {
       "description_width": ""
      }
     },
     "9980424639ed4be490f7001805f25f5e": {
      "model_module": "@jupyter-widgets/controls",
      "model_module_version": "1.5.0",
      "model_name": "HTMLModel",
      "state": {
       "layout": "IPY_MODEL_adff7f50adc04ea39c2a50bae6334141",
       "style": "IPY_MODEL_180e5c878bb8493fb230ad1309c9697e",
       "value": "<b>Requirements:  </b>(('ChemML', '0.6'), ('pandas', '1.1.3'))"
      }
     },
     "99d90768fc7e45aaadaed6cfe6bb1e77": {
      "model_module": "@jupyter-widgets/controls",
      "model_module_version": "1.5.0",
      "model_name": "HTMLModel",
      "state": {
       "layout": "IPY_MODEL_a119f48e0da847c3ab8551173af45dab",
       "style": "IPY_MODEL_e76edf2be83244e3bc2d46aed6325fbe",
       "value": "<b>Wrapper parameters:</b>"
      }
     },
     "9a1aac88ac9447a19737c5bd31739815": {
      "model_module": "@jupyter-widgets/controls",
      "model_module_version": "1.5.0",
      "model_name": "TextModel",
      "state": {
       "description": "config file name:",
       "layout": "IPY_MODEL_8223e29f9df7441eadcea45902906e79",
       "placeholder": "chemML_config.txt",
       "style": "IPY_MODEL_18b0aab9ce08463284ea49bb6d57975d",
       "value": "inorganic_crystal.txt"
      }
     },
     "9a5ac9eee3b745809bacd60dd410487a": {
      "model_module": "@jupyter-widgets/base",
      "model_module_version": "1.2.0",
      "model_name": "LayoutModel",
      "state": {}
     },
     "9a6884d00c754c1e8808921e827a7161": {
      "model_module": "@jupyter-widgets/base",
      "model_module_version": "1.2.0",
      "model_name": "LayoutModel",
      "state": {}
     },
     "9a6b228204e1454392858ec5e1037013": {
      "model_module": "@jupyter-widgets/controls",
      "model_module_version": "1.5.0",
      "model_name": "HBoxModel",
      "state": {
       "children": [
        "IPY_MODEL_d5f57f77ba0040caad9f3525770da2c7",
        "IPY_MODEL_aad31eec8a344fa295aa49c3e66d488d",
        "IPY_MODEL_28314d3bac52469481cb1fbbc9041f1f"
       ],
       "layout": "IPY_MODEL_3db4f340d1334d0bad60301ccf37b60a"
      }
     },
     "9a71405c543b4b98ba54e56f8de2ef0c": {
      "model_module": "@jupyter-widgets/controls",
      "model_module_version": "1.5.0",
      "model_name": "DescriptionStyleModel",
      "state": {
       "description_width": "initial"
      }
     },
     "9a9aa60b293b4d8aa507557ac2bcebc1": {
      "model_module": "@jupyter-widgets/base",
      "model_module_version": "1.2.0",
      "model_name": "LayoutModel",
      "state": {
       "margin": "0px 0px 0px 10px"
      }
     },
     "9aa9b81dca84471c9cb8da4466214c64": {
      "model_module": "@jupyter-widgets/controls",
      "model_module_version": "1.5.0",
      "model_name": "TextModel",
      "state": {
       "description": "Type:",
       "disabled": true,
       "layout": "IPY_MODEL_8ac6f8c03287459b9b703760755199a4",
       "style": "IPY_MODEL_c376bdf609d04cb3939238391f3f9765"
      }
     },
     "9ae8d27c652440c5b0521534de9dbfc1": {
      "model_module": "@jupyter-widgets/controls",
      "model_module_version": "1.5.0",
      "model_name": "DescriptionStyleModel",
      "state": {
       "description_width": ""
      }
     },
     "9b0b18a65127483a9d03370ef8e5d516": {
      "model_module": "@jupyter-widgets/controls",
      "model_module_version": "1.5.0",
      "model_name": "DescriptionStyleModel",
      "state": {
       "description_width": ""
      }
     },
     "9b4521e663154c6588d6275390c08b55": {
      "model_module": "@jupyter-widgets/controls",
      "model_module_version": "1.5.0",
      "model_name": "ToggleButtonsStyleModel",
      "state": {
       "button_width": "",
       "description_width": ""
      }
     },
     "9b644fa121cb4126bd7f1fe0cc86c058": {
      "model_module": "@jupyter-widgets/base",
      "model_module_version": "1.2.0",
      "model_name": "LayoutModel",
      "state": {}
     },
     "9b720a20e5c540499edf96394a319f1e": {
      "model_module": "@jupyter-widgets/controls",
      "model_module_version": "1.5.0",
      "model_name": "DescriptionStyleModel",
      "state": {
       "description_width": ""
      }
     },
     "9b87bdacf81e49788a4c362ed943f0d7": {
      "model_module": "@jupyter-widgets/controls",
      "model_module_version": "1.5.0",
      "model_name": "DescriptionStyleModel",
      "state": {
       "description_width": ""
      }
     },
     "9bac2afdcdab46c68059aa1c11619d43": {
      "model_module": "@jupyter-widgets/controls",
      "model_module_version": "1.5.0",
      "model_name": "DescriptionStyleModel",
      "state": {
       "description_width": ""
      }
     },
     "9bdaef3422a0450aa8130b3f30a51d1a": {
      "model_module": "@jupyter-widgets/base",
      "model_module_version": "1.2.0",
      "model_name": "LayoutModel",
      "state": {
       "margin": "0px 0px 0px 180px"
      }
     },
     "9bf9f2c744064f6db6fa148a50964bec": {
      "model_module": "@jupyter-widgets/controls",
      "model_module_version": "1.5.0",
      "model_name": "DescriptionStyleModel",
      "state": {
       "description_width": ""
      }
     },
     "9c0d85e9ac144fc985da00e37d1829b3": {
      "model_module": "@jupyter-widgets/controls",
      "model_module_version": "1.5.0",
      "model_name": "HTMLModel",
      "state": {
       "layout": "IPY_MODEL_9e3a74fc104844c8a315a441c6135c79",
       "style": "IPY_MODEL_446e977da3154d63bf7d1b334db0d643",
       "value": "all input tokens: "
      }
     },
     "9c171db18efd492fb77d9eb9bb0fd837": {
      "model_module": "@jupyter-widgets/base",
      "model_module_version": "1.2.0",
      "model_name": "LayoutModel",
      "state": {}
     },
     "9c291c9db96a49cfab076e5cd52cfe5c": {
      "model_module": "@jupyter-widgets/controls",
      "model_module_version": "1.5.0",
      "model_name": "ButtonStyleModel",
      "state": {
       "button_color": "lightblue"
      }
     },
     "9c5588b00f754b59843e5cdb4bab855e": {
      "model_module": "@jupyter-widgets/controls",
      "model_module_version": "1.5.0",
      "model_name": "HBoxModel",
      "state": {
       "children": [
        "IPY_MODEL_de179b1703df4263bc514f6f3db70d68"
       ],
       "layout": "IPY_MODEL_fab5a03bf7c546928a071fd5f101a7a8"
      }
     },
     "9c796f0e9b204d2089fb8350b65e1222": {
      "model_module": "@jupyter-widgets/controls",
      "model_module_version": "1.5.0",
      "model_name": "HBoxModel",
      "state": {
       "children": [
        "IPY_MODEL_50156c91f6044f72a9de5f037c75e756",
        "IPY_MODEL_8c023dbe4a12489588b2646e211d3d46",
        "IPY_MODEL_5ce7c1d041c545af86b46bc46b7ef1dc",
        "IPY_MODEL_4cbfabcf8e444eb196af6ddbfe4d0699"
       ],
       "layout": "IPY_MODEL_cdf657fc9766411ab447c37a8fc917f1"
      }
     },
     "9c9831a383ed4535998047c2154bdd10": {
      "model_module": "@jupyter-widgets/base",
      "model_module_version": "1.2.0",
      "model_name": "LayoutModel",
      "state": {
       "align_items": "center",
       "justify_content": "space-between",
       "margin": "10px 0px 20px 0px"
      }
     },
     "9c9c07fa49fb470081c313dac2dc26b2": {
      "model_module": "@jupyter-widgets/base",
      "model_module_version": "1.2.0",
      "model_name": "LayoutModel",
      "state": {
       "align_content": "center",
       "justify_content": "center"
      }
     },
     "9c9f11fb727e458a8f11b42ae7575138": {
      "model_module": "@jupyter-widgets/base",
      "model_module_version": "1.2.0",
      "model_name": "LayoutModel",
      "state": {
       "width": "50%"
      }
     },
     "9ca3cd1b917844618699e4d1a8244923": {
      "model_module": "@jupyter-widgets/base",
      "model_module_version": "1.2.0",
      "model_name": "LayoutModel",
      "state": {
       "width": "100%"
      }
     },
     "9cb6e9267f8847679c885be9e9bc5e65": {
      "model_module": "@jupyter-widgets/base",
      "model_module_version": "1.2.0",
      "model_name": "LayoutModel",
      "state": {}
     },
     "9cbe43bacad948eb9067e16384838e1c": {
      "model_module": "@jupyter-widgets/base",
      "model_module_version": "1.2.0",
      "model_name": "LayoutModel",
      "state": {
       "margin": "0px 0px 0px 10px"
      }
     },
     "9ce0b4690b59440e8a3520f45ce7a2bf": {
      "model_module": "@jupyter-widgets/controls",
      "model_module_version": "1.5.0",
      "model_name": "BoxModel",
      "state": {
       "children": [
        "IPY_MODEL_51ace5be178648158f3ab3b56dba1494"
       ],
       "layout": "IPY_MODEL_e291762d709c49e8a5b2e125af37bf9a"
      }
     },
     "9d11fe1f36a94817a6e283d2f0479933": {
      "model_module": "@jupyter-widgets/base",
      "model_module_version": "1.2.0",
      "model_name": "LayoutModel",
      "state": {
       "align_items": "center",
       "border": "dotted black 1px",
       "height": "40px",
       "justify_content": "center"
      }
     },
     "9d155af8f63d4f40b8705dbdf7d1895a": {
      "model_module": "@jupyter-widgets/base",
      "model_module_version": "1.2.0",
      "model_name": "LayoutModel",
      "state": {}
     },
     "9d1e00e72d9c4f9fb29a524769adf0b0": {
      "model_module": "@jupyter-widgets/controls",
      "model_module_version": "1.5.0",
      "model_name": "ButtonModel",
      "state": {
       "description": "Add",
       "layout": "IPY_MODEL_f6a90cb4d7174baeba121a2bb4b4b836",
       "style": "IPY_MODEL_80d1359d6431402fb186f619bddd2864"
      }
     },
     "9d3e6ed4d8064593b2c581caefe2c1db": {
      "model_module": "@jupyter-widgets/controls",
      "model_module_version": "1.5.0",
      "model_name": "DescriptionStyleModel",
      "state": {
       "description_width": ""
      }
     },
     "9d6fbea3ec5a47ecbc4c43e9f82baed0": {
      "model_module": "@jupyter-widgets/controls",
      "model_module_version": "1.5.0",
      "model_name": "TextModel",
      "state": {
       "description": "Type:",
       "disabled": true,
       "layout": "IPY_MODEL_3eab27133b75489ea947cc1ab505ef69",
       "style": "IPY_MODEL_af105fdfe4724057945eea48dac18be7"
      }
     },
     "9da0d08bf33f4510940ee9129ae8ad26": {
      "model_module": "@jupyter-widgets/base",
      "model_module_version": "1.2.0",
      "model_name": "LayoutModel",
      "state": {}
     },
     "9da4debdabbf43c093de3c39f283a4e5": {
      "model_module": "@jupyter-widgets/controls",
      "model_module_version": "1.5.0",
      "model_name": "LabelModel",
      "state": {
       "layout": "IPY_MODEL_cfced9905ab54f84960915fb1a9b820e",
       "style": "IPY_MODEL_8f2b4999eeb04e9091078c83e124feba",
       "value": "Template 4: get SMILES reperesentaion of molecules --> save them --> generate Dragon descriptors  --> save features"
      }
     },
     "9da8837a7b4745c393391f72e99761a6": {
      "model_module": "@jupyter-widgets/controls",
      "model_module_version": "1.5.0",
      "model_name": "CheckboxModel",
      "state": {
       "description": "Check to set",
       "disabled": false,
       "indent": false,
       "layout": "IPY_MODEL_ea67fdc5960c44179311359b87580893",
       "style": "IPY_MODEL_c11aa4705242499f834afd98edddb7ed",
       "value": false
      }
     },
     "9da9a07dc2134949bf29b2f985052132": {
      "model_module": "@jupyter-widgets/controls",
      "model_module_version": "1.5.0",
      "model_name": "TextModel",
      "state": {
       "description": "verify_integrity",
       "layout": "IPY_MODEL_e66d2ed0275b49fe80018346a77f34d9",
       "placeholder": "[]",
       "style": "IPY_MODEL_2ab566e1af14480e879045afdc081be9",
       "value": "False"
      }
     },
     "9dc6bfdd51ab4d1b849e33103f35b7b8": {
      "model_module": "@jupyter-widgets/controls",
      "model_module_version": "1.5.0",
      "model_name": "HBoxModel",
      "state": {
       "children": [
        "IPY_MODEL_49bb9ce5708043c8a2b2534b9ab65f55",
        "IPY_MODEL_c4600eeee6894ace98bf31a3ef638ca4",
        "IPY_MODEL_9d6fbea3ec5a47ecbc4c43e9f82baed0"
       ],
       "layout": "IPY_MODEL_0d9e13c66d4e44fba975a92a3a79104a"
      }
     },
     "9dc7188ac9e44ee9936f96fa2f8ea13b": {
      "model_module": "@jupyter-widgets/base",
      "model_module_version": "1.2.0",
      "model_name": "LayoutModel",
      "state": {
       "width": "40%"
      }
     },
     "9dcad45f989e48cd815768b190cc9b5a": {
      "model_module": "@jupyter-widgets/base",
      "model_module_version": "1.2.0",
      "model_name": "LayoutModel",
      "state": {
       "align_items": "center",
       "border": "dotted black 1px",
       "height": "40px",
       "justify_content": "center"
      }
     },
     "9dd8157f7f4349218dd9e65854b0d2e8": {
      "model_module": "@jupyter-widgets/controls",
      "model_module_version": "1.5.0",
      "model_name": "HBoxModel",
      "state": {
       "children": [
        "IPY_MODEL_3d37d4ccf87c4e0e875f281556d2e5e4"
       ],
       "layout": "IPY_MODEL_e4ef6e100d294832a0bab7a7dc5dfe2a"
      }
     },
     "9e285471b4c64c7ab911104124a8b624": {
      "model_module": "@jupyter-widgets/base",
      "model_module_version": "1.2.0",
      "model_name": "LayoutModel",
      "state": {}
     },
     "9e3a74fc104844c8a315a441c6135c79": {
      "model_module": "@jupyter-widgets/base",
      "model_module_version": "1.2.0",
      "model_name": "LayoutModel",
      "state": {
       "margin": "0px 0px 0px 20px"
      }
     },
     "9e3dcc0662254a41accbe4f1dcd9d951": {
      "model_module": "@jupyter-widgets/base",
      "model_module_version": "1.2.0",
      "model_name": "LayoutModel",
      "state": {}
     },
     "9e4bdbb0718442fbbd0c4096e6fef026": {
      "model_module": "@jupyter-widgets/controls",
      "model_module_version": "1.5.0",
      "model_name": "VBoxModel",
      "state": {
       "children": [
        "IPY_MODEL_cb8fda4d41f241c58732a2067343934c",
        "IPY_MODEL_c712612c1ac34459aa8a7544b3279e93",
        "IPY_MODEL_2dd2eace704f4e2fa36ccc47fc5b0c1c"
       ],
       "layout": "IPY_MODEL_eaa92aa91ae04b308ad007dedad58deb"
      }
     },
     "9ec5a0c0213b49ebaeb0c2bb7c6f3ac2": {
      "model_module": "@jupyter-widgets/controls",
      "model_module_version": "1.5.0",
      "model_name": "DropdownModel",
      "state": {
       "description": "input token:",
       "index": null,
       "layout": "IPY_MODEL_ede21a2f8ed04616bbcd7cadddace0e6",
       "style": "IPY_MODEL_71afc79a57004618a35eb1ab886821d3"
      }
     },
     "9ec8536a066c41caa55764d3d3b2a769": {
      "model_module": "@jupyter-widgets/controls",
      "model_module_version": "1.5.0",
      "model_name": "ToggleButtonsStyleModel",
      "state": {
       "button_width": "",
       "description_width": ""
      }
     },
     "9f00c82fc81f4f4993e6c16bdede3081": {
      "model_module": "@jupyter-widgets/controls",
      "model_module_version": "1.5.0",
      "model_name": "HTMLModel",
      "state": {
       "layout": "IPY_MODEL_6240743bcf094ff785f3fec75604ab21",
       "style": "IPY_MODEL_c4b764bf6cb0419aa2577a5147f363eb",
       "value": "<b> Data Mining: </b>"
      }
     },
     "9f194140a1d740d199fab743d4454e23": {
      "model_module": "@jupyter-widgets/controls",
      "model_module_version": "1.5.0",
      "model_name": "HBoxModel",
      "state": {
       "children": [
        "IPY_MODEL_3fa19f97696342909bbfe834cb729ba4",
        "IPY_MODEL_f7bcb9e840fb4e3d93ae3c083e973048",
        "IPY_MODEL_e1ea628de4784952961d2c6c36352578"
       ],
       "layout": "IPY_MODEL_c0dbb39e25dc4f4fbab03599b5ff7f07"
      }
     },
     "9f2616f755d34e8994fb491ad4899239": {
      "model_module": "@jupyter-widgets/controls",
      "model_module_version": "1.5.0",
      "model_name": "DescriptionStyleModel",
      "state": {
       "description_width": ""
      }
     },
     "9f32dd84ccc84e59abacc9039d9d6118": {
      "model_module": "@jupyter-widgets/controls",
      "model_module_version": "1.5.0",
      "model_name": "DescriptionStyleModel",
      "state": {
       "description_width": ""
      }
     },
     "9f59181ec7dd4767903ecda5e65d5292": {
      "model_module": "@jupyter-widgets/base",
      "model_module_version": "1.2.0",
      "model_name": "LayoutModel",
      "state": {
       "margin": "0px 0px 0px 10px"
      }
     },
     "9f5b9dc5303c4ba983772f73266ea292": {
      "model_module": "@jupyter-widgets/base",
      "model_module_version": "1.2.0",
      "model_name": "LayoutModel",
      "state": {}
     },
     "9f608892ea2b476fa9812e8be836ac8a": {
      "model_module": "@jupyter-widgets/controls",
      "model_module_version": "1.5.0",
      "model_name": "DescriptionStyleModel",
      "state": {
       "description_width": "initial"
      }
     },
     "9f6b39b0dad845f9a6b3d14c35bb9617": {
      "model_module": "@jupyter-widgets/controls",
      "model_module_version": "1.5.0",
      "model_name": "ButtonStyleModel",
      "state": {
       "button_color": "lightblue"
      }
     },
     "9f7ed06132f042d0a774b15b7d984ad5": {
      "model_module": "@jupyter-widgets/controls",
      "model_module_version": "1.5.0",
      "model_name": "DescriptionStyleModel",
      "state": {
       "description_width": ""
      }
     },
     "9fa09c442caa4ded899a7934be0d6202": {
      "model_module": "@jupyter-widgets/controls",
      "model_module_version": "1.5.0",
      "model_name": "ButtonStyleModel",
      "state": {
       "button_color": "lightblue"
      }
     },
     "9fa4ffd0c90b4c6bbe8c8a710ec64284": {
      "model_module": "@jupyter-widgets/controls",
      "model_module_version": "1.5.0",
      "model_name": "DescriptionStyleModel",
      "state": {
       "description_width": ""
      }
     },
     "a00b82fcf34c4b84a71a32b2c37cf393": {
      "model_module": "@jupyter-widgets/controls",
      "model_module_version": "1.5.0",
      "model_name": "DescriptionStyleModel",
      "state": {
       "description_width": ""
      }
     },
     "a0163aa4553e48f0a5d3fad31cda4b14": {
      "model_module": "@jupyter-widgets/controls",
      "model_module_version": "1.5.0",
      "model_name": "ButtonModel",
      "state": {
       "description": "Select",
       "layout": "IPY_MODEL_f27c3a783bf44e008c3e6906afa71db8",
       "style": "IPY_MODEL_6157d72f159245f49bb15c9cbc75759d"
      }
     },
     "a046f67df2eb4965a9c42ebb496dd850": {
      "model_module": "@jupyter-widgets/controls",
      "model_module_version": "1.5.0",
      "model_name": "CheckboxModel",
      "state": {
       "description": "Check to set",
       "disabled": false,
       "indent": false,
       "layout": "IPY_MODEL_184a101156de43aa9678026ff72d6fa4",
       "style": "IPY_MODEL_cfce5135c6b841f1b124e0893085e5bd",
       "value": false
      }
     },
     "a0473159b88a4bc68fbdab812c488991": {
      "model_module": "@jupyter-widgets/base",
      "model_module_version": "1.2.0",
      "model_name": "LayoutModel",
      "state": {
       "margin": "0px 0px 0px 10px"
      }
     },
     "a057d2d3b3254daba636964b509ba300": {
      "model_module": "@jupyter-widgets/controls",
      "model_module_version": "1.5.0",
      "model_name": "DescriptionStyleModel",
      "state": {
       "description_width": ""
      }
     },
     "a07f3eaf8126438e8caf7b746e41eedf": {
      "model_module": "@jupyter-widgets/base",
      "model_module_version": "1.2.0",
      "model_name": "LayoutModel",
      "state": {}
     },
     "a0af904dd35648f683e337df6b51fc31": {
      "model_module": "@jupyter-widgets/controls",
      "model_module_version": "1.5.0",
      "model_name": "HTMLModel",
      "state": {
       "layout": "IPY_MODEL_31fe949fad2941e897dc9919ea6ec279",
       "style": "IPY_MODEL_273f059d915c4dc8ab6aff1ef8c4ee7e",
       "value": "<b> Send >>> </b>"
      }
     },
     "a0ecc383a51241b793b7f8fd1f43b473": {
      "model_module": "@jupyter-widgets/controls",
      "model_module_version": "1.5.0",
      "model_name": "DropdownModel",
      "state": {
       "_options_labels": [
        "df1",
        "df2",
        "df3"
       ],
       "description": "input token:",
       "index": 0,
       "layout": "IPY_MODEL_cbb8e07de4e8487aaedfa7c584e4d22b",
       "style": "IPY_MODEL_ec5511a748be4266acba1c866d3bc0dd"
      }
     },
     "a10a38f5cecd4d439e972afc9fb1c192": {
      "model_module": "@jupyter-widgets/controls",
      "model_module_version": "1.5.0",
      "model_name": "DropdownModel",
      "state": {
       "_options_labels": [
        "df"
       ],
       "description": "output token:",
       "index": 0,
       "layout": "IPY_MODEL_777114850351495e9cd69ef8a4e9065e",
       "style": "IPY_MODEL_e58c102c3ad4435089c9b4ab7cf075f5"
      }
     },
     "a10bdc5b5a664f068d0417d263096425": {
      "model_module": "@jupyter-widgets/base",
      "model_module_version": "1.2.0",
      "model_name": "LayoutModel",
      "state": {}
     },
     "a119f48e0da847c3ab8551173af45dab": {
      "model_module": "@jupyter-widgets/base",
      "model_module_version": "1.2.0",
      "model_name": "LayoutModel",
      "state": {
       "width": "50%"
      }
     },
     "a12209db63d94f72bf8950c405453bac": {
      "model_module": "@jupyter-widgets/controls",
      "model_module_version": "1.5.0",
      "model_name": "DescriptionStyleModel",
      "state": {
       "description_width": ""
      }
     },
     "a17f834ea00b4d5ca04e91ea73006842": {
      "model_module": "@jupyter-widgets/controls",
      "model_module_version": "1.5.0",
      "model_name": "ButtonStyleModel",
      "state": {
       "button_color": "lightblue"
      }
     },
     "a193ad673eea49d9acf0747734c8b6d7": {
      "model_module": "@jupyter-widgets/controls",
      "model_module_version": "1.5.0",
      "model_name": "TextModel",
      "state": {
       "description": "line18",
       "layout": "IPY_MODEL_029a78044604498bb97526daba7f8c84",
       "placeholder": "[]",
       "style": "IPY_MODEL_fb5da24ce8554bb6a357625e3e90312a",
       "value": "type python code"
      }
     },
     "a1bea1dcc5ba4386a8563e867b59c8e0": {
      "model_module": "@jupyter-widgets/controls",
      "model_module_version": "1.5.0",
      "model_name": "HBoxModel",
      "state": {
       "children": [
        "IPY_MODEL_42e3d7e2500546f194011387b4aa36d5",
        "IPY_MODEL_caef8e9d6bc74e9ca47be5bfdbd54674",
        "IPY_MODEL_2a9b884239bf4bcea79f192900ca9546"
       ],
       "layout": "IPY_MODEL_15446420555d4ff3991d70cdd382b8b7"
      }
     },
     "a1d9e9f9557142499406c1332c8e5a6c": {
      "model_module": "@jupyter-widgets/base",
      "model_module_version": "1.2.0",
      "model_name": "LayoutModel",
      "state": {}
     },
     "a1e55b0ca03b471f9c46db302037dff0": {
      "model_module": "@jupyter-widgets/base",
      "model_module_version": "1.2.0",
      "model_name": "LayoutModel",
      "state": {}
     },
     "a2069f2c597f4375a8a08cca66c7648d": {
      "model_module": "@jupyter-widgets/controls",
      "model_module_version": "1.5.0",
      "model_name": "DescriptionStyleModel",
      "state": {
       "description_width": ""
      }
     },
     "a20f6e1ca6234e558cc4fd0ac15d83e0": {
      "model_module": "@jupyter-widgets/base",
      "model_module_version": "1.2.0",
      "model_name": "LayoutModel",
      "state": {
       "margin": "10px 0px 0px 10px",
       "width": "50%"
      }
     },
     "a23d8f22197a4dd9b72f98a037a97bcf": {
      "model_module": "@jupyter-widgets/controls",
      "model_module_version": "1.5.0",
      "model_name": "TextModel",
      "state": {
       "description": "Type:",
       "disabled": true,
       "layout": "IPY_MODEL_bf3344c0ceb04bf1af1580f1cbf2b474",
       "style": "IPY_MODEL_2e4fda0faed3451fa7fe2fc73ccf0983"
      }
     },
     "a248996d23034e19bdcc5134fa29019f": {
      "model_module": "@jupyter-widgets/controls",
      "model_module_version": "1.5.0",
      "model_name": "TextModel",
      "state": {
       "description": "line13",
       "layout": "IPY_MODEL_4ddba0612672400a9b32496def62e3e9",
       "placeholder": "[]",
       "style": "IPY_MODEL_43417e3bc9974dcb8ee034f89b7205cf",
       "value": "type python code"
      }
     },
     "a2f45e4d42eb456589ee02dd6fb9255f": {
      "model_module": "@jupyter-widgets/controls",
      "model_module_version": "1.5.0",
      "model_name": "HTMLModel",
      "state": {
       "layout": "IPY_MODEL_4b420813483a472c91cd1b818b165876",
       "style": "IPY_MODEL_9f2616f755d34e8994fb491ad4899239",
       "value": "<b> <<< </b>"
      }
     },
     "a2f93d77f03e442f8285d6e300ef1310": {
      "model_module": "@jupyter-widgets/controls",
      "model_module_version": "1.5.0",
      "model_name": "DescriptionStyleModel",
      "state": {
       "description_width": ""
      }
     },
     "a303a056fa594ef6bc1ce5070487b2bb": {
      "model_module": "@jupyter-widgets/controls",
      "model_module_version": "1.5.0",
      "model_name": "DropdownModel",
      "state": {
       "_options_labels": [
        "chemml"
       ],
       "description": "Host:",
       "index": 0,
       "layout": "IPY_MODEL_1c35ad96c87545e38e240b8fc1880d9b",
       "style": "IPY_MODEL_7333032333c746239aab12f521c47064"
      }
     },
     "a32b5accb2684433a4d3149879fe1eda": {
      "model_module": "@jupyter-widgets/controls",
      "model_module_version": "1.5.0",
      "model_name": "ButtonStyleModel",
      "state": {
       "button_color": "lightblue"
      }
     },
     "a37017c85d614a4c89cd75543549ad23": {
      "model_module": "@jupyter-widgets/base",
      "model_module_version": "1.2.0",
      "model_name": "LayoutModel",
      "state": {}
     },
     "a3775b0d16994c8badab92297f819bdc": {
      "model_module": "@jupyter-widgets/controls",
      "model_module_version": "1.5.0",
      "model_name": "VBoxModel",
      "state": {
       "children": [
        "IPY_MODEL_fd24ac60953e4d0abf4779cacd91ac55",
        "IPY_MODEL_b15a9a89b4ff40d59137e254302dcf30",
        "IPY_MODEL_d017b1b37a9e49be8addeb7b929a0f7c",
        "IPY_MODEL_07766f9bec09425da112552b9892e05d",
        "IPY_MODEL_f342992232604bd0a4093c24e88002ce",
        "IPY_MODEL_0e11298a8f98401fa55676f2c32775ff",
        "IPY_MODEL_77cb44dedf9f456c8008c4a4bbc9cfc1"
       ],
       "layout": "IPY_MODEL_7c32a0764f254713be04aeea3f32a630"
      }
     },
     "a3855363c81f43c980e35f585d1e804b": {
      "model_module": "@jupyter-widgets/base",
      "model_module_version": "1.2.0",
      "model_name": "LayoutModel",
      "state": {}
     },
     "a3a8f4d93d954bec9906031e16d1f3b6": {
      "model_module": "@jupyter-widgets/controls",
      "model_module_version": "1.5.0",
      "model_name": "LabelModel",
      "state": {
       "layout": "IPY_MODEL_066976c2a8fc49238760fb9581fb0fb6",
       "style": "IPY_MODEL_c89a1c94f0c2415e990e5cd9ee819a32",
       "value": "Start with a template workflow"
      }
     },
     "a3b38e0fcccb441cac87dbba46add905": {
      "model_module": "@jupyter-widgets/controls",
      "model_module_version": "1.5.0",
      "model_name": "DescriptionStyleModel",
      "state": {
       "description_width": ""
      }
     },
     "a3e16c4683164707aafac06487cd719c": {
      "model_module": "@jupyter-widgets/controls",
      "model_module_version": "1.5.0",
      "model_name": "ButtonStyleModel",
      "state": {
       "button_color": "lightblue"
      }
     },
     "a3e2679cc5414da1b54bd66a0f6c95c5": {
      "model_module": "@jupyter-widgets/controls",
      "model_module_version": "1.5.0",
      "model_name": "DescriptionStyleModel",
      "state": {
       "description_width": ""
      }
     },
     "a402629b56f34c839f613b51856590db": {
      "model_module": "@jupyter-widgets/base",
      "model_module_version": "1.2.0",
      "model_name": "LayoutModel",
      "state": {
       "margin": "0px 0px 0px 180px"
      }
     },
     "a40913aa5ae1441f878c241af2a6b04d": {
      "model_module": "@jupyter-widgets/base",
      "model_module_version": "1.2.0",
      "model_name": "LayoutModel",
      "state": {}
     },
     "a41cd108b55341eb9be8c5d3cabb5857": {
      "model_module": "@jupyter-widgets/base",
      "model_module_version": "1.2.0",
      "model_name": "LayoutModel",
      "state": {
       "width": "40%"
      }
     },
     "a42739fff2194cccaeb5e8bd1d7a0860": {
      "model_module": "@jupyter-widgets/base",
      "model_module_version": "1.2.0",
      "model_name": "LayoutModel",
      "state": {
       "margin": "0px 0px 0px 10px"
      }
     },
     "a439ab0609a84350a69898b34e9645ea": {
      "model_module": "@jupyter-widgets/base",
      "model_module_version": "1.2.0",
      "model_name": "LayoutModel",
      "state": {
       "width": "100%"
      }
     },
     "a444d2a6371d4f08a4ca6ea39be0e255": {
      "model_module": "@jupyter-widgets/controls",
      "model_module_version": "1.5.0",
      "model_name": "VBoxModel",
      "state": {
       "children": [
        "IPY_MODEL_d4d8751d2ab3461da66a4e0bfa456a5d",
        "IPY_MODEL_e79e47777d954b8798c1474ed0232298",
        "IPY_MODEL_1d5e128e663b4007aa0b955e815a5031"
       ],
       "layout": "IPY_MODEL_53e4288978aa4e3ab4caa44483a0da68"
      }
     },
     "a49b1535e40346b79d7d8d20a5aa2408": {
      "model_module": "@jupyter-widgets/controls",
      "model_module_version": "1.5.0",
      "model_name": "DescriptionStyleModel",
      "state": {
       "description_width": ""
      }
     },
     "a4a6ad652eec4f9f92d29b0c06a73cfe": {
      "model_module": "@jupyter-widgets/base",
      "model_module_version": "1.2.0",
      "model_name": "LayoutModel",
      "state": {}
     },
     "a4b4319422d94e7ab3561791b7b85176": {
      "model_module": "@jupyter-widgets/controls",
      "model_module_version": "1.5.0",
      "model_name": "DropdownModel",
      "state": {
       "_options_labels": [
        "df"
       ],
       "description": "output token:",
       "index": 0,
       "layout": "IPY_MODEL_ae04677d08e74ebcb42c1044acbd53b1",
       "style": "IPY_MODEL_ffd44de14e3546c4932b78cccacadea1"
      }
     },
     "a4be8aed060c493abc31ba82c137373e": {
      "model_module": "@jupyter-widgets/controls",
      "model_module_version": "1.5.0",
      "model_name": "HTMLModel",
      "state": {
       "layout": "IPY_MODEL_d4cad9b80f324be1b238899cace09650",
       "style": "IPY_MODEL_897965940f9545c5ba666af09779e84a",
       "value": "<b> >>> </b>"
      }
     },
     "a4ceec27f6d04d50ba6b050f6421d7ad": {
      "model_module": "@jupyter-widgets/base",
      "model_module_version": "1.2.0",
      "model_name": "LayoutModel",
      "state": {
       "margin": "0px 0px 0px 10px"
      }
     },
     "a4f2e73412334cc681cc30c12d5d43a7": {
      "model_module": "@jupyter-widgets/controls",
      "model_module_version": "1.5.0",
      "model_name": "DescriptionStyleModel",
      "state": {
       "description_width": "initial"
      }
     },
     "a52c625312444f2484558fe43ade6766": {
      "model_module": "@jupyter-widgets/controls",
      "model_module_version": "1.5.0",
      "model_name": "ButtonStyleModel",
      "state": {
       "button_color": "lightblue"
      }
     },
     "a54080fbea4b42e090b03aafb7049dbc": {
      "model_module": "@jupyter-widgets/base",
      "model_module_version": "1.2.0",
      "model_name": "LayoutModel",
      "state": {}
     },
     "a579ef3af2fe44d886f637d18cc68c03": {
      "model_module": "@jupyter-widgets/base",
      "model_module_version": "1.2.0",
      "model_name": "LayoutModel",
      "state": {}
     },
     "a59eb39a63934a32aaf206543bba9336": {
      "model_module": "@jupyter-widgets/base",
      "model_module_version": "1.2.0",
      "model_name": "LayoutModel",
      "state": {}
     },
     "a5bb0f474804423b8c88ee266185fae5": {
      "model_module": "@jupyter-widgets/base",
      "model_module_version": "1.2.0",
      "model_name": "LayoutModel",
      "state": {}
     },
     "a60180a2367d4d59aa1bdee9a052d0df": {
      "model_module": "@jupyter-widgets/base",
      "model_module_version": "1.2.0",
      "model_name": "LayoutModel",
      "state": {}
     },
     "a603f9bf30a84005a058918272a0155a": {
      "model_module": "@jupyter-widgets/base",
      "model_module_version": "1.2.0",
      "model_name": "LayoutModel",
      "state": {}
     },
     "a60d6cb654c34a31949e1deb81320649": {
      "model_module": "@jupyter-widgets/base",
      "model_module_version": "1.2.0",
      "model_name": "LayoutModel",
      "state": {}
     },
     "a60e5970032a4805b3bda5cd57c310f9": {
      "model_module": "@jupyter-widgets/controls",
      "model_module_version": "1.5.0",
      "model_name": "DescriptionStyleModel",
      "state": {
       "description_width": ""
      }
     },
     "a628221cba30493e97726fc447b5207e": {
      "model_module": "@jupyter-widgets/controls",
      "model_module_version": "1.5.0",
      "model_name": "HBoxModel",
      "state": {
       "children": [
        "IPY_MODEL_0503a1030ab54fc486276ed359d7d489",
        "IPY_MODEL_1a7283a0161e4789b7b733cf8a6375e7",
        "IPY_MODEL_f9dbeda3fbf44dcd8230fcac734c8fa8"
       ],
       "layout": "IPY_MODEL_5498e02e2b2345119c5670df7e3b7f07"
      }
     },
     "a669ce6433b4463f9288dcf7dc9a3434": {
      "model_module": "@jupyter-widgets/base",
      "model_module_version": "1.2.0",
      "model_name": "LayoutModel",
      "state": {}
     },
     "a6859773729c4a2d88c43b9da6ee6052": {
      "model_module": "@jupyter-widgets/controls",
      "model_module_version": "1.5.0",
      "model_name": "LabelModel",
      "state": {
       "layout": "IPY_MODEL_7bdb403431ec4a8499a15337464ce05d",
       "style": "IPY_MODEL_017a04710e1f4bfdbc1346e87f54116d",
       "value": "Template 1: A simple machine learning model workflow"
      }
     },
     "a68889ba1a5240fe83d2e61bd858e412": {
      "model_module": "@jupyter-widgets/controls",
      "model_module_version": "1.5.0",
      "model_name": "LabelModel",
      "state": {
       "layout": "IPY_MODEL_f120b588e77d41358d16e23bd563f7d6",
       "style": "IPY_MODEL_21c93a34434d4f9eb20604897bcf0795",
       "value": "Template 1: load_comp_energy --> inorganic descriptors for composition entries --> concatenate and print shape"
      }
     },
     "a6ced1f6d14142a3844a70a6f91a5fe7": {
      "model_module": "@jupyter-widgets/controls",
      "model_module_version": "1.5.0",
      "model_name": "DescriptionStyleModel",
      "state": {
       "description_width": ""
      }
     },
     "a6e51e0cfcb44850973c5e5de91db92c": {
      "model_module": "@jupyter-widgets/base",
      "model_module_version": "1.2.0",
      "model_name": "LayoutModel",
      "state": {
       "margin": "0px 0px 0px 180px"
      }
     },
     "a735d2972c6e45df88c8faac4841828b": {
      "model_module": "@jupyter-widgets/base",
      "model_module_version": "1.2.0",
      "model_name": "LayoutModel",
      "state": {}
     },
     "a762ec26354f467cbc8d94f10fc5f50f": {
      "model_module": "@jupyter-widgets/base",
      "model_module_version": "1.2.0",
      "model_name": "LayoutModel",
      "state": {
       "margin": "30px 0px 10px 0px"
      }
     },
     "a7640076a0e24b3498c847d8ce061f41": {
      "model_module": "@jupyter-widgets/controls",
      "model_module_version": "1.5.0",
      "model_name": "ButtonStyleModel",
      "state": {
       "button_color": "lightblue"
      }
     },
     "a7816e2b83b448b494e651c32e4d2884": {
      "model_module": "@jupyter-widgets/controls",
      "model_module_version": "1.5.0",
      "model_name": "HBoxModel",
      "state": {
       "children": [
        "IPY_MODEL_a6859773729c4a2d88c43b9da6ee6052",
        "IPY_MODEL_c6940b5218834ec2922c69edc48eed2d"
       ],
       "layout": "IPY_MODEL_d75b25d2d4d24cab829876d1ce9fcc59"
      }
     },
     "a79523d71f4f4f6888438d9859a7f6bc": {
      "model_module": "@jupyter-widgets/controls",
      "model_module_version": "1.5.0",
      "model_name": "DropdownModel",
      "state": {
       "_options_labels": [
        "entries"
       ],
       "description": "input token:",
       "index": 0,
       "layout": "IPY_MODEL_1949bed943a24122a24caa3c0415b4e9",
       "style": "IPY_MODEL_be86c028c740489fb803d05c53e02ab0"
      }
     },
     "a7abd8120c534d39b4de184a42f3fb4a": {
      "model_module": "@jupyter-widgets/controls",
      "model_module_version": "1.5.0",
      "model_name": "DescriptionStyleModel",
      "state": {
       "description_width": ""
      }
     },
     "a82058bc1aa64363bc718f207a856308": {
      "model_module": "@jupyter-widgets/base",
      "model_module_version": "1.2.0",
      "model_name": "LayoutModel",
      "state": {
       "margin": "10px 0px 0px 10px",
       "width": "50%"
      }
     },
     "a83d57d774e34340a38bab15380d1ff0": {
      "model_module": "@jupyter-widgets/controls",
      "model_module_version": "1.5.0",
      "model_name": "DescriptionStyleModel",
      "state": {
       "description_width": "initial"
      }
     },
     "a85dc6692c614021acb014d603c7e259": {
      "model_module": "@jupyter-widgets/controls",
      "model_module_version": "1.5.0",
      "model_name": "DescriptionStyleModel",
      "state": {
       "description_width": "initial"
      }
     },
     "a861568a592943a98f32925de7d4505d": {
      "model_module": "@jupyter-widgets/controls",
      "model_module_version": "1.5.0",
      "model_name": "DescriptionStyleModel",
      "state": {
       "description_width": ""
      }
     },
     "a863290c4cc34611b8c51cc707d882f6": {
      "model_module": "@jupyter-widgets/base",
      "model_module_version": "1.2.0",
      "model_name": "LayoutModel",
      "state": {
       "width": "40%"
      }
     },
     "a8972a18cf0d40328a4b3438d830ff89": {
      "model_module": "@jupyter-widgets/controls",
      "model_module_version": "1.5.0",
      "model_name": "TextModel",
      "state": {
       "description": "keys",
       "layout": "IPY_MODEL_8d2e4736b5a04d3593590cf1db7c0130",
       "placeholder": "[]",
       "style": "IPY_MODEL_10d564af7c834a0882b3ddeeb6b30c7d",
       "value": "None"
      }
     },
     "a8b120ad6afc4f05bd5fd24358c74940": {
      "model_module": "@jupyter-widgets/controls",
      "model_module_version": "1.5.0",
      "model_name": "HBoxModel",
      "state": {
       "children": [
        "IPY_MODEL_109b41baebf144298fb56d4b5ad9a319",
        "IPY_MODEL_30652a25ea6f4783b9270d6f530514cc",
        "IPY_MODEL_b2121d9604814735ba6e30b1664f1717"
       ],
       "layout": "IPY_MODEL_97e6cd32e41843d8bc0611f13452e67b"
      }
     },
     "a8c81c71c3924efc9d72da09458d6bf3": {
      "model_module": "@jupyter-widgets/base",
      "model_module_version": "1.2.0",
      "model_name": "LayoutModel",
      "state": {
       "width": "40px"
      }
     },
     "a8db4eecfe0f439d8511d5c20d63387c": {
      "model_module": "@jupyter-widgets/controls",
      "model_module_version": "1.5.0",
      "model_name": "CheckboxModel",
      "state": {
       "description": "Check to set",
       "disabled": false,
       "indent": false,
       "layout": "IPY_MODEL_c045037ff661462a9231fd778e245ab6",
       "style": "IPY_MODEL_9807f5a4c9d646bb8db91491f65a1b95",
       "value": false
      }
     },
     "a8e7449ab8e24ff3b6795e5c528d8ffb": {
      "model_module": "@jupyter-widgets/controls",
      "model_module_version": "1.5.0",
      "model_name": "HBoxModel",
      "state": {
       "children": [
        "IPY_MODEL_43a699110f604600a5d640612456ca7e",
        "IPY_MODEL_34bbdf32527e43a9b906e763796582d5",
        "IPY_MODEL_01af12d0617c45e0b0b86944386fc874"
       ],
       "layout": "IPY_MODEL_c313dc20eaab47e6809d856cc7344900"
      }
     },
     "a8f48cd5c6ab457eaa6a42b9d8d588d7": {
      "model_module": "@jupyter-widgets/controls",
      "model_module_version": "1.5.0",
      "model_name": "DescriptionStyleModel",
      "state": {
       "description_width": ""
      }
     },
     "a8fa94b3dc7040a1a37b16dfe816728e": {
      "model_module": "@jupyter-widgets/base",
      "model_module_version": "1.2.0",
      "model_name": "LayoutModel",
      "state": {}
     },
     "a9023aca95eb4a9f93ae1b5a454e0b42": {
      "model_module": "@jupyter-widgets/controls",
      "model_module_version": "1.5.0",
      "model_name": "DescriptionStyleModel",
      "state": {
       "description_width": "initial"
      }
     },
     "a972e08bee9d4f6daeec49a35ae56bd7": {
      "model_module": "@jupyter-widgets/base",
      "model_module_version": "1.2.0",
      "model_name": "LayoutModel",
      "state": {}
     },
     "a9a6d5e4cee849348af42c277fe5ff9d": {
      "model_module": "@jupyter-widgets/controls",
      "model_module_version": "1.5.0",
      "model_name": "DropdownModel",
      "state": {
       "_options_labels": [
        "2",
        "3"
       ],
       "description": "block#:",
       "index": 0,
       "layout": "IPY_MODEL_5062ab344b1f40878e46326eb10b90d8",
       "style": "IPY_MODEL_de5c3e2f13604f21a29122de5e916e2a"
      }
     },
     "a9bc1349d3e14d149f38f9cb9f8f2982": {
      "model_module": "@jupyter-widgets/base",
      "model_module_version": "1.2.0",
      "model_name": "LayoutModel",
      "state": {}
     },
     "a9ca77d705b7437fadacf8d57095d1b4": {
      "model_module": "@jupyter-widgets/controls",
      "model_module_version": "1.5.0",
      "model_name": "HTMLModel",
      "state": {
       "layout": "IPY_MODEL_5933642a0a13420fa2af24c4b5223724",
       "style": "IPY_MODEL_2b3fd361e9994147b445a5694748db6f",
       "value": "<b> Datasets Overview: </b>"
      }
     },
     "a9e0df726033480396184340f4a6eb70": {
      "model_module": "@jupyter-widgets/controls",
      "model_module_version": "1.5.0",
      "model_name": "BoxModel",
      "state": {
       "children": [
        "IPY_MODEL_8649cf23d76a474b815be4b302719901"
       ],
       "layout": "IPY_MODEL_dc137e8fcc3e4c02af38cf1fa7da3020"
      }
     },
     "a9ed7e058e954e2799b745611aadaac6": {
      "model_module": "@jupyter-widgets/controls",
      "model_module_version": "1.5.0",
      "model_name": "HTMLModel",
      "state": {
       "layout": "IPY_MODEL_d36c7490fe0a4dbb94f57ba82631be3e",
       "style": "IPY_MODEL_845cc3f1eb4741c1b8e4d5e9c5b86426",
       "value": "<b> <<< </b>"
      }
     },
     "aa26cf5fe1f448568c2906df119b4035": {
      "model_module": "@jupyter-widgets/controls",
      "model_module_version": "1.5.0",
      "model_name": "TextModel",
      "state": {
       "description": "line12",
       "layout": "IPY_MODEL_fb5cea944ab54454810b40c99193e679",
       "placeholder": "[]",
       "style": "IPY_MODEL_2745e5a7f8d04531a62485c56c42d993",
       "value": "type python code"
      }
     },
     "aa385423474d497fa856886bdfeff573": {
      "model_module": "@jupyter-widgets/controls",
      "model_module_version": "1.5.0",
      "model_name": "HBoxModel",
      "state": {
       "children": [
        "IPY_MODEL_c5a1ad0647684f46b11b2fd4c356540b",
        "IPY_MODEL_bbad2493dc004b9b86af5e471d727228",
        "IPY_MODEL_e8b00e163efe41ca8059e7ad185b9c48",
        "IPY_MODEL_e90df536dbd14bb195b2e289922cf4ba"
       ],
       "layout": "IPY_MODEL_24fd73f8d8fd410b8db397a7d410091c"
      }
     },
     "aa446b2bfe964661aefad94aebcbfdb4": {
      "model_module": "@jupyter-widgets/base",
      "model_module_version": "1.2.0",
      "model_name": "LayoutModel",
      "state": {}
     },
     "aa5e42d610b04175b5b51fc90a461f4e": {
      "model_module": "@jupyter-widgets/controls",
      "model_module_version": "1.5.0",
      "model_name": "DropdownModel",
      "state": {
       "description": "input token:",
       "index": null,
       "layout": "IPY_MODEL_c8c01ca8a36c4ddda9c1a3172e475329",
       "style": "IPY_MODEL_995ff56cdb5f4d5f8186000d9ce14983"
      }
     },
     "aa810c5cc6a044878c534d20853cddc7": {
      "model_module": "@jupyter-widgets/base",
      "model_module_version": "1.2.0",
      "model_name": "LayoutModel",
      "state": {}
     },
     "aa95c8fbad53423da4d5bc5507b6210f": {
      "model_module": "@jupyter-widgets/base",
      "model_module_version": "1.2.0",
      "model_name": "LayoutModel",
      "state": {
       "align_items": "center",
       "border": "dotted black 1px",
       "height": "40px",
       "margin": "0px 0px 0px 10px"
      }
     },
     "aa9b75072fe5445ea88d2ce86e47938a": {
      "model_module": "@jupyter-widgets/controls",
      "model_module_version": "1.5.0",
      "model_name": "ButtonStyleModel",
      "state": {
       "button_color": "lightblue"
      }
     },
     "aa9de11d712441909621c3fe723a6aac": {
      "model_module": "@jupyter-widgets/controls",
      "model_module_version": "1.5.0",
      "model_name": "HBoxModel",
      "state": {
       "children": [
        "IPY_MODEL_c4c6b69c933142569b5ce840f103a300",
        "IPY_MODEL_83df440328924bee8d8fd38304d97be6",
        "IPY_MODEL_44aa5457192f4e7385d6a10e97d993d0",
        "IPY_MODEL_f3af74c4a4364acf877145b7c31d7993"
       ],
       "layout": "IPY_MODEL_c2dad8de6cac4ad2972c3c8666b5a2fb"
      }
     },
     "aa9f5373a2504491adebdf2b6dbf0b0e": {
      "model_module": "@jupyter-widgets/controls",
      "model_module_version": "1.5.0",
      "model_name": "HTMLModel",
      "state": {
       "layout": "IPY_MODEL_abe079099a6a49bca1d7992586316141",
       "style": "IPY_MODEL_bcdd76c8ae4a400498e5fa179b9bf740",
       "value": "<b> Molecular Descriptors: </b>"
      }
     },
     "aaa6a24c53c94110be62ac9813a9f5f6": {
      "model_module": "@jupyter-widgets/base",
      "model_module_version": "1.2.0",
      "model_name": "LayoutModel",
      "state": {
       "width": "100%"
      }
     },
     "aac2e171ddea4132a12e9e962750e9cd": {
      "model_module": "@jupyter-widgets/controls",
      "model_module_version": "1.5.0",
      "model_name": "HBoxModel",
      "state": {
       "children": [
        "IPY_MODEL_5abc5f17c50c47feab9db56999b7b8e3",
        "IPY_MODEL_3ac68885f3894b079a108d4638749c6b",
        "IPY_MODEL_c337faac5d864ef79e9eedfa9c2157a9"
       ],
       "layout": "IPY_MODEL_0a0ee6a71a984ac19766c1fd20815113"
      }
     },
     "aad31eec8a344fa295aa49c3e66d488d": {
      "model_module": "@jupyter-widgets/controls",
      "model_module_version": "1.5.0",
      "model_name": "ButtonModel",
      "state": {
       "icon": "refresh",
       "layout": "IPY_MODEL_18195b819b594f27849c249727fd4703",
       "style": "IPY_MODEL_7533daf874fc4af89f8acbed87a6c027"
      }
     },
     "ab0346576e014293a7eb3e78a5d95608": {
      "model_module": "@jupyter-widgets/base",
      "model_module_version": "1.2.0",
      "model_name": "LayoutModel",
      "state": {}
     },
     "ab1ad38676914bc2ae28885fa670292d": {
      "model_module": "@jupyter-widgets/base",
      "model_module_version": "1.2.0",
      "model_name": "LayoutModel",
      "state": {
       "width": "100%"
      }
     },
     "ab22b41640c94816a1dd8545c9d6978b": {
      "model_module": "@jupyter-widgets/controls",
      "model_module_version": "1.5.0",
      "model_name": "DescriptionStyleModel",
      "state": {
       "description_width": ""
      }
     },
     "ab56569cd99f49d0bb60b38c2c9f44dd": {
      "model_module": "@jupyter-widgets/controls",
      "model_module_version": "1.5.0",
      "model_name": "VBoxModel",
      "state": {
       "children": [
        "IPY_MODEL_60cf6a9897f84515a59157740c653983",
        "IPY_MODEL_57dce2c0e8bf4866986c9a58e31e3f0c",
        "IPY_MODEL_05d09d569ee34ad7be9a98be6632b408",
        "IPY_MODEL_c438857beec04f8ea034637d427376ee",
        "IPY_MODEL_9c0d85e9ac144fc985da00e37d1829b3",
        "IPY_MODEL_3b3fa916ec2540ea99b39adbb02243db",
        "IPY_MODEL_0943b5eba0d04687864025f192e1a5f8"
       ],
       "layout": "IPY_MODEL_542bef397e7f4832a4245fb8aaa353f2"
      }
     },
     "ab8fe3c32d7548b9b0a068ce9fe01d12": {
      "model_module": "@jupyter-widgets/base",
      "model_module_version": "1.2.0",
      "model_name": "LayoutModel",
      "state": {
       "border": "dotted black 1px",
       "justify_content": "space-between"
      }
     },
     "aba3028ea9e1408792238f9f58679f17": {
      "model_module": "@jupyter-widgets/controls",
      "model_module_version": "1.5.0",
      "model_name": "DropdownModel",
      "state": {
       "description": "input token:",
       "index": null,
       "layout": "IPY_MODEL_29780db836594fb7962249b98f4984a6",
       "style": "IPY_MODEL_7ec0a93ecd954c109956cdfca06720b3"
      }
     },
     "abb42997fe154f21806c1db8acf5a8e7": {
      "model_module": "@jupyter-widgets/controls",
      "model_module_version": "1.5.0",
      "model_name": "DescriptionStyleModel",
      "state": {
       "description_width": ""
      }
     },
     "abb446d600944561a84797df0227b8e9": {
      "model_module": "@jupyter-widgets/controls",
      "model_module_version": "1.5.0",
      "model_name": "DescriptionStyleModel",
      "state": {
       "description_width": ""
      }
     },
     "abd654cab2394b9083b36d0297d5105c": {
      "model_module": "@jupyter-widgets/controls",
      "model_module_version": "1.5.0",
      "model_name": "ButtonModel",
      "state": {
       "description": "Remove block",
       "layout": "IPY_MODEL_d81fbd47e26f4d29b427bd3ec4aaf063",
       "style": "IPY_MODEL_d1fef424dea249cd8c4ac60c04e7fe2a"
      }
     },
     "abe079099a6a49bca1d7992586316141": {
      "model_module": "@jupyter-widgets/base",
      "model_module_version": "1.2.0",
      "model_name": "LayoutModel",
      "state": {
       "margin": "10px 0px 10px 0px",
       "width": "50%"
      }
     },
     "ac0b19474ca94238af868348030feebe": {
      "model_module": "@jupyter-widgets/controls",
      "model_module_version": "1.5.0",
      "model_name": "VBoxModel",
      "state": {
       "children": [
        "IPY_MODEL_b0427710b80949b59b92634f1a605cb5",
        "IPY_MODEL_17e6902dd9874156ae9581bb3f27c598"
       ],
       "layout": "IPY_MODEL_d447bf06235b48f8817fcd3432f21e92"
      }
     },
     "ac30dfe1b3474c8084a2bc404cbec55b": {
      "model_module": "@jupyter-widgets/base",
      "model_module_version": "1.2.0",
      "model_name": "LayoutModel",
      "state": {
       "width": "40%"
      }
     },
     "ac328f29b8fd42739752eaf92ff65474": {
      "model_module": "@jupyter-widgets/controls",
      "model_module_version": "1.5.0",
      "model_name": "DescriptionStyleModel",
      "state": {
       "description_width": "initial"
      }
     },
     "ac5e6f5d9ac146bf9c087ff7d9a15d35": {
      "model_module": "@jupyter-widgets/controls",
      "model_module_version": "1.5.0",
      "model_name": "ButtonStyleModel",
      "state": {
       "button_color": "lightblue"
      }
     },
     "ac92f76a679d49a39553f25846f7bbbe": {
      "model_module": "@jupyter-widgets/base",
      "model_module_version": "1.2.0",
      "model_name": "LayoutModel",
      "state": {
       "width": "140px"
      }
     },
     "ac9848100fdf4722b19d975e98d9ae77": {
      "model_module": "@jupyter-widgets/controls",
      "model_module_version": "1.5.0",
      "model_name": "HBoxModel",
      "state": {
       "children": [
        "IPY_MODEL_44a678b6959247feb23644434df4d700",
        "IPY_MODEL_4c510669390e4424ab68b1f5531843b5"
       ],
       "layout": "IPY_MODEL_3ff5bc782dd04da28b2a84db652dd293"
      }
     },
     "accd145c2ee34a9f833534b8277add8c": {
      "model_module": "@jupyter-widgets/base",
      "model_module_version": "1.2.0",
      "model_name": "LayoutModel",
      "state": {}
     },
     "acf30822f13046218bd05a55f791003f": {
      "model_module": "@jupyter-widgets/controls",
      "model_module_version": "1.5.0",
      "model_name": "DescriptionStyleModel",
      "state": {
       "description_width": ""
      }
     },
     "acf5acc7c8514cab9dd4e7d9f659c9a0": {
      "model_module": "@jupyter-widgets/base",
      "model_module_version": "1.2.0",
      "model_name": "LayoutModel",
      "state": {
       "margin": "10px 0px 10px 180px",
       "width": "110px"
      }
     },
     "ad124956029045d0ac3bfc3abcee2865": {
      "model_module": "@jupyter-widgets/base",
      "model_module_version": "1.2.0",
      "model_name": "LayoutModel",
      "state": {
       "margin": "10px 0px 0px 10px",
       "width": "50%"
      }
     },
     "ad6bf06d26994e609d97c58c6fc8c2fe": {
      "model_module": "@jupyter-widgets/base",
      "model_module_version": "1.2.0",
      "model_name": "LayoutModel",
      "state": {}
     },
     "ad8d084f9d044f35aab29eca33e596ab": {
      "model_module": "@jupyter-widgets/controls",
      "model_module_version": "1.5.0",
      "model_name": "DescriptionStyleModel",
      "state": {
       "description_width": ""
      }
     },
     "adf34fad913846599bd9cea82a17cdbd": {
      "model_module": "@jupyter-widgets/base",
      "model_module_version": "1.2.0",
      "model_name": "LayoutModel",
      "state": {}
     },
     "adff7f50adc04ea39c2a50bae6334141": {
      "model_module": "@jupyter-widgets/base",
      "model_module_version": "1.2.0",
      "model_name": "LayoutModel",
      "state": {
       "width": "100%"
      }
     },
     "ae04677d08e74ebcb42c1044acbd53b1": {
      "model_module": "@jupyter-widgets/base",
      "model_module_version": "1.2.0",
      "model_name": "LayoutModel",
      "state": {}
     },
     "ae2b394408aa45258f755530178c1fc9": {
      "model_module": "@jupyter-widgets/controls",
      "model_module_version": "1.5.0",
      "model_name": "SelectMultipleModel",
      "state": {
       "index": [],
       "layout": "IPY_MODEL_71a08dee9828473492531b39ed3e8328",
       "rows": 5,
       "style": "IPY_MODEL_a3e2679cc5414da1b54bd66a0f6c95c5"
      }
     },
     "ae30b9f886df4dc083119c9a685a11bb": {
      "model_module": "@jupyter-widgets/controls",
      "model_module_version": "1.5.0",
      "model_name": "VBoxModel",
      "state": {
       "children": [
        "IPY_MODEL_2e0bc03c21b44839bed23a03b135d385",
        "IPY_MODEL_8cc9e1964ce6410385296d22d2b8bfce",
        "IPY_MODEL_011c839b8de74cd2abfb420f45c49f34",
        "IPY_MODEL_080306426b144e67b57ea1cafbcc25a7",
        "IPY_MODEL_e1c3be624f174d238c29f873fa034616"
       ],
       "layout": "IPY_MODEL_db7938082c0a4b07afaeedb1ec31b87d"
      }
     },
     "ae4c43a7e6cd4869b6e996811bf56132": {
      "model_module": "@jupyter-widgets/controls",
      "model_module_version": "1.5.0",
      "model_name": "TextModel",
      "state": {
       "description": "line15",
       "layout": "IPY_MODEL_2e2ae16dee164d5e99d5cefb5deb6125",
       "placeholder": "[]",
       "style": "IPY_MODEL_d48bad4911874df1b780a4aec3c1d71b",
       "value": "type python code"
      }
     },
     "ae4e7b9699014b7d821fcbaaab777b40": {
      "model_module": "@jupyter-widgets/controls",
      "model_module_version": "1.5.0",
      "model_name": "CheckboxModel",
      "state": {
       "description": "Check to set",
       "disabled": false,
       "indent": false,
       "layout": "IPY_MODEL_6b59f46f9b6b46dfb27615d8cde91df2",
       "style": "IPY_MODEL_930b83c85faa4b2695a190a63d4f33ae",
       "value": false
      }
     },
     "ae6a7a1cabe74aee9f1ea3cdf6bc768e": {
      "model_module": "@jupyter-widgets/controls",
      "model_module_version": "1.5.0",
      "model_name": "ButtonModel",
      "state": {
       "description": "Add",
       "layout": "IPY_MODEL_85cbe1da44394dd9b0bf823ce1721d42",
       "style": "IPY_MODEL_f5958819a3d241bc9b925241565dd1a8"
      }
     },
     "ae6e8363e8784ad29065ecf8411dfa75": {
      "model_module": "@jupyter-widgets/base",
      "model_module_version": "1.2.0",
      "model_name": "LayoutModel",
      "state": {}
     },
     "ae78b75a0dbf42a8865698a226cfe6d1": {
      "model_module": "@jupyter-widgets/controls",
      "model_module_version": "1.5.0",
      "model_name": "DescriptionStyleModel",
      "state": {
       "description_width": ""
      }
     },
     "af105fdfe4724057945eea48dac18be7": {
      "model_module": "@jupyter-widgets/controls",
      "model_module_version": "1.5.0",
      "model_name": "DescriptionStyleModel",
      "state": {
       "description_width": ""
      }
     },
     "af166ec1ffe44d17b8b7b7b449404250": {
      "model_module": "@jupyter-widgets/controls",
      "model_module_version": "1.5.0",
      "model_name": "LabelModel",
      "state": {
       "layout": "IPY_MODEL_50c30b5058d8416896d4b87f33ffc901",
       "style": "IPY_MODEL_dceaad31a87b4abc9de8da7ebeee1084",
       "value": "Template 2: load_crystal_structures --> inorganic descriptors for crystal structures --> concatenate and print shape"
      }
     },
     "af232a21dcbd47d59a682dbe0f1cb86b": {
      "model_module": "@jupyter-widgets/controls",
      "model_module_version": "1.5.0",
      "model_name": "SelectMultipleModel",
      "state": {
       "index": [],
       "layout": "IPY_MODEL_7e5cd2cd52db41c6a7ab40ad80bf45a4",
       "rows": 5,
       "style": "IPY_MODEL_1440b52ad8434a2f9ae1880596be1218"
      }
     },
     "af2f9b4927cb4794bdba5d8d956b9542": {
      "model_module": "@jupyter-widgets/base",
      "model_module_version": "1.2.0",
      "model_name": "LayoutModel",
      "state": {
       "margin": "0px 0px 0px 10px"
      }
     },
     "af3871f2312d4072b1253d68a0ed03c2": {
      "model_module": "@jupyter-widgets/controls",
      "model_module_version": "1.5.0",
      "model_name": "ButtonStyleModel",
      "state": {
       "button_color": "lightblue"
      }
     },
     "af44279823cf4deba54cb43598b326b2": {
      "model_module": "@jupyter-widgets/controls",
      "model_module_version": "1.5.0",
      "model_name": "VBoxModel",
      "state": {
       "children": [
        "IPY_MODEL_03216c2793674c669d0287bbefe2665b",
        "IPY_MODEL_09e8808df02e4ab59475775a5d28082b",
        "IPY_MODEL_db7e12041a974b6dbc614e8a0acaa568",
        "IPY_MODEL_6b950500cb2d4fca82d47b0be15b045b",
        "IPY_MODEL_ff664c60f7924dd597acf6f9ffed0c04",
        "IPY_MODEL_bbfd7198e2bf48739202e67cbc4a0a76",
        "IPY_MODEL_84f178fa27674c9684d039a3c18bfbe2",
        "IPY_MODEL_b3805a59bc474554bd1d31f254a86003",
        "IPY_MODEL_b0b085923c054b30b82c5093a4d3b906",
        "IPY_MODEL_cc0ea5551b044f7da00c3e1f55082d5a"
       ],
       "layout": "IPY_MODEL_0f2e18150a3e493fbcd8fc2c17cdbcc0"
      }
     },
     "af45484f7ac945308091c5225a9c7c4b": {
      "model_module": "@jupyter-widgets/controls",
      "model_module_version": "1.5.0",
      "model_name": "ButtonStyleModel",
      "state": {
       "button_color": "lightblue"
      }
     },
     "af6313f5b4894dc6a412f0f2e29dd472": {
      "model_module": "@jupyter-widgets/controls",
      "model_module_version": "1.5.0",
      "model_name": "HBoxModel",
      "state": {
       "children": [
        "IPY_MODEL_2369c35d9c234e619eb81e47509663e1",
        "IPY_MODEL_b9c04bbdd6d443b285c159c436eaed5c",
        "IPY_MODEL_d6a5442929084a21bf2eec0d99f1c64b"
       ],
       "layout": "IPY_MODEL_81c88e9d6c51474897f8bf555076cd98"
      }
     },
     "af64afdace114b55b23a63683eb5447d": {
      "model_module": "@jupyter-widgets/controls",
      "model_module_version": "1.5.0",
      "model_name": "HBoxModel",
      "state": {
       "children": [
        "IPY_MODEL_24245f97bc884cc29008d74eb9a1235f",
        "IPY_MODEL_3f71822ef87e4986bc18fc67dfd3c9c4",
        "IPY_MODEL_467bf735633548da88174ab57a5b8d06"
       ],
       "layout": "IPY_MODEL_7fdb4de23fea43088841b5b983b942a7"
      }
     },
     "af724c3ff4af40108779503a3e8b3ebe": {
      "model_module": "@jupyter-widgets/controls",
      "model_module_version": "1.5.0",
      "model_name": "ButtonStyleModel",
      "state": {
       "button_color": "lightblue"
      }
     },
     "af819fdd725b4c24a97676a92c7a28e6": {
      "model_module": "@jupyter-widgets/controls",
      "model_module_version": "1.5.0",
      "model_name": "HTMLModel",
      "state": {
       "layout": "IPY_MODEL_e561da432e9c4341859d9b8448e4d147",
       "style": "IPY_MODEL_2d5678fab1fc43aa934c59be95ef592a",
       "value": "all input tokens: entries"
      }
     },
     "af89dd22d59b4ed5ac822367ba0e3a25": {
      "model_module": "@jupyter-widgets/controls",
      "model_module_version": "1.5.0",
      "model_name": "DescriptionStyleModel",
      "state": {
       "description_width": ""
      }
     },
     "afb1682bbc79400bb897cd4baf960a0e": {
      "model_module": "@jupyter-widgets/controls",
      "model_module_version": "1.5.0",
      "model_name": "DescriptionStyleModel",
      "state": {
       "description_width": ""
      }
     },
     "afcbfe12178e425ea9b967ad4793dba0": {
      "model_module": "@jupyter-widgets/base",
      "model_module_version": "1.2.0",
      "model_name": "LayoutModel",
      "state": {
       "margin": "20px 0px 0px 20px"
      }
     },
     "afe3bec8067b48e5b22baf0d14242042": {
      "model_module": "@jupyter-widgets/controls",
      "model_module_version": "1.5.0",
      "model_name": "TextModel",
      "state": {
       "description": "Type:",
       "disabled": true,
       "layout": "IPY_MODEL_7b566637fd4c477d94a36a6b58c382ed",
       "style": "IPY_MODEL_0fd1b93a79ca4665a86b9438f6dca4d2"
      }
     },
     "aff86a31145f4c948357784c008ed2cc": {
      "model_module": "@jupyter-widgets/base",
      "model_module_version": "1.2.0",
      "model_name": "LayoutModel",
      "state": {}
     },
     "affeca93cce64828a18f58dd56fa7983": {
      "model_module": "@jupyter-widgets/controls",
      "model_module_version": "1.5.0",
      "model_name": "CheckboxModel",
      "state": {
       "description": "Check to set",
       "disabled": false,
       "indent": false,
       "layout": "IPY_MODEL_dba72b0c41614601968b9089ee9ab2af",
       "style": "IPY_MODEL_a2069f2c597f4375a8a08cca66c7648d",
       "value": false
      }
     },
     "b0033dbf89b14f7f9095a1be6a947337": {
      "model_module": "@jupyter-widgets/controls",
      "model_module_version": "1.5.0",
      "model_name": "DescriptionStyleModel",
      "state": {
       "description_width": ""
      }
     },
     "b02172e0b99642de90233bf02dccb9dd": {
      "model_module": "@jupyter-widgets/controls",
      "model_module_version": "1.5.0",
      "model_name": "CheckboxModel",
      "state": {
       "description": "Check to set",
       "disabled": false,
       "indent": false,
       "layout": "IPY_MODEL_b159d68a05684de6a6bb9fad2ee9f0ed",
       "style": "IPY_MODEL_510ea179f39b41378b167804fa340e09",
       "value": true
      }
     },
     "b02d5c06f43b46a8b10bfa246874b226": {
      "model_module": "@jupyter-widgets/controls",
      "model_module_version": "1.5.0",
      "model_name": "ButtonModel",
      "state": {
       "description": "Remove block",
       "layout": "IPY_MODEL_5780ca108cf246ea904d7c02e644ceb7",
       "style": "IPY_MODEL_a32b5accb2684433a4d3149879fe1eda"
      }
     },
     "b0427710b80949b59b92634f1a605cb5": {
      "model_module": "@jupyter-widgets/controls",
      "model_module_version": "1.5.0",
      "model_name": "HTMLModel",
      "state": {
       "layout": "IPY_MODEL_c23d5e68de724fd29585a0f9097fb065",
       "style": "IPY_MODEL_cd8c2dca3e9a416aa4af88e6cfb54a10",
       "value": "<b>Function parameters:</b>"
      }
     },
     "b053786f8ab447de9eb21f48543e311a": {
      "model_module": "@jupyter-widgets/controls",
      "model_module_version": "1.5.0",
      "model_name": "ButtonStyleModel",
      "state": {
       "button_color": "lightblue"
      }
     },
     "b05425e030564d82b142bcdb1ee8acf4": {
      "model_module": "@jupyter-widgets/controls",
      "model_module_version": "1.5.0",
      "model_name": "TextModel",
      "state": {
       "description": "Type:",
       "disabled": true,
       "layout": "IPY_MODEL_0c8de264402f4872847440b8280b834c",
       "style": "IPY_MODEL_bc8cecc7cf094229b1664d0f9a72204f"
      }
     },
     "b0907179151e43eebb8620163ccdc67d": {
      "model_module": "@jupyter-widgets/base",
      "model_module_version": "1.2.0",
      "model_name": "LayoutModel",
      "state": {
       "align_items": "center",
       "border": "dotted black 1px",
       "height": "40px",
       "margin": "0px 0px 0px 10px"
      }
     },
     "b09bf7abca8246dbb7a12d3e027edbcd": {
      "model_module": "@jupyter-widgets/base",
      "model_module_version": "1.2.0",
      "model_name": "LayoutModel",
      "state": {}
     },
     "b0b085923c054b30b82c5093a4d3b906": {
      "model_module": "@jupyter-widgets/controls",
      "model_module_version": "1.5.0",
      "model_name": "HBoxModel",
      "state": {
       "children": [
        "IPY_MODEL_992547b285b64d6ca3c9aa1fddbb7a18",
        "IPY_MODEL_e87d89cd84ed42de917cc021d830908d",
        "IPY_MODEL_c794fdae968441d4b359402ba40dac8f"
       ],
       "layout": "IPY_MODEL_b49a8255face496cb0b25be4de2ae3bd"
      }
     },
     "b0f2c8b6bf7c4b7eafbd8e1368b01eaa": {
      "model_module": "@jupyter-widgets/controls",
      "model_module_version": "1.5.0",
      "model_name": "ButtonStyleModel",
      "state": {
       "button_color": "lightblue"
      }
     },
     "b0fa9717dee648ee996f01811337e1c5": {
      "model_module": "@jupyter-widgets/controls",
      "model_module_version": "1.5.0",
      "model_name": "DescriptionStyleModel",
      "state": {
       "description_width": ""
      }
     },
     "b13d6c64ff344ac2b23307e6c7f18f15": {
      "model_module": "@jupyter-widgets/base",
      "model_module_version": "1.2.0",
      "model_name": "LayoutModel",
      "state": {}
     },
     "b149df8017c949dab8e2f82a7644bcad": {
      "model_module": "@jupyter-widgets/base",
      "model_module_version": "1.2.0",
      "model_name": "LayoutModel",
      "state": {
       "width": "50%"
      }
     },
     "b159d68a05684de6a6bb9fad2ee9f0ed": {
      "model_module": "@jupyter-widgets/base",
      "model_module_version": "1.2.0",
      "model_name": "LayoutModel",
      "state": {
       "margin": "0px 0px 0px 10px"
      }
     },
     "b15a9a89b4ff40d59137e254302dcf30": {
      "model_module": "@jupyter-widgets/controls",
      "model_module_version": "1.5.0",
      "model_name": "HTMLModel",
      "state": {
       "layout": "IPY_MODEL_a20f6e1ca6234e558cc4fd0ac15d83e0",
       "style": "IPY_MODEL_503e8d913b6647f89e7d3657cd72fdf8",
       "value": "<b> Send >>> </b>"
      }
     },
     "b18092210fd54d3bbe91d03c14c58712": {
      "model_module": "@jupyter-widgets/controls",
      "model_module_version": "1.5.0",
      "model_name": "ButtonStyleModel",
      "state": {}
     },
     "b1825ead899948488837f18ecc5b3702": {
      "model_module": "@jupyter-widgets/controls",
      "model_module_version": "1.5.0",
      "model_name": "HTMLModel",
      "state": {
       "layout": "IPY_MODEL_f8ade23562e54a389a01f6a30d6bc819",
       "style": "IPY_MODEL_88e8fd15061e4f05a1c7dd0e0ebb6c60",
       "value": "<b>Documentation: </b>"
      }
     },
     "b1953a43ffef492ab2328b808636b70f": {
      "model_module": "@jupyter-widgets/base",
      "model_module_version": "1.2.0",
      "model_name": "LayoutModel",
      "state": {
       "align_items": "center",
       "border": "dotted black 1px",
       "height": "40px",
       "margin": "0px 0px 0px 10px"
      }
     },
     "b19a673233424b38b85c2796690c0bd9": {
      "model_module": "@jupyter-widgets/controls",
      "model_module_version": "1.5.0",
      "model_name": "HTMLModel",
      "state": {
       "layout": "IPY_MODEL_d9d5ac9cf5ef4f65924db517175e8260",
       "style": "IPY_MODEL_986886ac19504e6ca9a9de8d3fc3616b",
       "value": "<b> Send >>> </b>"
      }
     },
     "b1b9e8030a73491d9c03dcef7f68fd7a": {
      "model_module": "@jupyter-widgets/base",
      "model_module_version": "1.2.0",
      "model_name": "LayoutModel",
      "state": {
       "margin": "20px 0px 20px 250px"
      }
     },
     "b2121d9604814735ba6e30b1664f1717": {
      "model_module": "@jupyter-widgets/controls",
      "model_module_version": "1.5.0",
      "model_name": "TextModel",
      "state": {
       "description": "Type:",
       "disabled": true,
       "layout": "IPY_MODEL_ac30dfe1b3474c8084a2bc404cbec55b",
       "style": "IPY_MODEL_bb2abb542ae745e3ad353feef22bcf62"
      }
     },
     "b22a6fddee304523afb03dfe741dda18": {
      "model_module": "@jupyter-widgets/base",
      "model_module_version": "1.2.0",
      "model_name": "LayoutModel",
      "state": {
       "width": "50%"
      }
     },
     "b230867fc2e24ce2999343c1397d645e": {
      "model_module": "@jupyter-widgets/controls",
      "model_module_version": "1.5.0",
      "model_name": "DropdownModel",
      "state": {
       "_options_labels": [
        "2",
        "3"
       ],
       "description": "block#:",
       "index": 0,
       "layout": "IPY_MODEL_07eeb968f3ab4b90bb7337b0728ca08e",
       "style": "IPY_MODEL_e0b94f0d81fa4d7ebab4d649ae201633"
      }
     },
     "b267f06219394e7e89e59acf181b6896": {
      "model_module": "@jupyter-widgets/base",
      "model_module_version": "1.2.0",
      "model_name": "LayoutModel",
      "state": {
       "margin": "0px 10px 0px 0px",
       "width": "60px"
      }
     },
     "b29a1ba5d1654831a79ef21b82ac3351": {
      "model_module": "@jupyter-widgets/base",
      "model_module_version": "1.2.0",
      "model_name": "LayoutModel",
      "state": {}
     },
     "b2a2dfd8f9d74dba8a6d57a9b1f66cc8": {
      "model_module": "@jupyter-widgets/base",
      "model_module_version": "1.2.0",
      "model_name": "LayoutModel",
      "state": {
       "width": "100%"
      }
     },
     "b2a801ecd1c74651864f91777a836de5": {
      "model_module": "@jupyter-widgets/controls",
      "model_module_version": "1.5.0",
      "model_name": "DescriptionStyleModel",
      "state": {
       "description_width": ""
      }
     },
     "b2b3a8ceaca74fc29af39ae54f45283b": {
      "model_module": "@jupyter-widgets/controls",
      "model_module_version": "1.5.0",
      "model_name": "DescriptionStyleModel",
      "state": {
       "description_width": ""
      }
     },
     "b2da9439c059480588ab20399341af1d": {
      "model_module": "@jupyter-widgets/controls",
      "model_module_version": "1.5.0",
      "model_name": "DescriptionStyleModel",
      "state": {
       "description_width": ""
      }
     },
     "b30187c0ee464e4998b87882bc001e37": {
      "model_module": "@jupyter-widgets/controls",
      "model_module_version": "1.5.0",
      "model_name": "HTMLModel",
      "state": {
       "layout": "IPY_MODEL_21b3caf5d20c4e79ba3a6b333bbf4728",
       "style": "IPY_MODEL_00bf7bf11d9e4f60a099776cccc00cef",
       "value": "<b>Requirements:  </b>(('pandas', '1.1.3'),)"
      }
     },
     "b3044b5de8fb49ce8178b16091464931": {
      "model_module": "@jupyter-widgets/controls",
      "model_module_version": "1.5.0",
      "model_name": "CheckboxModel",
      "state": {
       "description": "Check to set",
       "disabled": false,
       "indent": false,
       "layout": "IPY_MODEL_52f241ae93744ad68069b988ddfcb3ff",
       "style": "IPY_MODEL_3314ffe8d961435181c9a6cf0b78bbee",
       "value": false
      }
     },
     "b30c3aaa80aa49e0a06d6759580af4e6": {
      "model_module": "@jupyter-widgets/controls",
      "model_module_version": "1.5.0",
      "model_name": "DescriptionStyleModel",
      "state": {
       "description_width": ""
      }
     },
     "b310426aa6344157895f6675e59158ff": {
      "model_module": "@jupyter-widgets/controls",
      "model_module_version": "1.5.0",
      "model_name": "TextModel",
      "state": {
       "description": "Type:",
       "disabled": true,
       "layout": "IPY_MODEL_3ed5cc2fc3d64282a537986f2c76e3f5",
       "style": "IPY_MODEL_c0dec62df0ea47448f8090ad69ab6b78"
      }
     },
     "b32c9a08d54b49b39c11da5308fc4ddf": {
      "model_module": "@jupyter-widgets/base",
      "model_module_version": "1.2.0",
      "model_name": "LayoutModel",
      "state": {
       "align_content": "center",
       "justify_content": "center"
      }
     },
     "b33dcc982abf468e97ca85be4d8cacc8": {
      "model_module": "@jupyter-widgets/controls",
      "model_module_version": "1.5.0",
      "model_name": "HTMLModel",
      "state": {
       "layout": "IPY_MODEL_18a9790460f843a2bed9ad584d9369fa",
       "style": "IPY_MODEL_b94bfd9850164ea68234632278dd918e",
       "value": "<b> <<< </b>"
      }
     },
     "b33ddf8308564db880ed16e4b5e72553": {
      "model_module": "@jupyter-widgets/controls",
      "model_module_version": "1.5.0",
      "model_name": "HTMLModel",
      "state": {
       "layout": "IPY_MODEL_87041d06ef7543639302b045fd13bc66",
       "style": "IPY_MODEL_581daa02c06b4a8ba3e81461ae4d535b",
       "value": "all input tokens: df1, df2, df3"
      }
     },
     "b35010bad6b946a3a987690e4b154892": {
      "model_module": "@jupyter-widgets/controls",
      "model_module_version": "1.5.0",
      "model_name": "HBoxModel",
      "state": {
       "children": [
        "IPY_MODEL_a9a6d5e4cee849348af42c277fe5ff9d",
        "IPY_MODEL_1cd9ba3f744e4ab7a51bd4b205758e88",
        "IPY_MODEL_11fc2e26cc7944deafbb6d8bab078cb2"
       ],
       "layout": "IPY_MODEL_2444c22c156c48f18944519ddbcb677a"
      }
     },
     "b3805a59bc474554bd1d31f254a86003": {
      "model_module": "@jupyter-widgets/controls",
      "model_module_version": "1.5.0",
      "model_name": "HBoxModel",
      "state": {
       "children": [
        "IPY_MODEL_42e2bcbfc9cf4bb79d606fadeb607ee9",
        "IPY_MODEL_d3f158e52e164fd5b33684fa2f9fd7fb",
        "IPY_MODEL_b310426aa6344157895f6675e59158ff"
       ],
       "layout": "IPY_MODEL_f312716fd27f46ce8695c96342e423e1"
      }
     },
     "b3bf9367a37041139f9427e1a2155946": {
      "model_module": "@jupyter-widgets/controls",
      "model_module_version": "1.5.0",
      "model_name": "ToggleButtonsStyleModel",
      "state": {
       "button_width": "",
       "description_width": ""
      }
     },
     "b3d4d79b323c431f8f7427c3260b950a": {
      "model_module": "@jupyter-widgets/base",
      "model_module_version": "1.2.0",
      "model_name": "LayoutModel",
      "state": {
       "align_items": "center",
       "border": "dotted black 1px",
       "height": "40px",
       "justify_content": "center"
      }
     },
     "b3ddb30da2c649678f4084b65fdb065b": {
      "model_module": "@jupyter-widgets/base",
      "model_module_version": "1.2.0",
      "model_name": "LayoutModel",
      "state": {}
     },
     "b3e8dff237f04cee80b1b18153d56480": {
      "model_module": "@jupyter-widgets/base",
      "model_module_version": "1.2.0",
      "model_name": "LayoutModel",
      "state": {
       "align_items": "center",
       "justify_content": "space-between",
       "margin": "10px 0px 20px 0px"
      }
     },
     "b3fb5cb3252b411ab0efdf97eb7f31fb": {
      "model_module": "@jupyter-widgets/controls",
      "model_module_version": "1.5.0",
      "model_name": "DescriptionStyleModel",
      "state": {
       "description_width": "initial"
      }
     },
     "b4014812c0e84af2914318ad8d8e37b2": {
      "model_module": "@jupyter-widgets/controls",
      "model_module_version": "1.5.0",
      "model_name": "TextModel",
      "state": {
       "description": "ignore_index",
       "layout": "IPY_MODEL_28e175dbb8de430794e88cc266a925a4",
       "placeholder": "[]",
       "style": "IPY_MODEL_26932bde26e949439d1a447d5d5e0473",
       "value": "False"
      }
     },
     "b41fe682a0904e0e80610ef0fdeced21": {
      "model_module": "@jupyter-widgets/base",
      "model_module_version": "1.2.0",
      "model_name": "LayoutModel",
      "state": {}
     },
     "b46dbe82d3424dcbba186d9ffb903694": {
      "model_module": "@jupyter-widgets/controls",
      "model_module_version": "1.5.0",
      "model_name": "DescriptionStyleModel",
      "state": {
       "description_width": ""
      }
     },
     "b46ff0e38d9644c9bf9497aa1f0d0ca0": {
      "model_module": "@jupyter-widgets/controls",
      "model_module_version": "1.5.0",
      "model_name": "TextModel",
      "state": {
       "description": "Type:",
       "disabled": true,
       "layout": "IPY_MODEL_e0785d21978749aaa2508d67fec48337",
       "style": "IPY_MODEL_5436607ffab34990b54707308b066af7"
      }
     },
     "b48d049b4cdb4c5a9449f49a56935bd2": {
      "model_module": "@jupyter-widgets/controls",
      "model_module_version": "1.5.0",
      "model_name": "HTMLModel",
      "state": {
       "layout": "IPY_MODEL_a82058bc1aa64363bc718f207a856308",
       "style": "IPY_MODEL_184e62cd06e247ab88a8f2145f4b0371",
       "value": "<b> Send >>> </b>"
      }
     },
     "b49a8255face496cb0b25be4de2ae3bd": {
      "model_module": "@jupyter-widgets/base",
      "model_module_version": "1.2.0",
      "model_name": "LayoutModel",
      "state": {}
     },
     "b4b47d91536a46fdbfc55c4b30495cd6": {
      "model_module": "@jupyter-widgets/controls",
      "model_module_version": "1.5.0",
      "model_name": "ButtonModel",
      "state": {
       "description": "Add",
       "layout": "IPY_MODEL_8ba98be626a64e7c8061c77953fd9de1",
       "style": "IPY_MODEL_942f92570aa6481faade80604b2900db"
      }
     },
     "b4dce49d9dc34cb1adeabe6c0829e29e": {
      "model_module": "@jupyter-widgets/controls",
      "model_module_version": "1.5.0",
      "model_name": "CheckboxModel",
      "state": {
       "description": "Check to set",
       "disabled": false,
       "indent": false,
       "layout": "IPY_MODEL_571d694dd9c349948a14b41e9adddc00",
       "style": "IPY_MODEL_a3b38e0fcccb441cac87dbba46add905",
       "value": false
      }
     },
     "b4e69edd2ae14e10a0f35a35024eda58": {
      "model_module": "@jupyter-widgets/controls",
      "model_module_version": "1.5.0",
      "model_name": "DescriptionStyleModel",
      "state": {
       "description_width": ""
      }
     },
     "b4f077c9e00e4524b9cdccc06db5d6b4": {
      "model_module": "@jupyter-widgets/controls",
      "model_module_version": "1.5.0",
      "model_name": "ButtonStyleModel",
      "state": {
       "button_color": "lightblue"
      }
     },
     "b5047261bf38458aa84b2a5ad0d6116f": {
      "model_module": "@jupyter-widgets/controls",
      "model_module_version": "1.5.0",
      "model_name": "HBoxModel",
      "state": {
       "children": [
        "IPY_MODEL_16c3c574904447ac8f4e3b78efc59268",
        "IPY_MODEL_3cd63c959888485b97166154c3a869e8",
        "IPY_MODEL_eaa24c2a7f4e44719fe739cef88ff113"
       ],
       "layout": "IPY_MODEL_f48b3cde33e04f839fed69c7026c74cc"
      }
     },
     "b50bb515cac542808ada611f1059f9fd": {
      "model_module": "@jupyter-widgets/controls",
      "model_module_version": "1.5.0",
      "model_name": "VBoxModel",
      "state": {
       "children": [
        "IPY_MODEL_caade62628884ee7bb0277bb4bb5a836"
       ],
       "layout": "IPY_MODEL_c0bebefda1ea440595dc0a9e077ad617"
      }
     },
     "b50d2453f4d1447e94fc2d23064b6d36": {
      "model_module": "@jupyter-widgets/controls",
      "model_module_version": "1.5.0",
      "model_name": "TextModel",
      "state": {
       "description": "Type:",
       "disabled": true,
       "layout": "IPY_MODEL_32a973746e87491f98957fe6c662c809",
       "style": "IPY_MODEL_74a0e2327df34fd4abe113df2b30e29e"
      }
     },
     "b533ccab963442d8a0ca5cfaada16100": {
      "model_module": "@jupyter-widgets/base",
      "model_module_version": "1.2.0",
      "model_name": "LayoutModel",
      "state": {
       "margin": "10px 0px 0px 10px",
       "width": "50%"
      }
     },
     "b540b8d3f4c342098de9df9b7a2634a9": {
      "model_module": "@jupyter-widgets/base",
      "model_module_version": "1.2.0",
      "model_name": "LayoutModel",
      "state": {}
     },
     "b56fbb62fdd1476eb4db543c1c032ba5": {
      "model_module": "@jupyter-widgets/base",
      "model_module_version": "1.2.0",
      "model_name": "LayoutModel",
      "state": {
       "width": "50%"
      }
     },
     "b5e34b163398423d938539b6083efa92": {
      "model_module": "@jupyter-widgets/base",
      "model_module_version": "1.2.0",
      "model_name": "LayoutModel",
      "state": {}
     },
     "b5fc8c3cf8a340f2a44245a23cdeae74": {
      "model_module": "@jupyter-widgets/base",
      "model_module_version": "1.2.0",
      "model_name": "LayoutModel",
      "state": {
       "margin": "10px 0px 10px 400px"
      }
     },
     "b677bc9868bc4f2cbd327115987a758b": {
      "model_module": "@jupyter-widgets/controls",
      "model_module_version": "1.5.0",
      "model_name": "TextModel",
      "state": {
       "description": "axis",
       "layout": "IPY_MODEL_748f1932e71c483498ec909e74d2fc85",
       "placeholder": "[]",
       "style": "IPY_MODEL_7a8264abd78249a594bbd83ca8cd0dbd",
       "value": "1"
      }
     },
     "b680310cde4c4d9388709e89cd3a202e": {
      "model_module": "@jupyter-widgets/controls",
      "model_module_version": "1.5.0",
      "model_name": "HBoxModel",
      "state": {
       "children": [
        "IPY_MODEL_049cca0447e2451c94263b4803ae6c77",
        "IPY_MODEL_da6fcc5f53944d299a3eefee19c53518",
        "IPY_MODEL_f2a30d126cea41d39dbd4cced371673e"
       ],
       "layout": "IPY_MODEL_f42be590c47d4eba91a157c6a2474439"
      }
     },
     "b6962b5fb3bf4d93a7b3c5ebd3078d1f": {
      "model_module": "@jupyter-widgets/controls",
      "model_module_version": "1.5.0",
      "model_name": "DropdownModel",
      "state": {
       "description": "block#:",
       "index": null,
       "layout": "IPY_MODEL_4319eb2df19f4f07affaad358b09edd0",
       "style": "IPY_MODEL_9b87bdacf81e49788a4c362ed943f0d7"
      }
     },
     "b6a00948a56f4cf79057f7cfc4e182e7": {
      "model_module": "@jupyter-widgets/base",
      "model_module_version": "1.2.0",
      "model_name": "LayoutModel",
      "state": {}
     },
     "b6c1fccc36b04ab79780680ca6771aef": {
      "model_module": "@jupyter-widgets/base",
      "model_module_version": "1.2.0",
      "model_name": "LayoutModel",
      "state": {}
     },
     "b7139ba9307245e0ac811f88a45be232": {
      "model_module": "@jupyter-widgets/base",
      "model_module_version": "1.2.0",
      "model_name": "LayoutModel",
      "state": {
       "align_items": "center",
       "border": "dotted black 1px",
       "height": "40px",
       "margin": "0px 0px 0px 10px"
      }
     },
     "b71c0f13f5e24992bf7a920aff567d9c": {
      "model_module": "@jupyter-widgets/controls",
      "model_module_version": "1.5.0",
      "model_name": "HBoxModel",
      "state": {
       "children": [
        "IPY_MODEL_7590f94d87ba4977b83b8a6bd7045df1"
       ],
       "layout": "IPY_MODEL_78434528e233464b8823448ee5ddca95"
      }
     },
     "b73d8f090a5c4dfb89aaa207bf7416ad": {
      "model_module": "@jupyter-widgets/base",
      "model_module_version": "1.2.0",
      "model_name": "LayoutModel",
      "state": {}
     },
     "b75c21bdc50c4b4f955f01f0a4ccc989": {
      "model_module": "@jupyter-widgets/base",
      "model_module_version": "1.2.0",
      "model_name": "LayoutModel",
      "state": {
       "margin": "10px 0px 10px 0px"
      }
     },
     "b7a553e9ee8b445bad140b4a9ef7909a": {
      "model_module": "@jupyter-widgets/controls",
      "model_module_version": "1.5.0",
      "model_name": "HTMLModel",
      "state": {
       "layout": "IPY_MODEL_0bf0efea21bf47008d89bad209862a33",
       "style": "IPY_MODEL_65b1635e65f140549c84ab4f58ee0721",
       "value": "<b> Send >>> </b>"
      }
     },
     "b7c428207a244c4593ce4a22dcc1b1e2": {
      "model_module": "@jupyter-widgets/controls",
      "model_module_version": "1.5.0",
      "model_name": "HBoxModel",
      "state": {
       "children": [
        "IPY_MODEL_639009e5fab748fe8a568b42a5785b19",
        "IPY_MODEL_49fd6445aaf6408e8d598f57f8fb200d",
        "IPY_MODEL_c498fb2bbf9744c9aaf37b2529591687"
       ],
       "layout": "IPY_MODEL_4e23625182294f90bcf375b6a7d69029"
      }
     },
     "b7d3936d258c40ed8c7ae74c677dc32f": {
      "model_module": "@jupyter-widgets/base",
      "model_module_version": "1.2.0",
      "model_name": "LayoutModel",
      "state": {
       "width": "140px"
      }
     },
     "b7e13c74e7a340fb951df86b7e0e78ad": {
      "model_module": "@jupyter-widgets/base",
      "model_module_version": "1.2.0",
      "model_name": "LayoutModel",
      "state": {
       "width": "50%"
      }
     },
     "b7ed7918b61d4419ab906babbacb7596": {
      "model_module": "@jupyter-widgets/controls",
      "model_module_version": "1.5.0",
      "model_name": "HTMLModel",
      "state": {
       "layout": "IPY_MODEL_ebce75d14f5d46ef9218952e93762563",
       "style": "IPY_MODEL_f0aae2ee00b44b9f8968860b21d2de3a",
       "value": "<b>Documentation: </b>http://pandas.pydata.org/pandas-docs/stable/generated/pandas.concat.html"
      }
     },
     "b82596313d3e4ea993b1ed80ee8616bb": {
      "model_module": "@jupyter-widgets/controls",
      "model_module_version": "1.5.0",
      "model_name": "ButtonStyleModel",
      "state": {}
     },
     "b8300c3a73784951aeaa8e2fcdf2794f": {
      "model_module": "@jupyter-widgets/base",
      "model_module_version": "1.2.0",
      "model_name": "LayoutModel",
      "state": {}
     },
     "b8d086dff12d45e0905ad1d72ffb1ba8": {
      "model_module": "@jupyter-widgets/controls",
      "model_module_version": "1.5.0",
      "model_name": "TextModel",
      "state": {
       "description": "Type:",
       "disabled": true,
       "layout": "IPY_MODEL_05351718fa2c4c999fd77eea51358907",
       "style": "IPY_MODEL_10c601c45aee4967ae50b9a1b8014301"
      }
     },
     "b9057880661040919946f8994bd1c5c2": {
      "model_module": "@jupyter-widgets/base",
      "model_module_version": "1.2.0",
      "model_name": "LayoutModel",
      "state": {
       "border": "dotted black 1px",
       "justify_content": "space-between"
      }
     },
     "b949f3e7bb764d7c9c5ecb79613d4988": {
      "model_module": "@jupyter-widgets/base",
      "model_module_version": "1.2.0",
      "model_name": "LayoutModel",
      "state": {}
     },
     "b94bfd9850164ea68234632278dd918e": {
      "model_module": "@jupyter-widgets/controls",
      "model_module_version": "1.5.0",
      "model_name": "DescriptionStyleModel",
      "state": {
       "description_width": ""
      }
     },
     "b951ccb9390c48498ea4875515b29442": {
      "model_module": "@jupyter-widgets/base",
      "model_module_version": "1.2.0",
      "model_name": "LayoutModel",
      "state": {
       "margin": "0px 0px 0px 20px"
      }
     },
     "b9668a2f0dcf4375a032d5a16b94fdc0": {
      "model_module": "@jupyter-widgets/base",
      "model_module_version": "1.2.0",
      "model_name": "LayoutModel",
      "state": {
       "margin": "0px 10px 0px 0px",
       "width": "60px"
      }
     },
     "b983f6319d0a4307af62ba77440fe3cb": {
      "model_module": "@jupyter-widgets/base",
      "model_module_version": "1.2.0",
      "model_name": "LayoutModel",
      "state": {
       "margin": "20px 0px 20px 250px"
      }
     },
     "b98e7413119945bd8b2705b5ed2b0917": {
      "model_module": "@jupyter-widgets/controls",
      "model_module_version": "1.5.0",
      "model_name": "DescriptionStyleModel",
      "state": {
       "description_width": ""
      }
     },
     "b9abe4c9fa6042c3b384945d0c941620": {
      "model_module": "@jupyter-widgets/base",
      "model_module_version": "1.2.0",
      "model_name": "LayoutModel",
      "state": {}
     },
     "b9ba5eaad86843a89fc9731d6e5a3160": {
      "model_module": "@jupyter-widgets/controls",
      "model_module_version": "1.5.0",
      "model_name": "ButtonStyleModel",
      "state": {}
     },
     "b9c04bbdd6d443b285c159c436eaed5c": {
      "model_module": "@jupyter-widgets/controls",
      "model_module_version": "1.5.0",
      "model_name": "CheckboxModel",
      "state": {
       "description": "Check to set",
       "disabled": false,
       "indent": false,
       "layout": "IPY_MODEL_127a68c8b7fe4dbe838bd4fffe0898b3",
       "style": "IPY_MODEL_d5d1392d108f4667b4481b385dc0b268",
       "value": false
      }
     },
     "b9e2776ca00c4d4eb0cc01dfef1b45c9": {
      "model_module": "@jupyter-widgets/controls",
      "model_module_version": "1.5.0",
      "model_name": "DescriptionStyleModel",
      "state": {
       "description_width": ""
      }
     },
     "b9e5406d77e144048409537d1ed2f7b4": {
      "model_module": "@jupyter-widgets/controls",
      "model_module_version": "1.5.0",
      "model_name": "DescriptionStyleModel",
      "state": {
       "description_width": ""
      }
     },
     "ba35eb00df0d47e780e54bb01e2a8379": {
      "model_module": "@jupyter-widgets/controls",
      "model_module_version": "1.5.0",
      "model_name": "ButtonModel",
      "state": {
       "description": "Start",
       "layout": "IPY_MODEL_4dc7fdc60cda4afe82b832c49dc61a18",
       "style": "IPY_MODEL_c4731efaa6b04b8fb9e3503b430d2892"
      }
     },
     "ba6e2d06f68e452fb4942dbf9e79b60f": {
      "model_module": "@jupyter-widgets/base",
      "model_module_version": "1.2.0",
      "model_name": "LayoutModel",
      "state": {
       "margin": "10px 0px 10px 0px"
      }
     },
     "ba97ed0022cc47f5a2fcaeb2bf88e79a": {
      "model_module": "@jupyter-widgets/controls",
      "model_module_version": "1.5.0",
      "model_name": "DescriptionStyleModel",
      "state": {
       "description_width": ""
      }
     },
     "ba9edf16d1834babbfc50e398a97f4d5": {
      "model_module": "@jupyter-widgets/controls",
      "model_module_version": "1.5.0",
      "model_name": "ButtonModel",
      "state": {
       "description": "Select",
       "layout": "IPY_MODEL_5b1376b66d6b4a49bb45c4d3de44427e",
       "style": "IPY_MODEL_a3e16c4683164707aafac06487cd719c"
      }
     },
     "bacbc44895204e7a8f228433882eca44": {
      "model_module": "@jupyter-widgets/base",
      "model_module_version": "1.2.0",
      "model_name": "LayoutModel",
      "state": {
       "margin": "0px 10px 0px 0px",
       "width": "60px"
      }
     },
     "bb1cef85208340daafa13eaf9566f7e5": {
      "model_module": "@jupyter-widgets/controls",
      "model_module_version": "1.5.0",
      "model_name": "TextModel",
      "state": {
       "description": "line13",
       "layout": "IPY_MODEL_5150b9f2596c403c804c65b8f39f863a",
       "placeholder": "[]",
       "style": "IPY_MODEL_fcf0585210bf4cdb8852cf5f75d8eb2c",
       "value": "type python code"
      }
     },
     "bb2934703ff34ed4a61ea368af3b8da0": {
      "model_module": "@jupyter-widgets/base",
      "model_module_version": "1.2.0",
      "model_name": "LayoutModel",
      "state": {}
     },
     "bb2abb542ae745e3ad353feef22bcf62": {
      "model_module": "@jupyter-widgets/controls",
      "model_module_version": "1.5.0",
      "model_name": "DescriptionStyleModel",
      "state": {
       "description_width": ""
      }
     },
     "bb711945e55747f9ae4b79b8945db753": {
      "model_module": "@jupyter-widgets/controls",
      "model_module_version": "1.5.0",
      "model_name": "DescriptionStyleModel",
      "state": {
       "description_width": ""
      }
     },
     "bb7df06df3d64439a49d62b14228cdbf": {
      "model_module": "@jupyter-widgets/controls",
      "model_module_version": "1.5.0",
      "model_name": "DescriptionStyleModel",
      "state": {
       "description_width": ""
      }
     },
     "bba4b5d6306c44e48f46e67230edb8bb": {
      "model_module": "@jupyter-widgets/base",
      "model_module_version": "1.2.0",
      "model_name": "LayoutModel",
      "state": {}
     },
     "bbac9619777e4683a5543d5c5d583f60": {
      "model_module": "@jupyter-widgets/controls",
      "model_module_version": "1.5.0",
      "model_name": "HBoxModel",
      "state": {
       "children": [
        "IPY_MODEL_3bc14307772b460385ed31580661a2bc",
        "IPY_MODEL_ff0805e34616436ab1a1dec605631391"
       ],
       "layout": "IPY_MODEL_cddd6037416640dd9621f7e03192c48c"
      }
     },
     "bbad2493dc004b9b86af5e471d727228": {
      "model_module": "@jupyter-widgets/controls",
      "model_module_version": "1.5.0",
      "model_name": "HTMLModel",
      "state": {
       "layout": "IPY_MODEL_ae6e8363e8784ad29065ecf8411dfa75",
       "style": "IPY_MODEL_0a07f6ec9b1a496ab686dbbfd9d60291",
       "value": "<b> >>> </b>"
      }
     },
     "bbbb89c62fcc4035bc7a001d3d696a15": {
      "model_module": "@jupyter-widgets/base",
      "model_module_version": "1.2.0",
      "model_name": "LayoutModel",
      "state": {
       "align_items": "center",
       "border": "dotted black 1px",
       "height": "40px",
       "margin": "0px 0px 0px 10px"
      }
     },
     "bbbc2f3faea1466b8b15614cf5d92452": {
      "model_module": "@jupyter-widgets/controls",
      "model_module_version": "1.5.0",
      "model_name": "TextModel",
      "state": {
       "description": "axis",
       "layout": "IPY_MODEL_84354dfabb584083ac127e6515c9a500",
       "placeholder": "[]",
       "style": "IPY_MODEL_b3fb5cb3252b411ab0efdf97eb7f31fb",
       "value": "1"
      }
     },
     "bbe24fafe6d44b788e7b7b9beca44940": {
      "model_module": "@jupyter-widgets/controls",
      "model_module_version": "1.5.0",
      "model_name": "BoxModel",
      "state": {
       "children": [
        "IPY_MODEL_637bfac063954004b7ed1002dd158d1b"
       ],
       "layout": "IPY_MODEL_c61852c47e4e4bbd9a0680c3bf54aa53"
      }
     },
     "bbfaf90914fd4218bcf8a4fe0fe21ad4": {
      "model_module": "@jupyter-widgets/controls",
      "model_module_version": "1.5.0",
      "model_name": "VBoxModel",
      "state": {
       "children": [
        "IPY_MODEL_e59b48d0fe774b3b91e1dfd2f1dd941a",
        "IPY_MODEL_67311463ad244de78fdb3b69539c7f07",
        "IPY_MODEL_86cf7f28c92f41abbeef2401ca040aba",
        "IPY_MODEL_568825a998f149ada3e0ebe2e1b66415",
        "IPY_MODEL_1f7bad8a9eaf4db3afad3809071215ca"
       ],
       "layout": "IPY_MODEL_9c9c07fa49fb470081c313dac2dc26b2"
      }
     },
     "bbfd7198e2bf48739202e67cbc4a0a76": {
      "model_module": "@jupyter-widgets/controls",
      "model_module_version": "1.5.0",
      "model_name": "HBoxModel",
      "state": {
       "children": [
        "IPY_MODEL_0c0b87c453c34864a3bf5b7f0842dd5f",
        "IPY_MODEL_345fb71a830d4778b304aa84c601498b",
        "IPY_MODEL_b8d086dff12d45e0905ad1d72ffb1ba8"
       ],
       "layout": "IPY_MODEL_5d585738f7a542a8922de89eeec8a54d"
      }
     },
     "bbff8dea236d454cb2351fa7ac6ec3bd": {
      "model_module": "@jupyter-widgets/controls",
      "model_module_version": "1.5.0",
      "model_name": "DescriptionStyleModel",
      "state": {
       "description_width": ""
      }
     },
     "bc22b9e39ad248cc9dd5721604512d45": {
      "model_module": "@jupyter-widgets/controls",
      "model_module_version": "1.5.0",
      "model_name": "DescriptionStyleModel",
      "state": {
       "description_width": ""
      }
     },
     "bc29bd90f59e4d49ba0dfe7e016fcb89": {
      "model_module": "@jupyter-widgets/base",
      "model_module_version": "1.2.0",
      "model_name": "LayoutModel",
      "state": {}
     },
     "bc49c6ea4588431382a17d9f3c94203f": {
      "model_module": "@jupyter-widgets/controls",
      "model_module_version": "1.5.0",
      "model_name": "VBoxModel",
      "state": {
       "children": [
        "IPY_MODEL_8cac0c6a3531494db7229f376a964d26"
       ],
       "layout": "IPY_MODEL_2050152a8ae24ba68532584faa734233"
      }
     },
     "bc4ecc1c074d40b3b6699ddcb220184d": {
      "model_module": "@jupyter-widgets/base",
      "model_module_version": "1.2.0",
      "model_name": "LayoutModel",
      "state": {}
     },
     "bc51203182584e6199fa759dc52a1483": {
      "model_module": "@jupyter-widgets/controls",
      "model_module_version": "1.5.0",
      "model_name": "TextModel",
      "state": {
       "description": "line07",
       "layout": "IPY_MODEL_c8abada50750462ba33dd514cf82eae6",
       "placeholder": "[]",
       "style": "IPY_MODEL_68da055567ca4942832e61475fa74a4c",
       "value": "type python code"
      }
     },
     "bc5f913875314621b3cff891ea6f115c": {
      "model_module": "@jupyter-widgets/controls",
      "model_module_version": "1.5.0",
      "model_name": "ButtonModel",
      "state": {
       "description": "Remove pipe",
       "icon": "remove",
       "layout": "IPY_MODEL_12d088b2d39247899a17f091150c84fc",
       "style": "IPY_MODEL_6a68fa39bf7842d8b89b273a7590eb57"
      }
     },
     "bc7d10ae51894f949a7f03601e2bc4fb": {
      "model_module": "@jupyter-widgets/controls",
      "model_module_version": "1.5.0",
      "model_name": "ButtonStyleModel",
      "state": {}
     },
     "bc82508bb61544179ad014db8ef32ab9": {
      "model_module": "@jupyter-widgets/controls",
      "model_module_version": "1.5.0",
      "model_name": "DropdownModel",
      "state": {
       "description": "output token:",
       "index": null,
       "layout": "IPY_MODEL_80e641d9aa0446f3bfcf3a28f671cbd4",
       "style": "IPY_MODEL_50ce323f9e184deabe2a222e1902b268"
      }
     },
     "bc8b8efc79ec47de91d38df1c2ff5c6f": {
      "model_module": "@jupyter-widgets/base",
      "model_module_version": "1.2.0",
      "model_name": "LayoutModel",
      "state": {
       "align_items": "center",
       "border": "dotted black 1px",
       "height": "40px",
       "margin": "0px 0px 0px 10px"
      }
     },
     "bc8cecc7cf094229b1664d0f9a72204f": {
      "model_module": "@jupyter-widgets/controls",
      "model_module_version": "1.5.0",
      "model_name": "DescriptionStyleModel",
      "state": {
       "description_width": ""
      }
     },
     "bc9c1e73683e442c870689fe8b0b89f3": {
      "model_module": "@jupyter-widgets/controls",
      "model_module_version": "1.5.0",
      "model_name": "HBoxModel",
      "state": {
       "children": [
        "IPY_MODEL_8cc7d3850a054e599fa3a86a70b1214e",
        "IPY_MODEL_dc76735380484060947673077e168953",
        "IPY_MODEL_1df11efa15ce481b9e8e10c95e2478d1"
       ],
       "layout": "IPY_MODEL_b3d4d79b323c431f8f7427c3260b950a"
      }
     },
     "bcaa8fb678314bfaa024fd9946b518f3": {
      "model_module": "@jupyter-widgets/controls",
      "model_module_version": "1.5.0",
      "model_name": "DropdownModel",
      "state": {
       "_options_labels": [
        "entries"
       ],
       "description": "output token:",
       "index": 0,
       "layout": "IPY_MODEL_cc83d62fbd434becb28baad13977cf9a",
       "style": "IPY_MODEL_34260c2ff2e34df3873bcca090c65114"
      }
     },
     "bcb9c61752ba46f2abc7623d25d6302d": {
      "model_module": "@jupyter-widgets/controls",
      "model_module_version": "1.5.0",
      "model_name": "LabelModel",
      "state": {
       "layout": "IPY_MODEL_4f8161e1274b4e2ab5fae6187fcc8764",
       "style": "IPY_MODEL_477fe2bad4384822bc980ee306346031",
       "value": "Template 2: load_organic_density --> plot feature AMW vs. density --> print 5 SMILES"
      }
     },
     "bcc4a7b6b78341c59eaeb4d724b2aa45": {
      "model_module": "@jupyter-widgets/controls",
      "model_module_version": "1.5.0",
      "model_name": "HTMLModel",
      "state": {
       "layout": "IPY_MODEL_8c2570a925064df5990cdbb01c56f861",
       "style": "IPY_MODEL_2f3290ab66dd443f9351acd065f219f6",
       "value": "<b> Receive <<< </b>"
      }
     },
     "bcdd76c8ae4a400498e5fa179b9bf740": {
      "model_module": "@jupyter-widgets/controls",
      "model_module_version": "1.5.0",
      "model_name": "DescriptionStyleModel",
      "state": {
       "description_width": ""
      }
     },
     "bcefae5a424449eabade72064b761351": {
      "model_module": "@jupyter-widgets/controls",
      "model_module_version": "1.5.0",
      "model_name": "HTMLModel",
      "state": {
       "layout": "IPY_MODEL_e7976559203f428c8832a01cf4752362",
       "style": "IPY_MODEL_410fee099b95481c8eadf7ae2eabb2be",
       "value": "all input tokens: iv1, iv2, iv3, iv4, iv5, iv6"
      }
     },
     "bd17d5a3f9a849aeaa4f42ff8febc76f": {
      "model_module": "@jupyter-widgets/controls",
      "model_module_version": "1.5.0",
      "model_name": "DescriptionStyleModel",
      "state": {
       "description_width": ""
      }
     },
     "bd2ac03ab594479f8d441b6534c44233": {
      "model_module": "@jupyter-widgets/base",
      "model_module_version": "1.2.0",
      "model_name": "LayoutModel",
      "state": {
       "margin": "40px 0px 0px 10px",
       "width": "120px"
      }
     },
     "bd3c99d815334b22a55ab65cc53f9166": {
      "model_module": "@jupyter-widgets/base",
      "model_module_version": "1.2.0",
      "model_name": "LayoutModel",
      "state": {
       "width": "40px"
      }
     },
     "bd4b9202a54a428e857b4293efe0b64f": {
      "model_module": "@jupyter-widgets/base",
      "model_module_version": "1.2.0",
      "model_name": "LayoutModel",
      "state": {
       "border": "dotted black 1px",
       "justify_content": "space-between"
      }
     },
     "bd4c43e7160e4d22ad9167dd298bd70c": {
      "model_module": "@jupyter-widgets/controls",
      "model_module_version": "1.5.0",
      "model_name": "DescriptionStyleModel",
      "state": {
       "description_width": ""
      }
     },
     "bd6ecc66c4e341848f1ec2889155b589": {
      "model_module": "@jupyter-widgets/base",
      "model_module_version": "1.2.0",
      "model_name": "LayoutModel",
      "state": {
       "width": "40%"
      }
     },
     "bd7c044f2a794c53b054cc80116f413b": {
      "model_module": "@jupyter-widgets/controls",
      "model_module_version": "1.5.0",
      "model_name": "DescriptionStyleModel",
      "state": {
       "description_width": ""
      }
     },
     "bdc1dd6d82b44b24ae28ed900d5ddef3": {
      "model_module": "@jupyter-widgets/controls",
      "model_module_version": "1.5.0",
      "model_name": "DescriptionStyleModel",
      "state": {
       "description_width": ""
      }
     },
     "bdd62acc23144f79a28feb01ff0b0067": {
      "model_module": "@jupyter-widgets/controls",
      "model_module_version": "1.5.0",
      "model_name": "CheckboxModel",
      "state": {
       "description": "Check to set",
       "disabled": false,
       "indent": false,
       "layout": "IPY_MODEL_3a5633b9b01a448a866cd7c824a69dc1",
       "style": "IPY_MODEL_e7c912365829456fa207c3e470550182",
       "value": false
      }
     },
     "bdf6fe55105841dbbe1d126185837b12": {
      "model_module": "@jupyter-widgets/base",
      "model_module_version": "1.2.0",
      "model_name": "LayoutModel",
      "state": {
       "width": "100%"
      }
     },
     "be4206e53c1641d89116035fc215c217": {
      "model_module": "@jupyter-widgets/base",
      "model_module_version": "1.2.0",
      "model_name": "LayoutModel",
      "state": {}
     },
     "be425f7cde82418cb4f585bde8b99f88": {
      "model_module": "@jupyter-widgets/base",
      "model_module_version": "1.2.0",
      "model_name": "LayoutModel",
      "state": {
       "margin": "0px 0px 0px 10px",
       "width": "100%"
      }
     },
     "be86c028c740489fb803d05c53e02ab0": {
      "model_module": "@jupyter-widgets/controls",
      "model_module_version": "1.5.0",
      "model_name": "DescriptionStyleModel",
      "state": {
       "description_width": ""
      }
     },
     "be9f9a6a91e4446c9a60f193baccc5ea": {
      "model_module": "@jupyter-widgets/controls",
      "model_module_version": "1.5.0",
      "model_name": "DescriptionStyleModel",
      "state": {
       "description_width": ""
      }
     },
     "bea5e3d77f5942699ca1091ba758641b": {
      "model_module": "@jupyter-widgets/controls",
      "model_module_version": "1.5.0",
      "model_name": "ButtonStyleModel",
      "state": {
       "button_color": "lightblue"
      }
     },
     "bece12ae1fce4996a6013c9c952edb12": {
      "model_module": "@jupyter-widgets/controls",
      "model_module_version": "1.5.0",
      "model_name": "DescriptionStyleModel",
      "state": {
       "description_width": "initial"
      }
     },
     "bf046f152d73420bb601ffad975b346e": {
      "model_module": "@jupyter-widgets/controls",
      "model_module_version": "1.5.0",
      "model_name": "DescriptionStyleModel",
      "state": {
       "description_width": ""
      }
     },
     "bf3344c0ceb04bf1af1580f1cbf2b474": {
      "model_module": "@jupyter-widgets/base",
      "model_module_version": "1.2.0",
      "model_name": "LayoutModel",
      "state": {
       "width": "40%"
      }
     },
     "bf437f56a6ad4e1a81af2c7fd0c8fa04": {
      "model_module": "@jupyter-widgets/controls",
      "model_module_version": "1.5.0",
      "model_name": "CheckboxModel",
      "state": {
       "description": "Check to set",
       "disabled": false,
       "indent": false,
       "layout": "IPY_MODEL_ecb4f9c49c0c4057bd0c718ac4307f07",
       "style": "IPY_MODEL_347863e6f80f47c2b78c5bd2bdfe6138",
       "value": true
      }
     },
     "bf48f3f34720415fae9c6c6d1af0c920": {
      "model_module": "@jupyter-widgets/base",
      "model_module_version": "1.2.0",
      "model_name": "LayoutModel",
      "state": {}
     },
     "bf4ef2c7d6ff4b09bbeed1e41e3524ee": {
      "model_module": "@jupyter-widgets/controls",
      "model_module_version": "1.5.0",
      "model_name": "CheckboxModel",
      "state": {
       "description": "Check to set",
       "disabled": false,
       "indent": false,
       "layout": "IPY_MODEL_a42739fff2194cccaeb5e8bd1d7a0860",
       "style": "IPY_MODEL_39cc7c62c4cc49f2a527948ebc0de023",
       "value": false
      }
     },
     "bf56e6bbef90434fb653a41edacda6bd": {
      "model_module": "@jupyter-widgets/base",
      "model_module_version": "1.2.0",
      "model_name": "LayoutModel",
      "state": {}
     },
     "bf74970496d149d084aa1c2dd0035497": {
      "model_module": "@jupyter-widgets/base",
      "model_module_version": "1.2.0",
      "model_name": "LayoutModel",
      "state": {
       "align_items": "center",
       "border": "dotted black 1px",
       "height": "40px",
       "justify_content": "center"
      }
     },
     "bff7aaade05b47d7b37013690c28245e": {
      "model_module": "@jupyter-widgets/controls",
      "model_module_version": "1.5.0",
      "model_name": "HTMLModel",
      "state": {
       "layout": "IPY_MODEL_204e2303fed649afa190cb73bb08c762",
       "style": "IPY_MODEL_712ed5a4d85c431b8a8c3d4a327c5419",
       "value": "<b> Send >>> </b>"
      }
     },
     "c01f1788e97449a895aeb5902e9327db": {
      "model_module": "@jupyter-widgets/controls",
      "model_module_version": "1.5.0",
      "model_name": "HBoxModel",
      "state": {
       "children": [
        "IPY_MODEL_27e6c21d38534bbd937bb6cab5df8ef0",
        "IPY_MODEL_55785f0a70474380b935e31665fc1ca2"
       ],
       "layout": "IPY_MODEL_71462bee723f466884b2e1ac31404994"
      }
     },
     "c03a5affbfb644f890437b5692d735eb": {
      "model_module": "@jupyter-widgets/controls",
      "model_module_version": "1.5.0",
      "model_name": "DescriptionStyleModel",
      "state": {
       "description_width": "initial"
      }
     },
     "c03f540ddd024d258c194a6537f8bde5": {
      "model_module": "@jupyter-widgets/base",
      "model_module_version": "1.2.0",
      "model_name": "LayoutModel",
      "state": {
       "width": "40%"
      }
     },
     "c045037ff661462a9231fd778e245ab6": {
      "model_module": "@jupyter-widgets/base",
      "model_module_version": "1.2.0",
      "model_name": "LayoutModel",
      "state": {
       "margin": "0px 0px 0px 10px"
      }
     },
     "c04666d3497345d3baf99ff7d171968f": {
      "model_module": "@jupyter-widgets/controls",
      "model_module_version": "1.5.0",
      "model_name": "VBoxModel",
      "state": {
       "children": [
        "IPY_MODEL_98cb0430ac654bf0a7f01aac28f530ff",
        "IPY_MODEL_4a09bbb159ed4f70b56ab7612b7f9793",
        "IPY_MODEL_9c796f0e9b204d2089fb8350b65e1222",
        "IPY_MODEL_2db18ccd31f74d8c87ad7545e516baaa",
        "IPY_MODEL_b33ddf8308564db880ed16e4b5e72553",
        "IPY_MODEL_e56108e3d5a84eef881c3992af168873",
        "IPY_MODEL_c930126b97384912b1ff6400435cca59"
       ],
       "layout": "IPY_MODEL_1c6e2b8b6dee4cb38aaaf93acec4ca5f"
      }
     },
     "c06ddec091674fb6a5281c0f96ca56c9": {
      "model_module": "@jupyter-widgets/controls",
      "model_module_version": "1.5.0",
      "model_name": "HBoxModel",
      "state": {
       "children": [
        "IPY_MODEL_567c3a2189294f24a05f1f5be7a282e2",
        "IPY_MODEL_8143b4dfdb2d4bb4b3ea6bb99e5f2134",
        "IPY_MODEL_28a660dc7e3d42a3886dc52f6f0e5306"
       ],
       "layout": "IPY_MODEL_b3ddb30da2c649678f4084b65fdb065b"
      }
     },
     "c0b6b332fc1849058941473909da15e3": {
      "model_module": "@jupyter-widgets/base",
      "model_module_version": "1.2.0",
      "model_name": "LayoutModel",
      "state": {}
     },
     "c0bebefda1ea440595dc0a9e077ad617": {
      "model_module": "@jupyter-widgets/base",
      "model_module_version": "1.2.0",
      "model_name": "LayoutModel",
      "state": {}
     },
     "c0dbb39e25dc4f4fbab03599b5ff7f07": {
      "model_module": "@jupyter-widgets/base",
      "model_module_version": "1.2.0",
      "model_name": "LayoutModel",
      "state": {}
     },
     "c0dec62df0ea47448f8090ad69ab6b78": {
      "model_module": "@jupyter-widgets/controls",
      "model_module_version": "1.5.0",
      "model_name": "DescriptionStyleModel",
      "state": {
       "description_width": ""
      }
     },
     "c11aa4705242499f834afd98edddb7ed": {
      "model_module": "@jupyter-widgets/controls",
      "model_module_version": "1.5.0",
      "model_name": "DescriptionStyleModel",
      "state": {
       "description_width": ""
      }
     },
     "c136a9089d0d482281104803b77e23dc": {
      "model_module": "@jupyter-widgets/base",
      "model_module_version": "1.2.0",
      "model_name": "LayoutModel",
      "state": {}
     },
     "c13b6c5ef25a4f919a86df734c473abf": {
      "model_module": "@jupyter-widgets/base",
      "model_module_version": "1.2.0",
      "model_name": "LayoutModel",
      "state": {}
     },
     "c150270d36074ec3b3d29ce2529cf24d": {
      "model_module": "@jupyter-widgets/controls",
      "model_module_version": "1.5.0",
      "model_name": "ButtonStyleModel",
      "state": {
       "button_color": "lightblue"
      }
     },
     "c1733380559d4b9c962124c212c13eb5": {
      "model_module": "@jupyter-widgets/controls",
      "model_module_version": "1.5.0",
      "model_name": "VBoxModel",
      "state": {
       "children": [
        "IPY_MODEL_1bfd7d7db3c447829a47f5445bc606f9"
       ],
       "layout": "IPY_MODEL_dcbe062bf3c142979ad453dee3a46e8f"
      }
     },
     "c1aadadf14ea4fee99ab72185c0b2993": {
      "model_module": "@jupyter-widgets/base",
      "model_module_version": "1.2.0",
      "model_name": "LayoutModel",
      "state": {
       "width": "40%"
      }
     },
     "c1b3b5c42e8a4b129a143a4e8b622c09": {
      "model_module": "@jupyter-widgets/base",
      "model_module_version": "1.2.0",
      "model_name": "LayoutModel",
      "state": {
       "width": "50%"
      }
     },
     "c1d8847e17264577b7543dcb6e692631": {
      "model_module": "@jupyter-widgets/controls",
      "model_module_version": "1.5.0",
      "model_name": "TextModel",
      "state": {
       "description": "Type:",
       "disabled": true,
       "layout": "IPY_MODEL_c1aadadf14ea4fee99ab72185c0b2993",
       "style": "IPY_MODEL_cec1f6eca4104d6b83151cbdd43ad541"
      }
     },
     "c1fec8cf81834f92b90d817de5aaafcd": {
      "model_module": "@jupyter-widgets/base",
      "model_module_version": "1.2.0",
      "model_name": "LayoutModel",
      "state": {
       "width": "40px"
      }
     },
     "c20f413f4b2f4f7ca1aa1fa1902191f5": {
      "model_module": "@jupyter-widgets/base",
      "model_module_version": "1.2.0",
      "model_name": "LayoutModel",
      "state": {}
     },
     "c22f3b5df6244349a321a934ec253b61": {
      "model_module": "@jupyter-widgets/controls",
      "model_module_version": "1.5.0",
      "model_name": "TextModel",
      "state": {
       "description": "join",
       "layout": "IPY_MODEL_97dfd3b91f7b46bbbf2a460ca829d132",
       "placeholder": "[]",
       "style": "IPY_MODEL_068ff800c77c4a34bfae4dbd1a37b225",
       "value": "outer"
      }
     },
     "c22fad18918a47b9827067366b00d376": {
      "model_module": "@jupyter-widgets/controls",
      "model_module_version": "1.5.0",
      "model_name": "DescriptionStyleModel",
      "state": {
       "description_width": ""
      }
     },
     "c23d5e68de724fd29585a0f9097fb065": {
      "model_module": "@jupyter-widgets/base",
      "model_module_version": "1.2.0",
      "model_name": "LayoutModel",
      "state": {
       "margin": "20px 0px 0px 0px",
       "width": "50%"
      }
     },
     "c25e4206995a4d53ac20a5c620f0d6d6": {
      "model_module": "@jupyter-widgets/base",
      "model_module_version": "1.2.0",
      "model_name": "LayoutModel",
      "state": {}
     },
     "c29803ca6d0845c39f7a9c960600d263": {
      "model_module": "@jupyter-widgets/base",
      "model_module_version": "1.2.0",
      "model_name": "LayoutModel",
      "state": {
       "margin": "0px 0px 0px 180px"
      }
     },
     "c2a70ed27773413f85da052979217f10": {
      "model_module": "@jupyter-widgets/controls",
      "model_module_version": "1.5.0",
      "model_name": "DescriptionStyleModel",
      "state": {
       "description_width": ""
      }
     },
     "c2d8dc201eaf4477871528143462e437": {
      "model_module": "@jupyter-widgets/controls",
      "model_module_version": "1.5.0",
      "model_name": "TextModel",
      "state": {
       "description": "Type:",
       "disabled": true,
       "layout": "IPY_MODEL_81326ffce59b4daf8a2c56f5042a9305",
       "style": "IPY_MODEL_753f43756b2d4f60bead79d9b1089c88"
      }
     },
     "c2dad8de6cac4ad2972c3c8666b5a2fb": {
      "model_module": "@jupyter-widgets/base",
      "model_module_version": "1.2.0",
      "model_name": "LayoutModel",
      "state": {
       "align_items": "center",
       "justify_content": "space-between",
       "margin": "10px 0px 20px 0px"
      }
     },
     "c2de28a03e544f38a20ecf6d31b10e27": {
      "model_module": "@jupyter-widgets/base",
      "model_module_version": "1.2.0",
      "model_name": "LayoutModel",
      "state": {
       "margin": "0px 0px 0px 20px"
      }
     },
     "c30137e99f1441f39d59f4f702c3f744": {
      "model_module": "@jupyter-widgets/controls",
      "model_module_version": "1.5.0",
      "model_name": "HTMLModel",
      "state": {
       "layout": "IPY_MODEL_e0ec3d2cf1f24e1c87aa6098a420877b",
       "style": "IPY_MODEL_47f404f75728495592618091d8b6207a",
       "value": "<b> Receive <<< </b>"
      }
     },
     "c313dc20eaab47e6809d856cc7344900": {
      "model_module": "@jupyter-widgets/base",
      "model_module_version": "1.2.0",
      "model_name": "LayoutModel",
      "state": {}
     },
     "c31429be47c445379e09a7553f5096dc": {
      "model_module": "@jupyter-widgets/base",
      "model_module_version": "1.2.0",
      "model_name": "LayoutModel",
      "state": {}
     },
     "c31d1416036b405e8fd2094db6769df5": {
      "model_module": "@jupyter-widgets/base",
      "model_module_version": "1.2.0",
      "model_name": "LayoutModel",
      "state": {
       "border": "dotted black 1px",
       "justify_content": "space-between"
      }
     },
     "c3200c5c30214fc883da30aeb31e10f9": {
      "model_module": "@jupyter-widgets/controls",
      "model_module_version": "1.5.0",
      "model_name": "DescriptionStyleModel",
      "state": {
       "description_width": ""
      }
     },
     "c3327d560bcb465cac3b10f79eaca651": {
      "model_module": "@jupyter-widgets/base",
      "model_module_version": "1.2.0",
      "model_name": "LayoutModel",
      "state": {
       "margin": "0px 10px 0px 0px",
       "width": "60px"
      }
     },
     "c337faac5d864ef79e9eedfa9c2157a9": {
      "model_module": "@jupyter-widgets/controls",
      "model_module_version": "1.5.0",
      "model_name": "TextModel",
      "state": {
       "description": "Type:",
       "disabled": true,
       "layout": "IPY_MODEL_ca83311d579c4100a5bf20e12edae986",
       "style": "IPY_MODEL_fcf05372b13343338c2de577cff5a247"
      }
     },
     "c33807bb210b49e2ba2359a06753cfe1": {
      "model_module": "@jupyter-widgets/controls",
      "model_module_version": "1.5.0",
      "model_name": "DropdownModel",
      "state": {
       "_options_labels": [
        "2"
       ],
       "description": "block#:",
       "index": 0,
       "layout": "IPY_MODEL_3de2de05a8884bc6be412364a1cfc700",
       "style": "IPY_MODEL_bdc1dd6d82b44b24ae28ed900d5ddef3"
      }
     },
     "c376bdf609d04cb3939238391f3f9765": {
      "model_module": "@jupyter-widgets/controls",
      "model_module_version": "1.5.0",
      "model_name": "DescriptionStyleModel",
      "state": {
       "description_width": ""
      }
     },
     "c3b623017c84451dad69dc510e69fb56": {
      "model_module": "@jupyter-widgets/base",
      "model_module_version": "1.2.0",
      "model_name": "LayoutModel",
      "state": {
       "margin": "0px 0px 0px 10px"
      }
     },
     "c3bb7eaf931b405db85b6df40ccd372e": {
      "model_module": "@jupyter-widgets/controls",
      "model_module_version": "1.5.0",
      "model_name": "DropdownModel",
      "state": {
       "_options_labels": [
        "ov1",
        "ov2",
        "ov3",
        "ov4",
        "ov5",
        "ov6"
       ],
       "description": "output token:",
       "index": 0,
       "layout": "IPY_MODEL_a972e08bee9d4f6daeec49a35ae56bd7",
       "style": "IPY_MODEL_f10907de58c04c508cb33f4d09de6b32"
      }
     },
     "c3f16db6612c47a6aa3c61b72818e2ac": {
      "model_module": "@jupyter-widgets/controls",
      "model_module_version": "1.5.0",
      "model_name": "DropdownModel",
      "state": {
       "_options_labels": [
        "entries"
       ],
       "description": "output token:",
       "index": 0,
       "layout": "IPY_MODEL_48d3214a6a1d4cc6b266c7b90dc33d4e",
       "style": "IPY_MODEL_5f029ccb35704e79a1c9abc72fda9a95"
      }
     },
     "c407c79b89e547f39fca40535fc8d717": {
      "model_module": "@jupyter-widgets/controls",
      "model_module_version": "1.5.0",
      "model_name": "TabModel",
      "state": {
       "_titles": {
        "0": "Parameters",
        "1": "Input/Output"
       },
       "children": [
        "IPY_MODEL_4c132e3b6b6a4fdf81d382b1cf8b9ab2",
        "IPY_MODEL_c04666d3497345d3baf99ff7d171968f"
       ],
       "layout": "IPY_MODEL_ec342629f40244fa8d270784c00e833c"
      }
     },
     "c42650dce543400dab37a661508043c7": {
      "model_module": "@jupyter-widgets/controls",
      "model_module_version": "1.5.0",
      "model_name": "DescriptionStyleModel",
      "state": {
       "description_width": ""
      }
     },
     "c426a6de835c4ba0a496e065e050c615": {
      "model_module": "@jupyter-widgets/controls",
      "model_module_version": "1.5.0",
      "model_name": "DescriptionStyleModel",
      "state": {
       "description_width": ""
      }
     },
     "c438857beec04f8ea034637d427376ee": {
      "model_module": "@jupyter-widgets/controls",
      "model_module_version": "1.5.0",
      "model_name": "HTMLModel",
      "state": {
       "layout": "IPY_MODEL_ad124956029045d0ac3bfc3abcee2865",
       "style": "IPY_MODEL_03888948425345e18464add75a3afa18",
       "value": "<b> Receive <<< </b>"
      }
     },
     "c4600eeee6894ace98bf31a3ef638ca4": {
      "model_module": "@jupyter-widgets/controls",
      "model_module_version": "1.5.0",
      "model_name": "CheckboxModel",
      "state": {
       "description": "Check to set",
       "disabled": false,
       "indent": false,
       "layout": "IPY_MODEL_d7bc800f746a4ed89861340d60f072d2",
       "style": "IPY_MODEL_43fea7fd37864def8e0c0a5d97f4277c",
       "value": false
      }
     },
     "c4731efaa6b04b8fb9e3503b430d2892": {
      "model_module": "@jupyter-widgets/controls",
      "model_module_version": "1.5.0",
      "model_name": "ButtonStyleModel",
      "state": {
       "button_color": "lightblue"
      }
     },
     "c47509ed99d74d438b64dbb5ccfa4274": {
      "model_module": "@jupyter-widgets/base",
      "model_module_version": "1.2.0",
      "model_name": "LayoutModel",
      "state": {
       "margin": "20px 0px 0px 10px"
      }
     },
     "c47e616dcbae41dc9807741e1287d570": {
      "model_module": "@jupyter-widgets/controls",
      "model_module_version": "1.5.0",
      "model_name": "HBoxModel",
      "state": {
       "children": [
        "IPY_MODEL_947ea1e5affd43aabfc0271eddb577a6",
        "IPY_MODEL_6aab76dd32ad46819bb38fb300380e0d",
        "IPY_MODEL_e257440e54dd4cb6a62260e1d07b54ce"
       ],
       "layout": "IPY_MODEL_9a5ac9eee3b745809bacd60dd410487a"
      }
     },
     "c498fb2bbf9744c9aaf37b2529591687": {
      "model_module": "@jupyter-widgets/controls",
      "model_module_version": "1.5.0",
      "model_name": "TextModel",
      "state": {
       "description": "Type:",
       "disabled": true,
       "layout": "IPY_MODEL_43bf245b609a40b08faa4b75abc93821",
       "style": "IPY_MODEL_8f644b2149b64c229438383e2365e774"
      }
     },
     "c4b764bf6cb0419aa2577a5147f363eb": {
      "model_module": "@jupyter-widgets/controls",
      "model_module_version": "1.5.0",
      "model_name": "DescriptionStyleModel",
      "state": {
       "description_width": ""
      }
     },
     "c4c6b69c933142569b5ce840f103a300": {
      "model_module": "@jupyter-widgets/controls",
      "model_module_version": "1.5.0",
      "model_name": "HBoxModel",
      "state": {
       "children": [
        "IPY_MODEL_c6692f6646cb4359b1aeca72eeb2bd84"
       ],
       "layout": "IPY_MODEL_b7139ba9307245e0ac811f88a45be232"
      }
     },
     "c522d00e20d74290b2c32808e310dd11": {
      "model_module": "@jupyter-widgets/controls",
      "model_module_version": "1.5.0",
      "model_name": "BoxModel",
      "state": {
       "children": [
        "IPY_MODEL_61fa8f68e3c549a39a879dc3095bfa81"
       ],
       "layout": "IPY_MODEL_0f3fd79a48064095a9d155929ba54895"
      }
     },
     "c5871f9b67af40f190712ec3f1aea169": {
      "model_module": "@jupyter-widgets/controls",
      "model_module_version": "1.5.0",
      "model_name": "DescriptionStyleModel",
      "state": {
       "description_width": ""
      }
     },
     "c5a1ad0647684f46b11b2fd4c356540b": {
      "model_module": "@jupyter-widgets/controls",
      "model_module_version": "1.5.0",
      "model_name": "HBoxModel",
      "state": {
       "children": [
        "IPY_MODEL_c3bb7eaf931b405db85b6df40ccd372e"
       ],
       "layout": "IPY_MODEL_aa95c8fbad53423da4d5bc5507b6210f"
      }
     },
     "c5a9a22a7fb24d018192768436c166df": {
      "model_module": "@jupyter-widgets/controls",
      "model_module_version": "1.5.0",
      "model_name": "TextModel",
      "state": {
       "description": "line08",
       "layout": "IPY_MODEL_443346d96daa4b7c99b1510c7f6412da",
       "placeholder": "[]",
       "style": "IPY_MODEL_0acccb10742547b3a8ba353ba43a46ba",
       "value": "type python code"
      }
     },
     "c5ef1b59b32b4d9a8bbad280adb3e967": {
      "model_module": "@jupyter-widgets/controls",
      "model_module_version": "1.5.0",
      "model_name": "DescriptionStyleModel",
      "state": {
       "description_width": ""
      }
     },
     "c61852c47e4e4bbd9a0680c3bf54aa53": {
      "model_module": "@jupyter-widgets/base",
      "model_module_version": "1.2.0",
      "model_name": "LayoutModel",
      "state": {}
     },
     "c62697e4663f4994bf99629507c83889": {
      "model_module": "@jupyter-widgets/controls",
      "model_module_version": "1.5.0",
      "model_name": "ButtonModel",
      "state": {
       "description": "Default values",
       "layout": "IPY_MODEL_54cdda9243f344c7b4f628c8482dcd81",
       "style": "IPY_MODEL_0394ddb292744e458a1938baab413e24"
      }
     },
     "c630fbca6b264a93b16956ccca7a540d": {
      "model_module": "@jupyter-widgets/base",
      "model_module_version": "1.2.0",
      "model_name": "LayoutModel",
      "state": {
       "border": "dotted black 1px",
       "justify_content": "space-between"
      }
     },
     "c6401909760e4f158bf40d209b6cd564": {
      "model_module": "@jupyter-widgets/controls",
      "model_module_version": "1.5.0",
      "model_name": "DescriptionStyleModel",
      "state": {
       "description_width": "initial"
      }
     },
     "c6692f6646cb4359b1aeca72eeb2bd84": {
      "model_module": "@jupyter-widgets/controls",
      "model_module_version": "1.5.0",
      "model_name": "DropdownModel",
      "state": {
       "description": "input token:",
       "index": null,
       "layout": "IPY_MODEL_862ec81d7381446bb7b6b9dc1250ca40",
       "style": "IPY_MODEL_182cb87c18cd4c68a4f4e6fef39adede"
      }
     },
     "c6831d21344f4e41909a29551235229a": {
      "model_module": "@jupyter-widgets/controls",
      "model_module_version": "1.5.0",
      "model_name": "ButtonStyleModel",
      "state": {
       "button_color": "lightblue"
      }
     },
     "c6865d01989947ecad5b36fa892fb3bd": {
      "model_module": "@jupyter-widgets/base",
      "model_module_version": "1.2.0",
      "model_name": "LayoutModel",
      "state": {
       "margin": "20px 0px 20px 250px"
      }
     },
     "c6940b5218834ec2922c69edc48eed2d": {
      "model_module": "@jupyter-widgets/controls",
      "model_module_version": "1.5.0",
      "model_name": "ButtonModel",
      "state": {
       "description": "Select",
       "layout": "IPY_MODEL_9cb6e9267f8847679c885be9e9bc5e65",
       "style": "IPY_MODEL_5022f6bc33ca498f8591fb8af1e84d2d"
      }
     },
     "c695f891962f440a82882d96ac3f638d": {
      "model_module": "@jupyter-widgets/controls",
      "model_module_version": "1.5.0",
      "model_name": "ButtonStyleModel",
      "state": {
       "button_color": "lightblue"
      }
     },
     "c70df368dde2492ca86b15ea43dc292e": {
      "model_module": "@jupyter-widgets/base",
      "model_module_version": "1.2.0",
      "model_name": "LayoutModel",
      "state": {
       "margin": "0px 10px 0px 0px",
       "width": "60px"
      }
     },
     "c712612c1ac34459aa8a7544b3279e93": {
      "model_module": "@jupyter-widgets/controls",
      "model_module_version": "1.5.0",
      "model_name": "VBoxModel",
      "state": {
       "children": [
        "IPY_MODEL_949e48b2c9ce4b4a8151bc4042934097",
        "IPY_MODEL_544527a03314447ab4bf41e1a2d5d25d",
        "IPY_MODEL_a8e7449ab8e24ff3b6795e5c528d8ffb",
        "IPY_MODEL_90a8709b1f2e4a79bffc819a22b14f63",
        "IPY_MODEL_a1bea1dcc5ba4386a8563e867b59c8e0",
        "IPY_MODEL_4de8918802274a449626fbf656837c7d",
        "IPY_MODEL_ca69db47ee2d4e02968510a1da369411",
        "IPY_MODEL_3fc96d1364104553be6ab9acce4c5e80",
        "IPY_MODEL_7c93fd0ab89b4d37b68adbca7e88e905",
        "IPY_MODEL_c76013908eb2468b938574750562ed2c",
        "IPY_MODEL_5671cd7d157b4b5faf699f6a0453d8fd",
        "IPY_MODEL_432bf3e7add749abbebba4b2c06ba537",
        "IPY_MODEL_fafc871b60664b7688406063ca33db4c",
        "IPY_MODEL_cb7224b00cd64ac2a68d9b34434c5bf8",
        "IPY_MODEL_f904ba20294b42edbba890bc5143f99f",
        "IPY_MODEL_8b53c3ab445b441094caf837f3ccfd59",
        "IPY_MODEL_4c59eaf7b9684ba298e5140e08ccff36",
        "IPY_MODEL_f3baf843cc884c61914766b49760a86a",
        "IPY_MODEL_e7b0b94458924eecbd7718fa8a082c10",
        "IPY_MODEL_eb1e2609ecc44ddba0a813203caa0ace",
        "IPY_MODEL_a8b120ad6afc4f05bd5fd24358c74940"
       ],
       "layout": "IPY_MODEL_2dea6f7415754bb9b719c84f9a846353"
      }
     },
     "c7292ea14ec94aee8570652a154d14de": {
      "model_module": "@jupyter-widgets/controls",
      "model_module_version": "1.5.0",
      "model_name": "SelectMultipleModel",
      "state": {
       "index": [],
       "layout": "IPY_MODEL_fe31955f7bce449ca8048d440ab2104e",
       "rows": 5,
       "style": "IPY_MODEL_afb1682bbc79400bb897cd4baf960a0e"
      }
     },
     "c74ff10cfa7749a4931bcd08a920b37e": {
      "model_module": "@jupyter-widgets/base",
      "model_module_version": "1.2.0",
      "model_name": "LayoutModel",
      "state": {}
     },
     "c76013908eb2468b938574750562ed2c": {
      "model_module": "@jupyter-widgets/controls",
      "model_module_version": "1.5.0",
      "model_name": "HBoxModel",
      "state": {
       "children": [
        "IPY_MODEL_9735732c47f0493888ed1375d94795b5",
        "IPY_MODEL_89d57d4059424318a60d52391ebf5d3d",
        "IPY_MODEL_2e429ddd596942a0a0dbb3286f8e3f6d"
       ],
       "layout": "IPY_MODEL_e70a9b197d9e4cefa53a59fca3e37407"
      }
     },
     "c7807506a5654c1883b58988e0226e9d": {
      "model_module": "@jupyter-widgets/controls",
      "model_module_version": "1.5.0",
      "model_name": "ButtonModel",
      "state": {
       "description": "Remove block",
       "layout": "IPY_MODEL_d9adf98bb77c4f979f610e626dbe50be",
       "style": "IPY_MODEL_af45484f7ac945308091c5225a9c7c4b"
      }
     },
     "c794fdae968441d4b359402ba40dac8f": {
      "model_module": "@jupyter-widgets/controls",
      "model_module_version": "1.5.0",
      "model_name": "TextModel",
      "state": {
       "description": "Type:",
       "disabled": true,
       "layout": "IPY_MODEL_91beb6873e8a44dd99612c877933f2eb",
       "style": "IPY_MODEL_585e9ff5a7024ea6a8ba66681851b2f6"
      }
     },
     "c79dd3d5e54e43058791f0ce12d61ab6": {
      "model_module": "@jupyter-widgets/controls",
      "model_module_version": "1.5.0",
      "model_name": "ButtonStyleModel",
      "state": {
       "button_color": "lightblue"
      }
     },
     "c7aa0f5140874eed83ef51dd900f4efd": {
      "model_module": "@jupyter-widgets/controls",
      "model_module_version": "1.5.0",
      "model_name": "DescriptionStyleModel",
      "state": {
       "description_width": ""
      }
     },
     "c7c24a84dde540548b2a60a330f376b6": {
      "model_module": "@jupyter-widgets/controls",
      "model_module_version": "1.5.0",
      "model_name": "HTMLModel",
      "state": {
       "layout": "IPY_MODEL_8022fa82bd484f9cb6b3f7d16713f9e4",
       "style": "IPY_MODEL_1d388858b2bc4bdcab6d27d23e6121b0",
       "value": "<b> Send >>> </b>"
      }
     },
     "c7c68f139f244a2693a245d7e1efd17f": {
      "model_module": "@jupyter-widgets/base",
      "model_module_version": "1.2.0",
      "model_name": "LayoutModel",
      "state": {
       "width": "50%"
      }
     },
     "c7f3d4f79b464fb898695427a80563e3": {
      "model_module": "@jupyter-widgets/base",
      "model_module_version": "1.2.0",
      "model_name": "LayoutModel",
      "state": {}
     },
     "c82057ce68b149f3bfca3dffba1b2707": {
      "model_module": "@jupyter-widgets/base",
      "model_module_version": "1.2.0",
      "model_name": "LayoutModel",
      "state": {
       "align_items": "center",
       "border": "dotted black 1px",
       "height": "40px",
       "margin": "0px 0px 0px 10px"
      }
     },
     "c821f7b01265499aa3bc17762510e8ab": {
      "model_module": "@jupyter-widgets/controls",
      "model_module_version": "1.5.0",
      "model_name": "ButtonModel",
      "state": {
       "description": "Select",
       "layout": "IPY_MODEL_c136a9089d0d482281104803b77e23dc",
       "style": "IPY_MODEL_09bda4a8e02e4acc895ba021b20f386f"
      }
     },
     "c83adc8042d943ca83e4d51c1051ecec": {
      "model_module": "@jupyter-widgets/controls",
      "model_module_version": "1.5.0",
      "model_name": "CheckboxModel",
      "state": {
       "description": "Check to set",
       "disabled": false,
       "indent": false,
       "layout": "IPY_MODEL_0b5261b8d5c042808f3f7bd474236330",
       "style": "IPY_MODEL_7fd2e003b34243a58246b4201281ae36",
       "value": false
      }
     },
     "c89a1c94f0c2415e990e5cd9ee819a32": {
      "model_module": "@jupyter-widgets/controls",
      "model_module_version": "1.5.0",
      "model_name": "DescriptionStyleModel",
      "state": {
       "description_width": ""
      }
     },
     "c8a8aebf257d42f89fe4e91409c705c3": {
      "model_module": "@jupyter-widgets/controls",
      "model_module_version": "1.5.0",
      "model_name": "HBoxModel",
      "state": {
       "children": [
        "IPY_MODEL_1e2cbf54ecf84154a2c6b0a3fde91d30",
        "IPY_MODEL_cdaecd8b0b6742b090425711d986e02a",
        "IPY_MODEL_9aa9b81dca84471c9cb8da4466214c64"
       ],
       "layout": "IPY_MODEL_ea189f7819ec43a1b534d571b3eb16ab"
      }
     },
     "c8abada50750462ba33dd514cf82eae6": {
      "model_module": "@jupyter-widgets/base",
      "model_module_version": "1.2.0",
      "model_name": "LayoutModel",
      "state": {}
     },
     "c8c01ca8a36c4ddda9c1a3172e475329": {
      "model_module": "@jupyter-widgets/base",
      "model_module_version": "1.2.0",
      "model_name": "LayoutModel",
      "state": {}
     },
     "c8c34187c9fa4e2aa7bad989841a45bc": {
      "model_module": "@jupyter-widgets/controls",
      "model_module_version": "1.5.0",
      "model_name": "VBoxModel",
      "state": {
       "children": [
        "IPY_MODEL_f5895ce3fce04bd0bb57425cb8b5d1c7",
        "IPY_MODEL_498935d28b2f46ffa23bab49cfd29bce",
        "IPY_MODEL_822d0095c23b4ad19008b46931122b6a"
       ],
       "layout": "IPY_MODEL_35138705e8e94546beb1c43d153c0be5"
      }
     },
     "c8ef27b33f3c459aaa73aa1198a4bb68": {
      "model_module": "@jupyter-widgets/controls",
      "model_module_version": "1.5.0",
      "model_name": "HBoxModel",
      "state": {
       "children": [
        "IPY_MODEL_75998275979a4911afc7905cf6371a28",
        "IPY_MODEL_0accbf9d1f9745cc8ee635b50a8a15fe"
       ],
       "layout": "IPY_MODEL_115d3c16db344ead8ba84d6cd4e53638"
      }
     },
     "c906dcc872f745f5a0470b52ab3dd4e0": {
      "model_module": "@jupyter-widgets/base",
      "model_module_version": "1.2.0",
      "model_name": "LayoutModel",
      "state": {
       "border": "dotted black 1px",
       "justify_content": "space-between"
      }
     },
     "c930126b97384912b1ff6400435cca59": {
      "model_module": "@jupyter-widgets/controls",
      "model_module_version": "1.5.0",
      "model_name": "HBoxModel",
      "state": {
       "children": [
        "IPY_MODEL_3c8ec4967203489ca279c5e2d07ca0a5",
        "IPY_MODEL_7e553ce370ec4dddbcd99311b0c01a77"
       ],
       "layout": "IPY_MODEL_3cf6aed278f740f2be3b940fda81fd82"
      }
     },
     "c9570e9723fb4128b3dac1f292387f10": {
      "model_module": "@jupyter-widgets/base",
      "model_module_version": "1.2.0",
      "model_name": "LayoutModel",
      "state": {
       "margin": "10px 0px 0px 10px",
       "width": "50%"
      }
     },
     "c966c5de4f314ebeb114060787461fab": {
      "model_module": "@jupyter-widgets/controls",
      "model_module_version": "1.5.0",
      "model_name": "DescriptionStyleModel",
      "state": {
       "description_width": ""
      }
     },
     "c96f42d5d9e54f1c81a5642f74a35369": {
      "model_module": "@jupyter-widgets/base",
      "model_module_version": "1.2.0",
      "model_name": "LayoutModel",
      "state": {}
     },
     "c98587c693cc49f4a8a1744f236e1b21": {
      "model_module": "@jupyter-widgets/base",
      "model_module_version": "1.2.0",
      "model_name": "LayoutModel",
      "state": {}
     },
     "c98e91c166544272b23170e253709385": {
      "model_module": "@jupyter-widgets/base",
      "model_module_version": "1.2.0",
      "model_name": "LayoutModel",
      "state": {}
     },
     "c9c1b6c2045c45e7836436793bbaf802": {
      "model_module": "@jupyter-widgets/base",
      "model_module_version": "1.2.0",
      "model_name": "LayoutModel",
      "state": {
       "width": "100%"
      }
     },
     "c9d59ba046ec4df582fdfc3e7a62baa5": {
      "model_module": "@jupyter-widgets/controls",
      "model_module_version": "1.5.0",
      "model_name": "DescriptionStyleModel",
      "state": {
       "description_width": ""
      }
     },
     "c9ea62b78bd84bba9d7605edf5380266": {
      "model_module": "@jupyter-widgets/controls",
      "model_module_version": "1.5.0",
      "model_name": "BoxModel",
      "state": {
       "children": [
        "IPY_MODEL_9da9a07dc2134949bf29b2f985052132"
       ],
       "layout": "IPY_MODEL_a54080fbea4b42e090b03aafb7049dbc"
      }
     },
     "ca0a7565657f46f2919fd1043e953ca5": {
      "model_module": "@jupyter-widgets/controls",
      "model_module_version": "1.5.0",
      "model_name": "DescriptionStyleModel",
      "state": {
       "description_width": ""
      }
     },
     "ca2efcc6cc434815892127e952d91419": {
      "model_module": "@jupyter-widgets/controls",
      "model_module_version": "1.5.0",
      "model_name": "DescriptionStyleModel",
      "state": {
       "description_width": ""
      }
     },
     "ca5bbfbdd09b4faeacf10361a110ada3": {
      "model_module": "@jupyter-widgets/base",
      "model_module_version": "1.2.0",
      "model_name": "LayoutModel",
      "state": {
       "margin": "0px 0px 0px 10px"
      }
     },
     "ca604fa64ec84b2c91f970ccc1c2561b": {
      "model_module": "@jupyter-widgets/controls",
      "model_module_version": "1.5.0",
      "model_name": "DescriptionStyleModel",
      "state": {
       "description_width": ""
      }
     },
     "ca69db47ee2d4e02968510a1da369411": {
      "model_module": "@jupyter-widgets/controls",
      "model_module_version": "1.5.0",
      "model_name": "HBoxModel",
      "state": {
       "children": [
        "IPY_MODEL_8badedef3bf345e1b1fe00db35071bcd",
        "IPY_MODEL_cd63dfabdc3440c998cfbb2f0388a0df",
        "IPY_MODEL_07362d1b6b4847d092aa32289550fe2f"
       ],
       "layout": "IPY_MODEL_dbc3dc3f8f2a4fd681beef902d0e4500"
      }
     },
     "ca83311d579c4100a5bf20e12edae986": {
      "model_module": "@jupyter-widgets/base",
      "model_module_version": "1.2.0",
      "model_name": "LayoutModel",
      "state": {
       "width": "40%"
      }
     },
     "caade62628884ee7bb0277bb4bb5a836": {
      "model_module": "@jupyter-widgets/controls",
      "model_module_version": "1.5.0",
      "model_name": "HTMLModel",
      "state": {
       "layout": "IPY_MODEL_e405e8986eb24849b46905c206d7abad",
       "style": "IPY_MODEL_e2afd0238af04e72aa84ca77099581a8",
       "value": "<b>Wrapper parameters:</b>"
      }
     },
     "caef8e9d6bc74e9ca47be5bfdbd54674": {
      "model_module": "@jupyter-widgets/controls",
      "model_module_version": "1.5.0",
      "model_name": "CheckboxModel",
      "state": {
       "description": "Check to set",
       "disabled": false,
       "indent": false,
       "layout": "IPY_MODEL_34c749e003f6473b94aa1d22c276f3e1",
       "style": "IPY_MODEL_a6ced1f6d14142a3844a70a6f91a5fe7",
       "value": false
      }
     },
     "cb132cdbebc24bfe815cf4bf77f6033f": {
      "model_module": "@jupyter-widgets/base",
      "model_module_version": "1.2.0",
      "model_name": "LayoutModel",
      "state": {
       "margin": "0px 10px 0px 0px",
       "width": "60px"
      }
     },
     "cb29e3b9054f4fb0804093ea24de1525": {
      "model_module": "@jupyter-widgets/controls",
      "model_module_version": "1.5.0",
      "model_name": "HTMLModel",
      "state": {
       "layout": "IPY_MODEL_d2533c99057e438489a8ee0b30c4c4ea",
       "style": "IPY_MODEL_3becc0d86481428eaa47f1f4f27da668",
       "value": "<b> >>> </b>"
      }
     },
     "cb5868dbcabd48269175cf434d387dc1": {
      "model_module": "@jupyter-widgets/controls",
      "model_module_version": "1.5.0",
      "model_name": "DescriptionStyleModel",
      "state": {
       "description_width": ""
      }
     },
     "cb5ce975fe814877bac23c873deda5a6": {
      "model_module": "@jupyter-widgets/base",
      "model_module_version": "1.2.0",
      "model_name": "LayoutModel",
      "state": {
       "margin": "20px 0px 0px 0px",
       "width": "50%"
      }
     },
     "cb7224b00cd64ac2a68d9b34434c5bf8": {
      "model_module": "@jupyter-widgets/controls",
      "model_module_version": "1.5.0",
      "model_name": "HBoxModel",
      "state": {
       "children": [
        "IPY_MODEL_8ef474b4e9f0449b88a1691da764d06d",
        "IPY_MODEL_a046f67df2eb4965a9c42ebb496dd850",
        "IPY_MODEL_8fb37d72d9ed4a359daa2f24e77031ec"
       ],
       "layout": "IPY_MODEL_bf56e6bbef90434fb653a41edacda6bd"
      }
     },
     "cb775d44c0f74f65bb037fdda387230c": {
      "model_module": "@jupyter-widgets/controls",
      "model_module_version": "1.5.0",
      "model_name": "DescriptionStyleModel",
      "state": {
       "description_width": ""
      }
     },
     "cb8cbe392d4d4c3cacdfa175d4a51b84": {
      "model_module": "@jupyter-widgets/controls",
      "model_module_version": "1.5.0",
      "model_name": "ButtonStyleModel",
      "state": {
       "button_color": "lightblue"
      }
     },
     "cb8fda4d41f241c58732a2067343934c": {
      "model_module": "@jupyter-widgets/controls",
      "model_module_version": "1.5.0",
      "model_name": "VBoxModel",
      "state": {
       "children": [
        "IPY_MODEL_150ac82512e04ac3a0c0c57756ab179f"
       ],
       "layout": "IPY_MODEL_aa810c5cc6a044878c534d20853cddc7"
      }
     },
     "cba416cbcd8946da83aa891d5cb477e9": {
      "model_module": "@jupyter-widgets/controls",
      "model_module_version": "1.5.0",
      "model_name": "VBoxModel",
      "state": {
       "children": [
        "IPY_MODEL_f546b8648fb74a0cad335397f07b7e20",
        "IPY_MODEL_d6eed1eac17d4e6a9e6056c0a62cd45c",
        "IPY_MODEL_079cdcf70f814af2b959e994ad1fdab2"
       ],
       "layout": "IPY_MODEL_664d64b06e31440f9205288e98827114"
      }
     },
     "cba6c6b89fc34f9da40981cb86678174": {
      "model_module": "@jupyter-widgets/base",
      "model_module_version": "1.2.0",
      "model_name": "LayoutModel",
      "state": {
       "width": "100%"
      }
     },
     "cbac60455861478799ee3d2a871bbd96": {
      "model_module": "@jupyter-widgets/controls",
      "model_module_version": "1.5.0",
      "model_name": "ButtonStyleModel",
      "state": {
       "button_color": "lightblue"
      }
     },
     "cbb8e07de4e8487aaedfa7c584e4d22b": {
      "model_module": "@jupyter-widgets/base",
      "model_module_version": "1.2.0",
      "model_name": "LayoutModel",
      "state": {}
     },
     "cbca6b2d50ce4a33938b142b9904e25c": {
      "model_module": "@jupyter-widgets/controls",
      "model_module_version": "1.5.0",
      "model_name": "DescriptionStyleModel",
      "state": {
       "description_width": ""
      }
     },
     "cbe46864f2084696b68744e6b7318917": {
      "model_module": "@jupyter-widgets/base",
      "model_module_version": "1.2.0",
      "model_name": "LayoutModel",
      "state": {
       "align_content": "center",
       "justify_content": "center"
      }
     },
     "cbe7402877b94a579fda3edee7cec1bc": {
      "model_module": "@jupyter-widgets/controls",
      "model_module_version": "1.5.0",
      "model_name": "ButtonStyleModel",
      "state": {
       "button_color": "lightblue"
      }
     },
     "cc0ea5551b044f7da00c3e1f55082d5a": {
      "model_module": "@jupyter-widgets/controls",
      "model_module_version": "1.5.0",
      "model_name": "HBoxModel",
      "state": {
       "children": [
        "IPY_MODEL_ee90bcb43680475585c6279016853653",
        "IPY_MODEL_4db02616b6494e5f97c799901dbfd1fb",
        "IPY_MODEL_96f8447cc67347b8963111e9e69afb7a"
       ],
       "layout": "IPY_MODEL_fd31a3576cf84451a06c2fe7f73b4fbd"
      }
     },
     "cc1ed1b2f6b2442b8d13c8a543fa06a1": {
      "model_module": "@jupyter-widgets/base",
      "model_module_version": "1.2.0",
      "model_name": "LayoutModel",
      "state": {
       "align_items": "center",
       "border": "dotted black 1px",
       "height": "40px",
       "justify_content": "center"
      }
     },
     "cc1f0123afba40d495e7f2f7f5789c39": {
      "model_module": "@jupyter-widgets/controls",
      "model_module_version": "1.5.0",
      "model_name": "TextModel",
      "state": {
       "description": "Type:",
       "disabled": true,
       "layout": "IPY_MODEL_6957d1af8f714a8f9935a8126236af47",
       "style": "IPY_MODEL_35541792957b42bdbe56e6410a17ddfa"
      }
     },
     "cc26f4f11d2b4012826ba3bac190ee3d": {
      "model_module": "@jupyter-widgets/controls",
      "model_module_version": "1.5.0",
      "model_name": "ButtonModel",
      "state": {
       "description": "Select",
       "layout": "IPY_MODEL_b09bf7abca8246dbb7a12d3e027edbcd",
       "style": "IPY_MODEL_151b6bccfe2f44f0ad89fbeaf49a3ceb"
      }
     },
     "cc3687ca5d3c47dba13aa446ce1d2c17": {
      "model_module": "@jupyter-widgets/base",
      "model_module_version": "1.2.0",
      "model_name": "LayoutModel",
      "state": {
       "align_items": "center",
       "border": "dotted black 1px",
       "height": "40px",
       "justify_content": "center"
      }
     },
     "cc38377b35f247bd9c74132ecb9653e6": {
      "model_module": "@jupyter-widgets/controls",
      "model_module_version": "1.5.0",
      "model_name": "HBoxModel",
      "state": {
       "children": [
        "IPY_MODEL_289ea9882956431b9f6c73d09d9a7d03",
        "IPY_MODEL_35c82aa296794b0c99318be9fc05239f",
        "IPY_MODEL_d18c7c51c9b543768592f73de8330fde"
       ],
       "layout": "IPY_MODEL_46942e63e59d47b1bcbae6b76cedc4bb"
      }
     },
     "cc3e351742d64edda5f7cefafa9c7e07": {
      "model_module": "@jupyter-widgets/controls",
      "model_module_version": "1.5.0",
      "model_name": "DescriptionStyleModel",
      "state": {
       "description_width": ""
      }
     },
     "cc3f8be4de764761be8ab12f2126e234": {
      "model_module": "@jupyter-widgets/base",
      "model_module_version": "1.2.0",
      "model_name": "LayoutModel",
      "state": {
       "margin": "10px 0px 10px 0px"
      }
     },
     "cc46882bd0094265800d3efec85895c1": {
      "model_module": "@jupyter-widgets/controls",
      "model_module_version": "1.5.0",
      "model_name": "CheckboxModel",
      "state": {
       "description": "Check to set",
       "disabled": false,
       "indent": false,
       "layout": "IPY_MODEL_06f7a73e505d4cfb97d741e243f822b6",
       "style": "IPY_MODEL_0236217d2c674929874e279bd0589dc5",
       "value": true
      }
     },
     "cc532b1214b8482297ab22b66cda0897": {
      "model_module": "@jupyter-widgets/base",
      "model_module_version": "1.2.0",
      "model_name": "LayoutModel",
      "state": {}
     },
     "cc69892241474f48938e42e4c9ef9b11": {
      "model_module": "@jupyter-widgets/controls",
      "model_module_version": "1.5.0",
      "model_name": "CheckboxModel",
      "state": {
       "description": "Check to set",
       "disabled": false,
       "indent": false,
       "layout": "IPY_MODEL_967e210bf2ec4093a993b737d182372a",
       "style": "IPY_MODEL_816cdb2896b740b78577fc62924ec3c1",
       "value": false
      }
     },
     "cc83d62fbd434becb28baad13977cf9a": {
      "model_module": "@jupyter-widgets/base",
      "model_module_version": "1.2.0",
      "model_name": "LayoutModel",
      "state": {}
     },
     "cd0f6302409b43129a855c4a8b99f144": {
      "model_module": "@jupyter-widgets/controls",
      "model_module_version": "1.5.0",
      "model_name": "TextModel",
      "state": {
       "description": "names",
       "layout": "IPY_MODEL_3fe7d3d7c8d844d8ac357122cfb0e5f4",
       "placeholder": "[]",
       "style": "IPY_MODEL_dcbfb69686ef40f5a2eaab3593a4fbb8",
       "value": "None"
      }
     },
     "cd2dd373579f43ad808b3bd3dfc5be7f": {
      "model_module": "@jupyter-widgets/controls",
      "model_module_version": "1.5.0",
      "model_name": "HTMLModel",
      "state": {
       "layout": "IPY_MODEL_a439ab0609a84350a69898b34e9645ea",
       "style": "IPY_MODEL_02302c3c7aae4b17a14f4ca3e9753beb",
       "value": "<b>Documentation: </b>"
      }
     },
     "cd63dfabdc3440c998cfbb2f0388a0df": {
      "model_module": "@jupyter-widgets/controls",
      "model_module_version": "1.5.0",
      "model_name": "CheckboxModel",
      "state": {
       "description": "Check to set",
       "disabled": false,
       "indent": false,
       "layout": "IPY_MODEL_921cb6c61dda4cb6a3cb70ae105b0b67",
       "style": "IPY_MODEL_a057d2d3b3254daba636964b509ba300",
       "value": false
      }
     },
     "cd709de53ffc4775817e3acfbfd6fc68": {
      "model_module": "@jupyter-widgets/base",
      "model_module_version": "1.2.0",
      "model_name": "LayoutModel",
      "state": {
       "align_content": "center",
       "justify_content": "center"
      }
     },
     "cd8c2dca3e9a416aa4af88e6cfb54a10": {
      "model_module": "@jupyter-widgets/controls",
      "model_module_version": "1.5.0",
      "model_name": "DescriptionStyleModel",
      "state": {
       "description_width": ""
      }
     },
     "cd9ee47dc6c74f2aa0f691d0ed8532d5": {
      "model_module": "@jupyter-widgets/controls",
      "model_module_version": "1.5.0",
      "model_name": "ButtonStyleModel",
      "state": {
       "button_color": "lightblue"
      }
     },
     "cdaecd8b0b6742b090425711d986e02a": {
      "model_module": "@jupyter-widgets/controls",
      "model_module_version": "1.5.0",
      "model_name": "CheckboxModel",
      "state": {
       "description": "Check to set",
       "disabled": false,
       "indent": false,
       "layout": "IPY_MODEL_3382f6ec1c114fcabdcba480424be87e",
       "style": "IPY_MODEL_ca604fa64ec84b2c91f970ccc1c2561b",
       "value": false
      }
     },
     "cddd6037416640dd9621f7e03192c48c": {
      "model_module": "@jupyter-widgets/base",
      "model_module_version": "1.2.0",
      "model_name": "LayoutModel",
      "state": {
       "border": "dotted black 1px",
       "justify_content": "space-between"
      }
     },
     "cddeda96a045448190dac8bed741716e": {
      "model_module": "@jupyter-widgets/controls",
      "model_module_version": "1.5.0",
      "model_name": "DescriptionStyleModel",
      "state": {
       "description_width": ""
      }
     },
     "cdf657fc9766411ab447c37a8fc917f1": {
      "model_module": "@jupyter-widgets/base",
      "model_module_version": "1.2.0",
      "model_name": "LayoutModel",
      "state": {
       "align_items": "center",
       "justify_content": "space-between",
       "margin": "10px 0px 20px 0px"
      }
     },
     "cdfe93f3bc2d42be9358022dcf2db359": {
      "model_module": "@jupyter-widgets/controls",
      "model_module_version": "1.5.0",
      "model_name": "ButtonStyleModel",
      "state": {
       "button_color": "lightblue"
      }
     },
     "ce2599ae963c47068fb85cbe456530ab": {
      "model_module": "@jupyter-widgets/base",
      "model_module_version": "1.2.0",
      "model_name": "LayoutModel",
      "state": {
       "margin": "20px 0px 0px 0px",
       "width": "120px"
      }
     },
     "ce77ec04e4d9496b86a33112371112d1": {
      "model_module": "@jupyter-widgets/controls",
      "model_module_version": "1.5.0",
      "model_name": "TextModel",
      "state": {
       "description": "keys",
       "layout": "IPY_MODEL_9002960a80104603992ded53bd1d0971",
       "placeholder": "[]",
       "style": "IPY_MODEL_e370d88f2d9a49c9b41f1b907d50a253",
       "value": "None"
      }
     },
     "ce7a41f629be459fa5883d502ef28f0e": {
      "model_module": "@jupyter-widgets/controls",
      "model_module_version": "1.5.0",
      "model_name": "HBoxModel",
      "state": {
       "children": [
        "IPY_MODEL_c9ea62b78bd84bba9d7605edf5380266",
        "IPY_MODEL_78c42a545768467ea38d06aee2bcd230",
        "IPY_MODEL_66706741326444b48f3ba35f51e32053"
       ],
       "layout": "IPY_MODEL_d994870eb037451aa51aeab5ec9defd4"
      }
     },
     "cea03292377c4256a69b5c448cf07df2": {
      "model_module": "@jupyter-widgets/base",
      "model_module_version": "1.2.0",
      "model_name": "LayoutModel",
      "state": {
       "width": "40%"
      }
     },
     "cec1f6eca4104d6b83151cbdd43ad541": {
      "model_module": "@jupyter-widgets/controls",
      "model_module_version": "1.5.0",
      "model_name": "DescriptionStyleModel",
      "state": {
       "description_width": ""
      }
     },
     "ceeeac646acc4d08b5aac199f532bc95": {
      "model_module": "@jupyter-widgets/controls",
      "model_module_version": "1.5.0",
      "model_name": "ButtonModel",
      "state": {
       "description": "Remove pipe",
       "icon": "remove",
       "layout": "IPY_MODEL_449eb504a1484add9fa56ca916375937",
       "style": "IPY_MODEL_00ce8e48b84e4544b2b9f6280e6d528e"
      }
     },
     "cef15ee331d04007927aeef95b1795a1": {
      "model_module": "@jupyter-widgets/controls",
      "model_module_version": "1.5.0",
      "model_name": "ButtonStyleModel",
      "state": {
       "button_color": "lightblue"
      }
     },
     "cf202ec2c2ea4402b1f35bf241d13de0": {
      "model_module": "@jupyter-widgets/base",
      "model_module_version": "1.2.0",
      "model_name": "LayoutModel",
      "state": {
       "width": "140px"
      }
     },
     "cf3645b27dbc436982709444c16296dd": {
      "model_module": "@jupyter-widgets/controls",
      "model_module_version": "1.5.0",
      "model_name": "HTMLModel",
      "state": {
       "layout": "IPY_MODEL_7235112a8be44964a0f1e9e7eb4ef898",
       "style": "IPY_MODEL_6dc63b0544c14974b7d41dbe387114b7",
       "value": "<b>Documentation: </b>"
      }
     },
     "cf3ed3403d194f30a70a104e34a322fe": {
      "model_module": "@jupyter-widgets/controls",
      "model_module_version": "1.5.0",
      "model_name": "HTMLModel",
      "state": {
       "layout": "IPY_MODEL_8011d765667b47f59fae11207da5e97e",
       "style": "IPY_MODEL_00fadee9eb0b403c9cca53bdc8da9103",
       "value": "<b> >>> </b>"
      }
     },
     "cf7b26cdb9354d1f9cf2972e8e185824": {
      "model_module": "@jupyter-widgets/controls",
      "model_module_version": "1.5.0",
      "model_name": "HTMLModel",
      "state": {
       "layout": "IPY_MODEL_c31429be47c445379e09a7553f5096dc",
       "style": "IPY_MODEL_7c02d6a5a13043d596cad4098e2c8923",
       "value": "<b> <<< </b>"
      }
     },
     "cf857d12aea24c3f8cdfe5ca2f7b1ea0": {
      "model_module": "@jupyter-widgets/controls",
      "model_module_version": "1.5.0",
      "model_name": "DescriptionStyleModel",
      "state": {
       "description_width": ""
      }
     },
     "cfa39d354c6f4b29913c5974bcc99684": {
      "model_module": "@jupyter-widgets/controls",
      "model_module_version": "1.5.0",
      "model_name": "ButtonModel",
      "state": {
       "description": "Add",
       "layout": "IPY_MODEL_481072b8cb8842b4b6a8b4c5b47d27c8",
       "style": "IPY_MODEL_60a0e77827654b668c447ed345274368"
      }
     },
     "cfce5135c6b841f1b124e0893085e5bd": {
      "model_module": "@jupyter-widgets/controls",
      "model_module_version": "1.5.0",
      "model_name": "DescriptionStyleModel",
      "state": {
       "description_width": ""
      }
     },
     "cfced9905ab54f84960915fb1a9b820e": {
      "model_module": "@jupyter-widgets/base",
      "model_module_version": "1.2.0",
      "model_name": "LayoutModel",
      "state": {}
     },
     "cfdaacda75db4984912d68a0eb7c63c8": {
      "model_module": "@jupyter-widgets/controls",
      "model_module_version": "1.5.0",
      "model_name": "ButtonStyleModel",
      "state": {
       "button_color": "lightblue"
      }
     },
     "d017b1b37a9e49be8addeb7b929a0f7c": {
      "model_module": "@jupyter-widgets/controls",
      "model_module_version": "1.5.0",
      "model_name": "HBoxModel",
      "state": {
       "children": [
        "IPY_MODEL_d610a655371a4c05b93737ccabd23cf1",
        "IPY_MODEL_2a5e25fe666b493ba7cddbc3ec4cfc95",
        "IPY_MODEL_243c64554d484355a2338dad8baf4f73",
        "IPY_MODEL_cfa39d354c6f4b29913c5974bcc99684"
       ],
       "layout": "IPY_MODEL_f3048d15b51340ee812922115b96eeb5"
      }
     },
     "d01bd7a9609445deb50c8f59743f0d41": {
      "model_module": "@jupyter-widgets/base",
      "model_module_version": "1.2.0",
      "model_name": "LayoutModel",
      "state": {
       "margin": "20px 0px 0px 0px",
       "width": "50%"
      }
     },
     "d023ec483841489c8f92f318e99ed171": {
      "model_module": "@jupyter-widgets/controls",
      "model_module_version": "1.5.0",
      "model_name": "DescriptionStyleModel",
      "state": {
       "description_width": ""
      }
     },
     "d0462fc1bd1a49f48ad3777d670f94f0": {
      "model_module": "@jupyter-widgets/base",
      "model_module_version": "1.2.0",
      "model_name": "LayoutModel",
      "state": {}
     },
     "d0705bd3441848eda11306d173ba3448": {
      "model_module": "@jupyter-widgets/base",
      "model_module_version": "1.2.0",
      "model_name": "LayoutModel",
      "state": {
       "width": "140px"
      }
     },
     "d09e04b477454ee9845a9246faf0353c": {
      "model_module": "@jupyter-widgets/controls",
      "model_module_version": "1.5.0",
      "model_name": "VBoxModel",
      "state": {
       "children": [
        "IPY_MODEL_92167b0b759140abbbc49e93e79fb932",
        "IPY_MODEL_d190880e00c1420dad09648f70bb0ac1",
        "IPY_MODEL_063cd5d0f0fe4246838c2cc39d94f070"
       ],
       "layout": "IPY_MODEL_1ed0c260183f456f9737f0efa87483fb"
      }
     },
     "d0fbffd9eda14a32a01437643da4e926": {
      "model_module": "@jupyter-widgets/base",
      "model_module_version": "1.2.0",
      "model_name": "LayoutModel",
      "state": {
       "width": "40%"
      }
     },
     "d1079b230b174ff6a54377433d4d779f": {
      "model_module": "@jupyter-widgets/base",
      "model_module_version": "1.2.0",
      "model_name": "LayoutModel",
      "state": {
       "margin": "10px 0px 10px 0px",
       "width": "50%"
      }
     },
     "d10c1fc971294dc5be823a60889fd628": {
      "model_module": "@jupyter-widgets/controls",
      "model_module_version": "1.5.0",
      "model_name": "ButtonModel",
      "state": {
       "description": "Remove block",
       "layout": "IPY_MODEL_d877f110fe2c4c17bfce5f70ef7d7074",
       "style": "IPY_MODEL_ea5c5920e4ab4a00a4cd3ff19c7f5599"
      }
     },
     "d11e97a6fc18414cabcc1cb1f33ca466": {
      "model_module": "@jupyter-widgets/controls",
      "model_module_version": "1.5.0",
      "model_name": "DescriptionStyleModel",
      "state": {
       "description_width": ""
      }
     },
     "d1410d4a7d5143dbb9b8ee0908983e59": {
      "model_module": "@jupyter-widgets/base",
      "model_module_version": "1.2.0",
      "model_name": "LayoutModel",
      "state": {
       "width": "40%"
      }
     },
     "d14b3e62e48f409cbcfe193d7d5e8a69": {
      "model_module": "@jupyter-widgets/controls",
      "model_module_version": "1.5.0",
      "model_name": "DropdownModel",
      "state": {
       "_options_labels": [
        "chemml"
       ],
       "description": "Host:",
       "index": 0,
       "layout": "IPY_MODEL_9333104fa44849bb9458e01588d86e9f",
       "style": "IPY_MODEL_04dd94366f8948248b18108f4303724b"
      }
     },
     "d14b9da91e33470d853fba74ba8aaba5": {
      "model_module": "@jupyter-widgets/controls",
      "model_module_version": "1.5.0",
      "model_name": "ButtonStyleModel",
      "state": {}
     },
     "d167b0be11c34852ac0c313bfb1e9c7c": {
      "model_module": "@jupyter-widgets/controls",
      "model_module_version": "1.5.0",
      "model_name": "ButtonModel",
      "state": {
       "icon": "refresh",
       "layout": "IPY_MODEL_e0203e4504624d9fbd801d41d2a5f606",
       "style": "IPY_MODEL_bc7d10ae51894f949a7f03601e2bc4fb"
      }
     },
     "d17276852b0b47a286d38a84166561e3": {
      "model_module": "@jupyter-widgets/controls",
      "model_module_version": "1.5.0",
      "model_name": "DescriptionStyleModel",
      "state": {
       "description_width": ""
      }
     },
     "d172c2d6d8ca4781b519c6124dabbf7a": {
      "model_module": "@jupyter-widgets/controls",
      "model_module_version": "1.5.0",
      "model_name": "HTMLModel",
      "state": {
       "layout": "IPY_MODEL_fc601d911f854814b139bf7b63249b85",
       "style": "IPY_MODEL_9474965312e54b359c78f9a136ba2580",
       "value": "<b> Send >>> </b>"
      }
     },
     "d172da2ed3a1484f8e4da6ab35e01313": {
      "model_module": "@jupyter-widgets/controls",
      "model_module_version": "1.5.0",
      "model_name": "HBoxModel",
      "state": {
       "children": [
        "IPY_MODEL_70e7d52e22cd4fdab725aba8338775b1",
        "IPY_MODEL_5d71646d9b2d4394afcfacf87d068c92"
       ],
       "layout": "IPY_MODEL_3945aa2d544c427698a04c7805e61b4f"
      }
     },
     "d1869321d72e4ef3aa97aa785031f8da": {
      "model_module": "@jupyter-widgets/controls",
      "model_module_version": "1.5.0",
      "model_name": "HBoxModel",
      "state": {
       "children": [
        "IPY_MODEL_97119e8082f04b52b4af09b9a349addd",
        "IPY_MODEL_55e7456c1a7644df8e7409691071af17"
       ],
       "layout": "IPY_MODEL_0d922e5743864b6fb4adc92da464e019"
      }
     },
     "d18c7c51c9b543768592f73de8330fde": {
      "model_module": "@jupyter-widgets/controls",
      "model_module_version": "1.5.0",
      "model_name": "TextModel",
      "state": {
       "description": "Type:",
       "disabled": true,
       "layout": "IPY_MODEL_a41cd108b55341eb9be8c5d3cabb5857",
       "style": "IPY_MODEL_e2a92d58a7724096bf53beac418af5c6"
      }
     },
     "d190880e00c1420dad09648f70bb0ac1": {
      "model_module": "@jupyter-widgets/controls",
      "model_module_version": "1.5.0",
      "model_name": "VBoxModel",
      "state": {
       "children": [
        "IPY_MODEL_6c025df8082f456b90e92beac710cbc1"
       ],
       "layout": "IPY_MODEL_294bbd7275224d0c9bdafad2cf57b139"
      }
     },
     "d197826ed8124118ada4cdde2b66b2d5": {
      "model_module": "@jupyter-widgets/controls",
      "model_module_version": "1.5.0",
      "model_name": "ButtonStyleModel",
      "state": {
       "button_color": "lightblue"
      }
     },
     "d1b32c473f154847adb9e9b47b4948d7": {
      "model_module": "@jupyter-widgets/base",
      "model_module_version": "1.2.0",
      "model_name": "LayoutModel",
      "state": {}
     },
     "d1e344d3f5d04551811c6e667ec471fe": {
      "model_module": "@jupyter-widgets/controls",
      "model_module_version": "1.5.0",
      "model_name": "VBoxModel",
      "state": {
       "children": [
        "IPY_MODEL_443ab143a0ae4bbb83032fcac1f655c5",
        "IPY_MODEL_ec420e5c068948d0ad2dffbc069a4640",
        "IPY_MODEL_2994b9e1cbce470dab4545625350c2ac",
        "IPY_MODEL_749e61094d4d425ca40ad042b4dc9253",
        "IPY_MODEL_c7807506a5654c1883b58988e0226e9d"
       ],
       "layout": "IPY_MODEL_cbe46864f2084696b68744e6b7318917"
      }
     },
     "d1fef424dea249cd8c4ac60c04e7fe2a": {
      "model_module": "@jupyter-widgets/controls",
      "model_module_version": "1.5.0",
      "model_name": "ButtonStyleModel",
      "state": {
       "button_color": "lightblue"
      }
     },
     "d2175cc9bf87432c923dd34609a7e700": {
      "model_module": "@jupyter-widgets/controls",
      "model_module_version": "1.5.0",
      "model_name": "DescriptionStyleModel",
      "state": {
       "description_width": ""
      }
     },
     "d236e199bcd94a549454382be1e7925d": {
      "model_module": "@jupyter-widgets/controls",
      "model_module_version": "1.5.0",
      "model_name": "ButtonModel",
      "state": {
       "description": "Select",
       "layout": "IPY_MODEL_0b39de0ce63048feb59717710857d454",
       "style": "IPY_MODEL_d56502f517724ce1b0181a48e31aaf93"
      }
     },
     "d23c2b8c500449a7810f02f26e608f6c": {
      "model_module": "@jupyter-widgets/base",
      "model_module_version": "1.2.0",
      "model_name": "LayoutModel",
      "state": {
       "margin": "20px 0px 0px 10px"
      }
     },
     "d2533c99057e438489a8ee0b30c4c4ea": {
      "model_module": "@jupyter-widgets/base",
      "model_module_version": "1.2.0",
      "model_name": "LayoutModel",
      "state": {}
     },
     "d25641a7fb0a47e2bed41710e296bbfd": {
      "model_module": "@jupyter-widgets/base",
      "model_module_version": "1.2.0",
      "model_name": "LayoutModel",
      "state": {
       "margin": "20px 0px 0px 0px",
       "width": "50%"
      }
     },
     "d264eb20400448a0988df8646f0577b8": {
      "model_module": "@jupyter-widgets/controls",
      "model_module_version": "1.5.0",
      "model_name": "ButtonStyleModel",
      "state": {
       "button_color": "lightblue"
      }
     },
     "d272eb443f2540ae83774aac8ab09cc0": {
      "model_module": "@jupyter-widgets/controls",
      "model_module_version": "1.5.0",
      "model_name": "ButtonModel",
      "state": {
       "description": "Add",
       "layout": "IPY_MODEL_6ebeacfcb8004ef3b453fd1378310802",
       "style": "IPY_MODEL_d197826ed8124118ada4cdde2b66b2d5"
      }
     },
     "d2776255c28b43ffb5eeaed43f8143d0": {
      "model_module": "@jupyter-widgets/controls",
      "model_module_version": "1.5.0",
      "model_name": "VBoxModel",
      "state": {
       "children": [
        "IPY_MODEL_7339132b19a04506bc4b9586dae0f6f7"
       ],
       "layout": "IPY_MODEL_0a66072e864a419698bb5639997005d5"
      }
     },
     "d27a69f2724042b88ef25aca34ef0cf7": {
      "model_module": "@jupyter-widgets/controls",
      "model_module_version": "1.5.0",
      "model_name": "VBoxModel",
      "state": {
       "children": [
        "IPY_MODEL_4c11169535894cd496ce731fad674575",
        "IPY_MODEL_16ed70ff47f34d44b7aea3e1c060a5d3",
        "IPY_MODEL_c62697e4663f4994bf99629507c83889"
       ],
       "layout": "IPY_MODEL_19f470e90b634b368dc57c52b93ecb38"
      }
     },
     "d27ef4f7cf83497c88ec60362531a9cd": {
      "model_module": "@jupyter-widgets/base",
      "model_module_version": "1.2.0",
      "model_name": "LayoutModel",
      "state": {
       "margin": "10px 0px 10px 180px",
       "width": "110px"
      }
     },
     "d2dbddaa5a004dd98f095856c9f7f414": {
      "model_module": "@jupyter-widgets/controls",
      "model_module_version": "1.5.0",
      "model_name": "ButtonStyleModel",
      "state": {}
     },
     "d30b6615f9cd461fb5545f7c200e6f88": {
      "model_module": "@jupyter-widgets/controls",
      "model_module_version": "1.5.0",
      "model_name": "ButtonModel",
      "state": {
       "description": "Default values",
       "layout": "IPY_MODEL_ed75aa1b08cf4a04a8c02a20dec4eab7",
       "style": "IPY_MODEL_bea5e3d77f5942699ca1091ba758641b"
      }
     },
     "d32c2bc9760640d4953e5f1190be86d5": {
      "model_module": "@jupyter-widgets/base",
      "model_module_version": "1.2.0",
      "model_name": "LayoutModel",
      "state": {
       "align_content": "center",
       "justify_content": "center"
      }
     },
     "d36570ffd14e4634adff52c8034f9a34": {
      "model_module": "@jupyter-widgets/base",
      "model_module_version": "1.2.0",
      "model_name": "LayoutModel",
      "state": {}
     },
     "d36c7490fe0a4dbb94f57ba82631be3e": {
      "model_module": "@jupyter-widgets/base",
      "model_module_version": "1.2.0",
      "model_name": "LayoutModel",
      "state": {}
     },
     "d3848b9c24fb47d2ad950c18e0558339": {
      "model_module": "@jupyter-widgets/controls",
      "model_module_version": "1.5.0",
      "model_name": "DescriptionStyleModel",
      "state": {
       "description_width": ""
      }
     },
     "d3987515563043ec8c677455169b3b14": {
      "model_module": "@jupyter-widgets/base",
      "model_module_version": "1.2.0",
      "model_name": "LayoutModel",
      "state": {
       "width": "50%"
      }
     },
     "d3a43203c7dd4beb93050700879548be": {
      "model_module": "@jupyter-widgets/base",
      "model_module_version": "1.2.0",
      "model_name": "LayoutModel",
      "state": {
       "margin": "0px 10px 0px 0px",
       "width": "60px"
      }
     },
     "d3f158e52e164fd5b33684fa2f9fd7fb": {
      "model_module": "@jupyter-widgets/controls",
      "model_module_version": "1.5.0",
      "model_name": "CheckboxModel",
      "state": {
       "description": "Check to set",
       "disabled": false,
       "indent": false,
       "layout": "IPY_MODEL_843d1f163a454acc81ff7d90f5595a0c",
       "style": "IPY_MODEL_972c93fc332543d8bd6e4131a93c6d3d",
       "value": false
      }
     },
     "d401a30b945a4fa7841bbe77f7e44ba6": {
      "model_module": "@jupyter-widgets/controls",
      "model_module_version": "1.5.0",
      "model_name": "TextModel",
      "state": {
       "description": "line03",
       "layout": "IPY_MODEL_db6929b27cce49cfadb387fd8c1b7cb6",
       "placeholder": "[]",
       "style": "IPY_MODEL_2321e1fa14154afa9c375093459af359",
       "value": "... python variables"
      }
     },
     "d402ca81f616496b86b84d9ee1218fff": {
      "model_module": "@jupyter-widgets/base",
      "model_module_version": "1.2.0",
      "model_name": "LayoutModel",
      "state": {}
     },
     "d419595c9f394a75940d9a0d713405f8": {
      "model_module": "@jupyter-widgets/base",
      "model_module_version": "1.2.0",
      "model_name": "LayoutModel",
      "state": {}
     },
     "d4464dd09ade4aa29ab4474fa180d89b": {
      "model_module": "@jupyter-widgets/base",
      "model_module_version": "1.2.0",
      "model_name": "LayoutModel",
      "state": {
       "align_items": "center",
       "border": "dotted black 1px",
       "height": "40px",
       "margin": "0px 0px 0px 10px"
      }
     },
     "d447bf06235b48f8817fcd3432f21e92": {
      "model_module": "@jupyter-widgets/base",
      "model_module_version": "1.2.0",
      "model_name": "LayoutModel",
      "state": {}
     },
     "d487aaed217c4ff8b8198e621a30ee4e": {
      "model_module": "@jupyter-widgets/controls",
      "model_module_version": "1.5.0",
      "model_name": "HBoxModel",
      "state": {
       "children": [
        "IPY_MODEL_80c9d399af704842a98c54b805d570bc",
        "IPY_MODEL_72b321647a444756b125d143019a81ea",
        "IPY_MODEL_fc94570b04dc4931a2fcd67a2a07bf5b",
        "IPY_MODEL_d272eb443f2540ae83774aac8ab09cc0"
       ],
       "layout": "IPY_MODEL_03b3d6a6b75a41c7a9636cc4ce3c6373"
      }
     },
     "d48bad4911874df1b780a4aec3c1d71b": {
      "model_module": "@jupyter-widgets/controls",
      "model_module_version": "1.5.0",
      "model_name": "DescriptionStyleModel",
      "state": {
       "description_width": "initial"
      }
     },
     "d498e3bea2c746398eb54c72c250482d": {
      "model_module": "@jupyter-widgets/controls",
      "model_module_version": "1.5.0",
      "model_name": "ButtonStyleModel",
      "state": {
       "button_color": "lightblue"
      }
     },
     "d4cad9b80f324be1b238899cace09650": {
      "model_module": "@jupyter-widgets/base",
      "model_module_version": "1.2.0",
      "model_name": "LayoutModel",
      "state": {}
     },
     "d4d8751d2ab3461da66a4e0bfa456a5d": {
      "model_module": "@jupyter-widgets/controls",
      "model_module_version": "1.5.0",
      "model_name": "VBoxModel",
      "state": {
       "children": [
        "IPY_MODEL_1adcf90d5cb340e6a319a37821e6c8d8"
       ],
       "layout": "IPY_MODEL_1ea26e11a44c46e884b319a967de5e4e"
      }
     },
     "d4f1614ebc624c0a873504dcf71d9735": {
      "model_module": "@jupyter-widgets/controls",
      "model_module_version": "1.5.0",
      "model_name": "TextModel",
      "state": {
       "description": "Type:",
       "disabled": true,
       "layout": "IPY_MODEL_8a7fbb13eba042b0bd669e862ef162cf",
       "style": "IPY_MODEL_e33d3a0963a24c219db96d506c58331f"
      }
     },
     "d4f248f427274008bfc2002ce9030ddf": {
      "model_module": "@jupyter-widgets/base",
      "model_module_version": "1.2.0",
      "model_name": "LayoutModel",
      "state": {
       "margin": "40px 0px 0px 10px",
       "width": "120px"
      }
     },
     "d4f7bc9e337343239e76c0903c94ecf4": {
      "model_module": "@jupyter-widgets/controls",
      "model_module_version": "1.5.0",
      "model_name": "DescriptionStyleModel",
      "state": {
       "description_width": ""
      }
     },
     "d50ae9da40764daca4eea84477717987": {
      "model_module": "@jupyter-widgets/controls",
      "model_module_version": "1.5.0",
      "model_name": "DescriptionStyleModel",
      "state": {
       "description_width": ""
      }
     },
     "d50b3d3adb1d47ac9bd13d4cf5d7d870": {
      "model_module": "@jupyter-widgets/controls",
      "model_module_version": "1.5.0",
      "model_name": "DescriptionStyleModel",
      "state": {
       "description_width": "initial"
      }
     },
     "d53783a7e2f64335bf4d7df882fc7ed9": {
      "model_module": "@jupyter-widgets/base",
      "model_module_version": "1.2.0",
      "model_name": "LayoutModel",
      "state": {}
     },
     "d53d69f422bc44adb7c80054e7bb2d70": {
      "model_module": "@jupyter-widgets/controls",
      "model_module_version": "1.5.0",
      "model_name": "HBoxModel",
      "state": {
       "children": [
        "IPY_MODEL_3f52f1477f574618a427778a0ceebad2"
       ],
       "layout": "IPY_MODEL_148b690db2444bc8b5a2375c1d6e0055"
      }
     },
     "d56502f517724ce1b0181a48e31aaf93": {
      "model_module": "@jupyter-widgets/controls",
      "model_module_version": "1.5.0",
      "model_name": "ButtonStyleModel",
      "state": {
       "button_color": "lightblue"
      }
     },
     "d5c68632f44e42cb944a68cf312b41f1": {
      "model_module": "@jupyter-widgets/base",
      "model_module_version": "1.2.0",
      "model_name": "LayoutModel",
      "state": {
       "width": "100%"
      }
     },
     "d5d1392d108f4667b4481b385dc0b268": {
      "model_module": "@jupyter-widgets/controls",
      "model_module_version": "1.5.0",
      "model_name": "DescriptionStyleModel",
      "state": {
       "description_width": ""
      }
     },
     "d5de9ea61d494f3cb0d9137dba9c55e2": {
      "model_module": "@jupyter-widgets/controls",
      "model_module_version": "1.5.0",
      "model_name": "DescriptionStyleModel",
      "state": {
       "description_width": ""
      }
     },
     "d5f57f77ba0040caad9f3525770da2c7": {
      "model_module": "@jupyter-widgets/controls",
      "model_module_version": "1.5.0",
      "model_name": "DropdownModel",
      "state": {
       "_options_labels": [
        "2",
        "3",
        "4",
        "5",
        "7"
       ],
       "description": "block#:",
       "index": 0,
       "layout": "IPY_MODEL_d0705bd3441848eda11306d173ba3448",
       "style": "IPY_MODEL_fc4ba298867b4ab8b5f335989bd9ebcf"
      }
     },
     "d610a655371a4c05b93737ccabd23cf1": {
      "model_module": "@jupyter-widgets/controls",
      "model_module_version": "1.5.0",
      "model_name": "HBoxModel",
      "state": {
       "children": [
        "IPY_MODEL_38c454408e1e454caa87dfbc3b737b34"
       ],
       "layout": "IPY_MODEL_7624bfaa247e42578b3e6e8a57acda1d"
      }
     },
     "d6572b656d9f451081bf0b310d424009": {
      "model_module": "@jupyter-widgets/controls",
      "model_module_version": "1.5.0",
      "model_name": "DescriptionStyleModel",
      "state": {
       "description_width": ""
      }
     },
     "d69915468cbb4ab9b0cfca3cb6ca66a6": {
      "model_module": "@jupyter-widgets/base",
      "model_module_version": "1.2.0",
      "model_name": "LayoutModel",
      "state": {
       "align_items": "center",
       "justify_content": "space-between",
       "margin": "10px 0px 20px 0px"
      }
     },
     "d6a5442929084a21bf2eec0d99f1c64b": {
      "model_module": "@jupyter-widgets/controls",
      "model_module_version": "1.5.0",
      "model_name": "TextModel",
      "state": {
       "description": "Type:",
       "disabled": true,
       "layout": "IPY_MODEL_f5ca39037a4c43db8be8fdea43b6f4bc",
       "style": "IPY_MODEL_d8374babdba34cdc8f3d4a233ee45b98"
      }
     },
     "d6e9e62ddf4a4547ae6c7c79177ae2aa": {
      "model_module": "@jupyter-widgets/base",
      "model_module_version": "1.2.0",
      "model_name": "LayoutModel",
      "state": {
       "width": "140px"
      }
     },
     "d6eed1eac17d4e6a9e6056c0a62cd45c": {
      "model_module": "@jupyter-widgets/controls",
      "model_module_version": "1.5.0",
      "model_name": "VBoxModel",
      "state": {
       "children": [
        "IPY_MODEL_75855148a1124eb48c47cecabad63bb4"
       ],
       "layout": "IPY_MODEL_3bc241838f694809b655f4098680e457"
      }
     },
     "d740431b4314496b9a2898ad001e4216": {
      "model_module": "@jupyter-widgets/base",
      "model_module_version": "1.2.0",
      "model_name": "LayoutModel",
      "state": {
       "border": "dotted black 1px",
       "justify_content": "space-between"
      }
     },
     "d75b25d2d4d24cab829876d1ce9fcc59": {
      "model_module": "@jupyter-widgets/base",
      "model_module_version": "1.2.0",
      "model_name": "LayoutModel",
      "state": {
       "border": "dotted black 1px",
       "justify_content": "space-between"
      }
     },
     "d75e4a2628f04a55b9b268e783447fc4": {
      "model_module": "@jupyter-widgets/controls",
      "model_module_version": "1.5.0",
      "model_name": "DescriptionStyleModel",
      "state": {
       "description_width": "initial"
      }
     },
     "d77ba4950a4f4310af19b49e73dd9042": {
      "model_module": "@jupyter-widgets/controls",
      "model_module_version": "1.5.0",
      "model_name": "ButtonStyleModel",
      "state": {}
     },
     "d78fc32e456242408604f1f0e22da95b": {
      "model_module": "@jupyter-widgets/base",
      "model_module_version": "1.2.0",
      "model_name": "LayoutModel",
      "state": {
       "margin": "0px 0px 0px 10px"
      }
     },
     "d794f2adb8804987ba66917b1d65006d": {
      "model_module": "@jupyter-widgets/base",
      "model_module_version": "1.2.0",
      "model_name": "LayoutModel",
      "state": {
       "align_items": "center",
       "justify_content": "center",
       "margin": "10px 0px 0px 0px"
      }
     },
     "d79c65ad39074c0cafa14e52e95ef5eb": {
      "model_module": "@jupyter-widgets/controls",
      "model_module_version": "1.5.0",
      "model_name": "DescriptionStyleModel",
      "state": {
       "description_width": ""
      }
     },
     "d7b15a3fb4a847109d87cb6a89c5fbba": {
      "model_module": "@jupyter-widgets/controls",
      "model_module_version": "1.5.0",
      "model_name": "DescriptionStyleModel",
      "state": {
       "description_width": ""
      }
     },
     "d7bc800f746a4ed89861340d60f072d2": {
      "model_module": "@jupyter-widgets/base",
      "model_module_version": "1.2.0",
      "model_name": "LayoutModel",
      "state": {
       "margin": "0px 0px 0px 10px"
      }
     },
     "d7d4c8bc50b44737a6fa6875f2bd9c60": {
      "model_module": "@jupyter-widgets/controls",
      "model_module_version": "1.5.0",
      "model_name": "TabModel",
      "state": {
       "_titles": {
        "0": "Parameters",
        "1": "Input/Output"
       },
       "children": [
        "IPY_MODEL_57f15a4019a5497485fdc928cb0c45d1",
        "IPY_MODEL_5ad1332dca69416f9fc7fadd4d9412d4"
       ],
       "layout": "IPY_MODEL_0c43d7f8f9d44b9f9f205ba76761cae0"
      }
     },
     "d7e38e15b77b4243bc026a0f3606f0ee": {
      "model_module": "@jupyter-widgets/base",
      "model_module_version": "1.2.0",
      "model_name": "LayoutModel",
      "state": {
       "align_items": "center",
       "border": "dotted black 1px",
       "height": "40px",
       "margin": "0px 0px 0px 10px"
      }
     },
     "d7ec06771ad24723b56b41ee19c05984": {
      "model_module": "@jupyter-widgets/controls",
      "model_module_version": "1.5.0",
      "model_name": "DescriptionStyleModel",
      "state": {
       "description_width": "initial"
      }
     },
     "d81c961638ed40e28673f8d9ef08f224": {
      "model_module": "@jupyter-widgets/base",
      "model_module_version": "1.2.0",
      "model_name": "LayoutModel",
      "state": {
       "margin": "20px 0px 0px 0px",
       "width": "50%"
      }
     },
     "d81fbd47e26f4d29b427bd3ec4aaf063": {
      "model_module": "@jupyter-widgets/base",
      "model_module_version": "1.2.0",
      "model_name": "LayoutModel",
      "state": {
       "margin": "10px 0px 10px 400px"
      }
     },
     "d8374babdba34cdc8f3d4a233ee45b98": {
      "model_module": "@jupyter-widgets/controls",
      "model_module_version": "1.5.0",
      "model_name": "DescriptionStyleModel",
      "state": {
       "description_width": ""
      }
     },
     "d8416af679f74f82afa400695b4f7acb": {
      "model_module": "@jupyter-widgets/base",
      "model_module_version": "1.2.0",
      "model_name": "LayoutModel",
      "state": {
       "align_items": "center",
       "border": "dotted black 1px",
       "height": "40px",
       "margin": "0px 0px 0px 10px"
      }
     },
     "d848af90e4204d25892cbfd97e3b026a": {
      "model_module": "@jupyter-widgets/base",
      "model_module_version": "1.2.0",
      "model_name": "LayoutModel",
      "state": {
       "align_items": "center",
       "border": "dotted black 1px",
       "height": "40px",
       "margin": "0px 0px 0px 10px"
      }
     },
     "d865113ab1b94cfd80776cf16fa6fde4": {
      "model_module": "@jupyter-widgets/controls",
      "model_module_version": "1.5.0",
      "model_name": "HTMLModel",
      "state": {
       "layout": "IPY_MODEL_72be07cf90864346b3945ab768a4e049",
       "style": "IPY_MODEL_77a2dd4ae1704028bf7fdd345bf8ed0d",
       "value": "<b>Requirements:  </b>(('ChemML', '0.6'), ('pandas', '1.1.3'))"
      }
     },
     "d877f110fe2c4c17bfce5f70ef7d7074": {
      "model_module": "@jupyter-widgets/base",
      "model_module_version": "1.2.0",
      "model_name": "LayoutModel",
      "state": {
       "margin": "10px 0px 10px 400px"
      }
     },
     "d878022d4fda47b8a5b4c040b52c0dfb": {
      "model_module": "@jupyter-widgets/base",
      "model_module_version": "1.2.0",
      "model_name": "LayoutModel",
      "state": {
       "margin": "10px 0px 0px 10px",
       "width": "50%"
      }
     },
     "d905901feb3745ddbc591a1b3829ebe8": {
      "model_module": "@jupyter-widgets/controls",
      "model_module_version": "1.5.0",
      "model_name": "ButtonModel",
      "state": {
       "description": "Default values",
       "layout": "IPY_MODEL_234e166c75a546eda27ad02d69908c0c",
       "style": "IPY_MODEL_69c8b64ae78a442e9378c771df4bd5d0"
      }
     },
     "d91df97b612c4831b3d9c9024171e814": {
      "model_module": "@jupyter-widgets/base",
      "model_module_version": "1.2.0",
      "model_name": "LayoutModel",
      "state": {}
     },
     "d972cf3e2c064c6bad569e6a9d678b5a": {
      "model_module": "@jupyter-widgets/controls",
      "model_module_version": "1.5.0",
      "model_name": "ButtonStyleModel",
      "state": {}
     },
     "d994870eb037451aa51aeab5ec9defd4": {
      "model_module": "@jupyter-widgets/base",
      "model_module_version": "1.2.0",
      "model_name": "LayoutModel",
      "state": {}
     },
     "d99a327e41aa4cbca8f0064788cf3a5e": {
      "model_module": "@jupyter-widgets/controls",
      "model_module_version": "1.5.0",
      "model_name": "HBoxModel",
      "state": {
       "children": [
        "IPY_MODEL_ea96d53cdc1d41f99765b4a3b1f669f1",
        "IPY_MODEL_e37d7cd4befe42ab9d7a70ab52d7afe1"
       ],
       "layout": "IPY_MODEL_44c0a3ec38284a61b10c73e255419754"
      }
     },
     "d99e84ebaf9a4baf9bf2bde98f101c71": {
      "model_module": "@jupyter-widgets/controls",
      "model_module_version": "1.5.0",
      "model_name": "DescriptionStyleModel",
      "state": {
       "description_width": ""
      }
     },
     "d9adf98bb77c4f979f610e626dbe50be": {
      "model_module": "@jupyter-widgets/base",
      "model_module_version": "1.2.0",
      "model_name": "LayoutModel",
      "state": {
       "margin": "10px 0px 10px 400px"
      }
     },
     "d9d5ac9cf5ef4f65924db517175e8260": {
      "model_module": "@jupyter-widgets/base",
      "model_module_version": "1.2.0",
      "model_name": "LayoutModel",
      "state": {
       "margin": "10px 0px 0px 10px",
       "width": "50%"
      }
     },
     "d9d6a15ca15d465b97d8a780e83f7633": {
      "model_module": "@jupyter-widgets/controls",
      "model_module_version": "1.5.0",
      "model_name": "VBoxModel",
      "state": {
       "children": [
        "IPY_MODEL_8297e344f38d457e80d75fdfc0bd29df",
        "IPY_MODEL_af44279823cf4deba54cb43598b326b2",
        "IPY_MODEL_175db156f57845b2b1031522ec9ce97c"
       ],
       "layout": "IPY_MODEL_ddb556f45901451a82ea4b84a0aa7ff0"
      }
     },
     "d9d8b83374c1443da4fbe3f13f6f4a7d": {
      "model_module": "@jupyter-widgets/base",
      "model_module_version": "1.2.0",
      "model_name": "LayoutModel",
      "state": {}
     },
     "d9f78ade007b4384b5d2c9c434e25d8b": {
      "model_module": "@jupyter-widgets/controls",
      "model_module_version": "1.5.0",
      "model_name": "DescriptionStyleModel",
      "state": {
       "description_width": ""
      }
     },
     "da13bfa7a0d04b139cbe4848697601e5": {
      "model_module": "@jupyter-widgets/base",
      "model_module_version": "1.2.0",
      "model_name": "LayoutModel",
      "state": {
       "margin": "10px 0px 0px 0px",
       "width": "120px"
      }
     },
     "da6066eefa9b46999118398130f3646d": {
      "model_module": "@jupyter-widgets/controls",
      "model_module_version": "1.5.0",
      "model_name": "VBoxModel",
      "state": {
       "children": [
        "IPY_MODEL_7e54dc010e044b08b14414f947a928d8",
        "IPY_MODEL_2ab328c394574d22969fb0d7dcbbacbe",
        "IPY_MODEL_3d73f94404254e3ead724e3f55abe4aa"
       ],
       "layout": "IPY_MODEL_68614d5340a043f1b825fd8633f0b8b3"
      }
     },
     "da6fcc5f53944d299a3eefee19c53518": {
      "model_module": "@jupyter-widgets/controls",
      "model_module_version": "1.5.0",
      "model_name": "ButtonModel",
      "state": {
       "icon": "refresh",
       "layout": "IPY_MODEL_450ebbb36848458ab8e6675f590893bb",
       "style": "IPY_MODEL_5097dcaa823840c9994e4ad84bdfcb5c"
      }
     },
     "da78d4e459c44b828547547526d10188": {
      "model_module": "@jupyter-widgets/controls",
      "model_module_version": "1.5.0",
      "model_name": "TextModel",
      "state": {
       "description": "copy",
       "layout": "IPY_MODEL_a9bc1349d3e14d149f38f9cb9f8f2982",
       "placeholder": "[]",
       "style": "IPY_MODEL_d75e4a2628f04a55b9b268e783447fc4",
       "value": "True"
      }
     },
     "da96641344dc442a9288ab6da524fd32": {
      "model_module": "@jupyter-widgets/base",
      "model_module_version": "1.2.0",
      "model_name": "LayoutModel",
      "state": {
       "align_items": "center",
       "border": "dotted black 1px",
       "height": "40px",
       "margin": "0px 0px 0px 10px"
      }
     },
     "daa6efde5da445c6a9525dcb83acb8fe": {
      "model_module": "@jupyter-widgets/controls",
      "model_module_version": "1.5.0",
      "model_name": "VBoxModel",
      "state": {
       "children": [
        "IPY_MODEL_d2776255c28b43ffb5eeaed43f8143d0",
        "IPY_MODEL_ac0b19474ca94238af868348030feebe",
        "IPY_MODEL_63ee21d3919e4b659f60b0e8dbeb4350"
       ],
       "layout": "IPY_MODEL_417b6fdd03744b9db2d0bbe7ccdbd4a1"
      }
     },
     "dab1f0ce6579459382849b9f5484dcf1": {
      "model_module": "@jupyter-widgets/base",
      "model_module_version": "1.2.0",
      "model_name": "LayoutModel",
      "state": {
       "width": "100%"
      }
     },
     "daf258547edf484d96c53c29e4f33354": {
      "model_module": "@jupyter-widgets/controls",
      "model_module_version": "1.5.0",
      "model_name": "VBoxModel",
      "state": {
       "children": [
        "IPY_MODEL_68b495dd2bc5483ab3f96e7902776dc8",
        "IPY_MODEL_bff7aaade05b47d7b37013690c28245e",
        "IPY_MODEL_08e64539acb54711964901764c067055",
        "IPY_MODEL_fbd7e1cd8d6a4140af6eeedcd9b05cc1",
        "IPY_MODEL_e0dc631be3284240af4d11254a178425",
        "IPY_MODEL_622c20fcbf6f4f8092c8568522283856",
        "IPY_MODEL_2d9aea333cc34cb3895b0823bc06a97b"
       ],
       "layout": "IPY_MODEL_ebc82d9914b1414795fe7826ea63f809"
      }
     },
     "db04c751e4bf4550827d676ecf8745a0": {
      "model_module": "@jupyter-widgets/controls",
      "model_module_version": "1.5.0",
      "model_name": "DescriptionStyleModel",
      "state": {
       "description_width": "initial"
      }
     },
     "db0d5db5e7fa48c7a4b4d58df6dfeede": {
      "model_module": "@jupyter-widgets/controls",
      "model_module_version": "1.5.0",
      "model_name": "ButtonModel",
      "state": {
       "description": "Select",
       "layout": "IPY_MODEL_5c043dd1269742f08c6251556ed0530e",
       "style": "IPY_MODEL_cbac60455861478799ee3d2a871bbd96"
      }
     },
     "db39a5326ec9402287c630230dfdcb7a": {
      "model_module": "@jupyter-widgets/controls",
      "model_module_version": "1.5.0",
      "model_name": "DescriptionStyleModel",
      "state": {
       "description_width": ""
      }
     },
     "db6929b27cce49cfadb387fd8c1b7cb6": {
      "model_module": "@jupyter-widgets/base",
      "model_module_version": "1.2.0",
      "model_name": "LayoutModel",
      "state": {}
     },
     "db7938082c0a4b07afaeedb1ec31b87d": {
      "model_module": "@jupyter-widgets/base",
      "model_module_version": "1.2.0",
      "model_name": "LayoutModel",
      "state": {
       "align_content": "center",
       "justify_content": "center"
      }
     },
     "db7e12041a974b6dbc614e8a0acaa568": {
      "model_module": "@jupyter-widgets/controls",
      "model_module_version": "1.5.0",
      "model_name": "HBoxModel",
      "state": {
       "children": [
        "IPY_MODEL_e09337df89b74abeb817401923193adc",
        "IPY_MODEL_42c96ecab75b465489a14490d5da98e5",
        "IPY_MODEL_115e71cc06754d2599697c2a03de8111"
       ],
       "layout": "IPY_MODEL_9a6884d00c754c1e8808921e827a7161"
      }
     },
     "dba2e36bcca7425cb0a820f2a96cf17a": {
      "model_module": "@jupyter-widgets/controls",
      "model_module_version": "1.5.0",
      "model_name": "BoxModel",
      "state": {
       "children": [
        "IPY_MODEL_2873b8b29fbf44ca933ca0fd301ce45c"
       ],
       "layout": "IPY_MODEL_40c6dd6b0b9544e7ad970ec99e9c34e6"
      }
     },
     "dba72b0c41614601968b9089ee9ab2af": {
      "model_module": "@jupyter-widgets/base",
      "model_module_version": "1.2.0",
      "model_name": "LayoutModel",
      "state": {
       "margin": "0px 0px 0px 10px"
      }
     },
     "dbc3dc3f8f2a4fd681beef902d0e4500": {
      "model_module": "@jupyter-widgets/base",
      "model_module_version": "1.2.0",
      "model_name": "LayoutModel",
      "state": {}
     },
     "dbd189db89454f5d91a6691eefd24db0": {
      "model_module": "@jupyter-widgets/controls",
      "model_module_version": "1.5.0",
      "model_name": "CheckboxModel",
      "state": {
       "description": "Check to set",
       "disabled": false,
       "indent": false,
       "layout": "IPY_MODEL_d78fc32e456242408604f1f0e22da95b",
       "style": "IPY_MODEL_9f32dd84ccc84e59abacc9039d9d6118",
       "value": false
      }
     },
     "dbd1a5d1403b43c584a90e6debebf1bb": {
      "model_module": "@jupyter-widgets/base",
      "model_module_version": "1.2.0",
      "model_name": "LayoutModel",
      "state": {
       "width": "100%"
      }
     },
     "dbf1e57bcc35480ab54637305d172bcd": {
      "model_module": "@jupyter-widgets/controls",
      "model_module_version": "1.5.0",
      "model_name": "DropdownModel",
      "state": {
       "_options_labels": [
        "entries"
       ],
       "description": "output token:",
       "index": 0,
       "layout": "IPY_MODEL_25fd671ef1c3452992e1c7651c5468a1",
       "style": "IPY_MODEL_92c18787fc6f4e22b3a4560184eba807"
      }
     },
     "dc098378007e4be2baadf78f88787090": {
      "model_module": "@jupyter-widgets/controls",
      "model_module_version": "1.5.0",
      "model_name": "ButtonStyleModel",
      "state": {
       "button_color": "lightblue"
      }
     },
     "dc0dcd8aa95e4680b0322b898738f6de": {
      "model_module": "@jupyter-widgets/controls",
      "model_module_version": "1.5.0",
      "model_name": "ButtonModel",
      "state": {
       "description": "Select",
       "layout": "IPY_MODEL_013f1f5d576c46da87fd1dce5f9a3850",
       "style": "IPY_MODEL_434f3b75ae5c41bdbe9451723ab0c034"
      }
     },
     "dc137e8fcc3e4c02af38cf1fa7da3020": {
      "model_module": "@jupyter-widgets/base",
      "model_module_version": "1.2.0",
      "model_name": "LayoutModel",
      "state": {}
     },
     "dc1d859f80414b249559a8f92d23d3e6": {
      "model_module": "@jupyter-widgets/base",
      "model_module_version": "1.2.0",
      "model_name": "LayoutModel",
      "state": {}
     },
     "dc76735380484060947673077e168953": {
      "model_module": "@jupyter-widgets/controls",
      "model_module_version": "1.5.0",
      "model_name": "ButtonModel",
      "state": {
       "icon": "refresh",
       "layout": "IPY_MODEL_2c3d279b80a8478cace0cc002b0c319b",
       "style": "IPY_MODEL_1e434c4ed41b4a6aaca288ff0b4616f2"
      }
     },
     "dc93266a75d549a2ace5a553c3481d98": {
      "model_module": "@jupyter-widgets/base",
      "model_module_version": "1.2.0",
      "model_name": "LayoutModel",
      "state": {
       "margin": "0px 0px 0px 180px"
      }
     },
     "dcad1ac44bcb489eab0df6fe7cbd37c3": {
      "model_module": "@jupyter-widgets/base",
      "model_module_version": "1.2.0",
      "model_name": "LayoutModel",
      "state": {}
     },
     "dcbdedc9f6da4ca1a912c2ad6427233b": {
      "model_module": "@jupyter-widgets/base",
      "model_module_version": "1.2.0",
      "model_name": "LayoutModel",
      "state": {
       "border": "dotted black 1px",
       "justify_content": "space-between"
      }
     },
     "dcbe062bf3c142979ad453dee3a46e8f": {
      "model_module": "@jupyter-widgets/base",
      "model_module_version": "1.2.0",
      "model_name": "LayoutModel",
      "state": {}
     },
     "dcbfb69686ef40f5a2eaab3593a4fbb8": {
      "model_module": "@jupyter-widgets/controls",
      "model_module_version": "1.5.0",
      "model_name": "DescriptionStyleModel",
      "state": {
       "description_width": "initial"
      }
     },
     "dceaad31a87b4abc9de8da7ebeee1084": {
      "model_module": "@jupyter-widgets/controls",
      "model_module_version": "1.5.0",
      "model_name": "DescriptionStyleModel",
      "state": {
       "description_width": ""
      }
     },
     "dd3ceb8a1b34405aa002d8e93789e738": {
      "model_module": "@jupyter-widgets/base",
      "model_module_version": "1.2.0",
      "model_name": "LayoutModel",
      "state": {
       "align_items": "center",
       "border": "dotted black 1px",
       "height": "40px",
       "justify_content": "center"
      }
     },
     "dd3e75ab71d1407fb09992ab8fce0717": {
      "model_module": "@jupyter-widgets/base",
      "model_module_version": "1.2.0",
      "model_name": "LayoutModel",
      "state": {}
     },
     "dd44fb9f9b7740ccabafe3dd938ae651": {
      "model_module": "@jupyter-widgets/base",
      "model_module_version": "1.2.0",
      "model_name": "LayoutModel",
      "state": {}
     },
     "dd5ba2f330694d6ba4eb08967cdaeb20": {
      "model_module": "@jupyter-widgets/controls",
      "model_module_version": "1.5.0",
      "model_name": "DescriptionStyleModel",
      "state": {
       "description_width": ""
      }
     },
     "dd6299798b8a48d89966f8b365904dd8": {
      "model_module": "@jupyter-widgets/base",
      "model_module_version": "1.2.0",
      "model_name": "LayoutModel",
      "state": {
       "margin": "10px 0px 10px 400px"
      }
     },
     "dd7484125ab44abda08b64387898c026": {
      "model_module": "@jupyter-widgets/base",
      "model_module_version": "1.2.0",
      "model_name": "LayoutModel",
      "state": {
       "margin": "20px 0px 20px 250px"
      }
     },
     "dd8465216c04443dae143a8df88e0c67": {
      "model_module": "@jupyter-widgets/controls",
      "model_module_version": "1.5.0",
      "model_name": "DescriptionStyleModel",
      "state": {
       "description_width": ""
      }
     },
     "ddb556f45901451a82ea4b84a0aa7ff0": {
      "model_module": "@jupyter-widgets/base",
      "model_module_version": "1.2.0",
      "model_name": "LayoutModel",
      "state": {
       "align_content": "center",
       "justify_content": "center"
      }
     },
     "ddb5b30d18884516a5e9f1f30327de9b": {
      "model_module": "@jupyter-widgets/controls",
      "model_module_version": "1.5.0",
      "model_name": "HTMLModel",
      "state": {
       "layout": "IPY_MODEL_f4c2278186c444b7a1bf0e4287c8b57e",
       "style": "IPY_MODEL_81775b3331404fbb95d54c325cab0389",
       "value": "<b>Wrapper parameters:</b>"
      }
     },
     "ddcc2eaca7ee4bc59b999969a7861acf": {
      "model_module": "@jupyter-widgets/controls",
      "model_module_version": "1.5.0",
      "model_name": "DropdownModel",
      "state": {
       "_options_labels": [
        "2"
       ],
       "description": "block#:",
       "index": 0,
       "layout": "IPY_MODEL_32cbc34f12d249ff939dae989329e69b",
       "style": "IPY_MODEL_d2175cc9bf87432c923dd34609a7e700"
      }
     },
     "de00b3d5f6cc45b39d3e48de50a214e1": {
      "model_module": "@jupyter-widgets/controls",
      "model_module_version": "1.5.0",
      "model_name": "ButtonModel",
      "state": {
       "description": "Remove pipe",
       "icon": "remove",
       "layout": "IPY_MODEL_d4f248f427274008bfc2002ce9030ddf",
       "style": "IPY_MODEL_33bf923b58f44973b45c8f9216ceb6e8"
      }
     },
     "de00f51b848c48c993c05c333fb7087c": {
      "model_module": "@jupyter-widgets/base",
      "model_module_version": "1.2.0",
      "model_name": "LayoutModel",
      "state": {
       "margin": "40px 0px 0px 10px",
       "width": "120px"
      }
     },
     "de01657e082b4e469ebc35a1d3cea8a3": {
      "model_module": "@jupyter-widgets/controls",
      "model_module_version": "1.5.0",
      "model_name": "ButtonModel",
      "state": {
       "description": "Save Script",
       "icon": "check",
       "layout": "IPY_MODEL_16a847a045bf4f75bbb88857d712f2fd",
       "style": "IPY_MODEL_a52c625312444f2484558fe43ade6766"
      }
     },
     "de179b1703df4263bc514f6f3db70d68": {
      "model_module": "@jupyter-widgets/controls",
      "model_module_version": "1.5.0",
      "model_name": "DropdownModel",
      "state": {
       "_options_labels": [
        "df1",
        "df2",
        "df3"
       ],
       "description": "input token:",
       "index": 0,
       "layout": "IPY_MODEL_f29529e654524649a6a95dc875c9c970",
       "style": "IPY_MODEL_b2a801ecd1c74651864f91777a836de5"
      }
     },
     "de397258a65844f9ae160f3b1b1e896f": {
      "model_module": "@jupyter-widgets/controls",
      "model_module_version": "1.5.0",
      "model_name": "ToggleButtonsStyleModel",
      "state": {
       "button_width": "",
       "description_width": ""
      }
     },
     "de5c3e2f13604f21a29122de5e916e2a": {
      "model_module": "@jupyter-widgets/controls",
      "model_module_version": "1.5.0",
      "model_name": "DescriptionStyleModel",
      "state": {
       "description_width": ""
      }
     },
     "de6cd30f7bf146e5ac9d010b3c5d73e8": {
      "model_module": "@jupyter-widgets/base",
      "model_module_version": "1.2.0",
      "model_name": "LayoutModel",
      "state": {
       "align_items": "center",
       "border": "dotted black 1px",
       "height": "40px",
       "justify_content": "center"
      }
     },
     "de8406ba46e84257ace249ff8c83f459": {
      "model_module": "@jupyter-widgets/controls",
      "model_module_version": "1.5.0",
      "model_name": "DescriptionStyleModel",
      "state": {
       "description_width": ""
      }
     },
     "deaf04a7f4d74d2abfbebf523a137690": {
      "model_module": "@jupyter-widgets/base",
      "model_module_version": "1.2.0",
      "model_name": "LayoutModel",
      "state": {}
     },
     "def693d2fc274028bf8fe03ee3fe4d59": {
      "model_module": "@jupyter-widgets/controls",
      "model_module_version": "1.5.0",
      "model_name": "DescriptionStyleModel",
      "state": {
       "description_width": "initial"
      }
     },
     "df03d4616e3b4a7f80ae19b49e0d576e": {
      "model_module": "@jupyter-widgets/base",
      "model_module_version": "1.2.0",
      "model_name": "LayoutModel",
      "state": {
       "margin": "10px 0px 10px 0px"
      }
     },
     "df089f5a0f6949799a8cb44e439cfca7": {
      "model_module": "@jupyter-widgets/controls",
      "model_module_version": "1.5.0",
      "model_name": "DescriptionStyleModel",
      "state": {
       "description_width": "initial"
      }
     },
     "df40041b6ea34807b204646395b81355": {
      "model_module": "@jupyter-widgets/base",
      "model_module_version": "1.2.0",
      "model_name": "LayoutModel",
      "state": {
       "align_items": "center",
       "border": "dotted black 1px",
       "height": "40px",
       "justify_content": "center"
      }
     },
     "df40db34c776470abc54766d5bf642dd": {
      "model_module": "@jupyter-widgets/base",
      "model_module_version": "1.2.0",
      "model_name": "LayoutModel",
      "state": {}
     },
     "df41ee38cce049d3a06eca55de58cade": {
      "model_module": "@jupyter-widgets/controls",
      "model_module_version": "1.5.0",
      "model_name": "HTMLModel",
      "state": {
       "layout": "IPY_MODEL_e021ab7ea931479c8068f53c7924e809",
       "style": "IPY_MODEL_a12209db63d94f72bf8950c405453bac",
       "value": "<b>Requirements:  </b>(('pandas', '1.1.3'),)"
      }
     },
     "df53b577c0c543519a0663dfc0c47be0": {
      "model_module": "@jupyter-widgets/controls",
      "model_module_version": "1.5.0",
      "model_name": "DescriptionStyleModel",
      "state": {
       "description_width": ""
      }
     },
     "df6f377769044db5a20c510bc75aa450": {
      "model_module": "@jupyter-widgets/base",
      "model_module_version": "1.2.0",
      "model_name": "LayoutModel",
      "state": {
       "align_items": "center",
       "border": "dotted black 1px",
       "height": "40px",
       "justify_content": "center"
      }
     },
     "df91b7d1b0fb4825998de01b2aec06ff": {
      "model_module": "@jupyter-widgets/controls",
      "model_module_version": "1.5.0",
      "model_name": "DescriptionStyleModel",
      "state": {
       "description_width": ""
      }
     },
     "df9c07d2da224217be7f9d8da08778a1": {
      "model_module": "@jupyter-widgets/base",
      "model_module_version": "1.2.0",
      "model_name": "LayoutModel",
      "state": {
       "width": "40%"
      }
     },
     "e010b57d096243a29fe4e0707d01d25a": {
      "model_module": "@jupyter-widgets/base",
      "model_module_version": "1.2.0",
      "model_name": "LayoutModel",
      "state": {
       "margin": "10px 0px 0px 10px",
       "width": "50%"
      }
     },
     "e01760155c2641cfb911cf0307712a8e": {
      "model_module": "@jupyter-widgets/controls",
      "model_module_version": "1.5.0",
      "model_name": "AccordionModel",
      "state": {
       "_titles": {
        "0": "Home page",
        "1": "Add a block",
        "2": "block# 2: load_crystal_structures",
        "3": "block# 3: CoordinationNumberAttributeGenerator",
        "4": "block# 4: CoulombMatrixAttributeGenerator",
        "5": "block# 5: concat",
        "6": "block# 6: PyScript",
        "7": "block# 7: EffectiveCoordinationNumberAttributeGenerator"
       },
       "children": [
        "IPY_MODEL_1d9bab57723b45e681d690b9e9080cd5",
        "IPY_MODEL_5d10241f82a04e339a3a95663a0d65c6",
        "IPY_MODEL_bbfaf90914fd4218bcf8a4fe0fe21ad4",
        "IPY_MODEL_ae30b9f886df4dc083119c9a685a11bb",
        "IPY_MODEL_68192d4b55184627969abdcbdd4fec6b",
        "IPY_MODEL_0602108e1e564096895e029368274aea",
        "IPY_MODEL_33b672ee8a994580a61c908dcce56f9b",
        "IPY_MODEL_d1e344d3f5d04551811c6e667ec471fe"
       ],
       "layout": "IPY_MODEL_4116fbdfa144455e974f4d028251b5b9"
      }
     },
     "e0203e4504624d9fbd801d41d2a5f606": {
      "model_module": "@jupyter-widgets/base",
      "model_module_version": "1.2.0",
      "model_name": "LayoutModel",
      "state": {
       "width": "40px"
      }
     },
     "e021ab7ea931479c8068f53c7924e809": {
      "model_module": "@jupyter-widgets/base",
      "model_module_version": "1.2.0",
      "model_name": "LayoutModel",
      "state": {
       "width": "100%"
      }
     },
     "e0785d21978749aaa2508d67fec48337": {
      "model_module": "@jupyter-widgets/base",
      "model_module_version": "1.2.0",
      "model_name": "LayoutModel",
      "state": {
       "width": "40%"
      }
     },
     "e09337df89b74abeb817401923193adc": {
      "model_module": "@jupyter-widgets/controls",
      "model_module_version": "1.5.0",
      "model_name": "BoxModel",
      "state": {
       "children": [
        "IPY_MODEL_8b074a7d60df46e4bb721dce361ac87c"
       ],
       "layout": "IPY_MODEL_e444f17aa3274dd8bd3d753a68866dca"
      }
     },
     "e09d231a4e854bbb86f1185b9d5e7b1c": {
      "model_module": "@jupyter-widgets/controls",
      "model_module_version": "1.5.0",
      "model_name": "DescriptionStyleModel",
      "state": {
       "description_width": ""
      }
     },
     "e0ac2e4556fe476ebd6827bfac9aca3f": {
      "model_module": "@jupyter-widgets/controls",
      "model_module_version": "1.5.0",
      "model_name": "ButtonModel",
      "state": {
       "description": "Select",
       "layout": "IPY_MODEL_edeaf28089d241f3a1ffb8a1365906b2",
       "style": "IPY_MODEL_41081d63e4b04c1c96e6cf73d239581f"
      }
     },
     "e0b94f0d81fa4d7ebab4d649ae201633": {
      "model_module": "@jupyter-widgets/controls",
      "model_module_version": "1.5.0",
      "model_name": "DescriptionStyleModel",
      "state": {
       "description_width": ""
      }
     },
     "e0bb45402f2443fea41c5e19407946c0": {
      "model_module": "@jupyter-widgets/controls",
      "model_module_version": "1.5.0",
      "model_name": "HBoxModel",
      "state": {
       "children": [
        "IPY_MODEL_0392e5068de84f7eafaad5fa1bd5a5a2",
        "IPY_MODEL_75da18a9d6b8488d9050145b8cebb607"
       ],
       "layout": "IPY_MODEL_c630fbca6b264a93b16956ccca7a540d"
      }
     },
     "e0c3ae5a7b1f4a0f94d9c23a089430ce": {
      "model_module": "@jupyter-widgets/base",
      "model_module_version": "1.2.0",
      "model_name": "LayoutModel",
      "state": {
       "width": "50%"
      }
     },
     "e0c511f2185244698172ee69c0d18c87": {
      "model_module": "@jupyter-widgets/base",
      "model_module_version": "1.2.0",
      "model_name": "LayoutModel",
      "state": {}
     },
     "e0dc631be3284240af4d11254a178425": {
      "model_module": "@jupyter-widgets/controls",
      "model_module_version": "1.5.0",
      "model_name": "HTMLModel",
      "state": {
       "layout": "IPY_MODEL_03721e53d15e4e26bc3adf6747a3ca30",
       "style": "IPY_MODEL_c42650dce543400dab37a661508043c7",
       "value": "all input tokens: entries"
      }
     },
     "e0ec3d2cf1f24e1c87aa6098a420877b": {
      "model_module": "@jupyter-widgets/base",
      "model_module_version": "1.2.0",
      "model_name": "LayoutModel",
      "state": {
       "margin": "10px 0px 0px 10px",
       "width": "50%"
      }
     },
     "e135364ff4214d6cac336614e2e730f4": {
      "model_module": "@jupyter-widgets/base",
      "model_module_version": "1.2.0",
      "model_name": "LayoutModel",
      "state": {
       "width": "40%"
      }
     },
     "e138943d1c6046b5b7181f1b944abaa2": {
      "model_module": "@jupyter-widgets/controls",
      "model_module_version": "1.5.0",
      "model_name": "VBoxModel",
      "state": {
       "children": [
        "IPY_MODEL_9635f27b4ca44b36a807a7dc4fcb0da6",
        "IPY_MODEL_d172c2d6d8ca4781b519c6124dabbf7a",
        "IPY_MODEL_aa385423474d497fa856886bdfeff573",
        "IPY_MODEL_bcc4a7b6b78341c59eaeb4d724b2aa45",
        "IPY_MODEL_4e18ac560f0b42d0a61244422254c316",
        "IPY_MODEL_8c6094e93e4045eaa376ca50d2cc41c2",
        "IPY_MODEL_d1869321d72e4ef3aa97aa785031f8da"
       ],
       "layout": "IPY_MODEL_27462332d71d44268d51a08898f188f7"
      }
     },
     "e13e08baf8d34e10931dc09c7b5aefda": {
      "model_module": "@jupyter-widgets/controls",
      "model_module_version": "1.5.0",
      "model_name": "DescriptionStyleModel",
      "state": {
       "description_width": "initial"
      }
     },
     "e16cabc8972a49fab14f417b1dba2e1c": {
      "model_module": "@jupyter-widgets/base",
      "model_module_version": "1.2.0",
      "model_name": "LayoutModel",
      "state": {
       "margin": "10px 0px 0px 0px"
      }
     },
     "e1bd83e294e44da1bd330d4148c94e88": {
      "model_module": "@jupyter-widgets/controls",
      "model_module_version": "1.5.0",
      "model_name": "HBoxModel",
      "state": {
       "children": [
        "IPY_MODEL_72169cef69d644e8b6efde2275caddf6",
        "IPY_MODEL_f9c5a39aad854900ae17eef5541da9ca",
        "IPY_MODEL_7802c016c9fa46ea99b8858650b30798"
       ],
       "layout": "IPY_MODEL_1965ee6aba4046ca970913b095b74dce"
      }
     },
     "e1c3be624f174d238c29f873fa034616": {
      "model_module": "@jupyter-widgets/controls",
      "model_module_version": "1.5.0",
      "model_name": "ButtonModel",
      "state": {
       "description": "Remove block",
       "layout": "IPY_MODEL_45f4000ef69942cd97d9324b5d558b18",
       "style": "IPY_MODEL_9fa09c442caa4ded899a7934be0d6202"
      }
     },
     "e1db55bf3fb340388f8e3fe413b1cb87": {
      "model_module": "@jupyter-widgets/controls",
      "model_module_version": "1.5.0",
      "model_name": "DropdownModel",
      "state": {
       "_options_labels": [
        "df"
       ],
       "description": "output token:",
       "index": 0,
       "layout": "IPY_MODEL_f63d7cde9a2d43ad80aa683244cb60f5",
       "style": "IPY_MODEL_15afaf60f0b3423c89c44f77936d0277"
      }
     },
     "e1ea628de4784952961d2c6c36352578": {
      "model_module": "@jupyter-widgets/controls",
      "model_module_version": "1.5.0",
      "model_name": "TextModel",
      "state": {
       "description": "Type:",
       "disabled": true,
       "layout": "IPY_MODEL_2d5d55eca46e4459b8e55b7bd67ded6f",
       "style": "IPY_MODEL_1063c4b55dca4c82b54305eee2039385"
      }
     },
     "e2157876321644b9ba7da8d9da2e3c1a": {
      "model_module": "@jupyter-widgets/base",
      "model_module_version": "1.2.0",
      "model_name": "LayoutModel",
      "state": {}
     },
     "e249b8954adb48c58cb87d57438e32f5": {
      "model_module": "@jupyter-widgets/controls",
      "model_module_version": "1.5.0",
      "model_name": "TextModel",
      "state": {
       "description": "Type:",
       "disabled": true,
       "layout": "IPY_MODEL_df9c07d2da224217be7f9d8da08778a1",
       "style": "IPY_MODEL_d3848b9c24fb47d2ad950c18e0558339"
      }
     },
     "e24ad235d4b846e9b3a5b121e7826234": {
      "model_module": "@jupyter-widgets/controls",
      "model_module_version": "1.5.0",
      "model_name": "TextModel",
      "state": {
       "description": "line17",
       "layout": "IPY_MODEL_a1d9e9f9557142499406c1332c8e5a6c",
       "placeholder": "[]",
       "style": "IPY_MODEL_1e42cecdc8ee48f08ca4bb32e0a398ec",
       "value": "type python code"
      }
     },
     "e257440e54dd4cb6a62260e1d07b54ce": {
      "model_module": "@jupyter-widgets/controls",
      "model_module_version": "1.5.0",
      "model_name": "TextModel",
      "state": {
       "description": "Type:",
       "disabled": true,
       "layout": "IPY_MODEL_9dc7188ac9e44ee9936f96fa2f8ea13b",
       "style": "IPY_MODEL_3ae37c1802494284b2abb7c13df4f761"
      }
     },
     "e262e509cb554e159dbfd91e9b2c1975": {
      "model_module": "@jupyter-widgets/controls",
      "model_module_version": "1.5.0",
      "model_name": "HBoxModel",
      "state": {
       "children": [
        "IPY_MODEL_2a81884ccd6f4ce19efceec0a76fabd5",
        "IPY_MODEL_3f26e6a66f334767ae8e27795cead224",
        "IPY_MODEL_21f94e7c531348b195bb37ab75fb5db7"
       ],
       "layout": "IPY_MODEL_7605ac601b4643f6aca78eb54a7ecf5f"
      }
     },
     "e26465dbf9694ac0ae5ddf2267ad9279": {
      "model_module": "@jupyter-widgets/controls",
      "model_module_version": "1.5.0",
      "model_name": "CheckboxModel",
      "state": {
       "description": "Check to set",
       "disabled": false,
       "indent": false,
       "layout": "IPY_MODEL_f74159d186b4498283ab6509f4062da3",
       "style": "IPY_MODEL_03c87c86db0347609eecffdde931ac62",
       "value": false
      }
     },
     "e291762d709c49e8a5b2e125af37bf9a": {
      "model_module": "@jupyter-widgets/base",
      "model_module_version": "1.2.0",
      "model_name": "LayoutModel",
      "state": {}
     },
     "e296ff74b1c14d02a45bfc4e5d5fe286": {
      "model_module": "@jupyter-widgets/controls",
      "model_module_version": "1.5.0",
      "model_name": "ButtonStyleModel",
      "state": {
       "button_color": "lightblue"
      }
     },
     "e2a92d58a7724096bf53beac418af5c6": {
      "model_module": "@jupyter-widgets/controls",
      "model_module_version": "1.5.0",
      "model_name": "DescriptionStyleModel",
      "state": {
       "description_width": ""
      }
     },
     "e2afd0238af04e72aa84ca77099581a8": {
      "model_module": "@jupyter-widgets/controls",
      "model_module_version": "1.5.0",
      "model_name": "DescriptionStyleModel",
      "state": {
       "description_width": ""
      }
     },
     "e2be3f763a1f44aa9503f3fed67463b1": {
      "model_module": "@jupyter-widgets/base",
      "model_module_version": "1.2.0",
      "model_name": "LayoutModel",
      "state": {}
     },
     "e2d25bc95dec4df191d626a3bdd0b240": {
      "model_module": "@jupyter-widgets/controls",
      "model_module_version": "1.5.0",
      "model_name": "ButtonModel",
      "state": {
       "description": "Add",
       "layout": "IPY_MODEL_bacbc44895204e7a8f228433882eca44",
       "style": "IPY_MODEL_0dc3e0b732d04c5eb79f4a1af6b5f97b"
      }
     },
     "e2f99905ec23477c8f5b2a7df707d308": {
      "model_module": "@jupyter-widgets/controls",
      "model_module_version": "1.5.0",
      "model_name": "ButtonStyleModel",
      "state": {}
     },
     "e3346a029d904f719ee978638c825cd4": {
      "model_module": "@jupyter-widgets/base",
      "model_module_version": "1.2.0",
      "model_name": "LayoutModel",
      "state": {
       "width": "140px"
      }
     },
     "e33d3a0963a24c219db96d506c58331f": {
      "model_module": "@jupyter-widgets/controls",
      "model_module_version": "1.5.0",
      "model_name": "DescriptionStyleModel",
      "state": {
       "description_width": ""
      }
     },
     "e370d88f2d9a49c9b41f1b907d50a253": {
      "model_module": "@jupyter-widgets/controls",
      "model_module_version": "1.5.0",
      "model_name": "DescriptionStyleModel",
      "state": {
       "description_width": "initial"
      }
     },
     "e37d7cd4befe42ab9d7a70ab52d7afe1": {
      "model_module": "@jupyter-widgets/controls",
      "model_module_version": "1.5.0",
      "model_name": "TextareaModel",
      "state": {
       "layout": "IPY_MODEL_be425f7cde82418cb4f585bde8b99f88",
       "placeholder": "Press the 'print Script' button to print the ChemML Wrapper's configuration script here. Copy and save it for the future use.",
       "style": "IPY_MODEL_3ca47a357d26479abd9a06cfa9736590"
      }
     },
     "e3b642d21d7a46c8aad87e84f6659f51": {
      "model_module": "@jupyter-widgets/controls",
      "model_module_version": "1.5.0",
      "model_name": "DescriptionStyleModel",
      "state": {
       "description_width": ""
      }
     },
     "e3be78c6c8c242549f9651c9cf4a7049": {
      "model_module": "@jupyter-widgets/controls",
      "model_module_version": "1.5.0",
      "model_name": "DescriptionStyleModel",
      "state": {
       "description_width": ""
      }
     },
     "e3d456ec74f44c63aa061231d144ac09": {
      "model_module": "@jupyter-widgets/controls",
      "model_module_version": "1.5.0",
      "model_name": "HBoxModel",
      "state": {
       "children": [
        "IPY_MODEL_c7292ea14ec94aee8570652a154d14de",
        "IPY_MODEL_521d2ec911c544f1ad6ecea10f7a73d1"
       ],
       "layout": "IPY_MODEL_dd3e75ab71d1407fb09992ab8fce0717"
      }
     },
     "e3d52f94c0f04a7bbc39b1611721c411": {
      "model_module": "@jupyter-widgets/base",
      "model_module_version": "1.2.0",
      "model_name": "LayoutModel",
      "state": {}
     },
     "e40137d7a9db42c983a8c4ae96c5fe81": {
      "model_module": "@jupyter-widgets/base",
      "model_module_version": "1.2.0",
      "model_name": "LayoutModel",
      "state": {
       "margin": "10px 0px 10px 400px"
      }
     },
     "e405e8986eb24849b46905c206d7abad": {
      "model_module": "@jupyter-widgets/base",
      "model_module_version": "1.2.0",
      "model_name": "LayoutModel",
      "state": {
       "width": "50%"
      }
     },
     "e4067d3f01674e5dacf3a83764078594": {
      "model_module": "@jupyter-widgets/controls",
      "model_module_version": "1.5.0",
      "model_name": "DescriptionStyleModel",
      "state": {
       "description_width": ""
      }
     },
     "e429bec0e1ce40ec812c7e8ad472663a": {
      "model_module": "@jupyter-widgets/controls",
      "model_module_version": "1.5.0",
      "model_name": "ButtonModel",
      "state": {
       "icon": "refresh",
       "layout": "IPY_MODEL_0a42738d4592431186b646403e950eb3",
       "style": "IPY_MODEL_f00637fe7e8542f5a8171f018c8f2cd5"
      }
     },
     "e444f17aa3274dd8bd3d753a68866dca": {
      "model_module": "@jupyter-widgets/base",
      "model_module_version": "1.2.0",
      "model_name": "LayoutModel",
      "state": {}
     },
     "e45577818a2a4abfaa6810de69d29b00": {
      "model_module": "@jupyter-widgets/controls",
      "model_module_version": "1.5.0",
      "model_name": "ButtonModel",
      "state": {
       "icon": "refresh",
       "layout": "IPY_MODEL_bd3c99d815334b22a55ab65cc53f9166",
       "style": "IPY_MODEL_5a7a743285b3460dbf0581c8f089c657"
      }
     },
     "e469e96a86f34f85943a60388bff94f3": {
      "model_module": "@jupyter-widgets/controls",
      "model_module_version": "1.5.0",
      "model_name": "DescriptionStyleModel",
      "state": {
       "description_width": "initial"
      }
     },
     "e4ef6e100d294832a0bab7a7dc5dfe2a": {
      "model_module": "@jupyter-widgets/base",
      "model_module_version": "1.2.0",
      "model_name": "LayoutModel",
      "state": {
       "align_items": "center",
       "border": "dotted black 1px",
       "height": "40px",
       "margin": "0px 0px 0px 10px"
      }
     },
     "e52721e4fb724acdb10a055764ddde2c": {
      "model_module": "@jupyter-widgets/base",
      "model_module_version": "1.2.0",
      "model_name": "LayoutModel",
      "state": {}
     },
     "e532331fcfdf4081971929133afc4327": {
      "model_module": "@jupyter-widgets/controls",
      "model_module_version": "1.5.0",
      "model_name": "VBoxModel",
      "state": {
       "children": [
        "IPY_MODEL_825621b4f75341e8b0ec25d9780959fd",
        "IPY_MODEL_a9ca77d705b7437fadacf8d57095d1b4",
        "IPY_MODEL_407112b583ab4d389580942c35cdba4c",
        "IPY_MODEL_3b81cfeb2b894e769758b8c5fc70fe3d",
        "IPY_MODEL_f5719844239043d59dfa47361cfc7c29",
        "IPY_MODEL_aa9f5373a2504491adebdf2b6dbf0b0e",
        "IPY_MODEL_bbac9619777e4683a5543d5c5d583f60",
        "IPY_MODEL_f28dcfea9d6246c7a1dd75058dd82d62",
        "IPY_MODEL_3ee7a8befbda4cb38d6e902e4eba7db5",
        "IPY_MODEL_4b485bb89f63413d92c19fa6de1b136b",
        "IPY_MODEL_4d363e9b9b604939b2f7b76597d3549a",
        "IPY_MODEL_4725fce03dac453cbe53aa7cf1d3e533",
        "IPY_MODEL_61104aad3ae3484e975a3ef78f42e2d5",
        "IPY_MODEL_06b04ca70da54e2bae3e0e21210fac3a",
        "IPY_MODEL_e87e4e6c1e3c4bcaaa2d59c9230ba5d5",
        "IPY_MODEL_9f00c82fc81f4f4993e6c16bdede3081",
        "IPY_MODEL_a7816e2b83b448b494e651c32e4d2884",
        "IPY_MODEL_c01f1788e97449a895aeb5902e9327db",
        "IPY_MODEL_248d936871cf406ba6499da3e54341e1"
       ],
       "layout": "IPY_MODEL_513703c851e14236b75ed407e6b0fba8"
      }
     },
     "e544610f740f4f22a10c000ce3aad781": {
      "model_module": "@jupyter-widgets/controls",
      "model_module_version": "1.5.0",
      "model_name": "BoxModel",
      "state": {
       "children": [
        "IPY_MODEL_bb1cef85208340daafa13eaf9566f7e5"
       ],
       "layout": "IPY_MODEL_97b63643c7514092b677126ebc511360"
      }
     },
     "e553ec2f8005476f9d0b479b5e8ed1a3": {
      "model_module": "@jupyter-widgets/base",
      "model_module_version": "1.2.0",
      "model_name": "LayoutModel",
      "state": {
       "margin": "0px 0px 0px 180px"
      }
     },
     "e559492f36b14edc8bb46b50a3cd3342": {
      "model_module": "@jupyter-widgets/controls",
      "model_module_version": "1.5.0",
      "model_name": "HTMLModel",
      "state": {
       "layout": "IPY_MODEL_d878022d4fda47b8a5b4c040b52c0dfb",
       "style": "IPY_MODEL_2a470facb29449b2b2046f15c6c00b2b",
       "value": "<b> Send >>> </b>"
      }
     },
     "e56108e3d5a84eef881c3992af168873": {
      "model_module": "@jupyter-widgets/controls",
      "model_module_version": "1.5.0",
      "model_name": "HBoxModel",
      "state": {
       "children": [
        "IPY_MODEL_9c5588b00f754b59843e5cdb4bab855e",
        "IPY_MODEL_cf7b26cdb9354d1f9cf2972e8e185824",
        "IPY_MODEL_e262e509cb554e159dbfd91e9b2c1975",
        "IPY_MODEL_ae6a7a1cabe74aee9f1ea3cdf6bc768e"
       ],
       "layout": "IPY_MODEL_6d6d06445872427a99de4fbd557ffa16"
      }
     },
     "e561da432e9c4341859d9b8448e4d147": {
      "model_module": "@jupyter-widgets/base",
      "model_module_version": "1.2.0",
      "model_name": "LayoutModel",
      "state": {
       "margin": "0px 0px 0px 20px"
      }
     },
     "e5862e266cf44ecbbdcfcf5627648178": {
      "model_module": "@jupyter-widgets/controls",
      "model_module_version": "1.5.0",
      "model_name": "DescriptionStyleModel",
      "state": {
       "description_width": ""
      }
     },
     "e58ab0817ead4f1cb4f86a8d746d69d8": {
      "model_module": "@jupyter-widgets/base",
      "model_module_version": "1.2.0",
      "model_name": "LayoutModel",
      "state": {
       "margin": "0px 10px 0px 0px",
       "width": "60px"
      }
     },
     "e58c102c3ad4435089c9b4ab7cf075f5": {
      "model_module": "@jupyter-widgets/controls",
      "model_module_version": "1.5.0",
      "model_name": "DescriptionStyleModel",
      "state": {
       "description_width": ""
      }
     },
     "e59419ff62bc4e54adbb084c85a5f2b7": {
      "model_module": "@jupyter-widgets/controls",
      "model_module_version": "1.5.0",
      "model_name": "HBoxModel",
      "state": {
       "children": [
        "IPY_MODEL_ed77a45d487d4491a47883021489e6a0",
        "IPY_MODEL_849d8a6aca304ecf856cf21b549e5739",
        "IPY_MODEL_dbf1e57bcc35480ab54637305d172bcd"
       ],
       "layout": "IPY_MODEL_9d11fe1f36a94817a6e283d2f0479933"
      }
     },
     "e59b48d0fe774b3b91e1dfd2f1dd941a": {
      "model_module": "@jupyter-widgets/controls",
      "model_module_version": "1.5.0",
      "model_name": "ToggleButtonsModel",
      "state": {
       "_options_labels": [
        "Enter",
        "datasets",
        "chemml",
        "load_crystal_structures"
       ],
       "button_style": "info",
       "icons": [],
       "index": 0,
       "layout": "IPY_MODEL_c29803ca6d0845c39f7a9c960600d263",
       "style": "IPY_MODEL_de397258a65844f9ae160f3b1b1e896f",
       "tooltips": []
      }
     },
     "e5adfaef0d204d91a4d3c1c9ec6b487a": {
      "model_module": "@jupyter-widgets/controls",
      "model_module_version": "1.5.0",
      "model_name": "TextModel",
      "state": {
       "description": "Type:",
       "disabled": true,
       "layout": "IPY_MODEL_15fe7bc991b14447a36054b28201cf6b",
       "style": "IPY_MODEL_94085cd69c9b47ac92dd189acb320a07"
      }
     },
     "e602455ef00b4097b2d5b1064d5d5068": {
      "model_module": "@jupyter-widgets/controls",
      "model_module_version": "1.5.0",
      "model_name": "DescriptionStyleModel",
      "state": {
       "description_width": ""
      }
     },
     "e6430ea364704c968d340bd14693e45a": {
      "model_module": "@jupyter-widgets/controls",
      "model_module_version": "1.5.0",
      "model_name": "LabelModel",
      "state": {
       "layout": "IPY_MODEL_ab0346576e014293a7eb3e78a5d95608",
       "style": "IPY_MODEL_098fd742296d40b9baa291ab882a0913",
       "value": "Template 2: load_crystal_structures --> inorganic descriptors for crystal structures --> concatenate and print shape"
      }
     },
     "e66d2ed0275b49fe80018346a77f34d9": {
      "model_module": "@jupyter-widgets/base",
      "model_module_version": "1.2.0",
      "model_name": "LayoutModel",
      "state": {}
     },
     "e6a8495e6afc4ef699e38ffa1970cab3": {
      "model_module": "@jupyter-widgets/base",
      "model_module_version": "1.2.0",
      "model_name": "LayoutModel",
      "state": {}
     },
     "e70a9b197d9e4cefa53a59fca3e37407": {
      "model_module": "@jupyter-widgets/base",
      "model_module_version": "1.2.0",
      "model_name": "LayoutModel",
      "state": {}
     },
     "e76edf2be83244e3bc2d46aed6325fbe": {
      "model_module": "@jupyter-widgets/controls",
      "model_module_version": "1.5.0",
      "model_name": "DescriptionStyleModel",
      "state": {
       "description_width": ""
      }
     },
     "e771e0f82ab14421a322af3c244e73d7": {
      "model_module": "@jupyter-widgets/base",
      "model_module_version": "1.2.0",
      "model_name": "LayoutModel",
      "state": {
       "align_items": "center",
       "border": "dotted black 1px",
       "height": "40px",
       "justify_content": "center"
      }
     },
     "e775d01e60ea40719dbf01fb1fe1efbf": {
      "model_module": "@jupyter-widgets/controls",
      "model_module_version": "1.5.0",
      "model_name": "VBoxModel",
      "state": {
       "children": [
        "IPY_MODEL_eb997d262b0f48969138ee1fc29b99fb"
       ],
       "layout": "IPY_MODEL_2fe33c337bb34b68ab173335fdb562ad"
      }
     },
     "e7976559203f428c8832a01cf4752362": {
      "model_module": "@jupyter-widgets/base",
      "model_module_version": "1.2.0",
      "model_name": "LayoutModel",
      "state": {
       "margin": "0px 0px 0px 20px"
      }
     },
     "e79e47777d954b8798c1474ed0232298": {
      "model_module": "@jupyter-widgets/controls",
      "model_module_version": "1.5.0",
      "model_name": "VBoxModel",
      "state": {
       "children": [
        "IPY_MODEL_169932a6e17a4beab502630192f90a11",
        "IPY_MODEL_5316ea466fe84a9fb35f7e4381f2cf26",
        "IPY_MODEL_9f194140a1d740d199fab743d4454e23",
        "IPY_MODEL_2b5073b9a9b04ef393c53e485c9c7fdf",
        "IPY_MODEL_7525791a15804375b4ca40b16ba881fa",
        "IPY_MODEL_aac2e171ddea4132a12e9e962750e9cd",
        "IPY_MODEL_26cc3bc57c4a4b9083263e80b8b289df",
        "IPY_MODEL_45f1137549fc48749046ef90e956a3b3",
        "IPY_MODEL_c8a8aebf257d42f89fe4e91409c705c3",
        "IPY_MODEL_8e7921fa99b04f6a8246d4b4b11d1ea2",
        "IPY_MODEL_02932bac60ad49e68d5f5a7bde8989f6",
        "IPY_MODEL_9dc6bfdd51ab4d1b849e33103f35b7b8",
        "IPY_MODEL_18878302d1e545d2a30570cc2f846201",
        "IPY_MODEL_2db4812a700e492dbbe8a245269245d4",
        "IPY_MODEL_0692a0c16068449e972968deef4fff3f",
        "IPY_MODEL_637263f699de4ac7a91ec1d76da2460b",
        "IPY_MODEL_66771b7fb41d48fe862d1e20b84067d0",
        "IPY_MODEL_c47e616dcbae41dc9807741e1287d570",
        "IPY_MODEL_8693e087ffbc463a845887a72d27a854",
        "IPY_MODEL_607bb0ad9bb04d80b6e06d29f0d19911",
        "IPY_MODEL_b7c428207a244c4593ce4a22dcc1b1e2"
       ],
       "layout": "IPY_MODEL_f3083ef7725f4ae3a6b4c63eb9958576"
      }
     },
     "e7b0b94458924eecbd7718fa8a082c10": {
      "model_module": "@jupyter-widgets/controls",
      "model_module_version": "1.5.0",
      "model_name": "HBoxModel",
      "state": {
       "children": [
        "IPY_MODEL_5de9d5a7f8244c6ca21a49bde481f104",
        "IPY_MODEL_11d291a8a01c45b2baf553ef60970583",
        "IPY_MODEL_b05425e030564d82b142bcdb1ee8acf4"
       ],
       "layout": "IPY_MODEL_e0c511f2185244698172ee69c0d18c87"
      }
     },
     "e7c912365829456fa207c3e470550182": {
      "model_module": "@jupyter-widgets/controls",
      "model_module_version": "1.5.0",
      "model_name": "DescriptionStyleModel",
      "state": {
       "description_width": ""
      }
     },
     "e8295e1665354092b436b898e6be53e5": {
      "model_module": "@jupyter-widgets/base",
      "model_module_version": "1.2.0",
      "model_name": "LayoutModel",
      "state": {
       "align_items": "center",
       "justify_content": "space-between",
       "margin": "10px 0px 20px 0px"
      }
     },
     "e836467898ff4c4aa383262012267911": {
      "model_module": "@jupyter-widgets/base",
      "model_module_version": "1.2.0",
      "model_name": "LayoutModel",
      "state": {
       "margin": "10px 0px 0px 10px",
       "width": "50%"
      }
     },
     "e841063b497340e8a4b16eb74f2cf96a": {
      "model_module": "@jupyter-widgets/controls",
      "model_module_version": "1.5.0",
      "model_name": "ButtonModel",
      "state": {
       "description": "Remove pipe",
       "icon": "remove",
       "layout": "IPY_MODEL_bd2ac03ab594479f8d441b6534c44233",
       "style": "IPY_MODEL_73b4eff5c4c84f3f8a6621b56454ca67"
      }
     },
     "e87d89cd84ed42de917cc021d830908d": {
      "model_module": "@jupyter-widgets/controls",
      "model_module_version": "1.5.0",
      "model_name": "CheckboxModel",
      "state": {
       "description": "Check to set",
       "disabled": false,
       "indent": false,
       "layout": "IPY_MODEL_fe7085e164b0438882b0f0cc0e40190d",
       "style": "IPY_MODEL_9fa4ffd0c90b4c6bbe8c8a710ec64284",
       "value": false
      }
     },
     "e87e4e6c1e3c4bcaaa2d59c9230ba5d5": {
      "model_module": "@jupyter-widgets/controls",
      "model_module_version": "1.5.0",
      "model_name": "HBoxModel",
      "state": {
       "children": [
        "IPY_MODEL_2ff13ff761dc4154a3b7441575274794",
        "IPY_MODEL_42afa315a97445c58ede21c5d934cfd7"
       ],
       "layout": "IPY_MODEL_8d322a08ff6f4b0c97e66810c7e58573"
      }
     },
     "e888c96c0a6742f99daab4ce4692bb6b": {
      "model_module": "@jupyter-widgets/controls",
      "model_module_version": "1.5.0",
      "model_name": "TextModel",
      "state": {
       "description": "line05",
       "layout": "IPY_MODEL_a603f9bf30a84005a058918272a0155a",
       "placeholder": "[]",
       "style": "IPY_MODEL_4cd968cde74446378bd7344d606d0e7e",
       "value": "type python code"
      }
     },
     "e8b00e163efe41ca8059e7ad185b9c48": {
      "model_module": "@jupyter-widgets/controls",
      "model_module_version": "1.5.0",
      "model_name": "HBoxModel",
      "state": {
       "children": [
        "IPY_MODEL_0f19ff5ffa8e4b419310ba68b3da1909",
        "IPY_MODEL_f7b9d570c2044bf3b019c2be0b649555",
        "IPY_MODEL_aba3028ea9e1408792238f9f58679f17"
       ],
       "layout": "IPY_MODEL_df40041b6ea34807b204646395b81355"
      }
     },
     "e90df536dbd14bb195b2e289922cf4ba": {
      "model_module": "@jupyter-widgets/controls",
      "model_module_version": "1.5.0",
      "model_name": "ButtonModel",
      "state": {
       "description": "Add",
       "layout": "IPY_MODEL_c70df368dde2492ca86b15ea43dc292e",
       "style": "IPY_MODEL_86b3e80e21434e6ab7fe6b4b72a100ad"
      }
     },
     "e922da7d9757499d954e818eadb0dabc": {
      "model_module": "@jupyter-widgets/controls",
      "model_module_version": "1.5.0",
      "model_name": "TextModel",
      "state": {
       "description": "line09",
       "layout": "IPY_MODEL_0a3d9195985744878f23f1453fc211a5",
       "placeholder": "[]",
       "style": "IPY_MODEL_288fffb0773446cca5117b6abd69e9bb",
       "value": "type python code"
      }
     },
     "e944e288654c4a459f3351d2412de145": {
      "model_module": "@jupyter-widgets/base",
      "model_module_version": "1.2.0",
      "model_name": "LayoutModel",
      "state": {}
     },
     "e97cfae4908644e1bce8ca8c714dc157": {
      "model_module": "@jupyter-widgets/base",
      "model_module_version": "1.2.0",
      "model_name": "LayoutModel",
      "state": {
       "align_items": "center",
       "border": "dotted black 1px",
       "height": "40px",
       "margin": "0px 0px 0px 10px"
      }
     },
     "e996343511b64e3aa5290f4bcd2baad1": {
      "model_module": "@jupyter-widgets/controls",
      "model_module_version": "1.5.0",
      "model_name": "TabModel",
      "state": {
       "_titles": {
        "0": "Parameters",
        "1": "Input/Output"
       },
       "children": [
        "IPY_MODEL_9e4bdbb0718442fbbd0c4096e6fef026",
        "IPY_MODEL_e138943d1c6046b5b7181f1b944abaa2"
       ],
       "layout": "IPY_MODEL_2b40998d9e014f048e75d9a94d892f4e"
      }
     },
     "e9addf190c1642c6a789acec452e40b0": {
      "model_module": "@jupyter-widgets/controls",
      "model_module_version": "1.5.0",
      "model_name": "ButtonStyleModel",
      "state": {
       "button_color": "lightblue"
      }
     },
     "e9b626785e084ed59a473ed91cbcdfc9": {
      "model_module": "@jupyter-widgets/controls",
      "model_module_version": "1.5.0",
      "model_name": "DescriptionStyleModel",
      "state": {
       "description_width": ""
      }
     },
     "e9f539198196436482fdb81a845006e2": {
      "model_module": "@jupyter-widgets/controls",
      "model_module_version": "1.5.0",
      "model_name": "ButtonModel",
      "state": {
       "icon": "refresh",
       "layout": "IPY_MODEL_5bf4ea9500f94f93b2937e6855841d09",
       "style": "IPY_MODEL_8610549a506742d9b71ce1d442ed6c3a"
      }
     },
     "e9fbbaa7e981430eb3726fa7211e28ba": {
      "model_module": "@jupyter-widgets/controls",
      "model_module_version": "1.5.0",
      "model_name": "BoxModel",
      "state": {
       "children": [
        "IPY_MODEL_794e792dbe084d15a94b74a281dfeead"
       ],
       "layout": "IPY_MODEL_204e1d6c31a549d9bc67adddf767b034"
      }
     },
     "ea189f7819ec43a1b534d571b3eb16ab": {
      "model_module": "@jupyter-widgets/base",
      "model_module_version": "1.2.0",
      "model_name": "LayoutModel",
      "state": {}
     },
     "ea5c5920e4ab4a00a4cd3ff19c7f5599": {
      "model_module": "@jupyter-widgets/controls",
      "model_module_version": "1.5.0",
      "model_name": "ButtonStyleModel",
      "state": {
       "button_color": "lightblue"
      }
     },
     "ea67fdc5960c44179311359b87580893": {
      "model_module": "@jupyter-widgets/base",
      "model_module_version": "1.2.0",
      "model_name": "LayoutModel",
      "state": {
       "margin": "0px 0px 0px 10px"
      }
     },
     "ea96d53cdc1d41f99765b4a3b1f669f1": {
      "model_module": "@jupyter-widgets/controls",
      "model_module_version": "1.5.0",
      "model_name": "ButtonModel",
      "state": {
       "description": "print Script",
       "layout": "IPY_MODEL_64ec816883d040de8161fc4888bf4658",
       "style": "IPY_MODEL_32cbbf040c534bbfbb3bcd2db33be552"
      }
     },
     "ea9c5d2f11d5475ba6c57440e3a6d6d9": {
      "model_module": "@jupyter-widgets/base",
      "model_module_version": "1.2.0",
      "model_name": "LayoutModel",
      "state": {
       "width": "50%"
      }
     },
     "eaa24c2a7f4e44719fe739cef88ff113": {
      "model_module": "@jupyter-widgets/controls",
      "model_module_version": "1.5.0",
      "model_name": "TextModel",
      "state": {
       "description": "Type:",
       "disabled": true,
       "layout": "IPY_MODEL_00f529f844a24e189ad7aca22d2106cc",
       "style": "IPY_MODEL_09d51a6b91a64d5d9cd0bedee218950d"
      }
     },
     "eaa92aa91ae04b308ad007dedad58deb": {
      "model_module": "@jupyter-widgets/base",
      "model_module_version": "1.2.0",
      "model_name": "LayoutModel",
      "state": {
       "align_content": "center",
       "justify_content": "center"
      }
     },
     "eabf97fc4b82483ba9266a5a1720d1ff": {
      "model_module": "@jupyter-widgets/base",
      "model_module_version": "1.2.0",
      "model_name": "LayoutModel",
      "state": {}
     },
     "eb1889b353274649bc8733dff0475052": {
      "model_module": "@jupyter-widgets/base",
      "model_module_version": "1.2.0",
      "model_name": "LayoutModel",
      "state": {
       "width": "40px"
      }
     },
     "eb1e2609ecc44ddba0a813203caa0ace": {
      "model_module": "@jupyter-widgets/controls",
      "model_module_version": "1.5.0",
      "model_name": "HBoxModel",
      "state": {
       "children": [
        "IPY_MODEL_51f1df0eb29448c083b7810c9be0746e",
        "IPY_MODEL_5283540b78e24125b5a94e8b50555fb9",
        "IPY_MODEL_5b29f9d654c845029e60a0bad1c1553d"
       ],
       "layout": "IPY_MODEL_bba4b5d6306c44e48f46e67230edb8bb"
      }
     },
     "eb2f1d65582846fcabba8686538860e3": {
      "model_module": "@jupyter-widgets/base",
      "model_module_version": "1.2.0",
      "model_name": "LayoutModel",
      "state": {
       "margin": "0px 0px 0px 10px"
      }
     },
     "eb3ee5d19ed44d9481f83096c7e95aac": {
      "model_module": "@jupyter-widgets/controls",
      "model_module_version": "1.5.0",
      "model_name": "TextModel",
      "state": {
       "description": "line01",
       "layout": "IPY_MODEL_c96f42d5d9e54f1c81a5642f74a35369",
       "placeholder": "[]",
       "style": "IPY_MODEL_64d7cc16cddd423c9429b9dc08076706",
       "value": "print ('shape of features:', iv1.shape)"
      }
     },
     "eb685ea44fa04566b7e96ed4b37ddb44": {
      "model_module": "@jupyter-widgets/controls",
      "model_module_version": "1.5.0",
      "model_name": "TabModel",
      "state": {
       "_titles": {
        "0": "New script",
        "1": "Existing script",
        "2": "Template workflow"
       },
       "children": [
        "IPY_MODEL_75313edee1eb48138bb8eb317a81409b",
        "IPY_MODEL_24bd87513c3a4be7b706e9fb2ed51734",
        "IPY_MODEL_e532331fcfdf4081971929133afc4327"
       ],
       "layout": "IPY_MODEL_5158e5b042364c8e92469bbf102df240",
       "selected_index": 2
      }
     },
     "eb9071b6890144fda3bf889a25079242": {
      "model_module": "@jupyter-widgets/base",
      "model_module_version": "1.2.0",
      "model_name": "LayoutModel",
      "state": {
       "margin": "20px 0px 0px 10px"
      }
     },
     "eb96f19dc41746458c8a3469e2a8d7b5": {
      "model_module": "@jupyter-widgets/controls",
      "model_module_version": "1.5.0",
      "model_name": "TextModel",
      "state": {
       "description": "Type:",
       "disabled": true,
       "layout": "IPY_MODEL_fd907fbfac2d447181f092cdd0719329",
       "style": "IPY_MODEL_3de901362d354aa3ac11e3cd94ac1250"
      }
     },
     "eb997d262b0f48969138ee1fc29b99fb": {
      "model_module": "@jupyter-widgets/controls",
      "model_module_version": "1.5.0",
      "model_name": "HTMLModel",
      "state": {
       "layout": "IPY_MODEL_5e277acebf0d4f5b839b4e22c16cd826",
       "style": "IPY_MODEL_060d859160704b4384fa052055f2f4a3",
       "value": "<b>Wrapper parameters:</b>"
      }
     },
     "ebc82d9914b1414795fe7826ea63f809": {
      "model_module": "@jupyter-widgets/base",
      "model_module_version": "1.2.0",
      "model_name": "LayoutModel",
      "state": {}
     },
     "ebcd6b5ea2b04a239633a22cfe025754": {
      "model_module": "@jupyter-widgets/controls",
      "model_module_version": "1.5.0",
      "model_name": "DescriptionStyleModel",
      "state": {
       "description_width": ""
      }
     },
     "ebce75d14f5d46ef9218952e93762563": {
      "model_module": "@jupyter-widgets/base",
      "model_module_version": "1.2.0",
      "model_name": "LayoutModel",
      "state": {
       "width": "100%"
      }
     },
     "ec06a394b35446e8aa72493ea7d43199": {
      "model_module": "@jupyter-widgets/controls",
      "model_module_version": "1.5.0",
      "model_name": "DropdownModel",
      "state": {
       "_options_labels": [
        "ov1",
        "ov2",
        "ov3",
        "ov4",
        "ov5",
        "ov6"
       ],
       "description": "output token:",
       "index": 0,
       "layout": "IPY_MODEL_4e958eb1eaed4e3c8051dcf1e18d663b",
       "style": "IPY_MODEL_a861568a592943a98f32925de7d4505d"
      }
     },
     "ec342629f40244fa8d270784c00e833c": {
      "model_module": "@jupyter-widgets/base",
      "model_module_version": "1.2.0",
      "model_name": "LayoutModel",
      "state": {
       "margin": "10px 0px 10px 0px"
      }
     },
     "ec420e5c068948d0ad2dffbc069a4640": {
      "model_module": "@jupyter-widgets/controls",
      "model_module_version": "1.5.0",
      "model_name": "HTMLModel",
      "state": {
       "layout": "IPY_MODEL_aaa6a24c53c94110be62ac9813a9f5f6",
       "style": "IPY_MODEL_cb775d44c0f74f65bb037fdda387230c",
       "value": "<b>Requirements:  </b>(('ChemML', '0.6'), ('pandas', '1.1.3'))"
      }
     },
     "ec43d25d9cf14c57b4ffdb396c4cad8a": {
      "model_module": "@jupyter-widgets/base",
      "model_module_version": "1.2.0",
      "model_name": "LayoutModel",
      "state": {
       "width": "40px"
      }
     },
     "ec4a759fbd754886ba1d7273b7386a30": {
      "model_module": "@jupyter-widgets/controls",
      "model_module_version": "1.5.0",
      "model_name": "HTMLModel",
      "state": {
       "layout": "IPY_MODEL_e3d52f94c0f04a7bbc39b1611721c411",
       "style": "IPY_MODEL_7778d7eb52604ee7b95a72c436787b10",
       "value": "<b> >>> </b>"
      }
     },
     "ec5511a748be4266acba1c866d3bc0dd": {
      "model_module": "@jupyter-widgets/controls",
      "model_module_version": "1.5.0",
      "model_name": "DescriptionStyleModel",
      "state": {
       "description_width": ""
      }
     },
     "eca519ad5c094c39ac314d14d834d2f7": {
      "model_module": "@jupyter-widgets/base",
      "model_module_version": "1.2.0",
      "model_name": "LayoutModel",
      "state": {
       "margin": "0px 0px 0px 20px"
      }
     },
     "ecb1691009084c2195ed17ebc0435051": {
      "model_module": "@jupyter-widgets/base",
      "model_module_version": "1.2.0",
      "model_name": "LayoutModel",
      "state": {}
     },
     "ecb4f9c49c0c4057bd0c718ac4307f07": {
      "model_module": "@jupyter-widgets/base",
      "model_module_version": "1.2.0",
      "model_name": "LayoutModel",
      "state": {
       "margin": "0px 0px 0px 10px"
      }
     },
     "eccc3e4a855f48458b0749cdf11a6856": {
      "model_module": "@jupyter-widgets/controls",
      "model_module_version": "1.5.0",
      "model_name": "TextModel",
      "state": {
       "description": "n_eigenvalues",
       "layout": "IPY_MODEL_1a4b7b1e7e4e4d62af590b1708209023",
       "placeholder": "[]",
       "style": "IPY_MODEL_46142e2587224fa0ad9dd5908cf8d371",
       "value": "30"
      }
     },
     "ed5cb47c315245f685e04e448a74b70a": {
      "model_module": "@jupyter-widgets/base",
      "model_module_version": "1.2.0",
      "model_name": "LayoutModel",
      "state": {}
     },
     "ed5fb692a72e41e8a00e327e4d3eb764": {
      "model_module": "@jupyter-widgets/controls",
      "model_module_version": "1.5.0",
      "model_name": "DescriptionStyleModel",
      "state": {
       "description_width": "initial"
      }
     },
     "ed75aa1b08cf4a04a8c02a20dec4eab7": {
      "model_module": "@jupyter-widgets/base",
      "model_module_version": "1.2.0",
      "model_name": "LayoutModel",
      "state": {
       "margin": "10px 0px 10px 180px",
       "width": "110px"
      }
     },
     "ed77a45d487d4491a47883021489e6a0": {
      "model_module": "@jupyter-widgets/controls",
      "model_module_version": "1.5.0",
      "model_name": "DropdownModel",
      "state": {
       "_options_labels": [
        "2",
        "3",
        "4"
       ],
       "description": "block#:",
       "index": 0,
       "layout": "IPY_MODEL_cf202ec2c2ea4402b1f35bf241d13de0",
       "style": "IPY_MODEL_7c868ddccb804d3dba08726b47993ad2"
      }
     },
     "ed7b17e0af4f4a0687259e32b1d4894d": {
      "model_module": "@jupyter-widgets/controls",
      "model_module_version": "1.5.0",
      "model_name": "TextModel",
      "state": {
       "description": "line18",
       "layout": "IPY_MODEL_fc8706d69cd441bb96527bb601c68271",
       "placeholder": "[]",
       "style": "IPY_MODEL_ed5fb692a72e41e8a00e327e4d3eb764",
       "value": "type python code"
      }
     },
     "edc235431ea74499b62d146f4148c092": {
      "model_module": "@jupyter-widgets/controls",
      "model_module_version": "1.5.0",
      "model_name": "TextModel",
      "state": {
       "description": "line15",
       "layout": "IPY_MODEL_830e39315ebf49d3961db86f196c77d6",
       "placeholder": "[]",
       "style": "IPY_MODEL_9a71405c543b4b98ba54e56f8de2ef0c",
       "value": "type python code"
      }
     },
     "ede21a2f8ed04616bbcd7cadddace0e6": {
      "model_module": "@jupyter-widgets/base",
      "model_module_version": "1.2.0",
      "model_name": "LayoutModel",
      "state": {}
     },
     "ede7f8067fba4fdd904e7092e8958b1d": {
      "model_module": "@jupyter-widgets/controls",
      "model_module_version": "1.5.0",
      "model_name": "HBoxModel",
      "state": {
       "children": [
        "IPY_MODEL_9ce0b4690b59440e8a3520f45ce7a2bf",
        "IPY_MODEL_1ecb595a62a842f689d06e8b79851561",
        "IPY_MODEL_ffbc8f05c30446ab96a806b40201f440"
       ],
       "layout": "IPY_MODEL_35bf01148c1e48e6accb0b3895648ff4"
      }
     },
     "edeaf28089d241f3a1ffb8a1365906b2": {
      "model_module": "@jupyter-widgets/base",
      "model_module_version": "1.2.0",
      "model_name": "LayoutModel",
      "state": {
       "margin": "20px 0px 10px 115px"
      }
     },
     "edf0aaea143a44548172939b68e2618b": {
      "model_module": "@jupyter-widgets/base",
      "model_module_version": "1.2.0",
      "model_name": "LayoutModel",
      "state": {
       "margin": "40px 0px 0px 10px",
       "width": "120px"
      }
     },
     "ee0a9dfd11b944d3b9be95a564117c38": {
      "model_module": "@jupyter-widgets/controls",
      "model_module_version": "1.5.0",
      "model_name": "ButtonModel",
      "state": {
       "description": "Add",
       "layout": "IPY_MODEL_020c27573f694aad9eed11c55277389e",
       "style": "IPY_MODEL_3303a5fb15694d289c32233af1f7ce98"
      }
     },
     "ee1f7a316c0841a292fd471a44703383": {
      "model_module": "@jupyter-widgets/base",
      "model_module_version": "1.2.0",
      "model_name": "LayoutModel",
      "state": {
       "width": "40px"
      }
     },
     "ee4cf745fe3a424b9668019ca1372867": {
      "model_module": "@jupyter-widgets/controls",
      "model_module_version": "1.5.0",
      "model_name": "TextModel",
      "state": {
       "description": "line19",
       "layout": "IPY_MODEL_c74ff10cfa7749a4931bcd08a920b37e",
       "placeholder": "[]",
       "style": "IPY_MODEL_e13e08baf8d34e10931dc09c7b5aefda",
       "value": "type python code"
      }
     },
     "ee72a957814a4ba8bc15ea0836fc3f68": {
      "model_module": "@jupyter-widgets/base",
      "model_module_version": "1.2.0",
      "model_name": "LayoutModel",
      "state": {
       "width": "40%"
      }
     },
     "ee90bcb43680475585c6279016853653": {
      "model_module": "@jupyter-widgets/controls",
      "model_module_version": "1.5.0",
      "model_name": "BoxModel",
      "state": {
       "children": [
        "IPY_MODEL_fc90150ac52a494db8367cefa107cb83"
       ],
       "layout": "IPY_MODEL_b6a00948a56f4cf79057f7cfc4e182e7"
      }
     },
     "eed17386c2254db88d3cfd87ba66782a": {
      "model_module": "@jupyter-widgets/base",
      "model_module_version": "1.2.0",
      "model_name": "LayoutModel",
      "state": {
       "align_items": "center",
       "border": "dotted black 1px",
       "height": "40px",
       "justify_content": "center"
      }
     },
     "eef68e1dac5d400386100ee60dd8b541": {
      "model_module": "@jupyter-widgets/controls",
      "model_module_version": "1.5.0",
      "model_name": "DescriptionStyleModel",
      "state": {
       "description_width": ""
      }
     },
     "ef6330e6ed914479b30de38c202d7475": {
      "model_module": "@jupyter-widgets/controls",
      "model_module_version": "1.5.0",
      "model_name": "BoxModel",
      "state": {
       "children": [
        "IPY_MODEL_0634aaa6dce044b6aab15bf308ae4857"
       ],
       "layout": "IPY_MODEL_034cc012b063492e9e25c29dda9370da"
      }
     },
     "ef752d0797f941a09ac9054405e4e1bb": {
      "model_module": "@jupyter-widgets/base",
      "model_module_version": "1.2.0",
      "model_name": "LayoutModel",
      "state": {}
     },
     "ef88bf7b4db64a6fbb69f361f1f96904": {
      "model_module": "@jupyter-widgets/controls",
      "model_module_version": "1.5.0",
      "model_name": "HBoxModel",
      "state": {
       "children": [
        "IPY_MODEL_a79523d71f4f4f6888438d9859a7f6bc"
       ],
       "layout": "IPY_MODEL_1da45633f4704445b0966fce9b1b9e13"
      }
     },
     "efdcc0ffabdc472d92ef8ac453790b42": {
      "model_module": "@jupyter-widgets/controls",
      "model_module_version": "1.5.0",
      "model_name": "DescriptionStyleModel",
      "state": {
       "description_width": "initial"
      }
     },
     "effe7dce636f40fc978505f99a466520": {
      "model_module": "@jupyter-widgets/base",
      "model_module_version": "1.2.0",
      "model_name": "LayoutModel",
      "state": {}
     },
     "f00637fe7e8542f5a8171f018c8f2cd5": {
      "model_module": "@jupyter-widgets/controls",
      "model_module_version": "1.5.0",
      "model_name": "ButtonStyleModel",
      "state": {}
     },
     "f045597011de4619a7d923da4ed08bff": {
      "model_module": "@jupyter-widgets/base",
      "model_module_version": "1.2.0",
      "model_name": "LayoutModel",
      "state": {
       "margin": "10px 0px 0px 10px",
       "width": "50%"
      }
     },
     "f0921faa9786450ba6e62f984cd255f0": {
      "model_module": "@jupyter-widgets/base",
      "model_module_version": "1.2.0",
      "model_name": "LayoutModel",
      "state": {}
     },
     "f0aae2ee00b44b9f8968860b21d2de3a": {
      "model_module": "@jupyter-widgets/controls",
      "model_module_version": "1.5.0",
      "model_name": "DescriptionStyleModel",
      "state": {
       "description_width": ""
      }
     },
     "f0bfed326221440e96d241b816d0fd32": {
      "model_module": "@jupyter-widgets/base",
      "model_module_version": "1.2.0",
      "model_name": "LayoutModel",
      "state": {
       "align_items": "center",
       "justify_content": "space-between",
       "margin": "10px 0px 20px 0px"
      }
     },
     "f0cc2b347212472498c26f36027f3f13": {
      "model_module": "@jupyter-widgets/controls",
      "model_module_version": "1.5.0",
      "model_name": "DescriptionStyleModel",
      "state": {
       "description_width": "initial"
      }
     },
     "f10907de58c04c508cb33f4d09de6b32": {
      "model_module": "@jupyter-widgets/controls",
      "model_module_version": "1.5.0",
      "model_name": "DescriptionStyleModel",
      "state": {
       "description_width": ""
      }
     },
     "f120b588e77d41358d16e23bd563f7d6": {
      "model_module": "@jupyter-widgets/base",
      "model_module_version": "1.2.0",
      "model_name": "LayoutModel",
      "state": {}
     },
     "f126e8bd6123484fa5bc553bee8a615c": {
      "model_module": "@jupyter-widgets/controls",
      "model_module_version": "1.5.0",
      "model_name": "HBoxModel",
      "state": {
       "children": [
        "IPY_MODEL_bcb9c61752ba46f2abc7623d25d6302d",
        "IPY_MODEL_5e26d9ad22e94ee1b99ceeed7f186a07"
       ],
       "layout": "IPY_MODEL_960936a0982f42b0a61bde8f21913537"
      }
     },
     "f1568678d343454b8f7a9be9af2b2ae8": {
      "model_module": "@jupyter-widgets/controls",
      "model_module_version": "1.5.0",
      "model_name": "ButtonModel",
      "state": {
       "description": "Add",
       "layout": "IPY_MODEL_3f8fc57a3ecb479a957725934e8dee3b",
       "style": "IPY_MODEL_4d10710a895d45bda7e744dbed43142e"
      }
     },
     "f1617316bb5a4576a319b7339563a71f": {
      "model_module": "@jupyter-widgets/base",
      "model_module_version": "1.2.0",
      "model_name": "LayoutModel",
      "state": {}
     },
     "f1e0f70323a24449b52382d33d222355": {
      "model_module": "@jupyter-widgets/controls",
      "model_module_version": "1.5.0",
      "model_name": "DescriptionStyleModel",
      "state": {
       "description_width": ""
      }
     },
     "f21f21c415ad49a6a2d24c84ffed3fa3": {
      "model_module": "@jupyter-widgets/controls",
      "model_module_version": "1.5.0",
      "model_name": "HTMLModel",
      "state": {
       "layout": "IPY_MODEL_2d834bb715684462a3dbcec63364dc4a",
       "style": "IPY_MODEL_20b7083c5ff146e0beb3f0652c9a56ba",
       "value": "<b> Receive <<< </b>"
      }
     },
     "f26cbc932c7c475da5e3a40ea2644a2f": {
      "model_module": "@jupyter-widgets/base",
      "model_module_version": "1.2.0",
      "model_name": "LayoutModel",
      "state": {
       "margin": "0px 0px 0px 10px"
      }
     },
     "f27c3a783bf44e008c3e6906afa71db8": {
      "model_module": "@jupyter-widgets/base",
      "model_module_version": "1.2.0",
      "model_name": "LayoutModel",
      "state": {}
     },
     "f27cb4999d574e739e4ba750d9a388b8": {
      "model_module": "@jupyter-widgets/controls",
      "model_module_version": "1.5.0",
      "model_name": "DescriptionStyleModel",
      "state": {
       "description_width": ""
      }
     },
     "f28dcfea9d6246c7a1dd75058dd82d62": {
      "model_module": "@jupyter-widgets/controls",
      "model_module_version": "1.5.0",
      "model_name": "HBoxModel",
      "state": {
       "children": [
        "IPY_MODEL_f60eef11561847d79006025d79de3971",
        "IPY_MODEL_046a86379911482eae28074d212e9771"
       ],
       "layout": "IPY_MODEL_c906dcc872f745f5a0470b52ab3dd4e0"
      }
     },
     "f29529e654524649a6a95dc875c9c970": {
      "model_module": "@jupyter-widgets/base",
      "model_module_version": "1.2.0",
      "model_name": "LayoutModel",
      "state": {}
     },
     "f2a30d126cea41d39dbd4cced371673e": {
      "model_module": "@jupyter-widgets/controls",
      "model_module_version": "1.5.0",
      "model_name": "DropdownModel",
      "state": {
       "_options_labels": [
        "entries"
       ],
       "description": "output token:",
       "index": 0,
       "layout": "IPY_MODEL_9e3dcc0662254a41accbe4f1dcd9d951",
       "style": "IPY_MODEL_72402ca04d00439398e31f16fd584a3a"
      }
     },
     "f2fc5ced742d469d9396086e6cfbce41": {
      "model_module": "@jupyter-widgets/controls",
      "model_module_version": "1.5.0",
      "model_name": "ButtonModel",
      "state": {
       "description": "Add",
       "layout": "IPY_MODEL_b9668a2f0dcf4375a032d5a16b94fdc0",
       "style": "IPY_MODEL_05e413033a0e49979ff45225bfa47f90"
      }
     },
     "f3048d15b51340ee812922115b96eeb5": {
      "model_module": "@jupyter-widgets/base",
      "model_module_version": "1.2.0",
      "model_name": "LayoutModel",
      "state": {
       "align_items": "center",
       "justify_content": "space-between",
       "margin": "10px 0px 20px 0px"
      }
     },
     "f3083ef7725f4ae3a6b4c63eb9958576": {
      "model_module": "@jupyter-widgets/base",
      "model_module_version": "1.2.0",
      "model_name": "LayoutModel",
      "state": {}
     },
     "f312716fd27f46ce8695c96342e423e1": {
      "model_module": "@jupyter-widgets/base",
      "model_module_version": "1.2.0",
      "model_name": "LayoutModel",
      "state": {}
     },
     "f32b0455de534b728d604482dce541f8": {
      "model_module": "@jupyter-widgets/controls",
      "model_module_version": "1.5.0",
      "model_name": "BoxModel",
      "state": {
       "children": [
        "IPY_MODEL_5a0f1bd84d3944b2abe7056a06bc3044"
       ],
       "layout": "IPY_MODEL_2aa24540007849f4bc452a51383eb5d7"
      }
     },
     "f342992232604bd0a4093c24e88002ce": {
      "model_module": "@jupyter-widgets/controls",
      "model_module_version": "1.5.0",
      "model_name": "HTMLModel",
      "state": {
       "layout": "IPY_MODEL_416c985e4952493c891b3a8031d8010f",
       "style": "IPY_MODEL_7b9b82d1835e4fb9ab000228f7fda49b",
       "value": "all input tokens: entries"
      }
     },
     "f39b247851fd4f3096c7280e904082f3": {
      "model_module": "@jupyter-widgets/base",
      "model_module_version": "1.2.0",
      "model_name": "LayoutModel",
      "state": {}
     },
     "f3af74c4a4364acf877145b7c31d7993": {
      "model_module": "@jupyter-widgets/controls",
      "model_module_version": "1.5.0",
      "model_name": "ButtonModel",
      "state": {
       "description": "Add",
       "layout": "IPY_MODEL_7c72795364e046c4af8dbb1298b65532",
       "style": "IPY_MODEL_b0f2c8b6bf7c4b7eafbd8e1368b01eaa"
      }
     },
     "f3baf843cc884c61914766b49760a86a": {
      "model_module": "@jupyter-widgets/controls",
      "model_module_version": "1.5.0",
      "model_name": "HBoxModel",
      "state": {
       "children": [
        "IPY_MODEL_2645b982a9544e369e6d8e3459322c25",
        "IPY_MODEL_9da8837a7b4745c393391f72e99761a6",
        "IPY_MODEL_15c8911a1d7b4e98baf1c1cf5f55e36b"
       ],
       "layout": "IPY_MODEL_cc532b1214b8482297ab22b66cda0897"
      }
     },
     "f3e8e3558fed45c8b8a8d17361b4ce6e": {
      "model_module": "@jupyter-widgets/controls",
      "model_module_version": "1.5.0",
      "model_name": "CheckboxModel",
      "state": {
       "description": "Check to set",
       "disabled": false,
       "indent": false,
       "layout": "IPY_MODEL_0586aae8309441ffbfa5c7e710bfac40",
       "style": "IPY_MODEL_9bf9f2c744064f6db6fa148a50964bec",
       "value": false
      }
     },
     "f3f3854993e44c80aa92a14dafc9ee3c": {
      "model_module": "@jupyter-widgets/controls",
      "model_module_version": "1.5.0",
      "model_name": "HTMLModel",
      "state": {
       "layout": "IPY_MODEL_537cc9fde8e84eb08275c40dc4bc01ed",
       "style": "IPY_MODEL_06dec78b94ad4d18a0fcb1757bcc29f2",
       "value": "<b>Wrapper parameters:</b>"
      }
     },
     "f42be590c47d4eba91a157c6a2474439": {
      "model_module": "@jupyter-widgets/base",
      "model_module_version": "1.2.0",
      "model_name": "LayoutModel",
      "state": {
       "align_items": "center",
       "border": "dotted black 1px",
       "height": "40px",
       "justify_content": "center"
      }
     },
     "f46b9ca2b7bf457ba6c38d2e6d688334": {
      "model_module": "@jupyter-widgets/controls",
      "model_module_version": "1.5.0",
      "model_name": "DescriptionStyleModel",
      "state": {
       "description_width": ""
      }
     },
     "f486b9f0c4f24cbaad0940bb7236c22d": {
      "model_module": "@jupyter-widgets/base",
      "model_module_version": "1.2.0",
      "model_name": "LayoutModel",
      "state": {}
     },
     "f48b3cde33e04f839fed69c7026c74cc": {
      "model_module": "@jupyter-widgets/base",
      "model_module_version": "1.2.0",
      "model_name": "LayoutModel",
      "state": {}
     },
     "f4c2278186c444b7a1bf0e4287c8b57e": {
      "model_module": "@jupyter-widgets/base",
      "model_module_version": "1.2.0",
      "model_name": "LayoutModel",
      "state": {
       "width": "50%"
      }
     },
     "f4c90bfabefb44c6945f729a3127b243": {
      "model_module": "@jupyter-widgets/base",
      "model_module_version": "1.2.0",
      "model_name": "LayoutModel",
      "state": {}
     },
     "f52af55b01924bf194f9afb78683d0e8": {
      "model_module": "@jupyter-widgets/controls",
      "model_module_version": "1.5.0",
      "model_name": "DescriptionStyleModel",
      "state": {
       "description_width": ""
      }
     },
     "f546b8648fb74a0cad335397f07b7e20": {
      "model_module": "@jupyter-widgets/controls",
      "model_module_version": "1.5.0",
      "model_name": "VBoxModel",
      "state": {
       "children": [
        "IPY_MODEL_fcf4d4b165ad4b1ba4bf9df7e30574b1"
       ],
       "layout": "IPY_MODEL_63444e18be3b41d3bdbf8b4d6b3fdb03"
      }
     },
     "f54e8d729fc44d198bd8865c0333fc36": {
      "model_module": "@jupyter-widgets/base",
      "model_module_version": "1.2.0",
      "model_name": "LayoutModel",
      "state": {
       "margin": "40px 0px 0px 10px",
       "width": "120px"
      }
     },
     "f559804c46a84c16bd06b665b2534efa": {
      "model_module": "@jupyter-widgets/controls",
      "model_module_version": "1.5.0",
      "model_name": "ButtonModel",
      "state": {
       "icon": "refresh",
       "layout": "IPY_MODEL_eb1889b353274649bc8733dff0475052",
       "style": "IPY_MODEL_b82596313d3e4ea993b1ed80ee8616bb"
      }
     },
     "f5719844239043d59dfa47361cfc7c29": {
      "model_module": "@jupyter-widgets/controls",
      "model_module_version": "1.5.0",
      "model_name": "HBoxModel",
      "state": {
       "children": [
        "IPY_MODEL_01fbadd222a045ac976260c9ebe63c85",
        "IPY_MODEL_871c594a27aa4d998be6ce3b35d3d2fb"
       ],
       "layout": "IPY_MODEL_ab8fe3c32d7548b9b0a068ce9fe01d12"
      }
     },
     "f5895ce3fce04bd0bb57425cb8b5d1c7": {
      "model_module": "@jupyter-widgets/controls",
      "model_module_version": "1.5.0",
      "model_name": "LabelModel",
      "state": {
       "layout": "IPY_MODEL_9c9f11fb727e458a8f11b42ae7575138",
       "style": "IPY_MODEL_88703257175a432280a346400b8d6d02",
       "value": "Load an existing script"
      }
     },
     "f5958819a3d241bc9b925241565dd1a8": {
      "model_module": "@jupyter-widgets/controls",
      "model_module_version": "1.5.0",
      "model_name": "ButtonStyleModel",
      "state": {
       "button_color": "lightblue"
      }
     },
     "f59c70f396cb41c19c1c03591786fc74": {
      "model_module": "@jupyter-widgets/base",
      "model_module_version": "1.2.0",
      "model_name": "LayoutModel",
      "state": {
       "align_items": "center",
       "border": "dotted black 1px",
       "height": "40px",
       "justify_content": "center"
      }
     },
     "f5ca39037a4c43db8be8fdea43b6f4bc": {
      "model_module": "@jupyter-widgets/base",
      "model_module_version": "1.2.0",
      "model_name": "LayoutModel",
      "state": {
       "width": "40%"
      }
     },
     "f5e7c044038d46039915a57428247331": {
      "model_module": "@jupyter-widgets/controls",
      "model_module_version": "1.5.0",
      "model_name": "ButtonModel",
      "state": {
       "description": "Remove pipe",
       "icon": "remove",
       "layout": "IPY_MODEL_8a2505e70b724db59919b6e41e8a72d5",
       "style": "IPY_MODEL_6b00f8c366e54a338a5965c5286380d2"
      }
     },
     "f5f7fb4e0a464d19b2ff8f26fd90bfc6": {
      "model_module": "@jupyter-widgets/base",
      "model_module_version": "1.2.0",
      "model_name": "LayoutModel",
      "state": {
       "align_content": "center",
       "justify_content": "center"
      }
     },
     "f5fbed5d750643cebdc8a56f155655d0": {
      "model_module": "@jupyter-widgets/controls",
      "model_module_version": "1.5.0",
      "model_name": "HBoxModel",
      "state": {
       "children": [
        "IPY_MODEL_fee64d623d204f418142466ab1f2a414",
        "IPY_MODEL_7f085ecf7e4b4f21aa258de866870c87",
        "IPY_MODEL_afe3bec8067b48e5b22baf0d14242042"
       ],
       "layout": "IPY_MODEL_b5e34b163398423d938539b6083efa92"
      }
     },
     "f60eef11561847d79006025d79de3971": {
      "model_module": "@jupyter-widgets/controls",
      "model_module_version": "1.5.0",
      "model_name": "LabelModel",
      "state": {
       "layout": "IPY_MODEL_5c1dbdddc70d429083fc4dec0fe68e77",
       "style": "IPY_MODEL_110124c8d20a45f489e6b2e0b6adeab3",
       "value": "Template 2: load_xyz_polarizability --> generate BagofBonds features --> save features"
      }
     },
     "f63d7cde9a2d43ad80aa683244cb60f5": {
      "model_module": "@jupyter-widgets/base",
      "model_module_version": "1.2.0",
      "model_name": "LayoutModel",
      "state": {}
     },
     "f6682f133b57465f9f396e0b204fc21d": {
      "model_module": "@jupyter-widgets/controls",
      "model_module_version": "1.5.0",
      "model_name": "ButtonModel",
      "state": {
       "icon": "refresh",
       "layout": "IPY_MODEL_2d821e84860b4cb0aa78f93d71247a74",
       "style": "IPY_MODEL_38570c47fa094ea5a1d62862bce28439"
      }
     },
     "f66d49d958dd48c3ac77677da7147bd6": {
      "model_module": "@jupyter-widgets/base",
      "model_module_version": "1.2.0",
      "model_name": "LayoutModel",
      "state": {}
     },
     "f66ddccd3a48459ca54f33bcb381b690": {
      "model_module": "@jupyter-widgets/base",
      "model_module_version": "1.2.0",
      "model_name": "LayoutModel",
      "state": {
       "width": "40%"
      }
     },
     "f6827f369d7f438da1dea263445fffd7": {
      "model_module": "@jupyter-widgets/base",
      "model_module_version": "1.2.0",
      "model_name": "LayoutModel",
      "state": {
       "margin": "20px 0px 0px 0px",
       "width": "50%"
      }
     },
     "f68369a5be314e5cb4b4357bf9f9ab98": {
      "model_module": "@jupyter-widgets/controls",
      "model_module_version": "1.5.0",
      "model_name": "LabelModel",
      "state": {
       "layout": "IPY_MODEL_c20f413f4b2f4f7ca1aa1fa1902191f5",
       "style": "IPY_MODEL_cb5868dbcabd48269175cf434d387dc1",
       "value": "Template 3: a complete machine learning workflow"
      }
     },
     "f6a3d1f55e24474e971485aa50a47ed5": {
      "model_module": "@jupyter-widgets/base",
      "model_module_version": "1.2.0",
      "model_name": "LayoutModel",
      "state": {
       "margin": "0px 0px 0px 10px"
      }
     },
     "f6a90cb4d7174baeba121a2bb4b4b836": {
      "model_module": "@jupyter-widgets/base",
      "model_module_version": "1.2.0",
      "model_name": "LayoutModel",
      "state": {
       "margin": "0px 10px 0px 0px",
       "width": "60px"
      }
     },
     "f6bece4cade64696b83e2b21bc703131": {
      "model_module": "@jupyter-widgets/controls",
      "model_module_version": "1.5.0",
      "model_name": "BoxModel",
      "state": {
       "children": [
        "IPY_MODEL_ed7b17e0af4f4a0687259e32b1d4894d"
       ],
       "layout": "IPY_MODEL_4fc66c974b724bf08234df9909ce3fb4"
      }
     },
     "f72210ab2258467ab8683a52eec32a7f": {
      "model_module": "@jupyter-widgets/controls",
      "model_module_version": "1.5.0",
      "model_name": "DescriptionStyleModel",
      "state": {
       "description_width": ""
      }
     },
     "f73d9d9d1ce7424ea62eb845697ef67d": {
      "model_module": "@jupyter-widgets/base",
      "model_module_version": "1.2.0",
      "model_name": "LayoutModel",
      "state": {
       "width": "50%"
      }
     },
     "f74159d186b4498283ab6509f4062da3": {
      "model_module": "@jupyter-widgets/base",
      "model_module_version": "1.2.0",
      "model_name": "LayoutModel",
      "state": {
       "margin": "0px 0px 0px 10px"
      }
     },
     "f7aaa29772344b78b5e5f9141aeeb607": {
      "model_module": "@jupyter-widgets/controls",
      "model_module_version": "1.5.0",
      "model_name": "DescriptionStyleModel",
      "state": {
       "description_width": ""
      }
     },
     "f7b9d570c2044bf3b019c2be0b649555": {
      "model_module": "@jupyter-widgets/controls",
      "model_module_version": "1.5.0",
      "model_name": "ButtonModel",
      "state": {
       "icon": "refresh",
       "layout": "IPY_MODEL_2d23bf86fc1a433b99ff3845fd0aaa1f",
       "style": "IPY_MODEL_4fc4598a40d34c988bcc3da3ad50408a"
      }
     },
     "f7bcb9e840fb4e3d93ae3c083e973048": {
      "model_module": "@jupyter-widgets/controls",
      "model_module_version": "1.5.0",
      "model_name": "CheckboxModel",
      "state": {
       "description": "Check to set",
       "disabled": false,
       "indent": false,
       "layout": "IPY_MODEL_5c0d50a48d1c46b287b0000c09ea36e8",
       "style": "IPY_MODEL_f1e0f70323a24449b52382d33d222355",
       "value": false
      }
     },
     "f7c71678d1de4012b9286818494b21bc": {
      "model_module": "@jupyter-widgets/controls",
      "model_module_version": "1.5.0",
      "model_name": "DescriptionStyleModel",
      "state": {
       "description_width": ""
      }
     },
     "f84011d988844e258a6e6579187639ed": {
      "model_module": "@jupyter-widgets/base",
      "model_module_version": "1.2.0",
      "model_name": "LayoutModel",
      "state": {
       "width": "100%"
      }
     },
     "f87f7804ede64c4894097384b35defa4": {
      "model_module": "@jupyter-widgets/controls",
      "model_module_version": "1.5.0",
      "model_name": "TextModel",
      "state": {
       "description": "Type:",
       "disabled": true,
       "layout": "IPY_MODEL_85907e46d8334634a749da6a295166c7",
       "style": "IPY_MODEL_06a05c02b3e444318b2f5618a5f20881"
      }
     },
     "f8ade23562e54a389a01f6a30d6bc819": {
      "model_module": "@jupyter-widgets/base",
      "model_module_version": "1.2.0",
      "model_name": "LayoutModel",
      "state": {
       "width": "100%"
      }
     },
     "f8d6c4d6c82546b9b42a7b23acba70bc": {
      "model_module": "@jupyter-widgets/controls",
      "model_module_version": "1.5.0",
      "model_name": "HBoxModel",
      "state": {
       "children": [
        "IPY_MODEL_a68889ba1a5240fe83d2e61bd858e412",
        "IPY_MODEL_43ce7b8956dc47159e724f5049f327b3"
       ],
       "layout": "IPY_MODEL_2452714c0b484947873dbdadc8db08e1"
      }
     },
     "f904ba20294b42edbba890bc5143f99f": {
      "model_module": "@jupyter-widgets/controls",
      "model_module_version": "1.5.0",
      "model_name": "HBoxModel",
      "state": {
       "children": [
        "IPY_MODEL_3aa8c90e068a4221a3f708f1aba8e824",
        "IPY_MODEL_ae4e7b9699014b7d821fcbaaab777b40",
        "IPY_MODEL_1f9cd7454ae64936bd5d8e39048d8701"
       ],
       "layout": "IPY_MODEL_3b59203ddb394e9a96171157fa9c68b0"
      }
     },
     "f9ab840735ba48c4944508a030c2b0be": {
      "model_module": "@jupyter-widgets/base",
      "model_module_version": "1.2.0",
      "model_name": "LayoutModel",
      "state": {
       "margin": "40px 0px 0px 10px",
       "width": "120px"
      }
     },
     "f9be5b9542a54b60b285567c2773763b": {
      "model_module": "@jupyter-widgets/base",
      "model_module_version": "1.2.0",
      "model_name": "LayoutModel",
      "state": {
       "width": "40px"
      }
     },
     "f9c5a39aad854900ae17eef5541da9ca": {
      "model_module": "@jupyter-widgets/controls",
      "model_module_version": "1.5.0",
      "model_name": "ButtonModel",
      "state": {
       "icon": "refresh",
       "layout": "IPY_MODEL_2ca3e74c6aa04528b4a22e33948ad712",
       "style": "IPY_MODEL_d972cf3e2c064c6bad569e6a9d678b5a"
      }
     },
     "f9dbeda3fbf44dcd8230fcac734c8fa8": {
      "model_module": "@jupyter-widgets/controls",
      "model_module_version": "1.5.0",
      "model_name": "TextModel",
      "state": {
       "description": "Type:",
       "disabled": true,
       "layout": "IPY_MODEL_a863290c4cc34611b8c51cc707d882f6",
       "style": "IPY_MODEL_f27cb4999d574e739e4ba750d9a388b8"
      }
     },
     "fa0ce98ede0943ea894fb6f3223ea26c": {
      "model_module": "@jupyter-widgets/controls",
      "model_module_version": "1.5.0",
      "model_name": "TextModel",
      "state": {
       "description": "Type:",
       "disabled": true,
       "layout": "IPY_MODEL_1d6eff02517541a4877b1ac1a44ff680",
       "style": "IPY_MODEL_913bc4e3328042cc9f409ef117f9df58"
      }
     },
     "fa1305ef37f5425c9acd2486aa058ae8": {
      "model_module": "@jupyter-widgets/controls",
      "model_module_version": "1.5.0",
      "model_name": "ButtonModel",
      "state": {
       "icon": "refresh",
       "layout": "IPY_MODEL_c1fec8cf81834f92b90d817de5aaafcd",
       "style": "IPY_MODEL_b18092210fd54d3bbe91d03c14c58712"
      }
     },
     "fa15b7b4a06e4a4db586165982add4dd": {
      "model_module": "@jupyter-widgets/controls",
      "model_module_version": "1.5.0",
      "model_name": "TextModel",
      "state": {
       "description": "line06",
       "layout": "IPY_MODEL_3f64be2a224f45548f02e227a3b887f4",
       "placeholder": "[]",
       "style": "IPY_MODEL_e469e96a86f34f85943a60388bff94f3",
       "value": "type python code"
      }
     },
     "fa264780582040c58985d682fef542f9": {
      "model_module": "@jupyter-widgets/base",
      "model_module_version": "1.2.0",
      "model_name": "LayoutModel",
      "state": {}
     },
     "fa4c4528efb147c0a0e3794f2aae1f7d": {
      "model_module": "@jupyter-widgets/controls",
      "model_module_version": "1.5.0",
      "model_name": "TextModel",
      "state": {
       "description": "Type:",
       "disabled": true,
       "layout": "IPY_MODEL_d1410d4a7d5143dbb9b8ee0908983e59",
       "style": "IPY_MODEL_a7abd8120c534d39b4de184a42f3fb4a"
      }
     },
     "fa60f37bb13c4defaed21352617ee7f1": {
      "model_module": "@jupyter-widgets/base",
      "model_module_version": "1.2.0",
      "model_name": "LayoutModel",
      "state": {}
     },
     "fa6c523ecaf24f3786ddb0d1262d588b": {
      "model_module": "@jupyter-widgets/controls",
      "model_module_version": "1.5.0",
      "model_name": "DescriptionStyleModel",
      "state": {
       "description_width": ""
      }
     },
     "fa70efdc02634937b0882360871b034f": {
      "model_module": "@jupyter-widgets/base",
      "model_module_version": "1.2.0",
      "model_name": "LayoutModel",
      "state": {}
     },
     "fa7cd111064049469bba0209244893e5": {
      "model_module": "@jupyter-widgets/base",
      "model_module_version": "1.2.0",
      "model_name": "LayoutModel",
      "state": {}
     },
     "faa7de3d5c45496cae8ea3e9ab918384": {
      "model_module": "@jupyter-widgets/controls",
      "model_module_version": "1.5.0",
      "model_name": "ButtonModel",
      "state": {
       "description": "Add",
       "layout": "IPY_MODEL_c3327d560bcb465cac3b10f79eaca651",
       "style": "IPY_MODEL_c695f891962f440a82882d96ac3f638d"
      }
     },
     "fab5a03bf7c546928a071fd5f101a7a8": {
      "model_module": "@jupyter-widgets/base",
      "model_module_version": "1.2.0",
      "model_name": "LayoutModel",
      "state": {
       "align_items": "center",
       "border": "dotted black 1px",
       "height": "40px",
       "margin": "0px 0px 0px 10px"
      }
     },
     "fafc871b60664b7688406063ca33db4c": {
      "model_module": "@jupyter-widgets/controls",
      "model_module_version": "1.5.0",
      "model_name": "HBoxModel",
      "state": {
       "children": [
        "IPY_MODEL_4fc7d18d0b134ab5b9e1f023fb2017f5",
        "IPY_MODEL_775391462c064541b5e2e194478226d7",
        "IPY_MODEL_1cc247b9f8344912923dcac6dcb316f0"
       ],
       "layout": "IPY_MODEL_b73d8f090a5c4dfb89aaa207bf7416ad"
      }
     },
     "fb24790503bd4f6f86a79443089cb763": {
      "model_module": "@jupyter-widgets/controls",
      "model_module_version": "1.5.0",
      "model_name": "TextModel",
      "state": {
       "description": "line16",
       "layout": "IPY_MODEL_6db50191cad043aba7f3d9eea19b8986",
       "placeholder": "[]",
       "style": "IPY_MODEL_f0cc2b347212472498c26f36027f3f13",
       "value": "type python code"
      }
     },
     "fb5cea944ab54454810b40c99193e679": {
      "model_module": "@jupyter-widgets/base",
      "model_module_version": "1.2.0",
      "model_name": "LayoutModel",
      "state": {}
     },
     "fb5da24ce8554bb6a357625e3e90312a": {
      "model_module": "@jupyter-widgets/controls",
      "model_module_version": "1.5.0",
      "model_name": "DescriptionStyleModel",
      "state": {
       "description_width": "initial"
      }
     },
     "fbbe4bbf4fd64267b63d50ed04b67c20": {
      "model_module": "@jupyter-widgets/controls",
      "model_module_version": "1.5.0",
      "model_name": "DescriptionStyleModel",
      "state": {
       "description_width": ""
      }
     },
     "fbd39e17b264408da9cd9337399e3d0b": {
      "model_module": "@jupyter-widgets/controls",
      "model_module_version": "1.5.0",
      "model_name": "DescriptionStyleModel",
      "state": {
       "description_width": ""
      }
     },
     "fbd7e1cd8d6a4140af6eeedcd9b05cc1": {
      "model_module": "@jupyter-widgets/controls",
      "model_module_version": "1.5.0",
      "model_name": "HTMLModel",
      "state": {
       "layout": "IPY_MODEL_c9570e9723fb4128b3dac1f292387f10",
       "style": "IPY_MODEL_0877249290234ab585e0d7d6b06f4114",
       "value": "<b> Receive <<< </b>"
      }
     },
     "fc175d2399414de4a84d60bd72ebc08d": {
      "model_module": "@jupyter-widgets/base",
      "model_module_version": "1.2.0",
      "model_name": "LayoutModel",
      "state": {}
     },
     "fc3937324174461fb6f77d1590e1b941": {
      "model_module": "@jupyter-widgets/base",
      "model_module_version": "1.2.0",
      "model_name": "LayoutModel",
      "state": {
       "width": "140px"
      }
     },
     "fc4ba298867b4ab8b5f335989bd9ebcf": {
      "model_module": "@jupyter-widgets/controls",
      "model_module_version": "1.5.0",
      "model_name": "DescriptionStyleModel",
      "state": {
       "description_width": ""
      }
     },
     "fc54a8a2d6e34cfa849354f2f0083a4b": {
      "model_module": "@jupyter-widgets/controls",
      "model_module_version": "1.5.0",
      "model_name": "CheckboxModel",
      "state": {
       "description": "Check to set",
       "disabled": false,
       "indent": false,
       "layout": "IPY_MODEL_26dd00469d5041b2aabff673dedbbc7f",
       "style": "IPY_MODEL_20b2c414aeea4d1cb5e94b84c6fafcbb",
       "value": false
      }
     },
     "fc5c0f6616ad455da9adf9db453e07f9": {
      "model_module": "@jupyter-widgets/base",
      "model_module_version": "1.2.0",
      "model_name": "LayoutModel",
      "state": {
       "align_items": "center",
       "justify_content": "space-between",
       "margin": "10px 0px 20px 0px"
      }
     },
     "fc601d911f854814b139bf7b63249b85": {
      "model_module": "@jupyter-widgets/base",
      "model_module_version": "1.2.0",
      "model_name": "LayoutModel",
      "state": {
       "margin": "10px 0px 0px 10px",
       "width": "50%"
      }
     },
     "fc8706d69cd441bb96527bb601c68271": {
      "model_module": "@jupyter-widgets/base",
      "model_module_version": "1.2.0",
      "model_name": "LayoutModel",
      "state": {}
     },
     "fc90150ac52a494db8367cefa107cb83": {
      "model_module": "@jupyter-widgets/controls",
      "model_module_version": "1.5.0",
      "model_name": "TextModel",
      "state": {
       "description": "verify_integrity",
       "layout": "IPY_MODEL_606d558413774a2eabeee08a4d82c768",
       "placeholder": "[]",
       "style": "IPY_MODEL_754e20a923684c48b1684d8cbe7b772e",
       "value": "False"
      }
     },
     "fc94570b04dc4931a2fcd67a2a07bf5b": {
      "model_module": "@jupyter-widgets/controls",
      "model_module_version": "1.5.0",
      "model_name": "HBoxModel",
      "state": {
       "children": [
        "IPY_MODEL_7012535333e44bb2b0f082606625ce68",
        "IPY_MODEL_5175c581035c486093ef8a31aca88a6b",
        "IPY_MODEL_85946269352c4392a03d4309cf4e7adf"
       ],
       "layout": "IPY_MODEL_490fdcd2a98b41b3a6f0ae75e2e15b8b"
      }
     },
     "fcb4dd1cb327448aa0a5e8d8053028e5": {
      "model_module": "@jupyter-widgets/controls",
      "model_module_version": "1.5.0",
      "model_name": "DescriptionStyleModel",
      "state": {
       "description_width": ""
      }
     },
     "fcf05372b13343338c2de577cff5a247": {
      "model_module": "@jupyter-widgets/controls",
      "model_module_version": "1.5.0",
      "model_name": "DescriptionStyleModel",
      "state": {
       "description_width": ""
      }
     },
     "fcf0585210bf4cdb8852cf5f75d8eb2c": {
      "model_module": "@jupyter-widgets/controls",
      "model_module_version": "1.5.0",
      "model_name": "DescriptionStyleModel",
      "state": {
       "description_width": "initial"
      }
     },
     "fcf4d4b165ad4b1ba4bf9df7e30574b1": {
      "model_module": "@jupyter-widgets/controls",
      "model_module_version": "1.5.0",
      "model_name": "HTMLModel",
      "state": {
       "layout": "IPY_MODEL_6c62c52ae6c241a08ba1f4ab2f5fd2a1",
       "style": "IPY_MODEL_213080532291469ca5c5da8d5360e2b5",
       "value": "<b>Wrapper parameters:</b>"
      }
     },
     "fd12a0c80c6e431f982c0650ef9add14": {
      "model_module": "@jupyter-widgets/controls",
      "model_module_version": "1.5.0",
      "model_name": "DescriptionStyleModel",
      "state": {
       "description_width": ""
      }
     },
     "fd24ac60953e4d0abf4779cacd91ac55": {
      "model_module": "@jupyter-widgets/controls",
      "model_module_version": "1.5.0",
      "model_name": "HTMLModel",
      "state": {
       "layout": "IPY_MODEL_d23c2b8c500449a7810f02f26e608f6c",
       "style": "IPY_MODEL_9b720a20e5c540499edf96394a319f1e",
       "value": "<b> Note: </b> This page automatically avoid: (1) loops, (2) type inconsistency, and (3) more than one input per token."
      }
     },
     "fd31a3576cf84451a06c2fe7f73b4fbd": {
      "model_module": "@jupyter-widgets/base",
      "model_module_version": "1.2.0",
      "model_name": "LayoutModel",
      "state": {}
     },
     "fd6aed9babf940b19286c8dc4595bfa6": {
      "model_module": "@jupyter-widgets/base",
      "model_module_version": "1.2.0",
      "model_name": "LayoutModel",
      "state": {
       "width": "40%"
      }
     },
     "fd907fbfac2d447181f092cdd0719329": {
      "model_module": "@jupyter-widgets/base",
      "model_module_version": "1.2.0",
      "model_name": "LayoutModel",
      "state": {
       "width": "40%"
      }
     },
     "fdc774faad6047bda4680ccde1e17399": {
      "model_module": "@jupyter-widgets/controls",
      "model_module_version": "1.5.0",
      "model_name": "CheckboxModel",
      "state": {
       "description": "Check to set",
       "disabled": false,
       "indent": false,
       "layout": "IPY_MODEL_f6a3d1f55e24474e971485aa50a47ed5",
       "style": "IPY_MODEL_b0fa9717dee648ee996f01811337e1c5",
       "value": false
      }
     },
     "fdc9399ca53c4b4da77b5e87862b6bdd": {
      "model_module": "@jupyter-widgets/controls",
      "model_module_version": "1.5.0",
      "model_name": "ButtonStyleModel",
      "state": {
       "button_color": "lightblue"
      }
     },
     "fdd8c2c8f63b4ac99458686ad93d5b97": {
      "model_module": "@jupyter-widgets/controls",
      "model_module_version": "1.5.0",
      "model_name": "TextModel",
      "state": {
       "description": "Type:",
       "disabled": true,
       "layout": "IPY_MODEL_1353c1bb491e4028afeb5526e3adac06",
       "style": "IPY_MODEL_343d9685af264c36b8807118ca232323"
      }
     },
     "fdf8cfe5f7aa428488702139cda12308": {
      "model_module": "@jupyter-widgets/base",
      "model_module_version": "1.2.0",
      "model_name": "LayoutModel",
      "state": {}
     },
     "fe06a71f6f314d3cb43fbcefcb50d266": {
      "model_module": "@jupyter-widgets/base",
      "model_module_version": "1.2.0",
      "model_name": "LayoutModel",
      "state": {
       "align_content": "center",
       "justify_content": "center"
      }
     },
     "fe17ca79ed6b449ebb315369a897bdec": {
      "model_module": "@jupyter-widgets/base",
      "model_module_version": "1.2.0",
      "model_name": "LayoutModel",
      "state": {}
     },
     "fe2191cccad3409a8075526d97d7b990": {
      "model_module": "@jupyter-widgets/controls",
      "model_module_version": "1.5.0",
      "model_name": "ButtonStyleModel",
      "state": {
       "button_color": "lightblue"
      }
     },
     "fe2e0069018949c48ead923d3b617e13": {
      "model_module": "@jupyter-widgets/base",
      "model_module_version": "1.2.0",
      "model_name": "LayoutModel",
      "state": {
       "margin": "0px 0px 0px 10px"
      }
     },
     "fe31955f7bce449ca8048d440ab2104e": {
      "model_module": "@jupyter-widgets/base",
      "model_module_version": "1.2.0",
      "model_name": "LayoutModel",
      "state": {
       "margin": "20px 0px 20px 250px"
      }
     },
     "fe55d771bcff4659909184a9267f2042": {
      "model_module": "@jupyter-widgets/controls",
      "model_module_version": "1.5.0",
      "model_name": "DescriptionStyleModel",
      "state": {
       "description_width": ""
      }
     },
     "fe6b07400f22418db9adc39f26b6fc56": {
      "model_module": "@jupyter-widgets/base",
      "model_module_version": "1.2.0",
      "model_name": "LayoutModel",
      "state": {
       "margin": "0px 0px 0px 10px"
      }
     },
     "fe7085e164b0438882b0f0cc0e40190d": {
      "model_module": "@jupyter-widgets/base",
      "model_module_version": "1.2.0",
      "model_name": "LayoutModel",
      "state": {
       "margin": "0px 0px 0px 10px"
      }
     },
     "fe80f45189d4498e93811402cc2860d7": {
      "model_module": "@jupyter-widgets/controls",
      "model_module_version": "1.5.0",
      "model_name": "CheckboxModel",
      "state": {
       "description": "Check to set",
       "disabled": false,
       "indent": false,
       "layout": "IPY_MODEL_724cdd8a414541cb84fcd199b19b605b",
       "style": "IPY_MODEL_6ab661147e574a24a3729557780c9266",
       "value": false
      }
     },
     "febd2fb1a5b44d088493dc606c9441cf": {
      "model_module": "@jupyter-widgets/base",
      "model_module_version": "1.2.0",
      "model_name": "LayoutModel",
      "state": {}
     },
     "fede8797af8b4ec08c30a68c223fd11d": {
      "model_module": "@jupyter-widgets/base",
      "model_module_version": "1.2.0",
      "model_name": "LayoutModel",
      "state": {}
     },
     "fee64d623d204f418142466ab1f2a414": {
      "model_module": "@jupyter-widgets/controls",
      "model_module_version": "1.5.0",
      "model_name": "BoxModel",
      "state": {
       "children": [
        "IPY_MODEL_b4014812c0e84af2914318ad8d8e37b2"
       ],
       "layout": "IPY_MODEL_034256954ee54ec18cb5f77065a53523"
      }
     },
     "fee7ba2a46464d31be5b46172dc9596f": {
      "model_module": "@jupyter-widgets/controls",
      "model_module_version": "1.5.0",
      "model_name": "CheckboxModel",
      "state": {
       "description": "Check to set",
       "disabled": false,
       "indent": false,
       "layout": "IPY_MODEL_af2f9b4927cb4794bdba5d8d956b9542",
       "style": "IPY_MODEL_c9d59ba046ec4df582fdfc3e7a62baa5",
       "value": false
      }
     },
     "feed426db5a240529a6a34426ed3c16e": {
      "model_module": "@jupyter-widgets/base",
      "model_module_version": "1.2.0",
      "model_name": "LayoutModel",
      "state": {}
     },
     "ff0805e34616436ab1a1dec605631391": {
      "model_module": "@jupyter-widgets/controls",
      "model_module_version": "1.5.0",
      "model_name": "ButtonModel",
      "state": {
       "description": "Select",
       "layout": "IPY_MODEL_9da0d08bf33f4510940ee9129ae8ad26",
       "style": "IPY_MODEL_c150270d36074ec3b3d29ce2529cf24d"
      }
     },
     "ff35325298364dde88a70bf10bbd8087": {
      "model_module": "@jupyter-widgets/controls",
      "model_module_version": "1.5.0",
      "model_name": "TextModel",
      "state": {
       "description": "Type:",
       "disabled": true,
       "layout": "IPY_MODEL_031423217a274b8ca9c99bb33b7a3b82",
       "style": "IPY_MODEL_7eba47592c4748d5b7ab4b785ab24e32"
      }
     },
     "ff664c60f7924dd597acf6f9ffed0c04": {
      "model_module": "@jupyter-widgets/controls",
      "model_module_version": "1.5.0",
      "model_name": "HBoxModel",
      "state": {
       "children": [
        "IPY_MODEL_73f60774b35d478b99fcd1bbd1d12970",
        "IPY_MODEL_cc69892241474f48938e42e4c9ef9b11",
        "IPY_MODEL_f87f7804ede64c4894097384b35defa4"
       ],
       "layout": "IPY_MODEL_44df75755625406dae15c17c3d512f9f"
      }
     },
     "ff66959b8aba4fc495b5185ea603c3ae": {
      "model_module": "@jupyter-widgets/controls",
      "model_module_version": "1.5.0",
      "model_name": "ToggleButtonsStyleModel",
      "state": {
       "button_width": "",
       "description_width": ""
      }
     },
     "ff74ea3f3a274f4a88d0688d36f852a7": {
      "model_module": "@jupyter-widgets/controls",
      "model_module_version": "1.5.0",
      "model_name": "HBoxModel",
      "state": {
       "children": [
        "IPY_MODEL_ec06a394b35446e8aa72493ea7d43199"
       ],
       "layout": "IPY_MODEL_2085b68eff9c4ac98a04ab195c134c36"
      }
     },
     "ffb7357a9da6468a83fd01f57aa810e7": {
      "model_module": "@jupyter-widgets/controls",
      "model_module_version": "1.5.0",
      "model_name": "HBoxModel",
      "state": {
       "children": [
        "IPY_MODEL_7ee396a5f10848adbf10fbfc92927881",
        "IPY_MODEL_e45577818a2a4abfaa6810de69d29b00",
        "IPY_MODEL_c3f16db6612c47a6aa3c61b72818e2ac"
       ],
       "layout": "IPY_MODEL_7e6035cda79343598abf437b158d1e55"
      }
     },
     "ffbc8f05c30446ab96a806b40201f440": {
      "model_module": "@jupyter-widgets/controls",
      "model_module_version": "1.5.0",
      "model_name": "TextModel",
      "state": {
       "description": "Type:",
       "disabled": true,
       "layout": "IPY_MODEL_03ecade1c35448eeb863dd575e701d59",
       "style": "IPY_MODEL_56b9776ae6ef4f21ba46b8eb865b59e7"
      }
     },
     "ffcc8c9b16484d8bbce29b68e468528c": {
      "model_module": "@jupyter-widgets/base",
      "model_module_version": "1.2.0",
      "model_name": "LayoutModel",
      "state": {
       "margin": "0px 0px 0px 20px"
      }
     },
     "ffd44de14e3546c4932b78cccacadea1": {
      "model_module": "@jupyter-widgets/controls",
      "model_module_version": "1.5.0",
      "model_name": "DescriptionStyleModel",
      "state": {
       "description_width": ""
      }
     },
     "ffdb3d7bf3cd456b9ab3ef9b82c49bb8": {
      "model_module": "@jupyter-widgets/controls",
      "model_module_version": "1.5.0",
      "model_name": "HBoxModel",
      "state": {
       "layout": "IPY_MODEL_57324160e244496ca4e0a252461bd493"
      }
     },
     "fff9c42b8d9b4208bb615c8035b17309": {
      "model_module": "@jupyter-widgets/base",
      "model_module_version": "1.2.0",
      "model_name": "LayoutModel",
      "state": {
       "align_items": "center",
       "justify_content": "space-between",
       "margin": "10px 0px 20px 0px"
      }
     }
    },
    "version_major": 2,
    "version_minor": 0
   }
  }
 },
 "nbformat": 4,
 "nbformat_minor": 2
}
